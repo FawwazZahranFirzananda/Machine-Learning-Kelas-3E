{
  "cells": [
    {
      "cell_type": "markdown",
      "metadata": {
        "id": "7uhPPw_xv-xJ"
      },
      "source": [
        "# Praktikum 4\n",
        "Klasifikasi dengan ANN"
      ]
    },
    {
      "cell_type": "markdown",
      "metadata": {},
      "source": [
        "## Langkah 1 - Import Library"
      ]
    },
    {
      "cell_type": "code",
      "execution_count": 1,
      "metadata": {
        "id": "t3xwQMjvtc3a"
      },
      "outputs": [],
      "source": [
        "import numpy as np\n",
        "import pandas as pd\n",
        "import tensorflow as tf"
      ]
    },
    {
      "cell_type": "markdown",
      "metadata": {
        "id": "l8j2i20cwJBx"
      },
      "source": [
        "## Langkah 2 - Load Data"
      ]
    },
    {
      "cell_type": "code",
      "execution_count": null,
      "metadata": {
        "id": "uLyfi0N3teHe"
      },
      "outputs": [],
      "source": [
        "dataset = pd.read_csv('Churn_Modelling.csv')\n",
        "X = dataset.iloc[:, 3:-1].values\n",
        "y = dataset.iloc[:, -1].values"
      ]
    },
    {
      "cell_type": "markdown",
      "metadata": {
        "id": "lDIkvAtzwLsR"
      },
      "source": [
        "Cek data (X)"
      ]
    },
    {
      "cell_type": "code",
      "execution_count": 4,
      "metadata": {
        "colab": {
          "base_uri": "https://localhost:8080/"
        },
        "id": "Wm9qmifhvoOb",
        "outputId": "9a8d3c82-e8da-47fd-a550-cdd01b21d1cc"
      },
      "outputs": [
        {
          "name": "stdout",
          "output_type": "stream",
          "text": [
            "[[619 'France' 'Female' ... 1 1 101348.88]\n",
            " [608 'Spain' 'Female' ... 0 1 112542.58]\n",
            " [502 'France' 'Female' ... 1 0 113931.57]\n",
            " ...\n",
            " [709 'France' 'Female' ... 0 1 42085.58]\n",
            " [772 'Germany' 'Male' ... 1 0 92888.52]\n",
            " [792 'France' 'Female' ... 1 0 38190.78]]\n"
          ]
        }
      ],
      "source": [
        "print(X)\n"
      ]
    },
    {
      "cell_type": "markdown",
      "metadata": {
        "id": "0QSyXLXFwNxS"
      },
      "source": [
        "## Langkah 3 - Encoding Data Kategorikal"
      ]
    },
    {
      "cell_type": "code",
      "execution_count": 5,
      "metadata": {
        "id": "tN4gUQXdvq4q"
      },
      "outputs": [],
      "source": [
        "from sklearn.preprocessing import LabelEncoder\n",
        "le = LabelEncoder()\n",
        "X[:, 2] = le.fit_transform(X[:, 2])\n"
      ]
    },
    {
      "cell_type": "markdown",
      "metadata": {
        "id": "NCl9KTIvwQ4B"
      },
      "source": [
        "Cek data (X) dengan print. Hasilnya,"
      ]
    },
    {
      "cell_type": "code",
      "execution_count": 6,
      "metadata": {
        "colab": {
          "base_uri": "https://localhost:8080/"
        },
        "id": "1i73XD9xvuf3",
        "outputId": "841c6617-fbb3-4b12-d5df-373ad197ebb8"
      },
      "outputs": [
        {
          "name": "stdout",
          "output_type": "stream",
          "text": [
            "[[619 'France' 0 ... 1 1 101348.88]\n",
            " [608 'Spain' 0 ... 0 1 112542.58]\n",
            " [502 'France' 0 ... 1 0 113931.57]\n",
            " ...\n",
            " [709 'France' 0 ... 0 1 42085.58]\n",
            " [772 'Germany' 1 ... 1 0 92888.52]\n",
            " [792 'France' 0 ... 1 0 38190.78]]\n"
          ]
        }
      ],
      "source": [
        "print(X)"
      ]
    },
    {
      "cell_type": "markdown",
      "metadata": {
        "id": "hX28_dU3wSt5"
      },
      "source": [
        "## Langkah 4 - Encoding Kolom \"Geography\" dengan One Hot Encoder"
      ]
    },
    {
      "cell_type": "code",
      "execution_count": 7,
      "metadata": {
        "id": "DuKc7yOhvy8F"
      },
      "outputs": [],
      "source": [
        "from sklearn.compose import ColumnTransformer\n",
        "from sklearn.preprocessing import OneHotEncoder\n",
        "ct = ColumnTransformer(transformers=[('encoder', OneHotEncoder(), [1])], remainder='passthrough')\n",
        "X = np.array(ct.fit_transform(X))"
      ]
    },
    {
      "cell_type": "markdown",
      "metadata": {
        "id": "5qVjRTRFwY9Y"
      },
      "source": [
        "Cek data (X) dengan print. Hasilnya,"
      ]
    },
    {
      "cell_type": "code",
      "execution_count": 8,
      "metadata": {
        "colab": {
          "base_uri": "https://localhost:8080/"
        },
        "id": "Vm4PAStJwa_h",
        "outputId": "589f50b8-49c1-434a-c58f-815fc61e7218"
      },
      "outputs": [
        {
          "name": "stdout",
          "output_type": "stream",
          "text": [
            "[[1.0 0.0 0.0 ... 1 1 101348.88]\n",
            " [0.0 0.0 1.0 ... 0 1 112542.58]\n",
            " [1.0 0.0 0.0 ... 1 0 113931.57]\n",
            " ...\n",
            " [1.0 0.0 0.0 ... 0 1 42085.58]\n",
            " [0.0 1.0 0.0 ... 1 0 92888.52]\n",
            " [1.0 0.0 0.0 ... 1 0 38190.78]]\n"
          ]
        }
      ],
      "source": [
        "print(X)"
      ]
    },
    {
      "cell_type": "markdown",
      "metadata": {
        "id": "9gDqF8XBwdUx"
      },
      "source": [
        "## Langkah 5 - Split Data"
      ]
    },
    {
      "cell_type": "code",
      "execution_count": 9,
      "metadata": {
        "id": "d1T8f-slv3H0"
      },
      "outputs": [],
      "source": [
        "from sklearn.model_selection import train_test_split\n",
        "X_train, X_test, y_train, y_test = train_test_split(X, y, test_size = 0.2, random_state = 0)"
      ]
    },
    {
      "cell_type": "markdown",
      "metadata": {
        "id": "_x7OIc9lwfGy"
      },
      "source": [
        "## Langkah 6 - Scaling Fitur"
      ]
    },
    {
      "cell_type": "code",
      "execution_count": 10,
      "metadata": {
        "id": "Jb4J3Eouv5Ok"
      },
      "outputs": [],
      "source": [
        "from sklearn.preprocessing import StandardScaler\n",
        "sc = StandardScaler()\n",
        "X_train = sc.fit_transform(X_train)\n",
        "X_test = sc.transform(X_test)"
      ]
    },
    {
      "cell_type": "markdown",
      "metadata": {
        "id": "jLi3QYPAxEWw"
      },
      "source": [
        "## Membuat Model ANN"
      ]
    },
    {
      "cell_type": "markdown",
      "metadata": {},
      "source": [
        "## Langkah 1 - Inisiasi Model ANN"
      ]
    },
    {
      "cell_type": "code",
      "execution_count": 11,
      "metadata": {
        "id": "Am_HJNwkwiLw"
      },
      "outputs": [],
      "source": [
        "ann = tf.keras.models.Sequential()"
      ]
    },
    {
      "cell_type": "markdown",
      "metadata": {
        "id": "jMkfXSaqxHKI"
      },
      "source": [
        "## Langkah 2 - Membuat Input Layer dan Hidden Layer Pertama"
      ]
    },
    {
      "cell_type": "code",
      "execution_count": 12,
      "metadata": {
        "id": "3bQWqBodxGoU"
      },
      "outputs": [],
      "source": [
        "ann.add(tf.keras.layers.Dense(units=6, activation='relu'))"
      ]
    },
    {
      "cell_type": "markdown",
      "metadata": {
        "id": "E3OIScoRxK85"
      },
      "source": [
        "## Langkah 3 - Membuat Hidden Layer Kedua"
      ]
    },
    {
      "cell_type": "code",
      "execution_count": 13,
      "metadata": {
        "id": "rokDDDLjxKby"
      },
      "outputs": [],
      "source": [
        "ann.add(tf.keras.layers.Dense(units=6, activation='relu'))"
      ]
    },
    {
      "cell_type": "markdown",
      "metadata": {
        "id": "D39pKRADxR5B"
      },
      "source": [
        "## Langkah 4 - Membuat Output Layer"
      ]
    },
    {
      "cell_type": "code",
      "execution_count": 14,
      "metadata": {
        "id": "2EOrLxz5xNfT"
      },
      "outputs": [],
      "source": [
        "ann.add(tf.keras.layers.Dense(units=1, activation='sigmoid'))"
      ]
    },
    {
      "cell_type": "markdown",
      "metadata": {
        "id": "xOMSTemBxWOJ"
      },
      "source": [
        "## Training Model"
      ]
    },
    {
      "cell_type": "markdown",
      "metadata": {},
      "source": [
        "## Langkah 1 - Compile Model (Menyatukan Arsitektur) ANN"
      ]
    },
    {
      "cell_type": "code",
      "execution_count": 15,
      "metadata": {
        "id": "yC6yrZWKxUdM"
      },
      "outputs": [],
      "source": [
        "ann.compile(optimizer = 'adam', loss = 'binary_crossentropy', metrics = ['accuracy'])"
      ]
    },
    {
      "cell_type": "markdown",
      "metadata": {
        "id": "YpEvDOp_xaAp"
      },
      "source": [
        "## Langkah 2 - Fitting Model"
      ]
    },
    {
      "cell_type": "code",
      "execution_count": 16,
      "metadata": {
        "colab": {
          "base_uri": "https://localhost:8080/"
        },
        "id": "ln-xA4XfxYyo",
        "outputId": "e35350f6-5cc8-40ef-e643-241e7f75dfea"
      },
      "outputs": [
        {
          "name": "stdout",
          "output_type": "stream",
          "text": [
            "Epoch 1/100\n",
            "250/250 [==============================] - 1s 969us/step - loss: 0.7370 - accuracy: 0.5200\n",
            "Epoch 2/100\n",
            "250/250 [==============================] - 0s 973us/step - loss: 0.5315 - accuracy: 0.7939\n",
            "Epoch 3/100\n",
            "250/250 [==============================] - 0s 963us/step - loss: 0.4765 - accuracy: 0.7981\n",
            "Epoch 4/100\n",
            "250/250 [==============================] - 0s 952us/step - loss: 0.4458 - accuracy: 0.8046\n",
            "Epoch 5/100\n",
            "250/250 [==============================] - 0s 953us/step - loss: 0.4245 - accuracy: 0.8135\n",
            "Epoch 6/100\n",
            "250/250 [==============================] - 0s 1ms/step - loss: 0.4093 - accuracy: 0.8173\n",
            "Epoch 7/100\n",
            "250/250 [==============================] - 0s 966us/step - loss: 0.3979 - accuracy: 0.8192\n",
            "Epoch 8/100\n",
            "250/250 [==============================] - 0s 959us/step - loss: 0.3888 - accuracy: 0.8205\n",
            "Epoch 9/100\n",
            "250/250 [==============================] - 0s 953us/step - loss: 0.3826 - accuracy: 0.8264\n",
            "Epoch 10/100\n",
            "250/250 [==============================] - 0s 944us/step - loss: 0.3773 - accuracy: 0.8289\n",
            "Epoch 11/100\n",
            "250/250 [==============================] - 0s 993us/step - loss: 0.3727 - accuracy: 0.8299\n",
            "Epoch 12/100\n",
            "250/250 [==============================] - 0s 1ms/step - loss: 0.3688 - accuracy: 0.8291\n",
            "Epoch 13/100\n",
            "250/250 [==============================] - 0s 1ms/step - loss: 0.3658 - accuracy: 0.8306\n",
            "Epoch 14/100\n",
            "250/250 [==============================] - 0s 1ms/step - loss: 0.3632 - accuracy: 0.8310\n",
            "Epoch 15/100\n",
            "250/250 [==============================] - 0s 1ms/step - loss: 0.3608 - accuracy: 0.8309\n",
            "Epoch 16/100\n",
            "250/250 [==============================] - 0s 944us/step - loss: 0.3589 - accuracy: 0.8350\n",
            "Epoch 17/100\n",
            "250/250 [==============================] - 0s 968us/step - loss: 0.3569 - accuracy: 0.8451\n",
            "Epoch 18/100\n",
            "250/250 [==============================] - 0s 984us/step - loss: 0.3553 - accuracy: 0.8480\n",
            "Epoch 19/100\n",
            "250/250 [==============================] - 0s 1ms/step - loss: 0.3537 - accuracy: 0.8486\n",
            "Epoch 20/100\n",
            "250/250 [==============================] - 0s 963us/step - loss: 0.3522 - accuracy: 0.8515\n",
            "Epoch 21/100\n",
            "250/250 [==============================] - 0s 932us/step - loss: 0.3508 - accuracy: 0.8519\n",
            "Epoch 22/100\n",
            "250/250 [==============================] - 0s 1ms/step - loss: 0.3496 - accuracy: 0.8528\n",
            "Epoch 23/100\n",
            "250/250 [==============================] - 0s 927us/step - loss: 0.3483 - accuracy: 0.8549\n",
            "Epoch 24/100\n",
            "250/250 [==============================] - 0s 1ms/step - loss: 0.3468 - accuracy: 0.8545\n",
            "Epoch 25/100\n",
            "250/250 [==============================] - 0s 971us/step - loss: 0.3457 - accuracy: 0.8560\n",
            "Epoch 26/100\n",
            "250/250 [==============================] - 0s 961us/step - loss: 0.3444 - accuracy: 0.8555\n",
            "Epoch 27/100\n",
            "250/250 [==============================] - 0s 935us/step - loss: 0.3432 - accuracy: 0.8590\n",
            "Epoch 28/100\n",
            "250/250 [==============================] - 0s 939us/step - loss: 0.3421 - accuracy: 0.8587\n",
            "Epoch 29/100\n",
            "250/250 [==============================] - 0s 930us/step - loss: 0.3414 - accuracy: 0.8595\n",
            "Epoch 30/100\n",
            "250/250 [==============================] - 0s 978us/step - loss: 0.3405 - accuracy: 0.8602\n",
            "Epoch 31/100\n",
            "250/250 [==============================] - 0s 1ms/step - loss: 0.3394 - accuracy: 0.8611\n",
            "Epoch 32/100\n",
            "250/250 [==============================] - 0s 1ms/step - loss: 0.3385 - accuracy: 0.8597\n",
            "Epoch 33/100\n",
            "250/250 [==============================] - 0s 971us/step - loss: 0.3381 - accuracy: 0.8606\n",
            "Epoch 34/100\n",
            "250/250 [==============================] - 0s 942us/step - loss: 0.3375 - accuracy: 0.8609\n",
            "Epoch 35/100\n",
            "250/250 [==============================] - 0s 933us/step - loss: 0.3372 - accuracy: 0.8586\n",
            "Epoch 36/100\n",
            "250/250 [==============================] - 0s 1ms/step - loss: 0.3368 - accuracy: 0.8580\n",
            "Epoch 37/100\n",
            "250/250 [==============================] - 0s 996us/step - loss: 0.3360 - accuracy: 0.8606\n",
            "Epoch 38/100\n",
            "250/250 [==============================] - 0s 938us/step - loss: 0.3356 - accuracy: 0.8608\n",
            "Epoch 39/100\n",
            "250/250 [==============================] - 0s 984us/step - loss: 0.3352 - accuracy: 0.8602\n",
            "Epoch 40/100\n",
            "250/250 [==============================] - 0s 1ms/step - loss: 0.3350 - accuracy: 0.8611\n",
            "Epoch 41/100\n",
            "250/250 [==============================] - 0s 980us/step - loss: 0.3348 - accuracy: 0.8612\n",
            "Epoch 42/100\n",
            "250/250 [==============================] - 0s 930us/step - loss: 0.3348 - accuracy: 0.8604\n",
            "Epoch 43/100\n",
            "250/250 [==============================] - 0s 952us/step - loss: 0.3344 - accuracy: 0.8604\n",
            "Epoch 44/100\n",
            "250/250 [==============================] - 0s 1ms/step - loss: 0.3339 - accuracy: 0.8601\n",
            "Epoch 45/100\n",
            "250/250 [==============================] - 0s 982us/step - loss: 0.3335 - accuracy: 0.8612\n",
            "Epoch 46/100\n",
            "250/250 [==============================] - 0s 955us/step - loss: 0.3335 - accuracy: 0.8609\n",
            "Epoch 47/100\n",
            "250/250 [==============================] - 0s 1ms/step - loss: 0.3331 - accuracy: 0.8616\n",
            "Epoch 48/100\n",
            "250/250 [==============================] - 0s 1ms/step - loss: 0.3331 - accuracy: 0.8612\n",
            "Epoch 49/100\n",
            "250/250 [==============================] - 0s 1ms/step - loss: 0.3328 - accuracy: 0.8614\n",
            "Epoch 50/100\n",
            "250/250 [==============================] - 0s 1ms/step - loss: 0.3323 - accuracy: 0.8620\n",
            "Epoch 51/100\n",
            "250/250 [==============================] - 0s 1ms/step - loss: 0.3320 - accuracy: 0.8631\n",
            "Epoch 52/100\n",
            "250/250 [==============================] - 0s 1ms/step - loss: 0.3320 - accuracy: 0.8624\n",
            "Epoch 53/100\n",
            "250/250 [==============================] - 0s 1ms/step - loss: 0.3321 - accuracy: 0.8629\n",
            "Epoch 54/100\n",
            "250/250 [==============================] - 0s 1ms/step - loss: 0.3318 - accuracy: 0.8626\n",
            "Epoch 55/100\n",
            "250/250 [==============================] - 0s 955us/step - loss: 0.3315 - accuracy: 0.8620\n",
            "Epoch 56/100\n",
            "250/250 [==============================] - 0s 1ms/step - loss: 0.3317 - accuracy: 0.8621\n",
            "Epoch 57/100\n",
            "250/250 [==============================] - 0s 1ms/step - loss: 0.3312 - accuracy: 0.8626\n",
            "Epoch 58/100\n",
            "250/250 [==============================] - 0s 1ms/step - loss: 0.3311 - accuracy: 0.8624\n",
            "Epoch 59/100\n",
            "250/250 [==============================] - 0s 1ms/step - loss: 0.3309 - accuracy: 0.8633\n",
            "Epoch 60/100\n",
            "250/250 [==============================] - 0s 1ms/step - loss: 0.3309 - accuracy: 0.8618\n",
            "Epoch 61/100\n",
            "250/250 [==============================] - 0s 951us/step - loss: 0.3306 - accuracy: 0.8637\n",
            "Epoch 62/100\n",
            "250/250 [==============================] - 0s 910us/step - loss: 0.3307 - accuracy: 0.8627\n",
            "Epoch 63/100\n",
            "250/250 [==============================] - 0s 1ms/step - loss: 0.3301 - accuracy: 0.8633\n",
            "Epoch 64/100\n",
            "250/250 [==============================] - 0s 989us/step - loss: 0.3303 - accuracy: 0.8621\n",
            "Epoch 65/100\n",
            "250/250 [==============================] - 0s 905us/step - loss: 0.3299 - accuracy: 0.8625\n",
            "Epoch 66/100\n",
            "250/250 [==============================] - 0s 964us/step - loss: 0.3299 - accuracy: 0.8618\n",
            "Epoch 67/100\n",
            "250/250 [==============================] - 0s 1ms/step - loss: 0.3300 - accuracy: 0.8624\n",
            "Epoch 68/100\n",
            "250/250 [==============================] - 0s 1ms/step - loss: 0.3296 - accuracy: 0.8629\n",
            "Epoch 69/100\n",
            "250/250 [==============================] - 0s 957us/step - loss: 0.3294 - accuracy: 0.8629\n",
            "Epoch 70/100\n",
            "250/250 [==============================] - 0s 1ms/step - loss: 0.3292 - accuracy: 0.8629\n",
            "Epoch 71/100\n",
            "250/250 [==============================] - 0s 1ms/step - loss: 0.3287 - accuracy: 0.8625\n",
            "Epoch 72/100\n",
            "250/250 [==============================] - 0s 1ms/step - loss: 0.3288 - accuracy: 0.8630\n",
            "Epoch 73/100\n",
            "250/250 [==============================] - 0s 977us/step - loss: 0.3287 - accuracy: 0.8622\n",
            "Epoch 74/100\n",
            "250/250 [==============================] - 0s 1ms/step - loss: 0.3289 - accuracy: 0.8636\n",
            "Epoch 75/100\n",
            "250/250 [==============================] - 0s 1ms/step - loss: 0.3288 - accuracy: 0.8629\n",
            "Epoch 76/100\n",
            "250/250 [==============================] - 0s 908us/step - loss: 0.3285 - accuracy: 0.8637\n",
            "Epoch 77/100\n",
            "250/250 [==============================] - 0s 922us/step - loss: 0.3286 - accuracy: 0.8640\n",
            "Epoch 78/100\n",
            "250/250 [==============================] - 0s 960us/step - loss: 0.3285 - accuracy: 0.8650\n",
            "Epoch 79/100\n",
            "250/250 [==============================] - 0s 922us/step - loss: 0.3283 - accuracy: 0.8646\n",
            "Epoch 80/100\n",
            "250/250 [==============================] - 0s 1ms/step - loss: 0.3283 - accuracy: 0.8630\n",
            "Epoch 81/100\n",
            "250/250 [==============================] - 0s 1ms/step - loss: 0.3283 - accuracy: 0.8637\n",
            "Epoch 82/100\n",
            "250/250 [==============================] - 0s 984us/step - loss: 0.3282 - accuracy: 0.8646\n",
            "Epoch 83/100\n",
            "250/250 [==============================] - 0s 943us/step - loss: 0.3284 - accuracy: 0.8644\n",
            "Epoch 84/100\n",
            "250/250 [==============================] - 0s 1ms/step - loss: 0.3277 - accuracy: 0.8641\n",
            "Epoch 85/100\n",
            "250/250 [==============================] - 0s 945us/step - loss: 0.3281 - accuracy: 0.8636\n",
            "Epoch 86/100\n",
            "250/250 [==============================] - 0s 939us/step - loss: 0.3278 - accuracy: 0.8643\n",
            "Epoch 87/100\n",
            "250/250 [==============================] - 0s 1ms/step - loss: 0.3275 - accuracy: 0.8646\n",
            "Epoch 88/100\n",
            "250/250 [==============================] - 0s 952us/step - loss: 0.3278 - accuracy: 0.8634\n",
            "Epoch 89/100\n",
            "250/250 [==============================] - 0s 928us/step - loss: 0.3278 - accuracy: 0.8661\n",
            "Epoch 90/100\n",
            "250/250 [==============================] - 0s 924us/step - loss: 0.3279 - accuracy: 0.8654\n",
            "Epoch 91/100\n",
            "250/250 [==============================] - 0s 961us/step - loss: 0.3277 - accuracy: 0.8646\n",
            "Epoch 92/100\n",
            "250/250 [==============================] - 0s 1ms/step - loss: 0.3278 - accuracy: 0.8648\n",
            "Epoch 93/100\n",
            "250/250 [==============================] - 0s 995us/step - loss: 0.3277 - accuracy: 0.8652\n",
            "Epoch 94/100\n",
            "250/250 [==============================] - 0s 1ms/step - loss: 0.3274 - accuracy: 0.8651\n",
            "Epoch 95/100\n",
            "250/250 [==============================] - 0s 1ms/step - loss: 0.3277 - accuracy: 0.8648\n",
            "Epoch 96/100\n",
            "250/250 [==============================] - 0s 941us/step - loss: 0.3274 - accuracy: 0.8640\n",
            "Epoch 97/100\n",
            "250/250 [==============================] - 0s 908us/step - loss: 0.3276 - accuracy: 0.8637\n",
            "Epoch 98/100\n",
            "250/250 [==============================] - 0s 1ms/step - loss: 0.3272 - accuracy: 0.8666\n",
            "Epoch 99/100\n",
            "250/250 [==============================] - 0s 1ms/step - loss: 0.3273 - accuracy: 0.8655\n",
            "Epoch 100/100\n",
            "250/250 [==============================] - 0s 1ms/step - loss: 0.3274 - accuracy: 0.8660\n"
          ]
        },
        {
          "data": {
            "text/plain": [
              "<keras.src.callbacks.History at 0x20bf2385890>"
            ]
          },
          "execution_count": 16,
          "metadata": {},
          "output_type": "execute_result"
        }
      ],
      "source": [
        "ann.fit(X_train, y_train, batch_size = 32, epochs = 100)"
      ]
    },
    {
      "cell_type": "markdown",
      "metadata": {
        "id": "_RvTYwsox09Q"
      },
      "source": [
        "Membuat Prediksi\n",
        "\n",
        "Diberikan informasi sebagai berikut,\n",
        "* Geography: France\n",
        "* Credit Score: 600\n",
        "* Gender: Male\n",
        "* Age: 40 years old\n",
        "* Tenure: 3 years\n",
        "* Balance: 60000\n",
        "* Number of Products: 2\n",
        "* Does this customer have a credit card ? Yes\n",
        "* Is this customer an Active Member: Yes\n",
        "* Estimated Salary: $ 50000\n",
        "\n",
        "Apakah customer tersebut perlu dipertahankan?"
      ]
    },
    {
      "cell_type": "markdown",
      "metadata": {},
      "source": [
        "Modelkan Data Baru dan Buat Prediksi"
      ]
    },
    {
      "cell_type": "code",
      "execution_count": 17,
      "metadata": {
        "colab": {
          "base_uri": "https://localhost:8080/"
        },
        "id": "wsmZYKEzxcHy",
        "outputId": "4ae87d39-d302-4446-9218-77bc88f7f952"
      },
      "outputs": [
        {
          "name": "stdout",
          "output_type": "stream",
          "text": [
            "1/1 [==============================] - 0s 96ms/step\n",
            "[[False]]\n"
          ]
        }
      ],
      "source": [
        "print(ann.predict(sc.transform([[1, 0, 0, 600, 1, 40, 3, 60000, 2, 1, 1, 50000]])) > 0.5)"
      ]
    },
    {
      "cell_type": "markdown",
      "metadata": {
        "id": "s8MTK1GmyMb5"
      },
      "source": [
        "Apakah hasilnya False?\n",
        "- Ya, Hasil yang di dapatkan adalah false dan hal ini menunjukkan bahwa prediksi yang diberikan oleh model memiliki nilai kurang dari atau sama dengan 0,5."
      ]
    },
    {
      "cell_type": "markdown",
      "metadata": {
        "id": "CkEsblisyeWI"
      },
      "source": [
        "Prediksi Dengan Data Testing"
      ]
    },
    {
      "cell_type": "code",
      "execution_count": 18,
      "metadata": {
        "colab": {
          "base_uri": "https://localhost:8080/"
        },
        "id": "F0S-BeZJyIdw",
        "outputId": "373442c9-46e0-40e9-e238-5eca61dd9a92"
      },
      "outputs": [
        {
          "name": "stdout",
          "output_type": "stream",
          "text": [
            " 1/63 [..............................] - ETA: 1s"
          ]
        },
        {
          "name": "stdout",
          "output_type": "stream",
          "text": [
            "63/63 [==============================] - 0s 1ms/step\n",
            "[[0 0]\n",
            " [0 1]\n",
            " [0 0]\n",
            " ...\n",
            " [0 0]\n",
            " [0 0]\n",
            " [0 0]]\n"
          ]
        }
      ],
      "source": [
        "y_pred = ann.predict(X_test)\n",
        "y_pred = (y_pred > 0.5)\n",
        "print(np.concatenate((y_pred.reshape(len(y_pred),1), y_test.reshape(len(y_test),1)),1))"
      ]
    },
    {
      "cell_type": "markdown",
      "metadata": {
        "id": "qUYrE6LByjQo"
      },
      "source": [
        "Cek Akurasi dan Confusion Matrix"
      ]
    },
    {
      "cell_type": "code",
      "execution_count": 19,
      "metadata": {
        "colab": {
          "base_uri": "https://localhost:8080/"
        },
        "id": "bbvsnLHlyhFB",
        "outputId": "468eea1c-965e-4c42-c02e-c8bfef34002c"
      },
      "outputs": [
        {
          "name": "stdout",
          "output_type": "stream",
          "text": [
            "[[1508   87]\n",
            " [ 186  219]]\n"
          ]
        },
        {
          "data": {
            "text/plain": [
              "0.8635"
            ]
          },
          "execution_count": 19,
          "metadata": {},
          "output_type": "execute_result"
        }
      ],
      "source": [
        "from sklearn.metrics import confusion_matrix, accuracy_score\n",
        "cm = confusion_matrix(y_test, y_pred)\n",
        "print(cm)\n",
        "accuracy_score(y_test, y_pred)"
      ]
    }
  ],
  "metadata": {
    "colab": {
      "provenance": [],
      "toc_visible": true
    },
    "kernelspec": {
      "display_name": "Python 3",
      "name": "python3"
    },
    "language_info": {
      "codemirror_mode": {
        "name": "ipython",
        "version": 3
      },
      "file_extension": ".py",
      "mimetype": "text/x-python",
      "name": "python",
      "nbconvert_exporter": "python",
      "pygments_lexer": "ipython3",
      "version": "3.11.4"
    }
  },
  "nbformat": 4,
  "nbformat_minor": 0
}
