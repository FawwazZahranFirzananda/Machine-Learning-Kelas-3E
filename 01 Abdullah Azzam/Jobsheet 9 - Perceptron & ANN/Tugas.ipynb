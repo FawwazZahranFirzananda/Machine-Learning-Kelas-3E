{
  "cells": [
    {
      "cell_type": "markdown",
      "metadata": {
        "id": "hsSmK5kPzFVJ"
      },
      "source": [
        "## **Tugas Praktikum**\n",
        "\n",
        "## Import Library"
      ]
    },
    {
      "cell_type": "code",
      "execution_count": 1,
      "metadata": {
        "id": "A-d1Ej4Dy-7N"
      },
      "outputs": [],
      "source": [
        "import numpy as np\n",
        "import matplotlib.pyplot as plt\n",
        "from sklearn import datasets\n",
        "from sklearn.model_selection import train_test_split\n",
        "from sklearn.naive_bayes import GaussianNB\n",
        "from sklearn.svm import SVC\n",
        "from sklearn.metrics import accuracy_score, classification_report, confusion_matrix\n",
        "from sklearn.datasets import fetch_openml\n",
        "from sklearn.decomposition import PCA as RandomizedPCA\n",
        "from sklearn.pipeline import make_pipeline\n",
        "from sklearn.preprocessing import MinMaxScaler"
      ]
    },
    {
      "cell_type": "code",
      "execution_count": 2,
      "metadata": {
        "colab": {
          "base_uri": "https://localhost:8080/"
        },
        "id": "3COqcAYDzIcO",
        "outputId": "d0ee2031-dde2-412c-90a1-b024ee06e00d"
      },
      "outputs": [
        {
          "name": "stderr",
          "output_type": "stream",
          "text": [
            "c:\\Users\\azzam\\anaconda3\\Lib\\site-packages\\sklearn\\datasets\\_openml.py:1002: FutureWarning: The default value of `parser` will change from `'liac-arff'` to `'auto'` in 1.4. You can set `parser='auto'` to silence this warning. Therefore, an `ImportError` will be raised from 1.4 if the dataset is dense and pandas is not installed. Note that the pandas parser may return different data types. See the Notes Section in fetch_openml's API doc for details.\n",
            "  warn(\n"
          ]
        }
      ],
      "source": [
        "mnist = datasets.fetch_openml(\"mnist_784\")"
      ]
    },
    {
      "cell_type": "code",
      "execution_count": 3,
      "metadata": {
        "colab": {
          "base_uri": "https://localhost:8080/"
        },
        "id": "O4-Vm0fG0KfA",
        "outputId": "106c0808-5483-4891-bb20-b4117ab8ddf6"
      },
      "outputs": [
        {
          "name": "stdout",
          "output_type": "stream",
          "text": [
            "Jumlah sampel: 70000\n",
            "Dimensi setiap sampel: 784\n",
            "Jumlah kelas: 10\n"
          ]
        }
      ],
      "source": [
        "# Melihat dimensi data\n",
        "print(\"Jumlah sampel:\", mnist.data.shape[0])  # Jumlah sampel/data points\n",
        "print(\"Dimensi setiap sampel:\", mnist.data.shape[1])  # Dimensi setiap sampel\n",
        "print(\"Jumlah kelas:\", len(mnist.target.unique()))"
      ]
    },
    {
      "cell_type": "markdown",
      "metadata": {
        "id": "Rmxc0QTL0kDo"
      },
      "source": [
        "## Eksplorasi Dataset"
      ]
    },
    {
      "cell_type": "code",
      "execution_count": 4,
      "metadata": {
        "colab": {
          "base_uri": "https://localhost:8080/",
          "height": 764
        },
        "id": "bI84B8M20g-g",
        "outputId": "991a6fdd-b5a3-40e4-9a53-2ca79f21d22b"
      },
      "outputs": [
        {
          "name": "stdout",
          "output_type": "stream",
          "text": [
            "Jumlah data setiap label:\n",
            "Label 0: 6903 data\n",
            "Label 1: 7877 data\n",
            "Label 2: 6990 data\n",
            "Label 3: 7141 data\n",
            "Label 4: 6824 data\n",
            "Label 5: 6313 data\n",
            "Label 6: 6876 data\n",
            "Label 7: 7293 data\n",
            "Label 8: 6825 data\n",
            "Label 9: 6958 data\n"
          ]
        },
        {
          "data": {
            "image/png": "[encoded data removed]",
            "text/plain": [
              "<Figure size 1000x600 with 1 Axes>"
            ]
          },
          "metadata": {},
          "output_type": "display_data"
        }
      ],
      "source": [
        "# 1. Eksplorasi Dataset\n",
        "labels, counts = np.unique(mnist.target, return_counts=True)\n",
        "print(\"Jumlah data setiap label:\")\n",
        "for label, count in zip(labels, counts):\n",
        "    print(f\"Label {label}: {count} data\")\n",
        "\n",
        "plt.figure(figsize=(10, 6))\n",
        "plt.bar(labels, counts, tick_label=labels)\n",
        "\n",
        "# Adding labels and title\n",
        "plt.xlabel('Label')\n",
        "\n",
        "plt.ylabel('Count')\n",
        "plt.title('Distribution of Labels in MNIST Dataset')\n",
        "\n",
        "# Show the plot\n",
        "plt.show()"
      ]
    },
    {
      "cell_type": "code",
      "execution_count": 5,
      "metadata": {
        "id": "QOkkrTUh0oIP"
      },
      "outputs": [],
      "source": [
        "# Mengambil data dan label\n",
        "X = mnist.data.astype('float32')\n",
        "y = mnist.target.astype('int')"
      ]
    },
    {
      "cell_type": "code",
      "execution_count": 6,
      "metadata": {
        "colab": {
          "base_uri": "https://localhost:8080/"
        },
        "id": "tuaD6GDU0qfR",
        "outputId": "a61e11a0-19c8-49e9-cc0e-07e290974a11"
      },
      "outputs": [
        {
          "data": {
            "text/plain": [
              "(70000, 784)"
            ]
          },
          "execution_count": 6,
          "metadata": {},
          "output_type": "execute_result"
        }
      ],
      "source": [
        "X.shape"
      ]
    },
    {
      "cell_type": "code",
      "execution_count": 7,
      "metadata": {
        "id": "d5dkV5BS0sGQ"
      },
      "outputs": [],
      "source": [
        "scalling = MinMaxScaler()\n",
        "X_scalling = scalling.fit_transform(X)"
      ]
    },
    {
      "cell_type": "code",
      "execution_count": 8,
      "metadata": {
        "colab": {
          "base_uri": "https://localhost:8080/"
        },
        "id": "gqQ1E5wC0uH8",
        "outputId": "5c21af5a-cff0-4cc2-a007-f7d3f4cd2ffe"
      },
      "outputs": [
        {
          "name": "stdout",
          "output_type": "stream",
          "text": [
            "[[0. 0. 0. ... 0. 0. 0.]\n",
            " [0. 0. 0. ... 0. 0. 0.]\n",
            " [0. 0. 0. ... 0. 0. 0.]\n",
            " [0. 0. 0. ... 0. 0. 0.]\n",
            " [0. 0. 0. ... 0. 0. 0.]]\n"
          ]
        }
      ],
      "source": [
        "print(X_scalling[:5])"
      ]
    },
    {
      "cell_type": "markdown",
      "metadata": {
        "id": "_B-hQgIk00NX"
      },
      "source": [
        "## Ekstraksi Fitur dengan PCA\n"
      ]
    },
    {
      "cell_type": "code",
      "execution_count": 9,
      "metadata": {
        "id": "VSw6LYwP0wF7"
      },
      "outputs": [],
      "source": [
        "from sklearn.model_selection import GridSearchCV\n",
        "n_components = 200\n",
        "pca = RandomizedPCA(n_components =n_components, whiten=True, random_state=42)\n",
        "X_pca = pca.fit_transform(X_scalling)"
      ]
    },
    {
      "cell_type": "code",
      "execution_count": 10,
      "metadata": {
        "id": "y4dcfkkv03kG"
      },
      "outputs": [],
      "source": [
        "# Memisahkan data menjadi data pelatihan dan pengujian\n",
        "X_train, X_test, y_train, y_test = train_test_split(X_pca, y, test_size=0.2, random_state=42)"
      ]
    },
    {
      "cell_type": "markdown",
      "metadata": {
        "id": "gY1IErEV1B0n"
      },
      "source": [
        "## Flattening"
      ]
    },
    {
      "cell_type": "code",
      "execution_count": 11,
      "metadata": {
        "id": "ya9em2131AFE"
      },
      "outputs": [],
      "source": [
        "# Flattening data setelah PCA\n",
        "X_flattened = X_pca.reshape(X_pca.shape[0], -1)"
      ]
    },
    {
      "cell_type": "markdown",
      "metadata": {
        "id": "upVHYygM1KMn"
      },
      "source": [
        "## Membuat Model ANN"
      ]
    },
    {
      "cell_type": "code",
      "execution_count": 12,
      "metadata": {
        "id": "onCOXj2R1vAh"
      },
      "outputs": [],
      "source": [
        "import tensorflow as tf\n",
        "from tensorflow import keras"
      ]
    },
    {
      "cell_type": "code",
      "execution_count": 13,
      "metadata": {
        "colab": {
          "base_uri": "https://localhost:8080/"
        },
        "id": "HYzZdMAO1GKz",
        "outputId": "3bde3e92-bcbb-4dca-ff84-c28ba8f4e82e"
      },
      "outputs": [
        {
          "name": "stdout",
          "output_type": "stream",
          "text": [
            "Model: \"sequential\"\n",
            "_________________________________________________________________\n",
            " Layer (type)                Output Shape              Param #   \n",
            "=================================================================\n",
            " flatten (Flatten)           (None, 200)               0         \n",
            "                                                                 \n",
            " dense (Dense)               (None, 128)               25728     \n",
            "                                                                 \n",
            " dense_1 (Dense)             (None, 64)                8256      \n",
            "                                                                 \n",
            " dense_2 (Dense)             (None, 10)                650       \n",
            "                                                                 \n",
            "=================================================================\n",
            "Total params: 34634 (135.29 KB)\n",
            "Trainable params: 34634 (135.29 KB)\n",
            "Non-trainable params: 0 (0.00 Byte)\n",
            "_________________________________________________________________\n"
          ]
        }
      ],
      "source": [
        "import tensorflow as tf\n",
        "from tensorflow import keras\n",
        "\n",
        "# Membuat model ANN\n",
        "model = keras.Sequential([\n",
        "    keras.layers.Flatten(input_shape=(n_components,)),  # Input layer dengan 150 fitur\n",
        "    keras.layers.Dense(128, activation='relu'),  # Hidden layer dengan 128 neuron dan fungsi aktivasi ReLU\n",
        "    keras.layers.Dense(64, activation='relu'),  # Hidden layer dengan 64 neuron dan fungsi aktivasi ReLU\n",
        "    keras.layers.Dense(10, activation='softmax')  # Output layer dengan 10 neuron (sesuai dengan jumlah kelas) dan fungsi aktivasi softmax\n",
        "])\n",
        "\n",
        "# Menampilkan ringkasan model\n",
        "model.summary()"
      ]
    },
    {
      "cell_type": "markdown",
      "metadata": {
        "id": "5l5oR07o2byX"
      },
      "source": [
        "## Training Model\n",
        "\n",
        "## Langkah 1 - Compile Model (Menyatukan Arsitektur) ANN"
      ]
    },
    {
      "cell_type": "code",
      "execution_count": 14,
      "metadata": {
        "id": "IRRlUVTe1MkQ"
      },
      "outputs": [],
      "source": [
        "model.compile(optimizer = 'adam', loss = 'sparse_categorical_crossentropy', metrics = ['accuracy'])"
      ]
    },
    {
      "cell_type": "markdown",
      "metadata": {
        "id": "fqBuKGeN2huG"
      },
      "source": [
        "## Langkah 2 - Fitting Model"
      ]
    },
    {
      "cell_type": "code",
      "execution_count": 15,
      "metadata": {
        "colab": {
          "base_uri": "https://localhost:8080/"
        },
        "id": "uXNIf3Ho2f97",
        "outputId": "15078964-d782-465a-cb52-af0518a4dda0"
      },
      "outputs": [
        {
          "name": "stdout",
          "output_type": "stream",
          "text": [
            "Epoch 1/20\n",
            "700/700 [==============================] - 2s 2ms/step - loss: 0.5882 - accuracy: 0.8234 - val_loss: 0.2410 - val_accuracy: 0.9287\n",
            "Epoch 2/20\n",
            "700/700 [==============================] - 1s 1ms/step - loss: 0.1689 - accuracy: 0.9502 - val_loss: 0.1891 - val_accuracy: 0.9428\n",
            "Epoch 3/20\n",
            "700/700 [==============================] - 1s 2ms/step - loss: 0.1010 - accuracy: 0.9696 - val_loss: 0.1790 - val_accuracy: 0.9463\n",
            "Epoch 4/20\n",
            "700/700 [==============================] - 1s 2ms/step - loss: 0.0627 - accuracy: 0.9824 - val_loss: 0.1723 - val_accuracy: 0.9535\n",
            "Epoch 5/20\n",
            "700/700 [==============================] - 1s 2ms/step - loss: 0.0388 - accuracy: 0.9892 - val_loss: 0.1821 - val_accuracy: 0.9495\n",
            "Epoch 6/20\n",
            "700/700 [==============================] - 1s 2ms/step - loss: 0.0272 - accuracy: 0.9923 - val_loss: 0.1827 - val_accuracy: 0.9543\n",
            "Epoch 7/20\n",
            "700/700 [==============================] - 1s 1ms/step - loss: 0.0169 - accuracy: 0.9957 - val_loss: 0.1916 - val_accuracy: 0.9523\n",
            "Epoch 8/20\n",
            "700/700 [==============================] - 1s 1ms/step - loss: 0.0146 - accuracy: 0.9960 - val_loss: 0.2109 - val_accuracy: 0.9529\n",
            "Epoch 9/20\n",
            "700/700 [==============================] - 1s 1ms/step - loss: 0.0175 - accuracy: 0.9947 - val_loss: 0.2362 - val_accuracy: 0.9513\n",
            "Epoch 10/20\n",
            "700/700 [==============================] - 1s 1ms/step - loss: 0.0202 - accuracy: 0.9931 - val_loss: 0.2244 - val_accuracy: 0.9521\n",
            "Epoch 11/20\n",
            "700/700 [==============================] - 1s 1ms/step - loss: 0.0125 - accuracy: 0.9958 - val_loss: 0.2266 - val_accuracy: 0.9558\n",
            "Epoch 12/20\n",
            "700/700 [==============================] - 1s 1ms/step - loss: 0.0111 - accuracy: 0.9965 - val_loss: 0.2249 - val_accuracy: 0.9577\n",
            "Epoch 13/20\n",
            "700/700 [==============================] - 1s 1ms/step - loss: 0.0092 - accuracy: 0.9972 - val_loss: 0.2282 - val_accuracy: 0.9553\n",
            "Epoch 14/20\n",
            "700/700 [==============================] - 1s 1ms/step - loss: 0.0090 - accuracy: 0.9971 - val_loss: 0.2379 - val_accuracy: 0.9562\n",
            "Epoch 15/20\n",
            "700/700 [==============================] - 1s 1ms/step - loss: 0.0139 - accuracy: 0.9952 - val_loss: 0.2473 - val_accuracy: 0.9532\n",
            "Epoch 16/20\n",
            "700/700 [==============================] - 1s 1ms/step - loss: 0.0099 - accuracy: 0.9967 - val_loss: 0.2479 - val_accuracy: 0.9559\n",
            "Epoch 17/20\n",
            "700/700 [==============================] - 1s 1ms/step - loss: 0.0115 - accuracy: 0.9962 - val_loss: 0.2553 - val_accuracy: 0.9546\n",
            "Epoch 18/20\n",
            "700/700 [==============================] - 1s 2ms/step - loss: 0.0092 - accuracy: 0.9965 - val_loss: 0.2540 - val_accuracy: 0.9550\n",
            "Epoch 19/20\n",
            "700/700 [==============================] - 1s 2ms/step - loss: 0.0049 - accuracy: 0.9984 - val_loss: 0.2494 - val_accuracy: 0.9573\n",
            "Epoch 20/20\n",
            "700/700 [==============================] - 1s 2ms/step - loss: 0.0060 - accuracy: 0.9983 - val_loss: 0.2688 - val_accuracy: 0.9550\n"
          ]
        }
      ],
      "source": [
        "history = model.fit(X_train, y_train, epochs=20, batch_size=64, validation_split=0.2)"
      ]
    },
    {
      "cell_type": "markdown",
      "metadata": {
        "id": "ejuFErlo4kCQ"
      },
      "source": [
        "## Evaluasi"
      ]
    },
    {
      "cell_type": "code",
      "execution_count": 16,
      "metadata": {
        "colab": {
          "base_uri": "https://localhost:8080/"
        },
        "id": "xOYl048X2mWB",
        "outputId": "2c320377-5866-4f1b-de6f-87f0cd13d7fa"
      },
      "outputs": [
        {
          "name": "stdout",
          "output_type": "stream",
          "text": [
            "438/438 [==============================] - 1s 944us/step - loss: 0.3126 - accuracy: 0.9519\n",
            "Akurasi pada data pelatihan:  0.951929\n"
          ]
        }
      ],
      "source": [
        "test_lost, test_acc = model.evaluate(X_test, y_test)\n",
        "print(f\"Akurasi pada data pelatihan: {test_acc: 2f}\")"
      ]
    },
    {
      "cell_type": "code",
      "execution_count": 17,
      "metadata": {
        "colab": {
          "base_uri": "https://localhost:8080/"
        },
        "id": "UEzSzbU44mTW",
        "outputId": "67cb91e2-61ec-46f2-d29f-176c90f0e0d5"
      },
      "outputs": [
        {
          "name": "stdout",
          "output_type": "stream",
          "text": [
            "1750/1750 [==============================] - 2s 986us/step - loss: 0.0612 - accuracy: 0.9887\n",
            "Akurasi pada data pengujian:  0.988714\n"
          ]
        }
      ],
      "source": [
        "rain_lost, train_acc = model.evaluate(X_train, y_train)\n",
        "print(f\"Akurasi pada data pengujian: {train_acc: 2f}\")\n"
      ]
    },
    {
      "cell_type": "code",
      "execution_count": 18,
      "metadata": {
        "colab": {
          "base_uri": "https://localhost:8080/"
        },
        "id": "xHabeupM4nXM",
        "outputId": "628b4872-cba8-47d4-dd80-486d2b5e1cd3"
      },
      "outputs": [
        {
          "name": "stdout",
          "output_type": "stream",
          "text": [
            "438/438 [==============================] - 0s 911us/step\n",
            "Confusion Matrix\n",
            "[[1298    1    4    0    0    9   13    4   11    3]\n",
            " [   0 1571    4    8    2    1    1    3    9    1]\n",
            " [   3   23 1300   11   11    3    4    4   19    2]\n",
            " [   3    7   14 1357    1   29    0    9    6    7]\n",
            " [   3    3    5    0 1238    3    6    5    5   27]\n",
            " [   2    5    2   26    1 1214    5    2    9    7]\n",
            " [   7    1    8    2   12   21 1337    0    8    0]\n",
            " [   3    8   17    9    9    4    1 1423    0   29]\n",
            " [  10    5   11   22    6   16    4    3 1264   16]\n",
            " [   5    4    1   21   29    6    1   17   11 1325]]\n"
          ]
        }
      ],
      "source": [
        "predict = model.predict(X_test)\n",
        "prediction_labels = np.argmax(predict, axis = 1)\n",
        "\n",
        "confusion = confusion_matrix(y_test, prediction_labels)\n",
        "print(\"Confusion Matrix\")\n",
        "print(confusion)"
      ]
    }
  ],
  "metadata": {
    "colab": {
      "provenance": []
    },
    "kernelspec": {
      "display_name": "Python 3",
      "name": "python3"
    },
    "language_info": {
      "codemirror_mode": {
        "name": "ipython",
        "version": 3
      },
      "file_extension": ".py",
      "mimetype": "text/x-python",
      "name": "python",
      "nbconvert_exporter": "python",
      "pygments_lexer": "ipython3",
      "version": "3.11.4"
    }
  },
  "nbformat": 4,
  "nbformat_minor": 0
}
