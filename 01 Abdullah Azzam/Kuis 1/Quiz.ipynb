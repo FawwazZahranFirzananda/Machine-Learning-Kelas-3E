{
 "cells": [
  {
   "cell_type": "markdown",
   "metadata": {},
   "source": [
    "# Kasus - Klasifikasi Tulisan Tangan dengan Dataset MNIST"
   ]
  },
  {
   "cell_type": "markdown",
   "metadata": {},
   "source": [
    "## Deskripsi Umum\n",
    "Anda diminta untuk melakukan klasifikasi dengan menggunakan algoritma Naive Bayes dan SVM untuk merekognisi tulisan tangan dari dataset MNIST"
   ]
  },
  {
   "cell_type": "markdown",
   "metadata": {},
   "source": [
    "## Tentang Dataset MNIST\n",
    "\n",
    "Dataset MNIST (Modified National Institute of Standards and Technology) merupakan dataset berupa citra grayscale dengan ukuran 28x28 yang berisi tulisan tangan dari digit angka 0-9. Jumlah data dalam dataset ini adalah 70.000 data."
   ]
  },
  {
   "cell_type": "markdown",
   "metadata": {},
   "source": [
    "## Detail Kuis\n",
    "\n",
    "1. Pastikan jumlah data setiap label angka (0-9). Apakah terdapat data imbalance pada dataset MNIST yang digunakan? Jelaskan jawaban kelompok Anda dan buktikan!\n",
    "\n",
    "2. Tampilkan 15 buah citra pertama dari dataset MNIST berserta labelnya. Anda dapat menggunakan referensi dari Job Sheet 03.\n",
    "\n",
    "3. Lakukan proses ekstraksi fitur pada data MNIST. Pada proses ini, Anda diperbolehkan untuk\n",
    "    - Langsung menggunakan nilai asli dari citra (nilai asli setiap pixel dari dataset) sebagai fitur.\n",
    "    - Melakukan ekstraksi fitur lain seperti histogram, PCA, atau yang lainnya. Anda diperbolehkan melakukan ekspolarasi pada proses ini.\n",
    "\n",
    "4. Buatlah data training dan data testing menggunakan rasio 70:30, 80:20, 90:10.\n",
    "\n",
    "4. Lakukan proses klasifikasi dengan menggunakan algoritma Naive Bayes dan SVM.\n",
    "   - Anda diperbolehkan untuk melakukan tunning parameter.\n",
    "   - Anda diperbolehkan mengeksplorasi jenis kernel yang digunakan pada SVM.\n",
    "\n",
    "5. Evaluasi model yang Anda buat terhadap data training dan data testing.\n",
    "   - Gunakan metric *accuracy* untuk mengetahui tingkat akurasi data training dan data testing.\n",
    "   - Gunakan fungsi *classification_report* untuk mengetahui performa model secara holistik.\n",
    "   - Gunakan confusion matrix untuk mengetahui tingkat ketepatan pelabelan.\n",
    "\n",
    "6. Tampilkan citra data testing berserta hasil pelabelannya. Anda dapat menggunakan Job Sheet 03 sebagai acuan.\n",
    "\n",
    "7. Apa model terbaik yang Anda dapatkan? Bagaimana konfigurasinya? Berapa tingkat akurasi yang didapatkan? Jelaskan!"
   ]
  },
  {
   "cell_type": "markdown",
   "metadata": {},
   "source": [
    "# Bantuan\n",
    "\n",
    "Berikut merupakan kode bantuan untuk proses mengunduh dataset MNIST"
   ]
  },
  {
   "cell_type": "code",
   "execution_count": 26,
   "metadata": {},
   "outputs": [
    {
     "name": "stderr",
     "output_type": "stream",
     "text": [
      "c:\\Users\\azzam\\anaconda3\\Lib\\site-packages\\sklearn\\datasets\\_openml.py:1002: FutureWarning: The default value of `parser` will change from `'liac-arff'` to `'auto'` in 1.4. You can set `parser='auto'` to silence this warning. Therefore, an `ImportError` will be raised from 1.4 if the dataset is dense and pandas is not installed. Note that the pandas parser may return different data types. See the Notes Section in fetch_openml's API doc for details.\n",
      "  warn(\n"
     ]
    }
   ],
   "source": [
    "# Unduh Dataset MNIST\n",
    "from sklearn.datasets import fetch_openml\n",
    "\n",
    "mnist = fetch_openml('mnist_784')"
   ]
  },
  {
   "cell_type": "code",
   "execution_count": 27,
   "metadata": {},
   "outputs": [
    {
     "name": "stdout",
     "output_type": "stream",
     "text": [
      "**Author**: Yann LeCun, Corinna Cortes, Christopher J.C. Burges  \n",
      "**Source**: [MNIST Website](http://yann.lecun.com/exdb/mnist/) - Date unknown  \n",
      "**Please cite**:  \n",
      "\n",
      "The MNIST database of handwritten digits with 784 features, raw data available at: http://yann.lecun.com/exdb/mnist/. It can be split in a training set of the first 60,000 examples, and a test set of 10,000 examples  \n",
      "\n",
      "It is a subset of a larger set available from NIST. The digits have been size-normalized and centered in a fixed-size image. It is a good database for people who want to try learning techniques and pattern recognition methods on real-world data while spending minimal efforts on preprocessing and formatting. The original black and white (bilevel) images from NIST were size normalized to fit in a 20x20 pixel box while preserving their aspect ratio. The resulting images contain grey levels as a result of the anti-aliasing technique used by the normalization algorithm. the images were centered in a 28x28 image by computing the center of mass of the pixels, and translating the image so as to position this point at the center of the 28x28 field.  \n",
      "\n",
      "With some classification methods (particularly template-based methods, such as SVM and K-nearest neighbors), the error rate improves when the digits are centered by bounding box rather than center of mass. If you do this kind of pre-processing, you should report it in your publications. The MNIST database was constructed from NIST's NIST originally designated SD-3 as their training set and SD-1 as their test set. However, SD-3 is much cleaner and easier to recognize than SD-1. The reason for this can be found on the fact that SD-3 was collected among Census Bureau employees, while SD-1 was collected among high-school students. Drawing sensible conclusions from learning experiments requires that the result be independent of the choice of training set and test among the complete set of samples. Therefore it was necessary to build a new database by mixing NIST's datasets.  \n",
      "\n",
      "The MNIST training set is composed of 30,000 patterns from SD-3 and 30,000 patterns from SD-1. Our test set was composed of 5,000 patterns from SD-3 and 5,000 patterns from SD-1. The 60,000 pattern training set contained examples from approximately 250 writers. We made sure that the sets of writers of the training set and test set were disjoint. SD-1 contains 58,527 digit images written by 500 different writers. In contrast to SD-3, where blocks of data from each writer appeared in sequence, the data in SD-1 is scrambled. Writer identities for SD-1 is available and we used this information to unscramble the writers. We then split SD-1 in two: characters written by the first 250 writers went into our new training set. The remaining 250 writers were placed in our test set. Thus we had two sets with nearly 30,000 examples each. The new training set was completed with enough examples from SD-3, starting at pattern # 0, to make a full set of 60,000 training patterns. Similarly, the new test set was completed with SD-3 examples starting at pattern # 35,000 to make a full set with 60,000 test patterns. Only a subset of 10,000 test images (5,000 from SD-1 and 5,000 from SD-3) is available on this site. The full 60,000 sample training set is available.\n",
      "\n",
      "Downloaded from openml.org.\n"
     ]
    }
   ],
   "source": [
    "# Baca deskripsi dataset\n",
    "# Tahap ini mungkin diperlukan untuk lebih memahami dataset\n",
    "print(mnist.DESCR)"
   ]
  },
  {
   "cell_type": "code",
   "execution_count": 28,
   "metadata": {},
   "outputs": [
    {
     "data": {
      "text/plain": [
       "dict_keys(['data', 'target', 'frame', 'categories', 'feature_names', 'target_names', 'DESCR', 'details', 'url'])"
      ]
     },
     "execution_count": 28,
     "metadata": {},
     "output_type": "execute_result"
    }
   ],
   "source": [
    "# Inspeksi semua key dalam dataset\n",
    "# Cara ini digunakan untuk memahami struktur dari dataset MNIST\n",
    "mnist.keys()"
   ]
  },
  {
   "cell_type": "markdown",
   "metadata": {},
   "source": [
    "# **Nomor 1**"
   ]
  },
  {
   "cell_type": "code",
   "execution_count": 31,
   "metadata": {},
   "outputs": [],
   "source": [
    "import pandas as pd\n",
    "import numpy as np\n",
    "import matplotlib.pyplot as plt"
   ]
  },
  {
   "cell_type": "code",
   "execution_count": 9,
   "metadata": {},
   "outputs": [
    {
     "name": "stdout",
     "output_type": "stream",
     "text": [
      "Jumlah data label ke-0: 6903\n",
      "Jumlah data label ke-1: 7877\n",
      "Jumlah data label ke-2: 6990\n",
      "Jumlah data label ke-3: 7141\n",
      "Jumlah data label ke-4: 6824\n",
      "Jumlah data label ke-5: 6313\n",
      "Jumlah data label ke-6: 6876\n",
      "Jumlah data label ke-7: 7293\n",
      "Jumlah data label ke-8: 6825\n",
      "Jumlah data label ke-9: 6958\n"
     ]
    },
    {
     "data": {
      "image/png": "[encoded data removed]",
      "text/plain": [
       "<Figure size 640x480 with 1 Axes>"
      ]
     },
     "metadata": {},
     "output_type": "display_data"
    }
   ],
   "source": [
    "# Menghitung jumlah data setiap label\n",
    "label_counts = np.bincount(mnist.target.astype(int))\n",
    "\n",
    "# Menampilkan jumlah data setiap label\n",
    "for i in range(10):\n",
    "    print(f\"Jumlah data label ke-{i}: {label_counts[i]}\")\n",
    "\n",
    "# Visualisasi distribusi jumlah data per label\n",
    "plt.bar(range(10), label_counts, tick_label=range(10))\n",
    "plt.xlabel('Digit')\n",
    "plt.ylabel('Jumlah Data')\n",
    "plt.title('Distribusi Jumlah Data per Label')\n",
    "plt.show()"
   ]
  },
  {
   "cell_type": "markdown",
   "metadata": {},
   "source": [
    "# **Nomor 2**"
   ]
  },
  {
   "cell_type": "code",
   "execution_count": 38,
   "metadata": {},
   "outputs": [],
   "source": [
    "# Mengambil data dan target dari dataset MNIST\n",
    "X, y = mnist.data.to_numpy(), mnist.target.astype(int)"
   ]
  },
  {
   "cell_type": "code",
   "execution_count": 39,
   "metadata": {},
   "outputs": [
    {
     "data": {
      "image/png": "[encoded data removed]",
      "text/plain": [
       "<Figure size 1200x600 with 15 Axes>"
      ]
     },
     "metadata": {},
     "output_type": "display_data"
    }
   ],
   "source": [
    "# 2. Menampilkan 15 Citra Pertama\n",
    "plt.figure(figsize=(12, 6))\n",
    "for i in range(15):\n",
    "    plt.subplot(3, 5, i + 1)\n",
    "    plt.imshow(X[i].reshape(28, 28), cmap=\"gray\")\n",
    "    plt.title(f\"Label: {y[i]}\")\n",
    "    plt.axis(\"off\")\n",
    "plt.show()"
   ]
  },
  {
   "cell_type": "markdown",
   "metadata": {},
   "source": [
    "# **Nomor 3**"
   ]
  },
  {
   "cell_type": "code",
   "execution_count": 12,
   "metadata": {},
   "outputs": [],
   "source": [
    "# Menghitung histogram untuk setiap gambar\n",
    "histograms = np.array([np.histogram(image.reshape(28, 28), bins=256, range=(0, 256))[0] for image in X])"
   ]
  },
  {
   "cell_type": "code",
   "execution_count": 13,
   "metadata": {},
   "outputs": [
    {
     "data": {
      "image/png": "[encoded data removed]",
      "text/plain": [
       "<Figure size 1200x800 with 12 Axes>"
      ]
     },
     "metadata": {},
     "output_type": "display_data"
    }
   ],
   "source": [
    "num_images_to_display = 6\n",
    "\n",
    "plt.figure(figsize=(12, 8))\n",
    "\n",
    "for i in range(num_images_to_display):\n",
    "    plt.subplot(3, num_images_to_display, i + 1)\n",
    "    plt.imshow(X[i].reshape(28, 28), cmap='gray')\n",
    "    plt.title(f'Label: {y[i]}')\n",
    "    plt.axis('off')\n",
    "\n",
    "    plt.subplot(3, num_images_to_display, num_images_to_display + i + 1)\n",
    "    plt.plot(histograms[i])\n",
    "    plt.title('Histogram')\n",
    "    plt.xlabel('Pixel Intensity')\n",
    "    plt.ylabel('Frequency')\n",
    "\n",
    "plt.tight_layout()\n",
    "plt.show()"
   ]
  },
  {
   "cell_type": "markdown",
   "metadata": {},
   "source": [
    "# **Nomor 4**"
   ]
  },
  {
   "cell_type": "markdown",
   "metadata": {},
   "source": [
    "* import data"
   ]
  },
  {
   "cell_type": "code",
   "execution_count": 44,
   "metadata": {},
   "outputs": [],
   "source": [
    "from sklearn.model_selection import train_test_split\n",
    "from sklearn.naive_bayes import GaussianNB\n",
    "from sklearn.svm import SVC\n",
    "from sklearn.metrics import accuracy_score\n",
    "from sklearn import datasets\n",
    "\n",
    "naive_bayes = GaussianNB\n",
    "svm = SVC()"
   ]
  },
  {
   "cell_type": "markdown",
   "metadata": {},
   "source": [
    "* Rasio data 70:30"
   ]
  },
  {
   "cell_type": "code",
   "execution_count": 45,
   "metadata": {},
   "outputs": [
    {
     "name": "stdout",
     "output_type": "stream",
     "text": [
      "Data training (70%):\n",
      "X_train shape: (1257, 64)\n",
      "y_train shape: (1257,)\n",
      "\n",
      "Data testing (30%):\n",
      "X_test shape: (540, 64)\n",
      "y_test shape: (540,)\n",
      "\n",
      "Akurasi Naive Bayes: 0.8518518518518519\n",
      "Akurasi SVM: 0.987037037037037\n"
     ]
    }
   ],
   "source": [
    "# Load dataset MNIST\n",
    "digits = datasets.load_digits()\n",
    "\n",
    "# Split dataset into training and testing sets (70:30 ratio)\n",
    "X_train_70, X_test_70, y_train_70, y_test_70 = train_test_split(digits.data, digits.target, test_size=0.3, random_state=42)\n",
    "\n",
    "# Create and train the Naive Bayes classifier\n",
    "naive_bayes = GaussianNB()  # Instantiate the GaussianNB classifier\n",
    "naive_bayes.fit(X_train_70, y_train_70)  # Fit the classifier to the training data\n",
    "\n",
    "# Create and train the SVM classifier\n",
    "svm = SVC()  # Instantiate the SVM classifier\n",
    "svm.fit(X_train_70, y_train_70)  # Fit the classifier to the training data\n",
    "\n",
    "# Predict labels for the test set\n",
    "y_pred_nb = naive_bayes.predict(X_test_70)\n",
    "y_pred_svm = svm.predict(X_test_70)\n",
    "\n",
    "# Calculate accuracies\n",
    "accuracy_nb = accuracy_score(y_test_70, y_pred_nb)\n",
    "accuracy_svm = accuracy_score(y_test_70, y_pred_svm)\n",
    "\n",
    "print(\"Data training (70%):\")\n",
    "print(\"X_train shape:\", X_train_70.shape)\n",
    "print(\"y_train shape:\", y_train_70.shape)\n",
    "print()\n",
    "\n",
    "print(\"Data testing (30%):\")\n",
    "print(\"X_test shape:\", X_test_70.shape)\n",
    "print(\"y_test shape:\", y_test_70.shape)\n",
    "print()\n",
    "\n",
    "# Print accuracies\n",
    "print(\"Akurasi Naive Bayes:\", accuracy_nb)\n",
    "print(\"Akurasi SVM:\", accuracy_svm)"
   ]
  },
  {
   "cell_type": "markdown",
   "metadata": {},
   "source": [
    "* Rasio data 80:20"
   ]
  },
  {
   "cell_type": "code",
   "execution_count": 46,
   "metadata": {},
   "outputs": [
    {
     "name": "stdout",
     "output_type": "stream",
     "text": [
      "Data training (80%):\n",
      "X_train shape: (1437, 64)\n",
      "y_train shape: (1437,)\n",
      "\n",
      "Data testing (20%):\n",
      "X_test shape: (360, 64)\n",
      "y_test shape: (360,)\n",
      "\n",
      "Akurasi Naive Bayes: 0.8472222222222222\n",
      "Akurasi SVM: 0.9861111111111112\n"
     ]
    }
   ],
   "source": [
    "from sklearn.model_selection import train_test_split\n",
    "from sklearn.naive_bayes import GaussianNB\n",
    "from sklearn.svm import SVC\n",
    "from sklearn.metrics import accuracy_score\n",
    "from sklearn import datasets\n",
    "\n",
    "# Load dataset MNIST\n",
    "digits = datasets.load_digits()\n",
    "\n",
    "# Split dataset into training and testing sets (80:20 ratio)\n",
    "X_train_80, X_test_80, y_train_80, y_test_80 = train_test_split(digits.data, digits.target, test_size=0.2, random_state=42)\n",
    "\n",
    "# Create and train the Naive Bayes classifier\n",
    "naive_bayes = GaussianNB()\n",
    "naive_bayes.fit(X_train_80, y_train_80)\n",
    "\n",
    "# Create and train the SVM classifier\n",
    "svm = SVC()\n",
    "svm.fit(X_train_80, y_train_80)\n",
    "\n",
    "# Predict labels for the test set\n",
    "y_pred_nb = naive_bayes.predict(X_test_80)\n",
    "y_pred_svm = svm.predict(X_test_80)\n",
    "\n",
    "# Calculate accuracies\n",
    "accuracy_nb = accuracy_score(y_test_80, y_pred_nb)\n",
    "accuracy_svm = accuracy_score(y_test_80, y_pred_svm)\n",
    "\n",
    "# Print dataset shapes\n",
    "print(\"Data training (80%):\")\n",
    "print(\"X_train shape:\", X_train_80.shape)\n",
    "print(\"y_train shape:\", y_train_80.shape)\n",
    "print()\n",
    "\n",
    "print(\"Data testing (20%):\")\n",
    "print(\"X_test shape:\", X_test_80.shape)\n",
    "print(\"y_test shape:\", y_test_80.shape)\n",
    "print()\n",
    "\n",
    "# Print accuracies\n",
    "print(\"Akurasi Naive Bayes:\", accuracy_nb)\n",
    "print(\"Akurasi SVM:\", accuracy_svm)"
   ]
  },
  {
   "cell_type": "markdown",
   "metadata": {},
   "source": [
    "* Rasio data 90:10"
   ]
  },
  {
   "cell_type": "code",
   "execution_count": 47,
   "metadata": {},
   "outputs": [
    {
     "name": "stdout",
     "output_type": "stream",
     "text": [
      "Data training (90%):\n",
      "X_train shape: (1617, 64)\n",
      "y_train shape: (1617,)\n",
      "\n",
      "Data testing (10%):\n",
      "X_test shape: (180, 64)\n",
      "y_test shape: (180,)\n",
      "\n",
      "Akurasi Naive Bayes: 0.8333333333333334\n",
      "Akurasi SVM: 0.9833333333333333\n"
     ]
    }
   ],
   "source": [
    "from sklearn.model_selection import train_test_split\n",
    "from sklearn.naive_bayes import GaussianNB\n",
    "from sklearn.svm import SVC\n",
    "from sklearn.metrics import accuracy_score\n",
    "from sklearn import datasets\n",
    "\n",
    "# Load dataset MNIST\n",
    "digits = datasets.load_digits()\n",
    "\n",
    "# Split dataset into training and testing sets (90:10 ratio)\n",
    "X_train_90, X_test_90, y_train_90, y_test_90 = train_test_split(digits.data, digits.target, test_size=0.1, random_state=42)\n",
    "\n",
    "# Create and train the Naive Bayes classifier\n",
    "naive_bayes = GaussianNB()\n",
    "naive_bayes.fit(X_train_90, y_train_90)\n",
    "\n",
    "# Create and train the SVM classifier\n",
    "svm = SVC()\n",
    "svm.fit(X_train_90, y_train_90)\n",
    "\n",
    "# Predict labels for the test set\n",
    "y_pred_nb = naive_bayes.predict(X_test_90)\n",
    "y_pred_svm = svm.predict(X_test_90)\n",
    "\n",
    "# Calculate accuracies\n",
    "accuracy_nb = accuracy_score(y_test_90, y_pred_nb)\n",
    "accuracy_svm = accuracy_score(y_test_90, y_pred_svm)\n",
    "\n",
    "# Print dataset shapes\n",
    "print(\"Data training (90%):\")\n",
    "print(\"X_train shape:\", X_train_90.shape)\n",
    "print(\"y_train shape:\", y_train_90.shape)\n",
    "print()\n",
    "\n",
    "print(\"Data testing (10%):\")\n",
    "print(\"X_test shape:\", X_test_90.shape)\n",
    "print(\"y_test shape:\", y_test_90.shape)\n",
    "print()\n",
    "\n",
    "# Print accuracies\n",
    "print(\"Akurasi Naive Bayes:\", accuracy_nb)\n",
    "print(\"Akurasi SVM:\", accuracy_svm)"
   ]
  },
  {
   "cell_type": "markdown",
   "metadata": {},
   "source": [
    "# **Nomor 5**"
   ]
  },
  {
   "cell_type": "markdown",
   "metadata": {},
   "source": [
    "* Naive Bayes Rasio 70:30"
   ]
  },
  {
   "cell_type": "code",
   "execution_count": 54,
   "metadata": {},
   "outputs": [
    {
     "name": "stdout",
     "output_type": "stream",
     "text": [
      "Hasil akurasi data train dengan n-component 16 Naive Bayes (Gaussian): 0.8615751789976134\n",
      "Hasil akurasi data test dengan n-component 16 Naive Bayes (Gaussian): 0.8518518518518519\n"
     ]
    }
   ],
   "source": [
    "from sklearn.naive_bayes import GaussianNB # class untuk model GaussianNB\n",
    "from sklearn.metrics import accuracy_score\n",
    "# Inisiasi obyek Gaussian\n",
    "gnb = GaussianNB()\n",
    "\n",
    "# Kita menggunakan split data training dan testing\n",
    "# yang sama dengan model multinomial\n",
    "\n",
    "# Fit model\n",
    "# Label y harus dalam bentu 1D atau (n_samples,)\n",
    "gnb.fit(X_train_70, y_train_70)\n",
    "\n",
    "# Prediksi dengan data training\n",
    "y_train_pred_gnb_70 = gnb.predict(X_train_70)\n",
    "\n",
    "# Evaluasi akurasi training\n",
    "acc_train_gnb_70 = accuracy_score(y_train_70, y_train_pred_gnb_70)\n",
    "\n",
    "# Prediksi test data\n",
    "y_test_pred_gnb_70 = gnb.predict(X_test_70)\n",
    "\n",
    "# Evaluasi model dengan metric akurasi\n",
    "acc_test_gnb_70 = accuracy_score(y_test_70, y_test_pred_gnb_70)\n",
    "\n",
    "# Print hasil evaluasi\n",
    "print(f'Hasil akurasi data train dengan n-component 16 Naive Bayes (Gaussian): {acc_train_gnb_70}')\n",
    "print(f'Hasil akurasi data test dengan n-component 16 Naive Bayes (Gaussian): {acc_test_gnb_70}')\n"
   ]
  },
  {
   "cell_type": "markdown",
   "metadata": {},
   "source": [
    "* Naive Bayes Rasio 80:20"
   ]
  },
  {
   "cell_type": "code",
   "execution_count": 55,
   "metadata": {},
   "outputs": [
    {
     "name": "stdout",
     "output_type": "stream",
     "text": [
      "Hasil akurasi data train dengan n-component 16 Naive Bayes (Gaussian): 0.8615751789976134\n",
      "Hasil akurasi data test dengan n-component 16 Naive Bayes (Gaussian): 0.8518518518518519\n"
     ]
    }
   ],
   "source": [
    "from sklearn.naive_bayes import GaussianNB # class untuk model GaussianNB\n",
    "from sklearn.metrics import accuracy_score\n",
    "# Inisiasi obyek Gaussian\n",
    "gnb = GaussianNB()\n",
    "\n",
    "# Kita menggunakan split data training dan testing\n",
    "# yang sama dengan model multinomial\n",
    "\n",
    "# Fit model\n",
    "# Label y harus dalam bentu 1D atau (n_samples,)\n",
    "gnb.fit(X_train_70, y_train_70)\n",
    "\n",
    "# Prediksi dengan data training\n",
    "y_train_pred_gnb_70 = gnb.predict(X_train_70)\n",
    "\n",
    "# Evaluasi akurasi training\n",
    "acc_train_gnb_70 = accuracy_score(y_train_70, y_train_pred_gnb_70)\n",
    "\n",
    "# Prediksi test data\n",
    "y_test_pred_gnb_70 = gnb.predict(X_test_70)\n",
    "\n",
    "# Evaluasi model dengan metric akurasi\n",
    "acc_test_gnb_70 = accuracy_score(y_test_70, y_test_pred_gnb_70)\n",
    "\n",
    "# Print hasil evaluasi\n",
    "print(f'Hasil akurasi data train dengan n-component 16 Naive Bayes (Gaussian): {acc_train_gnb_70}')\n",
    "print(f'Hasil akurasi data test dengan n-component 16 Naive Bayes (Gaussian): {acc_test_gnb_70}')\n"
   ]
  },
  {
   "cell_type": "markdown",
   "metadata": {},
   "source": [
    "* Naive Bayes Rasio 90:10"
   ]
  },
  {
   "cell_type": "code",
   "execution_count": 56,
   "metadata": {},
   "outputs": [
    {
     "name": "stdout",
     "output_type": "stream",
     "text": [
      "Hasil akurasi data train dengan n-component 16 (Gaussian): 0.8589981447124304\n",
      "Hasil akurasi data test dengan n-component 16 (Gaussian): 0.8333333333333334\n"
     ]
    }
   ],
   "source": [
    "from sklearn.naive_bayes import GaussianNB # class untuk model GaussianNB\n",
    "\n",
    "# Inisiasi obyek Gaussian\n",
    "gnb = GaussianNB()\n",
    "\n",
    "# Kita menggunakan split data training dan testing\n",
    "# yang sama dengan model multinomial\n",
    "\n",
    "# Fit model\n",
    "# Label y harus dalam bentu 1D atau (n_samples,)\n",
    "gnb.fit(X_train_90, y_train_90)\n",
    "\n",
    "# Prediksi dengan data training\n",
    "y_train_pred_gnb_90 = gnb.predict(X_train_90)\n",
    "\n",
    "# Evaluasi akurasi training\n",
    "acc_train_gnb_90 = accuracy_score(y_train_90, y_train_pred_gnb_90)\n",
    "\n",
    "# Prediksi test data\n",
    "y_test_pred_gnb_90 = gnb.predict(X_test_90)\n",
    "\n",
    "# Evaluasi model dengan metric akurasi\n",
    "acc_test_gnb_90 = accuracy_score(y_test_90, y_test_pred_gnb_90)\n",
    "\n",
    "# Print hasil evaluasi\n",
    "print(f'Hasil akurasi data train dengan n-component 16 (Gaussian): {acc_train_gnb_90}')\n",
    "print(f'Hasil akurasi data test dengan n-component 16 (Gaussian): {acc_test_gnb_90}')"
   ]
  },
  {
   "cell_type": "markdown",
   "metadata": {},
   "source": [
    "* SVM Rasio 70:30"
   ]
  },
  {
   "cell_type": "code",
   "execution_count": 61,
   "metadata": {},
   "outputs": [
    {
     "name": "stdout",
     "output_type": "stream",
     "text": [
      "Akurasi SVM pada Data Training: 0.9968178202068417\n",
      "Akurasi SVM pada Data Testing: 0.987037037037037\n"
     ]
    }
   ],
   "source": [
    "\n",
    "# Inisialisasi model SVM dengan kernel RBF\n",
    "svm_rbf_model = SVC(kernel='rbf', C=1.0)\n",
    "\n",
    "# Latih model SVM pada data training\n",
    "svm_rbf_model.fit(X_train_70, y_train_70)\n",
    "\n",
    "# Prediksi label untuk data training dan data testing\n",
    "y_train_pred_svm = svm_rbf_model.predict(X_train_70)\n",
    "y_test_pred_svm = svm_rbf_model.predict(X_test_70)\n",
    "\n",
    "# Evaluasi performa model SVM\n",
    "accuracy_train_svm = accuracy_score(y_train_70, y_train_pred_svm)\n",
    "accuracy_test_svm = accuracy_score(y_test_70, y_test_pred_svm)\n",
    "\n",
    "print(\"Akurasi SVM pada Data Training:\", accuracy_train_svm)\n",
    "print(\"Akurasi SVM pada Data Testing:\", accuracy_test_svm)"
   ]
  },
  {
   "cell_type": "markdown",
   "metadata": {},
   "source": [
    "* SVM Rasio 80:20"
   ]
  },
  {
   "cell_type": "code",
   "execution_count": 62,
   "metadata": {},
   "outputs": [
    {
     "name": "stdout",
     "output_type": "stream",
     "text": [
      "Akurasi SVM pada Data Training: 0.9965205288796103\n",
      "Akurasi SVM pada Data Testing: 0.9861111111111112\n"
     ]
    }
   ],
   "source": [
    "from sklearn.svm import SVC\n",
    "from sklearn.metrics import accuracy_score\n",
    "\n",
    "# Inisialisasi model SVM dengan kernel RBF\n",
    "svm_rbf_model = SVC(kernel='rbf', C=1.0)\n",
    "\n",
    "# Latih model SVM pada data training\n",
    "svm_rbf_model.fit(X_train_80, y_train_80)\n",
    "\n",
    "# Prediksi label untuk data training dan data testing\n",
    "y_train_pred_svm = svm_rbf_model.predict(X_train_80)\n",
    "y_test_pred_svm = svm_rbf_model.predict(X_test_80)\n",
    "\n",
    "# Evaluasi performa model SVM\n",
    "accuracy_train_svm = accuracy_score(y_train_80, y_train_pred_svm)\n",
    "accuracy_test_svm = accuracy_score(y_test_80, y_test_pred_svm)\n",
    "\n",
    "print(\"Akurasi SVM pada Data Training:\", accuracy_train_svm)\n",
    "print(\"Akurasi SVM pada Data Testing:\", accuracy_test_svm)"
   ]
  },
  {
   "cell_type": "markdown",
   "metadata": {},
   "source": [
    "* SVM Rasio 90:10"
   ]
  },
  {
   "cell_type": "code",
   "execution_count": 59,
   "metadata": {},
   "outputs": [
    {
     "name": "stdout",
     "output_type": "stream",
     "text": [
      "Akurasi SVM pada Data Training: 0.9969078540507111\n",
      "Akurasi SVM pada Data Testing: 0.9833333333333333\n"
     ]
    }
   ],
   "source": [
    "# Inisialisasi model SVM dengan kernel RBF\n",
    "svm_rbf_model = SVC(kernel='rbf', C=1.0)\n",
    "\n",
    "# Latih model SVM pada data training\n",
    "svm_rbf_model.fit(X_train_90, y_train_90)\n",
    "\n",
    "# Prediksi label untuk data training dan data testing\n",
    "y_train_pred_svm = svm_rbf_model.predict(X_train_90)\n",
    "y_test_pred_svm = svm_rbf_model.predict(X_test_90)\n",
    "\n",
    "# Evaluasi performa model SVM\n",
    "accuracy_train_svm = accuracy_score(y_train_90, y_train_pred_svm)\n",
    "accuracy_test_svm = accuracy_score(y_test_90, y_test_pred_svm)\n",
    "\n",
    "print(\"Akurasi SVM pada Data Training:\", accuracy_train_svm)\n",
    "print(\"Akurasi SVM pada Data Testing:\", accuracy_test_svm)"
   ]
  },
  {
   "cell_type": "markdown",
   "metadata": {},
   "source": [
    "# **Nomor 6**"
   ]
  },
  {
   "cell_type": "code",
   "execution_count": 64,
   "metadata": {},
   "outputs": [
    {
     "name": "stderr",
     "output_type": "stream",
     "text": [
      "c:\\Users\\azzam\\anaconda3\\Lib\\site-packages\\sklearn\\datasets\\_openml.py:1002: FutureWarning: The default value of `parser` will change from `'liac-arff'` to `'auto'` in 1.4. You can set `parser='auto'` to silence this warning. Therefore, an `ImportError` will be raised from 1.4 if the dataset is dense and pandas is not installed. Note that the pandas parser may return different data types. See the Notes Section in fetch_openml's API doc for details.\n",
      "  warn(\n"
     ]
    },
    {
     "name": "stdout",
     "output_type": "stream",
     "text": [
      "Akurasi Naive Bayes: 0.5264285714285715\n",
      "Laporan Klasifikasi Naive Bayes:\n",
      "              precision    recall  f1-score   support\n",
      "\n",
      "           0       0.57      0.94      0.71      2058\n",
      "           1       0.82      0.95      0.88      2364\n",
      "           2       0.85      0.22      0.36      2133\n",
      "           3       0.71      0.26      0.38      2176\n",
      "           4       0.83      0.08      0.14      1936\n",
      "           5       0.43      0.02      0.04      1915\n",
      "           6       0.66      0.94      0.78      2088\n",
      "           7       0.92      0.23      0.37      2248\n",
      "           8       0.28      0.59      0.38      1992\n",
      "           9       0.36      0.96      0.53      2090\n",
      "\n",
      "    accuracy                           0.53     21000\n",
      "   macro avg       0.64      0.52      0.45     21000\n",
      "weighted avg       0.65      0.53      0.46     21000\n",
      "\n",
      "Akurasi SVM: 0.92\n",
      "Laporan Klasifikasi SVM:\n",
      "              precision    recall  f1-score   support\n",
      "\n",
      "           0       0.95      0.97      0.96      2058\n",
      "           1       0.95      0.98      0.96      2364\n",
      "           2       0.89      0.90      0.89      2133\n",
      "           3       0.88      0.91      0.89      2176\n",
      "           4       0.91      0.94      0.93      1936\n",
      "           5       0.89      0.88      0.89      1915\n",
      "           6       0.96      0.94      0.95      2088\n",
      "           7       0.94      0.94      0.94      2248\n",
      "           8       0.92      0.85      0.88      1992\n",
      "           9       0.92      0.88      0.90      2090\n",
      "\n",
      "    accuracy                           0.92     21000\n",
      "   macro avg       0.92      0.92      0.92     21000\n",
      "weighted avg       0.92      0.92      0.92     21000\n",
      "\n"
     ]
    }
   ],
   "source": [
    "from sklearn.datasets import fetch_openml\n",
    "from sklearn.model_selection import train_test_split\n",
    "from sklearn.preprocessing import StandardScaler\n",
    "from sklearn.naive_bayes import GaussianNB\n",
    "from sklearn.svm import SVC\n",
    "from sklearn.metrics import accuracy_score, classification_report\n",
    "\n",
    "# Mendapatkan dataset MNIST\n",
    "mnist = fetch_openml(\"mnist_784\", version=1)\n",
    "\n",
    "# Memisahkan fitur (X) dan label (y)\n",
    "X, y = mnist.data.to_numpy(), mnist.target.astype(int)\n",
    "\n",
    "# Membagi data dengan rasio 70:30, 80:20, 90:10\n",
    "X_train_70, X_test_70, y_train_70, y_test_70 = train_test_split(X, y, test_size=0.3, random_state=42)\n",
    "X_train_80, X_test_80, y_train_80, y_test_80 = train_test_split(X, y, test_size=0.2, random_state=42)\n",
    "X_train_90, X_test_90, y_train_90, y_test_90 = train_test_split(X, y, test_size=0.1, random_state=42)\n",
    "\n",
    "# Menggunakan StandardScaler untuk mengubah fitur\n",
    "scaler = StandardScaler()\n",
    "X_train_70 = scaler.fit_transform(X_train_70)\n",
    "X_test_70 = scaler.transform(X_test_70)\n",
    "X_train_80 = scaler.fit_transform(X_train_80)\n",
    "X_test_80 = scaler.transform(X_test_80)\n",
    "X_train_90 = scaler.fit_transform(X_train_90)\n",
    "X_test_90 = scaler.transform(X_test_90)\n",
    "\n",
    "# Latih model Naive Bayes dengan GaussianNB\n",
    "nb_model = GaussianNB()\n",
    "nb_model.fit(X_train_70, y_train_70)\n",
    "\n",
    "# Predict pada data testing\n",
    "y_pred_nb = nb_model.predict(X_test_70)\n",
    "\n",
    "# Evaluasi kinerja Naive Bayes\n",
    "accuracy_nb = accuracy_score(y_test_70, y_pred_nb)\n",
    "print(\"Akurasi Naive Bayes:\", accuracy_nb)\n",
    "print(\"Laporan Klasifikasi Naive Bayes:\")\n",
    "print(classification_report(y_test_70, y_pred_nb))\n",
    "\n",
    "# Latih model SVM\n",
    "svc_model = SVC(kernel=\"linear\")\n",
    "svc_model.fit(X_train_70, y_train_70)\n",
    "\n",
    "# Predict pada data testing\n",
    "y_pred_svc = svc_model.predict(X_test_70)\n",
    "\n",
    "# Evaluasi kinerja SVM\n",
    "accuracy_svc = accuracy_score(y_test_70, y_pred_svc)\n",
    "print(\"Akurasi SVM:\", accuracy_svc)\n",
    "print(\"Laporan Klasifikasi SVM:\")\n",
    "print(classification_report(y_test_70, y_pred_svc))"
   ]
  },
  {
   "cell_type": "markdown",
   "metadata": {},
   "source": [
    "# **Nomor 8**"
   ]
  },
  {
   "cell_type": "markdown",
   "metadata": {},
   "source": [
    "**Support Vector Machine (SVM)**\n",
    "- SVM(70:30): Akurasi SVM = 0.987037037037037\n",
    "- SVM(80:20): Akurasi SVM = 0.9861111111111112\n",
    "- SVM(90:10): Akurasi SVM = 0.9833333333333333\n",
    "\n",
    "**Naive Bayes**\n",
    "- NaiveBayes(70:30): Akurasi data uji = 0.8518518518518519\n",
    "- NaiveBayes2(80:20): Akurasi data uji = 0.8518518518518519\n",
    "- NaiveBayes3(90:10): Akurasi data uji = 0.8333333333333334\n",
    "\n",
    "Dari hasil di atas, terlihat bahwa SVM mengungguli Naive Bayes dalam semua tiga konfigurasi yang berbeda. Oleh karena itu, SVM adalah model terbaik dalam kasus ini."
   ]
  }
 ],
 "metadata": {
  "kernelspec": {
   "display_name": "base",
   "language": "python",
   "name": "python3"
  },
  "language_info": {
   "codemirror_mode": {
    "name": "ipython",
    "version": 3
   },
   "file_extension": ".py",
   "mimetype": "text/x-python",
   "name": "python",
   "nbconvert_exporter": "python",
   "pygments_lexer": "ipython3",
   "version": "3.11.4"
  }
 },
 "nbformat": 4,
 "nbformat_minor": 2
}
