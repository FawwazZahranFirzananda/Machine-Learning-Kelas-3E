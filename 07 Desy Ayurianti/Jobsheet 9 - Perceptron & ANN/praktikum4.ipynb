{
 "cells": [
  {
   "cell_type": "markdown",
   "metadata": {},
   "source": []
  },
  {
   "cell_type": "markdown",
   "metadata": {},
   "source": [
    "# Praktikum 4 - Klasifikasi dengan ANN"
   ]
  },
  {
   "cell_type": "markdown",
   "metadata": {},
   "source": [
    "**Pra Pengolahan Data**"
   ]
  },
  {
   "cell_type": "markdown",
   "metadata": {},
   "source": [
    "**Langkah 1 - Import Library**"
   ]
  },
  {
   "cell_type": "code",
   "execution_count": 18,
   "metadata": {},
   "outputs": [],
   "source": [
    "import numpy as np #untuk proses dat anumerik\n",
    "import pandas as pd #untuk manipulasi data\n",
    "import tensorflow as tf #untuk pengembangan ANN dan deep learning"
   ]
  },
  {
   "cell_type": "markdown",
   "metadata": {},
   "source": [
    "**Langkah 2 - Load Data**"
   ]
  },
  {
   "cell_type": "code",
   "execution_count": 19,
   "metadata": {},
   "outputs": [],
   "source": [
    "dataset = pd.read_csv('Churn_Modelling.csv') # read data\n",
    "X = dataset.iloc[:, 3:-1].values #ambil dat dari datses untuk fitur dengan memilih kolom yang dimulai dari kolom ke-3 sampai kolom kedua terakhir\n",
    "y = dataset.iloc[:, -1].values #ambil kolom terakhir sebagai target"
   ]
  },
  {
   "cell_type": "code",
   "execution_count": 20,
   "metadata": {},
   "outputs": [
    {
     "name": "stdout",
     "output_type": "stream",
     "text": [
      "[[619 'France' 'Female' ... 1 1 101348.88]\n",
      " [608 'Spain' 'Female' ... 0 1 112542.58]\n",
      " [502 'France' 'Female' ... 1 0 113931.57]\n",
      " ...\n",
      " [709 'France' 'Female' ... 0 1 42085.58]\n",
      " [772 'Germany' 'Male' ... 1 0 92888.52]\n",
      " [792 'France' 'Female' ... 1 0 38190.78]]\n"
     ]
    }
   ],
   "source": [
    "print(X)"
   ]
  },
  {
   "cell_type": "markdown",
   "metadata": {},
   "source": [
    "**Keterangan**\n",
    "1. Tiap baris mewakili satu baris speerti dalam file CSV\n",
    "2. Tiap kolom dalam matriks mewakili salah satu fitur dari data. fiur diambil dari kolom ke-3 hingga kedua terakhir\n",
    "3. Angka dan teks dalam matriks adalah nilai dari atribut "
   ]
  },
  {
   "cell_type": "markdown",
   "metadata": {},
   "source": [
    "**Keterangan**\n",
    "\n"
   ]
  },
  {
   "cell_type": "markdown",
   "metadata": {},
   "source": [
    "**Langkah 3 - Encoding Data Kategorikal**"
   ]
  },
  {
   "cell_type": "code",
   "execution_count": 21,
   "metadata": {},
   "outputs": [
    {
     "name": "stdout",
     "output_type": "stream",
     "text": [
      "[[619 'France' 0 ... 1 1 101348.88]\n",
      " [608 'Spain' 0 ... 0 1 112542.58]\n",
      " [502 'France' 0 ... 1 0 113931.57]\n",
      " ...\n",
      " [709 'France' 0 ... 0 1 42085.58]\n",
      " [772 'Germany' 1 ... 1 0 92888.52]\n",
      " [792 'France' 0 ... 1 0 38190.78]]\n"
     ]
    }
   ],
   "source": [
    "from sklearn.preprocessing import LabelEncoder #untuk ubah data labe jadi data numerik \n",
    "le = LabelEncoder() #buat objek LabelEncoder yang digunkan untuk melakukan transformasi \n",
    "X[:, 2] = le.fit_transform(X[:, 2])#ambil kolom keduda dari fitur X dan mengubahnya nilai dari kolom tsb menjadai bilanagan bulat\n",
    "print(X)"
   ]
  },
  {
   "cell_type": "markdown",
   "metadata": {},
   "source": [
    "**Keterangan**\n",
    "\n",
    "Dari matrik dapat terlihat perbedaan dari hasil matrik seblumnya, nilai matrik saat ini pada kolom 2 nilainya sudah dirubah menjadi bilangan bulat 0 dan 1 yang diconvert dari male dan female."
   ]
  },
  {
   "cell_type": "markdown",
   "metadata": {},
   "source": [
    "**Langkah 4 - Encoding Kolom \"Geography\" dengan One Hot Encoder**"
   ]
  },
  {
   "cell_type": "code",
   "execution_count": 22,
   "metadata": {},
   "outputs": [
    {
     "name": "stdout",
     "output_type": "stream",
     "text": [
      "[[1.0 0.0 0.0 ... 1 1 101348.88]\n",
      " [0.0 0.0 1.0 ... 0 1 112542.58]\n",
      " [1.0 0.0 0.0 ... 1 0 113931.57]\n",
      " ...\n",
      " [1.0 0.0 0.0 ... 0 1 42085.58]\n",
      " [0.0 1.0 0.0 ... 1 0 92888.52]\n",
      " [1.0 0.0 0.0 ... 1 0 38190.78]]\n"
     ]
    }
   ],
   "source": [
    "from sklearn.compose import ColumnTransformer #untuk gabungkan beberapa transformasi kolom dalam satu proses \n",
    "from sklearn.preprocessing import OneHotEncoder #untuk ubah data kategori jadi representasi biner yang disebut one-hot encoding(jadi vektor biner yang panjangnya sama dengan jumlah kategori yang unik)\n",
    "\n",
    "\n",
    "#buat objek yang akan menjalankan OneHotEncoder pada kolom ke-1 dari matriks X\n",
    "#remainder='passthrough' untuk memertahankan kolom lang agar tidak ikut berubah\n",
    "ct = ColumnTransformer(transformers=[('encoder', OneHotEncoder(), [1])], remainder='passthrough')\n",
    "X = np.array(ct.fit_transform(X))#use objek untuk ubah matriks X \n",
    "print(X)"
   ]
  },
  {
   "cell_type": "markdown",
   "metadata": {},
   "source": [
    "**Keterangan**\n",
    "\n",
    "Dari matrik tersebut, OneHotEncoder sudah berhasil dijalankan yang ditunjukkan pada kolom bagian negara nerubah menjadi nilai biner "
   ]
  },
  {
   "cell_type": "markdown",
   "metadata": {},
   "source": [
    "**Langkah 5 - Split Data**"
   ]
  },
  {
   "cell_type": "code",
   "execution_count": 23,
   "metadata": {},
   "outputs": [],
   "source": [
    "from sklearn.model_selection import train_test_split #untuk bagi dataset\n",
    "X_train, X_test, y_train, y_test = train_test_split(X, y, test_size = 0.2, random_state = 0) #bagi data menjadi 4 subset, X adalah data matriks fitur, y adalah array label, 20% dari data digunakan untuk data uji. "
   ]
  },
  {
   "cell_type": "markdown",
   "metadata": {},
   "source": [
    "**Langkah 6 - Scaling Fitur**"
   ]
  },
  {
   "cell_type": "code",
   "execution_count": 24,
   "metadata": {},
   "outputs": [],
   "source": [
    "from sklearn.preprocessing import StandardScaler #untuk penskalaan \n",
    "sc = StandardScaler() #buat objek StandarScaler\n",
    "X_train = sc.fit_transform(X_train) #penskalaan fitur data latih\n",
    "X_test = sc.transform(X_test) #penskalaan pada data uji"
   ]
  },
  {
   "cell_type": "markdown",
   "metadata": {},
   "source": [
    "# **Membuat Model ANN**"
   ]
  },
  {
   "cell_type": "markdown",
   "metadata": {},
   "source": [
    "**Langkah 1 - Inisiasi Model ANN**"
   ]
  },
  {
   "cell_type": "code",
   "execution_count": 25,
   "metadata": {},
   "outputs": [],
   "source": [
    "ann = tf.keras.models.Sequential()#buat objek model ANN denganpendekatan berurutan "
   ]
  },
  {
   "cell_type": "markdown",
   "metadata": {},
   "source": [
    "**Langkah 2 - Membuat Input Layer dan Hidden Layer Pertama**"
   ]
  },
  {
   "cell_type": "code",
   "execution_count": 26,
   "metadata": {},
   "outputs": [],
   "source": [
    "#menambhakn sebuah Dense ke dalam model ANN \n",
    "#lapisan dense -> lapisan penuh terhbung, tiap neuron di lapisan ini terhubung dengan semua neuron di lapisan sebelumnya\n",
    "#dengan menambah 6 unit neuron \n",
    "#relu-> menentukan fungsi aktivasi, relu membantu dalam pemodelan fungsi non linear\n",
    "ann.add(tf.keras.layers.Dense(units=6, activation='relu')) "
   ]
  },
  {
   "cell_type": "markdown",
   "metadata": {},
   "source": [
    "**Langkah 3 - Mmebuat Hidden Layer Kedua**"
   ]
  },
  {
   "cell_type": "code",
   "execution_count": 27,
   "metadata": {},
   "outputs": [],
   "source": [
    "#menambhakn sebuah Dense ke dalam model ANN \n",
    "#lapisan dense -> lapisan penuh terhbung, tiap neuron di lapisan ini terhubung dengan semua neuron di lapisan sebelumnya\n",
    "#dengan menambah 6 unit neuron \n",
    "#relu-> menentukan fungsi aktivasi, relu membantu dalam pemodelan fungsi non linear\n",
    "ann.add(tf.keras.layers.Dense(units=6, activation='relu'))"
   ]
  },
  {
   "cell_type": "markdown",
   "metadata": {},
   "source": [
    "**Langkah 4 - Membuat Output Layer**"
   ]
  },
  {
   "cell_type": "code",
   "execution_count": 28,
   "metadata": {},
   "outputs": [],
   "source": [
    "#menambhakn sebuah Dense ke dalam model ANN \n",
    "#lapisan dense -> lapisan penuh terhbung, tiap neuron di lapisan ini terhubung dengan semua neuron di lapisan sebelumnya\n",
    "#dengan menambah 1 unit neuron \n",
    "#sigmoid-> menentukan fungsi aktivasi, sigmoid membantu dalam klasifikasi biner\n",
    "ann.add(tf.keras.layers.Dense(units=1, activation='sigmoid'))"
   ]
  },
  {
   "cell_type": "markdown",
   "metadata": {},
   "source": [
    "# **Training Model**"
   ]
  },
  {
   "cell_type": "markdown",
   "metadata": {},
   "source": [
    "**Langkah 1 - Compile Model (Menyatukan Arsitektur) ANN**"
   ]
  },
  {
   "cell_type": "code",
   "execution_count": 29,
   "metadata": {},
   "outputs": [],
   "source": [
    "# optimizer \"adam\" untuk mengoptimalkan model Anda selama pelatihan\n",
    "# 'binary_crossentropy' adalah fungsi kerugian (loss function) untuk ukur kesalahan antara prediksi model dan label yang sebenarnya\n",
    "# ['accuracy'] adalah metrik evaluasi:mengatur metrik yang ingin dipantau selama pelatihan.\n",
    "ann.compile(optimizer = 'adam', loss = 'binary_crossentropy', metrics = ['accuracy'])"
   ]
  },
  {
   "cell_type": "markdown",
   "metadata": {},
   "source": [
    "**Langkah 2 - Fitting Model**"
   ]
  },
  {
   "cell_type": "code",
   "execution_count": 30,
   "metadata": {},
   "outputs": [
    {
     "name": "stdout",
     "output_type": "stream",
     "text": [
      "Epoch 1/100\n"
     ]
    },
    {
     "name": "stdout",
     "output_type": "stream",
     "text": [
      "250/250 [==============================] - 3s 4ms/step - loss: 0.5875 - accuracy: 0.7191\n",
      "Epoch 2/100\n",
      "250/250 [==============================] - 1s 4ms/step - loss: 0.4726 - accuracy: 0.7964\n",
      "Epoch 3/100\n",
      "250/250 [==============================] - 1s 4ms/step - loss: 0.4442 - accuracy: 0.8009\n",
      "Epoch 4/100\n",
      "250/250 [==============================] - 1s 4ms/step - loss: 0.4299 - accuracy: 0.8109\n",
      "Epoch 5/100\n",
      "250/250 [==============================] - 1s 4ms/step - loss: 0.4202 - accuracy: 0.8192\n",
      "Epoch 6/100\n",
      "250/250 [==============================] - 1s 5ms/step - loss: 0.4107 - accuracy: 0.8263\n",
      "Epoch 7/100\n",
      "250/250 [==============================] - 1s 4ms/step - loss: 0.4007 - accuracy: 0.8307\n",
      "Epoch 8/100\n",
      "250/250 [==============================] - 1s 3ms/step - loss: 0.3910 - accuracy: 0.8350\n",
      "Epoch 9/100\n",
      "250/250 [==============================] - 1s 4ms/step - loss: 0.3820 - accuracy: 0.8416\n",
      "Epoch 10/100\n",
      "250/250 [==============================] - 1s 3ms/step - loss: 0.3745 - accuracy: 0.8456\n",
      "Epoch 11/100\n",
      "250/250 [==============================] - 1s 4ms/step - loss: 0.3682 - accuracy: 0.8481\n",
      "Epoch 12/100\n",
      "250/250 [==============================] - 1s 5ms/step - loss: 0.3639 - accuracy: 0.8504\n",
      "Epoch 13/100\n",
      "250/250 [==============================] - 1s 5ms/step - loss: 0.3599 - accuracy: 0.8531\n",
      "Epoch 14/100\n",
      "250/250 [==============================] - 1s 4ms/step - loss: 0.3569 - accuracy: 0.8539\n",
      "Epoch 15/100\n",
      "250/250 [==============================] - 1s 3ms/step - loss: 0.3541 - accuracy: 0.8554\n",
      "Epoch 16/100\n",
      "250/250 [==============================] - 1s 3ms/step - loss: 0.3516 - accuracy: 0.8580\n",
      "Epoch 17/100\n",
      "250/250 [==============================] - 1s 3ms/step - loss: 0.3493 - accuracy: 0.8565\n",
      "Epoch 18/100\n",
      "250/250 [==============================] - 1s 4ms/step - loss: 0.3481 - accuracy: 0.8593\n",
      "Epoch 19/100\n",
      "250/250 [==============================] - 1s 4ms/step - loss: 0.3468 - accuracy: 0.8580\n",
      "Epoch 20/100\n",
      "250/250 [==============================] - 1s 4ms/step - loss: 0.3458 - accuracy: 0.8580\n",
      "Epoch 21/100\n",
      "250/250 [==============================] - 1s 4ms/step - loss: 0.3450 - accuracy: 0.8587\n",
      "Epoch 22/100\n",
      "250/250 [==============================] - 1s 4ms/step - loss: 0.3439 - accuracy: 0.8587\n",
      "Epoch 23/100\n",
      "250/250 [==============================] - 1s 4ms/step - loss: 0.3435 - accuracy: 0.8604\n",
      "Epoch 24/100\n",
      "250/250 [==============================] - 1s 4ms/step - loss: 0.3430 - accuracy: 0.8608\n",
      "Epoch 25/100\n",
      "250/250 [==============================] - 1s 4ms/step - loss: 0.3422 - accuracy: 0.8604\n",
      "Epoch 26/100\n",
      "250/250 [==============================] - 1s 3ms/step - loss: 0.3429 - accuracy: 0.8600\n",
      "Epoch 27/100\n",
      "250/250 [==============================] - 1s 6ms/step - loss: 0.3418 - accuracy: 0.8618\n",
      "Epoch 28/100\n",
      "250/250 [==============================] - 1s 4ms/step - loss: 0.3416 - accuracy: 0.8608\n",
      "Epoch 29/100\n",
      "250/250 [==============================] - 1s 5ms/step - loss: 0.3414 - accuracy: 0.8597\n",
      "Epoch 30/100\n",
      "250/250 [==============================] - 1s 4ms/step - loss: 0.3412 - accuracy: 0.8609\n",
      "Epoch 31/100\n",
      "250/250 [==============================] - 1s 3ms/step - loss: 0.3411 - accuracy: 0.8618\n",
      "Epoch 32/100\n",
      "250/250 [==============================] - 1s 4ms/step - loss: 0.3411 - accuracy: 0.8589\n",
      "Epoch 33/100\n",
      "250/250 [==============================] - 1s 4ms/step - loss: 0.3406 - accuracy: 0.8611\n",
      "Epoch 34/100\n",
      "250/250 [==============================] - 1s 5ms/step - loss: 0.3405 - accuracy: 0.8618\n",
      "Epoch 35/100\n",
      "250/250 [==============================] - 1s 4ms/step - loss: 0.3405 - accuracy: 0.8621\n",
      "Epoch 36/100\n",
      "250/250 [==============================] - 1s 4ms/step - loss: 0.3407 - accuracy: 0.8612\n",
      "Epoch 37/100\n",
      "250/250 [==============================] - 1s 4ms/step - loss: 0.3401 - accuracy: 0.8609\n",
      "Epoch 38/100\n",
      "250/250 [==============================] - 1s 5ms/step - loss: 0.3399 - accuracy: 0.8614\n",
      "Epoch 39/100\n",
      "250/250 [==============================] - 1s 5ms/step - loss: 0.3398 - accuracy: 0.8611\n",
      "Epoch 40/100\n",
      "250/250 [==============================] - 1s 4ms/step - loss: 0.3398 - accuracy: 0.8621\n",
      "Epoch 41/100\n",
      "250/250 [==============================] - 1s 5ms/step - loss: 0.3395 - accuracy: 0.8608\n",
      "Epoch 42/100\n",
      "250/250 [==============================] - 1s 6ms/step - loss: 0.3394 - accuracy: 0.8601\n",
      "Epoch 43/100\n",
      "250/250 [==============================] - 2s 9ms/step - loss: 0.3394 - accuracy: 0.8602\n",
      "Epoch 44/100\n",
      "250/250 [==============================] - 1s 5ms/step - loss: 0.3391 - accuracy: 0.8616\n",
      "Epoch 45/100\n",
      "250/250 [==============================] - 2s 6ms/step - loss: 0.3388 - accuracy: 0.8620\n",
      "Epoch 46/100\n",
      "250/250 [==============================] - 1s 5ms/step - loss: 0.3388 - accuracy: 0.8624\n",
      "Epoch 47/100\n",
      "250/250 [==============================] - 1s 5ms/step - loss: 0.3389 - accuracy: 0.8622\n",
      "Epoch 48/100\n",
      "250/250 [==============================] - 1s 5ms/step - loss: 0.3389 - accuracy: 0.8619\n",
      "Epoch 49/100\n",
      "250/250 [==============================] - 1s 6ms/step - loss: 0.3386 - accuracy: 0.8633\n",
      "Epoch 50/100\n",
      "250/250 [==============================] - 1s 4ms/step - loss: 0.3385 - accuracy: 0.8614\n",
      "Epoch 51/100\n",
      "250/250 [==============================] - 1s 4ms/step - loss: 0.3384 - accuracy: 0.8611\n",
      "Epoch 52/100\n",
      "250/250 [==============================] - 1s 5ms/step - loss: 0.3383 - accuracy: 0.8626\n",
      "Epoch 53/100\n",
      "250/250 [==============================] - 2s 8ms/step - loss: 0.3383 - accuracy: 0.8618\n",
      "Epoch 54/100\n",
      "250/250 [==============================] - 2s 7ms/step - loss: 0.3381 - accuracy: 0.8625\n",
      "Epoch 55/100\n",
      "250/250 [==============================] - 2s 7ms/step - loss: 0.3377 - accuracy: 0.8615\n",
      "Epoch 56/100\n",
      "250/250 [==============================] - 2s 7ms/step - loss: 0.3380 - accuracy: 0.8620\n",
      "Epoch 57/100\n",
      "250/250 [==============================] - 1s 6ms/step - loss: 0.3379 - accuracy: 0.8634\n",
      "Epoch 58/100\n",
      "250/250 [==============================] - 1s 5ms/step - loss: 0.3382 - accuracy: 0.8636\n",
      "Epoch 59/100\n",
      "250/250 [==============================] - 2s 6ms/step - loss: 0.3376 - accuracy: 0.8633\n",
      "Epoch 60/100\n",
      "250/250 [==============================] - 1s 6ms/step - loss: 0.3380 - accuracy: 0.8625\n",
      "Epoch 61/100\n",
      "250/250 [==============================] - 2s 7ms/step - loss: 0.3377 - accuracy: 0.8633\n",
      "Epoch 62/100\n",
      "250/250 [==============================] - 1s 5ms/step - loss: 0.3372 - accuracy: 0.8639\n",
      "Epoch 63/100\n",
      "250/250 [==============================] - 1s 6ms/step - loss: 0.3371 - accuracy: 0.8611\n",
      "Epoch 64/100\n",
      "250/250 [==============================] - 2s 6ms/step - loss: 0.3371 - accuracy: 0.8625\n",
      "Epoch 65/100\n",
      "250/250 [==============================] - 1s 5ms/step - loss: 0.3374 - accuracy: 0.8635\n",
      "Epoch 66/100\n",
      "250/250 [==============================] - 2s 6ms/step - loss: 0.3370 - accuracy: 0.8635\n",
      "Epoch 67/100\n",
      "250/250 [==============================] - 1s 6ms/step - loss: 0.3371 - accuracy: 0.8636\n",
      "Epoch 68/100\n",
      "250/250 [==============================] - 2s 7ms/step - loss: 0.3372 - accuracy: 0.8630\n",
      "Epoch 69/100\n",
      "250/250 [==============================] - 2s 8ms/step - loss: 0.3369 - accuracy: 0.8643\n",
      "Epoch 70/100\n",
      "250/250 [==============================] - 2s 7ms/step - loss: 0.3370 - accuracy: 0.8636\n",
      "Epoch 71/100\n",
      "250/250 [==============================] - 1s 6ms/step - loss: 0.3370 - accuracy: 0.8640\n",
      "Epoch 72/100\n",
      "250/250 [==============================] - 2s 6ms/step - loss: 0.3366 - accuracy: 0.8654\n",
      "Epoch 73/100\n",
      "250/250 [==============================] - 3s 11ms/step - loss: 0.3369 - accuracy: 0.8646\n",
      "Epoch 74/100\n",
      "250/250 [==============================] - 2s 6ms/step - loss: 0.3366 - accuracy: 0.8627\n",
      "Epoch 75/100\n",
      "250/250 [==============================] - 2s 8ms/step - loss: 0.3369 - accuracy: 0.8636\n",
      "Epoch 76/100\n",
      "250/250 [==============================] - 1s 4ms/step - loss: 0.3361 - accuracy: 0.8637\n",
      "Epoch 77/100\n",
      "250/250 [==============================] - 1s 5ms/step - loss: 0.3363 - accuracy: 0.8640\n",
      "Epoch 78/100\n",
      "250/250 [==============================] - 1s 5ms/step - loss: 0.3362 - accuracy: 0.8621\n",
      "Epoch 79/100\n",
      "250/250 [==============================] - 1s 6ms/step - loss: 0.3362 - accuracy: 0.8640\n",
      "Epoch 80/100\n",
      "250/250 [==============================] - 1s 4ms/step - loss: 0.3361 - accuracy: 0.8633\n",
      "Epoch 81/100\n",
      "250/250 [==============================] - 1s 4ms/step - loss: 0.3361 - accuracy: 0.8631\n",
      "Epoch 82/100\n",
      "250/250 [==============================] - 1s 5ms/step - loss: 0.3359 - accuracy: 0.8616\n",
      "Epoch 83/100\n",
      "250/250 [==============================] - 1s 5ms/step - loss: 0.3363 - accuracy: 0.8630\n",
      "Epoch 84/100\n",
      "250/250 [==============================] - 1s 4ms/step - loss: 0.3353 - accuracy: 0.8636\n",
      "Epoch 85/100\n",
      "250/250 [==============================] - 1s 4ms/step - loss: 0.3360 - accuracy: 0.8624\n",
      "Epoch 86/100\n",
      "250/250 [==============================] - 1s 4ms/step - loss: 0.3357 - accuracy: 0.8634\n",
      "Epoch 87/100\n",
      "250/250 [==============================] - 1s 5ms/step - loss: 0.3356 - accuracy: 0.8641\n",
      "Epoch 88/100\n",
      "250/250 [==============================] - 1s 5ms/step - loss: 0.3356 - accuracy: 0.8618\n",
      "Epoch 89/100\n",
      "250/250 [==============================] - 1s 5ms/step - loss: 0.3353 - accuracy: 0.8641\n",
      "Epoch 90/100\n",
      "250/250 [==============================] - 1s 4ms/step - loss: 0.3355 - accuracy: 0.8643\n",
      "Epoch 91/100\n",
      "250/250 [==============================] - 1s 5ms/step - loss: 0.3353 - accuracy: 0.8625\n",
      "Epoch 92/100\n",
      "250/250 [==============================] - 2s 6ms/step - loss: 0.3350 - accuracy: 0.8639\n",
      "Epoch 93/100\n",
      "250/250 [==============================] - 1s 5ms/step - loss: 0.3348 - accuracy: 0.8643\n",
      "Epoch 94/100\n",
      "250/250 [==============================] - 1s 5ms/step - loss: 0.3350 - accuracy: 0.8627\n",
      "Epoch 95/100\n",
      "250/250 [==============================] - 1s 5ms/step - loss: 0.3349 - accuracy: 0.8635\n",
      "Epoch 96/100\n",
      "250/250 [==============================] - 1s 5ms/step - loss: 0.3350 - accuracy: 0.8645\n",
      "Epoch 97/100\n",
      "250/250 [==============================] - 1s 4ms/step - loss: 0.3349 - accuracy: 0.8624\n",
      "Epoch 98/100\n",
      "250/250 [==============================] - 1s 5ms/step - loss: 0.3349 - accuracy: 0.8620\n",
      "Epoch 99/100\n",
      "250/250 [==============================] - 1s 4ms/step - loss: 0.3346 - accuracy: 0.8641\n",
      "Epoch 100/100\n",
      "250/250 [==============================] - 1s 5ms/step - loss: 0.3349 - accuracy: 0.8633\n"
     ]
    },
    {
     "data": {
      "text/plain": [
       "<keras.src.callbacks.History at 0x1e4fef81050>"
      ]
     },
     "execution_count": 30,
     "metadata": {},
     "output_type": "execute_result"
    }
   ],
   "source": [
    "#Pelatihan ANN denan 100 epoch, pada tiap epoch model akan meminimalkan nilai fungsi kerugian \n",
    "ann.fit(X_train, y_train, batch_size = 32, epochs = 100)#batch size-> atur banyak sampel data yang akan digunakan dalam tiap iterasi selama pelatihan "
   ]
  },
  {
   "cell_type": "markdown",
   "metadata": {},
   "source": [
    "**Keterangan**\n",
    "\n",
    "Dapat dilihat bahwa model berhasil melakukan pelatihan data sebanyak 100 epcoch dan pada epoch ke-100 acuracy menjadi 86% yang nilai akurasi in ilebih tinggi dari saat nilai epoch pertama sebesar 71%. dapat diluhat juga bahwa nilai loss(kerugian) berkurang dri epoch pertama sampi epoch terakhir. "
   ]
  },
  {
   "cell_type": "markdown",
   "metadata": {},
   "source": [
    "**Memodelkan Data Baru dan buat Prediksi**"
   ]
  },
  {
   "cell_type": "code",
   "execution_count": 31,
   "metadata": {},
   "outputs": [
    {
     "name": "stdout",
     "output_type": "stream",
     "text": [
      "1/1 [==============================] - 1s 517ms/step\n",
      "[[False]]\n"
     ]
    }
   ],
   "source": [
    "#buat prediksi dengan model ANN yang telah dilatih \n",
    "#sc.transform([[1, 0, 0, 600, 1, 40, 3, 60000, 2, 1, 1, 50000]]): merupakan transformasi fitur masukan yang akan diprediksi oleh model. \n",
    "#0.5: Ini adalah perbandingan yang digunakan untuk mengubah keluaran model menjadi prediksi biner. Jika hasil prediksi model lebih besar dari 0.5, maka prediksi dianggap sebagai \"True\" atau 1, sedangkan jika kurang dari atau sama dengan 0.5, maka prediksi dianggap sebagai \"False\" atau 0.\n",
    "print(ann.predict(sc.transform([[1, 0, 0, 600, 1, 40, 3, 60000, 2, 1, 1, 50000]])) > 0.5)"
   ]
  },
  {
   "cell_type": "markdown",
   "metadata": {},
   "source": [
    "**Ketrangan**\n",
    "\n",
    "Hasilnya adalah false yang berarti model memutuskan bahwa data masukan yang diberikan tidak sesuai dengan kategori atau kelas positif yang ditentukan sebelumnya"
   ]
  },
  {
   "cell_type": "markdown",
   "metadata": {},
   "source": [
    "**Prediksi Dengan Data Testing**"
   ]
  },
  {
   "cell_type": "code",
   "execution_count": 32,
   "metadata": {},
   "outputs": [
    {
     "name": "stdout",
     "output_type": "stream",
     "text": [
      " 1/63 [..............................] - ETA: 3s"
     ]
    },
    {
     "name": "stdout",
     "output_type": "stream",
     "text": [
      "63/63 [==============================] - 0s 3ms/step\n",
      "[[0 0]\n",
      " [0 1]\n",
      " [0 0]\n",
      " ...\n",
      " [0 0]\n",
      " [0 0]\n",
      " [0 0]]\n"
     ]
    }
   ],
   "source": [
    "y_pred = ann.predict(X_test)#membuat prediksi pada data uji dengan menggunakna model ANN\n",
    "y_pred = (y_pred > 0.5) #ubah hasil prediksi menjadi nilai biner. Jika hasil prediksi (probabilitas) lebih besar dari 0.5, maka nilai menjadi True (1), dan jika kurang dari atau sama dengan 0.5, maka nilai menjadi False (0).\n",
    "\n",
    "#cetak hasil prediksi \n",
    "print(np.concatenate((y_pred.reshape(len(y_pred),1), #hasil prediksi yang telah diubah bentuknya menjadi matriks dengan satu kolom\n",
    "                      y_test.reshape(len(y_test),1)),1)) # label sebenarnya dari data pengujian yang juga diubah bentuknya menjadi matriks dengan satu kolom"
   ]
  },
  {
   "cell_type": "markdown",
   "metadata": {},
   "source": [
    "**Keterangan**\n",
    "\n",
    "1. Kolom kiri pada matrik merupakan hasil prediksi model. Jika 0 maka model memprediksi false, dan jika 1 berarti model memprediksi true\n",
    "2. Kolom kanan pada matrik adalah label sebenarnya. Jika 0 berarti data pengujian sebenarnya false, dan 1 jika true. \n",
    "\n",
    "Dapt dilihat dari matrik banyak baris dengan pasangan 0 dan 0 yang berarti model meprediksi dengan benar bahwa data tersebut bukan kategori positif. "
   ]
  },
  {
   "cell_type": "markdown",
   "metadata": {},
   "source": [
    "**Cek Akurasi dan Confusion Matrix**"
   ]
  },
  {
   "cell_type": "code",
   "execution_count": 33,
   "metadata": {},
   "outputs": [
    {
     "name": "stdout",
     "output_type": "stream",
     "text": [
      "[[1530   65]\n",
      " [ 209  196]]\n"
     ]
    },
    {
     "data": {
      "text/plain": [
       "0.863"
      ]
     },
     "execution_count": 33,
     "metadata": {},
     "output_type": "execute_result"
    }
   ],
   "source": [
    "from sklearn.metrics import confusion_matrix, accuracy_score #hitung matriks konfusi dan akurasi model \n",
    "cm = confusion_matrix(y_test, y_pred)#hitung matriks konfusi \n",
    "print(cm)\n",
    "accuracy_score(y_test, y_pred)#hitung akurasi model "
   ]
  },
  {
   "cell_type": "markdown",
   "metadata": {},
   "source": [
    "**Ketrangan**\n",
    "\n",
    "1. Terdapat 1530 prediksi yang benar (True Negatives, TN). Merupakan data yang sebenarnya negatif dan telah diprediksi dengan benar sebagai negatif.\n",
    "\n",
    "2. Terdapat 196 prediksi yang benar (True Positives, TP). Merupakan data yang sebenarnya positif dan telah diprediksi dengan benar sebagai positif.\n",
    "\n",
    "3. Terdapat 65 prediksi yang salah (False Positives, FP). Merupakan data yang sebenarnya negatif tetapi telah salah diprediksi sebagai positif.\n",
    "\n",
    "4. Terdapat 209 prediksi yang salah (False Negatives, FN). Merupakan data yang sebenarnya positif tetapi telah salah diprediksi sebagai negatif.\n",
    "\n",
    "5. Akurasi model adalah 0.863 atau 86.3%. merupakan rasio dari prediksi yang benar (TP + TN) terhadap jumlah total sampel.\n",
    "\n",
    "KESIMPULAN: \n",
    "\n",
    "Secara keseluruhan kinerja model cukup baik yang bisa dilihat dari nilai akurasinya sebesar 86%. "
   ]
  }
 ],
 "metadata": {
  "kernelspec": {
   "display_name": "base",
   "language": "python",
   "name": "python3"
  },
  "language_info": {
   "codemirror_mode": {
    "name": "ipython",
    "version": 3
   },
   "file_extension": ".py",
   "mimetype": "text/x-python",
   "name": "python",
   "nbconvert_exporter": "python",
   "pygments_lexer": "ipython3",
   "version": "3.11.4"
  }
 },
 "nbformat": 4,
 "nbformat_minor": 2
}
