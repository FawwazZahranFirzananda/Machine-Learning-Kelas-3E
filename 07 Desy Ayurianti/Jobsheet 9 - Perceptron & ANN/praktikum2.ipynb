{
 "cells": [
  {
   "cell_type": "markdown",
   "metadata": {},
   "source": [
    "# Praktikum 2 - Klasifikasi Berita dengan Perceptron"
   ]
  },
  {
   "cell_type": "markdown",
   "metadata": {},
   "source": [
    "**Langkah 1 - Import Library**"
   ]
  },
  {
   "cell_type": "code",
   "execution_count": 1,
   "metadata": {},
   "outputs": [],
   "source": [
    "from sklearn.datasets import fetch_20newsgroups # download dataset\n",
    "from sklearn.feature_extraction.text import TfidfVectorizer #fungsi yang digunakan untuk mengonversi teks menjadi vektor berdasarkan bobot Term Frequency Inverse Document Query\n",
    "from sklearn.linear_model import Perceptron #untuk latih model perceptron\n",
    "from sklearn.metrics import f1_score, classification_report #untuk metrik eval dan laporan kinerja amodel "
   ]
  },
  {
   "cell_type": "markdown",
   "metadata": {},
   "source": [
    "**Langkah 2 - Pilih Label dan Split Data**"
   ]
  },
  {
   "cell_type": "code",
   "execution_count": 2,
   "metadata": {},
   "outputs": [],
   "source": [
    "#Definisi variabel categories\n",
    "categories = ['rec.sport.hockey', 'rec.sport.baseball', 'rec.autos']\n",
    "\n",
    "#download sebset data latih dan remove data header, footers dan quotes\n",
    "newsgroups_train = fetch_20newsgroups(subset='train', categories=categories, remove=('headers', 'footers', 'quotes'))\n",
    "\n",
    "#download subset data training dengan remove data header, footers dan quotes\n",
    "newsgroups_test = fetch_20newsgroups(subset='test', categories=categories, remove=('headers', 'footers', 'quotes'))"
   ]
  },
  {
   "cell_type": "markdown",
   "metadata": {},
   "source": [
    "**Langkah 3 - Ekstrak Fitur dan Buat Model Perceptron**"
   ]
  },
  {
   "cell_type": "code",
   "execution_count": 3,
   "metadata": {},
   "outputs": [
    {
     "name": "stdout",
     "output_type": "stream",
     "text": [
      "              precision    recall  f1-score   support\n",
      "\n",
      "           0       0.88      0.88      0.88       396\n",
      "           1       0.82      0.83      0.83       397\n",
      "           2       0.88      0.87      0.87       399\n",
      "\n",
      "    accuracy                           0.86      1192\n",
      "   macro avg       0.86      0.86      0.86      1192\n",
      "weighted avg       0.86      0.86      0.86      1192\n",
      "\n"
     ]
    }
   ],
   "source": [
    "# Ekstrak Fitur\n",
    "vectorizer = TfidfVectorizer()#membuat objek TfidfVectorizer untuk konversi teks jadi vektor dan hitung nilai TF-IDF tiap kata dalam dokumen\n",
    "\n",
    "# Fit fitur\n",
    "X_train = vectorizer.fit_transform(newsgroups_train.data)# hitung statistik TF-IDF dari data latih\n",
    "X_test = vectorizer.transform(newsgroups_test.data)#konversi dokumen uji ke dalam format yang sama \n",
    "\n",
    "# Fit Model\n",
    "clf = Perceptron(random_state=11)#buat model Perceptron dg inisialisasi random satate =11\n",
    "clf.fit(X_train, newsgroups_train.target)#latih model perceptron \n",
    "\n",
    "# Prediksi\n",
    "predictions = clf.predict(X_test)#buat prediksi thdp data uji X test dan menyimpan hasilnya ke var predictions\n",
    "print(classification_report(newsgroups_test.target, predictions))#cetak laporan klasifikasi "
   ]
  },
  {
   "cell_type": "markdown",
   "metadata": {},
   "source": [
    "**Keterangan**\n",
    "1. Percision: ukur sejauh mana model bisa identifikasi contoh yang yang relevan dalam kelas tertentu \n",
    "\n",
    "2. Recall: ukur sejauh mana model berhasil mendeteksi semua isntance dari kelas yang sebenarnya\n",
    "\n",
    "3. F1-Score: metrik yang mengombinasikan precision dan recall jadi satu angka untuk memberi gamabran yang lebih komprehensif tentang kinerja model \n",
    "\n",
    "4. Support: jumlah instanse yang termasuk dalam tiap kelas dalam dataset uji \n",
    "\n",
    "5. Accuracy: mengukur sejauh mana model berhasil dalam klasifikasi secara keseluruhan.\n",
    "\n",
    "6. Macro Avg: rata-rata dari metrik-metrik evaluasi (presisi, recall, dan f1-score) untuk semua kelas\n",
    "\n",
    "7. Weighted avg : rata-rata dari metrik-metrik evaluasi dihitung dengan mempertimbangkan jumlah instance dalam masing-masing kelas yang memberikan gambaran tentang kinerja model dengan mempertimbangkan ketidakseimbangan kelas dalam dataset.\n",
    "\n",
    "Dari hasil classification report dapat dilihat bahwa model dapat dengan baik mengklasifikasi data dengan nilai precisisi, recall, f1-score cukup tinggi dan seimbang. Nilai akurasi juga sebesar0.86 yang menunnjukkan model secara keseluruhan dapat mengklasifikasi dengan baik. \n"
   ]
  }
 ],
 "metadata": {
  "kernelspec": {
   "display_name": "base",
   "language": "python",
   "name": "python3"
  },
  "language_info": {
   "codemirror_mode": {
    "name": "ipython",
    "version": 3
   },
   "file_extension": ".py",
   "mimetype": "text/x-python",
   "name": "python",
   "nbconvert_exporter": "python",
   "pygments_lexer": "ipython3",
   "version": "3.11.4"
  }
 },
 "nbformat": 4,
 "nbformat_minor": 2
}
