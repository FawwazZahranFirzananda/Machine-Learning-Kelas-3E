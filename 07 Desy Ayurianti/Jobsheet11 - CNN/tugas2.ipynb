{
 "cells": [
  {
   "cell_type": "code",
   "execution_count": 2,
   "metadata": {},
   "outputs": [
    {
     "name": "stdout",
     "output_type": "stream",
     "text": [
      "Epoch 1/15\n",
      "1563/1563 [==============================] - 169s 98ms/step - loss: 1.8575 - accuracy: 0.3115 - val_loss: 1.5817 - val_accuracy: 0.4226\n",
      "Epoch 2/15\n",
      "1563/1563 [==============================] - 154s 98ms/step - loss: 1.5511 - accuracy: 0.4329 - val_loss: 1.4281 - val_accuracy: 0.4835\n",
      "Epoch 3/15\n",
      "1563/1563 [==============================] - 151s 96ms/step - loss: 1.4188 - accuracy: 0.4869 - val_loss: 1.3461 - val_accuracy: 0.5249\n",
      "Epoch 4/15\n",
      "1563/1563 [==============================] - 152s 97ms/step - loss: 1.3328 - accuracy: 0.5223 - val_loss: 1.2596 - val_accuracy: 0.5549\n",
      "Epoch 5/15\n",
      "1563/1563 [==============================] - 146s 93ms/step - loss: 1.2621 - accuracy: 0.5489 - val_loss: 1.2067 - val_accuracy: 0.5716\n",
      "Epoch 6/15\n",
      "1563/1563 [==============================] - 182s 117ms/step - loss: 1.2075 - accuracy: 0.5708 - val_loss: 1.1574 - val_accuracy: 0.5904\n",
      "Epoch 7/15\n",
      "1563/1563 [==============================] - 776s 497ms/step - loss: 1.1570 - accuracy: 0.5916 - val_loss: 1.1266 - val_accuracy: 0.6018\n",
      "Epoch 8/15\n",
      "1563/1563 [==============================] - 179s 114ms/step - loss: 1.1160 - accuracy: 0.6071 - val_loss: 1.1297 - val_accuracy: 0.5982\n",
      "Epoch 9/15\n",
      "1563/1563 [==============================] - 163s 104ms/step - loss: 1.0766 - accuracy: 0.6207 - val_loss: 1.0781 - val_accuracy: 0.6228\n",
      "Epoch 10/15\n",
      "1563/1563 [==============================] - 178s 114ms/step - loss: 1.0483 - accuracy: 0.6310 - val_loss: 1.0640 - val_accuracy: 0.6207\n",
      "Epoch 11/15\n",
      "1563/1563 [==============================] - 168s 107ms/step - loss: 1.0166 - accuracy: 0.6434 - val_loss: 1.0354 - val_accuracy: 0.6377\n",
      "Epoch 12/15\n",
      "1563/1563 [==============================] - 160s 102ms/step - loss: 0.9856 - accuracy: 0.6527 - val_loss: 1.0060 - val_accuracy: 0.6467\n",
      "Epoch 13/15\n",
      "1563/1563 [==============================] - 159s 102ms/step - loss: 0.9590 - accuracy: 0.6657 - val_loss: 0.9892 - val_accuracy: 0.6532\n",
      "Epoch 14/15\n",
      "1563/1563 [==============================] - 158s 101ms/step - loss: 0.9351 - accuracy: 0.6745 - val_loss: 0.9651 - val_accuracy: 0.6622\n",
      "Epoch 15/15\n",
      "1563/1563 [==============================] - 168s 108ms/step - loss: 0.9111 - accuracy: 0.6805 - val_loss: 0.9477 - val_accuracy: 0.6683\n",
      "313/313 - 10s - loss: 0.9477 - accuracy: 0.6683 - 10s/epoch - 32ms/step\n",
      "0.6682999730110168\n"
     ]
    }
   ],
   "source": [
    "import tensorflow as tf\n",
    "from tensorflow.keras import datasets, layers, models\n",
    "import matplotlib.pyplot as plt\n",
    "\n",
    "(train_images, train_labels), (test_images, test_labels) = datasets.cifar10.load_data()\n",
    "train_images, test_images = train_images / 255.0, test_images / 255.0\n",
    "\n",
    "class_names = ['airplane', 'automobile', 'bird', 'cat', 'deer',\n",
    "               'dog', 'frog', 'horse', 'ship', 'truck']\n",
    "\n",
    "model = models.Sequential()\n",
    "model.add(layers.Conv2D(32, (3, 3), activation='relu', input_shape=(32, 32, 3)))\n",
    "model.add(layers.MaxPooling2D((2, 2)))\n",
    "model.add(layers.Conv2D(64, (3, 3), activation='relu'))\n",
    "model.add(layers.MaxPooling2D((2, 2)))\n",
    "model.add(layers.Conv2D(128, (3, 3), activation='relu'))\n",
    "model.add(layers.MaxPooling2D(2, 2))\n",
    "model.add(layers.Flatten())\n",
    "model.add(layers.Dense(256, activation='relu'))\n",
    "model.add(layers.Dropout(0.3))\n",
    "model.add(layers.Dense(10))\n",
    "\n",
    "model.compile(optimizer=tf.keras.optimizers.Adam(learning_rate=0.0001),\n",
    "              loss=tf.keras.losses.SparseCategoricalCrossentropy(from_logits=True),\n",
    "              metrics=['accuracy'])\n",
    "\n",
    "history = model.fit(train_images, train_labels, epochs=15, \n",
    "                    validation_data=(test_images, test_labels))\n",
    "\n",
    "test_loss, test_acc = model.evaluate(test_images,  test_labels, verbose=2)\n",
    "print(test_acc)\n"
   ]
  }
 ],
 "metadata": {
  "kernelspec": {
   "display_name": "base",
   "language": "python",
   "name": "python3"
  },
  "language_info": {
   "codemirror_mode": {
    "name": "ipython",
    "version": 3
   },
   "file_extension": ".py",
   "mimetype": "text/x-python",
   "name": "python",
   "nbconvert_exporter": "python",
   "pygments_lexer": "ipython3",
   "version": "3.11.4"
  }
 },
 "nbformat": 4,
 "nbformat_minor": 2
}
