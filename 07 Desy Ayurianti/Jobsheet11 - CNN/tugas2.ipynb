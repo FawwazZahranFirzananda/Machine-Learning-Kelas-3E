{
 "cells": [
  {
   "cell_type": "code",
   "execution_count": 1,
   "metadata": {},
   "outputs": [],
   "source": [
    "import tensorflow as tf#untuk pengembangan jaringan saraf\n",
    "from tensorflow.keras import datasets, layers, models# untuk membangun, melatih, dan menguji model jaringan saraf.\n",
    "from keras.preprocessing.image import ImageDataGenerator\n",
    "import matplotlib.pyplot as plt#untuk membuat visualisasi dan plot data"
   ]
  },
  {
   "cell_type": "code",
   "execution_count": 3,
   "metadata": {},
   "outputs": [
    {
     "name": "stdout",
     "output_type": "stream",
     "text": [
      "Epoch 1/10\n",
      "1875/1875 [==============================] - 137s 66ms/step - loss: 0.1602 - accuracy: 0.9510 - val_loss: 0.0597 - val_accuracy: 0.9809\n",
      "Epoch 2/10\n",
      "1875/1875 [==============================] - 131s 70ms/step - loss: 0.0481 - accuracy: 0.9855 - val_loss: 0.0376 - val_accuracy: 0.9887\n",
      "Epoch 3/10\n",
      "1875/1875 [==============================] - 121s 65ms/step - loss: 0.0334 - accuracy: 0.9895 - val_loss: 0.0326 - val_accuracy: 0.9890\n",
      "Epoch 4/10\n",
      "1875/1875 [==============================] - 122s 65ms/step - loss: 0.0252 - accuracy: 0.9925 - val_loss: 0.0272 - val_accuracy: 0.9911\n",
      "Epoch 5/10\n",
      "1875/1875 [==============================] - 124s 66ms/step - loss: 0.0200 - accuracy: 0.9935 - val_loss: 0.0320 - val_accuracy: 0.9900\n",
      "Epoch 6/10\n",
      "1875/1875 [==============================] - 120s 64ms/step - loss: 0.0179 - accuracy: 0.9945 - val_loss: 0.0307 - val_accuracy: 0.9912\n",
      "Epoch 7/10\n",
      "1875/1875 [==============================] - 125s 66ms/step - loss: 0.0139 - accuracy: 0.9954 - val_loss: 0.0300 - val_accuracy: 0.9912\n",
      "Epoch 8/10\n",
      "1875/1875 [==============================] - 129s 69ms/step - loss: 0.0112 - accuracy: 0.9965 - val_loss: 0.0278 - val_accuracy: 0.9925\n",
      "Epoch 9/10\n",
      "1875/1875 [==============================] - 126s 67ms/step - loss: 0.0099 - accuracy: 0.9968 - val_loss: 0.0318 - val_accuracy: 0.9913\n",
      "Epoch 10/10\n",
      "1875/1875 [==============================] - 170s 91ms/step - loss: 0.0085 - accuracy: 0.9971 - val_loss: 0.0433 - val_accuracy: 0.9894\n",
      "313/313 - 8s - loss: 0.0433 - accuracy: 0.9894 - 8s/epoch - 27ms/step\n",
      "Test accuracy: 0.9894000291824341\n"
     ]
    },
    {
     "data": {
      "image/png": "[encoded data removed]",
      "text/plain": [
       "<Figure size 640x480 with 1 Axes>"
      ]
     },
     "metadata": {},
     "output_type": "display_data"
    }
   ],
   "source": [
    "\n",
    "# Load and preprocess the MNIST dataset\n",
    "(train_images, train_labels), (test_images, test_labels) = datasets.mnist.load_data()\n",
    "\n",
    "# Normalize pixel values to be between 0 and 1\n",
    "train_images, test_images = train_images / 255.0, test_images / 255.0\n",
    "\n",
    "# Reshape the data to fit the model\n",
    "train_images = train_images.reshape(train_images.shape[0], 28, 28, 1)\n",
    "test_images = test_images.reshape(test_images.shape[0], 28, 28, 1)\n",
    "\n",
    "# Define the CNN model\n",
    "model = models.Sequential()\n",
    "\n",
    "model.add(layers.Conv2D(32, (3, 3), activation='relu', input_shape=(28, 28, 1)))\n",
    "model.add(layers.MaxPooling2D((2, 2)))\n",
    "model.add(layers.Conv2D(64, (3, 3), activation='relu'))\n",
    "model.add(layers.MaxPooling2D((2, 2)))\n",
    "model.add(layers.Conv2D(64, (3, 3), activation='relu'))\n",
    "\n",
    "model.add(layers.Flatten())\n",
    "model.add(layers.Dense(64, activation='relu'))\n",
    "model.add(layers.Dense(10, activation='softmax'))\n",
    "\n",
    "# Compile the model\n",
    "model.compile(optimizer='adam',\n",
    "              loss='sparse_categorical_crossentropy',\n",
    "              metrics=['accuracy'])\n",
    "\n",
    "# Train the model\n",
    "history = model.fit(train_images, train_labels, epochs=10, validation_data=(test_images, test_labels))\n",
    "\n",
    "# Evaluate the model\n",
    "test_loss, test_acc = model.evaluate(test_images, test_labels, verbose=2)\n",
    "print(\"Test accuracy:\", test_acc)\n",
    "\n",
    "# Plot training accuracy and loss\n",
    "plt.plot(history.history['accuracy'], label='accuracy')\n",
    "plt.plot(history.history['val_accuracy'], label='val_accuracy')\n",
    "plt.xlabel('Epoch')\n",
    "plt.ylabel('Accuracy')\n",
    "plt.ylim([0, 1])\n",
    "plt.legend(loc='lower right')\n",
    "plt.show()"
   ]
  }
 ],
 "metadata": {
  "kernelspec": {
   "display_name": "base",
   "language": "python",
   "name": "python3"
  },
  "language_info": {
   "codemirror_mode": {
    "name": "ipython",
    "version": 3
   },
   "file_extension": ".py",
   "mimetype": "text/x-python",
   "name": "python",
   "nbconvert_exporter": "python",
   "pygments_lexer": "ipython3",
   "version": "3.11.4"
  }
 },
 "nbformat": 4,
 "nbformat_minor": 2
}
