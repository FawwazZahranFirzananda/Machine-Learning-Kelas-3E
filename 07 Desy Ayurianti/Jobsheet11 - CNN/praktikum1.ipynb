{
 "cells": [
  {
   "cell_type": "markdown",
   "metadata": {},
   "source": [
    "# **Praktikum 1**\n",
    "\n",
    "Klasifikasi Cat dan Dog"
   ]
  },
  {
   "cell_type": "markdown",
   "metadata": {},
   "source": [
    "**Langkah 1 - Import Library**"
   ]
  },
  {
   "cell_type": "code",
   "execution_count": 1,
   "metadata": {},
   "outputs": [],
   "source": [
    "import tensorflow as tf #import transferflow untuk pengebangan jaringan saraf\n",
    "from keras.preprocessing.image import ImageDataGenerator#untuk augmentasi data gambar dalam pelatihan CNN untuk memperluan kergaman data latih dan meningkatkan kinerja model"
   ]
  },
  {
   "cell_type": "markdown",
   "metadata": {},
   "source": [
    "**Langkah 2 - Pra Pengolahan Data**"
   ]
  },
  {
   "cell_type": "markdown",
   "metadata": {},
   "source": [
    "Langkah 2.1. Pra Pengolahan Data Training"
   ]
  },
  {
   "cell_type": "code",
   "execution_count": 2,
   "metadata": {},
   "outputs": [
    {
     "name": "stdout",
     "output_type": "stream",
     "text": [
      "Found 8000 images belonging to 2 classes.\n"
     ]
    }
   ],
   "source": [
    "#buat ibjek train datagen\n",
    "train_datagen = ImageDataGenerator(rescale = 1./255,#normalisasi nilai intensitas piksel gambar menjadi rentang antara 0 dan 1\n",
    "                                   shear_range = 0.2,# transformasi shear pada gambar dengan sudut maksimum 0.2.\n",
    "                                   zoom_range = 0.2,#ransformasi zoom pada gambar dengan faktor maksimum 0.2.\n",
    "                                   horizontal_flip = True)#pembalikan horizontal pada gambar\n",
    "#Untuk memuat data latih dari direktori \n",
    "training_set = train_datagen.flow_from_directory('dataset/training_set',\n",
    "                                                 target_size = (64, 64),#ukuran target untuk gambar yang dimuat\n",
    "                                                 batch_size = 32,#Jumlah gambar yang dimuat dalam satu batch sebelum pelatihan model\n",
    "                                                 class_mode = 'binary')#diatur binary karena melakukan klasifikasi biner (klasifikasi apakah gambar ada objek tertentu atau tidak)"
   ]
  },
  {
   "cell_type": "markdown",
   "metadata": {},
   "source": [
    "Langkah 2.2. Pra Pengolahan Data Testing"
   ]
  },
  {
   "cell_type": "code",
   "execution_count": 3,
   "metadata": {},
   "outputs": [
    {
     "name": "stdout",
     "output_type": "stream",
     "text": [
      "Found 2000 images belonging to 2 classes.\n"
     ]
    }
   ],
   "source": [
    "#untuk data pengujian \n",
    "test_datagen = ImageDataGenerator(rescale = 1./255)#rescle untuk normalisasi nilai intensitas piksel gambar\n",
    "\n",
    "#untuk memuat data pengujian dari direktori \n",
    "test_set = test_datagen.flow_from_directory('dataset/test_set',\n",
    "                                            target_size = (64, 64),#ukuran target untuk gambar yang dimuat\n",
    "                                            batch_size = 32,#Jumlah gambar yang dimuat dalam satu batch sebelum pelatihan model\n",
    "                                            class_mode = 'binary')#diatur binary karena melakukan klasifikasi biner (klasifikasi apakah gambar ada objek tertentu atau tidak)"
   ]
  },
  {
   "cell_type": "markdown",
   "metadata": {},
   "source": [
    "**Langkah 3 - Pembuatan Model CNN**"
   ]
  },
  {
   "cell_type": "markdown",
   "metadata": {},
   "source": [
    "Langkah 3.1.  - Inisiasi Model CNN"
   ]
  },
  {
   "cell_type": "code",
   "execution_count": 4,
   "metadata": {},
   "outputs": [],
   "source": [
    "cnn = tf.keras.models.Sequential()#buat model CNN"
   ]
  },
  {
   "cell_type": "markdown",
   "metadata": {},
   "source": [
    "Langkah 3.2. - Pembuatan Layer Konvolusi 1"
   ]
  },
  {
   "cell_type": "code",
   "execution_count": 5,
   "metadata": {},
   "outputs": [],
   "source": [
    "#untuk menambahkan lapisan ke model CNN \n",
    "#fliters=32 untuk atur jumlah filter / kernel pada lapisan konvolusi \n",
    "#kernel_size=3: menentukan ukuran kernel \n",
    "#'relu' adalah fungsi aktivasi untuk memperkenalkan non-linearitas ke dalam jaringan\n",
    "#input_shape=[64, 64, 3]: Parameter ini mengatur bentuk masukan (input) ke lapisan konvolusi.\n",
    "cnn.add(tf.keras.layers.Conv2D(filters=32, kernel_size=3, activation='relu', input_shape=[64, 64, 3]))"
   ]
  },
  {
   "cell_type": "markdown",
   "metadata": {},
   "source": [
    "Langkah 3.3 - Pembuatan Layer Pooling 1"
   ]
  },
  {
   "cell_type": "code",
   "execution_count": 6,
   "metadata": {},
   "outputs": [],
   "source": [
    "#untuk menambahkan lapisan max-pooling pada model \n",
    "#tf.keras.layers.MaxPool2D() digunakan untuk mereduksi ukuran representasi gambar, serta mengurangi jumlah parameter yang perlu dipelajari oleh model.\n",
    "#pool_size=2: Parameter ini menentukan ukuran jendela pooling\n",
    "#strides=2: Ini adalah jumlah langkah yang diambil oleh jendela pooling saat bergerak melintasi representasi gambar\n",
    "cnn.add(tf.keras.layers.MaxPool2D(pool_size=2, strides=2))"
   ]
  },
  {
   "cell_type": "markdown",
   "metadata": {},
   "source": [
    "Langkah 3.4 - Pembuatan Layer Konvolusi 2 dan Pooling 2"
   ]
  },
  {
   "cell_type": "code",
   "execution_count": 7,
   "metadata": {},
   "outputs": [],
   "source": [
    "cnn.add(tf.keras.layers.Conv2D(filters=32, kernel_size=3, activation='relu'))#menambahkan lapisan konvolusi kedua ke model\n",
    "cnn.add(tf.keras.layers.MaxPool2D(pool_size=2, strides=2))#menambahkan lapisan max-pooling kedua ke model"
   ]
  },
  {
   "cell_type": "markdown",
   "metadata": {},
   "source": [
    "Langkah 3.5 - Flattening"
   ]
  },
  {
   "cell_type": "code",
   "execution_count": 8,
   "metadata": {},
   "outputs": [],
   "source": [
    "#menambahkan lapisan Flatten ke dalam model CNN\n",
    "#tf.keras.layers.Flatten(): Lapisan Flatten digunakan untuk mengubah representasi dua dimensi dari lapisan-lapisan sebelumnya menjadi vektor satu dimensi\n",
    "cnn.add(tf.keras.layers.Flatten())"
   ]
  },
  {
   "cell_type": "markdown",
   "metadata": {},
   "source": [
    "Langkah 3.6 - Fully Connected Layer 1 (Input)"
   ]
  },
  {
   "cell_type": "code",
   "execution_count": 9,
   "metadata": {},
   "outputs": [],
   "source": [
    "#menambahkan lapisan dense (lapisan tersembunyi) ke dalam model jaringan saraf konvolusi (CNN) \n",
    "#units=128: Ini mengatur jumlah unit (neuron) dalam lapisan dense.\n",
    "cnn.add(tf.keras.layers.Dense(units=128, activation='relu'))"
   ]
  },
  {
   "cell_type": "markdown",
   "metadata": {},
   "source": [
    "Langkah 3.7 - Fully Connected Layer 2 (Output)"
   ]
  },
  {
   "cell_type": "code",
   "execution_count": 10,
   "metadata": {},
   "outputs": [],
   "source": [
    "#untuk menambahkan lapisan dense terakhir ke dalam model jaringan saraf konvolusi (CNN)\n",
    "#units=1: Ini mengatur jumlah unit (neuron) dalam lapisan output\n",
    "#'sigmoid' digunakan dalam klasifikasi biner untuk menghasilkan probabilitas keluaran antara 0 dan 1.\n",
    "cnn.add(tf.keras.layers.Dense(units=1, activation='sigmoid'))"
   ]
  },
  {
   "cell_type": "markdown",
   "metadata": {},
   "source": [
    "Langkah 3.8 - Compile Model CNN"
   ]
  },
  {
   "cell_type": "code",
   "execution_count": 11,
   "metadata": {},
   "outputs": [],
   "source": [
    "#compile model CNN\n",
    "#optimizer Adam mengoptimalkan fungsi kerugian model dengan mengupdate bobot-bobot jaringan secara adaptif berdasarkan gradien dari data pelatihan\n",
    "#loss='binary_crossentropy': Ini adalah fungsi kerugian yang digunakan dalam tugas klasifikasi biner. \n",
    "#metrics=['accuracy'] merupakan metrik evaluasi digunakan untuk mengukur kinerja model selama pelatihan dan evaluasi\n",
    "cnn.compile(optimizer = 'adam', loss = 'binary_crossentropy', \n",
    "            metrics = ['accuracy'])"
   ]
  },
  {
   "cell_type": "markdown",
   "metadata": {},
   "source": [
    "**Langkah 4 - Fit CNN**"
   ]
  },
  {
   "cell_type": "code",
   "execution_count": 12,
   "metadata": {},
   "outputs": [
    {
     "name": "stdout",
     "output_type": "stream",
     "text": [
      "Epoch 1/25\n",
      "250/250 [==============================] - 113s 440ms/step - loss: 0.6685 - accuracy: 0.5836 - val_loss: 0.6159 - val_accuracy: 0.6825\n",
      "Epoch 2/25\n",
      "250/250 [==============================] - 108s 433ms/step - loss: 0.6020 - accuracy: 0.6789 - val_loss: 0.5593 - val_accuracy: 0.7250\n",
      "Epoch 3/25\n",
      "250/250 [==============================] - 99s 397ms/step - loss: 0.5655 - accuracy: 0.7105 - val_loss: 0.5842 - val_accuracy: 0.7010\n",
      "Epoch 4/25\n",
      "250/250 [==============================] - 106s 423ms/step - loss: 0.5370 - accuracy: 0.7325 - val_loss: 0.5516 - val_accuracy: 0.7340\n",
      "Epoch 5/25\n",
      "250/250 [==============================] - 101s 404ms/step - loss: 0.5153 - accuracy: 0.7477 - val_loss: 0.5078 - val_accuracy: 0.7480\n",
      "Epoch 6/25\n",
      "250/250 [==============================] - 97s 387ms/step - loss: 0.4910 - accuracy: 0.7635 - val_loss: 0.5063 - val_accuracy: 0.7635\n",
      "Epoch 7/25\n",
      "250/250 [==============================] - 123s 491ms/step - loss: 0.4813 - accuracy: 0.7659 - val_loss: 0.4856 - val_accuracy: 0.7760\n",
      "Epoch 8/25\n",
      "250/250 [==============================] - 103s 411ms/step - loss: 0.4612 - accuracy: 0.7804 - val_loss: 0.4676 - val_accuracy: 0.7855\n",
      "Epoch 9/25\n",
      "250/250 [==============================] - 218s 873ms/step - loss: 0.4454 - accuracy: 0.7868 - val_loss: 0.5378 - val_accuracy: 0.7575\n",
      "Epoch 10/25\n",
      "250/250 [==============================] - 264s 1s/step - loss: 0.4299 - accuracy: 0.7968 - val_loss: 0.5378 - val_accuracy: 0.7405\n",
      "Epoch 11/25\n",
      "250/250 [==============================] - 250s 998ms/step - loss: 0.4207 - accuracy: 0.8020 - val_loss: 0.4496 - val_accuracy: 0.7945\n",
      "Epoch 12/25\n",
      "250/250 [==============================] - 283s 1s/step - loss: 0.4075 - accuracy: 0.8100 - val_loss: 0.5246 - val_accuracy: 0.7640\n",
      "Epoch 13/25\n",
      "250/250 [==============================] - 223s 883ms/step - loss: 0.3927 - accuracy: 0.8159 - val_loss: 0.4743 - val_accuracy: 0.7830\n",
      "Epoch 14/25\n",
      "250/250 [==============================] - 97s 387ms/step - loss: 0.3777 - accuracy: 0.8311 - val_loss: 0.4572 - val_accuracy: 0.7960\n",
      "Epoch 15/25\n",
      "250/250 [==============================] - 118s 470ms/step - loss: 0.3731 - accuracy: 0.8309 - val_loss: 0.4549 - val_accuracy: 0.7975\n",
      "Epoch 16/25\n",
      "250/250 [==============================] - 194s 775ms/step - loss: 0.3596 - accuracy: 0.8390 - val_loss: 0.4771 - val_accuracy: 0.7905\n",
      "Epoch 17/25\n",
      "250/250 [==============================] - 267s 1s/step - loss: 0.3534 - accuracy: 0.8396 - val_loss: 0.4691 - val_accuracy: 0.7970\n",
      "Epoch 18/25\n",
      "250/250 [==============================] - 261s 1s/step - loss: 0.3348 - accuracy: 0.8511 - val_loss: 0.4791 - val_accuracy: 0.7790\n",
      "Epoch 19/25\n",
      "250/250 [==============================] - 260s 1s/step - loss: 0.3300 - accuracy: 0.8503 - val_loss: 0.4690 - val_accuracy: 0.8070\n",
      "Epoch 20/25\n",
      "250/250 [==============================] - 259s 1s/step - loss: 0.3184 - accuracy: 0.8626 - val_loss: 0.4484 - val_accuracy: 0.8050\n",
      "Epoch 21/25\n",
      "250/250 [==============================] - 281s 1s/step - loss: 0.3001 - accuracy: 0.8716 - val_loss: 0.4746 - val_accuracy: 0.7985\n",
      "Epoch 22/25\n",
      "250/250 [==============================] - 248s 991ms/step - loss: 0.2893 - accuracy: 0.8766 - val_loss: 0.4864 - val_accuracy: 0.7955\n",
      "Epoch 23/25\n",
      "250/250 [==============================] - 247s 986ms/step - loss: 0.2772 - accuracy: 0.8834 - val_loss: 0.5173 - val_accuracy: 0.8015\n",
      "Epoch 24/25\n",
      "250/250 [==============================] - 247s 987ms/step - loss: 0.2586 - accuracy: 0.8886 - val_loss: 0.4885 - val_accuracy: 0.8025\n",
      "Epoch 25/25\n",
      "250/250 [==============================] - 187s 748ms/step - loss: 0.2519 - accuracy: 0.8924 - val_loss: 0.5931 - val_accuracy: 0.7785\n"
     ]
    },
    {
     "data": {
      "text/plain": [
       "<keras.src.callbacks.History at 0x281a581c850>"
      ]
     },
     "execution_count": 12,
     "metadata": {},
     "output_type": "execute_result"
    }
   ],
   "source": [
    "#melatih model jaringan saraf konvolusi (CNN) \n",
    "#x=training_set: Ini adalah data pelatihan yang akan digunakan untuk melatih model\n",
    "#validation_data=test_set: data pengujian yang digunakan untuk melakukan evaluasi model pada setiap epoch selama pelatihan\n",
    "#melakukan 25 epoch, yang berarti model akan melihat data pelatihan sebanyak 25 kali \n",
    "cnn.fit(x = training_set, validation_data = test_set, epochs = 25)"
   ]
  },
  {
   "cell_type": "markdown",
   "metadata": {},
   "source": [
    "**Langkah 5 - Prediksi dengan 1 Citra**"
   ]
  },
  {
   "cell_type": "code",
   "execution_count": 13,
   "metadata": {},
   "outputs": [
    {
     "name": "stdout",
     "output_type": "stream",
     "text": [
      "1/1 [==============================] - 1s 921ms/step\n"
     ]
    }
   ],
   "source": [
    "import numpy as np#untuk operasik numerik\n",
    "from keras.preprocessing import image#untuk proses gambar\n",
    "test_image = image.load_img('dataset/single_prediction/cat_or_dog_1.jpg', target_size = (64, 64))#memuat gambar yang akan diprediksi.\n",
    "test_image = image.img_to_array(test_image)#mengonversi gambar yang telah dimuat menjadi array NumPy.\n",
    "test_image = np.expand_dims(test_image, axis = 0)#mengubah array gambar menjadi tensor dengan dimensi tambahan\n",
    "result = cnn.predict(test_image)#untuk melakukan prediksi dengan model CNN yang sudah dilatih\n",
    "training_set.class_indices#memberikan informasi tentang indeks yang sesuai dengan kelas 'cat' dan 'dog' dalam hasil prediksi\n",
    "if result[0][0] == 1:#memeriksa apakah hasil prediksi adalah 1 atau tidak\n",
    "  prediction = 'dog'#jika hasil 1, maka memprediksi bahwa gambar adalah dog\n",
    "else:\n",
    "  prediction = 'cat'#jika hasil 1, maka memprediksi bahwa gambar adalah cat"
   ]
  }
 ],
 "metadata": {
  "kernelspec": {
   "display_name": "base",
   "language": "python",
   "name": "python3"
  },
  "language_info": {
   "codemirror_mode": {
    "name": "ipython",
    "version": 3
   },
   "file_extension": ".py",
   "mimetype": "text/x-python",
   "name": "python",
   "nbconvert_exporter": "python",
   "pygments_lexer": "ipython3",
   "version": "3.11.4"
  }
 },
 "nbformat": 4,
 "nbformat_minor": 2
}
