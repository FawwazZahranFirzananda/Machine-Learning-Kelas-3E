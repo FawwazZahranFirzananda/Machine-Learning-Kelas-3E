{
 "cells": [
  {
   "cell_type": "code",
   "execution_count": 1,
   "metadata": {},
   "outputs": [],
   "source": [
    "import numpy as np\n",
    "import pandas as pd\n",
    "import matplotlib.pyplot as plt"
   ]
  },
  {
   "cell_type": "code",
   "execution_count": 2,
   "metadata": {},
   "outputs": [
    {
     "name": "stdout",
     "output_type": "stream",
     "text": [
      "**Author**: Yann LeCun, Corinna Cortes, Christopher J.C. Burges  \n",
      "**Source**: [MNIST Website](http://yann.lecun.com/exdb/mnist/) - Date unknown  \n",
      "**Please cite**:  \n",
      "\n",
      "The MNIST database of handwritten digits with 784 features, raw data available at: http://yann.lecun.com/exdb/mnist/. It can be split in a training set of the first 60,000 examples, and a test set of 10,000 examples  \n",
      "\n",
      "It is a subset of a larger set available from NIST. The digits have been size-normalized and centered in a fixed-size image. It is a good database for people who want to try learning techniques and pattern recognition methods on real-world data while spending minimal efforts on preprocessing and formatting. The original black and white (bilevel) images from NIST were size normalized to fit in a 20x20 pixel box while preserving their aspect ratio. The resulting images contain grey levels as a result of the anti-aliasing technique used by the normalization algorithm. the images were centered in a 28x28 image by computing the center of mass of the pixels, and translating the image so as to position this point at the center of the 28x28 field.  \n",
      "\n",
      "With some classification methods (particularly template-based methods, such as SVM and K-nearest neighbors), the error rate improves when the digits are centered by bounding box rather than center of mass. If you do this kind of pre-processing, you should report it in your publications. The MNIST database was constructed from NIST's NIST originally designated SD-3 as their training set and SD-1 as their test set. However, SD-3 is much cleaner and easier to recognize than SD-1. The reason for this can be found on the fact that SD-3 was collected among Census Bureau employees, while SD-1 was collected among high-school students. Drawing sensible conclusions from learning experiments requires that the result be independent of the choice of training set and test among the complete set of samples. Therefore it was necessary to build a new database by mixing NIST's datasets.  \n",
      "\n",
      "The MNIST training set is composed of 30,000 patterns from SD-3 and 30,000 patterns from SD-1. Our test set was composed of 5,000 patterns from SD-3 and 5,000 patterns from SD-1. The 60,000 pattern training set contained examples from approximately 250 writers. We made sure that the sets of writers of the training set and test set were disjoint. SD-1 contains 58,527 digit images written by 500 different writers. In contrast to SD-3, where blocks of data from each writer appeared in sequence, the data in SD-1 is scrambled. Writer identities for SD-1 is available and we used this information to unscramble the writers. We then split SD-1 in two: characters written by the first 250 writers went into our new training set. The remaining 250 writers were placed in our test set. Thus we had two sets with nearly 30,000 examples each. The new training set was completed with enough examples from SD-3, starting at pattern # 0, to make a full set of 60,000 training patterns. Similarly, the new test set was completed with SD-3 examples starting at pattern # 35,000 to make a full set with 60,000 test patterns. Only a subset of 10,000 test images (5,000 from SD-1 and 5,000 from SD-3) is available on this site. The full 60,000 sample training set is available.\n",
      "\n",
      "Downloaded from openml.org.\n"
     ]
    }
   ],
   "source": [
    "from sklearn.datasets import fetch_openml\n",
    "mnist = fetch_openml('mnist_784')\n",
    "# Baca deskripsi dataset\n",
    "# Tahap ini mungkin diperlukan untuk lebih memahami dataset\n",
    "print(mnist.DESCR)"
   ]
  },
  {
   "cell_type": "code",
   "execution_count": 3,
   "metadata": {},
   "outputs": [
    {
     "data": {
      "text/plain": [
       "dict_keys(['data', 'target', 'frame', 'categories', 'feature_names', 'target_names', 'DESCR', 'details', 'url'])"
      ]
     },
     "execution_count": 3,
     "metadata": {},
     "output_type": "execute_result"
    }
   ],
   "source": [
    "mnist.keys()"
   ]
  },
  {
   "cell_type": "markdown",
   "metadata": {},
   "source": [
    "1. Pastikan jumlah data setiap label angka (0-9). Apakah terdapat data imbalance pada dataset MNIST yang digunakan? Jelaskan jawaban kelompok Anda dan buktikan!"
   ]
  },
  {
   "cell_type": "code",
   "execution_count": 4,
   "metadata": {},
   "outputs": [],
   "source": [
    "label_counts = np.bincount(mnist.target.astype(int))"
   ]
  },
  {
   "cell_type": "code",
   "execution_count": 5,
   "metadata": {},
   "outputs": [
    {
     "name": "stdout",
     "output_type": "stream",
     "text": [
      "nilai 0 = 6903\n",
      "nilai 1 = 7877\n",
      "nilai 2 = 6990\n",
      "nilai 3 = 7141\n",
      "nilai 4 = 6824\n",
      "nilai 5 = 6313\n",
      "nilai 6 = 6876\n",
      "nilai 7 = 7293\n",
      "nilai 8 = 6825\n",
      "nilai 9 = 6958\n"
     ]
    }
   ],
   "source": [
    "for index, value in enumerate(label_counts):\n",
    "    print(f'nilai {index} = {value}')"
   ]
  },
  {
   "cell_type": "markdown",
   "metadata": {},
   "source": [
    "2. Tampilkan 15 buah citra pertama dari dataset MNIST berserta labelnya. Anda dapat menggunakan referensi dari Job Sheet 03."
   ]
  },
  {
   "cell_type": "code",
   "execution_count": 6,
   "metadata": {},
   "outputs": [
    {
     "data": {
      "image/png": "[encoded data removed]",
      "text/plain": [
       "<Figure size 1500x700 with 15 Axes>"
      ]
     },
     "metadata": {},
     "output_type": "display_data"
    }
   ],
   "source": [
    "fig, axes = plt.subplots(3, 5, figsize=(15, 7))\n",
    "for i, ax in enumerate(axes.flat):\n",
    "    ax.imshow(mnist.data.iloc[i].values.reshape(28, 28), cmap='gray')\n",
    "    ax.set_title(f\"Label: {mnist.target[i]}\")\n",
    "    ax.axis('off')\n",
    "plt.tight_layout()"
   ]
  },
  {
   "cell_type": "markdown",
   "metadata": {},
   "source": [
    "3. Lakukan proses ekstraksi fitur pada data MNIST."
   ]
  },
  {
   "cell_type": "code",
   "execution_count": 9,
   "metadata": {},
   "outputs": [
    {
     "name": "stdout",
     "output_type": "stream",
     "text": [
      "0        5\n",
      "1        0\n",
      "2        4\n",
      "3        1\n",
      "4        9\n",
      "        ..\n",
      "69995    2\n",
      "69996    3\n",
      "69997    4\n",
      "69998    5\n",
      "69999    6\n",
      "Name: class, Length: 70000, dtype: category\n",
      "Categories (10, object): ['0', '1', '2', '3', ..., '6', '7', '8', '9']\n"
     ]
    }
   ],
   "source": [
    "X = mnist.data.astype('float64')\n",
    "y = mnist.target\n",
    "\n",
    "print(y)"
   ]
  },
  {
   "cell_type": "code",
   "execution_count": 10,
   "metadata": {},
   "outputs": [
    {
     "name": "stdout",
     "output_type": "stream",
     "text": [
      "[[ 122.25525533 -316.2338439   -51.13183087 ...  -71.53607891\n",
      "    20.26053602   81.23987204]\n",
      " [1010.49400346 -289.96362059  576.12074518 ... -152.38679517\n",
      "   131.01765527   40.10242004]\n",
      " [ -58.99594719  393.697445   -161.99818413 ...   55.24295342\n",
      "  -176.02766744  -64.85317129]\n",
      " ...\n",
      " [-271.50701323  590.07850009  341.36886919 ...   -6.60520169\n",
      "   -79.63551889  -51.93017584]\n",
      " [-310.22482291 -116.72715081  635.71999693 ...  -16.13065561\n",
      "   -73.0455297  -254.12879362]\n",
      " [1058.86212574  -83.39253844  731.34218396 ...  -94.89282349\n",
      "    89.06399116  -55.05700971]]\n"
     ]
    }
   ],
   "source": [
    "from sklearn.decomposition import PCA\n",
    "\n",
    "n_components = 50\n",
    "pca = PCA(n_components=n_components)\n",
    "X_pca = pca.fit_transform(X)\n",
    "\n",
    "print(X_pca)"
   ]
  },
  {
   "cell_type": "markdown",
   "metadata": {},
   "source": [
    "4. Buatlah data training dan data testing menggunakan rasio 70:30, 80:20, 90:10."
   ]
  },
  {
   "cell_type": "code",
   "execution_count": 11,
   "metadata": {},
   "outputs": [],
   "source": [
    "from sklearn.model_selection import train_test_split\n",
    "X_train, X_test, y_train, y_test = train_test_split(X, y, test_size=0.3, random_state=42)"
   ]
  },
  {
   "cell_type": "code",
   "execution_count": 12,
   "metadata": {},
   "outputs": [],
   "source": [
    "X_train, X_test, y_train, y_test = train_test_split(X, y, test_size=0.2, random_state=42)"
   ]
  },
  {
   "cell_type": "code",
   "execution_count": 13,
   "metadata": {},
   "outputs": [],
   "source": [
    "X_train, X_test, y_train, y_test = train_test_split(X, y, test_size=0.1, random_state=42)"
   ]
  },
  {
   "cell_type": "markdown",
   "metadata": {},
   "source": [
    "5. Lakukan proses klasifikasi dengan menggunakan algoritma Naive Bayes dan SVM."
   ]
  },
  {
   "cell_type": "code",
   "execution_count": 14,
   "metadata": {},
   "outputs": [],
   "source": [
    "from sklearn.preprocessing import StandardScaler\n",
    "from sklearn.naive_bayes import GaussianNB\n",
    "from sklearn.svm import SVC"
   ]
  },
  {
   "cell_type": "code",
   "execution_count": 15,
   "metadata": {},
   "outputs": [],
   "source": [
    "scaler = StandardScaler()\n",
    "X_train_scaled = scaler.fit_transform(X_train)\n",
    "X_test_scaled = scaler.transform(X_test)"
   ]
  },
  {
   "cell_type": "code",
   "execution_count": 16,
   "metadata": {},
   "outputs": [
    {
     "data": {
      "text/html": [
       "<style>#sk-container-id-1 {color: black;background-color: white;}#sk-container-id-1 pre{padding: 0;}#sk-container-id-1 div.sk-toggleable {background-color: white;}#sk-container-id-1 label.sk-toggleable__label {cursor: pointer;display: block;width: 100%;margin-bottom: 0;padding: 0.3em;box-sizing: border-box;text-align: center;}#sk-container-id-1 label.sk-toggleable__label-arrow:before {content: \"▸\";float: left;margin-right: 0.25em;color: #696969;}#sk-container-id-1 label.sk-toggleable__label-arrow:hover:before {color: black;}#sk-container-id-1 div.sk-estimator:hover label.sk-toggleable__label-arrow:before {color: black;}#sk-container-id-1 div.sk-toggleable__content {max-height: 0;max-width: 0;overflow: hidden;text-align: left;background-color: #f0f8ff;}#sk-container-id-1 div.sk-toggleable__content pre {margin: 0.2em;color: black;border-radius: 0.25em;background-color: #f0f8ff;}#sk-container-id-1 input.sk-toggleable__control:checked~div.sk-toggleable__content {max-height: 200px;max-width: 100%;overflow: auto;}#sk-container-id-1 input.sk-toggleable__control:checked~label.sk-toggleable__label-arrow:before {content: \"▾\";}#sk-container-id-1 div.sk-estimator input.sk-toggleable__control:checked~label.sk-toggleable__label {background-color: #d4ebff;}#sk-container-id-1 div.sk-label input.sk-toggleable__control:checked~label.sk-toggleable__label {background-color: #d4ebff;}#sk-container-id-1 input.sk-hidden--visually {border: 0;clip: rect(1px 1px 1px 1px);clip: rect(1px, 1px, 1px, 1px);height: 1px;margin: -1px;overflow: hidden;padding: 0;position: absolute;width: 1px;}#sk-container-id-1 div.sk-estimator {font-family: monospace;background-color: #f0f8ff;border: 1px dotted black;border-radius: 0.25em;box-sizing: border-box;margin-bottom: 0.5em;}#sk-container-id-1 div.sk-estimator:hover {background-color: #d4ebff;}#sk-container-id-1 div.sk-parallel-item::after {content: \"\";width: 100%;border-bottom: 1px solid gray;flex-grow: 1;}#sk-container-id-1 div.sk-label:hover label.sk-toggleable__label {background-color: #d4ebff;}#sk-container-id-1 div.sk-serial::before {content: \"\";position: absolute;border-left: 1px solid gray;box-sizing: border-box;top: 0;bottom: 0;left: 50%;z-index: 0;}#sk-container-id-1 div.sk-serial {display: flex;flex-direction: column;align-items: center;background-color: white;padding-right: 0.2em;padding-left: 0.2em;position: relative;}#sk-container-id-1 div.sk-item {position: relative;z-index: 1;}#sk-container-id-1 div.sk-parallel {display: flex;align-items: stretch;justify-content: center;background-color: white;position: relative;}#sk-container-id-1 div.sk-item::before, #sk-container-id-1 div.sk-parallel-item::before {content: \"\";position: absolute;border-left: 1px solid gray;box-sizing: border-box;top: 0;bottom: 0;left: 50%;z-index: -1;}#sk-container-id-1 div.sk-parallel-item {display: flex;flex-direction: column;z-index: 1;position: relative;background-color: white;}#sk-container-id-1 div.sk-parallel-item:first-child::after {align-self: flex-end;width: 50%;}#sk-container-id-1 div.sk-parallel-item:last-child::after {align-self: flex-start;width: 50%;}#sk-container-id-1 div.sk-parallel-item:only-child::after {width: 0;}#sk-container-id-1 div.sk-dashed-wrapped {border: 1px dashed gray;margin: 0 0.4em 0.5em 0.4em;box-sizing: border-box;padding-bottom: 0.4em;background-color: white;}#sk-container-id-1 div.sk-label label {font-family: monospace;font-weight: bold;display: inline-block;line-height: 1.2em;}#sk-container-id-1 div.sk-label-container {text-align: center;}#sk-container-id-1 div.sk-container {/* jupyter's `normalize.less` sets `[hidden] { display: none; }` but bootstrap.min.css set `[hidden] { display: none !important; }` so we also need the `!important` here to be able to override the default hidden behavior on the sphinx rendered scikit-learn.org. See: https://github.com/scikit-learn/scikit-learn/issues/21755 */display: inline-block !important;position: relative;}#sk-container-id-1 div.sk-text-repr-fallback {display: none;}</style><div id=\"sk-container-id-1\" class=\"sk-top-container\"><div class=\"sk-text-repr-fallback\"><pre>SVC()</pre><b>In a Jupyter environment, please rerun this cell to show the HTML representation or trust the notebook. <br />On GitHub, the HTML representation is unable to render, please try loading this page with nbviewer.org.</b></div><div class=\"sk-container\" hidden><div class=\"sk-item\"><div class=\"sk-estimator sk-toggleable\"><input class=\"sk-toggleable__control sk-hidden--visually\" id=\"sk-estimator-id-1\" type=\"checkbox\" checked><label for=\"sk-estimator-id-1\" class=\"sk-toggleable__label sk-toggleable__label-arrow\">SVC</label><div class=\"sk-toggleable__content\"><pre>SVC()</pre></div></div></div></div></div>"
      ],
      "text/plain": [
       "SVC()"
      ]
     },
     "execution_count": 16,
     "metadata": {},
     "output_type": "execute_result"
    }
   ],
   "source": [
    "naive_bayes = GaussianNB()\n",
    "svm = SVC(kernel='rbf', C=1.0)\n",
    "\n",
    "naive_bayes.fit(X_train, y_train)\n",
    "svm.fit(X_train, y_train)"
   ]
  },
  {
   "cell_type": "markdown",
   "metadata": {},
   "source": [
    "6. Evaluasi model yang Anda buat terhadap data training dan data testing."
   ]
  },
  {
   "cell_type": "code",
   "execution_count": 17,
   "metadata": {},
   "outputs": [],
   "source": [
    "from sklearn.metrics import classification_report, accuracy_score, confusion_matrix"
   ]
  },
  {
   "cell_type": "code",
   "execution_count": 18,
   "metadata": {},
   "outputs": [
    {
     "name": "stdout",
     "output_type": "stream",
     "text": [
      "Train Accuracy  0.5604761904761905\n",
      "Test Accuracy  0.5634285714285714\n",
      "Train Classification Report                precision    recall  f1-score   support\n",
      "\n",
      "           0       0.76      0.89      0.82      6220\n",
      "           1       0.81      0.94      0.87      7077\n",
      "           2       0.88      0.31      0.46      6316\n",
      "           3       0.75      0.36      0.49      6381\n",
      "           4       0.84      0.14      0.24      6213\n",
      "           5       0.60      0.05      0.09      5655\n",
      "           6       0.62      0.95      0.75      6199\n",
      "           7       0.90      0.30      0.45      6569\n",
      "           8       0.29      0.64      0.40      6132\n",
      "           9       0.38      0.95      0.54      6238\n",
      "\n",
      "    accuracy                           0.56     63000\n",
      "   macro avg       0.68      0.55      0.51     63000\n",
      "weighted avg       0.69      0.56      0.52     63000\n",
      "\n",
      "Test Classification Report               precision    recall  f1-score   support\n",
      "\n",
      "           0       0.75      0.89      0.81       683\n",
      "           1       0.81      0.96      0.87       800\n",
      "           2       0.83      0.31      0.45       674\n",
      "           3       0.75      0.35      0.47       760\n",
      "           4       0.83      0.16      0.27       611\n",
      "           5       0.70      0.05      0.09       658\n",
      "           6       0.63      0.94      0.76       677\n",
      "           7       0.91      0.31      0.47       724\n",
      "           8       0.28      0.61      0.39       693\n",
      "           9       0.40      0.94      0.56       720\n",
      "\n",
      "    accuracy                           0.56      7000\n",
      "   macro avg       0.69      0.55      0.51      7000\n",
      "weighted avg       0.69      0.56      0.52      7000\n",
      "\n",
      "Train Confusion Matrix  [[5512    9   34   20    9   13  242    4  259  118]\n",
      " [   2 6671   15   30    3   11   89    2  174   80]\n",
      " [ 488  160 1959  424   24   29 1649   21 1462  100]\n",
      " [ 304  311   57 2329    9   15  378   53 2262  663]\n",
      " [ 151   37   52   38  887   45  671   36 1303 2993]\n",
      " [ 602  142   33  126   27  269  361   11 3492  592]\n",
      " [  49   91   29    2    4   21 5876    0  120    7]\n",
      " [  26   49    9   58   44    7   21 1991  211 4153]\n",
      " [  94  756   31   50   17   32  113    9 3914 1116]\n",
      " [  35   38   16   11   31    4    5   88  108 5902]]\n",
      "Test Confusion Matrix  [[610   1   4   0   2   1  29   1  25  10]\n",
      " [  1 766   3   3   0   2   9   0  11   5]\n",
      " [ 54  21 207  52   3   2 162   0 169   4]\n",
      " [ 43  33   7 263   0   3  45   6 283  77]\n",
      " [ 20   6  10   3 100   3  60   4 131 274]\n",
      " [ 68  12   4  14   2  33  42   2 419  62]\n",
      " [  6  15   4   0   1   1 634   0  13   3]\n",
      " [  1   6   2   8   5   1   2 227  19 453]\n",
      " [ 11  88   4   6   2   1  18   2 425 136]\n",
      " [  3   3   4   1   6   0   1   7  16 679]]\n"
     ]
    }
   ],
   "source": [
    "train_preds = naive_bayes.predict(X_train)\n",
    "test_preds = naive_bayes.predict(X_test)\n",
    "\n",
    "train_accuracy = accuracy_score(y_train, train_preds)\n",
    "test_accuracy = accuracy_score(y_test, test_preds)\n",
    "\n",
    "train_report = classification_report(y_train, train_preds)\n",
    "test_report = classification_report(y_test, test_preds)\n",
    "\n",
    "train_confusion_matrix = confusion_matrix(y_train, train_preds)\n",
    "test_confusion_matrix = confusion_matrix(y_test, test_preds)\n",
    "\n",
    "print(\"Train Accuracy \", train_accuracy)\n",
    "print(\"Test Accuracy \", test_accuracy)\n",
    "print(\"Train Classification Report \", train_report)\n",
    "print(\"Test Classification Report\", test_report)\n",
    "print(\"Train Confusion Matrix \", train_confusion_matrix)    \n",
    "print(\"Test Confusion Matrix \", test_confusion_matrix)"
   ]
  },
  {
   "cell_type": "code",
   "execution_count": 19,
   "metadata": {},
   "outputs": [
    {
     "name": "stdout",
     "output_type": "stream",
     "text": [
      "Train Accuracy  0.9902222222222222\n",
      "Test Accuracy  0.975\n",
      "Train Classification Report                precision    recall  f1-score   support\n",
      "\n",
      "           0       0.99      1.00      0.99      6220\n",
      "           1       0.99      1.00      0.99      7077\n",
      "           2       0.99      0.99      0.99      6316\n",
      "           3       0.99      0.99      0.99      6381\n",
      "           4       0.99      0.99      0.99      6213\n",
      "           5       0.99      0.99      0.99      5655\n",
      "           6       0.99      1.00      0.99      6199\n",
      "           7       0.99      0.99      0.99      6569\n",
      "           8       0.99      0.99      0.99      6132\n",
      "           9       0.99      0.98      0.98      6238\n",
      "\n",
      "    accuracy                           0.99     63000\n",
      "   macro avg       0.99      0.99      0.99     63000\n",
      "weighted avg       0.99      0.99      0.99     63000\n",
      "\n",
      "Test Classification Report               precision    recall  f1-score   support\n",
      "\n",
      "           0       0.99      0.99      0.99       683\n",
      "           1       0.98      0.99      0.99       800\n",
      "           2       0.96      0.98      0.97       674\n",
      "           3       0.97      0.96      0.96       760\n",
      "           4       0.97      0.98      0.98       611\n",
      "           5       0.98      0.97      0.97       658\n",
      "           6       0.98      0.99      0.98       677\n",
      "           7       0.97      0.97      0.97       724\n",
      "           8       0.98      0.96      0.97       693\n",
      "           9       0.97      0.97      0.97       720\n",
      "\n",
      "    accuracy                           0.97      7000\n",
      "   macro avg       0.97      0.98      0.98      7000\n",
      "weighted avg       0.97      0.97      0.97      7000\n",
      "\n",
      "Train Confusion Matrix  [[6194    1    2    1    4    3    4    2    5    4]\n",
      " [   1 7044   11    1    2    1    1   11    2    3]\n",
      " [   5    3 6268    5    9    0    1   14    9    2]\n",
      " [   1    2   14 6292    0   23    0   20   20    9]\n",
      " [   2    9    5    0 6148    0   10    3    1   35]\n",
      " [   7    2    4   17    6 5598   11    1    4    5]\n",
      " [   9    4    1    0    5    8 6169    0    3    0]\n",
      " [   2   21   16    1   14    0    0 6487    3   25]\n",
      " [   3   17   10    7    6   12    6    5 6062    4]\n",
      " [   9    6    2   16   39    7    1   28    8 6122]]\n",
      "Test Confusion Matrix  [[679   0   1   0   0   0   0   0   2   1]\n",
      " [  0 791   3   2   0   0   0   3   0   1]\n",
      " [  1   1 662   0   2   0   3   2   3   0]\n",
      " [  0   2   8 729   2   8   0   3   4   4]\n",
      " [  1   0   1   0 598   0   2   1   1   7]\n",
      " [  1   0   0   9   0 638   6   1   3   0]\n",
      " [  2   0   0   0   3   3 668   0   1   0]\n",
      " [  0   4   8   0   4   0   0 702   0   6]\n",
      " [  1   3   3   9   1   4   3   4 663   2]\n",
      " [  3   5   1   5   4   1   0   4   2 695]]\n"
     ]
    }
   ],
   "source": [
    "train_preds = svm.predict(X_train)\n",
    "test_preds = svm.predict(X_test)\n",
    "\n",
    "train_accuracy = accuracy_score(y_train, train_preds)\n",
    "test_accuracy = accuracy_score(y_test, test_preds)\n",
    "\n",
    "train_report = classification_report(y_train, train_preds)\n",
    "test_report = classification_report(y_test, test_preds)\n",
    "\n",
    "train_confusion_matrix = confusion_matrix(y_train, train_preds)\n",
    "test_confusion_matrix = confusion_matrix(y_test, test_preds)\n",
    "\n",
    "print(\"Train Accuracy \", train_accuracy)\n",
    "print(\"Test Accuracy \", test_accuracy)\n",
    "print(\"Train Classification Report \", train_report)\n",
    "print(\"Test Classification Report\", test_report)\n",
    "print(\"Train Confusion Matrix \", train_confusion_matrix)    \n",
    "print(\"Test Confusion Matrix \", test_confusion_matrix)"
   ]
  },
  {
   "cell_type": "code",
   "execution_count": 20,
   "metadata": {},
   "outputs": [],
   "source": [
    "def show_images_with_predictions(model, X_test, y_test):\n",
    "    predictions = model.predict(X_test)\n",
    "\n",
    "    fig, axes = plt.subplots(3, 5, figsize=(10, 7))\n",
    "    for i, ax in enumerate(axes.flat):\n",
    "        ax.imshow(X_test.iloc[i].values.reshape(28, 28), cmap='gray')\n",
    "        ax.set_title(f\"True: {y_test.iloc[i]}\\nPred: {predictions[i]}\")\n",
    "        ax.axis('off')\n",
    "    plt.tight_layout()\n",
    "\n",
    "show_images_with_predictions(naive_bayes, X_test, y_test)"
   ]
  }
 ],
 "metadata": {
  "kernelspec": {
   "display_name": "Python 3",
   "language": "python",
   "name": "python3"
  },
  "language_info": {
   "codemirror_mode": {
    "name": "ipython",
    "version": 3
   },
   "file_extension": ".py",
   "mimetype": "text/x-python",
   "name": "python",
   "nbconvert_exporter": "python",
   "pygments_lexer": "ipython3",
   "version": "3.10.11"
  }
 },
 "nbformat": 4,
 "nbformat_minor": 2
}
