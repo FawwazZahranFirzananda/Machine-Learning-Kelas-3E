{
 "cells": [
  {
   "cell_type": "markdown",
   "metadata": {},
   "source": [
    "# Tugas"
   ]
  },
  {
   "cell_type": "markdown",
   "metadata": {},
   "source": [
    "**Import Library**"
   ]
  },
  {
   "cell_type": "code",
   "execution_count": 3,
   "metadata": {},
   "outputs": [],
   "source": [
    "import tensorflow as tf\n",
    "from tensorflow.keras.datasets import mnist\n",
    "from tensorflow.keras.models import Sequential\n",
    "from tensorflow.keras.layers import Flatten, Dense\n",
    "from tensorflow.keras.utils import to_categorical"
   ]
  },
  {
   "cell_type": "markdown",
   "metadata": {},
   "source": [
    "**Create MNIST dataset**"
   ]
  },
  {
   "cell_type": "code",
   "execution_count": 4,
   "metadata": {},
   "outputs": [],
   "source": [
    "(train_images, train_labels), (test_images, test_labels) = mnist.load_data()"
   ]
  },
  {
   "cell_type": "markdown",
   "metadata": {},
   "source": [
    "**Preprocessing Data**"
   ]
  },
  {
   "cell_type": "code",
   "execution_count": 5,
   "metadata": {},
   "outputs": [],
   "source": [
    "# Misalnya, normalisasi nilai piksel ke rentang 0-1\n",
    "train_images = train_images / 255.0\n",
    "test_images = test_images / 255.0"
   ]
  },
  {
   "cell_type": "markdown",
   "metadata": {},
   "source": [
    "**Label Encoding**"
   ]
  },
  {
   "cell_type": "code",
   "execution_count": 6,
   "metadata": {},
   "outputs": [],
   "source": [
    "# Ubah label ke one-hot encoding\n",
    "train_labels = to_categorical(train_labels, 10)\n",
    "test_labels = to_categorical(test_labels, 10)"
   ]
  },
  {
   "cell_type": "markdown",
   "metadata": {},
   "source": [
    "**Create ANN Model**"
   ]
  },
  {
   "cell_type": "code",
   "execution_count": 7,
   "metadata": {},
   "outputs": [],
   "source": [
    "model = Sequential()\n",
    "model.add(Flatten(input_shape=(28, 28)))  # Layer input\n",
    "model.add(Dense(128, activation='relu'))  # Hidden layer dengan aktivasi ReLU\n",
    "model.add(Dense(10, activation='softmax'))  # Layer output dengan aktivasi softmax"
   ]
  },
  {
   "cell_type": "markdown",
   "metadata": {},
   "source": [
    "**Model Compilation**"
   ]
  },
  {
   "cell_type": "code",
   "execution_count": 8,
   "metadata": {},
   "outputs": [],
   "source": [
    "model.compile(optimizer='adam', loss='categorical_crossentropy', metrics=['accuracy'])"
   ]
  },
  {
   "cell_type": "markdown",
   "metadata": {},
   "source": [
    "**Model Training**"
   ]
  },
  {
   "cell_type": "code",
   "execution_count": 9,
   "metadata": {},
   "outputs": [
    {
     "name": "stdout",
     "output_type": "stream",
     "text": [
      "Epoch 1/10\n",
      "750/750 [==============================] - 9s 4ms/step - loss: 0.3316 - accuracy: 0.9071 - val_loss: 0.1749 - val_accuracy: 0.9513\n",
      "Epoch 2/10\n",
      "750/750 [==============================] - 3s 3ms/step - loss: 0.1489 - accuracy: 0.9565 - val_loss: 0.1333 - val_accuracy: 0.9628\n",
      "Epoch 3/10\n",
      "750/750 [==============================] - 3s 4ms/step - loss: 0.1030 - accuracy: 0.9698 - val_loss: 0.1111 - val_accuracy: 0.9668\n",
      "Epoch 4/10\n",
      "750/750 [==============================] - 3s 4ms/step - loss: 0.0790 - accuracy: 0.9769 - val_loss: 0.0971 - val_accuracy: 0.9718\n",
      "Epoch 5/10\n",
      "750/750 [==============================] - 3s 3ms/step - loss: 0.0617 - accuracy: 0.9820 - val_loss: 0.0937 - val_accuracy: 0.9716\n",
      "Epoch 6/10\n",
      "750/750 [==============================] - 3s 3ms/step - loss: 0.0505 - accuracy: 0.9850 - val_loss: 0.0896 - val_accuracy: 0.9732\n",
      "Epoch 7/10\n",
      "750/750 [==============================] - 3s 3ms/step - loss: 0.0407 - accuracy: 0.9884 - val_loss: 0.0904 - val_accuracy: 0.9723\n",
      "Epoch 8/10\n",
      "750/750 [==============================] - 3s 3ms/step - loss: 0.0325 - accuracy: 0.9912 - val_loss: 0.0876 - val_accuracy: 0.9743\n",
      "Epoch 9/10\n",
      "750/750 [==============================] - 3s 3ms/step - loss: 0.0276 - accuracy: 0.9923 - val_loss: 0.0900 - val_accuracy: 0.9733\n",
      "Epoch 10/10\n",
      "750/750 [==============================] - 3s 4ms/step - loss: 0.0221 - accuracy: 0.9945 - val_loss: 0.0831 - val_accuracy: 0.9763\n"
     ]
    },
    {
     "data": {
      "text/plain": [
       "<keras.src.callbacks.History at 0x16f3e712d40>"
      ]
     },
     "execution_count": 9,
     "metadata": {},
     "output_type": "execute_result"
    }
   ],
   "source": [
    "model.fit(train_images, train_labels, epochs=10, batch_size=64, validation_split=0.2)"
   ]
  },
  {
   "cell_type": "markdown",
   "metadata": {},
   "source": [
    "**Evaluate The Model on Test Data**"
   ]
  },
  {
   "cell_type": "code",
   "execution_count": 10,
   "metadata": {},
   "outputs": [
    {
     "name": "stdout",
     "output_type": "stream",
     "text": [
      "313/313 [==============================] - 1s 2ms/step - loss: 0.0752 - accuracy: 0.9773\n",
      "Akurasi pengujian: 0.9772999882698059\n"
     ]
    }
   ],
   "source": [
    "test_loss, test_acc = model.evaluate(test_images, test_labels)\n",
    "print(f'Akurasi pengujian: {test_acc}')"
   ]
  },
  {
   "cell_type": "markdown",
   "metadata": {},
   "source": [
    "**Predictions with Models**"
   ]
  },
  {
   "cell_type": "code",
   "execution_count": 11,
   "metadata": {},
   "outputs": [
    {
     "name": "stdout",
     "output_type": "stream",
     "text": [
      "313/313 [==============================] - 1s 2ms/step\n"
     ]
    }
   ],
   "source": [
    "predictions = model.predict(test_images)"
   ]
  },
  {
   "cell_type": "markdown",
   "metadata": {},
   "source": [
    "**Retrieves a Single Class Label from One-Hot Encoding**"
   ]
  },
  {
   "cell_type": "code",
   "execution_count": 12,
   "metadata": {},
   "outputs": [],
   "source": [
    "import numpy as np\n",
    "from sklearn.metrics import confusion_matrix"
   ]
  },
  {
   "cell_type": "code",
   "execution_count": 13,
   "metadata": {},
   "outputs": [],
   "source": [
    "test_labels_single = np.argmax(test_labels, axis=1)"
   ]
  },
  {
   "cell_type": "markdown",
   "metadata": {},
   "source": [
    "**Create a Matrix**"
   ]
  },
  {
   "cell_type": "code",
   "execution_count": 15,
   "metadata": {},
   "outputs": [
    {
     "name": "stdout",
     "output_type": "stream",
     "text": [
      "Matrix:\n",
      "[[ 971    1    2    0    0    0    3    1    2    0]\n",
      " [   0 1122    4    0    0    1    2    0    6    0]\n",
      " [   6    2 1002    3    1    0    2    8    8    0]\n",
      " [   1    0    5  985    0    6    0    4    5    4]\n",
      " [   1    0    3    1  960    1    5    1    1    9]\n",
      " [   2    0    0    6    0  874    2    1    5    2]\n",
      " [   7    2    3    1    5    3  935    0    2    0]\n",
      " [   1    4   14    2    1    1    0  998    1    6]\n",
      " [   2    0    6    6    3    5    2    6  940    4]\n",
      " [   3    2    0    4    6    4    0    3    1  986]]\n"
     ]
    }
   ],
   "source": [
    "confusion = confusion_matrix(test_labels_single, np.argmax(predictions, axis=1))\n",
    "print('Matrix:')\n",
    "print(confusion)"
   ]
  }
 ],
 "metadata": {
  "kernelspec": {
   "display_name": "Python 3",
   "language": "python",
   "name": "python3"
  },
  "language_info": {
   "codemirror_mode": {
    "name": "ipython",
    "version": 3
   },
   "file_extension": ".py",
   "mimetype": "text/x-python",
   "name": "python",
   "nbconvert_exporter": "python",
   "pygments_lexer": "ipython3",
   "version": "3.10.11"
  }
 },
 "nbformat": 4,
 "nbformat_minor": 2
}
