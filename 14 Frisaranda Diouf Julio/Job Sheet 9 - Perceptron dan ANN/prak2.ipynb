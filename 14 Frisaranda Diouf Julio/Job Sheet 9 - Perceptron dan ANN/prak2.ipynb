{
 "cells": [
  {
   "cell_type": "markdown",
   "metadata": {},
   "source": [
    "# Praktikum 2 - Klasifikasi Berita dengan Perceptron"
   ]
  },
  {
   "cell_type": "markdown",
   "metadata": {},
   "source": [
    "**Langkah 1 - Import Library**"
   ]
  },
  {
   "cell_type": "code",
   "execution_count": 1,
   "metadata": {},
   "outputs": [],
   "source": [
    "from sklearn.datasets import fetch_20newsgroups # download dataset\n",
    "from sklearn.feature_extraction.text import TfidfVectorizer\n",
    "from sklearn.linear_model import Perceptron\n",
    "from sklearn.metrics import f1_score, classification_report"
   ]
  },
  {
   "cell_type": "markdown",
   "metadata": {},
   "source": [
    "**Langkah 2 - Pilih Label dan Split Data**"
   ]
  },
  {
   "cell_type": "code",
   "execution_count": 2,
   "metadata": {},
   "outputs": [],
   "source": [
    "categories = ['rec.sport.hockey', 'rec.sport.baseball', 'rec.autos']\n",
    "newsgroups_train = fetch_20newsgroups(subset='train', categories=categories, remove=('headers', 'footers', 'quotes'))\n",
    "newsgroups_test = fetch_20newsgroups(subset='test', categories=categories, remove=('headers', 'footers', 'quotes'))"
   ]
  },
  {
   "cell_type": "markdown",
   "metadata": {},
   "source": [
    "Explanation:\n",
    "1. \"categories = ['rec.sport.hockey', 'rec.sport.baseball', 'rec.autos']\" - This line defines a list of categories that we are interested in. In this case, the categories are 'rec.sport.hockey', 'rec.sport.baseball', and 'rec.autos'.\n",
    "2. \"newsgroups_train = fetch_20newsgroups(subset='train', categories=categories, remove=('headers', 'footers', 'quotes'))\" - This line fetches the training data from the 20 Newsgroups dataset using the fetch_20newsgroups function from the sklearn.datasets module. The 'subset' parameter is set to 'train' to fetch the training data. The 'categories' parameter is set to the list of categories defined in line 1 to fetch data only from those categories. The 'remove' parameter is set to remove headers, footers, and quotes from the fetched data.\n",
    "3. \"newsgroups_test = fetch_20newsgroups(subset='test', categories=categories, remove=('headers', 'footers', 'quotes'))\" - This line fetches the testing data from the 20 Newsgroups dataset using the same fetch_20newsgroups function.\n",
    "\n",
    "By executing these lines of code, we will have the training and testing data for the specified categories from the 20 Newsgroups dataset."
   ]
  },
  {
   "cell_type": "markdown",
   "metadata": {},
   "source": [
    "**Langkah 3 - Ekstrak Fitur dan Buat Model Perceptron**"
   ]
  },
  {
   "cell_type": "code",
   "execution_count": 3,
   "metadata": {},
   "outputs": [
    {
     "name": "stdout",
     "output_type": "stream",
     "text": [
      "              precision    recall  f1-score   support\n",
      "\n",
      "           0       0.88      0.88      0.88       396\n",
      "           1       0.82      0.83      0.83       397\n",
      "           2       0.88      0.87      0.87       399\n",
      "\n",
      "    accuracy                           0.86      1192\n",
      "   macro avg       0.86      0.86      0.86      1192\n",
      "weighted avg       0.86      0.86      0.86      1192\n",
      "\n"
     ]
    }
   ],
   "source": [
    "# Ekstrak Fitur\n",
    "vectorizer = TfidfVectorizer()\n",
    "\n",
    "# Fit fitur\n",
    "X_train = vectorizer.fit_transform(newsgroups_train.data)\n",
    "X_test = vectorizer.transform(newsgroups_test.data)\n",
    "\n",
    "# Fit Model\n",
    "clf = Perceptron(random_state=11)\n",
    "clf.fit(X_train, newsgroups_train.target)\n",
    "\n",
    "# Prediksi\n",
    "predictions = clf.predict(X_test)\n",
    "print(classification_report(newsgroups_test.target, predictions))"
   ]
  },
  {
   "cell_type": "markdown",
   "metadata": {},
   "source": [
    "Explanation:\n",
    "1. \"vectorizer = TfidfVectorizer()\" - This line creates an instance of the TfidfVectorizer class from the sklearn.feature_extraction.text module. TfidfVectorizer is a feature extraction method that converts a collection of raw documents into a matrix of TF-IDF features.\n",
    "2. \"X_train = vectorizer.fit_transform(newsgroups_train.data)\" - This line fits the feature extractor to the training data and transforms the training data into a matrix of TF-IDF features.\n",
    "3. \"X_test = vectorizer.transform(newsgroups_test.data)\" - This line transforms the testing data into a matrix of TF-IDF features using the vocabulary learned from the training data. The transform method applies the learned vocabulary to transform the testing data into a matrix of TF-IDF features.\n",
    "4. \"clf = Perceptron(random_state=11)\" - This line creates an instance of the Perceptron class from the sklearn.linear_model module. Perceptron is a linear classification algorithm that is trained using stochastic gradient descent.\n",
    "5. \"clf.fit(X_train, newsgroups_train.target)\" - This line fits the Perceptron model to the training data. The fit method trains the model using the input features (X_train) and the target values (newsgroups_train.target).\n",
    "6. \"predictions = clf.predict(X_test)\" - This line makes predictions on the testing data using the trained Perceptron model. The predict method applies the trained model to the input features (X_test) to predict the target values.\n",
    "7. \"print(classification_report(newsgroups_test.target, predictions))\" - This line prints the classification report, which provides a summary of the precision, recall, F1-score, and support for each class in the target values.\n",
    "\n",
    "By executing these lines of code, we will perform feature extraction, fit the features, fit a Perceptron model, make predictions, and print the classification report for the testing data."
   ]
  }
 ],
 "metadata": {
  "kernelspec": {
   "display_name": "Python 3",
   "language": "python",
   "name": "python3"
  },
  "language_info": {
   "codemirror_mode": {
    "name": "ipython",
    "version": 3
   },
   "file_extension": ".py",
   "mimetype": "text/x-python",
   "name": "python",
   "nbconvert_exporter": "python",
   "pygments_lexer": "ipython3",
   "version": "3.10.11"
  }
 },
 "nbformat": 4,
 "nbformat_minor": 2
}
