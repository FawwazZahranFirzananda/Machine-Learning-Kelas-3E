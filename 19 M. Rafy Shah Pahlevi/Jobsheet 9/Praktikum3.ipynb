{
 "cells": [
  {
   "cell_type": "markdown",
   "metadata": {},
   "source": [
    "Praktikum 3\n",
    "Nilai Logika XOR dengan MLP\n"
   ]
  },
  {
   "cell_type": "markdown",
   "metadata": {},
   "source": [
    "Langkah 1 - Import Library"
   ]
  },
  {
   "cell_type": "code",
   "execution_count": 2,
   "metadata": {},
   "outputs": [
    {
     "name": "stderr",
     "output_type": "stream",
     "text": [
      "c:\\ProgramData\\Anaconda3\\lib\\site-packages\\scipy\\__init__.py:155: UserWarning: A NumPy version >=1.18.5 and <1.25.0 is required for this version of SciPy (detected version 1.26.1\n",
      "  warnings.warn(f\"A NumPy version >={np_minversion} and <{np_maxversion}\"\n"
     ]
    }
   ],
   "source": [
    "# Mengimpor kelas 'MLPClassifier' dari pustaka scikit-learn (sklearn).\n",
    "from sklearn.neural_network import MLPClassifier"
   ]
  },
  {
   "cell_type": "markdown",
   "metadata": {},
   "source": [
    "Langah 2 - Buat Data"
   ]
  },
  {
   "cell_type": "code",
   "execution_count": 3,
   "metadata": {},
   "outputs": [],
   "source": [
    "# Label kelas untuk contoh data. Dalam hal ini, ada empat contoh data dengan label [0, 1, 1, 0].\n",
    "y = [0, 1, 1, 0] # label\n",
    "# Data fitur yang sesuai dengan label kelas. Ada empat contoh data dengan dua fitur masing-masing.\n",
    "X = [[0, 0], [0, 1], [1, 0], [1, 1]] # data"
   ]
  },
  {
   "cell_type": "markdown",
   "metadata": {},
   "source": [
    "Langkah 3 - Fit Model"
   ]
  },
  {
   "cell_type": "code",
   "execution_count": 4,
   "metadata": {},
   "outputs": [
    {
     "data": {
      "text/plain": [
       "MLPClassifier(activation='logistic', hidden_layer_sizes=(2,), max_iter=100,\n",
       "              random_state=20, solver='lbfgs')"
      ]
     },
     "execution_count": 4,
     "metadata": {},
     "output_type": "execute_result"
    }
   ],
   "source": [
    "# Fit model\n",
    "# Membuat objek model MLP (Multi-Layer Perceptron) dengan konfigurasi tertentu.\n",
    "# - 'solver' adalah algoritma yang digunakan untuk pelatihan model ('lbfgs' adalah salah satu pilihan).\n",
    "# - 'activation' adalah fungsi aktivasi yang digunakan pada lapisan tersembunyi ('logistic' adalah fungsi sigmoid).\n",
    "# - 'hidden_layer_sizes' adalah jumlah lapisan tersembunyi dan jumlah unit pada setiap lapisan (dalam hal ini, satu lapisan dengan dua unit).\n",
    "# - 'max_iter' adalah jumlah iterasi pelatihan maksimum.\n",
    "# - 'random_state' adalah nilai seed yang digunakan untuk inisialisasi acak, sehingga model dapat direproduksi.\n",
    "clf = MLPClassifier(solver='lbfgs', activation='logistic', hidden_layer_sizes=(2,), max_iter=100, random_state=20)\n",
    "# Melatih model MLP (clf) dengan data fitur (X) dan label kelas target (y).\n",
    "clf.fit(X, y)"
   ]
  },
  {
   "cell_type": "markdown",
   "metadata": {},
   "source": [
    "Langkah 4 - Prediksi"
   ]
  },
  {
   "cell_type": "code",
   "execution_count": 5,
   "metadata": {},
   "outputs": [
    {
     "name": "stdout",
     "output_type": "stream",
     "text": [
      "Accuracy: 1.0\n",
      "True: 0, Predicted: 0\n",
      "True: 1, Predicted: 1\n",
      "True: 1, Predicted: 1\n",
      "True: 0, Predicted: 0\n"
     ]
    }
   ],
   "source": [
    "# Melakukan prediksi kelas menggunakan model MLP pada data fitur (X).\n",
    "pred = clf.predict(X)\n",
    "# Menghitung akurasi model dengan menggunakan metode 'score' pada data latih.\n",
    "print('Accuracy: %s' % clf.score(X, y))\n",
    "# Menampilkan hasil prediksi untuk sepuluh data pertama.\n",
    "for i,p in enumerate(pred[:10]):\n",
    "        # Menampilkan hasil prediksi (p) dan label kelas sebenarnya (y[i]) untuk sepuluh data pertama.\n",
    "    print('True: %s, Predicted: %s' % (y[i], p))"
   ]
  }
 ],
 "metadata": {
  "kernelspec": {
   "display_name": "base",
   "language": "python",
   "name": "python3"
  },
  "language_info": {
   "codemirror_mode": {
    "name": "ipython",
    "version": 3
   },
   "file_extension": ".py",
   "mimetype": "text/x-python",
   "name": "python",
   "nbconvert_exporter": "python",
   "pygments_lexer": "ipython3",
   "version": "3.9.13"
  }
 },
 "nbformat": 4,
 "nbformat_minor": 2
}
