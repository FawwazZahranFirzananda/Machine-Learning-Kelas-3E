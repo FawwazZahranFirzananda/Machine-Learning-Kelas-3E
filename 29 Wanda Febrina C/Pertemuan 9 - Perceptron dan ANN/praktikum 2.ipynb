{
 "cells": [
  {
   "cell_type": "markdown",
   "metadata": {},
   "source": [
    "# Praktikum 2\n",
    "## Klasifikasi Berita dengan Perceptron"
   ]
  },
  {
   "cell_type": "markdown",
   "metadata": {},
   "source": [
    "### Langkah 1 - Import Library"
   ]
  },
  {
   "cell_type": "code",
   "execution_count": 1,
   "metadata": {},
   "outputs": [],
   "source": [
    "# import function to download the dataset\n",
    "from sklearn.datasets import fetch_20newsgroups # download dataset\n",
    "\n",
    "# import text feature extraction method\n",
    "from sklearn.feature_extraction.text import TfidfVectorizer\n",
    "\n",
    "# import Perceptron classifier\n",
    "from sklearn.linear_model import Perceptron\n",
    "\n",
    "# import evaluation metrics\n",
    "from sklearn.metrics import f1_score, classification_report"
   ]
  },
  {
   "cell_type": "markdown",
   "metadata": {},
   "source": [
    "### Langkah 2 - Pilih Label dan Split Data"
   ]
  },
  {
   "cell_type": "code",
   "execution_count": 2,
   "metadata": {},
   "outputs": [],
   "source": [
    "# define the categories of newsgroups to download\n",
    "categories = ['rec.sport.hockey', 'rec.sport.baseball', 'rec.autos']\n",
    "\n",
    "# fetch the training dataset\n",
    "newsgroups_train = fetch_20newsgroups(subset='train', categories=categories, remove=('headers', 'footers', 'quotes'))\n",
    "\n",
    "# fetch the test dataset\n",
    "newsgroups_test = fetch_20newsgroups(subset='test', categories=categories, remove=('headers', 'footers', 'quotes'))"
   ]
  },
  {
   "cell_type": "markdown",
   "metadata": {},
   "source": [
    "### Langkah 3 - Ekstrak Fitur dan Buat Model Perceptron"
   ]
  },
  {
   "cell_type": "code",
   "execution_count": 3,
   "metadata": {},
   "outputs": [
    {
     "name": "stdout",
     "output_type": "stream",
     "text": [
      "              precision    recall  f1-score   support\n",
      "\n",
      "           0       0.88      0.88      0.88       396\n",
      "           1       0.82      0.83      0.83       397\n",
      "           2       0.88      0.87      0.87       399\n",
      "\n",
      "    accuracy                           0.86      1192\n",
      "   macro avg       0.86      0.86      0.86      1192\n",
      "weighted avg       0.86      0.86      0.86      1192\n",
      "\n"
     ]
    }
   ],
   "source": [
    "#  transform text data into a numerical representation, where words are represented by their importance in the document relative to the entire corpus.\n",
    "vectorizer = TfidfVectorizer()\n",
    "\n",
    "# raining data to both fit the vectorizer and transform the training data. \n",
    "X_train = vectorizer.fit_transform(newsgroups_train.data)\n",
    "X_test = vectorizer.transform(newsgroups_test.data)\n",
    "\n",
    "# Perceptron classifier is instantiated with a random state for reproducibility and then fitted to the training data\n",
    "clf = Perceptron(random_state=11)\n",
    "clf.fit(X_train, newsgroups_train.target)\n",
    "\n",
    "#  make predictions on the test data, based on the features extracted from the text.\n",
    "predictions = clf.predict(X_test)\n",
    "\n",
    "# prints a classification report to evaluating the performance of a classifier.\n",
    "print(classification_report(newsgroups_test.target, predictions))"
   ]
  },
  {
   "cell_type": "markdown",
   "metadata": {},
   "source": [
    "### Penjelasan :\n",
    "1. Precision: Precision mengukur sejauh mana model benar-benar mengidentifikasi contoh yang relevan dalam kelas tertentu.\n",
    "2. Recall: Recall mengukur sejauh mana model dapat mengidentifikasi semua instance yang benar-benar milik kelas tertentu.\n",
    "3. F1-Score:  ukuran yang menggabungkan precision dan recall menjadi satu metrik tunggal. Ini adalah harmonic mean dari precision dan recall, memberikan bobot yang seimbang pada keduanya.\n",
    "4. Support: jumlah instance dalam setiap kelas yang digunakan untuk menghitung metrik-metrik di atas.\n",
    "5. Accuracy: metrik yang mengukur sejauh mana model benar-benar mengklasifikasikan semua instance dengan benar tanpa memandang kelas tertentu. \n",
    "\n",
    "Berdasarkan laporan klasifikasi ini, dapat disimpulkan bahwa model memiliki performa yang cukup baik dalam mengklasifikasikan data ke dalam tiga kelas yang berbeda. Semua metrik, termasuk presisi, recall, dan F1-Score, memiliki skor yang cukup tinggi dan seimbang. Akurasi sebesar 86% juga menunjukkan bahwa model secara keseluruhan dapat mengklasifikasikan data dengan baik."
   ]
  }
 ],
 "metadata": {
  "kernelspec": {
   "display_name": "base",
   "language": "python",
   "name": "python3"
  },
  "language_info": {
   "codemirror_mode": {
    "name": "ipython",
    "version": 3
   },
   "file_extension": ".py",
   "mimetype": "text/x-python",
   "name": "python",
   "nbconvert_exporter": "python",
   "pygments_lexer": "ipython3",
   "version": "3.11.4"
  }
 },
 "nbformat": 4,
 "nbformat_minor": 2
}
