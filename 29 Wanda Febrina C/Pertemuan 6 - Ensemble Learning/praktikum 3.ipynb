{
 "cells": [
  {
   "cell_type": "markdown",
   "metadata": {},
   "source": [
    "# Praktikum 3 : Stackking"
   ]
  },
  {
   "cell_type": "code",
   "execution_count": 2,
   "metadata": {},
   "outputs": [
    {
     "ename": "NameError",
     "evalue": "name 'your_features' is not defined",
     "output_type": "error",
     "traceback": [
      "\u001b[1;31m---------------------------------------------------------------------------\u001b[0m",
      "\u001b[1;31mNameError\u001b[0m                                 Traceback (most recent call last)",
      "\u001b[1;32md:\\Kulyah\\smt 5_God_please_help_me\\machine learning 2023\\Ensemble Learning\\praktikum 3.ipynb Cell 2\u001b[0m line \u001b[0;36m7\n\u001b[0;32m      <a href='vscode-notebook-cell:/d%3A/Kulyah/smt%205_God_please_help_me/machine%20learning%202023/Ensemble%20Learning/praktikum%203.ipynb#W0sZmlsZQ%3D%3D?line=3'>4</a>\u001b[0m \u001b[39mfrom\u001b[39;00m \u001b[39msklearn\u001b[39;00m\u001b[39m.\u001b[39;00m\u001b[39mneighbors\u001b[39;00m \u001b[39mimport\u001b[39;00m KNeighborsClassifier\n\u001b[0;32m      <a href='vscode-notebook-cell:/d%3A/Kulyah/smt%205_God_please_help_me/machine%20learning%202023/Ensemble%20Learning/praktikum%203.ipynb#W0sZmlsZQ%3D%3D?line=4'>5</a>\u001b[0m \u001b[39mfrom\u001b[39;00m \u001b[39msklearn\u001b[39;00m\u001b[39m.\u001b[39;00m\u001b[39mtree\u001b[39;00m \u001b[39mimport\u001b[39;00m DecisionTreeClassifier\n\u001b[1;32m----> <a href='vscode-notebook-cell:/d%3A/Kulyah/smt%205_God_please_help_me/machine%20learning%202023/Ensemble%20Learning/praktikum%203.ipynb#W0sZmlsZQ%3D%3D?line=6'>7</a>\u001b[0m X \u001b[39m=\u001b[39m your_features\n\u001b[0;32m      <a href='vscode-notebook-cell:/d%3A/Kulyah/smt%205_God_please_help_me/machine%20learning%202023/Ensemble%20Learning/praktikum%203.ipynb#W0sZmlsZQ%3D%3D?line=7'>8</a>\u001b[0m y \u001b[39m=\u001b[39m your_target_labels\n\u001b[0;32m     <a href='vscode-notebook-cell:/d%3A/Kulyah/smt%205_God_please_help_me/machine%20learning%202023/Ensemble%20Learning/praktikum%203.ipynb#W0sZmlsZQ%3D%3D?line=9'>10</a>\u001b[0m layer_one_estimators \u001b[39m=\u001b[39m [\n\u001b[0;32m     <a href='vscode-notebook-cell:/d%3A/Kulyah/smt%205_God_please_help_me/machine%20learning%202023/Ensemble%20Learning/praktikum%203.ipynb#W0sZmlsZQ%3D%3D?line=10'>11</a>\u001b[0m                         (\u001b[39m'\u001b[39m\u001b[39mrf_1\u001b[39m\u001b[39m'\u001b[39m, RandomForestClassifier(n_estimators\u001b[39m=\u001b[39m\u001b[39m10\u001b[39m, random_state\u001b[39m=\u001b[39m\u001b[39m42\u001b[39m)),\n\u001b[0;32m     <a href='vscode-notebook-cell:/d%3A/Kulyah/smt%205_God_please_help_me/machine%20learning%202023/Ensemble%20Learning/praktikum%203.ipynb#W0sZmlsZQ%3D%3D?line=11'>12</a>\u001b[0m                         (\u001b[39m'\u001b[39m\u001b[39mknn_1\u001b[39m\u001b[39m'\u001b[39m, KNeighborsClassifier(n_neighbors\u001b[39m=\u001b[39m\u001b[39m5\u001b[39m))             \n\u001b[0;32m     <a href='vscode-notebook-cell:/d%3A/Kulyah/smt%205_God_please_help_me/machine%20learning%202023/Ensemble%20Learning/praktikum%203.ipynb#W0sZmlsZQ%3D%3D?line=12'>13</a>\u001b[0m                        ]\n",
      "\u001b[1;31mNameError\u001b[0m: name 'your_features' is not defined"
     ]
    }
   ],
   "source": [
    "from sklearn.ensemble import RandomForestClassifier, StackingClassifier\n",
    "from sklearn.linear_model import LogisticRegression\n",
    "from sklearn.model_selection import train_test_split\n",
    "from sklearn.neighbors import KNeighborsClassifier\n",
    "from sklearn.tree import DecisionTreeClassifier\n",
    "\n",
    "X = your_features\n",
    "y = your_target_labels\n",
    "\n",
    "layer_one_estimators = [\n",
    "                        ('rf_1', RandomForestClassifier(n_estimators=10, random_state=42)),\n",
    "                        ('knn_1', KNeighborsClassifier(n_neighbors=5))             \n",
    "                       ]\n",
    "layer_two_estimators = [\n",
    "                        ('dt_2', DecisionTreeClassifier()),\n",
    "                        ('rf_2', RandomForestClassifier(n_estimators=50, random_state=42)),\n",
    "                       ]\n",
    "layer_two = StackingClassifier(estimators=layer_two_estimators, final_estimator=LogisticRegression())\n",
    "\n",
    "\n",
    "clf = StackingClassifier(estimators=layer_one_estimators, final_estimator=layer_two)\n",
    "\n",
    "X_train, X_test, y_train, y_test = train_test_split(X, y, stratify=y, random_state=42)\n",
    "clf.fit(X_train, y_train).score(X_test, y_test)"
   ]
  }
 ],
 "metadata": {
  "kernelspec": {
   "display_name": "base",
   "language": "python",
   "name": "python3"
  },
  "language_info": {
   "codemirror_mode": {
    "name": "ipython",
    "version": 3
   },
   "file_extension": ".py",
   "mimetype": "text/x-python",
   "name": "python",
   "nbconvert_exporter": "python",
   "pygments_lexer": "ipython3",
   "version": "3.11.4"
  },
  "orig_nbformat": 4
 },
 "nbformat": 4,
 "nbformat_minor": 2
}
