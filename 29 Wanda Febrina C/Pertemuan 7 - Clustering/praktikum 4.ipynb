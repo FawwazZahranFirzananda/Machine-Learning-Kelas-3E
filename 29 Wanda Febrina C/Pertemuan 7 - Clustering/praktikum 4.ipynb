{
 "cells": [
  {
   "cell_type": "markdown",
   "metadata": {},
   "source": [
    "# Praktikum 4 : Penerapan metode Self-Organizing Map (SOM) untuk segmentasi citra Lenna."
   ]
  },
  {
   "cell_type": "code",
   "execution_count": 2,
   "metadata": {},
   "outputs": [],
   "source": [
    "import numpy as np\n",
    "import matplotlib.pyplot as plt\n",
    "from skimage import io"
   ]
  },
  {
   "cell_type": "code",
   "execution_count": 3,
   "metadata": {},
   "outputs": [],
   "source": [
    "# Fungsi untuk menginisialisasi bobot SOM\n",
    "def initialize_weights(input_shape, output_shape):\n",
    "    return np.random.rand(output_shape[0], output_shape[1], input_shape[2])"
   ]
  },
  {
   "cell_type": "code",
   "execution_count": 4,
   "metadata": {},
   "outputs": [],
   "source": [
    "# Fungsi untuk menghitung jarak antara vektor input dan bobot SOM\n",
    "def calculate_distance(input_vector, weights):\n",
    "    return np.linalg.norm(input_vector - weights, axis=2)"
   ]
  },
  {
   "cell_type": "code",
   "execution_count": 5,
   "metadata": {},
   "outputs": [],
   "source": [
    "# Fungsi untuk menemukan indeks unit pemenang (unit dengan bobot terdekat)\n",
    "def find_winner_unit_in_image(input_vector, weights):\n",
    "    distances = calculate_distance(input_vector, weights)\n",
    "    return np.unravel_index(np.argmin(distances), distances.shape)"
   ]
  },
  {
   "cell_type": "code",
   "execution_count": 6,
   "metadata": {},
   "outputs": [],
   "source": [
    "# Fungsi untuk memperbarui bobot SOM\n",
    "def update_weights(input_vector, weights, winner, learning_rate, neighborhood_radius):\n",
    "    distances = np.linalg.norm(np.indices(weights.shape[:2]).T - np.array(winner).reshape(1, -1), axis=2)\n",
    "    influence = np.exp(-distances / (2 * neighborhood_radius**2))\n",
    "    weights += learning_rate * influence[:, :, np.newaxis] * (input_vector - weights)"
   ]
  },
  {
   "cell_type": "code",
   "execution_count": 7,
   "metadata": {},
   "outputs": [],
   "source": [
    "# Fungsi untuk melatih SOM\n",
    "def train_som(image, num_epochs, initial_learning_rate, initial_neighborhood_radius):\n",
    "    input_shape = image.shape\n",
    "    som_shape = (10, 10, input_shape[2])  # Ukuran SOM sesuai dengan jumlah saluran warna\n",
    "    weights = initialize_weights(input_shape, som_shape)\n",
    "\n",
    "    for epoch in range(num_epochs):\n",
    "        # Update parameter pembelajaran dan radius tetangga\n",
    "        learning_rate = initial_learning_rate * np.exp(-epoch / num_epochs)\n",
    "        neighborhood_radius = initial_neighborhood_radius * np.exp(-epoch / num_epochs)\n",
    "        # Pemrosesan SOM\n",
    "        for i in range(input_shape[0]):\n",
    "            for j in range(input_shape[1]):\n",
    "                input_vector = image[i, j, :]\n",
    "                winner = find_winner_unit_in_image(input_vector, weights)\n",
    "                update_weights(input_vector, weights, winner, learning_rate, neighborhood_radius)\n",
    "\n",
    "    return weights"
   ]
  },
  {
   "cell_type": "code",
   "execution_count": 9,
   "metadata": {},
   "outputs": [],
   "source": [
    "# Load citra Lenna (Anda bisa mengganti ini dengan citra lain jika diperlukan)\n",
    "Lenna_path = \"./Dataset/Lenna.jpeg\"\n",
    "Lenna = io.imread(Lenna_path) / 255.0  # Normalisasi intensitas piksel menjadi rentang [0, 1]"
   ]
  },
  {
   "cell_type": "code",
   "execution_count": 11,
   "metadata": {},
   "outputs": [
    {
     "ename": "KeyboardInterrupt",
     "evalue": "",
     "output_type": "error",
     "traceback": [
      "\u001b[1;31m---------------------------------------------------------------------------\u001b[0m",
      "\u001b[1;31mKeyboardInterrupt\u001b[0m                         Traceback (most recent call last)",
      "\u001b[1;32md:\\Kulyah\\smt 5_God_please_help_me\\machine learning 2023\\Machine-Learning-Kelas-3E\\29 Wanda Febrina C\\Pertemuan 7 - Clustering\\praktikum 4.ipynb Cell 9\u001b[0m line \u001b[0;36m5\n\u001b[0;32m      <a href='vscode-notebook-cell:/d%3A/Kulyah/smt%205_God_please_help_me/machine%20learning%202023/Machine-Learning-Kelas-3E/29%20Wanda%20Febrina%20C/Pertemuan%207%20-%20Clustering/praktikum%204.ipynb#X11sZmlsZQ%3D%3D?line=2'>3</a>\u001b[0m initial_learning_rate \u001b[39m=\u001b[39m \u001b[39m0.1\u001b[39m\n\u001b[0;32m      <a href='vscode-notebook-cell:/d%3A/Kulyah/smt%205_God_please_help_me/machine%20learning%202023/Machine-Learning-Kelas-3E/29%20Wanda%20Febrina%20C/Pertemuan%207%20-%20Clustering/praktikum%204.ipynb#X11sZmlsZQ%3D%3D?line=3'>4</a>\u001b[0m initial_neighborhood_radius \u001b[39m=\u001b[39m \u001b[39m5\u001b[39m\n\u001b[1;32m----> <a href='vscode-notebook-cell:/d%3A/Kulyah/smt%205_God_please_help_me/machine%20learning%202023/Machine-Learning-Kelas-3E/29%20Wanda%20Febrina%20C/Pertemuan%207%20-%20Clustering/praktikum%204.ipynb#X11sZmlsZQ%3D%3D?line=4'>5</a>\u001b[0m trained_weights \u001b[39m=\u001b[39m train_som(Lenna, num_epochs, initial_learning_rate, initial_neighborhood_radius)\n",
      "\u001b[1;32md:\\Kulyah\\smt 5_God_please_help_me\\machine learning 2023\\Machine-Learning-Kelas-3E\\29 Wanda Febrina C\\Pertemuan 7 - Clustering\\praktikum 4.ipynb Cell 9\u001b[0m line \u001b[0;36m1\n\u001b[0;32m     <a href='vscode-notebook-cell:/d%3A/Kulyah/smt%205_God_please_help_me/machine%20learning%202023/Machine-Learning-Kelas-3E/29%20Wanda%20Febrina%20C/Pertemuan%207%20-%20Clustering/praktikum%204.ipynb#X11sZmlsZQ%3D%3D?line=12'>13</a>\u001b[0m         \u001b[39mfor\u001b[39;00m j \u001b[39min\u001b[39;00m \u001b[39mrange\u001b[39m(input_shape[\u001b[39m1\u001b[39m]):\n\u001b[0;32m     <a href='vscode-notebook-cell:/d%3A/Kulyah/smt%205_God_please_help_me/machine%20learning%202023/Machine-Learning-Kelas-3E/29%20Wanda%20Febrina%20C/Pertemuan%207%20-%20Clustering/praktikum%204.ipynb#X11sZmlsZQ%3D%3D?line=13'>14</a>\u001b[0m             input_vector \u001b[39m=\u001b[39m image[i, j, :]\n\u001b[1;32m---> <a href='vscode-notebook-cell:/d%3A/Kulyah/smt%205_God_please_help_me/machine%20learning%202023/Machine-Learning-Kelas-3E/29%20Wanda%20Febrina%20C/Pertemuan%207%20-%20Clustering/praktikum%204.ipynb#X11sZmlsZQ%3D%3D?line=14'>15</a>\u001b[0m             winner \u001b[39m=\u001b[39m find_winner_unit_in_image(input_vector, weights)\n\u001b[0;32m     <a href='vscode-notebook-cell:/d%3A/Kulyah/smt%205_God_please_help_me/machine%20learning%202023/Machine-Learning-Kelas-3E/29%20Wanda%20Febrina%20C/Pertemuan%207%20-%20Clustering/praktikum%204.ipynb#X11sZmlsZQ%3D%3D?line=15'>16</a>\u001b[0m             update_weights(input_vector, weights, winner, learning_rate, neighborhood_radius)\n\u001b[0;32m     <a href='vscode-notebook-cell:/d%3A/Kulyah/smt%205_God_please_help_me/machine%20learning%202023/Machine-Learning-Kelas-3E/29%20Wanda%20Febrina%20C/Pertemuan%207%20-%20Clustering/praktikum%204.ipynb#X11sZmlsZQ%3D%3D?line=17'>18</a>\u001b[0m \u001b[39mreturn\u001b[39;00m weights\n",
      "\u001b[1;32md:\\Kulyah\\smt 5_God_please_help_me\\machine learning 2023\\Machine-Learning-Kelas-3E\\29 Wanda Febrina C\\Pertemuan 7 - Clustering\\praktikum 4.ipynb Cell 9\u001b[0m line \u001b[0;36m4\n\u001b[0;32m      <a href='vscode-notebook-cell:/d%3A/Kulyah/smt%205_God_please_help_me/machine%20learning%202023/Machine-Learning-Kelas-3E/29%20Wanda%20Febrina%20C/Pertemuan%207%20-%20Clustering/praktikum%204.ipynb#X11sZmlsZQ%3D%3D?line=1'>2</a>\u001b[0m \u001b[39mdef\u001b[39;00m \u001b[39mfind_winner_unit_in_image\u001b[39m(input_vector, weights):\n\u001b[0;32m      <a href='vscode-notebook-cell:/d%3A/Kulyah/smt%205_God_please_help_me/machine%20learning%202023/Machine-Learning-Kelas-3E/29%20Wanda%20Febrina%20C/Pertemuan%207%20-%20Clustering/praktikum%204.ipynb#X11sZmlsZQ%3D%3D?line=2'>3</a>\u001b[0m     distances \u001b[39m=\u001b[39m calculate_distance(input_vector, weights)\n\u001b[1;32m----> <a href='vscode-notebook-cell:/d%3A/Kulyah/smt%205_God_please_help_me/machine%20learning%202023/Machine-Learning-Kelas-3E/29%20Wanda%20Febrina%20C/Pertemuan%207%20-%20Clustering/praktikum%204.ipynb#X11sZmlsZQ%3D%3D?line=3'>4</a>\u001b[0m     \u001b[39mreturn\u001b[39;00m np\u001b[39m.\u001b[39;49munravel_index(np\u001b[39m.\u001b[39;49margmin(distances), distances\u001b[39m.\u001b[39;49mshape)\n",
      "File \u001b[1;32m<__array_function__ internals>:200\u001b[0m, in \u001b[0;36munravel_index\u001b[1;34m(*args, **kwargs)\u001b[0m\n",
      "\u001b[1;31mKeyboardInterrupt\u001b[0m: "
     ]
    }
   ],
   "source": [
    "# Latih SOM\n",
    "num_epochs = 100\n",
    "initial_learning_rate = 0.1\n",
    "initial_neighborhood_radius = 5\n",
    "trained_weights = train_som(Lenna, num_epochs, initial_learning_rate, initial_neighborhood_radius)"
   ]
  }
 ],
 "metadata": {
  "kernelspec": {
   "display_name": "base",
   "language": "python",
   "name": "python3"
  },
  "language_info": {
   "codemirror_mode": {
    "name": "ipython",
    "version": 3
   },
   "file_extension": ".py",
   "mimetype": "text/x-python",
   "name": "python",
   "nbconvert_exporter": "python",
   "pygments_lexer": "ipython3",
   "version": "3.11.4"
  }
 },
 "nbformat": 4,
 "nbformat_minor": 2
}
