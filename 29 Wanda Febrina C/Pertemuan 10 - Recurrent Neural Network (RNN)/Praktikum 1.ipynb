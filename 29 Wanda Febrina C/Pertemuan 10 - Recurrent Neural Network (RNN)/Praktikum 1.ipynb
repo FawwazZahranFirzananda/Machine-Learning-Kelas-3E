{
 "cells": [
  {
   "cell_type": "markdown",
   "metadata": {},
   "source": [
    "# Praktikum 1 : RNN untuk Analisis Sentimen"
   ]
  },
  {
   "cell_type": "code",
   "execution_count": 5,
   "metadata": {},
   "outputs": [
    {
     "name": "stdout",
     "output_type": "stream",
     "text": [
      "Defaulting to user installation because normal site-packages is not writeable\n",
      "Requirement already satisfied: tensorflow-datasets in c:\\users\\msi - gf63\\appdata\\roaming\\python\\python311\\site-packages (4.9.3)\n",
      "Requirement already satisfied: absl-py in c:\\users\\msi - gf63\\appdata\\roaming\\python\\python311\\site-packages (from tensorflow-datasets) (1.4.0)\n",
      "Requirement already satisfied: array-record in c:\\users\\msi - gf63\\appdata\\roaming\\python\\python311\\site-packages (from tensorflow-datasets) (0.4.1)\n",
      "Requirement already satisfied: click in d:\\installation\\anaconda\\lib\\site-packages (from tensorflow-datasets) (8.0.4)\n",
      "Requirement already satisfied: dm-tree in c:\\users\\msi - gf63\\appdata\\roaming\\python\\python311\\site-packages (from tensorflow-datasets) (0.1.8)\n",
      "Requirement already satisfied: etils[enp,epath,etree]>=0.9.0 in c:\\users\\msi - gf63\\appdata\\roaming\\python\\python311\\site-packages (from tensorflow-datasets) (1.5.2)\n",
      "Requirement already satisfied: numpy in d:\\installation\\anaconda\\lib\\site-packages (from tensorflow-datasets) (1.24.3)\n",
      "Requirement already satisfied: promise in c:\\users\\msi - gf63\\appdata\\roaming\\python\\python311\\site-packages (from tensorflow-datasets) (2.3)\n",
      "Requirement already satisfied: protobuf>=3.20 in c:\\users\\msi - gf63\\appdata\\roaming\\python\\python311\\site-packages (from tensorflow-datasets) (3.20.3)\n",
      "Requirement already satisfied: psutil in c:\\users\\msi - gf63\\appdata\\roaming\\python\\python311\\site-packages (from tensorflow-datasets) (5.9.5)\n",
      "Requirement already satisfied: requests>=2.19.0 in d:\\installation\\anaconda\\lib\\site-packages (from tensorflow-datasets) (2.31.0)\n",
      "Requirement already satisfied: tensorflow-metadata in c:\\users\\msi - gf63\\appdata\\roaming\\python\\python311\\site-packages (from tensorflow-datasets) (1.14.0)\n",
      "Requirement already satisfied: termcolor in c:\\users\\msi - gf63\\appdata\\roaming\\python\\python311\\site-packages (from tensorflow-datasets) (2.3.0)\n",
      "Requirement already satisfied: toml in d:\\installation\\anaconda\\lib\\site-packages (from tensorflow-datasets) (0.10.2)\n",
      "Requirement already satisfied: tqdm in d:\\installation\\anaconda\\lib\\site-packages (from tensorflow-datasets) (4.65.0)\n",
      "Requirement already satisfied: wrapt in d:\\installation\\anaconda\\lib\\site-packages (from tensorflow-datasets) (1.14.1)\n",
      "Requirement already satisfied: fsspec in d:\\installation\\anaconda\\lib\\site-packages (from etils[enp,epath,etree]>=0.9.0->tensorflow-datasets) (2023.3.0)\n",
      "Requirement already satisfied: importlib_resources in c:\\users\\msi - gf63\\appdata\\roaming\\python\\python311\\site-packages (from etils[enp,epath,etree]>=0.9.0->tensorflow-datasets) (6.1.0)\n",
      "Requirement already satisfied: typing_extensions in d:\\installation\\anaconda\\lib\\site-packages (from etils[enp,epath,etree]>=0.9.0->tensorflow-datasets) (4.7.1)\n",
      "Requirement already satisfied: zipp in d:\\installation\\anaconda\\lib\\site-packages (from etils[enp,epath,etree]>=0.9.0->tensorflow-datasets) (3.11.0)\n",
      "Requirement already satisfied: charset-normalizer<4,>=2 in d:\\installation\\anaconda\\lib\\site-packages (from requests>=2.19.0->tensorflow-datasets) (2.0.4)\n",
      "Requirement already satisfied: idna<4,>=2.5 in d:\\installation\\anaconda\\lib\\site-packages (from requests>=2.19.0->tensorflow-datasets) (3.4)\n",
      "Requirement already satisfied: urllib3<3,>=1.21.1 in d:\\installation\\anaconda\\lib\\site-packages (from requests>=2.19.0->tensorflow-datasets) (1.26.16)\n",
      "Requirement already satisfied: certifi>=2017.4.17 in d:\\installation\\anaconda\\lib\\site-packages (from requests>=2.19.0->tensorflow-datasets) (2023.7.22)\n",
      "Requirement already satisfied: colorama in c:\\users\\msi - gf63\\appdata\\roaming\\python\\python311\\site-packages (from click->tensorflow-datasets) (0.4.6)\n",
      "Requirement already satisfied: six in c:\\users\\msi - gf63\\appdata\\roaming\\python\\python311\\site-packages (from promise->tensorflow-datasets) (1.16.0)\n",
      "Requirement already satisfied: googleapis-common-protos<2,>=1.52.0 in c:\\users\\msi - gf63\\appdata\\roaming\\python\\python311\\site-packages (from tensorflow-metadata->tensorflow-datasets) (1.61.0)\n"
     ]
    }
   ],
   "source": [
    "!pip install tensorflow-datasets"
   ]
  },
  {
   "cell_type": "code",
   "execution_count": 8,
   "metadata": {},
   "outputs": [
    {
     "ename": "ImportError",
     "evalue": "cannot import name 'core' from partially initialized module 'tensorflow_datasets' (most likely due to a circular import) (C:\\Users\\MSI - GF63\\AppData\\Roaming\\Python\\Python311\\site-packages\\tensorflow_datasets\\__init__.py)",
     "output_type": "error",
     "traceback": [
      "\u001b[1;31m---------------------------------------------------------------------------\u001b[0m",
      "\u001b[1;31mImportError\u001b[0m                               Traceback (most recent call last)",
      "\u001b[1;32md:\\Kulyah\\smt 5_God_please_help_me\\machine learning 2023\\Machine-Learning-Kelas-3E\\29 Wanda Febrina C\\Pertemuan 10 - Recurrent Neural Network (RNN)\\Praktikum 1.ipynb Cell 3\u001b[0m line \u001b[0;36m2\n\u001b[0;32m      <a href='vscode-notebook-cell:/d%3A/Kulyah/smt%205_God_please_help_me/machine%20learning%202023/Machine-Learning-Kelas-3E/29%20Wanda%20Febrina%20C/Pertemuan%2010%20-%20Recurrent%20Neural%20Network%20%28RNN%29/Praktikum%201.ipynb#W0sZmlsZQ%3D%3D?line=0'>1</a>\u001b[0m \u001b[39mimport\u001b[39;00m \u001b[39mnumpy\u001b[39;00m \u001b[39mas\u001b[39;00m \u001b[39mnp\u001b[39;00m\n\u001b[1;32m----> <a href='vscode-notebook-cell:/d%3A/Kulyah/smt%205_God_please_help_me/machine%20learning%202023/Machine-Learning-Kelas-3E/29%20Wanda%20Febrina%20C/Pertemuan%2010%20-%20Recurrent%20Neural%20Network%20%28RNN%29/Praktikum%201.ipynb#W0sZmlsZQ%3D%3D?line=1'>2</a>\u001b[0m \u001b[39mimport\u001b[39;00m \u001b[39mtensorflow_datasets\u001b[39;00m \u001b[39mas\u001b[39;00m \u001b[39mtfds\u001b[39;00m\n\u001b[0;32m      <a href='vscode-notebook-cell:/d%3A/Kulyah/smt%205_God_please_help_me/machine%20learning%202023/Machine-Learning-Kelas-3E/29%20Wanda%20Febrina%20C/Pertemuan%2010%20-%20Recurrent%20Neural%20Network%20%28RNN%29/Praktikum%201.ipynb#W0sZmlsZQ%3D%3D?line=2'>3</a>\u001b[0m \u001b[39mimport\u001b[39;00m \u001b[39mtensorflow\u001b[39;00m \u001b[39mas\u001b[39;00m \u001b[39mtf\u001b[39;00m\n\u001b[0;32m      <a href='vscode-notebook-cell:/d%3A/Kulyah/smt%205_God_please_help_me/machine%20learning%202023/Machine-Learning-Kelas-3E/29%20Wanda%20Febrina%20C/Pertemuan%2010%20-%20Recurrent%20Neural%20Network%20%28RNN%29/Praktikum%201.ipynb#W0sZmlsZQ%3D%3D?line=4'>5</a>\u001b[0m tfds\u001b[39m.\u001b[39mdisable_progress_bar()\n",
      "File \u001b[1;32m~\\AppData\\Roaming\\Python\\Python311\\site-packages\\tensorflow_datasets\\__init__.py:43\u001b[0m\n\u001b[0;32m     41\u001b[0m _TIMESTAMP_IMPORT_STARTS \u001b[39m=\u001b[39m time\u001b[39m.\u001b[39mtime()\n\u001b[0;32m     42\u001b[0m \u001b[39mfrom\u001b[39;00m \u001b[39mabsl\u001b[39;00m \u001b[39mimport\u001b[39;00m logging\n\u001b[1;32m---> 43\u001b[0m \u001b[39mimport\u001b[39;00m \u001b[39mtensorflow_datasets\u001b[39;00m\u001b[39m.\u001b[39;00m\u001b[39mcore\u001b[39;00m\u001b[39m.\u001b[39;00m\u001b[39mlogging\u001b[39;00m \u001b[39mas\u001b[39;00m \u001b[39m_tfds_logging\u001b[39;00m\n\u001b[0;32m     44\u001b[0m \u001b[39mfrom\u001b[39;00m \u001b[39mtensorflow_datasets\u001b[39;00m\u001b[39m.\u001b[39;00m\u001b[39mcore\u001b[39;00m\u001b[39m.\u001b[39;00m\u001b[39mlogging\u001b[39;00m \u001b[39mimport\u001b[39;00m call_metadata \u001b[39mas\u001b[39;00m _call_metadata\n\u001b[0;32m     46\u001b[0m _metadata \u001b[39m=\u001b[39m _call_metadata\u001b[39m.\u001b[39mCallMetadata()\n",
      "\u001b[1;31mImportError\u001b[0m: cannot import name 'core' from partially initialized module 'tensorflow_datasets' (most likely due to a circular import) (C:\\Users\\MSI - GF63\\AppData\\Roaming\\Python\\Python311\\site-packages\\tensorflow_datasets\\__init__.py)"
     ]
    }
   ],
   "source": [
    "import numpy as np\n",
    "import tensorflow_datasets as tfds\n",
    "import tensorflow as tf\n",
    "\n",
    "tfds.disable_progress_bar()"
   ]
  }
 ],
 "metadata": {
  "kernelspec": {
   "display_name": "base",
   "language": "python",
   "name": "python3"
  },
  "language_info": {
   "codemirror_mode": {
    "name": "ipython",
    "version": 3
   },
   "file_extension": ".py",
   "mimetype": "text/x-python",
   "name": "python",
   "nbconvert_exporter": "python",
   "pygments_lexer": "ipython3",
   "version": "3.11.4"
  }
 },
 "nbformat": 4,
 "nbformat_minor": 2
}
