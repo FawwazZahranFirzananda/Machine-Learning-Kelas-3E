{
  "cells": [
    {
      "cell_type": "markdown",
      "metadata": {
        "id": "N85QTJtbBP83"
      },
      "source": [
        "# Praktikum 1 : Klasifikasi 🐱 dan 🐶"
      ]
    },
    {
      "cell_type": "markdown",
      "metadata": {
        "id": "LIoN0ateCmn3"
      },
      "source": [
        "## Langkah 1 - Import Library"
      ]
    },
    {
      "cell_type": "code",
      "execution_count": 1,
      "metadata": {
        "colab": {
          "base_uri": "https://localhost:8080/"
        },
        "id": "xttyY7jpDuUf",
        "outputId": "2d0fa5a9-5b66-4481-de43-d63556e21efd"
      },
      "outputs": [
        {
          "name": "stdout",
          "output_type": "stream",
          "text": [
            "Drive already mounted at /content/drive; to attempt to forcibly remount, call drive.mount(\"/content/drive\", force_remount=True).\n"
          ]
        }
      ],
      "source": [
        "# Mount Google Drive agar dapat mengakses dataset yang disimpan di Google Drive\n",
        "from google.colab import drive\n",
        "drive.mount('/content/drive')"
      ]
    },
    {
      "cell_type": "code",
      "execution_count": 2,
      "metadata": {
        "id": "jHwpdoaj_xyc"
      },
      "outputs": [],
      "source": [
        "# Import TensorFlow dan modul ImageDataGenerator dari Keras untuk augmentasi gambar\n",
        "import tensorflow as tf\n",
        "from keras.preprocessing.image import ImageDataGenerator"
      ]
    },
    {
      "cell_type": "markdown",
      "metadata": {},
      "source": [
        "# Langkah 2 - Pra Pengolahan Data\n",
        "## Langkah 2.1 Pra pengolahan data training"
      ]
    },
    {
      "cell_type": "code",
      "execution_count": 3,
      "metadata": {
        "colab": {
          "base_uri": "https://localhost:8080/"
        },
        "id": "8wu7C91_DuO1",
        "outputId": "7682490f-88a7-4035-c25c-ca6d029c13c0"
      },
      "outputs": [
        {
          "name": "stdout",
          "output_type": "stream",
          "text": [
            "Found 8000 images belonging to 2 classes.\n"
          ]
        }
      ],
      "source": [
        "# Membuat objek ImageDataGenerator untuk augmentasi data pelatihan\n",
        "# Rescale dilakukan untuk mengubah nilai piksel menjadi rentang 0-1\n",
        "# augmentasi dilakukan dengan shear, zoom, dan horizontal flip.\n",
        "train_datagen = ImageDataGenerator(rescale = 1./255,\n",
        "                                   shear_range = 0.2,\n",
        "                                   zoom_range = 0.2,\n",
        "                                   horizontal_flip = True)\n",
        "\n",
        "# Menggunakan objek train_datagen untuk memuat dan mengaugmentasi data pelatihan\n",
        "training_set = train_datagen.flow_from_directory('/content/drive/MyDrive/dataset/training_set',\n",
        "                                                 target_size = (64, 64),\n",
        "                                                 batch_size = 32,\n",
        "                                                 class_mode = 'binary')\n",
        "# Data pelatihan diambil dari direktori 'training_set', dengan target size 64x64,\n",
        "# batch size sebesar 32, dan mode kelas binary (klasifikasi biner: kucing atau anjing)."
      ]
    },
    {
      "cell_type": "markdown",
      "metadata": {},
      "source": [
        "## Langkah 2.2 Pra Pengolahan Data Testing"
      ]
    },
    {
      "cell_type": "code",
      "execution_count": 4,
      "metadata": {
        "colab": {
          "base_uri": "https://localhost:8080/"
        },
        "id": "Gv3GPkBpqI3G",
        "outputId": "787b06ba-5542-4541-9d44-855f11077cae"
      },
      "outputs": [
        {
          "name": "stdout",
          "output_type": "stream",
          "text": [
            "Found 2000 images belonging to 2 classes.\n"
          ]
        }
      ],
      "source": [
        "# Membuat objek ImageDataGenerator untuk normalisasi data uji\n",
        "test_datagen = ImageDataGenerator(rescale = 1./255)\n",
        "\n",
        "# Menggunakan objek test_datagen untuk memuat dan normalisasi data uji\n",
        "test_set = test_datagen.flow_from_directory('/content/drive/MyDrive/dataset/test_set',\n",
        "                                            target_size = (64, 64),\n",
        "                                            batch_size = 32,\n",
        "                                            class_mode = 'binary')\n",
        "# Data uji diambil dari direktori 'test_set', dengan target size 64x64,\n",
        "# batch size sebesar 32, dan mode kelas binary (klasifikasi biner: kucing atau anjing)."
      ]
    },
    {
      "cell_type": "markdown",
      "metadata": {},
      "source": [
        "# Langkah 3 - Pembuatan Model CNN\n",
        "## Langkah 3.1.  - Inisiasi Model CNN"
      ]
    },
    {
      "cell_type": "code",
      "execution_count": 5,
      "metadata": {
        "id": "GpnbMRKWqewC"
      },
      "outputs": [],
      "source": [
        "cnn = tf.keras.models.Sequential() # Membuat model CNN dengan menggunakan Sequential()"
      ]
    },
    {
      "cell_type": "markdown",
      "metadata": {},
      "source": [
        "## Langkah 3.2. - Pembuatan Layer Konvolusi 1"
      ]
    },
    {
      "cell_type": "code",
      "execution_count": 6,
      "metadata": {
        "id": "OSUiqy1_qhpO"
      },
      "outputs": [],
      "source": [
        "# Menambahkan layer Conv2D pertama dengan 32 filter, kernel size 3x3, fungsi aktivasi ReLU, dan input shape 64x64x3\n",
        "cnn.add(tf.keras.layers.Conv2D(filters=32, kernel_size=3, activation='relu', input_shape=[64, 64, 3]))"
      ]
    },
    {
      "cell_type": "markdown",
      "metadata": {},
      "source": [
        "## Langkah 3.3 - Pembuatan Layer Pooling 1"
      ]
    },
    {
      "cell_type": "code",
      "execution_count": 7,
      "metadata": {
        "id": "TdJgPiF5qkDx"
      },
      "outputs": [],
      "source": [
        "# Menambahkan layer MaxPooling2D dengan pool size 2x2 dan strides 2\n",
        "cnn.add(tf.keras.layers.MaxPool2D(pool_size=2, strides=2))"
      ]
    },
    {
      "cell_type": "markdown",
      "metadata": {},
      "source": [
        "## Langkah 3.4 - Pembuatan Layer Konvolusi 2 dan Pooling 2"
      ]
    },
    {
      "cell_type": "code",
      "execution_count": 8,
      "metadata": {
        "id": "mMlmF1hSqmQX"
      },
      "outputs": [],
      "source": [
        "# Menambahkan layer Conv2D kedua dengan 32 filter, kernel size 3x3, dan fungsi aktivasi ReLU\n",
        "cnn.add(tf.keras.layers.Conv2D(filters=32, kernel_size=3, activation='relu'))\n",
        "# Menambahkan layer MaxPooling2D dengan pool size 2x2 dan strides 2\n",
        "cnn.add(tf.keras.layers.MaxPool2D(pool_size=2, strides=2))"
      ]
    },
    {
      "cell_type": "markdown",
      "metadata": {},
      "source": [
        "## Langkah 3.5 - Flattening"
      ]
    },
    {
      "cell_type": "code",
      "execution_count": 9,
      "metadata": {
        "id": "f9p_mev7qpYY"
      },
      "outputs": [],
      "source": [
        "# Menambahkan layer Flatten untuk meratakan output menjadi vektor\n",
        "cnn.add(tf.keras.layers.Flatten())"
      ]
    },
    {
      "cell_type": "markdown",
      "metadata": {},
      "source": [
        "## Langkah 3.6 - Fully Connected Layer 1 (Input)"
      ]
    },
    {
      "cell_type": "code",
      "execution_count": 10,
      "metadata": {
        "id": "Oyh1m9qXqrJm"
      },
      "outputs": [],
      "source": [
        "# Menambahkan layer Dense dengan 128 neuron dan fungsi aktivasi ReLU\n",
        "cnn.add(tf.keras.layers.Dense(units=128, activation='relu'))"
      ]
    },
    {
      "cell_type": "markdown",
      "metadata": {},
      "source": [
        "## Langkah 3.7 - Fully Connected Layer 2 (Output)"
      ]
    },
    {
      "cell_type": "code",
      "execution_count": 11,
      "metadata": {
        "id": "9h7WJF1lqtbW"
      },
      "outputs": [],
      "source": [
        "# Menambahkan layer Dense output dengan 1 neuron dan fungsi aktivasi sigmoid (karena ini adalah masalah klasifikasi biner)\n",
        "cnn.add(tf.keras.layers.Dense(units=1, activation='sigmoid'))"
      ]
    },
    {
      "cell_type": "markdown",
      "metadata": {},
      "source": [
        "## Langkah 3.8 - Compile Model CNN"
      ]
    },
    {
      "cell_type": "code",
      "execution_count": 12,
      "metadata": {
        "id": "HYxTC4Tuqv12"
      },
      "outputs": [],
      "source": [
        "# Meng-compile model dengan optimizer 'adam', loss function 'binary_crossentropy', dan metrik akurasi\n",
        "cnn.compile(optimizer = 'adam', loss = 'binary_crossentropy', metrics = ['accuracy'])"
      ]
    },
    {
      "cell_type": "markdown",
      "metadata": {},
      "source": [
        "# Langkah 4 - Fit CNN"
      ]
    },
    {
      "cell_type": "code",
      "execution_count": 13,
      "metadata": {
        "colab": {
          "base_uri": "https://localhost:8080/"
        },
        "id": "uN5HlxJSqy-W",
        "outputId": "31de48ee-1fae-4c37-b015-e806e8ea206d"
      },
      "outputs": [
        {
          "name": "stdout",
          "output_type": "stream",
          "text": [
            "Epoch 1/25\n",
            "250/250 [==============================] - 1645s 7s/step - loss: 0.6568 - accuracy: 0.5968 - val_loss: 0.5985 - val_accuracy: 0.6805\n",
            "Epoch 2/25\n",
            "250/250 [==============================] - 38s 150ms/step - loss: 0.5895 - accuracy: 0.6837 - val_loss: 0.5400 - val_accuracy: 0.7290\n",
            "Epoch 3/25\n",
            "250/250 [==============================] - 38s 153ms/step - loss: 0.5397 - accuracy: 0.7181 - val_loss: 0.5553 - val_accuracy: 0.7230\n",
            "Epoch 4/25\n",
            "250/250 [==============================] - 43s 171ms/step - loss: 0.5128 - accuracy: 0.7430 - val_loss: 0.5292 - val_accuracy: 0.7425\n",
            "Epoch 5/25\n",
            "250/250 [==============================] - 37s 147ms/step - loss: 0.4913 - accuracy: 0.7629 - val_loss: 0.5023 - val_accuracy: 0.7555\n",
            "Epoch 6/25\n",
            "250/250 [==============================] - 37s 148ms/step - loss: 0.4819 - accuracy: 0.7679 - val_loss: 0.5074 - val_accuracy: 0.7670\n",
            "Epoch 7/25\n",
            "250/250 [==============================] - 37s 150ms/step - loss: 0.4559 - accuracy: 0.7809 - val_loss: 0.4586 - val_accuracy: 0.7960\n",
            "Epoch 8/25\n",
            "250/250 [==============================] - 37s 147ms/step - loss: 0.4396 - accuracy: 0.7956 - val_loss: 0.4995 - val_accuracy: 0.7625\n",
            "Epoch 9/25\n",
            "250/250 [==============================] - 37s 148ms/step - loss: 0.4305 - accuracy: 0.8012 - val_loss: 0.5015 - val_accuracy: 0.7730\n",
            "Epoch 10/25\n",
            "250/250 [==============================] - 37s 150ms/step - loss: 0.4238 - accuracy: 0.8043 - val_loss: 0.4785 - val_accuracy: 0.7770\n",
            "Epoch 11/25\n",
            "250/250 [==============================] - 38s 151ms/step - loss: 0.4026 - accuracy: 0.8156 - val_loss: 0.5325 - val_accuracy: 0.7555\n",
            "Epoch 12/25\n",
            "250/250 [==============================] - 37s 148ms/step - loss: 0.4000 - accuracy: 0.8205 - val_loss: 0.4607 - val_accuracy: 0.7805\n",
            "Epoch 13/25\n",
            "250/250 [==============================] - 37s 148ms/step - loss: 0.3798 - accuracy: 0.8303 - val_loss: 0.4733 - val_accuracy: 0.7905\n",
            "Epoch 14/25\n",
            "250/250 [==============================] - 38s 152ms/step - loss: 0.3703 - accuracy: 0.8284 - val_loss: 0.4541 - val_accuracy: 0.8065\n",
            "Epoch 15/25\n",
            "250/250 [==============================] - 44s 176ms/step - loss: 0.3564 - accuracy: 0.8374 - val_loss: 0.5511 - val_accuracy: 0.7725\n",
            "Epoch 16/25\n",
            "250/250 [==============================] - 37s 149ms/step - loss: 0.3474 - accuracy: 0.8451 - val_loss: 0.4587 - val_accuracy: 0.7965\n",
            "Epoch 17/25\n",
            "250/250 [==============================] - 44s 174ms/step - loss: 0.3371 - accuracy: 0.8504 - val_loss: 0.4735 - val_accuracy: 0.8000\n",
            "Epoch 18/25\n",
            "250/250 [==============================] - 37s 149ms/step - loss: 0.3202 - accuracy: 0.8595 - val_loss: 0.4967 - val_accuracy: 0.7835\n",
            "Epoch 19/25\n",
            "250/250 [==============================] - 43s 173ms/step - loss: 0.3107 - accuracy: 0.8664 - val_loss: 0.4581 - val_accuracy: 0.8140\n",
            "Epoch 20/25\n",
            "250/250 [==============================] - 36s 145ms/step - loss: 0.2980 - accuracy: 0.8749 - val_loss: 0.4695 - val_accuracy: 0.8030\n",
            "Epoch 21/25\n",
            "250/250 [==============================] - 38s 150ms/step - loss: 0.2802 - accuracy: 0.8845 - val_loss: 0.4629 - val_accuracy: 0.8140\n",
            "Epoch 22/25\n",
            "250/250 [==============================] - 36s 146ms/step - loss: 0.2720 - accuracy: 0.8831 - val_loss: 0.4783 - val_accuracy: 0.8095\n",
            "Epoch 23/25\n",
            "250/250 [==============================] - 37s 148ms/step - loss: 0.2568 - accuracy: 0.8932 - val_loss: 0.5079 - val_accuracy: 0.8120\n",
            "Epoch 24/25\n",
            "250/250 [==============================] - 38s 150ms/step - loss: 0.2494 - accuracy: 0.8953 - val_loss: 0.5333 - val_accuracy: 0.7970\n",
            "Epoch 25/25\n",
            "250/250 [==============================] - 42s 169ms/step - loss: 0.2250 - accuracy: 0.9069 - val_loss: 0.5306 - val_accuracy: 0.8070\n"
          ]
        },
        {
          "data": {
            "text/plain": [
              "<keras.src.callbacks.History at 0x7fa4601570d0>"
            ]
          },
          "execution_count": 13,
          "metadata": {},
          "output_type": "execute_result"
        }
      ],
      "source": [
        "# Melakukan pelatihan model pada data pelatihan dan evaluasi pada data validasi selama 25 epoch\n",
        "cnn.fit(x = training_set, validation_data = test_set, epochs = 25)"
      ]
    },
    {
      "cell_type": "markdown",
      "metadata": {},
      "source": [
        "# Langkah 5 - Prediksi dengan 1 Citra"
      ]
    },
    {
      "cell_type": "code",
      "execution_count": 15,
      "metadata": {
        "colab": {
          "base_uri": "https://localhost:8080/"
        },
        "id": "vkP-IfGjUW7n",
        "outputId": "58b7fec8-407d-4dc7-b364-9e8677ad5cba"
      },
      "outputs": [
        {
          "name": "stdout",
          "output_type": "stream",
          "text": [
            "1/1 [==============================] - 0s 150ms/step\n"
          ]
        }
      ],
      "source": [
        "# Melakukan prediksi untuk satu gambar\n",
        "import numpy as np\n",
        "from keras.preprocessing import image\n",
        "\n",
        "# Memuat gambar uji dengan ukuran target 64x64\n",
        "test_image = image.load_img('/content/drive/MyDrive/dataset/single_prediction/cat_or_dog_1.jpg', target_size = (64, 64))\n",
        "# Mengubah gambar menjadi array numpy\n",
        "test_image = image.img_to_array(test_image)\n",
        "# Menambahkan dimensi baru pada array (menjadi tensor) untuk sesuai dengan input model\n",
        "test_image = np.expand_dims(test_image, axis = 0)\n",
        "# Melakukan prediksi menggunakan model CNN\n",
        "result = cnn.predict(test_image)\n",
        "\n",
        "# Mendapatkan kelas yang sesuai dari hasil prediksi\n",
        "# (Catatan: Angka 1 mewakili 'dog', dan angka 0 mewakili 'cat' sesuai dengan setting model)\n",
        "training_set.class_indices\n",
        "\n",
        "# Menentukan hasil prediksi berdasarkan nilai yang didapatkan\n",
        "if result[0][0] == 1:\n",
        "  prediction = 'dog'\n",
        "else:\n",
        "  prediction = 'cat'"
      ]
    }
  ],
  "metadata": {
    "accelerator": "GPU",
    "colab": {
      "gpuType": "T4",
      "provenance": []
    },
    "kernelspec": {
      "display_name": "Python 3",
      "name": "python3"
    },
    "language_info": {
      "name": "python"
    }
  },
  "nbformat": 4,
  "nbformat_minor": 0
}
