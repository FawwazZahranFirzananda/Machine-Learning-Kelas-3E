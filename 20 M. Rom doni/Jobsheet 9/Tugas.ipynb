{
 "cells": [
  {
   "cell_type": "markdown",
   "metadata": {},
   "source": [
    "Anggota Kelompok :\n",
    "\n",
    "FRISARANDA DIOUF JULIO (2141720098)\n",
    "\n",
    "M. ROM DONI (2141720037)"
   ]
  },
  {
   "cell_type": "code",
   "execution_count": 5,
   "metadata": {},
   "outputs": [
    {
     "name": "stdout",
     "output_type": "stream",
     "text": [
      "Epoch 1/10\n",
      "750/750 [==============================] - 7s 8ms/step - loss: 0.3271 - accuracy: 0.9085 - val_loss: 0.1704 - val_accuracy: 0.9509\n",
      "Epoch 2/10\n",
      "750/750 [==============================] - 5s 7ms/step - loss: 0.1452 - accuracy: 0.9586 - val_loss: 0.1262 - val_accuracy: 0.9625\n",
      "Epoch 3/10\n",
      "750/750 [==============================] - 4s 6ms/step - loss: 0.1040 - accuracy: 0.9699 - val_loss: 0.1113 - val_accuracy: 0.9678\n",
      "Epoch 4/10\n",
      "750/750 [==============================] - 5s 6ms/step - loss: 0.0797 - accuracy: 0.9771 - val_loss: 0.1019 - val_accuracy: 0.9688\n",
      "Epoch 5/10\n",
      "750/750 [==============================] - 4s 6ms/step - loss: 0.0640 - accuracy: 0.9811 - val_loss: 0.0880 - val_accuracy: 0.9729\n",
      "Epoch 6/10\n",
      "750/750 [==============================] - 4s 6ms/step - loss: 0.0505 - accuracy: 0.9854 - val_loss: 0.0935 - val_accuracy: 0.9703\n",
      "Epoch 7/10\n",
      "750/750 [==============================] - 4s 6ms/step - loss: 0.0415 - accuracy: 0.9882 - val_loss: 0.0863 - val_accuracy: 0.9728\n",
      "Epoch 8/10\n",
      "750/750 [==============================] - 5s 6ms/step - loss: 0.0334 - accuracy: 0.9906 - val_loss: 0.0866 - val_accuracy: 0.9732\n",
      "Epoch 9/10\n",
      "750/750 [==============================] - 6s 8ms/step - loss: 0.0282 - accuracy: 0.9919 - val_loss: 0.0819 - val_accuracy: 0.9743\n",
      "Epoch 10/10\n",
      "750/750 [==============================] - 4s 6ms/step - loss: 0.0225 - accuracy: 0.9937 - val_loss: 0.0903 - val_accuracy: 0.9722\n",
      "313/313 [==============================] - 1s 3ms/step - loss: 0.0866 - accuracy: 0.9752\n",
      "Akurasi pengujian: 0.9751999974250793\n",
      "313/313 [==============================] - 1s 3ms/step\n",
      "Matriks:\n",
      "[[ 965    0    2    2    1    2    4    1    3    0]\n",
      " [   0 1125    4    0    0    0    2    0    4    0]\n",
      " [   1    2 1013    2    2    0    2    4    6    0]\n",
      " [   0    0    8  980    1    9    0    2    4    6]\n",
      " [   1    0    3    1  953    0    4    3    2   15]\n",
      " [   4    0    0    4    2  866    5    1    8    2]\n",
      " [   4    3    3    1    4    3  935    0    5    0]\n",
      " [   2    4   12    4    1    0    0  996    3    6]\n",
      " [   1    0    3    3    3    2    1    3  956    2]\n",
      " [   1    2    0    3   11    4    0    3    2  983]]\n"
     ]
    }
   ],
   "source": [
    "# Impor library yang dibutuhkan\n",
    "import tensorflow as tf\n",
    "from tensorflow.keras.datasets import mnist\n",
    "from tensorflow.keras.models import Sequential\n",
    "from tensorflow.keras.layers import Flatten, Dense\n",
    "from tensorflow.keras.utils import to_categorical\n",
    "\n",
    "# Memuat dataset MNIST\n",
    "(train_images, train_labels), (test_images, test_labels) = mnist.load_data()\n",
    "\n",
    "# Pra-pengolahan data\n",
    "# Misalnya, normalisasi nilai piksel ke rentang 0-1\n",
    "train_images = train_images / 255.0\n",
    "test_images = test_images / 255.0\n",
    "\n",
    "# Ubah label ke one-hot encoding\n",
    "train_labels = to_categorical(train_labels, 10)\n",
    "test_labels = to_categorical(test_labels, 10)\n",
    "\n",
    "# Membangun model ANN\n",
    "model = Sequential()\n",
    "model.add(Flatten(input_shape=(28, 28)))  # Layer input\n",
    "model.add(Dense(128, activation='relu'))  # Hidden layer dengan aktivasi ReLU\n",
    "model.add(Dense(10, activation='softmax'))  # Layer output dengan aktivasi softmax\n",
    "\n",
    "# Kompilasi model\n",
    "model.compile(optimizer='adam', loss='categorical_crossentropy', metrics=['accuracy'])\n",
    "\n",
    "# Pelatihan model\n",
    "model.fit(train_images, train_labels, epochs=10, batch_size=64, validation_split=0.2)\n",
    "\n",
    "# Evaluasi model pada data pengujian\n",
    "test_loss, test_acc = model.evaluate(test_images, test_labels)\n",
    "print(f'Akurasi pengujian: {test_acc}')\n",
    "\n",
    "# Prediksi dengan model\n",
    "predictions = model.predict(test_images)\n",
    "\n",
    "# Mengambil label kelas tunggal dari one-hot encoding\n",
    "from sklearn.metrics import confusion_matrix\n",
    "\n",
    "\n",
    "test_labels_single = np.argmax(test_labels, axis=1)\n",
    "\n",
    "# Membuat matriks\n",
    "confusion = confusion_matrix(test_labels_single, predicted_labels)\n",
    "print('Matriks:')\n",
    "print(confusion)\n",
    "\n",
    "\n"
   ]
  }
 ],
 "metadata": {
  "kernelspec": {
   "display_name": "base",
   "language": "python",
   "name": "python3"
  },
  "language_info": {
   "codemirror_mode": {
    "name": "ipython",
    "version": 3
   },
   "file_extension": ".py",
   "mimetype": "text/x-python",
   "name": "python",
   "nbconvert_exporter": "python",
   "pygments_lexer": "ipython3",
   "version": "3.11.4"
  }
 },
 "nbformat": 4,
 "nbformat_minor": 2
}
