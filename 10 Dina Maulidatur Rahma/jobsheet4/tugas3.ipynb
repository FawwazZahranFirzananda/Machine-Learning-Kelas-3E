{
 "cells": [
  {
   "cell_type": "code",
   "execution_count": null,
   "metadata": {},
   "outputs": [],
   "source": [
    "import numpy as np\n",
    "import pandas as pd\n",
    "from sklearn.feature_extraction.text import TfidfVectorizer\n",
    "from sklearn.model_selection import train_test_split\n",
    "from sklearn.naive_bayes import MultinomialNB\n",
    "from sklearn.metrics import accuracy_score, classification_report, confusion_matrix\n",
    "\n",
    "df = pd.read_csv('spam.csv', encoding='latin-1') # spesifiksi encoding diperlukan karena data tidak menggunakan UTF-8\n",
    "\n",
    "df.head()"
   ]
  },
  {
   "cell_type": "code",
   "execution_count": null,
   "metadata": {},
   "outputs": [],
   "source": [
    "# Preprocessing data (bersihkan kolom-kolom yang tidak diperlukan)\n",
    "df = df[['v1', 'v2']]\n",
    "df = df.rename(columns={'v1': 'label', 'v2': 'text'})"
   ]
  },
  {
   "cell_type": "code",
   "execution_count": null,
   "metadata": {},
   "outputs": [],
   "source": [
    "# Bagi data menjadi data latih dan data uji\n",
    "X = df['text']\n",
    "y = df['label']\n",
    "X_train, X_test, y_train, y_test = train_test_split(X, y, test_size=0.2, random_state=42)"
   ]
  },
  {
   "cell_type": "code",
   "execution_count": null,
   "metadata": {},
   "outputs": [],
   "source": [
    "# Inisialisasi TF-IDF Vectorizer dengan stop_words\n",
    "tfidf_vectorizer = TfidfVectorizer(stop_words='english')\n",
    "\n",
    "# Transformasi teks menjadi vektor fitur TF-IDF\n",
    "X_train_tfidf = tfidf_vectorizer.fit_transform(X_train)\n",
    "X_test_tfidf = tfidf_vectorizer.transform(X_test)\n"
   ]
  },
  {
   "cell_type": "code",
   "execution_count": null,
   "metadata": {},
   "outputs": [],
   "source": [
    "# Inisialisasi model Multinomial Naive Bayes\n",
    "naive_bayes = MultinomialNB()"
   ]
  },
  {
   "cell_type": "code",
   "execution_count": null,
   "metadata": {},
   "outputs": [],
   "source": [
    "# Latih model pada data pelatihan\n",
    "naive_bayes.fit(X_train_tfidf, y_train)\n",
    "\n",
    "# Prediksi label pada data pengujian\n",
    "y_pred = naive_bayes.predict(X_test_tfidf)"
   ]
  },
  {
   "cell_type": "code",
   "execution_count": null,
   "metadata": {},
   "outputs": [],
   "source": [
    "# Evaluasi hasil\n",
    "accuracy = accuracy_score(y_test, y_pred)\n",
    "conf_matrix = confusion_matrix(y_test, y_pred)\n",
    "class_report = classification_report(y_test, y_pred)\n"
   ]
  },
  {
   "cell_type": "code",
   "execution_count": null,
   "metadata": {},
   "outputs": [],
   "source": [
    "# Menampilkan hasil\n",
    "print(\"Akurasi:\", accuracy)\n",
    "print(\"Confusion Matrix:\\n\", conf_matrix)\n",
    "print(\"Classification Report:\\n\", class_report)"
   ]
  },
  {
   "cell_type": "code",
   "execution_count": null,
   "metadata": {},
   "outputs": [],
   "source": [
    "# Lakukan langkah-langkah pemodelan dengan CountVectorizer seperti yang telah Anda lakukan pada Tugas no 2\n",
    "# Hitung akurasi, matriks kebingungan, dan laporan klasifikasi\n",
    "\n",
    "# Contoh:\n",
    "from sklearn.feature_extraction.text import CountVectorizer\n",
    "from sklearn.naive_bayes import MultinomialNB\n",
    "\n",
    "# Inisialisasi CountVectorizer dan model Multinomial Naive Bayes\n",
    "count_vectorizer = CountVectorizer(stop_words='english')\n",
    "X_train_count = count_vectorizer.fit_transform(X_train)\n",
    "X_test_count = count_vectorizer.transform(X_test)\n",
    "naive_bayes_count = MultinomialNB()\n",
    "naive_bayes_count.fit(X_train_count, y_train)\n",
    "y_pred_count = naive_bayes_count.predict(X_test_count)\n",
    "\n",
    "# Evaluasi hasil\n",
    "accuracy_count = accuracy_score(y_test, y_pred_count)\n",
    "conf_matrix_count = confusion_matrix(y_test, y_pred_count)\n",
    "class_report_count = classification_report(y_test, y_pred_count)\n",
    "\n",
    "# Tampilkan hasil\n",
    "print(\"Evaluasi dengan CountVectorizer:\")\n",
    "print(\"Akurasi:\", accuracy_count)\n",
    "print(\"Confusion Matrix:\\n\", conf_matrix_count)\n",
    "print(\"Classification Report:\\n\", class_report_count)\n"
   ]
  },
  {
   "cell_type": "code",
   "execution_count": null,
   "metadata": {},
   "outputs": [],
   "source": [
    "# Lakukan langkah-langkah pemodelan dengan TF-IDF Vectorizer seperti yang telah Anda lakukan pada Tugas no 3\n",
    "# Hitung akurasi, matriks kebingungan, dan laporan klasifikasi\n",
    "\n",
    "# Contoh:\n",
    "from sklearn.feature_extraction.text import TfidfVectorizer\n",
    "from sklearn.naive_bayes import MultinomialNB\n",
    "\n",
    "# Inisialisasi TF-IDF Vectorizer dan model Multinomial Naive Bayes\n",
    "tfidf_vectorizer = TfidfVectorizer(stop_words='english')\n",
    "X_train_tfidf = tfidf_vectorizer.fit_transform(X_train)\n",
    "X_test_tfidf = tfidf_vectorizer.transform(X_test)\n",
    "naive_bayes_tfidf = MultinomialNB()\n",
    "naive_bayes_tfidf.fit(X_train_tfidf, y_train)\n",
    "y_pred_tfidf = naive_bayes_tfidf.predict(X_test_tfidf)\n",
    "\n",
    "# Evaluasi hasil\n",
    "accuracy_tfidf = accuracy_score(y_test, y_pred_tfidf)\n",
    "conf_matrix_tfidf = confusion_matrix(y_test, y_pred_tfidf)\n",
    "class_report_tfidf = classification_report(y_test, y_pred_tfidf)\n",
    "\n",
    "# Tampilkan hasil\n",
    "print(\"Evaluasi dengan TF-IDF Vectorizer:\")\n",
    "print(\"Akurasi:\", accuracy_tfidf)\n",
    "print(\"Confusion Matrix:\\n\", conf_matrix_tfidf)\n",
    "print(\"Classification Report:\\n\", class_report_tfidf)\n"
   ]
  }
 ],
 "metadata": {
  "language_info": {
   "name": "python"
  },
  "orig_nbformat": 4
 },
 "nbformat": 4,
 "nbformat_minor": 2
}
