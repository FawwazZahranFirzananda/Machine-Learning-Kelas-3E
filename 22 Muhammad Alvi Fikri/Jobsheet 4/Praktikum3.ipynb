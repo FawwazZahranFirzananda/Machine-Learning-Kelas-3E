{
 "cells": [
  {
   "cell_type": "markdown",
   "metadata": {},
   "source": [
    "<h1>Praktikum 3\n"
   ]
  },
  {
   "cell_type": "markdown",
   "metadata": {},
   "source": [
    "### Klasifikasi Naive Bayes dengan Data Dummy"
   ]
  },
  {
   "cell_type": "markdown",
   "metadata": {},
   "source": [
    "Pada percobaan ini kita akan menggunakan data dummy (sintentis) untuk membuat sebuah model Naive Bayes. Untuk membuat data dummy, kita dapat menggunakan fungsi make_classification dari library scikit-learn. Selanjutnya, kita akan membuat model Multinomial Naive Bayes dengan menggunakan MultinomialNB dan model Gaussian Naive Bayes menggunakan GaussianNB."
   ]
  },
  {
   "cell_type": "markdown",
   "metadata": {},
   "source": [
    "### Mendefiniskan Data Dummy"
   ]
  },
  {
   "cell_type": "code",
   "execution_count": 1,
   "metadata": {},
   "outputs": [
    {
     "name": "stdout",
     "output_type": "stream",
     "text": [
      "[[132  75]\n",
      " [ 20 218]\n",
      " [ 62 148]\n",
      " [163 117]\n",
      " [186  63]\n",
      " [124  68]\n",
      " [ 19 208]\n",
      " [ 57 267]\n",
      " [ 87 102]\n",
      " [ 96 127]\n",
      " [ 85 108]\n",
      " [ 48  88]\n",
      " [ 86 129]\n",
      " [ 75 120]\n",
      " [ 76 257]\n",
      " [155  35]\n",
      " [ 84 139]\n",
      " [111  81]\n",
      " [ 91 133]\n",
      " [148   9]\n",
      " [ 56 183]\n",
      " [ 26 271]\n",
      " [171  52]\n",
      " [ 57  68]\n",
      " [112 262]\n",
      " [ 49  13]\n",
      " [146 133]\n",
      " [ 11   5]\n",
      " [ 71  40]\n",
      " [ 90  61]]\n",
      "[0 0 0 0 0 0 0 0 1 1 1 1 1 1 1 1 0 0 0 0 0 0 0 1 1 1 1 1 1 1]\n"
     ]
    }
   ],
   "source": [
    "import numpy as np\n",
    "from sklearn.datasets import make_classification\n",
    "\n",
    "# Membuat data dummy\n",
    "# Hasil dari make_classification berupa data fitur X dan label y\n",
    "# Label y akan berupa data yang sudah di encode (angka)\n",
    "X,y = make_classification(n_samples=30, n_features=2, n_classes=2, n_informative=2, n_redundant=0, n_repeated=0, shuffle=False)\n",
    "\n",
    "# Secara defalt, make_classfication menghasilkan nilai float\n",
    "# Kita perlu merubah dalam bentuk diskrit\n",
    "\n",
    "# Absolutekan nilai\n",
    "X = np.absolute(X)\n",
    "\n",
    "# Bulatkan nilai ke 2 angka dibelakang koma\n",
    "# Kalikan dengan 100 supaya tidak ada lagi koma\n",
    "X = np.round(X, 2) * 100\n",
    "\n",
    "# Ubah ke dalam bentuk integer\n",
    "X = X.astype(int)\n",
    "print(X)\n",
    "print(y)"
   ]
  },
  {
   "cell_type": "markdown",
   "metadata": {},
   "source": [
    "Parameter yang digunakan pada fungsi make_classification adalah,<br>\n",
    "1. n_samples: jumlah sampel yang diinginkan<br>\n",
    "2. n_features: jumlah fitur yang digunakan<br>\n",
    "3. n_classes: jumlah kelas<br>\n",
    "4. n_informative: jumlah fitur yang memiliki korelasi dengan kelas<br>\n",
    "5. n_redundant: jumlah fitur yang tidak memiliki korelasi dengan kelas<br>\n",
    "6. n_repeated: jumlah fitur yang diulang"
   ]
  },
  {
   "cell_type": "markdown",
   "metadata": {},
   "source": [
    "### (Opsional) Membuat Data Frame\n",
    "Agar data lebih mudah untuk dibaca, maka kita akan membuat DataFrame dengan menggunakan library Pandas berdasarkan data dummy yang telah dibuat sebelumnya"
   ]
  },
  {
   "cell_type": "code",
   "execution_count": 2,
   "metadata": {},
   "outputs": [
    {
     "data": {
      "text/html": [
       "<div>\n",
       "<style scoped>\n",
       "    .dataframe tbody tr th:only-of-type {\n",
       "        vertical-align: middle;\n",
       "    }\n",
       "\n",
       "    .dataframe tbody tr th {\n",
       "        vertical-align: top;\n",
       "    }\n",
       "\n",
       "    .dataframe thead th {\n",
       "        text-align: right;\n",
       "    }\n",
       "</style>\n",
       "<table border=\"1\" class=\"dataframe\">\n",
       "  <thead>\n",
       "    <tr style=\"text-align: right;\">\n",
       "      <th></th>\n",
       "      <th>Fitur 1</th>\n",
       "      <th>Fitur 2</th>\n",
       "      <th>Label</th>\n",
       "    </tr>\n",
       "  </thead>\n",
       "  <tbody>\n",
       "    <tr>\n",
       "      <th>0</th>\n",
       "      <td>132</td>\n",
       "      <td>75</td>\n",
       "      <td>0</td>\n",
       "    </tr>\n",
       "    <tr>\n",
       "      <th>1</th>\n",
       "      <td>20</td>\n",
       "      <td>218</td>\n",
       "      <td>0</td>\n",
       "    </tr>\n",
       "    <tr>\n",
       "      <th>2</th>\n",
       "      <td>62</td>\n",
       "      <td>148</td>\n",
       "      <td>0</td>\n",
       "    </tr>\n",
       "    <tr>\n",
       "      <th>3</th>\n",
       "      <td>163</td>\n",
       "      <td>117</td>\n",
       "      <td>0</td>\n",
       "    </tr>\n",
       "    <tr>\n",
       "      <th>4</th>\n",
       "      <td>186</td>\n",
       "      <td>63</td>\n",
       "      <td>0</td>\n",
       "    </tr>\n",
       "  </tbody>\n",
       "</table>\n",
       "</div>"
      ],
      "text/plain": [
       "   Fitur 1  Fitur 2  Label\n",
       "0      132       75      0\n",
       "1       20      218      0\n",
       "2       62      148      0\n",
       "3      163      117      0\n",
       "4      186       63      0"
      ]
     },
     "execution_count": 2,
     "metadata": {},
     "output_type": "execute_result"
    }
   ],
   "source": [
    "import pandas as pd\n",
    "\n",
    "# Reshape label y menjadi 2D\n",
    "# Hal ini dilakukan karena kita akan menggabungkannya dengan data fitur X\n",
    "y_new = y.reshape(len(y), 1)\n",
    "\n",
    "# Gabungkan fitur X dan label y dalam data array\n",
    "data = np.concatenate((X, y_new), axis=1)\n",
    "\n",
    "# Definisikan nama kolom\n",
    "nama_kolom = ['Fitur 1', 'Fitur 2', 'Label']\n",
    "\n",
    "# Buat Data Frame\n",
    "df = pd.DataFrame(data, columns=nama_kolom)\n",
    "\n",
    "# Cek Data Frame\n",
    "df.head()"
   ]
  },
  {
   "cell_type": "markdown",
   "metadata": {},
   "source": [
    "Dikarenakan label masih berbetuk encoding angka, untuk mempermudah pembacaan data, kita dapat mengubah bentuknya dalam bentuk kategorial"
   ]
  },
  {
   "cell_type": "code",
   "execution_count": 4,
   "metadata": {},
   "outputs": [
    {
     "data": {
      "text/html": [
       "<div>\n",
       "<style scoped>\n",
       "    .dataframe tbody tr th:only-of-type {\n",
       "        vertical-align: middle;\n",
       "    }\n",
       "\n",
       "    .dataframe tbody tr th {\n",
       "        vertical-align: top;\n",
       "    }\n",
       "\n",
       "    .dataframe thead th {\n",
       "        text-align: right;\n",
       "    }\n",
       "</style>\n",
       "<table border=\"1\" class=\"dataframe\">\n",
       "  <thead>\n",
       "    <tr style=\"text-align: right;\">\n",
       "      <th></th>\n",
       "      <th>Fitur 1</th>\n",
       "      <th>Fitur 2</th>\n",
       "      <th>Label</th>\n",
       "    </tr>\n",
       "  </thead>\n",
       "  <tbody>\n",
       "    <tr>\n",
       "      <th>0</th>\n",
       "      <td>132</td>\n",
       "      <td>75</td>\n",
       "      <td>Kelas B</td>\n",
       "    </tr>\n",
       "    <tr>\n",
       "      <th>1</th>\n",
       "      <td>20</td>\n",
       "      <td>218</td>\n",
       "      <td>Kelas B</td>\n",
       "    </tr>\n",
       "    <tr>\n",
       "      <th>2</th>\n",
       "      <td>62</td>\n",
       "      <td>148</td>\n",
       "      <td>Kelas B</td>\n",
       "    </tr>\n",
       "    <tr>\n",
       "      <th>3</th>\n",
       "      <td>163</td>\n",
       "      <td>117</td>\n",
       "      <td>Kelas B</td>\n",
       "    </tr>\n",
       "    <tr>\n",
       "      <th>4</th>\n",
       "      <td>186</td>\n",
       "      <td>63</td>\n",
       "      <td>Kelas B</td>\n",
       "    </tr>\n",
       "  </tbody>\n",
       "</table>\n",
       "</div>"
      ],
      "text/plain": [
       "   Fitur 1  Fitur 2    Label\n",
       "0      132       75  Kelas B\n",
       "1       20      218  Kelas B\n",
       "2       62      148  Kelas B\n",
       "3      163      117  Kelas B\n",
       "4      186       63  Kelas B"
      ]
     },
     "execution_count": 4,
     "metadata": {},
     "output_type": "execute_result"
    }
   ],
   "source": [
    "# Definisikan nama label\n",
    "labels = {\n",
    "    1 : 'Kelas A',\n",
    "    0 : 'Kelas B'\n",
    "}\n",
    "\n",
    "# Copy Data Frame untuk menyimpan Data Frame baru\n",
    "# dengan label yang mudah untuk dibaca\n",
    "df_label = df.copy()\n",
    "\n",
    "# Ubah label dengan fungsi mapping dari Pandas\n",
    "# pada Data Frame df_label\n",
    "df_label['Label'] = df_label['Label'].map(labels)\n",
    "\n",
    "# Cek Data Frame df_label\n",
    "df_label.head()"
   ]
  },
  {
   "cell_type": "markdown",
   "metadata": {},
   "source": [
    "### (Opsional) Visualisasi Data\n"
   ]
  },
  {
   "cell_type": "code",
   "execution_count": 5,
   "metadata": {},
   "outputs": [
    {
     "data": {
      "image/png": "[encoded data removed]",
      "text/plain": [
       "<Figure size 640x480 with 1 Axes>"
      ]
     },
     "metadata": {},
     "output_type": "display_data"
    }
   ],
   "source": [
    "import matplotlib.pyplot as plt\n",
    "\n",
    "# Definisikan warna untuk setiap kelas\n",
    "colors = {\n",
    "    'class_a': 'MediumVioletRed',\n",
    "    'class_b': 'Navy'\n",
    "}\n",
    "\n",
    "# Kelompokkan label berdasarkan nama kelas\n",
    "gb = df_label.groupby(['Label'])\n",
    "class_a = gb.get_group('Kelas A')\n",
    "class_b = gb.get_group('Kelas B')\n",
    "\n",
    "# Plot\n",
    "plt.scatter(x=class_a['Fitur 1'], y=class_a['Fitur 2'], c=colors['class_a'])\n",
    "plt.scatter(x=class_b['Fitur 1'], y=class_b['Fitur 2'], c=colors['class_b'])\n",
    "plt.xlabel('Fitur 1')\n",
    "plt.ylabel('Fitur 2')\n",
    "plt.legend(['Kelas A', 'Kelas B'])\n",
    "plt.gca().axes.xaxis.set_ticklabels([])\n",
    "plt.gca().axes.yaxis.set_ticklabels([])\n",
    "plt.show()"
   ]
  },
  {
   "cell_type": "markdown",
   "metadata": {},
   "source": [
    "### Klasifikasi Multinomial Naive Bayes"
   ]
  },
  {
   "cell_type": "code",
   "execution_count": 6,
   "metadata": {},
   "outputs": [
    {
     "name": "stdout",
     "output_type": "stream",
     "text": [
      "Hasil akurasi data train: 0.47619047619047616\n",
      "Hasil akurasi data test: 0.2222222222222222\n"
     ]
    }
   ],
   "source": [
    "from sklearn.naive_bayes import MultinomialNB # class untuk model MultinomialNB\n",
    "from sklearn.model_selection import train_test_split\n",
    "from sklearn.metrics import accuracy_score # evaluasi model berdasarkan akurasi\n",
    "\n",
    "# Inisiasi obyek MultinomialNB\n",
    "mnb = MultinomialNB()\n",
    "\n",
    "# Kita dapat langsung menggunakan fitur X dan label y\n",
    "# hasil dari proses pembuatan data dummy\n",
    "\n",
    "# Split data training dan testing\n",
    "X_train, X_test, y_train, y_test = train_test_split(X,y, test_size=0.3, random_state=30)\n",
    "\n",
    "# Fit model\n",
    "# Label y harus dalam bentuk 1D atau (n_samples,)\n",
    "mnb.fit(X_train, y_train)\n",
    "\n",
    "# Prediksi dengan data training\n",
    "y_train_pred = mnb.predict(X_train)\n",
    "\n",
    "# Evaluasi akurasi training\n",
    "acc_train = accuracy_score(y_train, y_train_pred)\n",
    "\n",
    "# Prediksi test data\n",
    "y_test_pred = mnb.predict(X_test)\n",
    "\n",
    "# Evaluasi model dengan metric akurasi\n",
    "acc_test = accuracy_score(y_test, y_test_pred)\n",
    "\n",
    "# Print hasil evaluasi\n",
    "print(f'Hasil akurasi data train: {acc_train}')\n",
    "print(f'Hasil akurasi data test: {acc_test}')"
   ]
  },
  {
   "cell_type": "markdown",
   "metadata": {},
   "source": [
    "### Klasifikasi Gaussian Naive Bayes"
   ]
  },
  {
   "cell_type": "code",
   "execution_count": 7,
   "metadata": {},
   "outputs": [
    {
     "name": "stdout",
     "output_type": "stream",
     "text": [
      "Hasil akurasi data train (Gaussian): 0.7142857142857143\n",
      "Hasil akurasi data test (Gaussian): 0.6666666666666666\n"
     ]
    }
   ],
   "source": [
    "from sklearn.naive_bayes import GaussianNB # class untuk model GaussianNB\n",
    "\n",
    "# Inisiasi obyek Gaussian\n",
    "gnb = GaussianNB()\n",
    "\n",
    "# Kita menggunakan split data training dan testing\n",
    "# yang sama dengan model multinomial\n",
    "\n",
    "# Fit model\n",
    "# Label y harus dalam bentu 1D atau (n_samples,)\n",
    "gnb.fit(X_train, y_train)\n",
    "\n",
    "# Prediksi dengan data training\n",
    "y_train_pred_gnb = gnb.predict(X_train)\n",
    "\n",
    "# Evaluasi akurasi training\n",
    "acc_train_gnb = accuracy_score(y_train, y_train_pred_gnb)\n",
    "\n",
    "# Prediksi test data\n",
    "y_test_pred_gnb = gnb.predict(X_test)\n",
    "\n",
    "# Evaluasi model dengan metric akurasi\n",
    "acc_test_gnb = accuracy_score(y_test, y_test_pred_gnb)\n",
    "\n",
    "# Print hasil evaluasi\n",
    "print(f'Hasil akurasi data train (Gaussian): {acc_train_gnb}')\n",
    "print(f'Hasil akurasi data test (Gaussian): {acc_test_gnb}')"
   ]
  }
 ],
 "metadata": {
  "kernelspec": {
   "display_name": "base",
   "language": "python",
   "name": "python3"
  },
  "language_info": {
   "codemirror_mode": {
    "name": "ipython",
    "version": 3
   },
   "file_extension": ".py",
   "mimetype": "text/x-python",
   "name": "python",
   "nbconvert_exporter": "python",
   "pygments_lexer": "ipython3",
   "version": "3.11.4"
  },
  "orig_nbformat": 4
 },
 "nbformat": 4,
 "nbformat_minor": 2
}
