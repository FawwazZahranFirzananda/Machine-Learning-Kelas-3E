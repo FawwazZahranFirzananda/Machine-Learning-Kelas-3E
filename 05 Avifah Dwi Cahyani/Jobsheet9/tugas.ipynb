{
 "cells": [
  {
   "cell_type": "markdown",
   "metadata": {},
   "source": [
    "### **Anggota Kelompok :**\n",
    "- Avifah Dwi Cahyani    (2141720053)\n",
    "- Sabna Devi Kumalasari (2141720009)"
   ]
  },
  {
   "cell_type": "markdown",
   "metadata": {},
   "source": [
    "### **Tugas**\n",
    "- Lakukan klasifikasi pada data MNIST dengan menggunakan model ANN\n",
    "- Anda diperbolehkan melakuka eksplorasi terhadap,\n",
    "  - Metode pra pengolahan\n",
    "  - Pemilihan fitur\n",
    "  - Arsitektur ANN\n",
    "  - Fungsi Aktiviasi\n",
    "- ANN diimplementasikan dengan menggunakan tensorflow.\n",
    "- DIKERJAKAN SECARA BERKELOMPOK\n",
    "- JELASKAN HASIL YANG ANDA DAPATKAN,\n",
    "  - AKURASI\n",
    "  - CONFUSION MATRIX\n",
    "  - KONFIGURASI MODEL --> MULAI DARI PRA PENGOLAHAN SAMPAI ARSITEKTUR ANN"
   ]
  },
  {
   "cell_type": "markdown",
   "metadata": {},
   "source": [
    "#### **JAWAB**"
   ]
  },
  {
   "cell_type": "markdown",
   "metadata": {},
   "source": [
    "Import Library dan Persiapan Data"
   ]
  },
  {
   "cell_type": "code",
   "execution_count": 1,
   "metadata": {},
   "outputs": [
    {
     "name": "stderr",
     "output_type": "stream",
     "text": [
      "c:\\Users\\t470s\\anaconda3\\Lib\\site-packages\\sklearn\\datasets\\_openml.py:1002: FutureWarning: The default value of `parser` will change from `'liac-arff'` to `'auto'` in 1.4. You can set `parser='auto'` to silence this warning. Therefore, an `ImportError` will be raised from 1.4 if the dataset is dense and pandas is not installed. Note that the pandas parser may return different data types. See the Notes Section in fetch_openml's API doc for details.\n",
      "  warn(\n"
     ]
    }
   ],
   "source": [
    "import tensorflow as tf\n",
    "from keras import layers, models\n",
    "from sklearn.datasets import fetch_openml\n",
    "from sklearn.model_selection import train_test_split\n",
    "import numpy as np\n",
    "import matplotlib.pyplot as plt\n",
    "\n",
    "# Unduh dataset MNIST dari scikit-learn\n",
    "mnist = fetch_openml('mnist_784')\n",
    "\n",
    "# Pisahkan data gambar dan label\n",
    "images = mnist.data.astype('float32')\n",
    "labels = mnist.target.astype('int')"
   ]
  },
  {
   "cell_type": "markdown",
   "metadata": {},
   "source": [
    "Langkah 1\n",
    "Pra-pemrosesan"
   ]
  },
  {
   "cell_type": "code",
   "execution_count": 2,
   "metadata": {},
   "outputs": [],
   "source": [
    "images /= 255.0  # Skalakan data\n",
    "\n",
    "# Bagi data menjadi data pelatihan dan pengujian\n",
    "train_images, test_images, train_labels, test_labels = train_test_split(\n",
    "    images, labels, test_size=0.2, random_state=42)"
   ]
  },
  {
   "cell_type": "markdown",
   "metadata": {},
   "source": [
    "Langkah 2 Definisikan arsitektur model ANN"
   ]
  },
  {
   "cell_type": "code",
   "execution_count": 3,
   "metadata": {},
   "outputs": [],
   "source": [
    "model = models.Sequential([\n",
    "    layers.Reshape(target_shape=(28, 28, 1), input_shape=(784,)), #engubah bentuk input dari vektor 1D (784 elemen) menjadi matriks 3D (28x28x1). \n",
    "    layers.Conv2D(32, (3, 3), activation='relu', input_shape=(28, 28, 1)), #Menambahkan lapisan konvolusi dengan 32 filter, masing-masing berukuran 3x3, dan fungsi aktivasi ReLU.\n",
    "    layers.MaxPooling2D((2, 2)), #Menambahkan lapisan max pooling dengan ukuran jendela 2x2.\n",
    "    layers.Flatten(), #Mengubah output dari lapisan sebelumnya (berupa matriks) menjadi vektor 1D.\n",
    "    layers.Dense(128, activation='relu'), #Menambahkan lapisan terhubung penuh (fully connected) dengan 128 neuron dan fungsi aktivasi ReLU.\n",
    "    layers.Dense(64, activation='relu'), #Menambahkan lapisan terhubung penuh dengan 64 neuron dan fungsi aktivasi ReLU.\n",
    "    layers.Dense(10, activation='softmax') #Menambahkan lapisan terhubung penuh dengan 10 neuron (sesuai dengan jumlah kelas digit) dan fungsi aktivasi softmax.\n",
    "])"
   ]
  },
  {
   "cell_type": "markdown",
   "metadata": {},
   "source": [
    "Kode ini mendefinisikan struktur model CNN untuk pengenalan digit tulisan tangan. Model ini memiliki lapisan konvolusi, max pooling, dan lapisan terhubung penuh untuk memproses data gambar MNIST. Fungsi aktivasi ReLU digunakan di sebagian besar lapisan, dan pada lapisan terakhir menggunakan softmax untuk mendapatkan probabilitas kelas."
   ]
  },
  {
   "cell_type": "markdown",
   "metadata": {},
   "source": [
    "Langkah 3 Kompilasi model"
   ]
  },
  {
   "cell_type": "code",
   "execution_count": 4,
   "metadata": {},
   "outputs": [],
   "source": [
    "model.compile(optimizer='adam', #mengoptimalkan proses pelatihan\n",
    "              loss='sparse_categorical_crossentropy', # Memilih fungsi kerugian untuk masalah klasifikasi dengan banyak kelas.\n",
    "              metrics=['accuracy']) #Menggunakan metrik akurasi untuk memantau kinerja model selama proses pelatihan."
   ]
  },
  {
   "cell_type": "markdown",
   "metadata": {},
   "source": [
    "Langkah 4 Latih model"
   ]
  },
  {
   "cell_type": "code",
   "execution_count": 5,
   "metadata": {},
   "outputs": [
    {
     "name": "stdout",
     "output_type": "stream",
     "text": [
      "Epoch 1/10\n",
      "1400/1400 [==============================] - 50s 34ms/step - loss: 0.1825 - accuracy: 0.9440 - val_loss: 0.0734 - val_accuracy: 0.9764\n",
      "Epoch 2/10\n",
      "1400/1400 [==============================] - 47s 34ms/step - loss: 0.0585 - accuracy: 0.9817 - val_loss: 0.0533 - val_accuracy: 0.9830\n",
      "Epoch 3/10\n",
      "1400/1400 [==============================] - 37s 26ms/step - loss: 0.0373 - accuracy: 0.9887 - val_loss: 0.0558 - val_accuracy: 0.9823\n",
      "Epoch 4/10\n",
      "1400/1400 [==============================] - 39s 28ms/step - loss: 0.0255 - accuracy: 0.9923 - val_loss: 0.0695 - val_accuracy: 0.9782\n",
      "Epoch 5/10\n",
      "1400/1400 [==============================] - 36s 26ms/step - loss: 0.0188 - accuracy: 0.9937 - val_loss: 0.0575 - val_accuracy: 0.9816\n",
      "Epoch 6/10\n",
      "1400/1400 [==============================] - 38s 27ms/step - loss: 0.0137 - accuracy: 0.9957 - val_loss: 0.0581 - val_accuracy: 0.9852\n",
      "Epoch 7/10\n",
      "1400/1400 [==============================] - 43s 31ms/step - loss: 0.0107 - accuracy: 0.9965 - val_loss: 0.0604 - val_accuracy: 0.9856\n",
      "Epoch 8/10\n",
      "1400/1400 [==============================] - 41s 29ms/step - loss: 0.0096 - accuracy: 0.9970 - val_loss: 0.0745 - val_accuracy: 0.9829\n",
      "Epoch 9/10\n",
      "1400/1400 [==============================] - 41s 29ms/step - loss: 0.0072 - accuracy: 0.9973 - val_loss: 0.0646 - val_accuracy: 0.9847\n",
      "Epoch 10/10\n",
      "1400/1400 [==============================] - 40s 28ms/step - loss: 0.0066 - accuracy: 0.9980 - val_loss: 0.0686 - val_accuracy: 0.9841\n"
     ]
    }
   ],
   "source": [
    "history = model.fit(train_images, train_labels,\n",
    "                    epochs=10, validation_split=0.2)"
   ]
  },
  {
   "cell_type": "markdown",
   "metadata": {},
   "source": [
    "Kode ini memulai proses pelatihan pada model jaringan saraf dengan menggunakan data latih dari dataset MNIST. Proses ini akan berlangsung selama 10 epoha, dan akan ada evaluasi pada data validasi setiap akhir epoha. Informasi tentang hasil pelatihan akan disimpan dalam variabel history."
   ]
  },
  {
   "cell_type": "markdown",
   "metadata": {},
   "source": [
    "Langkah 5: Evaluasi model pada data pengujian"
   ]
  },
  {
   "cell_type": "code",
   "execution_count": 6,
   "metadata": {},
   "outputs": [
    {
     "name": "stdout",
     "output_type": "stream",
     "text": [
      "438/438 [==============================] - 3s 7ms/step - loss: 0.0823 - accuracy: 0.9836\n",
      "Akurasi pada data pengujian: 0.98\n"
     ]
    }
   ],
   "source": [
    "test_loss, test_acc = model.evaluate(test_images, test_labels)\n",
    "print(f'Akurasi pada data pengujian: {test_acc:.2f}')"
   ]
  },
  {
   "cell_type": "markdown",
   "metadata": {},
   "source": [
    "Kode ini mengukur kinerja model pada data uji setelah proses pelatihan selesai. Hasilnya adalah akurasi model pada data uji. Akurasi adalah rasio prediksi benar terhadap total predik"
   ]
  },
  {
   "cell_type": "code",
   "execution_count": 7,
   "metadata": {},
   "outputs": [
    {
     "name": "stdout",
     "output_type": "stream",
     "text": [
      "1750/1750 [==============================] - 11s 6ms/step - loss: 0.0174 - accuracy: 0.9957\n",
      "Akurasi pada data pelatihan: 1.00\n"
     ]
    }
   ],
   "source": [
    "# Evaluasi akurasi data pelatihan\n",
    "train_loss, train_acc = model.evaluate(train_images, train_labels)\n",
    "print(f'Akurasi pada data pelatihan: {train_acc:.2f}')"
   ]
  },
  {
   "cell_type": "markdown",
   "metadata": {},
   "source": [
    "Kode ini mengukur kinerja model pada data latih setelah proses pelatihan selesai. Hasilnya adalah akurasi model pada data latih. Akurasi adalah rasio prediksi benar terhadap total prediksi."
   ]
  },
  {
   "cell_type": "code",
   "execution_count": 8,
   "metadata": {},
   "outputs": [
    {
     "name": "stdout",
     "output_type": "stream",
     "text": [
      "438/438 [==============================] - 3s 7ms/step\n",
      "Matriks Kebingungan:\n",
      "[[1337    1    1    0    1    0    2    1    0    0]\n",
      " [   1 1586    2    0    4    0    5    1    1    0]\n",
      " [   1    5 1356    1    5    0    1    3    4    4]\n",
      " [   3    1   12 1397    0    4    0    4    4    8]\n",
      " [   1    0    0    0 1286    0    0    1    0    7]\n",
      " [   0    0    0    6    0 1251    8    0    3    5]\n",
      " [   5    0    0    0    2    3 1386    0    0    0]\n",
      " [   2    1   15    2    9    1    0 1462    1   10]\n",
      " [   3    3    2    5    4    4    6    3 1321    6]\n",
      " [   5    2    1    3   12    3    0    3    2 1389]]\n"
     ]
    }
   ],
   "source": [
    "from sklearn.metrics import confusion_matrix\n",
    "\n",
    "# Membuat prediksi pada data pengujian\n",
    "predictions = model.predict(test_images)\n",
    "predicted_labels = np.argmax(predictions, axis=1)\n",
    "\n",
    "# Membuat matriks kebingungan\n",
    "confusion = confusion_matrix(test_labels, predicted_labels)\n",
    "print('Matriks Kebingungan:')\n",
    "print(confusion)"
   ]
  },
  {
   "cell_type": "markdown",
   "metadata": {},
   "source": [
    "Kode ini menghasilkan dan mencetak matriks kebingungan dari hasil prediksi model pada data uji. "
   ]
  }
 ],
 "metadata": {
  "kernelspec": {
   "display_name": "base",
   "language": "python",
   "name": "python3"
  },
  "language_info": {
   "codemirror_mode": {
    "name": "ipython",
    "version": 3
   },
   "file_extension": ".py",
   "mimetype": "text/x-python",
   "name": "python",
   "nbconvert_exporter": "python",
   "pygments_lexer": "ipython3",
   "version": "3.11.4"
  }
 },
 "nbformat": 4,
 "nbformat_minor": 2
}
