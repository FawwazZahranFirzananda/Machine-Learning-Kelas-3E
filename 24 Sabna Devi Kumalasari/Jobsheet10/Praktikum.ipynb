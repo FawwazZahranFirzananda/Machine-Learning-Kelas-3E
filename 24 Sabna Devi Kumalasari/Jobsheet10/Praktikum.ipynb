{
  "cells": [
    {
      "cell_type": "markdown",
      "metadata": {
        "id": "view-in-github",
        "colab_type": "text"
      },
      "source": [
        "<a href=\"https://colab.research.google.com/github/alimurrofid/Machine-Learning-Kelas-3E/blob/main/24%20Sabna%20Devi%20Kumalasari/Jobsheet10/Praktikum.ipynb\" target=\"_parent\"><img src=\"https://colab.research.google.com/assets/colab-badge.svg\" alt=\"Open In Colab\"/></a>"
      ]
    },
    {
      "cell_type": "markdown",
      "metadata": {
        "id": "kHRg6wGl7MRk"
      },
      "source": [
        "# **Jobsheet 10: Recurrent Neural Network (RNN)**\n",
        "- Nama   : Sabna Devi Kumalasari\n",
        "- NIM    : 2141720009\n",
        "- Kelas  : 3E D4-TI"
      ]
    },
    {
      "cell_type": "markdown",
      "metadata": {
        "id": "9VNPSZlL7kQG"
      },
      "source": [
        "## **Praktikum 1 - RNN untuk Analisis Sentimen**"
      ]
    },
    {
      "cell_type": "markdown",
      "metadata": {
        "id": "rghPIV8H7sUr"
      },
      "source": [
        "### **Setup**\n",
        "Impor matplotlib dan buat fungsi pembantu untuk memplot grafik:"
      ]
    },
    {
      "cell_type": "code",
      "execution_count": null,
      "metadata": {
        "id": "9UoKGDga7Ayv"
      },
      "outputs": [],
      "source": [
        "import numpy as np\n",
        "import tensorflow_datasets as tfds\n",
        "import tensorflow as tf\n",
        "\n",
        "tfds.disable_progress_bar() #digunakan untuk menonaktifkan tampilan progress bar saat menggunakan TensorFlow Datasets (TFDS)"
      ]
    },
    {
      "cell_type": "code",
      "execution_count": null,
      "metadata": {
        "id": "2lor2tJY76aO"
      },
      "outputs": [],
      "source": [
        "import matplotlib.pyplot as plt\n",
        "\n",
        "def plot_graphs(history, metric):\n",
        "  plt.plot(history.history[metric]) #membuat plot nilai metrik yang spesifik\n",
        "  plt.plot(history.history['val_'+metric], '') #membuat plot nilai yang sama untuk metrik yang sama pada dataset validasi\n",
        "  plt.xlabel(\"Epochs\")\n",
        "  plt.ylabel(metric) #Menetapkan label untuk sumbu y sesuai dengan metrik yang dipilih, yang diberikan sebagai argumen kepada fungsi.\n",
        "  plt.legend([metric, 'val_'+metric]) #menambahkan legenda ke plot. Legenda membantu membedakan antara garis pelatihan dan validasi dengan memberi label dengan nama metrik"
      ]
    },
    {
      "cell_type": "markdown",
      "metadata": {
        "id": "Q2OryJPO8SyD"
      },
      "source": [
        "### **Setup input pipeline**"
      ]
    },
    {
      "cell_type": "markdown",
      "metadata": {
        "id": "gC-9KiuP8jX1"
      },
      "source": [
        "Dataset ulasan film IMDB adalah kumpulan data klasifikasi biner—semua ulasan memiliki sentimen positif atau negatif.\n",
        "\n",
        "Download dataset menggunakan [TFDS](https://www.tensorflow.org/datasets). Lihat [loading text tutorial](https://www.tensorflow.org/tutorials/load_data/text) jika ingin me load data secara manual"
      ]
    },
    {
      "cell_type": "code",
      "execution_count": null,
      "metadata": {
        "colab": {
          "base_uri": "https://localhost:8080/"
        },
        "id": "h8-nX_-D8ugV",
        "outputId": "6191abd8-589b-4155-cdd5-0bc8fe313340"
      },
      "outputs": [
        {
          "output_type": "stream",
          "name": "stdout",
          "text": [
            "Downloading and preparing dataset 80.23 MiB (download: 80.23 MiB, generated: Unknown size, total: 80.23 MiB) to /root/tensorflow_datasets/imdb_reviews/plain_text/1.0.0...\n",
            "Dataset imdb_reviews downloaded and prepared to /root/tensorflow_datasets/imdb_reviews/plain_text/1.0.0. Subsequent calls will reuse this data.\n"
          ]
        },
        {
          "output_type": "execute_result",
          "data": {
            "text/plain": [
              "(TensorSpec(shape=(), dtype=tf.string, name=None),\n",
              " TensorSpec(shape=(), dtype=tf.int64, name=None))"
            ]
          },
          "metadata": {},
          "execution_count": 3
        }
      ],
      "source": [
        "dataset, info = tfds.load('imdb_reviews', with_info=True,\n",
        "                          as_supervised=True)\n",
        "train_dataset, test_dataset = dataset['train'], dataset['test']\n",
        "\n",
        "train_dataset.element_spec"
      ]
    },
    {
      "cell_type": "markdown",
      "metadata": {
        "id": "LM064EgQ81XZ"
      },
      "source": [
        "Awalnya ini mengembalikan dataset (teks, pasangan label):"
      ]
    },
    {
      "cell_type": "code",
      "execution_count": null,
      "metadata": {
        "colab": {
          "base_uri": "https://localhost:8080/"
        },
        "id": "3Sbivtdv82xT",
        "outputId": "7b1e023c-2561-4455-f97b-d82f2f2ac389"
      },
      "outputs": [
        {
          "name": "stdout",
          "output_type": "stream",
          "text": [
            "text:  b\"This was an absolutely terrible movie. Don't be lured in by Christopher Walken or Michael Ironside. Both are great actors, but this must simply be their worst role in history. Even their great acting could not redeem this movie's ridiculous storyline. This movie is an early nineties US propaganda piece. The most pathetic scenes were those when the Columbian rebels were making their cases for revolutions. Maria Conchita Alonso appeared phony, and her pseudo-love affair with Walken was nothing but a pathetic emotional plug in a movie that was devoid of any real meaning. I am disappointed that there are movies like this, ruining actor's like Christopher Walken's good name. I could barely sit through it.\"\n",
            "label:  0\n"
          ]
        }
      ],
      "source": [
        "for example, label in train_dataset.take(1):\n",
        "  print('text: ', example.numpy())\n",
        "  print('label: ', label.numpy())"
      ]
    },
    {
      "cell_type": "markdown",
      "metadata": {
        "id": "7gLmnTIV9IMB"
      },
      "source": [
        "Berikutnya acak data untuk pelatihan dan membuat kumpulan pasangan (teks, label) ini:"
      ]
    },
    {
      "cell_type": "code",
      "execution_count": null,
      "metadata": {
        "colab": {
          "base_uri": "https://localhost:8080/"
        },
        "id": "ZvGbOB1C9KYy",
        "outputId": "a7bc79c7-41c5-42df-d2b3-b1a18944e88c"
      },
      "outputs": [
        {
          "name": "stdout",
          "output_type": "stream",
          "text": [
            "texts:  [b'Currently on METOO\\'s new schedule at 4 pm on weekdays, right after \"Maverick\" and right before \"Wild, Wild West\" (followed by \"Star Trek\").<br /><br />Don\\'t know if I ever actually saw an episode of it when it was originally on, but I\\'m really captivated by it. Offbeat, unusual, surreal stories set in a mythical West. Kind of the \"Naked City\" of Westerns.<br /><br />And the guest stars are there: Dan Duryea, Lyle Bettger, Brian Donlevy, MacDonald Carey, Rick Jason (as a treacherous Mexican), a young Dick Van Patten, Jack Lord, Noah Berry, Jr. (as a colorful Mexican), Martha Hyer, Marguerite Chapman, even Ann Robinson (\"War of the Worlds\"), Gloria Talbott (\"I Married a Monster from Outer Space\")<br /><br />It ran for EIGHT SEASONS, over 200 episodes, from January, 1959, to December, 1965.<br /><br />Eric Fleming is quite remarkable as trail boss Gil Favor, the most stolid man that\\'s ever lived, with the code of honor of a Samurai, and just the right balance between toughness and open-handedness. I would vote for him for President any day. (P.S. He had a very interesting biography: http://www.imdb.com/name/nm0281661/ )<br /><br />And a young Clint Eastwood is quite striking as his impulsive right hand, \"Rowdy\" Yates. Also, veteran Western actor and country music figure (the immortal \"One-eyed, One-horned, Flying Purple People Eater\") Sheb Wooley is there as seasoned scout Pete Nolan. And Paul Brinegar makes the most cantankerous character of a cook you could ask for as \"Wishbone\".<br /><br />And then there\\'s that great theme song, performed by the immortal Frankie Laine. (Between that and the \"Maverick\" theme, I\\'ve got Western theme songs running through my head all day.)<br /><br />I look forward to every episode; I\\'m collecting the whole set. A good time (not to mention a moo-ving experience) is always guaranteed, as one waits to see if the boys will get their difficulties straightened out before the commercial.<br /><br />\"Rollin\\', rollin\\', rollin\\' . . . \"'\n",
            " b'Some might scoff, but there is actually a real art with making particularly bad films. This misses out on all fronts.<br /><br />A bunch of young people -- women with heaving breasts and continuously wet T-Shirts, naturally -- go to film \"blood surfing\" and end up running into a 31 foot crocodile.<br /><br />Not only was the croc obviously fake, but some of the props [notice the boat hitting the reef in particular] look like they\\'ve come out of thunderbirds!<br /><br />No good, from start to finish. Don\\'t see it!'\n",
            " b\"When an actor has to play the role of an actor, fictional or factual, the task becomes much more difficult than playing a role. In A Double Life,Ronald Coleman surpassed himself as Anthony John, the tortured double personality. He put into that character all his talent and sincerity. The facial expressions, mannerisms,gait and stance spoke eloquently of what Anthony John was going through while playing Othello on stage. Coleman also did extremely well as a Shakespearean actor in those short scenes as Othello that were part of this gem of a movie. Closups of Coleman's face as Othello tortured by doubts about the fidelity of Desdemona were in themselves scenes worth watching.Add to that, his character's off stage desperation and only someone with Coleman's depth of acting perception can achieve. It was like watching Spenser Tracy as Dr. Jekyll and Mr. Hyde, except this double role was much more profound and poignant. Shelly Winters looked so sweet, vulnerable and gorgeous at the same time and added her talent to the movie. It is believed that Ronald Coleman liked his role in this film above all others he played and went on to win the Oscar for Best Actor in 1947. I would see this movie repeatedly and never feel bored.\"]\n",
            "\n",
            "labels:  [1 0 1]\n"
          ]
        }
      ],
      "source": [
        "BUFFER_SIZE = 10000 #digunakan dalam proses pengacakan (shuffling) dataset\n",
        "BATCH_SIZE = 64 #menentukan seberapa banyak data yang akan digunakan dalam satu iterasi pelatihan model\n",
        "\n",
        "train_dataset = train_dataset.shuffle(BUFFER_SIZE).batch(BATCH_SIZE).prefetch(tf.data.AUTOTUNE)\n",
        "test_dataset = test_dataset.batch(BATCH_SIZE).prefetch(tf.data.AUTOTUNE)\n",
        "\n",
        "for example, label in train_dataset.take(1):\n",
        "  print('texts: ', example.numpy()[:3])\n",
        "  print()\n",
        "  print('labels: ', label.numpy()[:3])\n"
      ]
    },
    {
      "cell_type": "markdown",
      "metadata": {
        "id": "2DZC3v1z9NcM"
      },
      "source": [
        "### **Buat Teks Encoder**"
      ]
    },
    {
      "cell_type": "markdown",
      "metadata": {
        "id": "PdDKOf9Q9WKx"
      },
      "source": [
        "Teks mentah yang dimuat oleh tfds perlu diproses sebelum dapat digunakan dalam model. Cara termudah memproses teks untuk pelatihan adalah menggunakan lapisan TextVectorization. Lapisan ini memiliki banyak kemampuan, namun pada tutorial ini menggunakan perilaku default. Buat lapisan tersebut, dan teruskan teks kumpulan data ke metode .adapt lapisan:"
      ]
    },
    {
      "cell_type": "code",
      "execution_count": null,
      "metadata": {
        "id": "2OEvpGKL9Xfx"
      },
      "outputs": [],
      "source": [
        "VOCAB_SIZE = 1000\n",
        "encoder = tf.keras.layers.TextVectorization(\n",
        "    max_tokens=VOCAB_SIZE) #digunakan untuk mengubah teks menjadi representasi vektor yang dapat digunakan oleh model NLP\n",
        "encoder.adapt(train_dataset.map(lambda text, label: text)) # digunakan untuk mengadaptasi (mempersiapkan) layer TextVectorization dengan dataset pelatihan"
      ]
    },
    {
      "cell_type": "markdown",
      "metadata": {
        "id": "sib4bVnD7Lg4"
      },
      "source": [
        "Metode .adapt mengatur kosakata lapisan. 20 token pertama dapat dilihat dengan kode berikut. Setelah padding dan token yang tidak diketahui, mereka diurutkan berdasarkan frekuensi:"
      ]
    },
    {
      "cell_type": "code",
      "execution_count": null,
      "metadata": {
        "colab": {
          "base_uri": "https://localhost:8080/"
        },
        "id": "0LSiQ2zP9cvh",
        "outputId": "2a413b72-9db9-43c7-b528-a4d7f10ee14c"
      },
      "outputs": [
        {
          "data": {
            "text/plain": [
              "array(['', '[UNK]', 'the', 'and', 'a', 'of', 'to', 'is', 'in', 'it', 'i',\n",
              "       'this', 'that', 'br', 'was', 'as', 'for', 'with', 'movie', 'but'],\n",
              "      dtype='<U14')"
            ]
          },
          "execution_count": 30,
          "metadata": {},
          "output_type": "execute_result"
        }
      ],
      "source": [
        "vocab = np.array(encoder.get_vocabulary())\n",
        "vocab[:20]"
      ]
    },
    {
      "cell_type": "markdown",
      "metadata": {
        "id": "zGWeddZ-9i_w"
      },
      "source": [
        "Setelah kosakata diatur, lapisan dapat mengkodekan teks ke dalam indeks. Tensor indeks diberi bantalan 0 ke urutan terpanjang dalam batch (kecuali jika Anda menetapkan output_sequence_length tetap):"
      ]
    },
    {
      "cell_type": "code",
      "execution_count": null,
      "metadata": {
        "colab": {
          "base_uri": "https://localhost:8080/"
        },
        "id": "7LJv9eXA9kGf",
        "outputId": "ebce315e-49a4-4abf-fe0c-eab90f69d81f"
      },
      "outputs": [
        {
          "data": {
            "text/plain": [
              "array([[  1,  21,   1, ...,   0,   0,   0],\n",
              "       [ 47, 227,   1, ...,   0,   0,   0],\n",
              "       [ 51,  34, 288, ...,   0,   0,   0]])"
            ]
          },
          "execution_count": 31,
          "metadata": {},
          "output_type": "execute_result"
        }
      ],
      "source": [
        "encoded_example = encoder(example)[:3].numpy()\n",
        "encoded_example"
      ]
    },
    {
      "cell_type": "markdown",
      "metadata": {
        "id": "bJxRJebD9p7P"
      },
      "source": [
        "Dengan pengaturan default, prosesnya tidak dapat dibalik sepenuhnya. Ada dua alasan utama untuk itu:\n",
        "\n",
        "- Nilai default untuk argumen standarisasi preprocessing.TextVectorization adalah \"lower_and_strip_punctuation\".\n",
        "- Ukuran kosa kata yang terbatas dan kurangnya fallback berbasis karakter menghasilkan beberapa token yang tidak diketahui."
      ]
    },
    {
      "cell_type": "code",
      "execution_count": null,
      "metadata": {
        "colab": {
          "base_uri": "https://localhost:8080/"
        },
        "id": "EqwY-gDx9vdl",
        "outputId": "448a5453-cf92-4158-e48d-07491a11165f"
      },
      "outputs": [
        {
          "name": "stdout",
          "output_type": "stream",
          "text": [
            "Original:  b'Currently on METOO\\'s new schedule at 4 pm on weekdays, right after \"Maverick\" and right before \"Wild, Wild West\" (followed by \"Star Trek\").<br /><br />Don\\'t know if I ever actually saw an episode of it when it was originally on, but I\\'m really captivated by it. Offbeat, unusual, surreal stories set in a mythical West. Kind of the \"Naked City\" of Westerns.<br /><br />And the guest stars are there: Dan Duryea, Lyle Bettger, Brian Donlevy, MacDonald Carey, Rick Jason (as a treacherous Mexican), a young Dick Van Patten, Jack Lord, Noah Berry, Jr. (as a colorful Mexican), Martha Hyer, Marguerite Chapman, even Ann Robinson (\"War of the Worlds\"), Gloria Talbott (\"I Married a Monster from Outer Space\")<br /><br />It ran for EIGHT SEASONS, over 200 episodes, from January, 1959, to December, 1965.<br /><br />Eric Fleming is quite remarkable as trail boss Gil Favor, the most stolid man that\\'s ever lived, with the code of honor of a Samurai, and just the right balance between toughness and open-handedness. I would vote for him for President any day. (P.S. He had a very interesting biography: http://www.imdb.com/name/nm0281661/ )<br /><br />And a young Clint Eastwood is quite striking as his impulsive right hand, \"Rowdy\" Yates. Also, veteran Western actor and country music figure (the immortal \"One-eyed, One-horned, Flying Purple People Eater\") Sheb Wooley is there as seasoned scout Pete Nolan. And Paul Brinegar makes the most cantankerous character of a cook you could ask for as \"Wishbone\".<br /><br />And then there\\'s that great theme song, performed by the immortal Frankie Laine. (Between that and the \"Maverick\" theme, I\\'ve got Western theme songs running through my head all day.)<br /><br />I look forward to every episode; I\\'m collecting the whole set. A good time (not to mention a moo-ving experience) is always guaranteed, as one waits to see if the boys will get their difficulties straightened out before the commercial.<br /><br />\"Rollin\\', rollin\\', rollin\\' . . . \"'\n",
            "Round-trip:  [UNK] on [UNK] new [UNK] at 4 [UNK] on [UNK] right after [UNK] and right before [UNK] [UNK] [UNK] [UNK] by star [UNK] br dont know if i ever actually saw an episode of it when it was [UNK] on but im really [UNK] by it [UNK] [UNK] [UNK] stories set in a [UNK] [UNK] kind of the [UNK] city of [UNK] br and the [UNK] stars are there [UNK] [UNK] [UNK] [UNK] [UNK] [UNK] [UNK] [UNK] [UNK] [UNK] as a [UNK] [UNK] a young [UNK] [UNK] [UNK] jack [UNK] [UNK] [UNK] [UNK] as a [UNK] [UNK] [UNK] [UNK] [UNK] [UNK] even [UNK] [UNK] war of the [UNK] [UNK] [UNK] i [UNK] a monster from [UNK] [UNK] br it [UNK] for [UNK] [UNK] over [UNK] episodes from [UNK] [UNK] to [UNK] [UNK] br [UNK] [UNK] is quite [UNK] as [UNK] [UNK] [UNK] [UNK] the most [UNK] man thats ever [UNK] with the [UNK] of [UNK] of a [UNK] and just the right [UNK] between [UNK] and [UNK] i would [UNK] for him for [UNK] any day [UNK] he had a very interesting [UNK] [UNK] br br and a young [UNK] [UNK] is quite [UNK] as his [UNK] right hand [UNK] [UNK] also [UNK] [UNK] actor and country music figure the [UNK] [UNK] [UNK] [UNK] [UNK] people [UNK] [UNK] [UNK] is there as [UNK] [UNK] [UNK] [UNK] and paul [UNK] makes the most [UNK] character of a [UNK] you could ask for as [UNK] br and then theres that great theme song [UNK] by the [UNK] [UNK] [UNK] between that and the [UNK] theme ive got [UNK] theme songs running through my head all [UNK] br i look forward to every episode im [UNK] the whole set a good time not to mention a [UNK] experience is always [UNK] as one [UNK] to see if the boys will get their [UNK] [UNK] out before the [UNK] br [UNK] [UNK] [UNK]                                                                                                                                                                                                                                                                                                                                                                                                                                                                                                  \n",
            "\n",
            "Original:  b'Some might scoff, but there is actually a real art with making particularly bad films. This misses out on all fronts.<br /><br />A bunch of young people -- women with heaving breasts and continuously wet T-Shirts, naturally -- go to film \"blood surfing\" and end up running into a 31 foot crocodile.<br /><br />Not only was the croc obviously fake, but some of the props [notice the boat hitting the reef in particular] look like they\\'ve come out of thunderbirds!<br /><br />No good, from start to finish. Don\\'t see it!'\n",
            "Round-trip:  some might [UNK] but there is actually a real art with making particularly bad films this [UNK] out on all [UNK] br a bunch of young people women with [UNK] [UNK] and [UNK] [UNK] [UNK] [UNK] go to film blood [UNK] and end up running into a [UNK] [UNK] [UNK] br not only was the [UNK] obviously [UNK] but some of the [UNK] [UNK] the [UNK] [UNK] the [UNK] in particular look like [UNK] come out of [UNK] br no good from start to [UNK] dont see it                                                                                                                                                                                                                                                                                                                                                                                                                                                                                                                                                                                                                                                                                                                                         \n",
            "\n",
            "Original:  b\"When an actor has to play the role of an actor, fictional or factual, the task becomes much more difficult than playing a role. In A Double Life,Ronald Coleman surpassed himself as Anthony John, the tortured double personality. He put into that character all his talent and sincerity. The facial expressions, mannerisms,gait and stance spoke eloquently of what Anthony John was going through while playing Othello on stage. Coleman also did extremely well as a Shakespearean actor in those short scenes as Othello that were part of this gem of a movie. Closups of Coleman's face as Othello tortured by doubts about the fidelity of Desdemona were in themselves scenes worth watching.Add to that, his character's off stage desperation and only someone with Coleman's depth of acting perception can achieve. It was like watching Spenser Tracy as Dr. Jekyll and Mr. Hyde, except this double role was much more profound and poignant. Shelly Winters looked so sweet, vulnerable and gorgeous at the same time and added her talent to the movie. It is believed that Ronald Coleman liked his role in this film above all others he played and went on to win the Oscar for Best Actor in 1947. I would see this movie repeatedly and never feel bored.\"\n",
            "Round-trip:  when an actor has to play the role of an actor [UNK] or [UNK] the [UNK] becomes much more difficult than playing a role in a [UNK] [UNK] [UNK] [UNK] himself as [UNK] john the [UNK] [UNK] [UNK] he put into that character all his talent and [UNK] the [UNK] [UNK] [UNK] and [UNK] [UNK] [UNK] of what [UNK] john was going through while playing [UNK] on stage [UNK] also did extremely well as a [UNK] actor in those short scenes as [UNK] that were part of this [UNK] of a movie [UNK] of [UNK] face as [UNK] [UNK] by [UNK] about the [UNK] of [UNK] were in themselves scenes worth [UNK] to that his characters off stage [UNK] and only someone with [UNK] [UNK] of acting [UNK] can [UNK] it was like watching [UNK] [UNK] as dr [UNK] and mr [UNK] except this [UNK] role was much more [UNK] and [UNK] [UNK] [UNK] looked so [UNK] [UNK] and [UNK] at the same time and [UNK] her talent to the movie it is [UNK] that [UNK] [UNK] liked his role in this film above all others he played and went on to [UNK] the oscar for best actor in [UNK] i would see this movie [UNK] and never feel [UNK]                                                                                                                                                                                                                                                                                                                                                                                                                                                                                                                                                                                                               \n",
            "\n"
          ]
        }
      ],
      "source": [
        "for n in range(3):\n",
        "  print(\"Original: \", example[n].numpy())\n",
        "  print(\"Round-trip: \", \" \".join(vocab[encoded_example[n]]))\n",
        "  print()"
      ]
    },
    {
      "cell_type": "markdown",
      "metadata": {
        "id": "mLo0v-2H9y_b"
      },
      "source": [
        "### **Buat Model**"
      ]
    },
    {
      "cell_type": "markdown",
      "metadata": {
        "id": "5RXRDcjL9_0B"
      },
      "source": [
        "![Annotation 2023-10-31 112327.png](data:image/png;base64,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)\n",
        "\n",
        "\n",
        "1. Model ini dapat dibuat sebagai tf.keras.Sequential.\n",
        "2. Lapisan pertama adalah encoder, yang mengubah teks menjadi urutan indeks token.\n",
        "3. Setelah encoder adalah lapisan penyematan (embedding layer). Lapisan penyematan menyimpan satu vektor per kata. Saat dipanggil, ini mengubah rangkaian indeks kata menjadi rangkaian vektor. Vektor-vektor ini dapat dilatih. Setelah pelatihan (dengan data yang cukup), kata-kata dengan arti yang mirip sering kali memiliki vektor yang serupa. Pencarian indeks ini jauh lebih efisien daripada operasi setara dengan meneruskan vektor yang disandikan one-hot melalui lapisan tf.keras.layers.Dense.\n",
        "4. Jaringan saraf berulang (RNN) memproses masukan urutan dengan melakukan iterasi melalui elemen. RNN meneruskan keluaran dari satu langkah waktu ke masukannya pada langkah waktu berikutnya.\n",
        "Pembungkus tf.keras.layers.Bidirection juga dapat digunakan dengan lapisan RNN. Ini menyebarkan masukan maju dan mundur melalui lapisan RNN dan kemudian menggabungkan keluaran akhir.\n",
        "  - Keuntungan utama RNN dua arah adalah sinyal dari awal masukan tidak perlu diproses sepanjang waktu untuk memengaruhi keluaran.\n",
        "  - Kerugian utama dari RNN dua arah adalah Anda tidak dapat melakukan streaming prediksi secara efisien saat kata-kata ditambahkan di akhir.\n",
        "5. Setelah RNN mengonversi urutan menjadi satu vektor, kedua lapisan tersebut.Dense melakukan beberapa pemrosesan akhir, dan mengonversi representasi vektor ini menjadi logit tunggal sebagai keluaran klasifikasi.\n",
        "\n",
        "Kode nya adalah sebagai berikut :"
      ]
    },
    {
      "cell_type": "code",
      "execution_count": null,
      "metadata": {
        "id": "lAF5IQ4m-wPY"
      },
      "outputs": [],
      "source": [
        "model = tf.keras.Sequential([\n",
        "    encoder,\n",
        "    tf.keras.layers.Embedding(\n",
        "        input_dim=len(encoder.get_vocabulary()),\n",
        "        output_dim=64,\n",
        "        # Use masking to handle the variable sequence lengths\n",
        "        mask_zero=True),\n",
        "    tf.keras.layers.Bidirectional(tf.keras.layers.LSTM(64)),\n",
        "    tf.keras.layers.Dense(64, activation='relu'),\n",
        "    tf.keras.layers.Dense(1)\n",
        "])"
      ]
    },
    {
      "cell_type": "markdown",
      "metadata": {
        "id": "OTeU5RHm_E35"
      },
      "source": [
        "Harap dicatat bahwa model sekuensial Keras digunakan di sini karena semua lapisan dalam model hanya memiliki masukan tunggal dan menghasilkan keluaran tunggal. Jika Anda ingin menggunakan lapisan RNN stateful, Anda mungkin ingin membangun model Anda dengan API fungsional Keras atau subkelas model sehingga Anda dapat mengambil dan menggunakan kembali status lapisan RNN. Untuk detailnya bisa dilihat pada [Keras RNN guide](https://www.tensorflow.org/guide/keras/working_with_rnns#rnn_state_reuse)\n",
        "\n",
        "Lapisan penyematan menggunakan masking ([uses masking](https://www.tensorflow.org/guide/keras/understanding_masking_and_padding) ) untuk menangani panjang urutan yang bervariasi. Semua lapisan setelah penyematan dukungan penyematan"
      ]
    },
    {
      "cell_type": "code",
      "execution_count": null,
      "metadata": {
        "colab": {
          "base_uri": "https://localhost:8080/"
        },
        "id": "qoTo1bfI_Ich",
        "outputId": "5598011a-e248-4c2a-a43f-edf652be6d0a"
      },
      "outputs": [
        {
          "name": "stdout",
          "output_type": "stream",
          "text": [
            "[False, True, True, True, True]\n"
          ]
        }
      ],
      "source": [
        "print([layer.supports_masking for layer in model.layers])"
      ]
    },
    {
      "cell_type": "markdown",
      "metadata": {
        "id": "CZvQn1aP_dZ2"
      },
      "source": [
        "Untuk memastikan bahwa ini berfungsi seperti yang diharapkan, evaluasi sebuah kalimat dua kali. Pertama, satu kalimat sehingga tidak ada bantalan (padding) untuk disamarkan:"
      ]
    },
    {
      "cell_type": "code",
      "execution_count": null,
      "metadata": {
        "colab": {
          "base_uri": "https://localhost:8080/"
        },
        "id": "s0Y9JU9N_fi1",
        "outputId": "4c916f3d-6670-495f-97da-86234febf3e4"
      },
      "outputs": [
        {
          "name": "stdout",
          "output_type": "stream",
          "text": [
            "1/1 [==============================] - 3s 3s/step\n",
            "[0.00428106]\n"
          ]
        }
      ],
      "source": [
        "# predict on a sample text without padding.\n",
        "\n",
        "sample_text = ('The movie was cool. The animation and the graphics '\n",
        "               'were out of this world. I would recommend this movie.')\n",
        "predictions = model.predict(np.array([sample_text]))\n",
        "print(predictions[0])"
      ]
    },
    {
      "cell_type": "markdown",
      "metadata": {
        "id": "OX-6cL0X_lo9"
      },
      "source": [
        "Sekarang, evaluasi lagi dalam batch dengan kalimat yang lebih panjang. Hasilnya harus sama:"
      ]
    },
    {
      "cell_type": "code",
      "execution_count": null,
      "metadata": {
        "colab": {
          "base_uri": "https://localhost:8080/"
        },
        "id": "uqiRfJ9t_n3m",
        "outputId": "726c6a70-1163-46dd-de82-0bb3160e0367"
      },
      "outputs": [
        {
          "name": "stdout",
          "output_type": "stream",
          "text": [
            "1/1 [==============================] - 0s 277ms/step\n",
            "[0.00428106]\n"
          ]
        }
      ],
      "source": [
        "# predict on a sample text with padding\n",
        "\n",
        "padding = \"the \" * 2000\n",
        "predictions = model.predict(np.array([sample_text, padding]))\n",
        "print(predictions[0])"
      ]
    },
    {
      "cell_type": "markdown",
      "metadata": {
        "id": "Wy3kvg9E_xU5"
      },
      "source": [
        "compile model Keras untuk mengonfigurasi proses pelatihan:"
      ]
    },
    {
      "cell_type": "code",
      "execution_count": null,
      "metadata": {
        "id": "YGnPf1V2_yFg"
      },
      "outputs": [],
      "source": [
        "model.compile(loss=tf.keras.losses.BinaryCrossentropy(from_logits=True),\n",
        "              optimizer=tf.keras.optimizers.Adam(1e-4),\n",
        "              metrics=['accuracy'])"
      ]
    },
    {
      "cell_type": "markdown",
      "metadata": {
        "id": "eSOC1cWn_1H_"
      },
      "source": [
        "### **Train Model**"
      ]
    },
    {
      "cell_type": "code",
      "execution_count": null,
      "metadata": {
        "colab": {
          "base_uri": "https://localhost:8080/"
        },
        "id": "6Id3a6I8_4rU",
        "outputId": "ecdf58f7-e918-4578-d215-95416e81e11a"
      },
      "outputs": [
        {
          "name": "stdout",
          "output_type": "stream",
          "text": [
            "Epoch 1/10\n",
            "391/391 [==============================] - 710s 2s/step - loss: 0.6437 - accuracy: 0.5692 - val_loss: 0.5180 - val_accuracy: 0.7365\n",
            "Epoch 2/10\n",
            "391/391 [==============================] - 673s 2s/step - loss: 0.4351 - accuracy: 0.8024 - val_loss: 0.4066 - val_accuracy: 0.8297\n",
            "Epoch 3/10\n",
            "391/391 [==============================] - 678s 2s/step - loss: 0.3669 - accuracy: 0.8381 - val_loss: 0.3583 - val_accuracy: 0.8464\n",
            "Epoch 4/10\n",
            "391/391 [==============================] - 666s 2s/step - loss: 0.3371 - accuracy: 0.8547 - val_loss: 0.3396 - val_accuracy: 0.8479\n",
            "Epoch 5/10\n",
            "391/391 [==============================] - 685s 2s/step - loss: 0.3225 - accuracy: 0.8617 - val_loss: 0.3402 - val_accuracy: 0.8427\n",
            "Epoch 6/10\n",
            "391/391 [==============================] - 671s 2s/step - loss: 0.3129 - accuracy: 0.8655 - val_loss: 0.3262 - val_accuracy: 0.8568\n",
            "Epoch 7/10\n",
            "391/391 [==============================] - 691s 2s/step - loss: 0.3080 - accuracy: 0.8690 - val_loss: 0.3251 - val_accuracy: 0.8573\n",
            "Epoch 8/10\n",
            "391/391 [==============================] - 701s 2s/step - loss: 0.3033 - accuracy: 0.8708 - val_loss: 0.3239 - val_accuracy: 0.8573\n",
            "Epoch 9/10\n",
            "391/391 [==============================] - 680s 2s/step - loss: 0.2994 - accuracy: 0.8720 - val_loss: 0.3277 - val_accuracy: 0.8625\n",
            "Epoch 10/10\n",
            "391/391 [==============================] - 670s 2s/step - loss: 0.2974 - accuracy: 0.8730 - val_loss: 0.3196 - val_accuracy: 0.8609\n"
          ]
        }
      ],
      "source": [
        "history = model.fit(train_dataset, epochs=10,\n",
        "                    validation_data=test_dataset,\n",
        "                    validation_steps=30)"
      ]
    },
    {
      "cell_type": "code",
      "execution_count": null,
      "metadata": {
        "colab": {
          "base_uri": "https://localhost:8080/"
        },
        "id": "DtPdtZDCAC9y",
        "outputId": "6d701963-5d2d-4a7a-cfdd-4d01fcf5cee0"
      },
      "outputs": [
        {
          "name": "stdout",
          "output_type": "stream",
          "text": [
            "391/391 [==============================] - 157s 401ms/step - loss: 0.3164 - accuracy: 0.8628\n",
            "Test Loss: 0.31638145446777344\n",
            "Test Accuracy: 0.8628000020980835\n"
          ]
        }
      ],
      "source": [
        "test_loss, test_acc = model.evaluate(test_dataset)\n",
        "\n",
        "print('Test Loss:', test_loss)\n",
        "print('Test Accuracy:', test_acc)"
      ]
    },
    {
      "cell_type": "code",
      "execution_count": null,
      "metadata": {
        "colab": {
          "base_uri": "https://localhost:8080/",
          "height": 718
        },
        "id": "Ul9Co51RI0Lx",
        "outputId": "6fd442e0-796f-4dd1-ea6e-8b2d13e6ece9"
      },
      "outputs": [
        {
          "data": {
            "text/plain": [
              "(0.0, 0.6609940618276596)"
            ]
          },
          "execution_count": 40,
          "metadata": {},
          "output_type": "execute_result"
        },
        {
          "data": {
            "image/png": "[encoded data removed]",
            "text/plain": [
              "<Figure size 1600x800 with 2 Axes>"
            ]
          },
          "metadata": {},
          "output_type": "display_data"
        }
      ],
      "source": [
        "plt.figure(figsize=(16, 8))\n",
        "plt.subplot(1, 2, 1)\n",
        "plot_graphs(history, 'accuracy')\n",
        "plt.ylim(None, 1)\n",
        "plt.subplot(1, 2, 2)\n",
        "plot_graphs(history, 'loss')\n",
        "plt.ylim(0, None)"
      ]
    },
    {
      "cell_type": "markdown",
      "metadata": {
        "id": "Nu9jYF9hI2UB"
      },
      "source": [
        "Jalankan prediksi pada kalimat baru:\n",
        "\n",
        "Jika prediksi >= 0,0 berarti positif, jika tidak maka negatif."
      ]
    },
    {
      "cell_type": "code",
      "execution_count": null,
      "metadata": {
        "colab": {
          "base_uri": "https://localhost:8080/"
        },
        "id": "4MTAF5mNI4zm",
        "outputId": "7d55ca39-1f50-4565-a658-3a227ef12ced"
      },
      "outputs": [
        {
          "name": "stdout",
          "output_type": "stream",
          "text": [
            "1/1 [==============================] - 3s 3s/step\n"
          ]
        }
      ],
      "source": [
        "sample_text = ('The movie was cool. The animation and the graphics '\n",
        "              'were out of this world. I would recommend this movie.')\n",
        "predictions = model.predict(np.array([sample_text]))"
      ]
    },
    {
      "cell_type": "markdown",
      "metadata": {
        "id": "qvJSKNyYI9xl"
      },
      "source": [
        "### **Stack two or more LSTM layers**"
      ]
    },
    {
      "cell_type": "markdown",
      "metadata": {
        "id": "zNyEhi3qJBo8"
      },
      "source": [
        "Lapisan berulang Keras memiliki dua mode yang tersedia yang dikontrol oleh argumen konstruktor return_sequences :\n",
        "\n",
        "- Jika False, ia hanya mengembalikan keluaran terakhir untuk setiap urutan masukan (bentuk tensor 2D (batch_size, output_features)). Ini adalah default yang digunakan pada model sebelumnya.\n",
        "- Jika True, Sequence lengkap output berturut-turut untuk setiap langkah waktu dikembalikan (bentuk tensor 3D (ukuran_batch, langkah waktu, fitur_output)).\n",
        "\n",
        "Berikut adalah alur informasi dengan\n",
        "return_sequences=True:\n",
        "![layered_bidirectional.png](data:image/png;base64,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)\n",
        "\n",
        "Hal yang menarik dari penggunaan RNN dengan return_sequences=True adalah outputnya masih memiliki 3 axis, sama seperti inputnya, sehingga bisa diteruskan ke layer RNN lain, seperti ini:"
      ]
    },
    {
      "cell_type": "code",
      "execution_count": null,
      "metadata": {
        "id": "brBWN12uJl3R"
      },
      "outputs": [],
      "source": [
        "model = tf.keras.Sequential([\n",
        "    encoder,\n",
        "    tf.keras.layers.Embedding(len(encoder.get_vocabulary()), 64, mask_zero=True),\n",
        "    tf.keras.layers.Bidirectional(tf.keras.layers.LSTM(64,  return_sequences=True)),\n",
        "    tf.keras.layers.Bidirectional(tf.keras.layers.LSTM(32)),\n",
        "    tf.keras.layers.Dense(64, activation='relu'),\n",
        "    tf.keras.layers.Dropout(0.5),\n",
        "    tf.keras.layers.Dense(1)\n",
        "])"
      ]
    },
    {
      "cell_type": "code",
      "execution_count": null,
      "metadata": {
        "id": "yaMbeNsWJ1eO"
      },
      "outputs": [],
      "source": [
        "model.compile(loss=tf.keras.losses.BinaryCrossentropy(from_logits=True),\n",
        "              optimizer=tf.keras.optimizers.Adam(1e-4),\n",
        "              metrics=['accuracy'])"
      ]
    },
    {
      "cell_type": "code",
      "execution_count": null,
      "metadata": {
        "colab": {
          "base_uri": "https://localhost:8080/"
        },
        "id": "6OF5u8RvJ5nY",
        "outputId": "789c9850-5cbc-4bba-ba16-416b7dc6a7c5"
      },
      "outputs": [
        {
          "name": "stdout",
          "output_type": "stream",
          "text": [
            "Epoch 1/10\n",
            "391/391 [==============================] - 1347s 3s/step - loss: 0.6229 - accuracy: 0.5964 - val_loss: 0.4262 - val_accuracy: 0.8083\n",
            "Epoch 2/10\n",
            "391/391 [==============================] - 1346s 3s/step - loss: 0.3819 - accuracy: 0.8312 - val_loss: 0.3908 - val_accuracy: 0.7906\n",
            "Epoch 3/10\n",
            "391/391 [==============================] - 1351s 3s/step - loss: 0.3343 - accuracy: 0.8539 - val_loss: 0.3325 - val_accuracy: 0.8547\n",
            "Epoch 4/10\n",
            "391/391 [==============================] - 1306s 3s/step - loss: 0.3219 - accuracy: 0.8628 - val_loss: 0.3392 - val_accuracy: 0.8365\n",
            "Epoch 5/10\n",
            "391/391 [==============================] - 1304s 3s/step - loss: 0.3114 - accuracy: 0.8664 - val_loss: 0.3200 - val_accuracy: 0.8542\n",
            "Epoch 6/10\n",
            "391/391 [==============================] - 1337s 3s/step - loss: 0.3098 - accuracy: 0.8639 - val_loss: 0.3265 - val_accuracy: 0.8438\n",
            "Epoch 7/10\n",
            "391/391 [==============================] - 1314s 3s/step - loss: 0.3050 - accuracy: 0.8672 - val_loss: 0.3287 - val_accuracy: 0.8562\n",
            "Epoch 8/10\n",
            "391/391 [==============================] - 1316s 3s/step - loss: 0.3023 - accuracy: 0.8686 - val_loss: 0.3226 - val_accuracy: 0.8625\n",
            "Epoch 9/10\n",
            "391/391 [==============================] - 1328s 3s/step - loss: 0.2991 - accuracy: 0.8686 - val_loss: 0.3184 - val_accuracy: 0.8578\n",
            "Epoch 10/10\n",
            "391/391 [==============================] - 1331s 3s/step - loss: 0.2968 - accuracy: 0.8726 - val_loss: 0.3198 - val_accuracy: 0.8651\n"
          ]
        }
      ],
      "source": [
        "history = model.fit(train_dataset, epochs=10,\n",
        "                    validation_data=test_dataset,\n",
        "                    validation_steps=30)"
      ]
    },
    {
      "cell_type": "code",
      "execution_count": null,
      "metadata": {
        "colab": {
          "base_uri": "https://localhost:8080/"
        },
        "id": "kpkQ2MaZKBBs",
        "outputId": "6771be6f-5a36-4a4a-ee79-e06f2587cfa3"
      },
      "outputs": [
        {
          "name": "stdout",
          "output_type": "stream",
          "text": [
            "391/391 [==============================] - 290s 742ms/step - loss: 0.3188 - accuracy: 0.8629\n",
            "Test Loss: 0.3187711834907532\n",
            "Test Accuracy: 0.8629199862480164\n"
          ]
        }
      ],
      "source": [
        "test_loss, test_acc = model.evaluate(test_dataset)\n",
        "\n",
        "print('Test Loss:', test_loss)\n",
        "print('Test Accuracy:', test_acc)"
      ]
    },
    {
      "cell_type": "code",
      "execution_count": null,
      "metadata": {
        "colab": {
          "base_uri": "https://localhost:8080/"
        },
        "id": "iTVrP71SKD--",
        "outputId": "9ebd1351-6a27-4da7-d566-e3dc9e4455b3"
      },
      "outputs": [
        {
          "name": "stderr",
          "output_type": "stream",
          "text": [
            "WARNING:tensorflow:5 out of the last 7 calls to <function Model.make_predict_function.<locals>.predict_function at 0x7953106d7250> triggered tf.function retracing. Tracing is expensive and the excessive number of tracings could be due to (1) creating @tf.function repeatedly in a loop, (2) passing tensors with different shapes, (3) passing Python objects instead of tensors. For (1), please define your @tf.function outside of the loop. For (2), @tf.function has reduce_retracing=True option that can avoid unnecessary retracing. For (3), please refer to https://www.tensorflow.org/guide/function#controlling_retracing and https://www.tensorflow.org/api_docs/python/tf/function for  more details.\n"
          ]
        },
        {
          "name": "stdout",
          "output_type": "stream",
          "text": [
            "1/1 [==============================] - 10s 10s/step\n",
            "[[-1.7649838]]\n"
          ]
        }
      ],
      "source": [
        "# predict on a sample text without padding.\n",
        "\n",
        "sample_text = ('The movie was not good. The animation and the graphics '\n",
        "               'were terrible. I would not recommend this movie.')\n",
        "predictions = model.predict(np.array([sample_text]))\n",
        "print(predictions)"
      ]
    },
    {
      "cell_type": "code",
      "execution_count": null,
      "metadata": {
        "colab": {
          "base_uri": "https://localhost:8080/",
          "height": 542
        },
        "id": "pm4NLJWFKK9m",
        "outputId": "5ba456d3-8910-4deb-897c-60ae5169eb90"
      },
      "outputs": [
        {
          "data": {
            "image/png": "[encoded data removed]",
            "text/plain": [
              "<Figure size 1600x600 with 2 Axes>"
            ]
          },
          "metadata": {},
          "output_type": "display_data"
        }
      ],
      "source": [
        "plt.figure(figsize=(16, 6))\n",
        "plt.subplot(1, 2, 1)\n",
        "plot_graphs(history, 'accuracy')\n",
        "plt.subplot(1, 2, 2)\n",
        "plot_graphs(history, 'loss')"
      ]
    },
    {
      "cell_type": "markdown",
      "metadata": {
        "id": "6acp74oXKQJQ"
      },
      "source": [
        "## **Catatan**\n",
        "\n",
        "Informasi menarik lain terkait dengan [GRU layers](https://www.tensorflow.org/api_docs/python/tf/keras/layers/GRU).\n",
        "\n",
        "Informasi membuat custom RNN --> Keras [RNN Guide](https://www.tensorflow.org/guide/keras/working_with_rnns)."
      ]
    },
    {
      "cell_type": "markdown",
      "metadata": {
        "id": "TumSPNlvlJ2w"
      },
      "source": [
        "## **Praktikum 2 -Generator Teks dengan RNN**"
      ]
    },
    {
      "cell_type": "markdown",
      "metadata": {
        "id": "1oeFR4gew9v2"
      },
      "source": [
        "### **Setup**"
      ]
    },
    {
      "cell_type": "code",
      "execution_count": null,
      "metadata": {
        "id": "-plU2f7DxG8g"
      },
      "outputs": [],
      "source": [
        "import tensorflow as tf\n",
        "import numpy as np\n",
        "import os\n",
        "import time"
      ]
    },
    {
      "cell_type": "markdown",
      "metadata": {
        "id": "Ftnco0ZJxLvm"
      },
      "source": [
        "### **Download Dataset Shakespeare**\n",
        "Sesuaikan dengan lokasi data yang Anda punya."
      ]
    },
    {
      "cell_type": "code",
      "execution_count": null,
      "metadata": {
        "colab": {
          "base_uri": "https://localhost:8080/"
        },
        "id": "bOS3pDlyxTuQ",
        "outputId": "b1f17c61-9a41-432a-c7d9-a1956a9e8a09"
      },
      "outputs": [
        {
          "output_type": "stream",
          "name": "stdout",
          "text": [
            "Downloading data from https://storage.googleapis.com/download.tensorflow.org/data/shakespeare.txt\n",
            "1115394/1115394 [==============================] - 0s 0us/step\n"
          ]
        }
      ],
      "source": [
        "path_to_file = tf.keras.utils.get_file('shakespeare.txt', 'https://storage.googleapis.com/download.tensorflow.org/data/shakespeare.txt')"
      ]
    },
    {
      "cell_type": "markdown",
      "metadata": {
        "id": "pAb_-oDuxdek"
      },
      "source": [
        "### **Load Data**"
      ]
    },
    {
      "cell_type": "code",
      "execution_count": null,
      "metadata": {
        "colab": {
          "base_uri": "https://localhost:8080/"
        },
        "id": "Nc8bjBE9xgaw",
        "outputId": "8c2491e6-4f48-4fed-c6be-4e4dd819cd76"
      },
      "outputs": [
        {
          "output_type": "stream",
          "name": "stdout",
          "text": [
            "Length of text: 1115394 characters\n"
          ]
        }
      ],
      "source": [
        "# Read, then decode for py2 compat.\n",
        "text = open(path_to_file, 'rb').read().decode(encoding='utf-8')\n",
        "# length of text is the number of characters in it\n",
        "print(f'Length of text: {len(text)} characters')"
      ]
    },
    {
      "cell_type": "code",
      "execution_count": null,
      "metadata": {
        "colab": {
          "base_uri": "https://localhost:8080/"
        },
        "id": "i-34DXLkxq-g",
        "outputId": "72b4d3dc-d3f3-49b5-cd13-8ec6095ab625"
      },
      "outputs": [
        {
          "output_type": "stream",
          "name": "stdout",
          "text": [
            "First Citizen:\n",
            "Before we proceed any further, hear me speak.\n",
            "\n",
            "All:\n",
            "Speak, speak.\n",
            "\n",
            "First Citizen:\n",
            "You are all resolved rather to die than to famish?\n",
            "\n",
            "All:\n",
            "Resolved. resolved.\n",
            "\n",
            "First Citizen:\n",
            "First, you know Caius Marcius is chief enemy to the people.\n",
            "\n"
          ]
        }
      ],
      "source": [
        "# Take a look at the first 250 characters in text\n",
        "print(text[:250])"
      ]
    },
    {
      "cell_type": "code",
      "execution_count": null,
      "metadata": {
        "colab": {
          "base_uri": "https://localhost:8080/"
        },
        "id": "LHRblr82yGTx",
        "outputId": "ecbcca3a-639c-4954-b12b-8921c7be75bb"
      },
      "outputs": [
        {
          "output_type": "stream",
          "name": "stdout",
          "text": [
            "65 unique characters\n"
          ]
        }
      ],
      "source": [
        "# The unique characters in the file\n",
        "vocab = sorted(set(text))\n",
        "print(f'{len(vocab)} unique characters')"
      ]
    },
    {
      "cell_type": "markdown",
      "metadata": {
        "id": "TYmHMruTyNl5"
      },
      "source": [
        "### **Olah Teks**\n",
        "**Vectorize Teks**\n",
        "Sebelum training, Anda perlu mengonversi string menjadi representasi numerik. **tf.keras.layers.StringLookup** dapat mengubah setiap karakter menjadi ID numerik. Caranya adalah teks akan dipecah menjadi token terlebih dahulu."
      ]
    },
    {
      "cell_type": "code",
      "execution_count": null,
      "metadata": {
        "colab": {
          "base_uri": "https://localhost:8080/"
        },
        "id": "o7BBtXnMy_5B",
        "outputId": "45460a21-c632-4fa2-c487-c2f72c2d1e0a"
      },
      "outputs": [
        {
          "output_type": "execute_result",
          "data": {
            "text/plain": [
              "<tf.RaggedTensor [[b'a', b'b', b'c', b'd', b'e', b'f', b'g'], [b'x', b'y', b'z']]>"
            ]
          },
          "metadata": {},
          "execution_count": 14
        }
      ],
      "source": [
        "example_texts = ['abcdefg', 'xyz']\n",
        "chars = tf.strings.unicode_split(example_texts, input_encoding='UTF-8')\n",
        "chars"
      ]
    },
    {
      "cell_type": "markdown",
      "metadata": {
        "id": "_g_kW_DY0JUQ"
      },
      "source": [
        "sekarang buat tf.keras.layers.StringLookup layer:"
      ]
    },
    {
      "cell_type": "code",
      "execution_count": null,
      "metadata": {
        "id": "w3XvgLGd0IFm"
      },
      "outputs": [],
      "source": [
        "ids_from_chars = tf.keras.layers.StringLookup(\n",
        "vocabulary=list(vocab), mask_token=None)"
      ]
    },
    {
      "cell_type": "markdown",
      "metadata": {
        "id": "n1lJoy-C0U3N"
      },
      "source": [
        "perintah diatas mengconvert token menjadi id"
      ]
    },
    {
      "cell_type": "code",
      "execution_count": null,
      "metadata": {
        "colab": {
          "base_uri": "https://localhost:8080/"
        },
        "id": "i88cUgsy0VgX",
        "outputId": "9536f5a0-0f74-4286-f1b1-9e61a0e17b27"
      },
      "outputs": [
        {
          "output_type": "execute_result",
          "data": {
            "text/plain": [
              "<tf.RaggedTensor [[40, 41, 42, 43, 44, 45, 46], [63, 64, 65]]>"
            ]
          },
          "metadata": {},
          "execution_count": 16
        }
      ],
      "source": [
        "ids = ids_from_chars(chars)\n",
        "ids"
      ]
    },
    {
      "cell_type": "markdown",
      "metadata": {
        "id": "kJ2nqUVM0cqB"
      },
      "source": [
        "Karena tujuan tutorial ini adalah untuk menghasilkan teks, penting juga untuk membalikkan representasi ini. Untuk ini Anda dapat menggunakan kode tf.keras.layers.StringLookup(..., invert=True).\n",
        "\n",
        "Catatan: pada kode ini, daripada meneruskan kosakata asli yang dihasilkan dengan diurutkan(set(teks)) gunakan metode get_vocabulary() dari tf.keras.layers.StringLookup sehingga token [UNK] disetel dengan cara yang sama."
      ]
    },
    {
      "cell_type": "code",
      "execution_count": null,
      "metadata": {
        "id": "fR3hVaDc0g01"
      },
      "outputs": [],
      "source": [
        "chars_from_ids = tf.keras.layers.StringLookup(\n",
        "    vocabulary=ids_from_chars.get_vocabulary(), invert=True, mask_token=None)"
      ]
    },
    {
      "cell_type": "markdown",
      "metadata": {
        "id": "mwfCJoAN1PY2"
      },
      "source": [
        "Lapisan ini mengconvert kembali karakter dari vektor ID, dan mengembalikannya sebagai karakter tf.RaggedTensor:"
      ]
    },
    {
      "cell_type": "code",
      "execution_count": null,
      "metadata": {
        "colab": {
          "base_uri": "https://localhost:8080/"
        },
        "id": "JmimnQ3G1QX0",
        "outputId": "f24b85d2-4664-4ef0-cc5c-d18210ecf82b"
      },
      "outputs": [
        {
          "output_type": "execute_result",
          "data": {
            "text/plain": [
              "<tf.RaggedTensor [[b'a', b'b', b'c', b'd', b'e', b'f', b'g'], [b'x', b'y', b'z']]>"
            ]
          },
          "metadata": {},
          "execution_count": 18
        }
      ],
      "source": [
        "chars = chars_from_ids(ids)\n",
        "chars"
      ]
    },
    {
      "cell_type": "markdown",
      "metadata": {
        "id": "o3RKzwOY1WDQ"
      },
      "source": [
        "Anda dapat menggunakan tf.strings.reduce_join untuk menggabungkan kembali karakter menjadi string."
      ]
    },
    {
      "cell_type": "code",
      "execution_count": null,
      "metadata": {
        "colab": {
          "base_uri": "https://localhost:8080/"
        },
        "id": "MYEiqzHx1X7B",
        "outputId": "68f6f616-fe39-432d-8953-0d78745d67ea"
      },
      "outputs": [
        {
          "output_type": "execute_result",
          "data": {
            "text/plain": [
              "array([b'abcdefg', b'xyz'], dtype=object)"
            ]
          },
          "metadata": {},
          "execution_count": 19
        }
      ],
      "source": [
        "tf.strings.reduce_join(chars, axis=-1).numpy()"
      ]
    },
    {
      "cell_type": "code",
      "execution_count": null,
      "metadata": {
        "id": "I03_pvhy1bpG"
      },
      "outputs": [],
      "source": [
        "def text_from_ids(ids):\n",
        "    return tf.strings.reduce_join(chars_from_ids(ids), axis=-1)"
      ]
    },
    {
      "cell_type": "markdown",
      "metadata": {
        "id": "kDmIROeM1h2N"
      },
      "source": [
        "**Prediksi**"
      ]
    },
    {
      "cell_type": "markdown",
      "metadata": {
        "id": "0Ky5xakl1m2O"
      },
      "source": [
        "### **Membuat Trianing Set dan Target**"
      ]
    },
    {
      "cell_type": "markdown",
      "metadata": {
        "id": "ANljc6-81s2z"
      },
      "source": [
        "Selanjutnya bagilah teks menjadi contoh sequence. Setiap masukan sequence akan berisi karakter seq_length dari teks. Untuk setiap masukan sequence, target prediksi berisi teks dengan panjang yang sama, hanya digeser satu karakter ke kanan. Jadi, bagi teks menjadi beberapa bagian seq_length+1. Misalnya, seq_length adalah 4 dan teks kita adalah \"Hello\". Urutan masukannya adalah \"Hell\", dan urutan targetnya adalah \"ello\". Untuk melakukan ini, pertama-tama gunakan fungsi tf.data.Dataset.from_tensor_slices untuk mengonversi vektor teks menjadi aliran indeks karakter."
      ]
    },
    {
      "cell_type": "code",
      "execution_count": null,
      "metadata": {
        "colab": {
          "base_uri": "https://localhost:8080/"
        },
        "id": "cN_4orAq1wyd",
        "outputId": "5ca2d182-6bb2-49a4-bb20-5e3bc7840a28"
      },
      "outputs": [
        {
          "output_type": "execute_result",
          "data": {
            "text/plain": [
              "<tf.Tensor: shape=(1115394,), dtype=int64, numpy=array([19, 48, 57, ..., 46,  9,  1])>"
            ]
          },
          "metadata": {},
          "execution_count": 21
        }
      ],
      "source": [
        "all_ids = ids_from_chars(tf.strings.unicode_split(text, 'UTF-8'))\n",
        "all_ids"
      ]
    },
    {
      "cell_type": "code",
      "execution_count": null,
      "metadata": {
        "id": "-1MmZ6aY13x2"
      },
      "outputs": [],
      "source": [
        "ids_dataset = tf.data.Dataset.from_tensor_slices(all_ids)"
      ]
    },
    {
      "cell_type": "code",
      "execution_count": null,
      "metadata": {
        "colab": {
          "base_uri": "https://localhost:8080/"
        },
        "id": "3qWmHCdB18iM",
        "outputId": "cd4fa2a3-5081-4587-f95b-faef8c440214"
      },
      "outputs": [
        {
          "output_type": "stream",
          "name": "stdout",
          "text": [
            "F\n",
            "i\n",
            "r\n",
            "s\n",
            "t\n",
            " \n",
            "C\n",
            "i\n",
            "t\n",
            "i\n"
          ]
        }
      ],
      "source": [
        "for ids in ids_dataset.take(10):\n",
        "    print(chars_from_ids(ids).numpy().decode('utf-8'))"
      ]
    },
    {
      "cell_type": "code",
      "execution_count": null,
      "metadata": {
        "id": "qYF2d1y_2Fkg"
      },
      "outputs": [],
      "source": [
        "seq_length = 100"
      ]
    },
    {
      "cell_type": "markdown",
      "metadata": {
        "id": "FYuHioAb2LeH"
      },
      "source": [
        "Metode batch memungkinkan Anda dengan mudah mengonversi karakter individual ini menjadi urutan ukuran yang diinginkan."
      ]
    },
    {
      "cell_type": "code",
      "execution_count": null,
      "metadata": {
        "colab": {
          "base_uri": "https://localhost:8080/"
        },
        "id": "ru6XXypY2OC_",
        "outputId": "9840f6d5-6f82-47c1-8093-e8b08d24c425"
      },
      "outputs": [
        {
          "output_type": "stream",
          "name": "stdout",
          "text": [
            "tf.Tensor(\n",
            "[b'F' b'i' b'r' b's' b't' b' ' b'C' b'i' b't' b'i' b'z' b'e' b'n' b':'\n",
            " b'\\n' b'B' b'e' b'f' b'o' b'r' b'e' b' ' b'w' b'e' b' ' b'p' b'r' b'o'\n",
            " b'c' b'e' b'e' b'd' b' ' b'a' b'n' b'y' b' ' b'f' b'u' b'r' b't' b'h'\n",
            " b'e' b'r' b',' b' ' b'h' b'e' b'a' b'r' b' ' b'm' b'e' b' ' b's' b'p'\n",
            " b'e' b'a' b'k' b'.' b'\\n' b'\\n' b'A' b'l' b'l' b':' b'\\n' b'S' b'p' b'e'\n",
            " b'a' b'k' b',' b' ' b's' b'p' b'e' b'a' b'k' b'.' b'\\n' b'\\n' b'F' b'i'\n",
            " b'r' b's' b't' b' ' b'C' b'i' b't' b'i' b'z' b'e' b'n' b':' b'\\n' b'Y'\n",
            " b'o' b'u' b' '], shape=(101,), dtype=string)\n"
          ]
        }
      ],
      "source": [
        "sequences = ids_dataset.batch(seq_length+1, drop_remainder=True)\n",
        "\n",
        "for seq in sequences.take(1):\n",
        "  print(chars_from_ids(seq))"
      ]
    },
    {
      "cell_type": "markdown",
      "metadata": {
        "id": "vXmISEt32REf"
      },
      "source": [
        "akan lebih mudah untuk melihat apa yang dilakukan jika Anda menggabungkan token kembali menjadi string:"
      ]
    },
    {
      "cell_type": "code",
      "execution_count": null,
      "metadata": {
        "colab": {
          "base_uri": "https://localhost:8080/"
        },
        "id": "3Sd7zoe_2T67",
        "outputId": "728a5292-eac3-4f6a-f1c4-81870fd37d76"
      },
      "outputs": [
        {
          "output_type": "stream",
          "name": "stdout",
          "text": [
            "b'First Citizen:\\nBefore we proceed any further, hear me speak.\\n\\nAll:\\nSpeak, speak.\\n\\nFirst Citizen:\\nYou '\n",
            "b'are all resolved rather to die than to famish?\\n\\nAll:\\nResolved. resolved.\\n\\nFirst Citizen:\\nFirst, you k'\n",
            "b\"now Caius Marcius is chief enemy to the people.\\n\\nAll:\\nWe know't, we know't.\\n\\nFirst Citizen:\\nLet us ki\"\n",
            "b\"ll him, and we'll have corn at our own price.\\nIs't a verdict?\\n\\nAll:\\nNo more talking on't; let it be d\"\n",
            "b'one: away, away!\\n\\nSecond Citizen:\\nOne word, good citizens.\\n\\nFirst Citizen:\\nWe are accounted poor citi'\n"
          ]
        }
      ],
      "source": [
        "for seq in sequences.take(5):\n",
        "    print(text_from_ids(seq).numpy())"
      ]
    },
    {
      "cell_type": "markdown",
      "metadata": {
        "id": "I_z-Eghb2aH4"
      },
      "source": [
        "Untuk pelatihan, Anda memerlukan kumpulan data pasangan (input, label). Dimana input dan label merupakan urutan. Pada setiap langkah waktu, inputnya adalah karakter saat ini dan labelnya adalah karakter berikutnya. Berikut adalah fungsi yang mengambil urutan sebagai masukan, menduplikasi, dan menggesernya untuk menyelaraskan masukan dan label untuk setiap langkah waktu:"
      ]
    },
    {
      "cell_type": "code",
      "execution_count": null,
      "metadata": {
        "id": "5FgHkvHb3DlJ"
      },
      "outputs": [],
      "source": [
        "def split_input_target(sequence):\n",
        "    input_text = sequence[:-1]\n",
        "    target_text = sequence[1:]\n",
        "    return input_text, target_text"
      ]
    },
    {
      "cell_type": "code",
      "execution_count": null,
      "metadata": {
        "colab": {
          "base_uri": "https://localhost:8080/"
        },
        "id": "pAgx2mBQ3M3H",
        "outputId": "21c5ebb6-d9fa-4ba5-b32f-ca2663b22b60"
      },
      "outputs": [
        {
          "output_type": "execute_result",
          "data": {
            "text/plain": [
              "(['T', 'e', 'n', 's', 'o', 'r', 'f', 'l', 'o'],\n",
              " ['e', 'n', 's', 'o', 'r', 'f', 'l', 'o', 'w'])"
            ]
          },
          "metadata": {},
          "execution_count": 28
        }
      ],
      "source": [
        "split_input_target(list(\"Tensorflow\"))"
      ]
    },
    {
      "cell_type": "code",
      "execution_count": null,
      "metadata": {
        "id": "WQGuwCw-3Pm5"
      },
      "outputs": [],
      "source": [
        "dataset = sequences.map(split_input_target)"
      ]
    },
    {
      "cell_type": "code",
      "execution_count": null,
      "metadata": {
        "colab": {
          "base_uri": "https://localhost:8080/"
        },
        "id": "TmbzaipZ3UFw",
        "outputId": "fb3cb70b-7d0b-4bd5-a58d-e517f39824ad"
      },
      "outputs": [
        {
          "output_type": "stream",
          "name": "stdout",
          "text": [
            "Input : b'First Citizen:\\nBefore we proceed any further, hear me speak.\\n\\nAll:\\nSpeak, speak.\\n\\nFirst Citizen:\\nYou'\n",
            "Target: b'irst Citizen:\\nBefore we proceed any further, hear me speak.\\n\\nAll:\\nSpeak, speak.\\n\\nFirst Citizen:\\nYou '\n"
          ]
        }
      ],
      "source": [
        "for input_example, target_example in dataset.take(1):\n",
        "    print(\"Input :\", text_from_ids(input_example).numpy())\n",
        "    print(\"Target:\", text_from_ids(target_example).numpy())"
      ]
    },
    {
      "cell_type": "markdown",
      "metadata": {
        "id": "dQxKX-Bx3eUX"
      },
      "source": [
        "### **Membuat Batch Training**"
      ]
    },
    {
      "cell_type": "markdown",
      "metadata": {
        "id": "1l7bdL1Y3krs"
      },
      "source": [
        "Anda menggunakan tf.data untuk membagi teks menjadi sequence yang dapat diatur. Namun sebelum memasukkan data ini ke dalam model, Anda perlu mengacak data dan mengemasnya ke dalam batch."
      ]
    },
    {
      "cell_type": "code",
      "execution_count": null,
      "metadata": {
        "colab": {
          "base_uri": "https://localhost:8080/"
        },
        "id": "xtZQZKZB3oLq",
        "outputId": "222f9561-24fc-43a7-ec9b-775b3420808c"
      },
      "outputs": [
        {
          "output_type": "execute_result",
          "data": {
            "text/plain": [
              "<_PrefetchDataset element_spec=(TensorSpec(shape=(64, 100), dtype=tf.int64, name=None), TensorSpec(shape=(64, 100), dtype=tf.int64, name=None))>"
            ]
          },
          "metadata": {},
          "execution_count": 31
        }
      ],
      "source": [
        "# Batch size\n",
        "BATCH_SIZE = 64\n",
        "\n",
        "# Buffer size to shuffle the dataset\n",
        "# (TF data is designed to work with possibly infinite sequences,\n",
        "# so it doesn't attempt to shuffle the entire sequence in memory. Instead,\n",
        "# it maintains a buffer in which it shuffles elements).\n",
        "BUFFER_SIZE = 10000\n",
        "\n",
        "dataset = (\n",
        "    dataset\n",
        "    .shuffle(BUFFER_SIZE)\n",
        "    .batch(BATCH_SIZE, drop_remainder=True)\n",
        "    .prefetch(tf.data.experimental.AUTOTUNE))\n",
        "\n",
        "dataset"
      ]
    },
    {
      "cell_type": "markdown",
      "metadata": {
        "id": "QmM05Tg83qik"
      },
      "source": [
        "### **Buat Model**"
      ]
    },
    {
      "cell_type": "markdown",
      "metadata": {
        "id": "VnyFkyx33uNR"
      },
      "source": [
        "Bagian ini mendefinisikan model sebagai subkelas keras.Model (untuk lebih detilnya, lihat [Making new Layers and Models via subclassing](https://www.tensorflow.org/guide/keras/making_new_layers_and_models_via_subclassing)).\n",
        "\n",
        "Model yang kita bangun memiliki 3 lapisan neural network :\n",
        "\n",
        "- tf.keras.layers.Embedding: Lapisan masukan. Tabel pencarian yang dapat dilatih yang akan memetakan setiap karakter-ID ke vektor dengan dimensi embedding_dim;\n",
        "- tf.keras.layers.GRU: lapisan RNN dengan ukuran unit=rnn_units (Anda juga dapat menggunakan lapisan LSTM di sini.)\n",
        "- tf.keras.layers.Dense: Lapisan keluaran, dengan keluaran vocab_size. Ini menghasilkan satu logit untuk setiap karakter dalam kosakata. Ini adalah log kemungkinan setiap karakter menurut model."
      ]
    },
    {
      "cell_type": "code",
      "execution_count": null,
      "metadata": {
        "id": "aLW-UJhY4DxD"
      },
      "outputs": [],
      "source": [
        "# Length of the vocabulary in StringLookup Layer\n",
        "vocab_size = len(ids_from_chars.get_vocabulary())\n",
        "\n",
        "# The embedding dimension\n",
        "embedding_dim = 256\n",
        "\n",
        "# Number of RNN units\n",
        "rnn_units = 1024"
      ]
    },
    {
      "cell_type": "code",
      "execution_count": null,
      "metadata": {
        "id": "X1k_Kley4F7m"
      },
      "outputs": [],
      "source": [
        "class MyModel(tf.keras.Model):\n",
        "  def __init__(self, vocab_size, embedding_dim, rnn_units):\n",
        "    super().__init__(self)\n",
        "    self.embedding = tf.keras.layers.Embedding(vocab_size, embedding_dim)\n",
        "    self.gru = tf.keras.layers.GRU(rnn_units,\n",
        "                                   return_sequences=True,\n",
        "                                   return_state=True)\n",
        "    self.dense = tf.keras.layers.Dense(vocab_size)\n",
        "\n",
        "  def call(self, inputs, states=None, return_state=False, training=False):\n",
        "    x = inputs\n",
        "    x = self.embedding(x, training=training)\n",
        "    if states is None:\n",
        "      states = self.gru.get_initial_state(x)\n",
        "    x, states = self.gru(x, initial_state=states, training=training)\n",
        "    x = self.dense(x, training=training)\n",
        "\n",
        "    if return_state:\n",
        "      return x, states\n",
        "    else:\n",
        "      return x"
      ]
    },
    {
      "cell_type": "code",
      "execution_count": null,
      "metadata": {
        "id": "CgKfwT6J4WuM"
      },
      "outputs": [],
      "source": [
        "model = MyModel(\n",
        "    vocab_size=vocab_size,\n",
        "    embedding_dim=embedding_dim,\n",
        "    rnn_units=rnn_units)"
      ]
    },
    {
      "cell_type": "markdown",
      "metadata": {
        "id": "jB4kzY_z4ZuQ"
      },
      "source": [
        "Untuk setiap karakter, model mencari penyematan, menjalankan GRU satu langkah waktu dengan penyematan sebagai masukan, dan menerapkan dense layer untuk menghasilkan log yang memprediksi kemungkinan log karakter berikutnya:\n",
        "\n",
        "![text_generation_training.png](data:image/png;base64,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)"
      ]
    },
    {
      "cell_type": "markdown",
      "metadata": {
        "id": "5u4Ay_9H4lr5"
      },
      "source": [
        "Note: Untuk pelatihan Anda bisa menggunakan model keras.Sequential di sini. Untuk menghasilkan teks nanti, Anda harus mengelola status internal RNN. Akan lebih mudah untuk memasukkan opsi input dan output status di awal, daripada mengatur ulang arsitektur model nanti. untuk detailnya bisa dilihat [Keras RNN guide](https://www.tensorflow.org/guide/keras/working_with_rnns#rnn_state_reuse)."
      ]
    },
    {
      "cell_type": "markdown",
      "metadata": {
        "id": "kQR9SoHe4upk"
      },
      "source": [
        "### **Uji Model**\n"
      ]
    },
    {
      "cell_type": "code",
      "execution_count": null,
      "metadata": {
        "colab": {
          "base_uri": "https://localhost:8080/"
        },
        "id": "YNN58FsY40xb",
        "outputId": "ee75fd49-b9cd-4bf4-ca9d-c5e46ca86f4f"
      },
      "outputs": [
        {
          "output_type": "stream",
          "name": "stdout",
          "text": [
            "(64, 100, 66) # (batch_size, sequence_length, vocab_size)\n"
          ]
        }
      ],
      "source": [
        "for input_example_batch, target_example_batch in dataset.take(1):\n",
        "    example_batch_predictions = model(input_example_batch)\n",
        "    print(example_batch_predictions.shape, \"# (batch_size, sequence_length, vocab_size)\")"
      ]
    },
    {
      "cell_type": "markdown",
      "metadata": {
        "id": "Mdzbp0en4xqE"
      },
      "source": [
        "Dalam contoh di atas, panjang urutan masukan adalah 100 tetapi model dapat dijalankan pada masukan dengan panjang berapa pun:"
      ]
    },
    {
      "cell_type": "code",
      "execution_count": null,
      "metadata": {
        "colab": {
          "base_uri": "https://localhost:8080/"
        },
        "id": "73TT69a_48EU",
        "outputId": "454b55e4-fdc4-486d-d068-dbe9d9b84c71"
      },
      "outputs": [
        {
          "output_type": "stream",
          "name": "stdout",
          "text": [
            "Model: \"my_model\"\n",
            "_________________________________________________________________\n",
            " Layer (type)                Output Shape              Param #   \n",
            "=================================================================\n",
            " embedding (Embedding)       multiple                  16896     \n",
            "                                                                 \n",
            " gru (GRU)                   multiple                  3938304   \n",
            "                                                                 \n",
            " dense (Dense)               multiple                  67650     \n",
            "                                                                 \n",
            "=================================================================\n",
            "Total params: 4022850 (15.35 MB)\n",
            "Trainable params: 4022850 (15.35 MB)\n",
            "Non-trainable params: 0 (0.00 Byte)\n",
            "_________________________________________________________________\n"
          ]
        }
      ],
      "source": [
        "model.summary()"
      ]
    },
    {
      "cell_type": "markdown",
      "metadata": {
        "id": "nTpuoYhU4_cC"
      },
      "source": [
        "Untuk mendapatkan prediksi aktual dari model, Anda perlu mengambil sampel dari distribusi keluaran, untuk mendapatkan indeks karakter aktual. Distribusi ini ditentukan oleh logit pada kosakata karakter. Catatan: Penting untuk mengambil sampel dari distribusi ini karena mengambil argmax dari distribusi tersebut dapat dengan mudah membuat model terjebak dalam infinote loop. Cobalah untuk contoh pertama di batch:"
      ]
    },
    {
      "cell_type": "code",
      "execution_count": null,
      "metadata": {
        "id": "CJrA3uvL5AUe"
      },
      "outputs": [],
      "source": [
        "sampled_indices = tf.random.categorical(example_batch_predictions[0], num_samples=1)\n",
        "sampled_indices = tf.squeeze(sampled_indices, axis=-1).numpy()"
      ]
    },
    {
      "cell_type": "markdown",
      "metadata": {
        "id": "fN0UWvIh5OsJ"
      },
      "source": [
        "Hal ini memberi kita, pada setiap langkah waktu, prediksi indeks karakter berikutnya:"
      ]
    },
    {
      "cell_type": "code",
      "execution_count": null,
      "metadata": {
        "colab": {
          "base_uri": "https://localhost:8080/"
        },
        "id": "DUNSSoF35PnK",
        "outputId": "3e9a63fd-2bf0-4a76-e33b-c2b5a2be3a32"
      },
      "outputs": [
        {
          "output_type": "execute_result",
          "data": {
            "text/plain": [
              "array([22, 26, 54, 17, 53, 10, 14, 32, 64, 25, 61,  3, 52, 25, 49, 52, 41,\n",
              "       44, 40, 33,  8, 55, 65, 53, 33, 32, 31,  4, 61, 33, 61, 29, 28, 50,\n",
              "       21,  2, 41,  3, 40, 46,  7, 46, 18, 50, 57,  4,  4,  8, 19, 18, 64,\n",
              "       12,  7,  7, 17,  2, 22, 23, 34,  7, 35, 11, 42, 48,  4, 24, 57, 28,\n",
              "       19, 40, 11, 33, 42, 58, 42, 46, 53, 24, 39, 28, 62, 35, 42, 45, 40,\n",
              "       52, 36, 18, 24, 61, 55, 34, 30, 52, 20, 65, 50, 41, 45, 32])"
            ]
          },
          "metadata": {},
          "execution_count": 38
        }
      ],
      "source": [
        "sampled_indices"
      ]
    },
    {
      "cell_type": "markdown",
      "metadata": {
        "id": "mWrhdxch5Stb"
      },
      "source": [
        "Dekode kode berikut untuk melihat teks yang diprediksi oleh model tidak terlatih ini:"
      ]
    },
    {
      "cell_type": "code",
      "execution_count": null,
      "metadata": {
        "colab": {
          "base_uri": "https://localhost:8080/"
        },
        "id": "kPajGg9P5UWG",
        "outputId": "d3475869-b90f-49b5-991f-7897871cec76"
      },
      "outputs": [
        {
          "output_type": "stream",
          "name": "stdout",
          "text": [
            "Input:\n",
            " b\"hat is hardly borne\\nBy any in this presence, I desire\\nTo reconcile me to his friendly peace:\\n'Tis de\"\n",
            "\n",
            "Next Char Predictions:\n",
            " b'IMoDn3ASyLv!mLjmbeaT-pznTSR$vTvPOkH b!ag,gEkr$$-FEy;,,D IJU,V:ci$KrOFa:TcscgnKZOwVcfamWEKvpUQmGzkbfS'\n"
          ]
        }
      ],
      "source": [
        "print(\"Input:\\n\", text_from_ids(input_example_batch[0]).numpy())\n",
        "print()\n",
        "print(\"Next Char Predictions:\\n\", text_from_ids(sampled_indices).numpy())"
      ]
    },
    {
      "cell_type": "markdown",
      "metadata": {
        "id": "7RdbPzzV5Xat"
      },
      "source": [
        "### **Train Model**"
      ]
    },
    {
      "cell_type": "markdown",
      "metadata": {
        "id": "sqJU82d75a_m"
      },
      "source": [
        "Pada titik ini permasalahan dapat dianggap sebagai permasalahan klasifikasi standar. Permasalahan dapat disimpulkan dengan : Berdasarkan status RNN sebelumnya, dan masukan langkah kali ini, prediksi kelas karakter berikutnya."
      ]
    },
    {
      "cell_type": "markdown",
      "metadata": {
        "id": "JoV6hJI95d6h"
      },
      "source": [
        "**Tambahan optimizer dan fungsi loss**"
      ]
    },
    {
      "cell_type": "markdown",
      "metadata": {
        "id": "TNn7G-PJ5g4o"
      },
      "source": [
        "loss function tf.keras.losses.sparse_categorical_crossentropy standar berfungsi dalam kasus ini karena diterapkan di seluruh dimensi terakhir prediksi. Karena model Anda mengembalikan logits, Anda perlu mengatur flag from_logits."
      ]
    },
    {
      "cell_type": "code",
      "execution_count": null,
      "metadata": {
        "id": "hk7VYQgm5jWg"
      },
      "outputs": [],
      "source": [
        "loss = tf.losses.SparseCategoricalCrossentropy(from_logits=True)"
      ]
    },
    {
      "cell_type": "code",
      "execution_count": null,
      "metadata": {
        "colab": {
          "base_uri": "https://localhost:8080/"
        },
        "id": "rvQ_OjwD5pB9",
        "outputId": "bb7d463b-6748-45d4-f9d3-b7cbacca58ed"
      },
      "outputs": [
        {
          "output_type": "stream",
          "name": "stdout",
          "text": [
            "Prediction shape:  (64, 100, 66)  # (batch_size, sequence_length, vocab_size)\n",
            "Mean loss:         tf.Tensor(4.1893883, shape=(), dtype=float32)\n"
          ]
        }
      ],
      "source": [
        "example_batch_mean_loss = loss(target_example_batch, example_batch_predictions)\n",
        "print(\"Prediction shape: \", example_batch_predictions.shape, \" # (batch_size, sequence_length, vocab_size)\")\n",
        "print(\"Mean loss:        \", example_batch_mean_loss)"
      ]
    },
    {
      "cell_type": "markdown",
      "metadata": {
        "id": "Etb2sxUE5t2N"
      },
      "source": [
        "Model yang baru diinisialisasi tidak boleh terlalu yakin dengan dirinya sendiri, semua log keluaran harus memiliki besaran yang sama. Untuk mengonfirmasi hal ini, Anda dapat memeriksa bahwa eksponensial dari loss rata-rata harus kira-kira sama dengan ukuran kosakata. Loss yang jauh lebih tinggi berarti model tersebut yakin akan jawaban yang salah, dan memiliki inisialisasi yang buruk:"
      ]
    },
    {
      "cell_type": "code",
      "execution_count": null,
      "metadata": {
        "colab": {
          "base_uri": "https://localhost:8080/"
        },
        "id": "SoBqv8ut5u0V",
        "outputId": "8ec6df11-3889-476e-bcb6-b8d451370836"
      },
      "outputs": [
        {
          "output_type": "execute_result",
          "data": {
            "text/plain": [
              "65.982414"
            ]
          },
          "metadata": {},
          "execution_count": 42
        }
      ],
      "source": [
        "tf.exp(example_batch_mean_loss).numpy()"
      ]
    },
    {
      "cell_type": "markdown",
      "metadata": {
        "id": "dZrLC75r5xr6"
      },
      "source": [
        "Konfigurasikan prosedur pelatihan menggunakan metode tf.keras.Model.compile. Gunakan tf.keras.optimizers.Adam dengan argumen default dan fungsi loss."
      ]
    },
    {
      "cell_type": "code",
      "execution_count": null,
      "metadata": {
        "id": "lxrbQuap5ygp"
      },
      "outputs": [],
      "source": [
        "model.compile(optimizer='adam', loss=loss)"
      ]
    },
    {
      "cell_type": "markdown",
      "metadata": {
        "id": "bgEaDkgB52co"
      },
      "source": [
        "### **Konfigurasi Checkpoints**"
      ]
    },
    {
      "cell_type": "markdown",
      "metadata": {
        "id": "n4A_si3D56yt"
      },
      "source": [
        "Gunakan tf.keras.callbacks.ModelCheckpoint untuk memastikan bahwa checkpoint disimpan selama pelatihan:"
      ]
    },
    {
      "cell_type": "code",
      "execution_count": null,
      "metadata": {
        "id": "kVya-auh58o_"
      },
      "outputs": [],
      "source": [
        "# Directory where the checkpoints will be saved\n",
        "checkpoint_dir = './training_checkpoints'\n",
        "# Name of the checkpoint files\n",
        "checkpoint_prefix = os.path.join(checkpoint_dir, \"ckpt_{epoch}\")\n",
        "\n",
        "checkpoint_callback = tf.keras.callbacks.ModelCheckpoint(\n",
        "    filepath=checkpoint_prefix,\n",
        "    save_weights_only=True)"
      ]
    },
    {
      "cell_type": "markdown",
      "metadata": {
        "id": "hWSzIllF5_sy"
      },
      "source": [
        "### **Lakukan Proses Training**"
      ]
    },
    {
      "cell_type": "markdown",
      "metadata": {
        "id": "FXEUV9Wc6Dr_"
      },
      "source": [
        "Agar waktu pelatihan tidak terlalu lama, gunakan 10 epoch untuk melatih model. Di Colab, setel runtime ke GPU untuk pelatihan yang lebih cepat."
      ]
    },
    {
      "cell_type": "code",
      "execution_count": null,
      "metadata": {
        "id": "vg-lX9F06FdK"
      },
      "outputs": [],
      "source": [
        "EPOCHS = 20"
      ]
    },
    {
      "cell_type": "code",
      "execution_count": null,
      "metadata": {
        "colab": {
          "base_uri": "https://localhost:8080/",
          "height": 668
        },
        "id": "czJdaPAE6KUy",
        "outputId": "5191f3fa-4efd-4a94-ff4b-f8c64c4dc637"
      },
      "outputs": [
        {
          "output_type": "stream",
          "name": "stdout",
          "text": [
            "Epoch 1/20\n",
            "172/172 [==============================] - 872s 5s/step - loss: 2.7358\n",
            "Epoch 2/20\n",
            "172/172 [==============================] - 889s 5s/step - loss: 2.0044\n",
            "Epoch 3/20\n",
            "172/172 [==============================] - 871s 5s/step - loss: 1.7256\n",
            "Epoch 4/20\n",
            "172/172 [==============================] - 891s 5s/step - loss: 1.5610\n",
            "Epoch 5/20\n",
            "172/172 [==============================] - 877s 5s/step - loss: 1.4597\n",
            "Epoch 6/20\n",
            "172/172 [==============================] - 873s 5s/step - loss: 1.3903\n",
            "Epoch 7/20\n",
            "172/172 [==============================] - 875s 5s/step - loss: 1.3368\n",
            "Epoch 8/20\n",
            "172/172 [==============================] - 872s 5s/step - loss: 1.2905\n",
            "Epoch 9/20\n",
            "172/172 [==============================] - 876s 5s/step - loss: 1.2500\n",
            "Epoch 10/20\n",
            "114/172 [==================>...........] - ETA: 4:56 - loss: 1.2051"
          ]
        },
        {
          "output_type": "error",
          "ename": "KeyboardInterrupt",
          "evalue": "ignored",
          "traceback": [
            "\u001b[0;31m---------------------------------------------------------------------------\u001b[0m",
            "\u001b[0;31mKeyboardInterrupt\u001b[0m                         Traceback (most recent call last)",
            "\u001b[0;32m<ipython-input-46-25e345c13e8b>\u001b[0m in \u001b[0;36m<cell line: 1>\u001b[0;34m()\u001b[0m\n\u001b[0;32m----> 1\u001b[0;31m \u001b[0mhistory\u001b[0m \u001b[0;34m=\u001b[0m \u001b[0mmodel\u001b[0m\u001b[0;34m.\u001b[0m\u001b[0mfit\u001b[0m\u001b[0;34m(\u001b[0m\u001b[0mdataset\u001b[0m\u001b[0;34m,\u001b[0m \u001b[0mepochs\u001b[0m\u001b[0;34m=\u001b[0m\u001b[0mEPOCHS\u001b[0m\u001b[0;34m,\u001b[0m \u001b[0mcallbacks\u001b[0m\u001b[0;34m=\u001b[0m\u001b[0;34m[\u001b[0m\u001b[0mcheckpoint_callback\u001b[0m\u001b[0;34m]\u001b[0m\u001b[0;34m)\u001b[0m\u001b[0;34m\u001b[0m\u001b[0;34m\u001b[0m\u001b[0m\n\u001b[0m",
            "\u001b[0;32m/usr/local/lib/python3.10/dist-packages/keras/src/utils/traceback_utils.py\u001b[0m in \u001b[0;36merror_handler\u001b[0;34m(*args, **kwargs)\u001b[0m\n\u001b[1;32m     63\u001b[0m         \u001b[0mfiltered_tb\u001b[0m \u001b[0;34m=\u001b[0m \u001b[0;32mNone\u001b[0m\u001b[0;34m\u001b[0m\u001b[0;34m\u001b[0m\u001b[0m\n\u001b[1;32m     64\u001b[0m         \u001b[0;32mtry\u001b[0m\u001b[0;34m:\u001b[0m\u001b[0;34m\u001b[0m\u001b[0;34m\u001b[0m\u001b[0m\n\u001b[0;32m---> 65\u001b[0;31m             \u001b[0;32mreturn\u001b[0m \u001b[0mfn\u001b[0m\u001b[0;34m(\u001b[0m\u001b[0;34m*\u001b[0m\u001b[0margs\u001b[0m\u001b[0;34m,\u001b[0m \u001b[0;34m**\u001b[0m\u001b[0mkwargs\u001b[0m\u001b[0;34m)\u001b[0m\u001b[0;34m\u001b[0m\u001b[0;34m\u001b[0m\u001b[0m\n\u001b[0m\u001b[1;32m     66\u001b[0m         \u001b[0;32mexcept\u001b[0m \u001b[0mException\u001b[0m \u001b[0;32mas\u001b[0m \u001b[0me\u001b[0m\u001b[0;34m:\u001b[0m\u001b[0;34m\u001b[0m\u001b[0;34m\u001b[0m\u001b[0m\n\u001b[1;32m     67\u001b[0m             \u001b[0mfiltered_tb\u001b[0m \u001b[0;34m=\u001b[0m \u001b[0m_process_traceback_frames\u001b[0m\u001b[0;34m(\u001b[0m\u001b[0me\u001b[0m\u001b[0;34m.\u001b[0m\u001b[0m__traceback__\u001b[0m\u001b[0;34m)\u001b[0m\u001b[0;34m\u001b[0m\u001b[0;34m\u001b[0m\u001b[0m\n",
            "\u001b[0;32m/usr/local/lib/python3.10/dist-packages/keras/src/engine/training.py\u001b[0m in \u001b[0;36mfit\u001b[0;34m(self, x, y, batch_size, epochs, verbose, callbacks, validation_split, validation_data, shuffle, class_weight, sample_weight, initial_epoch, steps_per_epoch, validation_steps, validation_batch_size, validation_freq, max_queue_size, workers, use_multiprocessing)\u001b[0m\n\u001b[1;32m   1781\u001b[0m                         ):\n\u001b[1;32m   1782\u001b[0m                             \u001b[0mcallbacks\u001b[0m\u001b[0;34m.\u001b[0m\u001b[0mon_train_batch_begin\u001b[0m\u001b[0;34m(\u001b[0m\u001b[0mstep\u001b[0m\u001b[0;34m)\u001b[0m\u001b[0;34m\u001b[0m\u001b[0;34m\u001b[0m\u001b[0m\n\u001b[0;32m-> 1783\u001b[0;31m                             \u001b[0mtmp_logs\u001b[0m \u001b[0;34m=\u001b[0m \u001b[0mself\u001b[0m\u001b[0;34m.\u001b[0m\u001b[0mtrain_function\u001b[0m\u001b[0;34m(\u001b[0m\u001b[0miterator\u001b[0m\u001b[0;34m)\u001b[0m\u001b[0;34m\u001b[0m\u001b[0;34m\u001b[0m\u001b[0m\n\u001b[0m\u001b[1;32m   1784\u001b[0m                             \u001b[0;32mif\u001b[0m \u001b[0mdata_handler\u001b[0m\u001b[0;34m.\u001b[0m\u001b[0mshould_sync\u001b[0m\u001b[0;34m:\u001b[0m\u001b[0;34m\u001b[0m\u001b[0;34m\u001b[0m\u001b[0m\n\u001b[1;32m   1785\u001b[0m                                 \u001b[0mcontext\u001b[0m\u001b[0;34m.\u001b[0m\u001b[0masync_wait\u001b[0m\u001b[0;34m(\u001b[0m\u001b[0;34m)\u001b[0m\u001b[0;34m\u001b[0m\u001b[0;34m\u001b[0m\u001b[0m\n",
            "\u001b[0;32m/usr/local/lib/python3.10/dist-packages/tensorflow/python/util/traceback_utils.py\u001b[0m in \u001b[0;36merror_handler\u001b[0;34m(*args, **kwargs)\u001b[0m\n\u001b[1;32m    148\u001b[0m     \u001b[0mfiltered_tb\u001b[0m \u001b[0;34m=\u001b[0m \u001b[0;32mNone\u001b[0m\u001b[0;34m\u001b[0m\u001b[0;34m\u001b[0m\u001b[0m\n\u001b[1;32m    149\u001b[0m     \u001b[0;32mtry\u001b[0m\u001b[0;34m:\u001b[0m\u001b[0;34m\u001b[0m\u001b[0;34m\u001b[0m\u001b[0m\n\u001b[0;32m--> 150\u001b[0;31m       \u001b[0;32mreturn\u001b[0m \u001b[0mfn\u001b[0m\u001b[0;34m(\u001b[0m\u001b[0;34m*\u001b[0m\u001b[0margs\u001b[0m\u001b[0;34m,\u001b[0m \u001b[0;34m**\u001b[0m\u001b[0mkwargs\u001b[0m\u001b[0;34m)\u001b[0m\u001b[0;34m\u001b[0m\u001b[0;34m\u001b[0m\u001b[0m\n\u001b[0m\u001b[1;32m    151\u001b[0m     \u001b[0;32mexcept\u001b[0m \u001b[0mException\u001b[0m \u001b[0;32mas\u001b[0m \u001b[0me\u001b[0m\u001b[0;34m:\u001b[0m\u001b[0;34m\u001b[0m\u001b[0;34m\u001b[0m\u001b[0m\n\u001b[1;32m    152\u001b[0m       \u001b[0mfiltered_tb\u001b[0m \u001b[0;34m=\u001b[0m \u001b[0m_process_traceback_frames\u001b[0m\u001b[0;34m(\u001b[0m\u001b[0me\u001b[0m\u001b[0;34m.\u001b[0m\u001b[0m__traceback__\u001b[0m\u001b[0;34m)\u001b[0m\u001b[0;34m\u001b[0m\u001b[0;34m\u001b[0m\u001b[0m\n",
            "\u001b[0;32m/usr/local/lib/python3.10/dist-packages/tensorflow/python/eager/polymorphic_function/polymorphic_function.py\u001b[0m in \u001b[0;36m__call__\u001b[0;34m(self, *args, **kwds)\u001b[0m\n\u001b[1;32m    829\u001b[0m \u001b[0;34m\u001b[0m\u001b[0m\n\u001b[1;32m    830\u001b[0m       \u001b[0;32mwith\u001b[0m \u001b[0mOptionalXlaContext\u001b[0m\u001b[0;34m(\u001b[0m\u001b[0mself\u001b[0m\u001b[0;34m.\u001b[0m\u001b[0m_jit_compile\u001b[0m\u001b[0;34m)\u001b[0m\u001b[0;34m:\u001b[0m\u001b[0;34m\u001b[0m\u001b[0;34m\u001b[0m\u001b[0m\n\u001b[0;32m--> 831\u001b[0;31m         \u001b[0mresult\u001b[0m \u001b[0;34m=\u001b[0m \u001b[0mself\u001b[0m\u001b[0;34m.\u001b[0m\u001b[0m_call\u001b[0m\u001b[0;34m(\u001b[0m\u001b[0;34m*\u001b[0m\u001b[0margs\u001b[0m\u001b[0;34m,\u001b[0m \u001b[0;34m**\u001b[0m\u001b[0mkwds\u001b[0m\u001b[0;34m)\u001b[0m\u001b[0;34m\u001b[0m\u001b[0;34m\u001b[0m\u001b[0m\n\u001b[0m\u001b[1;32m    832\u001b[0m \u001b[0;34m\u001b[0m\u001b[0m\n\u001b[1;32m    833\u001b[0m       \u001b[0mnew_tracing_count\u001b[0m \u001b[0;34m=\u001b[0m \u001b[0mself\u001b[0m\u001b[0;34m.\u001b[0m\u001b[0mexperimental_get_tracing_count\u001b[0m\u001b[0;34m(\u001b[0m\u001b[0;34m)\u001b[0m\u001b[0;34m\u001b[0m\u001b[0;34m\u001b[0m\u001b[0m\n",
            "\u001b[0;32m/usr/local/lib/python3.10/dist-packages/tensorflow/python/eager/polymorphic_function/polymorphic_function.py\u001b[0m in \u001b[0;36m_call\u001b[0;34m(self, *args, **kwds)\u001b[0m\n\u001b[1;32m    865\u001b[0m       \u001b[0;31m# In this case we have created variables on the first call, so we run the\u001b[0m\u001b[0;34m\u001b[0m\u001b[0;34m\u001b[0m\u001b[0m\n\u001b[1;32m    866\u001b[0m       \u001b[0;31m# defunned version which is guaranteed to never create variables.\u001b[0m\u001b[0;34m\u001b[0m\u001b[0;34m\u001b[0m\u001b[0m\n\u001b[0;32m--> 867\u001b[0;31m       return tracing_compilation.call_function(\n\u001b[0m\u001b[1;32m    868\u001b[0m           \u001b[0margs\u001b[0m\u001b[0;34m,\u001b[0m \u001b[0mkwds\u001b[0m\u001b[0;34m,\u001b[0m \u001b[0mself\u001b[0m\u001b[0;34m.\u001b[0m\u001b[0m_no_variable_creation_config\u001b[0m\u001b[0;34m\u001b[0m\u001b[0;34m\u001b[0m\u001b[0m\n\u001b[1;32m    869\u001b[0m       )\n",
            "\u001b[0;32m/usr/local/lib/python3.10/dist-packages/tensorflow/python/eager/polymorphic_function/tracing_compilation.py\u001b[0m in \u001b[0;36mcall_function\u001b[0;34m(args, kwargs, tracing_options)\u001b[0m\n\u001b[1;32m    137\u001b[0m   \u001b[0mbound_args\u001b[0m \u001b[0;34m=\u001b[0m \u001b[0mfunction\u001b[0m\u001b[0;34m.\u001b[0m\u001b[0mfunction_type\u001b[0m\u001b[0;34m.\u001b[0m\u001b[0mbind\u001b[0m\u001b[0;34m(\u001b[0m\u001b[0;34m*\u001b[0m\u001b[0margs\u001b[0m\u001b[0;34m,\u001b[0m \u001b[0;34m**\u001b[0m\u001b[0mkwargs\u001b[0m\u001b[0;34m)\u001b[0m\u001b[0;34m\u001b[0m\u001b[0;34m\u001b[0m\u001b[0m\n\u001b[1;32m    138\u001b[0m   \u001b[0mflat_inputs\u001b[0m \u001b[0;34m=\u001b[0m \u001b[0mfunction\u001b[0m\u001b[0;34m.\u001b[0m\u001b[0mfunction_type\u001b[0m\u001b[0;34m.\u001b[0m\u001b[0munpack_inputs\u001b[0m\u001b[0;34m(\u001b[0m\u001b[0mbound_args\u001b[0m\u001b[0;34m)\u001b[0m\u001b[0;34m\u001b[0m\u001b[0;34m\u001b[0m\u001b[0m\n\u001b[0;32m--> 139\u001b[0;31m   return function._call_flat(  # pylint: disable=protected-access\n\u001b[0m\u001b[1;32m    140\u001b[0m       \u001b[0mflat_inputs\u001b[0m\u001b[0;34m,\u001b[0m \u001b[0mcaptured_inputs\u001b[0m\u001b[0;34m=\u001b[0m\u001b[0mfunction\u001b[0m\u001b[0;34m.\u001b[0m\u001b[0mcaptured_inputs\u001b[0m\u001b[0;34m\u001b[0m\u001b[0;34m\u001b[0m\u001b[0m\n\u001b[1;32m    141\u001b[0m   )\n",
            "\u001b[0;32m/usr/local/lib/python3.10/dist-packages/tensorflow/python/eager/polymorphic_function/concrete_function.py\u001b[0m in \u001b[0;36m_call_flat\u001b[0;34m(self, tensor_inputs, captured_inputs)\u001b[0m\n\u001b[1;32m   1262\u001b[0m         and executing_eagerly):\n\u001b[1;32m   1263\u001b[0m       \u001b[0;31m# No tape is watching; skip to running the function.\u001b[0m\u001b[0;34m\u001b[0m\u001b[0;34m\u001b[0m\u001b[0m\n\u001b[0;32m-> 1264\u001b[0;31m       \u001b[0;32mreturn\u001b[0m \u001b[0mself\u001b[0m\u001b[0;34m.\u001b[0m\u001b[0m_inference_function\u001b[0m\u001b[0;34m.\u001b[0m\u001b[0mflat_call\u001b[0m\u001b[0;34m(\u001b[0m\u001b[0margs\u001b[0m\u001b[0;34m)\u001b[0m\u001b[0;34m\u001b[0m\u001b[0;34m\u001b[0m\u001b[0m\n\u001b[0m\u001b[1;32m   1265\u001b[0m     forward_backward = self._select_forward_and_backward_functions(\n\u001b[1;32m   1266\u001b[0m         \u001b[0margs\u001b[0m\u001b[0;34m,\u001b[0m\u001b[0;34m\u001b[0m\u001b[0;34m\u001b[0m\u001b[0m\n",
            "\u001b[0;32m/usr/local/lib/python3.10/dist-packages/tensorflow/python/eager/polymorphic_function/atomic_function.py\u001b[0m in \u001b[0;36mflat_call\u001b[0;34m(self, args)\u001b[0m\n\u001b[1;32m    215\u001b[0m   \u001b[0;32mdef\u001b[0m \u001b[0mflat_call\u001b[0m\u001b[0;34m(\u001b[0m\u001b[0mself\u001b[0m\u001b[0;34m,\u001b[0m \u001b[0margs\u001b[0m\u001b[0;34m:\u001b[0m \u001b[0mSequence\u001b[0m\u001b[0;34m[\u001b[0m\u001b[0mcore\u001b[0m\u001b[0;34m.\u001b[0m\u001b[0mTensor\u001b[0m\u001b[0;34m]\u001b[0m\u001b[0;34m)\u001b[0m \u001b[0;34m->\u001b[0m \u001b[0mAny\u001b[0m\u001b[0;34m:\u001b[0m\u001b[0;34m\u001b[0m\u001b[0;34m\u001b[0m\u001b[0m\n\u001b[1;32m    216\u001b[0m     \u001b[0;34m\"\"\"Calls with tensor inputs and returns the structured output.\"\"\"\u001b[0m\u001b[0;34m\u001b[0m\u001b[0;34m\u001b[0m\u001b[0m\n\u001b[0;32m--> 217\u001b[0;31m     \u001b[0mflat_outputs\u001b[0m \u001b[0;34m=\u001b[0m \u001b[0mself\u001b[0m\u001b[0;34m(\u001b[0m\u001b[0;34m*\u001b[0m\u001b[0margs\u001b[0m\u001b[0;34m)\u001b[0m\u001b[0;34m\u001b[0m\u001b[0;34m\u001b[0m\u001b[0m\n\u001b[0m\u001b[1;32m    218\u001b[0m     \u001b[0;32mreturn\u001b[0m \u001b[0mself\u001b[0m\u001b[0;34m.\u001b[0m\u001b[0mfunction_type\u001b[0m\u001b[0;34m.\u001b[0m\u001b[0mpack_output\u001b[0m\u001b[0;34m(\u001b[0m\u001b[0mflat_outputs\u001b[0m\u001b[0;34m)\u001b[0m\u001b[0;34m\u001b[0m\u001b[0;34m\u001b[0m\u001b[0m\n\u001b[1;32m    219\u001b[0m \u001b[0;34m\u001b[0m\u001b[0m\n",
            "\u001b[0;32m/usr/local/lib/python3.10/dist-packages/tensorflow/python/eager/polymorphic_function/atomic_function.py\u001b[0m in \u001b[0;36m__call__\u001b[0;34m(self, *args)\u001b[0m\n\u001b[1;32m    250\u001b[0m         \u001b[0;32mwith\u001b[0m \u001b[0mrecord\u001b[0m\u001b[0;34m.\u001b[0m\u001b[0mstop_recording\u001b[0m\u001b[0;34m(\u001b[0m\u001b[0;34m)\u001b[0m\u001b[0;34m:\u001b[0m\u001b[0;34m\u001b[0m\u001b[0;34m\u001b[0m\u001b[0m\n\u001b[1;32m    251\u001b[0m           \u001b[0;32mif\u001b[0m \u001b[0mself\u001b[0m\u001b[0;34m.\u001b[0m\u001b[0m_bound_context\u001b[0m\u001b[0;34m.\u001b[0m\u001b[0mexecuting_eagerly\u001b[0m\u001b[0;34m(\u001b[0m\u001b[0;34m)\u001b[0m\u001b[0;34m:\u001b[0m\u001b[0;34m\u001b[0m\u001b[0;34m\u001b[0m\u001b[0m\n\u001b[0;32m--> 252\u001b[0;31m             outputs = self._bound_context.call_function(\n\u001b[0m\u001b[1;32m    253\u001b[0m                 \u001b[0mself\u001b[0m\u001b[0;34m.\u001b[0m\u001b[0mname\u001b[0m\u001b[0;34m,\u001b[0m\u001b[0;34m\u001b[0m\u001b[0;34m\u001b[0m\u001b[0m\n\u001b[1;32m    254\u001b[0m                 \u001b[0mlist\u001b[0m\u001b[0;34m(\u001b[0m\u001b[0margs\u001b[0m\u001b[0;34m)\u001b[0m\u001b[0;34m,\u001b[0m\u001b[0;34m\u001b[0m\u001b[0;34m\u001b[0m\u001b[0m\n",
            "\u001b[0;32m/usr/local/lib/python3.10/dist-packages/tensorflow/python/eager/context.py\u001b[0m in \u001b[0;36mcall_function\u001b[0;34m(self, name, tensor_inputs, num_outputs)\u001b[0m\n\u001b[1;32m   1477\u001b[0m     \u001b[0mcancellation_context\u001b[0m \u001b[0;34m=\u001b[0m \u001b[0mcancellation\u001b[0m\u001b[0;34m.\u001b[0m\u001b[0mcontext\u001b[0m\u001b[0;34m(\u001b[0m\u001b[0;34m)\u001b[0m\u001b[0;34m\u001b[0m\u001b[0;34m\u001b[0m\u001b[0m\n\u001b[1;32m   1478\u001b[0m     \u001b[0;32mif\u001b[0m \u001b[0mcancellation_context\u001b[0m \u001b[0;32mis\u001b[0m \u001b[0;32mNone\u001b[0m\u001b[0;34m:\u001b[0m\u001b[0;34m\u001b[0m\u001b[0;34m\u001b[0m\u001b[0m\n\u001b[0;32m-> 1479\u001b[0;31m       outputs = execute.execute(\n\u001b[0m\u001b[1;32m   1480\u001b[0m           \u001b[0mname\u001b[0m\u001b[0;34m.\u001b[0m\u001b[0mdecode\u001b[0m\u001b[0;34m(\u001b[0m\u001b[0;34m\"utf-8\"\u001b[0m\u001b[0;34m)\u001b[0m\u001b[0;34m,\u001b[0m\u001b[0;34m\u001b[0m\u001b[0;34m\u001b[0m\u001b[0m\n\u001b[1;32m   1481\u001b[0m           \u001b[0mnum_outputs\u001b[0m\u001b[0;34m=\u001b[0m\u001b[0mnum_outputs\u001b[0m\u001b[0;34m,\u001b[0m\u001b[0;34m\u001b[0m\u001b[0;34m\u001b[0m\u001b[0m\n",
            "\u001b[0;32m/usr/local/lib/python3.10/dist-packages/tensorflow/python/eager/execute.py\u001b[0m in \u001b[0;36mquick_execute\u001b[0;34m(op_name, num_outputs, inputs, attrs, ctx, name)\u001b[0m\n\u001b[1;32m     58\u001b[0m         \u001b[0;32mfor\u001b[0m \u001b[0mt\u001b[0m \u001b[0;32min\u001b[0m \u001b[0minputs\u001b[0m\u001b[0;34m\u001b[0m\u001b[0;34m\u001b[0m\u001b[0m\n\u001b[1;32m     59\u001b[0m     ]\n\u001b[0;32m---> 60\u001b[0;31m     tensors = pywrap_tfe.TFE_Py_Execute(ctx._handle, device_name, op_name,\n\u001b[0m\u001b[1;32m     61\u001b[0m                                         inputs, attrs, num_outputs)\n\u001b[1;32m     62\u001b[0m   \u001b[0;32mexcept\u001b[0m \u001b[0mcore\u001b[0m\u001b[0;34m.\u001b[0m\u001b[0m_NotOkStatusException\u001b[0m \u001b[0;32mas\u001b[0m \u001b[0me\u001b[0m\u001b[0;34m:\u001b[0m\u001b[0;34m\u001b[0m\u001b[0;34m\u001b[0m\u001b[0m\n",
            "\u001b[0;31mKeyboardInterrupt\u001b[0m: "
          ]
        }
      ],
      "source": [
        "history = model.fit(dataset, epochs=EPOCHS, callbacks=[checkpoint_callback])"
      ]
    },
    {
      "cell_type": "markdown",
      "metadata": {
        "id": "AcBUBfq36RGu"
      },
      "source": [
        "### **Generate Teks**"
      ]
    },
    {
      "cell_type": "markdown",
      "metadata": {
        "id": "BDDwiqQ36WYq"
      },
      "source": [
        "Cara termudah untuk menghasilkan teks dengan model ini adalah dengan menjalankannya dalam loop, dan menyimpan status internal model saat Anda menjalankannya.![text_generation_sampling.png](data:image/png;base64,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)"
      ]
    },
    {
      "cell_type": "markdown",
      "metadata": {
        "id": "T0I5dux86ecp"
      },
      "source": [
        "Setiap kali Anda memanggil model, Anda memasukkan beberapa teks dan state internal. Model mengembalikan prediksi untuk karakter berikutnya dan state barunya. Masukkan kembali prediksi dan state ke model untuk terus menghasilkan teks."
      ]
    },
    {
      "cell_type": "code",
      "execution_count": null,
      "metadata": {
        "id": "LyucSxnp6i2V"
      },
      "outputs": [],
      "source": [
        "class OneStep(tf.keras.Model):\n",
        "  def __init__(self, model, chars_from_ids, ids_from_chars, temperature=1.0):\n",
        "    super().__init__()\n",
        "    self.temperature = temperature\n",
        "    self.model = model\n",
        "    self.chars_from_ids = chars_from_ids\n",
        "    self.ids_from_chars = ids_from_chars\n",
        "\n",
        "    # Create a mask to prevent \"[UNK]\" from being generated.\n",
        "    skip_ids = self.ids_from_chars(['[UNK]'])[:, None]\n",
        "    sparse_mask = tf.SparseTensor(\n",
        "        # Put a -inf at each bad index.\n",
        "        values=[-float('inf')]*len(skip_ids),\n",
        "        indices=skip_ids,\n",
        "        # Match the shape to the vocabulary\n",
        "        dense_shape=[len(ids_from_chars.get_vocabulary())])\n",
        "    self.prediction_mask = tf.sparse.to_dense(sparse_mask)\n",
        "\n",
        "  @tf.function\n",
        "  def generate_one_step(self, inputs, states=None):\n",
        "    # Convert strings to token IDs.\n",
        "    input_chars = tf.strings.unicode_split(inputs, 'UTF-8')\n",
        "    input_ids = self.ids_from_chars(input_chars).to_tensor()\n",
        "\n",
        "    # Run the model.\n",
        "    # predicted_logits.shape is [batch, char, next_char_logits]\n",
        "    predicted_logits, states = self.model(inputs=input_ids, states=states,\n",
        "                                          return_state=True)\n",
        "    # Only use the last prediction.\n",
        "    predicted_logits = predicted_logits[:, -1, :]\n",
        "    predicted_logits = predicted_logits/self.temperature\n",
        "    # Apply the prediction mask: prevent \"[UNK]\" from being generated.\n",
        "    predicted_logits = predicted_logits + self.prediction_mask\n",
        "\n",
        "    # Sample the output logits to generate token IDs.\n",
        "    predicted_ids = tf.random.categorical(predicted_logits, num_samples=1)\n",
        "    predicted_ids = tf.squeeze(predicted_ids, axis=-1)\n",
        "\n",
        "    # Convert from token ids to characters\n",
        "    predicted_chars = self.chars_from_ids(predicted_ids)\n",
        "\n",
        "    # Return the characters and model state.\n",
        "    return predicted_chars, states"
      ]
    },
    {
      "cell_type": "code",
      "execution_count": null,
      "metadata": {
        "id": "fzGDV51O6wDr"
      },
      "outputs": [],
      "source": [
        "one_step_model = OneStep(model, chars_from_ids, ids_from_chars)"
      ]
    },
    {
      "cell_type": "markdown",
      "metadata": {
        "id": "ZFQeKtBZ6oCM"
      },
      "source": [
        "Jalankan secara berulang untuk menghasilkan beberapa teks. Melihat teks yang dihasilkan, Anda akan melihat model mengetahui kapan harus menggunakan huruf besar, membuat paragraf, dan meniru kosakata menulis seperti Shakespeare. Karena sedikitnya jumlah epoch pelatihan, model belum belajar membentuk kalimat runtut."
      ]
    },
    {
      "cell_type": "code",
      "execution_count": null,
      "metadata": {
        "id": "I67b5PGQ66Cs",
        "colab": {
          "base_uri": "https://localhost:8080/"
        },
        "outputId": "8ff58a38-b2f8-4ebd-b205-1fa8aaa0df62"
      },
      "outputs": [
        {
          "output_type": "stream",
          "name": "stdout",
          "text": [
            "ROMEO:\n",
            "Tulls, I shall advertise.\n",
            "\n",
            "PETRUCHIO:\n",
            "Who thoughtersorter with age might here?\n",
            "\n",
            "SICIIIIA:\n",
            "It were ourselves?\n",
            "He tongue hand! what shall command me.\n",
            "\n",
            "Messenger:\n",
            "Let's go the house: our general, complish,\n",
            "The mapory Grumion of a\n",
            "lover and the asedested from\n",
            "And hearts you to their Edward, friends, even from\n",
            "me. revenging, is a day--our best limis so unfopative,\n",
            "And yet not well shall shame ever say\n",
            "The Mariane weeps of sechet and flattered with love!\n",
            "What thou art as I provided by Edward's sight;\n",
            "That keep upon her infectiman:\n",
            "She is Kath rain, but this is not a dangerous royalty,\n",
            "And than the day that fears his place; and\n",
            "Master Bancabour's daughter: I know\n",
            "\n",
            "BIONDELLO:\n",
            "I take it is: I had ristom'd then.\n",
            "\n",
            "HASTINGS:\n",
            "I may datchful seeming.\n",
            "\n",
            "MENENIUS:\n",
            "Rathle, if you pruy me hear?\n",
            "\n",
            "VOLUMNIA:\n",
            "Let me speak away!\n",
            "\n",
            "CLIFFORD:\n",
            "My mannert sets that fair brows were brother\n",
            "By badded for thy ground, before it is guilty of\n",
            "Angels.\n",
            "\n",
            "Second Citizen:\n",
            "One fairest kind and place all till thee!\n",
            "Advanced w \n",
            "\n",
            "________________________________________________________________________________\n",
            "\n",
            "Run time: 4.425835371017456\n"
          ]
        }
      ],
      "source": [
        "start = time.time()\n",
        "states = None\n",
        "next_char = tf.constant(['ROMEO:'])\n",
        "result = [next_char]\n",
        "\n",
        "for n in range(1000):\n",
        "  next_char, states = one_step_model.generate_one_step(next_char, states=states)\n",
        "  result.append(next_char)\n",
        "\n",
        "result = tf.strings.join(result)\n",
        "end = time.time()\n",
        "print(result[0].numpy().decode('utf-8'), '\\n\\n' + '_'*80)\n",
        "print('\\nRun time:', end - start)"
      ]
    },
    {
      "cell_type": "markdown",
      "metadata": {
        "id": "iszFrGMV7Dbd"
      },
      "source": [
        "Hal termudah yang dapat Anda lakukan untuk meningkatkan hasil adalah dengan melatihnya lebih lama (coba EPOCHS = 30). Anda juga dapat bereksperimen dengan string awal yang berbeda, mencoba menambahkan lapisan RNN lain untuk meningkatkan akurasi model, atau menyesuaikan parameter suhu untuk menghasilkan prediksi yang kurang lebih acak.\n",
        "Jika Anda ingin model menghasilkan teks lebih cepat, hal termudah yang dapat Anda lakukan adalah membuat teks secara batch. Pada contoh di bawah, model menghasilkan 5 keluaran dalam waktu yang hampir sama dengan waktu yang dibutuhkan untuk menghasilkan 1 keluaran di atas."
      ]
    },
    {
      "cell_type": "code",
      "execution_count": null,
      "metadata": {
        "id": "iC-sRtLy7NDb",
        "colab": {
          "base_uri": "https://localhost:8080/"
        },
        "outputId": "b909406c-3f0f-4b6e-cc15-bc7c2c6984e7"
      },
      "outputs": [
        {
          "output_type": "stream",
          "name": "stdout",
          "text": [
            "tf.Tensor(\n",
            "[b\"ROMEO:\\nThat, thou hast love it; or mine, embrace,\\nAnd leave her joyful owery, look'st thou are.\\n\\nHASTINGS:\\nGood my lord, Canst thou we know not thy knees,\\nThe way is giolding to Menenius gentle:\\nLucentio such seizing, as to you,\\nwhere I part it, I see and man;\\nWould not in fortune of holy upheme\\nIs three he himself! I say I see in Warwick.\\n\\nKING RICHARD III:\\nMearuse our halves. Ha! be thy hate,\\nTo the county my brother; and then, I see this war\\nIn thrive I did: speak his oration out\\nBeing false day should discivelior,\\nMakes thee speak.\\n\\nESCALUS:\\nI go: the wind of England promise\\nAs that show them insolditant,\\nWhen very neverd come hither flies.\\n\\nSEBASTIAN:\\nWas it here vere thy fourteen hasty\\nBride will our lustiness and questioned as yourself,\\nLevis, no traitor, shall come away for your counsel:\\nCall cold way flouds amiss'd.\\n\\nDUKE OF YORK:\\nI am in Rome taste of you go about it.\\n\\nHENRY BOLINGBROKE:\\nI was a more than mean of most fire\\nIncle--fillior feed of our adverse:\\nAnd say, is spake shall\"\n",
            " b\"ROMEO:\\nShe hath forset again.\\n\\nQUEEN ELIZABETH:\\nThou wilt I do, for hath charged out most\\nHarved learned in my three incense.\\nYou must, and so\\nUnto my state and kissing here,\\nImen the strength the aid left him repeiced.\\nDo you have a soul take in actided; and\\nMade beheld to him in my life.\\n\\nNurse:\\nAs cry appeelite!' 'He young'st a jow?\\nSpuris our grace that I have twenty years,\\nWhich else deserves thee to having boy;\\nThou wouldst stand upon myself away.\\n\\nBENVOLIO:\\nAy, ay, my gracious, then, these boy speaks senden.\\n\\nServann:\\nFor in my liege, did; we will swept from and end;\\n'Tis she that way, or else your state were speechly Lady\\nAs the profosed each of king intended queen,\\nFor shall grift actiot for me and by\\nARport false od's name; Boacks with humour,\\nLet's sis writtle youth friend my outward Dake\\nDo lisit ingrate. I will not shame;\\nAnd bear'st my thief, and stay and three arish!\\n\\nKATHARDINI:\\nNot that: that's mown try cofor my stretch:\\nYou, marry, and young Henry's forbid her happily\\nare m\"\n",
            " b\"ROMEO:\\nThis same compemony who, yay--\\n\\nCORIOLANUS:\\nThine hang: therefore for it streen,\\nWe will be dried. But present, Lucio, veaves that\\nyou could not receive it indeed, it likewise\\nWas broke in zenators sparl:\\nThou wast'st a visar robe?\\n\\nGRUMIO:\\nGood my ledgue!\\n\\nGONZALO:\\nThou curstsply, I do lift unto the mad:\\nTherefore leave itself, speak lost.\\n\\nLUCIO:\\nOur part, strength and plain we lad forse than\\nthe other and the broad-rangers of\\nTo day her love them be; I will take no odds\\nThe word with two enought him upon his grace.\\nYet I dempared; no, the better dead?\\n\\nQUEEN RATERBIO:\\nThe wouldst thou must well anonou,\\nAs if not rack the other caised rest:\\nThe king is profit.\\n\\nKING RICHARD III:\\nStay I did make fashion of thy horses hark like\\nBut away our larks of law in this right\\nThat worse than ever kept or fled\\nOf boots that saw a sin's precive me only lie.\\n\\nHENRY PERCY:\\nIt gives not this face above the world\\nBe in beautible: what maintable cry\\nEghand that is this day I trial upon thee,\\nBut by t\"\n",
            " b\"ROMEO:\\nThat do I can, to our heart less happy\\nestate Lewis, since my brother made in that.\\n\\nPOMPEY:\\nMy gracious right, and devil! there's it consumed\\nlove, no lessternood; foe anon.\\n\\nMENENIUS:\\nThen let's above.\\n\\nPladIT:\\nSprith Francous do: Come; go, gent you and owe lord!\\n\\nDUKE VINCENTIO:\\nBe matter, mother! hasd the effedina set itself redeat!\\nOf lady she slay the Truck, do seating it.\\nIt is well may, now possession, custom flow,\\nMost quarrel on an quaseal hands:\\nThe keeper nor has his hounds to draw no mantled thorness\\nBlushing pain; Have I do as know\\nWhere then and mine, not now the Earl of Nerduse\\nAnd their death, 'mbrish'd by my stretch and hopes\\nFull make her love: mine outation when thou lies,\\nDo me no more than the duke,\\nWith wildness of the earth, nor no more,\\nHaving men's roaments dispatch.\\n\\nSEBASTIAN:\\n\\nCLIFFORD:\\nA Japh to make af hand: but hence may. Who couldst\\nWe are the right neighbourg-hard, horse he doubts,\\nBolder from the rube of Gooring and difference,\\nSo dull shall defence;\"\n",
            " b\"ROMEO:\\nThou desper'd bloody moutn, in woods for Edward's is:\\nThat, think you, beceforman? lists, come, let's well\\nOur advice is ground a reglecter:\\nAs much love, do not fairth. An ift then make spectidal\\nof mild at your accesturing, eremit only\\nFoult, some consent is Luctors\\nTylams in the provost, full of the\\nworldly; 'tis doubt no thrust, to make his\\npressing to their owes; and, lords,\\nAll spectation a foolow's death ere this,\\nInswetted with me: I was when, for I\\nhave it compects, better than it self.\\nAnd marry when newer shall it were\\nspried 'Gords; if it seem so boy:\\nI will, and be the world consperation.\\n\\nOUFOLD:\\nAdain my call'd for ingenial; I\\nthink thou canst hear become a gentry haze\\nHer farneration wretch; bound, nor presently; you aught\\nI did ever send me fairs, is with she\\nTran, my liege, and gently by his; but moves\\nTo keep him our exterest more attending: shortly\\nI cannot tell slain well enemies,\\nDuke then twenty, hear good Green;\\nFirst have my tale stand Edward state upon your c\"], shape=(5,), dtype=string) \n",
            "\n",
            "________________________________________________________________________________\n",
            "\n",
            "Run time: 4.8406336307525635\n"
          ]
        }
      ],
      "source": [
        "start = time.time()\n",
        "states = None\n",
        "next_char = tf.constant(['ROMEO:', 'ROMEO:', 'ROMEO:', 'ROMEO:', 'ROMEO:'])\n",
        "result = [next_char]\n",
        "\n",
        "for n in range(1000):\n",
        "  next_char, states = one_step_model.generate_one_step(next_char, states=states)\n",
        "  result.append(next_char)\n",
        "\n",
        "result = tf.strings.join(result)\n",
        "end = time.time()\n",
        "print(result, '\\n\\n' + '_'*80)\n",
        "print('\\nRun time:', end - start)"
      ]
    },
    {
      "cell_type": "markdown",
      "metadata": {
        "id": "vUOVo5Dr7T3R"
      },
      "source": [
        "### **Ekspor Model Generator**"
      ]
    },
    {
      "cell_type": "markdown",
      "metadata": {
        "id": "DvWWpnjv7Xos"
      },
      "source": [
        "Model satu langkah ini dapat dengan mudah disimpan dan digunakan kembali, memungkinkan Anda menggunakannya di mana pun tf.saved_model diterima."
      ]
    },
    {
      "cell_type": "code",
      "execution_count": null,
      "metadata": {
        "id": "0ssfie3-7Z-9",
        "colab": {
          "base_uri": "https://localhost:8080/"
        },
        "outputId": "69a8ad87-547c-4467-fbb2-4ce54ebd28d7"
      },
      "outputs": [
        {
          "output_type": "stream",
          "name": "stderr",
          "text": [
            "WARNING:tensorflow:Skipping full serialization of Keras layer <__main__.OneStep object at 0x7d72ce18d690>, because it is not built.\n",
            "WARNING:tensorflow:Model's `__init__()` arguments contain non-serializable objects. Please implement a `get_config()` method in the subclassed Model for proper saving and loading. Defaulting to empty config.\n",
            "WARNING:tensorflow:Model's `__init__()` arguments contain non-serializable objects. Please implement a `get_config()` method in the subclassed Model for proper saving and loading. Defaulting to empty config.\n"
          ]
        }
      ],
      "source": [
        "tf.saved_model.save(one_step_model, 'one_step')\n",
        "one_step_reloaded = tf.saved_model.load('one_step')"
      ]
    },
    {
      "cell_type": "code",
      "execution_count": null,
      "metadata": {
        "id": "2rnMATsq7blg",
        "colab": {
          "base_uri": "https://localhost:8080/"
        },
        "outputId": "00b0bcdd-1772-4348-a8c3-9bbddb486c43"
      },
      "outputs": [
        {
          "output_type": "stream",
          "name": "stdout",
          "text": [
            "ROMEO:\n",
            "Thou art worthy Marcius starve as fector,\n",
            "Hath blessed me, ladies' befall the\n",
            "straw with an. Warwic\n"
          ]
        }
      ],
      "source": [
        "states = None\n",
        "next_char = tf.constant(['ROMEO:'])\n",
        "result = [next_char]\n",
        "\n",
        "for n in range(100):\n",
        "  next_char, states = one_step_reloaded.generate_one_step(next_char, states=states)\n",
        "  result.append(next_char)\n",
        "\n",
        "print(tf.strings.join(result)[0].numpy().decode(\"utf-8\"))"
      ]
    }
  ],
  "metadata": {
    "colab": {
      "provenance": [],
      "authorship_tag": "ABX9TyOd5ayDvnlhJ+8M5Qckq4YE",
      "include_colab_link": true
    },
    "kernelspec": {
      "display_name": "Python 3",
      "name": "python3"
    },
    "language_info": {
      "name": "python"
    }
  },
  "nbformat": 4,
  "nbformat_minor": 0
}