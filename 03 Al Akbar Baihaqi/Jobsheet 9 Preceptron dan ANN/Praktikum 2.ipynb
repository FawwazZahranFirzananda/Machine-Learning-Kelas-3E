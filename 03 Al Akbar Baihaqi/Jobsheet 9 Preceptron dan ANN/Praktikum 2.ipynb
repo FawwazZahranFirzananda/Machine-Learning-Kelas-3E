{
  "nbformat": 4,
  "nbformat_minor": 0,
  "metadata": {
    "colab": {
      "provenance": []
    },
    "kernelspec": {
      "name": "python3",
      "display_name": "Python 3"
    },
    "language_info": {
      "name": "python"
    }
  },
  "cells": [
    {
      "cell_type": "code",
      "execution_count": 1,
      "metadata": {
        "id": "j3HNYW0iQmVJ"
      },
      "outputs": [],
      "source": [
        "from sklearn.datasets import fetch_20newsgroups # download dataset\n",
        "from sklearn.feature_extraction.text import TfidfVectorizer\n",
        "from sklearn.linear_model import Perceptron\n",
        "from sklearn.metrics import f1_score, classification_report"
      ]
    },
    {
      "cell_type": "code",
      "source": [
        "# Memuat kategori yang ingin digunakan\n",
        "categories = ['rec.sport.hockey', 'rec.sport.baseball', 'rec.autos']\n",
        "\n",
        "# Memuat data latih dari dataset 20 newsgroups\n",
        "newsgroups_train = fetch_20newsgroups(subset='train', categories=categories, remove=('headers', 'footers', 'quotes'))\n",
        "\n",
        "# Memuat data uji dari dataset 20 newsgroups\n",
        "newsgroups_test = fetch_20newsgroups(subset='test', categories=categories, remove=('headers', 'footers', 'quotes'))\n"
      ],
      "metadata": {
        "id": "Hu81HnDLS3IF"
      },
      "execution_count": 2,
      "outputs": []
    },
    {
      "cell_type": "code",
      "source": [
        "# Ekstrak Fitur\n",
        "# Mengimport modul TfidfVectorizer dari sklearn.feature_extraction.text yang digunakan untuk mengekstrak fitur teks menggunakan metode TF-IDF.\n",
        "from sklearn.feature_extraction.text import TfidfVectorizer\n",
        "\n",
        "vectorizer = TfidfVectorizer()  # Membuat objek vectorizer untuk mengubah teks menjadi representasi vektor TF-IDF.\n",
        "\n",
        "# Fit fitur\n",
        "# Mengubah teks dari newsgroups_train.data dan newsgroups_test.data menjadi representasi vektor TF-IDF.\n",
        "X_train = vectorizer.fit_transform(newsgroups_train.data)  # Bagian fit_transform() digunakan pada data pelatihan.\n",
        "X_test = vectorizer.transform(newsgroups_test.data)  # Bagian transform() digunakan pada data pengujian.\n",
        "\n",
        "# Fit Model\n",
        "# Mengimport modul Perceptron dari sklearn.linear_model dan modul classification_report dari sklearn.metrics.\n",
        "from sklearn.linear_model import Perceptron\n",
        "from sklearn.metrics import classification_report\n",
        "\n",
        "clf = Perceptron(random_state=11)  # Membuat objek klasifikasi Perceptron dengan nilai random_state=11.\n",
        "clf.fit(X_train, newsgroups_train.target)  # Melatih model pada data pelatihan (X_train) dengan label yang sesuai (newsgroups_train.target).\n",
        "\n",
        "# Prediksi\n",
        "predictions = clf.predict(X_test)  # Menggunakan model yang telah dilatih untuk membuat prediksi pada data pengujian (X_test).\n",
        "\n",
        "# Menampilkan laporan klasifikasi\n",
        "# Mencetak laporan klasifikasi yang berisi metrik evaluasi seperti presisi, recall, f1-score, dan akurasi.\n",
        "print(classification_report(newsgroups_test.target, predictions))\n"
      ],
      "metadata": {
        "colab": {
          "base_uri": "https://localhost:8080/"
        },
        "id": "50Vi7jEmVyI5",
        "outputId": "1242d8b7-8a7f-4235-9387-5d58adb643a4"
      },
      "execution_count": 3,
      "outputs": [
        {
          "output_type": "stream",
          "name": "stdout",
          "text": [
            "              precision    recall  f1-score   support\n",
            "\n",
            "           0       0.88      0.88      0.88       396\n",
            "           1       0.82      0.83      0.83       397\n",
            "           2       0.88      0.87      0.87       399\n",
            "\n",
            "    accuracy                           0.86      1192\n",
            "   macro avg       0.86      0.86      0.86      1192\n",
            "weighted avg       0.86      0.86      0.86      1192\n",
            "\n"
          ]
        }
      ]
    }
  ]
}