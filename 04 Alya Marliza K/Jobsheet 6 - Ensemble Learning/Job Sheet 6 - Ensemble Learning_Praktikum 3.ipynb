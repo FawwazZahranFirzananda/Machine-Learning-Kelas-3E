{
 "cells": [
  {
   "cell_type": "markdown",
   "metadata": {},
   "source": [
    "## **Praktikum 3**"
   ]
  },
  {
   "cell_type": "markdown",
   "metadata": {},
   "source": [
    "### **Stacking**"
   ]
  },
  {
   "cell_type": "markdown",
   "metadata": {},
   "source": [
    "Lengkapi bagian berikut dengan data sesuai tugas, dan tentukan perbedaan nilai akurasi antara Random Forest, Adaboost, dan Stacking"
   ]
  },
  {
   "cell_type": "code",
   "execution_count": 8,
   "metadata": {},
   "outputs": [
    {
     "name": "stdout",
     "output_type": "stream",
     "text": [
      "Akurasi Random Forest: 0.9210526315789473\n",
      "Akurasi Adaboost: 0.9473684210526315\n",
      "Akurasi Stacking: 0.9473684210526315\n",
      "Perbedaan akurasi antara Random Forest dan Stacking: -0.02631578947368418\n",
      "Perbedaan akurasi antara Adaboost dan Stacking: 0.0\n"
     ]
    }
   ],
   "source": [
    "from sklearn.ensemble import RandomForestClassifier, AdaBoostClassifier, StackingClassifier\n",
    "from sklearn.linear_model import LogisticRegression\n",
    "from sklearn.model_selection import train_test_split\n",
    "from sklearn.neighbors import KNeighborsClassifier\n",
    "from sklearn.tree import DecisionTreeClassifier\n",
    "from sklearn.datasets import load_iris \n",
    "\n",
    "# Gantilah X dan y dengan data Anda sesuai tugas\n",
    "data = load_iris()\n",
    "X = data.data  # Fitur-fitur dari data\n",
    "y = data.target  # Label dari data\n",
    "\n",
    "# Buat model-model yang akan digunakan\n",
    "rf_1 = RandomForestClassifier(n_estimators=10, random_state=42)\n",
    "knn_1 = KNeighborsClassifier(n_neighbors=5)\n",
    "dt_2 = DecisionTreeClassifier()\n",
    "rf_2 = RandomForestClassifier(n_estimators=50, random_state=42)\n",
    "\n",
    "# Buat lapisan pertama dari stacking classifier\n",
    "layer_one_estimators = [('rf_1', rf_1), ('knn_1', knn_1)]\n",
    "\n",
    "# Buat lapisan kedua dari stacking classifier\n",
    "layer_two_estimators = [('dt_2', dt_2), ('rf_2', rf_2)]\n",
    "layer_two = StackingClassifier(estimators=layer_two_estimators, final_estimator=LogisticRegression())\n",
    "\n",
    "# Buat stacking classifier utama\n",
    "clf = StackingClassifier(estimators=layer_one_estimators, final_estimator=layer_two)\n",
    "\n",
    "# Bagi data Anda menjadi data pelatihan dan pengujian\n",
    "X_train, X_test, y_train, y_test = train_test_split(X, y, stratify=y, random_state=42)\n",
    "\n",
    "# Latih model stacking dan hitung akurasi pengujian\n",
    "clf.fit(X_train, y_train)\n",
    "stacking_accuracy = clf.score(X_test, y_test)\n",
    "\n",
    "# Buat model Random Forest dan hitung akurasi pengujian\n",
    "rf = RandomForestClassifier(n_estimators=100, random_state=42)\n",
    "rf.fit(X_train, y_train)\n",
    "rf_accuracy = rf.score(X_test, y_test)\n",
    "\n",
    "# Buat model Adaboost dan hitung akurasi pengujian\n",
    "ada = AdaBoostClassifier(n_estimators=100, random_state=42)\n",
    "ada.fit(X_train, y_train)\n",
    "ada_accuracy = ada.score(X_test, y_test)\n",
    "\n",
    "# Hitung perbedaan akurasi antara Random Forest, Adaboost, dan Stacking\n",
    "accuracy_difference_rf_stacking = rf_accuracy - stacking_accuracy\n",
    "accuracy_difference_ada_stacking = ada_accuracy - stacking_accuracy\n",
    "\n",
    "print(f\"Akurasi Random Forest: {rf_accuracy}\")\n",
    "print(f\"Akurasi Adaboost: {ada_accuracy}\")\n",
    "print(f\"Akurasi Stacking: {stacking_accuracy}\")\n",
    "print(f\"Perbedaan akurasi antara Random Forest dan Stacking: {accuracy_difference_rf_stacking}\")\n",
    "print(f\"Perbedaan akurasi antara Adaboost dan Stacking: {accuracy_difference_ada_stacking}\")"
   ]
  }
 ],
 "metadata": {
  "kernelspec": {
   "display_name": "Python 3",
   "language": "python",
   "name": "python3"
  },
  "language_info": {
   "codemirror_mode": {
    "name": "ipython",
    "version": 3
   },
   "file_extension": ".py",
   "mimetype": "text/x-python",
   "name": "python",
   "nbconvert_exporter": "python",
   "pygments_lexer": "ipython3",
   "version": "3.11.5"
  },
  "orig_nbformat": 4
 },
 "nbformat": 4,
 "nbformat_minor": 2
}
