{
 "cells": [
  {
   "cell_type": "markdown",
   "metadata": {},
   "source": [
    "## **Praktikum 2**"
   ]
  },
  {
   "cell_type": "markdown",
   "metadata": {},
   "source": [
    "### **Boosting dengan AdaBoost**"
   ]
  },
  {
   "cell_type": "markdown",
   "metadata": {},
   "source": [
    "Pada kasus ini kita akan menggunakan salah satu metode boosting yaitu AdaBoost untuk mengklasifikasikan jenis bunga Iris. Dalam latihan ini kita akan menggunakan dataset Iris yang sangat lazim digunakan. Latihan ini akan melakukan prediksi memprediksi 3 jenis bunga Iris yaitu, Iris Setosa, Iris Versicolor, dan Iris Virginica berdasarkan panjang dan lebar sepal dan petal.\n",
    "Kita akan membandingkan performa dari algoritma Decision Tree dan AdaBoost pada kasus ini."
   ]
  },
  {
   "cell_type": "markdown",
   "metadata": {},
   "source": [
    "#### **Import Library**"
   ]
  },
  {
   "cell_type": "code",
   "execution_count": null,
   "metadata": {},
   "outputs": [],
   "source": [
    "# Mengimpor pustaka NumPy ke dalam program yang dimana library ini berfungsi untuk komputasi numerik dalam pengolahan data dan array.\n",
    "import numpy as np\n",
    "\n",
    "# Mengimpor pustaka Pandas ke dalam program yang dimana library ini berfungsi untuk memanipulasi dan analisis data tabular.\n",
    "import pandas as pd\n",
    "\n",
    "# Mengimpor modul DecisionTreeClassifier pada pustaka scikit-learn yang berfungsi untuk klasifikasi berdasarkan pohon keputusan.\n",
    "from sklearn.tree import DecisionTreeClassifier # import DT\n",
    "\n",
    "# Mengimpor modul AdaBoostTreeClassifier pada pustaka scikit-learn yang berfungsi untuk meningkatkan kinerja model klasifikasi dengan menggabungkan beberapa model lemah menjadi satu model yang lebih kuat.\n",
    "from sklearn.ensemble import AdaBoostClassifier # import AdaBoost\n",
    "\n",
    "# Mengimpor modul train_test_split pada pustaka scikit-learn yang berfungsi untuk membagi data menjadi subset pelatihan dan subset pengujian.\n",
    "from sklearn.model_selection import train_test_split\n",
    "\n",
    "# Mengimpor modul accuracy_score dan classification_report pada pustaka scikit-learn yang dimana accuracy_score berfungsi sebagai metrik evaluasi untuk mengukur akurasi dari model klasifikasi dan classification_report berfungsi untuk menghasilkan laporan klasifikasi yang berisi metrik-metrik lainnya untuk mengevaluasi kinerja model klasifikasi.\n",
    "from sklearn.metrics import accuracy_score, classification_report\n",
    "\n",
    "# Mengimpor modul LabelEncoder dari pustaka scikit-learn yang berfungsi untuk mengkodekan variabel target (label kelas) yang umumnya berupa string menjadi bilangan bulat, sehingga dapat digunakan dalam pemodelan.\n",
    "from sklearn.preprocessing import LabelEncoder # Kebutuhan encoding label"
   ]
  },
  {
   "cell_type": "markdown",
   "metadata": {},
   "source": [
    "#### **Persiapan Data**"
   ]
  },
  {
   "cell_type": "code",
   "execution_count": 9,
   "metadata": {},
   "outputs": [
    {
     "data": {
      "text/html": [
       "<div>\n",
       "<style scoped>\n",
       "    .dataframe tbody tr th:only-of-type {\n",
       "        vertical-align: middle;\n",
       "    }\n",
       "\n",
       "    .dataframe tbody tr th {\n",
       "        vertical-align: top;\n",
       "    }\n",
       "\n",
       "    .dataframe thead th {\n",
       "        text-align: right;\n",
       "    }\n",
       "</style>\n",
       "<table border=\"1\" class=\"dataframe\">\n",
       "  <thead>\n",
       "    <tr style=\"text-align: right;\">\n",
       "      <th></th>\n",
       "      <th>Id</th>\n",
       "      <th>SepalLengthCm</th>\n",
       "      <th>SepalWidthCm</th>\n",
       "      <th>PetalLengthCm</th>\n",
       "      <th>PetalWidthCm</th>\n",
       "      <th>Species</th>\n",
       "    </tr>\n",
       "  </thead>\n",
       "  <tbody>\n",
       "    <tr>\n",
       "      <th>0</th>\n",
       "      <td>1</td>\n",
       "      <td>5.1</td>\n",
       "      <td>3.5</td>\n",
       "      <td>1.4</td>\n",
       "      <td>0.2</td>\n",
       "      <td>Iris-setosa</td>\n",
       "    </tr>\n",
       "    <tr>\n",
       "      <th>1</th>\n",
       "      <td>2</td>\n",
       "      <td>4.9</td>\n",
       "      <td>3.0</td>\n",
       "      <td>1.4</td>\n",
       "      <td>0.2</td>\n",
       "      <td>Iris-setosa</td>\n",
       "    </tr>\n",
       "    <tr>\n",
       "      <th>2</th>\n",
       "      <td>3</td>\n",
       "      <td>4.7</td>\n",
       "      <td>3.2</td>\n",
       "      <td>1.3</td>\n",
       "      <td>0.2</td>\n",
       "      <td>Iris-setosa</td>\n",
       "    </tr>\n",
       "    <tr>\n",
       "      <th>3</th>\n",
       "      <td>4</td>\n",
       "      <td>4.6</td>\n",
       "      <td>3.1</td>\n",
       "      <td>1.5</td>\n",
       "      <td>0.2</td>\n",
       "      <td>Iris-setosa</td>\n",
       "    </tr>\n",
       "    <tr>\n",
       "      <th>4</th>\n",
       "      <td>5</td>\n",
       "      <td>5.0</td>\n",
       "      <td>3.6</td>\n",
       "      <td>1.4</td>\n",
       "      <td>0.2</td>\n",
       "      <td>Iris-setosa</td>\n",
       "    </tr>\n",
       "  </tbody>\n",
       "</table>\n",
       "</div>"
      ],
      "text/plain": [
       "   Id  SepalLengthCm  SepalWidthCm  PetalLengthCm  PetalWidthCm      Species\n",
       "0   1            5.1           3.5            1.4           0.2  Iris-setosa\n",
       "1   2            4.9           3.0            1.4           0.2  Iris-setosa\n",
       "2   3            4.7           3.2            1.3           0.2  Iris-setosa\n",
       "3   4            4.6           3.1            1.5           0.2  Iris-setosa\n",
       "4   5            5.0           3.6            1.4           0.2  Iris-setosa"
      ]
     },
     "execution_count": 9,
     "metadata": {},
     "output_type": "execute_result"
    }
   ],
   "source": [
    "# Load data\n",
    "# Membaca sebuah berkas CSV dengan menggunakan Pandas. Data dari berkas \"iris.csv\" akan dimuat pada suatu struktur data yaitu DataFrame (df) yang memungkinkan untuk melakukan manipulasi dan analisis lebih lanjut pada data tersebut.\n",
    "df = pd.read_csv('iris.csv')\n",
    "\n",
    "# Berfungsi untuk mencetak lima baris pertama dari DataFrame (df) lalu menampilkan sampel data dan memeriksa data terlihat, dilanjut dengan fungsi \"head()\" yang dimana menampilkan kolom-kolom awal dari data.\n",
    "df.head()"
   ]
  },
  {
   "cell_type": "code",
   "execution_count": 10,
   "metadata": {},
   "outputs": [
    {
     "data": {
      "text/plain": [
       "Id               0\n",
       "SepalLengthCm    0\n",
       "SepalWidthCm     0\n",
       "PetalLengthCm    0\n",
       "PetalWidthCm     0\n",
       "Species          0\n",
       "dtype: int64"
      ]
     },
     "execution_count": 10,
     "metadata": {},
     "output_type": "execute_result"
    }
   ],
   "source": [
    "# Cek kolom null\n",
    "# Berfungsi untuk membaca berkas CSV yang dimana terdapat data yang bernilai null dan \"isnull()\" berfungsi untuk mengidentifikasi setiap elemen pada DataFrame adalah null atau bukan. Lalu untuk \"sum()\" berfungsi menghitung jumlah nilai 'True' (nilai null) dalam setiap DataFrame.\n",
    "df.isnull().sum()"
   ]
  },
  {
   "cell_type": "code",
   "execution_count": 11,
   "metadata": {},
   "outputs": [
    {
     "name": "stdout",
     "output_type": "stream",
     "text": [
      "(150, 3)\n",
      "[0 0 0 0 0 0 0 0 0 0 0 0 0 0 0 0 0 0 0 0 0 0 0 0 0 0 0 0 0 0 0 0 0 0 0 0 0\n",
      " 0 0 0 0 0 0 0 0 0 0 0 0 0 1 1 1 1 1 1 1 1 1 1 1 1 1 1 1 1 1 1 1 1 1 1 1 1\n",
      " 1 1 1 1 1 1 1 1 1 1 1 1 1 1 1 1 1 1 1 1 1 1 1 1 1 1 2 2 2 2 2 2 2 2 2 2 2\n",
      " 2 2 2 2 2 2 2 2 2 2 2 2 2 2 2 2 2 2 2 2 2 2 2 2 2 2 2 2 2 2 2 2 2 2 2 2 2\n",
      " 2 2]\n"
     ]
    }
   ],
   "source": [
    "# Seleksi fitur\n",
    "# Berfungsi untuk mengambil subset dari DataFrame (df) yang dimana operasi ini memilih baris-baris dan kolom-kolom yang akan digunakan untuk analisis lebih lanjut.\n",
    "X = df.iloc[:,2:-1]\n",
    "\n",
    "# Berfungsi untuk mengambil kolom 'Species' dari DataFrame (df) yang dimana kolom ini berisi label/target yang akan diprediksi dalam analisis.\n",
    "y = df['Species']\n",
    "\n",
    "# encode label\n",
    "ec = LabelEncoder()\n",
    "y = ec.fit_transform(y)\n",
    "\n",
    "# Cek jumlah fitur dan instance\n",
    "print(X.shape)\n",
    "\n",
    "# Cek label\n",
    "print(y)"
   ]
  },
  {
   "cell_type": "markdown",
   "metadata": {},
   "source": [
    "#### **Split data training dan testing**"
   ]
  },
  {
   "cell_type": "code",
   "execution_count": 12,
   "metadata": {},
   "outputs": [],
   "source": [
    "# # Mengimpor modul train_test_split pada pustaka scikit-learn yang berfungsi untuk membagi data menjadi subset pelatihan dan subset pengujian.\n",
    "from sklearn.model_selection import train_test_split\n",
    "\n",
    "# Berfungsi untuk memanggil fungsi train_test_split.\n",
    "X_train, X_test, y_train, y_test = train_test_split(X, y, test_size=0.2, random_state=1)"
   ]
  },
  {
   "cell_type": "markdown",
   "metadata": {},
   "source": [
    "#### **Training Decision Tree**"
   ]
  },
  {
   "cell_type": "code",
   "execution_count": 13,
   "metadata": {},
   "outputs": [
    {
     "name": "stdout",
     "output_type": "stream",
     "text": [
      "Test set accuracy: 0.97\n",
      "Test set accuracy: 0.9666666666666667\n"
     ]
    }
   ],
   "source": [
    "# Secara default, DecisionTreeClassifier dari scikit-learn akan menggunakan nilai \"Gini\" untuk kriteria\n",
    "# Terdapat beberapa \"hyperparamater\" yang dapat digunakan. Silahka baca dokumentasi\n",
    "# Pada kasus ini kita akan menggunakan parameter default\n",
    "\n",
    "# Berfungsi untuk membuat objek dari kelas DecisionTreeClassifier.\n",
    "dt = DecisionTreeClassifier()\n",
    "\n",
    "# Sesuaikan dt ke set training\n",
    "dt.fit(X_train, y_train)\n",
    "\n",
    "# Memprediksi label set test\n",
    "y_pred_dt = dt.predict(X_test)\n",
    "\n",
    "#  menghitung set accuracy\n",
    "# Berfungsi untuk menghitung akurasi model pada set pengujian.\n",
    "acc_dt = accuracy_score(y_test, y_pred_dt)\n",
    "\n",
    "# Berfungsi untuk mencetak akurasi model pada set pengujian dengan dua angka desimal.\n",
    "print(\"Test set accuracy: {:.2f}\".format(acc_dt))\n",
    "\n",
    "# Berfungsi untuk mencetak akurasi model pada set pengujian tanpa desimal.\n",
    "print(f\"Test set accuracy: {acc_dt}\")"
   ]
  },
  {
   "cell_type": "markdown",
   "metadata": {},
   "source": [
    "#### **Training AdaBoost**"
   ]
  },
  {
   "cell_type": "code",
   "execution_count": 14,
   "metadata": {},
   "outputs": [
    {
     "name": "stdout",
     "output_type": "stream",
     "text": [
      "Test set accuracy: 0.97\n",
      "Test set accuracy: 0.9666666666666667\n"
     ]
    }
   ],
   "source": [
    "# Pada kasus kali ini kita akan menggunakan estimator pada AdaBoost\n",
    "# Untuk detail parameter (hyperparameter) silahkan cek dokumentasi\n",
    "\n",
    "# Berfungsi untuk membuat model klasifikasi dengan algoritma \"AdaBoost\". \"AdaBoost\" adalah singkatan dari \"Adaptive Boosting\", sebuah metode ensemble yang menggabungkan beberapa model lemah untuk membuat model kuat.\n",
    "ada = AdaBoostClassifier(n_estimators=2)\n",
    "\n",
    "# Sesuaikan dt ke set training\n",
    "ada.fit(X_train, y_train)\n",
    "\n",
    "# Memprediksi label set test\n",
    "y_pred_ada = ada.predict(X_test)\n",
    "\n",
    "#  menghitung set accuracy\n",
    "# Berfungsi untuk menghitung akurasi model pada set pengujian.\n",
    "acc_ada = accuracy_score(y_test, y_pred_ada)\n",
    "\n",
    "# Berfungsi untuk mencetak akurasi model pada set pengujian dengan dua angka desimal.\n",
    "print(\"Test set accuracy: {:.2f}\".format(acc_ada))\n",
    "\n",
    "# Berfungsi untuk mencetak akurasi model pada set pengujian tanpa desimal.\n",
    "print(f\"Test set accuracy: {acc_ada}\")"
   ]
  }
 ],
 "metadata": {
  "kernelspec": {
   "display_name": "Python 3",
   "language": "python",
   "name": "python3"
  },
  "language_info": {
   "codemirror_mode": {
    "name": "ipython",
    "version": 3
   },
   "file_extension": ".py",
   "mimetype": "text/x-python",
   "name": "python",
   "nbconvert_exporter": "python",
   "pygments_lexer": "ipython3",
   "version": "3.11.5"
  },
  "orig_nbformat": 4
 },
 "nbformat": 4,
 "nbformat_minor": 2
}
