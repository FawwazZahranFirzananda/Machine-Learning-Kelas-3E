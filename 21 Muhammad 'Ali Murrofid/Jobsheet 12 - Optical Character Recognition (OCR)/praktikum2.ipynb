{
 "cells": [
  {
   "attachments": {},
   "cell_type": "markdown",
   "metadata": {},
   "source": [
    "## **Praktikum 2**\n",
    "Mendapatkan bounding box di sekitar teks pada image\n",
    "\n",
    "**Deskripsi**\n",
    "Saat menjalankan gambar melalui mesin Tesseract OCR, pytesseract memungkinkan pengguna untuk memperoleh informasi bounding box pada:\n",
    "1. Tingkat karakter,\n",
    "2. Tingkat kata,\n",
    "3. Berdasarkan pola regex.\n",
    "\n",
    "Pada praktikum ini, akan dijelaskan cara memperoleh kedua jenis informasi tersebut.\n",
    "\n",
    "**Bounding Box - Level Karakter**\n",
    "\n",
    "Dengan menggunakan Pytesseract, Anda dapat memperoleh informasi bounding box untuk hasil OCR dengan menggunakan kode berikut.\n",
    "\n",
    "Skrip di bawah ini akan memberikan informasi bounding box untuk setiap karakter yang terdeteksi oleh tesseract selama proses OCR."
   ]
  },
  {
   "cell_type": "code",
   "execution_count": null,
   "metadata": {},
   "outputs": [],
   "source": [
    "# Plot gambar original\n",
    "\n",
    "# Membaca gambar dari direktori\n",
    "image = cv2.imread(IMG_DIR + 'invoice-sample.jpg')\n",
    "\n",
    "# Memisahkan saluran warna (blue, green, red) karena matplotlib menggunakan skema warna RGB\n",
    "b, g, r = cv2.split(image)\n",
    "rgb_img = cv2.merge([r, g, b])\n",
    "\n",
    "# Menampilkan gambar dalam ukuran tertentu\n",
    "plt.figure(figsize=(16, 12))\n",
    "plt.imshow(rgb_img)\n",
    "plt.title('CONTOH GAMBAR INVOICE')\n",
    "plt.show()"
   ]
  }
 ],
 "metadata": {
  "language_info": {
   "name": "python"
  },
  "orig_nbformat": 4
 },
 "nbformat": 4,
 "nbformat_minor": 2
}
