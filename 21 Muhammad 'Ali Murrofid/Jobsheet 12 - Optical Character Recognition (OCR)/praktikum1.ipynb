{
 "cells": [
  {
   "attachments": {},
   "cell_type": "markdown",
   "metadata": {},
   "source": [
    "## **Praktikum 1**\n",
    "OCR with Pytesseract and OpenCV\n",
    "\n",
    "**Deskripsi**\n",
    "\n",
    "Pada praktikum ini kita akan menerapkan teknik OCR dengan menggunakan tesseract dan openCV. Pytesseract or Python-tesseract merupakan alat OCR untuk Python yang juga berfungsi sebagai pembungkus untuk Mesin OCR Tesseract. Ia dapat membaca dan mengenali teks dalam gambar dan umumnya digunakan dalam kasus penggunaan ocr gambar ke teks menggunakan Python.\n",
    "Selain itu juga berguna sebagai skrip panggilan mandiri untuk tesseract, karena dapat membaca semua jenis gambar yang didukung oleh perpustakaan gambar Pillow dan Leptonica, termasuk jpeg, png, gif, bmp, tiff, dan lainnya.\n",
    "referensi lebih lengkap terkait pendekatan Python-tesseract dapat dibaca di .\n",
    "\n",
    "**Dataset**\n",
    "\n",
    "Dataset merupakan data citra yang digunakan dalam praktikum ini, pastikan koneksi Anda sebelum mengunduh dataset.\n",
    "\n",
    "**Instalasi dan Import Library**"
   ]
  },
  {
   "cell_type": "code",
   "execution_count": null,
   "metadata": {},
   "outputs": [],
   "source": [
    "!sudo apt install tesseract-ocr\n",
    "!pip install pytesseract\n",
    "!apt-get install -y poppler-utils"
   ]
  }
 ],
 "metadata": {
  "language_info": {
   "name": "python"
  },
  "orig_nbformat": 4
 },
 "nbformat": 4,
 "nbformat_minor": 2
}
