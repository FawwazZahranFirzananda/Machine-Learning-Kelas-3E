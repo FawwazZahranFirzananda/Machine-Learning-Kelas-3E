{
 "cells": [
  {
   "attachments": {},
   "cell_type": "markdown",
   "metadata": {},
   "source": [
    "1. akukan klasifikasi pada data MNIST dengan menggunakan model ANN\n",
    "\n",
    "2. Anda diperbolehkan melakukan eksplorasi terhadap,\n",
    "\t- Metode pra pengolahan\n",
    "\t- Pemilihan fitur\n",
    "\t- Arsitektur ANN\n",
    "\t- Fungsi Aktiviasi\n",
    "\n",
    "3. ANN diimplementasikan dengan menggunakan tensorflow.\n",
    "\n",
    "4. JELASKAN HASIL YANG ANDA DAPATKAN,\n",
    "\t- AKURASI\n",
    "\t- CONFUSION MATRIX\n",
    "\t- KONFIGURASI MODEL --> MULAI DARI PRA PENGOLAHAN SAMPAI ARSITEKTUR ANN"
   ]
  },
  {
   "cell_type": "code",
   "execution_count": null,
   "metadata": {},
   "outputs": [],
   "source": [
    "# Import Library\n",
    "import numpy as np\n",
    "import pandas as pd\n",
    "import tensorflow as tf"
   ]
  }
 ],
 "metadata": {
  "language_info": {
   "name": "python"
  },
  "orig_nbformat": 4
 },
 "nbformat": 4,
 "nbformat_minor": 2
}
