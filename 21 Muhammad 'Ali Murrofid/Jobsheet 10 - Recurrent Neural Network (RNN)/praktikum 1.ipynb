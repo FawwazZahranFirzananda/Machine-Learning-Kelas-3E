{
  "cells": [
    {
      "cell_type": "code",
      "source": [
        "import numpy as np\n",
        "import tensorflow_datasets as tfds\n",
        "import tensorflow as tf\n",
        "\n",
        "tfds.disable_progress_bar()"
      ],
      "metadata": {
        "id": "22ZWr5Rs1yKx"
      },
      "execution_count": 1,
      "outputs": []
    },
    {
      "cell_type": "code",
      "source": [
        "import matplotlib.pyplot as plt\n",
        "\n",
        "def plot_graphs(history, metric):\n",
        "  plt.plot(history.history[metric])\n",
        "  plt.plot(history.history['val_'+metric], '')\n",
        "  plt.xlabel(\"Epochs\")\n",
        "  plt.ylabel(metric)\n",
        "  plt.legend([metric, 'val_'+metric])"
      ],
      "metadata": {
        "id": "ANtfJM6f16tV"
      },
      "execution_count": 5,
      "outputs": []
    },
    {
      "cell_type": "code",
      "source": [
        "dataset, info = tfds.load('imdb_reviews', with_info=True,\n",
        "                          as_supervised=True)\n",
        "train_dataset, test_dataset = dataset['train'], dataset['test']\n",
        "\n",
        "train_dataset.element_spec"
      ],
      "metadata": {
        "id": "DdyOPzXA2TyT",
        "outputId": "43c5b9fe-f78f-4e1b-ce2f-7d3f0b10f039",
        "colab": {
          "base_uri": "https://localhost:8080/"
        }
      },
      "execution_count": 6,
      "outputs": [
        {
          "output_type": "stream",
          "name": "stdout",
          "text": [
            "Downloading and preparing dataset 80.23 MiB (download: 80.23 MiB, generated: Unknown size, total: 80.23 MiB) to /root/tensorflow_datasets/imdb_reviews/plain_text/1.0.0...\n",
            "Dataset imdb_reviews downloaded and prepared to /root/tensorflow_datasets/imdb_reviews/plain_text/1.0.0. Subsequent calls will reuse this data.\n"
          ]
        },
        {
          "output_type": "execute_result",
          "data": {
            "text/plain": [
              "(TensorSpec(shape=(), dtype=tf.string, name=None),\n",
              " TensorSpec(shape=(), dtype=tf.int64, name=None))"
            ]
          },
          "metadata": {},
          "execution_count": 6
        }
      ]
    },
    {
      "cell_type": "code",
      "source": [
        "for example, label in train_dataset.take(1):\n",
        "  print('text: ', example.numpy())\n",
        "  print('label: ', label.numpy())"
      ],
      "metadata": {
        "id": "WrJKpkYf2nnw",
        "outputId": "e6dd8efa-09b7-43ac-c7ff-a68e768eef4b",
        "colab": {
          "base_uri": "https://localhost:8080/"
        }
      },
      "execution_count": 7,
      "outputs": [
        {
          "output_type": "stream",
          "name": "stdout",
          "text": [
            "text:  b\"This was an absolutely terrible movie. Don't be lured in by Christopher Walken or Michael Ironside. Both are great actors, but this must simply be their worst role in history. Even their great acting could not redeem this movie's ridiculous storyline. This movie is an early nineties US propaganda piece. The most pathetic scenes were those when the Columbian rebels were making their cases for revolutions. Maria Conchita Alonso appeared phony, and her pseudo-love affair with Walken was nothing but a pathetic emotional plug in a movie that was devoid of any real meaning. I am disappointed that there are movies like this, ruining actor's like Christopher Walken's good name. I could barely sit through it.\"\n",
            "label:  0\n"
          ]
        }
      ]
    },
    {
      "cell_type": "code",
      "source": [
        "BUFFER_SIZE = 10000\n",
        "BATCH_SIZE = 64\n",
        "\n",
        "train_dataset = train_dataset.shuffle(BUFFER_SIZE).batch(BATCH_SIZE).prefetch(tf.data.AUTOTUNE)\n",
        "test_dataset = test_dataset.batch(BATCH_SIZE).prefetch(tf.data.AUTOTUNE)\n",
        "\n",
        "for example, label in train_dataset.take(1):\n",
        "  print('texts: ', example.numpy()[:3])\n",
        "  print()\n",
        "  print('labels: ', label.numpy()[:3])"
      ],
      "metadata": {
        "id": "EJYP0YIz2u19",
        "outputId": "4ea514b2-8090-4a94-815c-89c743f0a2b9",
        "colab": {
          "base_uri": "https://localhost:8080/"
        }
      },
      "execution_count": 8,
      "outputs": [
        {
          "output_type": "stream",
          "name": "stdout",
          "text": [
            "texts:  [b'I am the guy who usually keeps opinions to himself, but I just got back from this movie, and felt I had to express my opinions. Let me start by saying that I am a HUGE horror fan. But what makes a horror movie? I sure like to see even a tiny bit of a good script and character development. I know they often lack in horror movies, but Prom Night looked like it didn\\'t even put forth ANY effort in that department. Next, we all love suspense. That on the edge of your seat suspense with unpredictable surprises. Yeah, Prom Night had none of that! Of course, we like a terrifying killer. Prom Night have that? Nope, it has a pretty boy with a cute lil\\' knife. And when all else fails...at least horror has its guilty pleasure to make it enjoyable like gore gore gore, and the occasional nude scene! Yeah, well when you have a horror movie rated PG-13 like Prom Night, they leave that stuff out too. So with all of these elements missing, I ask....does this still count as a horror movie? Nope. I\\'d call it more of a comedy. People in my theater were laughing more at this then they were when I saw \"Semi-Pro\" that was supposed to actually be a comedy (which also sucked, but thats another story!). I think I am just going to have to give up on new horror. All the good horror movies of the good ol\\' days have been remade into garbage so movie studios can make money. The people I went to see it with didn\\'t even know this was a remake! Which made me mad! I wonder what will happen when there\\'s no more movies to remake??? Where will horror go next???'\n",
            " b\"This game was made by Sega. Being made by Sega I didn't expect much, but I also didn't expect this junk either. For starters the camera angles work against you in this game. The motorcycle is your means of getting around. The motorcycle is the worst part in the game. Whenever you run in to something you just stick there and you don't move. You never fall off the bike or wreck for that matter. The main character hardly talks even though he's got a voice that suits him. The graphics are horrible. You ride through trees on your bike. The camera makes fighting the enemy impossible. This game wouldn't even be worth renting.\"\n",
            " b\"This is a low-budget spoof of the espionage genre. To help frame your expectations, you should know that: (1) The acting is wildly heavy-handed. The stars are having great fun delivering their lines with excessive eye movement, frequent hand gestures, and off-key pacing. (2) The script deliberately lacks continuity and plausibility. Oftentimes lines are abruptly jarring and humorous because they have absolutely no relevance to previous plot elements. (3) Shots are frequently framed in off-balance angles, poking fun at genre excesses. (4) A pop-eyed Jeff Goldblum delivers complex and classically preposterous dialog in a winningly sarcastic manner.<br /><br />The film has a guiding intelligence, deliberately starting with a plot element stolen from the B-films of the 1930's: a secret code with a structure that would defy explanation by Carl Sagan. The film's over-the-top acting is used mostly for comic effect during the first 90 minutes. In an early running gag, Fay Grim's son Ned is so frequently told to leave that you can't help chuckling while feeling sorry for the lad. Parker Posey's nicely choreographed fall from bed also helps set a humorous tone early in the film.<br /><br />The film's slow pacing does not enhance the comedy elements or the drama elements that later emerge. The film's impact as drama is significantly lessened by the early comedy. Moreover, it is hard to be overly involved with the characters and their fates when the early portions of the film are so sarcastic. The musical score is intentionally heavy handed, and I found this (and the off-kilter camera angles) more irritating than humorous.<br /><br />The over-the-top acting, the implausible and nearly incomprehensible plot of conspiracies/counter conspiracies, and the slow pacing will grind on many viewers. The movie is much too long at 158 minutes.<br /><br />That said, fans who are receptive to the film's sarcasm might want to watch again ... using closed captioning to best catch the intelligent ridiculousness of the dialog. The film was too slow for me and the sarcasm felt more heavy-handed than light-hearted. But, the comedy may well appeal to your tastes. The film is worth a view for those who enjoy independent films, fans of director Hal Harley, or devotees of Parker Posey (who has the most camera time).\"]\n",
            "\n",
            "labels:  [0 0 0]\n"
          ]
        }
      ]
    },
    {
      "cell_type": "markdown",
      "source": [
        "### Buat Teks Encoder"
      ],
      "metadata": {
        "id": "FYtagpqW202s"
      }
    },
    {
      "cell_type": "code",
      "source": [
        "VOCAB_SIZE = 1000\n",
        "encoder = tf.keras.layers.TextVectorization(\n",
        "    max_tokens=VOCAB_SIZE)\n",
        "encoder.adapt(train_dataset.map(lambda text, label: text))"
      ],
      "metadata": {
        "id": "jRLfJBBN24_T"
      },
      "execution_count": 9,
      "outputs": []
    },
    {
      "cell_type": "code",
      "source": [
        "vocab = np.array(encoder.get_vocabulary())\n",
        "vocab[:20]"
      ],
      "metadata": {
        "id": "nYnsYMmv3FXA",
        "outputId": "016833b5-8110-44f4-ae38-1b782a52718e",
        "colab": {
          "base_uri": "https://localhost:8080/"
        }
      },
      "execution_count": 12,
      "outputs": [
        {
          "output_type": "execute_result",
          "data": {
            "text/plain": [
              "array(['', '[UNK]', 'the', 'and', 'a', 'of', 'to', 'is', 'in', 'it', 'i',\n",
              "       'this', 'that', 'br', 'was', 'as', 'for', 'with', 'movie', 'but'],\n",
              "      dtype='<U14')"
            ]
          },
          "metadata": {},
          "execution_count": 12
        }
      ]
    },
    {
      "cell_type": "code",
      "source": [
        "encoded_example = encoder(example)[:3].numpy()\n",
        "encoded_example"
      ],
      "metadata": {
        "id": "TdZiGIke3YVk",
        "outputId": "03a97f36-f990-4cca-e3dc-f82b5a456cff",
        "colab": {
          "base_uri": "https://localhost:8080/"
        }
      },
      "execution_count": 14,
      "outputs": [
        {
          "output_type": "execute_result",
          "data": {
            "text/plain": [
              "array([[ 10, 237,   2, ...,   0,   0,   0],\n",
              "       [ 11, 503,  14, ...,   0,   0,   0],\n",
              "       [ 11,   7,   4, ...,   0,   0,   0]])"
            ]
          },
          "metadata": {},
          "execution_count": 14
        }
      ]
    },
    {
      "cell_type": "code",
      "source": [
        "for n in range(3):\n",
        "  print(\"Original: \", example[n].numpy())\n",
        "  print(\"Round-trip: \", \" \".join(vocab[encoded_example[n]]))\n",
        "  print()"
      ],
      "metadata": {
        "id": "FTiZKDg13hcd",
        "outputId": "f7c4f150-7e17-4626-a28c-28c4eb6d7fa7",
        "colab": {
          "base_uri": "https://localhost:8080/"
        }
      },
      "execution_count": 15,
      "outputs": [
        {
          "output_type": "stream",
          "name": "stdout",
          "text": [
            "Original:  b'I am the guy who usually keeps opinions to himself, but I just got back from this movie, and felt I had to express my opinions. Let me start by saying that I am a HUGE horror fan. But what makes a horror movie? I sure like to see even a tiny bit of a good script and character development. I know they often lack in horror movies, but Prom Night looked like it didn\\'t even put forth ANY effort in that department. Next, we all love suspense. That on the edge of your seat suspense with unpredictable surprises. Yeah, Prom Night had none of that! Of course, we like a terrifying killer. Prom Night have that? Nope, it has a pretty boy with a cute lil\\' knife. And when all else fails...at least horror has its guilty pleasure to make it enjoyable like gore gore gore, and the occasional nude scene! Yeah, well when you have a horror movie rated PG-13 like Prom Night, they leave that stuff out too. So with all of these elements missing, I ask....does this still count as a horror movie? Nope. I\\'d call it more of a comedy. People in my theater were laughing more at this then they were when I saw \"Semi-Pro\" that was supposed to actually be a comedy (which also sucked, but thats another story!). I think I am just going to have to give up on new horror. All the good horror movies of the good ol\\' days have been remade into garbage so movie studios can make money. The people I went to see it with didn\\'t even know this was a remake! Which made me mad! I wonder what will happen when there\\'s no more movies to remake??? Where will horror go next???'\n",
            "Round-trip:  i am the guy who usually keeps [UNK] to himself but i just got back from this movie and felt i had to [UNK] my [UNK] let me start by saying that i am a huge horror fan but what makes a horror movie i sure like to see even a [UNK] bit of a good script and character development i know they often lack in horror movies but [UNK] night looked like it didnt even put [UNK] any effort in that [UNK] next we all love suspense that on the [UNK] of your [UNK] suspense with [UNK] [UNK] [UNK] [UNK] night had none of that of course we like a [UNK] killer [UNK] night have that [UNK] it has a pretty boy with a [UNK] [UNK] [UNK] and when all else [UNK] least horror has its [UNK] [UNK] to make it enjoyable like gore gore gore and the [UNK] [UNK] scene [UNK] well when you have a horror movie [UNK] [UNK] like [UNK] night they leave that stuff out too so with all of these elements missing i [UNK] this still [UNK] as a horror movie [UNK] id call it more of a comedy people in my theater were [UNK] more at this then they were when i saw [UNK] that was supposed to actually be a comedy which also [UNK] but thats another story i think i am just going to have to give up on new horror all the good horror movies of the good [UNK] days have been [UNK] into [UNK] so movie [UNK] can make money the people i went to see it with didnt even know this was a remake which made me [UNK] i wonder what will happen when theres no more movies to remake where will horror go next                                                                                                                                                                                                                                                                                                                                                                                                                                                                                                                                                                                                                                                                         \n",
            "\n",
            "Original:  b\"This game was made by Sega. Being made by Sega I didn't expect much, but I also didn't expect this junk either. For starters the camera angles work against you in this game. The motorcycle is your means of getting around. The motorcycle is the worst part in the game. Whenever you run in to something you just stick there and you don't move. You never fall off the bike or wreck for that matter. The main character hardly talks even though he's got a voice that suits him. The graphics are horrible. You ride through trees on your bike. The camera makes fighting the enemy impossible. This game wouldn't even be worth renting.\"\n",
            "Round-trip:  this game was made by [UNK] being made by [UNK] i didnt expect much but i also didnt expect this [UNK] either for [UNK] the camera [UNK] work against you in this game the [UNK] is your means of getting around the [UNK] is the worst part in the game [UNK] you run in to something you just [UNK] there and you dont move you never fall off the [UNK] or [UNK] for that matter the main character hardly [UNK] even though hes got a voice that [UNK] him the [UNK] are horrible you [UNK] through [UNK] on your [UNK] the camera makes fighting the [UNK] [UNK] this game wouldnt even be worth [UNK]                                                                                                                                                                                                                                                                                                                                                                                                                                                                                                                                                                                                                                                                                                                                                                                                                                                                \n",
            "\n",
            "Original:  b\"This is a low-budget spoof of the espionage genre. To help frame your expectations, you should know that: (1) The acting is wildly heavy-handed. The stars are having great fun delivering their lines with excessive eye movement, frequent hand gestures, and off-key pacing. (2) The script deliberately lacks continuity and plausibility. Oftentimes lines are abruptly jarring and humorous because they have absolutely no relevance to previous plot elements. (3) Shots are frequently framed in off-balance angles, poking fun at genre excesses. (4) A pop-eyed Jeff Goldblum delivers complex and classically preposterous dialog in a winningly sarcastic manner.<br /><br />The film has a guiding intelligence, deliberately starting with a plot element stolen from the B-films of the 1930's: a secret code with a structure that would defy explanation by Carl Sagan. The film's over-the-top acting is used mostly for comic effect during the first 90 minutes. In an early running gag, Fay Grim's son Ned is so frequently told to leave that you can't help chuckling while feeling sorry for the lad. Parker Posey's nicely choreographed fall from bed also helps set a humorous tone early in the film.<br /><br />The film's slow pacing does not enhance the comedy elements or the drama elements that later emerge. The film's impact as drama is significantly lessened by the early comedy. Moreover, it is hard to be overly involved with the characters and their fates when the early portions of the film are so sarcastic. The musical score is intentionally heavy handed, and I found this (and the off-kilter camera angles) more irritating than humorous.<br /><br />The over-the-top acting, the implausible and nearly incomprehensible plot of conspiracies/counter conspiracies, and the slow pacing will grind on many viewers. The movie is much too long at 158 minutes.<br /><br />That said, fans who are receptive to the film's sarcasm might want to watch again ... using closed captioning to best catch the intelligent ridiculousness of the dialog. The film was too slow for me and the sarcasm felt more heavy-handed than light-hearted. But, the comedy may well appeal to your tastes. The film is worth a view for those who enjoy independent films, fans of director Hal Harley, or devotees of Parker Posey (who has the most camera time).\"\n",
            "Round-trip:  this is a [UNK] [UNK] of the [UNK] genre to help [UNK] your [UNK] you should know that 1 the acting is [UNK] [UNK] the stars are having great fun [UNK] their lines with [UNK] eye [UNK] [UNK] hand [UNK] and [UNK] [UNK] 2 the script [UNK] [UNK] [UNK] and [UNK] [UNK] lines are [UNK] [UNK] and [UNK] because they have absolutely no [UNK] to previous plot elements 3 shots are [UNK] [UNK] in [UNK] [UNK] [UNK] fun at genre [UNK] 4 a [UNK] [UNK] [UNK] [UNK] [UNK] and [UNK] [UNK] dialog in a [UNK] [UNK] [UNK] br the film has a [UNK] [UNK] [UNK] [UNK] with a plot [UNK] [UNK] from the [UNK] of the [UNK] a secret [UNK] with a [UNK] that would [UNK] [UNK] by [UNK] [UNK] the films [UNK] acting is used mostly for comic effect during the first [UNK] minutes in an early running [UNK] [UNK] [UNK] son [UNK] is so [UNK] told to leave that you cant help [UNK] while feeling sorry for the [UNK] [UNK] [UNK] [UNK] [UNK] fall from [UNK] also [UNK] set a [UNK] [UNK] early in the filmbr br the films slow [UNK] does not [UNK] the comedy elements or the drama elements that later [UNK] the films [UNK] as drama is [UNK] [UNK] by the early comedy [UNK] it is hard to be [UNK] involved with the characters and their [UNK] when the early [UNK] of the film are so [UNK] the musical score is [UNK] [UNK] [UNK] and i found this and the [UNK] camera [UNK] more [UNK] than [UNK] br the [UNK] acting the [UNK] and nearly [UNK] plot of [UNK] [UNK] and the slow [UNK] will [UNK] on many viewers the movie is much too long at [UNK] [UNK] br that said fans who are [UNK] to the films [UNK] might want to watch again using [UNK] [UNK] to best [UNK] the [UNK] [UNK] of the dialog the film was too slow for me and the [UNK] felt more [UNK] than [UNK] but the comedy may well [UNK] to your [UNK] the film is worth a view for those who enjoy [UNK] films fans of director [UNK] [UNK] or [UNK] of [UNK] [UNK] who has the most camera time                                                                                                                                                                                                                                                                                                                                                                                                                                                                                                                                                                                             \n",
            "\n"
          ]
        }
      ]
    },
    {
      "cell_type": "code",
      "source": [
        "model = tf.keras.Sequential([\n",
        "    encoder,\n",
        "    tf.keras.layers.Embedding(\n",
        "        input_dim=len(encoder.get_vocabulary()),\n",
        "        output_dim=64,\n",
        "        # Use masking to handle the variable sequence lengths\n",
        "        mask_zero=True),\n",
        "    tf.keras.layers.Bidirectional(tf.keras.layers.LSTM(64)),\n",
        "    tf.keras.layers.Dense(64, activation='relu'),\n",
        "    tf.keras.layers.Dense(1)\n",
        "])"
      ],
      "metadata": {
        "id": "ym8eBoig3qdY"
      },
      "execution_count": 16,
      "outputs": []
    },
    {
      "cell_type": "code",
      "source": [
        "print([layer.supports_masking for layer in model.layers])"
      ],
      "metadata": {
        "id": "eVC4qBnR3v2e",
        "outputId": "9e271456-9aa8-4a7a-a2d8-2057f5b45f52",
        "colab": {
          "base_uri": "https://localhost:8080/"
        }
      },
      "execution_count": 18,
      "outputs": [
        {
          "output_type": "stream",
          "name": "stdout",
          "text": [
            "[False, True, True, True, True]\n"
          ]
        }
      ]
    },
    {
      "cell_type": "code",
      "source": [
        "# predict on a sample text without padding.\n",
        "\n",
        "sample_text = ('The movie was cool. The animation and the graphics '\n",
        "               'were out of this world. I would recommend this movie.')\n",
        "predictions = model.predict(np.array([sample_text]))\n",
        "print(predictions[0])"
      ],
      "metadata": {
        "id": "SiY20sUr32Eg",
        "outputId": "207d1166-a62a-4b1d-d882-f7dcdd4ed60b",
        "colab": {
          "base_uri": "https://localhost:8080/"
        }
      },
      "execution_count": 19,
      "outputs": [
        {
          "output_type": "stream",
          "name": "stdout",
          "text": [
            "1/1 [==============================] - 3s 3s/step\n",
            "[0.00769014]\n"
          ]
        }
      ]
    },
    {
      "cell_type": "code",
      "source": [
        "# predict on a sample text with padding\n",
        "\n",
        "padding = \"the \" * 2000\n",
        "predictions = model.predict(np.array([sample_text, padding]))\n",
        "print(predictions[0])"
      ],
      "metadata": {
        "id": "wYx5he2R4FQB",
        "outputId": "ff42647c-f379-465b-9e1f-2896d5ef1185",
        "colab": {
          "base_uri": "https://localhost:8080/"
        }
      },
      "execution_count": 20,
      "outputs": [
        {
          "output_type": "stream",
          "name": "stdout",
          "text": [
            "1/1 [==============================] - 1s 1s/step\n",
            "[0.00769014]\n"
          ]
        }
      ]
    },
    {
      "cell_type": "code",
      "source": [
        "model.compile(loss=tf.keras.losses.BinaryCrossentropy(from_logits=True),\n",
        "              optimizer=tf.keras.optimizers.Adam(1e-4),\n",
        "              metrics=['accuracy'])"
      ],
      "metadata": {
        "id": "v4QVD-Q94K-L"
      },
      "execution_count": 21,
      "outputs": []
    },
    {
      "cell_type": "markdown",
      "source": [
        "### Train Model"
      ],
      "metadata": {
        "id": "0Kr6Hn0J4Nyu"
      }
    }
  ],
  "metadata": {
    "kernelspec": {
      "display_name": "base",
      "language": "python",
      "name": "python3"
    },
    "language_info": {
      "codemirror_mode": {
        "name": "ipython",
        "version": 3
      },
      "file_extension": ".py",
      "mimetype": "text/x-python",
      "name": "python",
      "nbconvert_exporter": "python",
      "pygments_lexer": "ipython3",
      "version": "3.11.4"
    },
    "orig_nbformat": 4,
    "colab": {
      "provenance": []
    }
  },
  "nbformat": 4,
  "nbformat_minor": 0
}