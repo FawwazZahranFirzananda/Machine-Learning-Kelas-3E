{
  "cells": [
    {
      "cell_type": "code",
      "source": [
        "import numpy as np\n",
        "import tensorflow_datasets as tfds\n",
        "import tensorflow as tf\n",
        "\n",
        "tfds.disable_progress_bar()"
      ],
      "metadata": {
        "id": "22ZWr5Rs1yKx"
      },
      "execution_count": 1,
      "outputs": []
    },
    {
      "cell_type": "code",
      "source": [
        "import matplotlib.pyplot as plt\n",
        "\n",
        "def plot_graphs(history, metric):\n",
        "  plt.plot(history.history[metric])\n",
        "  plt.plot(history.history['val_'+metric], '')\n",
        "  plt.xlabel(\"Epochs\")\n",
        "  plt.ylabel(metric)\n",
        "  plt.legend([metric, 'val_'+metric])"
      ],
      "metadata": {
        "id": "ANtfJM6f16tV"
      },
      "execution_count": 2,
      "outputs": []
    },
    {
      "cell_type": "code",
      "source": [
        "dataset, info = tfds.load('imdb_reviews', with_info=True,\n",
        "                          as_supervised=True)\n",
        "train_dataset, test_dataset = dataset['train'], dataset['test']\n",
        "\n",
        "train_dataset.element_spec"
      ],
      "metadata": {
        "id": "DdyOPzXA2TyT",
        "outputId": "29576f2e-4083-468b-f0e1-39973ab0e21e",
        "colab": {
          "base_uri": "https://localhost:8080/"
        }
      },
      "execution_count": 3,
      "outputs": [
        {
          "output_type": "stream",
          "name": "stdout",
          "text": [
            "Downloading and preparing dataset 80.23 MiB (download: 80.23 MiB, generated: Unknown size, total: 80.23 MiB) to /root/tensorflow_datasets/imdb_reviews/plain_text/1.0.0...\n",
            "Dataset imdb_reviews downloaded and prepared to /root/tensorflow_datasets/imdb_reviews/plain_text/1.0.0. Subsequent calls will reuse this data.\n"
          ]
        },
        {
          "output_type": "execute_result",
          "data": {
            "text/plain": [
              "(TensorSpec(shape=(), dtype=tf.string, name=None),\n",
              " TensorSpec(shape=(), dtype=tf.int64, name=None))"
            ]
          },
          "metadata": {},
          "execution_count": 3
        }
      ]
    },
    {
      "cell_type": "code",
      "source": [
        "for example, label in train_dataset.take(1):\n",
        "  print('text: ', example.numpy())\n",
        "  print('label: ', label.numpy())"
      ],
      "metadata": {
        "id": "WrJKpkYf2nnw",
        "outputId": "0f177a5e-929e-4a56-ee72-5fa50e668ff2",
        "colab": {
          "base_uri": "https://localhost:8080/"
        }
      },
      "execution_count": 4,
      "outputs": [
        {
          "output_type": "stream",
          "name": "stdout",
          "text": [
            "text:  b\"This was an absolutely terrible movie. Don't be lured in by Christopher Walken or Michael Ironside. Both are great actors, but this must simply be their worst role in history. Even their great acting could not redeem this movie's ridiculous storyline. This movie is an early nineties US propaganda piece. The most pathetic scenes were those when the Columbian rebels were making their cases for revolutions. Maria Conchita Alonso appeared phony, and her pseudo-love affair with Walken was nothing but a pathetic emotional plug in a movie that was devoid of any real meaning. I am disappointed that there are movies like this, ruining actor's like Christopher Walken's good name. I could barely sit through it.\"\n",
            "label:  0\n"
          ]
        }
      ]
    },
    {
      "cell_type": "code",
      "source": [
        "BUFFER_SIZE = 10000\n",
        "BATCH_SIZE = 64\n",
        "\n",
        "train_dataset = train_dataset.shuffle(BUFFER_SIZE).batch(BATCH_SIZE).prefetch(tf.data.AUTOTUNE)\n",
        "test_dataset = test_dataset.batch(BATCH_SIZE).prefetch(tf.data.AUTOTUNE)\n",
        "\n",
        "for example, label in train_dataset.take(1):\n",
        "  print('texts: ', example.numpy()[:3])\n",
        "  print()\n",
        "  print('labels: ', label.numpy()[:3])"
      ],
      "metadata": {
        "id": "EJYP0YIz2u19",
        "outputId": "ddd20b62-5dda-4d20-a141-0bd31ebd238e",
        "colab": {
          "base_uri": "https://localhost:8080/"
        }
      },
      "execution_count": 5,
      "outputs": [
        {
          "output_type": "stream",
          "name": "stdout",
          "text": [
            "texts:  [b'In the days before gore and sex took over, real horror films were made. Castle of Blood is, in my estimation, one of the finest, although other reviewers have given it mixed ratings. In an odd sort of way it reminds of the more recent The Others, which was in the theaters a couple of years ago.<br /><br />Director Antonio Margheriti remade his own picture in 1970 titling it this time Web of the Spider (AKA Nella Stretta Morsa del Ragno). Why he did this I do not understand, although the remake starred Anthony Franciosa and Klaus Kinski and was very good in its own right. Perhaps he saw a good story and wished to tailor it more to American audiences. I do not really know. It is interesting that he did the original in black and white and the remake in color.<br /><br />Castle of Blood is excellent Italian Gothic. La Danza Macabra is said to be an unpublished work of Edgar Allen Poe, who \"appears\" in this film. Poe and Lord Blackwood, owner of a haunted castle, bet American writer Alan Foster (George Riviere) that he cannot spend All Souls Night in said castle and survive. Foster eagerly accepts the bet but soon regrets it, for he is witness to a series of murders committed by ghosts. It seems that the ghosts come back to life once every few years but are doomed to re-enact the crimes they committed in life. Lord Blackwood conveniently forgot to tell Foster that his blood is needed for them to resurrect themselves on the next All Souls Night! <br /><br />It does not take Foster and the beautiful Elisabeth Blackwood (portrayed by the incomparable Barbara Steele) long to fall in love, even though their romance is doomed, because Elisabeth is one of the ghosts. I will not give the ending away, but will just say that Castle of Blood is every bit a romantic tragedy as it is a horror story. <br /><br />Comments. This film is greatly atmospheric, even by the excellent standards of the Italians. My personal opinion is they do true horror better than anybody, and the somewhat dim black and white filming only enhances this. In fairness, Web of the Spider was fine in its own right, even with color and greater brightness. I loved the lingering shots, something most modern day directors do not have the patience for. Indeed, when Alan first enters the doomed castle, we are treated to several minutes of him doing nothing but roaming around from room to room, the dread ands unease building in his face and mannerisms. By the time the first ghost appears, the audience is thoroughly primed and ready. There is wonderful dialogue between Alan and the ghosts, something else not often done in standard ghost stories. There are also memorable scenes, very visual for this type of film. Elisabeth\\'s \"murder\" and the dance scene (reminds somewhat of the similar dance of the ghouls in 1962\\'s Carnival of Souls) were particularly good.<br /><br />Sadly, few general interest viewers will ever hear of, much less see, this film. That is a shame, for this one is a cut above the rest. I got my copy from Sinister Cinema and am not certain if it can be purchased anywhere else. For persons interested in this genre, it is a must see.'\n",
            " b'Often laugh out loud funny play on sex, family, and the classes in Beverly Hills milks more laughs out of the zip code than it\\'s seen since the days of Granny and Jed Clampett. Plot centers on two chauffers who\\'ve bet on which one of them can bed his employer (both single or soon to be single ladies, quite sexy -- Bisset and Woronov) first. If Manuel wins, his friend will pay off his debt to a violent asian street gang -- if he loses, he must play bottom man to his friend! <br /><br />Lots of raunchy dialogue, fairly sick physical humour, etc. But a lot of the comedy is just beneath the surface. Bartel is memorable as a very sensual oder member of the family who ends up taking his sexy, teenaged niece on a year long \"missionary trip\" to Africa.<br /><br />Hilarious fun.'\n",
            " b\"First I was caught totally off guard by the film's initial lyricism and then I became totally enchanted with the unfolding story and engrossed with the brilliant directing. The characters were all fully developed, not bigger-than-life but just like the people we live among anywhere we are in the world, in Sweden, in Turkey or in America, all completely believable human beings with foibles and nobility. Hollywood could learn so much from this beautiful film. It shows that there is no need to go into every little detail behind every action to bring out the whole theme clear and bright, and that shows the brilliance of the director! Hearfelt thanks to Kay Pollak and the wonderful cast for this superb treat!!\"]\n",
            "\n",
            "labels:  [0 1 1]\n"
          ]
        }
      ]
    },
    {
      "cell_type": "markdown",
      "source": [
        "### Buat Teks Encoder"
      ],
      "metadata": {
        "id": "FYtagpqW202s"
      }
    },
    {
      "cell_type": "code",
      "source": [
        "VOCAB_SIZE = 1000\n",
        "encoder = tf.keras.layers.TextVectorization(\n",
        "    max_tokens=VOCAB_SIZE)\n",
        "encoder.adapt(train_dataset.map(lambda text, label: text))"
      ],
      "metadata": {
        "id": "jRLfJBBN24_T"
      },
      "execution_count": 6,
      "outputs": []
    },
    {
      "cell_type": "code",
      "source": [
        "vocab = np.array(encoder.get_vocabulary())\n",
        "vocab[:20]"
      ],
      "metadata": {
        "id": "nYnsYMmv3FXA",
        "outputId": "090fc5ae-64c1-474c-ac29-b49c062fdaa6",
        "colab": {
          "base_uri": "https://localhost:8080/"
        }
      },
      "execution_count": 7,
      "outputs": [
        {
          "output_type": "execute_result",
          "data": {
            "text/plain": [
              "array(['', '[UNK]', 'the', 'and', 'a', 'of', 'to', 'is', 'in', 'it', 'i',\n",
              "       'this', 'that', 'br', 'was', 'as', 'for', 'with', 'movie', 'but'],\n",
              "      dtype='<U14')"
            ]
          },
          "metadata": {},
          "execution_count": 7
        }
      ]
    },
    {
      "cell_type": "code",
      "source": [
        "encoded_example = encoder(example)[:3].numpy()\n",
        "encoded_example"
      ],
      "metadata": {
        "id": "TdZiGIke3YVk",
        "outputId": "9498060a-7440-4872-be3a-65d89491141a",
        "colab": {
          "base_uri": "https://localhost:8080/"
        }
      },
      "execution_count": 8,
      "outputs": [
        {
          "output_type": "execute_result",
          "data": {
            "text/plain": [
              "array([[  8,   2, 497, ...,   0,   0,   0],\n",
              "       [389, 475,  46, ...,   0,   0,   0],\n",
              "       [ 86,  10,  14, ...,   0,   0,   0]])"
            ]
          },
          "metadata": {},
          "execution_count": 8
        }
      ]
    },
    {
      "cell_type": "code",
      "source": [
        "for n in range(3):\n",
        "  print(\"Original: \", example[n].numpy())\n",
        "  print(\"Round-trip: \", \" \".join(vocab[encoded_example[n]]))\n",
        "  print()"
      ],
      "metadata": {
        "id": "FTiZKDg13hcd",
        "outputId": "b7cb7db6-20d7-46a4-9051-791c8eea4995",
        "colab": {
          "base_uri": "https://localhost:8080/"
        }
      },
      "execution_count": 9,
      "outputs": [
        {
          "output_type": "stream",
          "name": "stdout",
          "text": [
            "Original:  b'In the days before gore and sex took over, real horror films were made. Castle of Blood is, in my estimation, one of the finest, although other reviewers have given it mixed ratings. In an odd sort of way it reminds of the more recent The Others, which was in the theaters a couple of years ago.<br /><br />Director Antonio Margheriti remade his own picture in 1970 titling it this time Web of the Spider (AKA Nella Stretta Morsa del Ragno). Why he did this I do not understand, although the remake starred Anthony Franciosa and Klaus Kinski and was very good in its own right. Perhaps he saw a good story and wished to tailor it more to American audiences. I do not really know. It is interesting that he did the original in black and white and the remake in color.<br /><br />Castle of Blood is excellent Italian Gothic. La Danza Macabra is said to be an unpublished work of Edgar Allen Poe, who \"appears\" in this film. Poe and Lord Blackwood, owner of a haunted castle, bet American writer Alan Foster (George Riviere) that he cannot spend All Souls Night in said castle and survive. Foster eagerly accepts the bet but soon regrets it, for he is witness to a series of murders committed by ghosts. It seems that the ghosts come back to life once every few years but are doomed to re-enact the crimes they committed in life. Lord Blackwood conveniently forgot to tell Foster that his blood is needed for them to resurrect themselves on the next All Souls Night! <br /><br />It does not take Foster and the beautiful Elisabeth Blackwood (portrayed by the incomparable Barbara Steele) long to fall in love, even though their romance is doomed, because Elisabeth is one of the ghosts. I will not give the ending away, but will just say that Castle of Blood is every bit a romantic tragedy as it is a horror story. <br /><br />Comments. This film is greatly atmospheric, even by the excellent standards of the Italians. My personal opinion is they do true horror better than anybody, and the somewhat dim black and white filming only enhances this. In fairness, Web of the Spider was fine in its own right, even with color and greater brightness. I loved the lingering shots, something most modern day directors do not have the patience for. Indeed, when Alan first enters the doomed castle, we are treated to several minutes of him doing nothing but roaming around from room to room, the dread ands unease building in his face and mannerisms. By the time the first ghost appears, the audience is thoroughly primed and ready. There is wonderful dialogue between Alan and the ghosts, something else not often done in standard ghost stories. There are also memorable scenes, very visual for this type of film. Elisabeth\\'s \"murder\" and the dance scene (reminds somewhat of the similar dance of the ghouls in 1962\\'s Carnival of Souls) were particularly good.<br /><br />Sadly, few general interest viewers will ever hear of, much less see, this film. That is a shame, for this one is a cut above the rest. I got my copy from Sinister Cinema and am not certain if it can be purchased anywhere else. For persons interested in this genre, it is a must see.'\n",
            "Round-trip:  in the days before gore and sex took over real horror films were made [UNK] of blood is in my [UNK] one of the [UNK] although other [UNK] have given it [UNK] [UNK] in an [UNK] sort of way it [UNK] of the more [UNK] the others which was in the [UNK] a couple of years [UNK] br director [UNK] [UNK] [UNK] his own picture in [UNK] [UNK] it this time [UNK] of the [UNK] [UNK] [UNK] [UNK] [UNK] [UNK] [UNK] why he did this i do not understand although the remake [UNK] [UNK] [UNK] and [UNK] [UNK] and was very good in its own right perhaps he saw a good story and [UNK] to [UNK] it more to american [UNK] i do not really know it is interesting that he did the original in black and white and the remake in [UNK] br [UNK] of blood is excellent [UNK] [UNK] la [UNK] [UNK] is said to be an [UNK] work of [UNK] [UNK] [UNK] who appears in this film [UNK] and [UNK] [UNK] [UNK] of a [UNK] [UNK] [UNK] american writer [UNK] [UNK] george [UNK] that he cannot [UNK] all [UNK] night in said [UNK] and [UNK] [UNK] [UNK] [UNK] the [UNK] but soon [UNK] it for he is [UNK] to a series of [UNK] [UNK] by [UNK] it seems that the [UNK] come back to life once every few years but are [UNK] to [UNK] the [UNK] they [UNK] in life [UNK] [UNK] [UNK] [UNK] to tell [UNK] that his blood is needed for them to [UNK] themselves on the next all [UNK] night br br it does not take [UNK] and the beautiful [UNK] [UNK] portrayed by the [UNK] [UNK] [UNK] long to fall in love even though their romance is [UNK] because [UNK] is one of the [UNK] i will not give the ending away but will just say that [UNK] of blood is every bit a romantic [UNK] as it is a horror story br br comments this film is [UNK] [UNK] even by the excellent [UNK] of the [UNK] my personal opinion is they do true horror better than [UNK] and the somewhat [UNK] black and white [UNK] only [UNK] this in [UNK] [UNK] of the [UNK] was fine in its own right even with [UNK] and [UNK] [UNK] i loved the [UNK] shots something most modern day directors do not have the [UNK] for indeed when [UNK] first [UNK] the [UNK] [UNK] we are [UNK] to several minutes of him doing nothing but [UNK] around from room to room the [UNK] [UNK] [UNK] [UNK] in his face and [UNK] by the time the first [UNK] appears the audience is [UNK] [UNK] and [UNK] there is wonderful dialogue between [UNK] and the [UNK] something else not often done in [UNK] [UNK] stories there are also memorable scenes very [UNK] for this type of film [UNK] murder and the dance scene [UNK] somewhat of the similar dance of the [UNK] in [UNK] [UNK] of [UNK] were particularly [UNK] br [UNK] few general interest viewers will ever hear of much less see this film that is a shame for this one is a cut above the rest i got my [UNK] from [UNK] cinema and am not certain if it can be [UNK] [UNK] else for [UNK] interested in this genre it is a must see                                                                                                                                                                                                                                                                                \n",
            "\n",
            "Original:  b'Often laugh out loud funny play on sex, family, and the classes in Beverly Hills milks more laughs out of the zip code than it\\'s seen since the days of Granny and Jed Clampett. Plot centers on two chauffers who\\'ve bet on which one of them can bed his employer (both single or soon to be single ladies, quite sexy -- Bisset and Woronov) first. If Manuel wins, his friend will pay off his debt to a violent asian street gang -- if he loses, he must play bottom man to his friend! <br /><br />Lots of raunchy dialogue, fairly sick physical humour, etc. But a lot of the comedy is just beneath the surface. Bartel is memorable as a very sensual oder member of the family who ends up taking his sexy, teenaged niece on a year long \"missionary trip\" to Africa.<br /><br />Hilarious fun.'\n",
            "Round-trip:  often laugh out [UNK] funny play on sex family and the [UNK] in [UNK] [UNK] [UNK] more laughs out of the [UNK] [UNK] than its seen since the days of [UNK] and [UNK] [UNK] plot [UNK] on two [UNK] [UNK] [UNK] on which one of them can [UNK] his [UNK] both single or soon to be single [UNK] quite [UNK] [UNK] and [UNK] first if [UNK] [UNK] his friend will pay off his [UNK] to a [UNK] [UNK] street [UNK] if he [UNK] he must play [UNK] man to his friend br br lots of [UNK] dialogue fairly [UNK] [UNK] [UNK] etc but a lot of the comedy is just [UNK] the [UNK] [UNK] is memorable as a very [UNK] [UNK] [UNK] of the family who ends up taking his [UNK] [UNK] [UNK] on a year long [UNK] [UNK] to [UNK] br hilarious fun                                                                                                                                                                                                                                                                                                                                                                                                                                                                                                                                                                                                                                                                                                                \n",
            "\n",
            "Original:  b\"First I was caught totally off guard by the film's initial lyricism and then I became totally enchanted with the unfolding story and engrossed with the brilliant directing. The characters were all fully developed, not bigger-than-life but just like the people we live among anywhere we are in the world, in Sweden, in Turkey or in America, all completely believable human beings with foibles and nobility. Hollywood could learn so much from this beautiful film. It shows that there is no need to go into every little detail behind every action to bring out the whole theme clear and bright, and that shows the brilliance of the director! Hearfelt thanks to Kay Pollak and the wonderful cast for this superb treat!!\"\n",
            "Round-trip:  first i was [UNK] totally off [UNK] by the films [UNK] [UNK] and then i became totally [UNK] with the [UNK] story and [UNK] with the brilliant directing the characters were all [UNK] [UNK] not [UNK] but just like the people we live among [UNK] we are in the world in [UNK] in [UNK] or in america all completely believable human [UNK] with [UNK] and [UNK] hollywood could learn so much from this beautiful film it shows that there is no need to go into every little [UNK] behind every action to bring out the whole theme clear and [UNK] and that shows the [UNK] of the director [UNK] [UNK] to [UNK] [UNK] and the wonderful cast for this superb [UNK]                                                                                                                                                                                                                                                                                                                                                                                                                                                                                                                                                                                                                                                                                                                                       \n",
            "\n"
          ]
        }
      ]
    },
    {
      "cell_type": "code",
      "source": [
        "model = tf.keras.Sequential([\n",
        "    encoder,\n",
        "    tf.keras.layers.Embedding(\n",
        "        input_dim=len(encoder.get_vocabulary()),\n",
        "        output_dim=64,\n",
        "        # Use masking to handle the variable sequence lengths\n",
        "        mask_zero=True),\n",
        "    tf.keras.layers.Bidirectional(tf.keras.layers.LSTM(64)),\n",
        "    tf.keras.layers.Dense(64, activation='relu'),\n",
        "    tf.keras.layers.Dense(1)\n",
        "])"
      ],
      "metadata": {
        "id": "ym8eBoig3qdY"
      },
      "execution_count": 10,
      "outputs": []
    },
    {
      "cell_type": "code",
      "source": [
        "print([layer.supports_masking for layer in model.layers])"
      ],
      "metadata": {
        "id": "eVC4qBnR3v2e",
        "outputId": "afcf5f3c-25a2-49e3-9862-d5e7b97fba6a",
        "colab": {
          "base_uri": "https://localhost:8080/"
        }
      },
      "execution_count": 11,
      "outputs": [
        {
          "output_type": "stream",
          "name": "stdout",
          "text": [
            "[False, True, True, True, True]\n"
          ]
        }
      ]
    },
    {
      "cell_type": "code",
      "source": [
        "# predict on a sample text without padding.\n",
        "\n",
        "sample_text = ('The movie was cool. The animation and the graphics '\n",
        "               'were out of this world. I would recommend this movie.')\n",
        "predictions = model.predict(np.array([sample_text]))\n",
        "print(predictions[0])"
      ],
      "metadata": {
        "id": "SiY20sUr32Eg",
        "outputId": "1b69fac4-15a3-4125-ca2b-dce8121fdd56",
        "colab": {
          "base_uri": "https://localhost:8080/"
        }
      },
      "execution_count": 12,
      "outputs": [
        {
          "output_type": "stream",
          "name": "stdout",
          "text": [
            "1/1 [==============================] - 4s 4s/step\n",
            "[0.00052674]\n"
          ]
        }
      ]
    },
    {
      "cell_type": "code",
      "source": [
        "# predict on a sample text with padding\n",
        "\n",
        "padding = \"the \" * 2000\n",
        "predictions = model.predict(np.array([sample_text, padding]))\n",
        "print(predictions[0])"
      ],
      "metadata": {
        "id": "wYx5he2R4FQB",
        "outputId": "f3112612-fec6-43be-86ee-1cc2d830bfc5",
        "colab": {
          "base_uri": "https://localhost:8080/"
        }
      },
      "execution_count": 13,
      "outputs": [
        {
          "output_type": "stream",
          "name": "stdout",
          "text": [
            "1/1 [==============================] - 0s 308ms/step\n",
            "[0.00052674]\n"
          ]
        }
      ]
    },
    {
      "cell_type": "code",
      "source": [
        "model.compile(loss=tf.keras.losses.BinaryCrossentropy(from_logits=True),\n",
        "              optimizer=tf.keras.optimizers.Adam(1e-4),\n",
        "              metrics=['accuracy'])"
      ],
      "metadata": {
        "id": "v4QVD-Q94K-L"
      },
      "execution_count": 14,
      "outputs": []
    },
    {
      "cell_type": "markdown",
      "source": [
        "### Train Model"
      ],
      "metadata": {
        "id": "0Kr6Hn0J4Nyu"
      }
    },
    {
      "cell_type": "code",
      "source": [
        "history = model.fit(train_dataset, epochs=10, validation_data=test_dataset, validation_steps=30)"
      ],
      "metadata": {
        "id": "LT8OxH9Y3FjZ",
        "outputId": "7da241aa-2d17-4b08-ccd4-2153603ece2f",
        "colab": {
          "base_uri": "https://localhost:8080/"
        }
      },
      "execution_count": 15,
      "outputs": [
        {
          "output_type": "stream",
          "name": "stdout",
          "text": [
            "Epoch 1/10\n",
            "391/391 [==============================] - 636s 2s/step - loss: 0.6517 - accuracy: 0.5688 - val_loss: 0.5390 - val_accuracy: 0.7391\n",
            "Epoch 2/10\n",
            "391/391 [==============================] - 621s 2s/step - loss: 0.4548 - accuracy: 0.7871 - val_loss: 0.3922 - val_accuracy: 0.8151\n",
            "Epoch 3/10\n",
            "391/391 [==============================] - 606s 2s/step - loss: 0.3599 - accuracy: 0.8374 - val_loss: 0.3487 - val_accuracy: 0.8542\n",
            "Epoch 4/10\n",
            "391/391 [==============================] - 614s 2s/step - loss: 0.3309 - accuracy: 0.8536 - val_loss: 0.3322 - val_accuracy: 0.8594\n",
            "Epoch 5/10\n",
            "391/391 [==============================] - 585s 1s/step - loss: 0.3162 - accuracy: 0.8621 - val_loss: 0.3340 - val_accuracy: 0.8641\n",
            "Epoch 6/10\n",
            "391/391 [==============================] - 609s 2s/step - loss: 0.3069 - accuracy: 0.8686 - val_loss: 0.3250 - val_accuracy: 0.8474\n",
            "Epoch 7/10\n",
            "391/391 [==============================] - 589s 2s/step - loss: 0.3053 - accuracy: 0.8684 - val_loss: 0.3202 - val_accuracy: 0.8599\n",
            "Epoch 8/10\n",
            "391/391 [==============================] - 587s 2s/step - loss: 0.3035 - accuracy: 0.8691 - val_loss: 0.3209 - val_accuracy: 0.8620\n",
            "Epoch 9/10\n",
            "391/391 [==============================] - 595s 2s/step - loss: 0.2973 - accuracy: 0.8734 - val_loss: 0.3175 - val_accuracy: 0.8589\n",
            "Epoch 10/10\n",
            "391/391 [==============================] - 586s 1s/step - loss: 0.2948 - accuracy: 0.8728 - val_loss: 0.3209 - val_accuracy: 0.8646\n"
          ]
        }
      ]
    },
    {
      "cell_type": "code",
      "source": [
        "test_loss, test_acc = model.evaluate(test_dataset)\n",
        "\n",
        "print('Test Loss:', test_loss)\n",
        "print('Test Accuracy:', test_acc)"
      ],
      "metadata": {
        "id": "3OkPbfyNO2qV",
        "outputId": "fb76addd-0b0a-4dfe-b76b-2831dae70c8d",
        "colab": {
          "base_uri": "https://localhost:8080/"
        }
      },
      "execution_count": 16,
      "outputs": [
        {
          "output_type": "stream",
          "name": "stdout",
          "text": [
            "391/391 [==============================] - 145s 368ms/step - loss: 0.3226 - accuracy: 0.8640\n",
            "Test Loss: 0.3225862383842468\n",
            "Test Accuracy: 0.8639600276947021\n"
          ]
        }
      ]
    },
    {
      "cell_type": "code",
      "source": [
        "plt.figure(figsize=(16, 8))\n",
        "plt.subplot(1, 2, 1)\n",
        "plot_graphs(history, 'accuracy')\n",
        "plt.ylim(None, 1)\n",
        "plt.subplot(1, 2, 2)\n",
        "plot_graphs(history, 'loss')\n",
        "plt.ylim(0, None)"
      ],
      "metadata": {
        "id": "WDl1TyQVPcFm",
        "outputId": "719e8fef-3f80-41fb-b979-cd3ef19bab6a",
        "colab": {
          "base_uri": "https://localhost:8080/",
          "height": 718
        }
      },
      "execution_count": 17,
      "outputs": [
        {
          "output_type": "execute_result",
          "data": {
            "text/plain": [
              "(0.0, 0.6695307955145836)"
            ]
          },
          "metadata": {},
          "execution_count": 17
        },
        {
          "output_type": "display_data",
          "data": {
            "text/plain": [
              "<Figure size 1600x800 with 2 Axes>"
            ],
            "image/png": "[encoded data removed]"
          },
          "metadata": {}
        }
      ]
    },
    {
      "cell_type": "code",
      "source": [
        "sample_text = ('The movie was cool. The animation and the graphics '\n",
        "              'were out of this world. I would recommend this movie.')\n",
        "predictions = model.predict(np.array([sample_text]))"
      ],
      "metadata": {
        "id": "AXkxYSyHPiid",
        "outputId": "52962e30-0e63-4c27-ff25-934cb8104c6d",
        "colab": {
          "base_uri": "https://localhost:8080/"
        }
      },
      "execution_count": 18,
      "outputs": [
        {
          "output_type": "stream",
          "name": "stdout",
          "text": [
            "1/1 [==============================] - 3s 3s/step\n"
          ]
        }
      ]
    },
    {
      "cell_type": "markdown",
      "source": [
        "### Stack two or more LSTM layers"
      ],
      "metadata": {
        "id": "ev0_YyTMPue6"
      }
    },
    {
      "cell_type": "code",
      "source": [
        "model = tf.keras.Sequential([\n",
        "    encoder,\n",
        "    tf.keras.layers.Embedding(len(encoder.get_vocabulary()), 64, mask_zero=True),\n",
        "    tf.keras.layers.Bidirectional(tf.keras.layers.LSTM(64, return_sequences=True)),\n",
        "    tf.keras.layers.Bidirectional(tf.keras.layers.LSTM(32)),\n",
        "    tf.keras.layers.Dense(64, activation='relu'),\n",
        "    tf.keras.layers.Dropout(0.5),\n",
        "    tf.keras.layers.Dense(1)\n",
        "])"
      ],
      "metadata": {
        "id": "uYqvNG9APv40"
      },
      "execution_count": 20,
      "outputs": []
    },
    {
      "cell_type": "code",
      "source": [
        "model.compile(loss=tf.keras.losses.BinaryCrossentropy(from_logits=True),\n",
        "              optimizer=tf.keras.optimizers.Adam(1e-4),\n",
        "              metrics=['accuracy'])"
      ],
      "metadata": {
        "id": "ttece-3wQF4Q"
      },
      "execution_count": 21,
      "outputs": []
    }
  ],
  "metadata": {
    "kernelspec": {
      "display_name": "base",
      "language": "python",
      "name": "python3"
    },
    "language_info": {
      "codemirror_mode": {
        "name": "ipython",
        "version": 3
      },
      "file_extension": ".py",
      "mimetype": "text/x-python",
      "name": "python",
      "nbconvert_exporter": "python",
      "pygments_lexer": "ipython3",
      "version": "3.11.4"
    },
    "orig_nbformat": 4,
    "colab": {
      "provenance": []
    }
  },
  "nbformat": 4,
  "nbformat_minor": 0
}