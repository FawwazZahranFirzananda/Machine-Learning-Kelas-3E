{
 "cells": [
  {
   "attachments": {},
   "cell_type": "markdown",
   "metadata": {},
   "source": [
    "# Ketentuan UTS\n",
    "Berdasarkan pemaparan kasus, Anda diminta untuk,\n",
    "\n",
    "1. Pilih 5 citra plat nomor untuk setiap anggota kelompok dari dataset yang telah disediakan. [DOWNLOAD](https://storage.googleapis.com/kuliah_mah/dummy.zip)\n",
    "2. Lakukan segmentasi pada citra plat nomor untuk memperjelas karakter pada plat nomor.\n",
    "3. Anda dapat menggunakan algortima K-Means seperti yang telah dijelaskan pada praktikum sebelumnya atau menggunakan algoritma klasterisasi yang lain.\n",
    "4. Anda diperkenankan untuk melakukan pra pengolahan data (preprocessing) pada citra seperti,\n",
    "    - Merubah color space\n",
    "    - Reduksi dimensi\n",
    "    - dsb\n",
    "5. Tampilkan perbandingan citra antara sebelum dan sesudah di segmentasi\n",
    "\n",
    "\n",
    "**Catatan:**\n",
    "1. Proses loading citra dicontohkan dengan menggunakan library openCV\n",
    "2. Secara default, openCV akan memuat citra dalam format BGR"
   ]
  },
  {
   "attachments": {},
   "cell_type": "markdown",
   "metadata": {},
   "source": [
    "## Kode Bantuan"
   ]
  }
 ],
 "metadata": {
  "kernelspec": {
   "display_name": "base",
   "language": "python",
   "name": "python3"
  },
  "language_info": {
   "codemirror_mode": {
    "name": "ipython",
    "version": 3
   },
   "file_extension": ".py",
   "mimetype": "text/x-python",
   "name": "python",
   "nbconvert_exporter": "python",
   "pygments_lexer": "ipython3",
   "version": "3.11.4"
  },
  "orig_nbformat": 4
 },
 "nbformat": 4,
 "nbformat_minor": 2
}
