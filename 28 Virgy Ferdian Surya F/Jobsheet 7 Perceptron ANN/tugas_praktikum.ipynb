{
 "cells": [
  {
   "cell_type": "markdown",
   "source": [
    "Lakukan klasifikasi pada data MNIST dengan menggunakan model ANN\n",
    "Anda diperbolehkan melakukan eksplorasi terhadap,\n",
    "Metode pra pengolahan\n",
    "Pemilihan fitur\n",
    "Arsitektur ANN\n",
    "Fungsi Aktiviasi\n",
    "ANN diimplementasikan dengan menggunakan tensorflow.\n",
    "DIKERJAKAN SECARA BERKELOMPOK\n",
    "JELASKAN HASIL YANG ANDA DAPATKAN,\n",
    "AKURASI\n",
    "CONFUSION MATRIX\n",
    "KONFIGURASI MODEL --> MULAI DARI PRA PENGOLAHAN SAMPAI ARSITEKTUR ANN"
   ],
   "metadata": {
    "collapsed": false
   },
   "id": "40252bc0625da943"
  },
  {
   "cell_type": "code",
   "execution_count": 10,
   "outputs": [],
   "source": [
    "import tensorflow as tf\n",
    "from tensorflow import keras\n",
    "import matplotlib.pyplot as plt\n",
    "from keras.models import Sequential\n",
    "from keras.layers import Dense\n",
    "import numpy as np"
   ],
   "metadata": {
    "collapsed": false,
    "ExecuteTime": {
     "end_time": "2023-10-31T02:35:39.286301700Z",
     "start_time": "2023-10-31T02:35:39.211423800Z"
    }
   },
   "id": "defaaf2f4f26aa79"
  },
  {
   "cell_type": "code",
   "execution_count": 11,
   "outputs": [
    {
     "name": "stdout",
     "output_type": "stream",
     "text": [
      "60000\n",
      "10000\n"
     ]
    }
   ],
   "source": [
    "# Load data MNIST dan split data menjadi data train dan data test\n",
    "(X_train, y_train) , (X_test, y_test) = keras.datasets.mnist.load_data()\n",
    "print(len(X_train))\n",
    "print(len(X_test))"
   ],
   "metadata": {
    "collapsed": false,
    "ExecuteTime": {
     "end_time": "2023-10-31T02:35:39.566460Z",
     "start_time": "2023-10-31T02:35:39.220981300Z"
    }
   },
   "id": "e1f9b14a79982f72"
  },
  {
   "cell_type": "code",
   "execution_count": 12,
   "outputs": [
    {
     "data": {
      "text/plain": "<Figure size 640x480 with 1 Axes>",
      "image/png": "[encoded data removed]"
     },
     "metadata": {},
     "output_type": "display_data"
    }
   ],
   "source": [
    "# menampilkan data gambar index ke 5\n",
    "plt.imshow(X_train[5])\n",
    "plt.show()"
   ],
   "metadata": {
    "collapsed": false,
    "ExecuteTime": {
     "end_time": "2023-10-31T02:35:39.927224600Z",
     "start_time": "2023-10-31T02:35:39.568975900Z"
    }
   },
   "id": "4b783addff1b6bf6"
  },
  {
   "cell_type": "code",
   "execution_count": 13,
   "outputs": [
    {
     "data": {
      "text/plain": "(60000, 784)"
     },
     "execution_count": 13,
     "metadata": {},
     "output_type": "execute_result"
    }
   ],
   "source": [
    "# Mengambil panjang vektor fitur\n",
    "feature_vector_length = 784\n",
    "\n",
    "# Mereshape data train dan test menjadi bentuk (jumlah sampel, panjang vektor fitur)\n",
    "X_train = X_train.reshape(X_train.shape[0], feature_vector_length)\n",
    "X_test = X_test.reshape(X_test.shape[0], feature_vector_length)\n",
    "\n",
    "# Menyimpan panjang vektor fitur ke variabel `input_shape`\n",
    "input_shape = (feature_vector_length,)\n",
    "\n",
    "# Mencetak bentuk data train\n",
    "X_train.shape\n",
    "\n"
   ],
   "metadata": {
    "collapsed": false,
    "ExecuteTime": {
     "end_time": "2023-10-31T02:35:39.943449200Z",
     "start_time": "2023-10-31T02:35:39.929229500Z"
    }
   },
   "id": "4e3d1c7182903d29"
  },
  {
   "cell_type": "code",
   "execution_count": 14,
   "outputs": [],
   "source": [
    "# Membuat model Sequential\n",
    "model = Sequential()\n",
    "\n",
    "# Menambahkan layer Dense pertama dengan 350 neuron dan aktivasi relu\n",
    "model.add(Dense(350, input_shape=input_shape, activation='relu'))\n",
    "\n",
    "# Menambahkan layer Dense kedua dengan 50 neuron dan aktivasi relu\n",
    "model.add(Dense(50, activation='relu'))\n",
    "\n",
    "# Menambahkan layer Dense ketiga dengan 10 neuron dan aktivasi softmax\n",
    "model.add(Dense(10, activation='softmax'))"
   ],
   "metadata": {
    "collapsed": false,
    "ExecuteTime": {
     "end_time": "2023-10-31T02:35:40.029281600Z",
     "start_time": "2023-10-31T02:35:39.945444500Z"
    }
   },
   "id": "97b95a62dfed9773"
  },
  {
   "cell_type": "code",
   "execution_count": 15,
   "outputs": [],
   "source": [
    "# melakukan compile model\n",
    "model.compile(optimizer='adam',\n",
    "              loss='sparse_categorical_crossentropy',\n",
    "              metrics=['accuracy'])\n"
   ],
   "metadata": {
    "collapsed": false,
    "ExecuteTime": {
     "end_time": "2023-10-31T02:35:40.055114900Z",
     "start_time": "2023-10-31T02:35:40.027767300Z"
    }
   },
   "id": "b1eca0821ab35d8d"
  },
  {
   "cell_type": "code",
   "execution_count": 16,
   "outputs": [
    {
     "name": "stdout",
     "output_type": "stream",
     "text": [
      "Epoch 1/10\n",
      "1875/1875 [==============================] - 17s 9ms/step - loss: 1.3458 - accuracy: 0.7311\n",
      "Epoch 2/10\n",
      "1875/1875 [==============================] - 14s 7ms/step - loss: 0.4860 - accuracy: 0.8859\n",
      "Epoch 3/10\n",
      "1875/1875 [==============================] - 16s 9ms/step - loss: 0.2821 - accuracy: 0.9351\n",
      "Epoch 4/10\n",
      "1875/1875 [==============================] - 26s 14ms/step - loss: 0.2004 - accuracy: 0.9521\n",
      "Epoch 5/10\n",
      "1875/1875 [==============================] - 25s 14ms/step - loss: 0.1542 - accuracy: 0.9613\n",
      "Epoch 6/10\n",
      "1875/1875 [==============================] - 25s 13ms/step - loss: 0.1223 - accuracy: 0.9698\n",
      "Epoch 7/10\n",
      "1875/1875 [==============================] - 28s 15ms/step - loss: 0.1102 - accuracy: 0.9727\n",
      "Epoch 8/10\n",
      "1875/1875 [==============================] - 29s 16ms/step - loss: 0.0947 - accuracy: 0.9760\n",
      "Epoch 9/10\n",
      "1875/1875 [==============================] - 28s 15ms/step - loss: 0.0854 - accuracy: 0.9795\n",
      "Epoch 10/10\n",
      "1875/1875 [==============================] - 25s 13ms/step - loss: 0.0839 - accuracy: 0.9806\n"
     ]
    },
    {
     "data": {
      "text/plain": "<keras.src.callbacks.History at 0x218c4faca10>"
     },
     "execution_count": 16,
     "metadata": {},
     "output_type": "execute_result"
    }
   ],
   "source": [
    "# Melakukan training model dengan 10 epochs\n",
    "model.fit(X_train, y_train, epochs=10)\n"
   ],
   "metadata": {
    "collapsed": false,
    "ExecuteTime": {
     "end_time": "2023-10-31T02:39:34.213887600Z",
     "start_time": "2023-10-31T02:35:40.053110500Z"
    }
   },
   "id": "4209d9d0cd64d7a2"
  },
  {
   "cell_type": "code",
   "execution_count": 17,
   "outputs": [
    {
     "name": "stdout",
     "output_type": "stream",
     "text": [
      "313/313 [==============================] - 3s 7ms/step - loss: 0.1684 - accuracy: 0.9663\n",
      "313/313 [==============================] - 2s 6ms/step\n"
     ]
    }
   ],
   "source": [
    "# evaluate model\n",
    "test_results=model.evaluate(X_test,y_test)\n",
    "\n",
    "# melakukan prediksi data test dengan model yang telah dilatih\n",
    "y_predicted=model.predict(X_test)"
   ],
   "metadata": {
    "collapsed": false,
    "ExecuteTime": {
     "end_time": "2023-10-31T02:39:39.964201700Z",
     "start_time": "2023-10-31T02:39:34.215946200Z"
    }
   },
   "id": "5b71fedb038d48c2"
  },
  {
   "cell_type": "code",
   "execution_count": 18,
   "outputs": [
    {
     "name": "stdout",
     "output_type": "stream",
     "text": [
      "tf.Tensor(\n",
      "[[ 966    0    0    0    0    0    1    3    7    3]\n",
      " [   0 1117    1    1    0    0    0    0   16    0]\n",
      " [   4    1 1012    0    1    0    0    2   10    2]\n",
      " [   0    0   11  961    0   13    0    1   15    9]\n",
      " [   0    3    5    0  941    0    4    0   10   19]\n",
      " [   2    0    0    3    0  872    2    1    4    8]\n",
      " [   4    2    0    0    1   10  931    1    9    0]\n",
      " [   0    3   18   21    1    0    0  927   22   36]\n",
      " [   3    0    8    3    0    5    4    1  944    6]\n",
      " [   3    3    0    1    2    1    1    0    6  992]], shape=(10, 10), dtype=int32)\n",
      "0.9663\n"
     ]
    }
   ],
   "source": [
    "from sklearn.metrics import accuracy_score\n",
    "\n",
    "# Mendapatkan label prediksi\n",
    "y_predicted_labels = [np.argmax(i) for i in y_predicted]\n",
    "\n",
    "# Membuat confusion matrix menggunakan tensor TensorFlow\n",
    "cm = tf.math.confusion_matrix(labels=y_test, predictions=y_predicted_labels)\n",
    "\n",
    "# Mencetak confusion matrix\n",
    "print(cm)\n",
    "\n",
    "# Menghitung akurasi prediksi menggunakan fungsi accuracy_score()\n",
    "accuracy = accuracy_score(y_test, y_predicted_labels)\n",
    "\n",
    "# Mencetak akurasi prediksi\n",
    "print(accuracy)"
   ],
   "metadata": {
    "collapsed": false,
    "ExecuteTime": {
     "end_time": "2023-10-31T02:39:40.082820300Z",
     "start_time": "2023-10-31T02:39:39.962061800Z"
    }
   },
   "id": "9b9586336073ad9d"
  }
 ],
 "metadata": {
  "kernelspec": {
   "display_name": "Python 3",
   "language": "python",
   "name": "python3"
  },
  "language_info": {
   "codemirror_mode": {
    "name": "ipython",
    "version": 2
   },
   "file_extension": ".py",
   "mimetype": "text/x-python",
   "name": "python",
   "nbconvert_exporter": "python",
   "pygments_lexer": "ipython2",
   "version": "2.7.6"
  }
 },
 "nbformat": 4,
 "nbformat_minor": 5
}
