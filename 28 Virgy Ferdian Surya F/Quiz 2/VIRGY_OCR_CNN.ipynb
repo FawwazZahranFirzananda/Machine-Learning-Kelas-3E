{
 "nbformat": 4,
 "nbformat_minor": 0,
 "metadata": {
  "colab": {
   "provenance": [],
   "machine_shape": "hm",
   "gpuType": "A100"
  },
  "kernelspec": {
   "name": "python3",
   "language": "python",
   "display_name": "Python 3 (ipykernel)"
  },
  "language_info": {
   "name": "python"
  },
  "accelerator": "GPU"
 },
 "cells": [
  {
   "cell_type": "markdown",
   "source": [
    "# Import Library"
   ],
   "metadata": {
    "id": "fLV1Z5_Za3Ni"
   }
  },
  {
   "cell_type": "code",
   "execution_count": 1,
   "metadata": {
    "id": "TUhYpAeEarrV",
    "ExecuteTime": {
     "end_time": "2023-11-30T02:20:05.457248700Z",
     "start_time": "2023-11-30T02:19:53.000536100Z"
    }
   },
   "outputs": [],
   "source": [
    "import tensorflow as tf\n",
    "import numpy as np\n",
    "import pandas as pd\n",
    "import matplotlib.pyplot as plt\n",
    "import seaborn as sns\n",
    "from sklearn.preprocessing import LabelBinarizer\n",
    "from sklearn.model_selection import train_test_split\n",
    "from sklearn.metrics import classification_report\n",
    "import zipfile"
   ]
  },
  {
   "cell_type": "markdown",
   "source": [
    "# Load Dataset"
   ],
   "metadata": {
    "id": "N95oXMaTcnMH"
   }
  },
  {
   "cell_type": "markdown",
   "source": [
    "## Load MNIST"
   ],
   "metadata": {
    "id": "dT8TY908cpCK"
   }
  },
  {
   "cell_type": "code",
   "source": [
    "from tensorflow.keras.datasets import mnist"
   ],
   "metadata": {
    "id": "OIZx2pkUcfDe",
    "ExecuteTime": {
     "end_time": "2023-11-30T02:20:05.628738300Z",
     "start_time": "2023-11-30T02:20:05.443675300Z"
    }
   },
   "execution_count": 2,
   "outputs": []
  },
  {
   "cell_type": "code",
   "source": [
    "(train_data, train_labels), (test_data, test_labels) = mnist.load_data()"
   ],
   "metadata": {
    "id": "3GLkzBi6czj4",
    "ExecuteTime": {
     "end_time": "2023-11-30T02:20:05.931176900Z",
     "start_time": "2023-11-30T02:20:05.630764400Z"
    }
   },
   "execution_count": 3,
   "outputs": []
  },
  {
   "cell_type": "code",
   "source": [
    "# Check shape data\n",
    "(train_data.shape, test_data.shape)"
   ],
   "metadata": {
    "id": "oVQTyPgAc5Zw",
    "ExecuteTime": {
     "end_time": "2023-11-30T02:20:05.949493500Z",
     "start_time": "2023-11-30T02:20:05.933181Z"
    }
   },
   "execution_count": 4,
   "outputs": [
    {
     "data": {
      "text/plain": "((60000, 28, 28), (10000, 28, 28))"
     },
     "execution_count": 4,
     "metadata": {},
     "output_type": "execute_result"
    }
   ]
  },
  {
   "cell_type": "code",
   "source": [
    "# Check shape labels\n",
    "(train_labels.shape, test_labels.shape)"
   ],
   "metadata": {
    "id": "grUhLPwJc-un",
    "ExecuteTime": {
     "end_time": "2023-11-30T02:20:05.964068Z",
     "start_time": "2023-11-30T02:20:05.947488400Z"
    }
   },
   "execution_count": 5,
   "outputs": [
    {
     "data": {
      "text/plain": "((60000,), (10000,))"
     },
     "execution_count": 5,
     "metadata": {},
     "output_type": "execute_result"
    }
   ]
  },
  {
   "cell_type": "code",
   "source": [
    "# Check each data shape --> should be 28*28\n",
    "train_data[0].shape"
   ],
   "metadata": {
    "id": "AwsTEu6xdNKX",
    "ExecuteTime": {
     "end_time": "2023-11-30T02:20:06.084821800Z",
     "start_time": "2023-11-30T02:20:05.963070500Z"
    }
   },
   "execution_count": 6,
   "outputs": [
    {
     "data": {
      "text/plain": "(28, 28)"
     },
     "execution_count": 6,
     "metadata": {},
     "output_type": "execute_result"
    }
   ]
  },
  {
   "cell_type": "code",
   "source": [
    "# Check the label\n",
    "train_labels.shape"
   ],
   "metadata": {
    "id": "KHZesdnBdXKX",
    "ExecuteTime": {
     "end_time": "2023-11-30T02:20:06.087824300Z",
     "start_time": "2023-11-30T02:20:05.974160400Z"
    }
   },
   "execution_count": 7,
   "outputs": [
    {
     "data": {
      "text/plain": "(60000,)"
     },
     "execution_count": 7,
     "metadata": {},
     "output_type": "execute_result"
    }
   ]
  },
  {
   "cell_type": "markdown",
   "source": [
    "### Combine Train and Test Data"
   ],
   "metadata": {
    "id": "SYz8IjnOdfsV"
   }
  },
  {
   "cell_type": "code",
   "source": [
    "digits_data = np.vstack([train_data, test_data])\n",
    "digits_labels = np.hstack([train_labels, test_labels])"
   ],
   "metadata": {
    "id": "yacSZjdPdbhs",
    "ExecuteTime": {
     "end_time": "2023-11-30T02:20:06.088823300Z",
     "start_time": "2023-11-30T02:20:05.984403100Z"
    }
   },
   "execution_count": 8,
   "outputs": []
  },
  {
   "cell_type": "code",
   "source": [
    "# Check data shape\n",
    "digits_data.shape"
   ],
   "metadata": {
    "id": "oRBvQNVUeHZn",
    "ExecuteTime": {
     "end_time": "2023-11-30T02:20:06.101821900Z",
     "start_time": "2023-11-30T02:20:06.003491700Z"
    }
   },
   "execution_count": 9,
   "outputs": [
    {
     "data": {
      "text/plain": "(70000, 28, 28)"
     },
     "execution_count": 9,
     "metadata": {},
     "output_type": "execute_result"
    }
   ]
  },
  {
   "cell_type": "code",
   "source": [
    "# Check label shape\n",
    "digits_labels.shape"
   ],
   "metadata": {
    "id": "MZbUcu0MeLSG",
    "ExecuteTime": {
     "end_time": "2023-11-30T02:20:06.104823500Z",
     "start_time": "2023-11-30T02:20:06.018871800Z"
    }
   },
   "execution_count": 10,
   "outputs": [
    {
     "data": {
      "text/plain": "(70000,)"
     },
     "execution_count": 10,
     "metadata": {},
     "output_type": "execute_result"
    }
   ]
  },
  {
   "cell_type": "code",
   "source": [
    "# Randomly checking the data\n",
    "idx = np.random.randint(0, digits_data.shape[0])\n",
    "plt.imshow(digits_data[idx], cmap='gray')\n",
    "plt.title('Class: ' + str(digits_labels[idx]))"
   ],
   "metadata": {
    "id": "uqaiC0pGePF-",
    "ExecuteTime": {
     "end_time": "2023-11-30T02:20:06.780346500Z",
     "start_time": "2023-11-30T02:20:06.030276700Z"
    }
   },
   "execution_count": 11,
   "outputs": [
    {
     "data": {
      "text/plain": "Text(0.5, 1.0, 'Class: 2')"
     },
     "execution_count": 11,
     "metadata": {},
     "output_type": "execute_result"
    },
    {
     "data": {
      "text/plain": "<Figure size 640x480 with 1 Axes>",
      "image/png": "[encoded data removed]"
     },
     "metadata": {},
     "output_type": "display_data"
    }
   ]
  },
  {
   "cell_type": "code",
   "source": [
    "# Check data distribution\n",
    "df_labels = pd.DataFrame(digits_labels, columns=['Labels'])\n",
    "sns.countplot(df_labels, x='Labels')"
   ],
   "metadata": {
    "id": "FrLWteorevqd",
    "ExecuteTime": {
     "end_time": "2023-11-30T02:20:07.250344600Z",
     "start_time": "2023-11-30T02:20:06.784346400Z"
    }
   },
   "execution_count": 12,
   "outputs": [
    {
     "data": {
      "text/plain": "<Axes: xlabel='Labels', ylabel='count'>"
     },
     "execution_count": 12,
     "metadata": {},
     "output_type": "execute_result"
    },
    {
     "data": {
      "text/plain": "<Figure size 640x480 with 1 Axes>",
      "image/png": "[encoded data removed]"
     },
     "metadata": {},
     "output_type": "display_data"
    }
   ]
  },
  {
   "cell_type": "markdown",
   "source": [
    "## Load Kaggle A-Z"
   ],
   "metadata": {
    "id": "uqeJT2ytogB_"
   }
  },
  {
   "cell_type": "code",
   "source": [
    "!wget https://iaexpert.academy/arquivos/alfabeto_A-Z.zip"
   ],
   "metadata": {
    "id": "tQ95CkdfjO7P",
    "ExecuteTime": {
     "end_time": "2023-11-30T02:20:07.324578800Z",
     "start_time": "2023-11-30T02:20:07.251348200Z"
    }
   },
   "execution_count": 13,
   "outputs": [
    {
     "name": "stderr",
     "output_type": "stream",
     "text": [
      "'wget' is not recognized as an internal or external command,\n",
      "operable program or batch file.\n"
     ]
    }
   ]
  },
  {
   "cell_type": "code",
   "source": [
    "# Extract zip file\n",
    "zip_object = zipfile.ZipFile(file = 'alfabeto_A-Z.zip', mode = 'r')\n",
    "zip_object.extractall('./')\n",
    "zip_object.close()"
   ],
   "metadata": {
    "id": "TobpFNSsojcv",
    "ExecuteTime": {
     "end_time": "2023-11-30T02:20:20.704048300Z",
     "start_time": "2023-11-30T02:20:07.298583700Z"
    }
   },
   "execution_count": 14,
   "outputs": []
  },
  {
   "cell_type": "code",
   "source": [
    "dataset_az = pd.read_csv('A_Z Handwritten Data.csv').astype('float32')\n",
    "dataset_az"
   ],
   "metadata": {
    "id": "ScBURU_4o5bB",
    "ExecuteTime": {
     "end_time": "2023-11-30T02:20:52.939068700Z",
     "start_time": "2023-11-30T02:20:20.703046500Z"
    }
   },
   "execution_count": 15,
   "outputs": [
    {
     "data": {
      "text/plain": "           0  0.1  0.2  0.3  0.4  0.5  0.6  0.7  0.8  0.9  ...  0.639  0.640  \\\n0        0.0  0.0  0.0  0.0  0.0  0.0  0.0  0.0  0.0  0.0  ...    0.0    0.0   \n1        0.0  0.0  0.0  0.0  0.0  0.0  0.0  0.0  0.0  0.0  ...    0.0    0.0   \n2        0.0  0.0  0.0  0.0  0.0  0.0  0.0  0.0  0.0  0.0  ...    0.0    0.0   \n3        0.0  0.0  0.0  0.0  0.0  0.0  0.0  0.0  0.0  0.0  ...    0.0    0.0   \n4        0.0  0.0  0.0  0.0  0.0  0.0  0.0  0.0  0.0  0.0  ...    0.0    0.0   \n...      ...  ...  ...  ...  ...  ...  ...  ...  ...  ...  ...    ...    ...   \n372445  25.0  0.0  0.0  0.0  0.0  0.0  0.0  0.0  0.0  0.0  ...    0.0    0.0   \n372446  25.0  0.0  0.0  0.0  0.0  0.0  0.0  0.0  0.0  0.0  ...    0.0    0.0   \n372447  25.0  0.0  0.0  0.0  0.0  0.0  0.0  0.0  0.0  0.0  ...    0.0    0.0   \n372448  25.0  0.0  0.0  0.0  0.0  0.0  0.0  0.0  0.0  0.0  ...    0.0    0.0   \n372449  25.0  0.0  0.0  0.0  0.0  0.0  0.0  0.0  0.0  0.0  ...    0.0    0.0   \n\n        0.641  0.642  0.643  0.644  0.645  0.646  0.647  0.648  \n0         0.0    0.0    0.0    0.0    0.0    0.0    0.0    0.0  \n1         0.0    0.0    0.0    0.0    0.0    0.0    0.0    0.0  \n2         0.0    0.0    0.0    0.0    0.0    0.0    0.0    0.0  \n3         0.0    0.0    0.0    0.0    0.0    0.0    0.0    0.0  \n4         0.0    0.0    0.0    0.0    0.0    0.0    0.0    0.0  \n...       ...    ...    ...    ...    ...    ...    ...    ...  \n372445    0.0    0.0    0.0    0.0    0.0    0.0    0.0    0.0  \n372446    0.0    0.0    0.0    0.0    0.0    0.0    0.0    0.0  \n372447    0.0    0.0    0.0    0.0    0.0    0.0    0.0    0.0  \n372448    0.0    0.0    0.0    0.0    0.0    0.0    0.0    0.0  \n372449    0.0    0.0    0.0    0.0    0.0    0.0    0.0    0.0  \n\n[372450 rows x 785 columns]",
      "text/html": "<div>\n<style scoped>\n    .dataframe tbody tr th:only-of-type {\n        vertical-align: middle;\n    }\n\n    .dataframe tbody tr th {\n        vertical-align: top;\n    }\n\n    .dataframe thead th {\n        text-align: right;\n    }\n</style>\n<table border=\"1\" class=\"dataframe\">\n  <thead>\n    <tr style=\"text-align: right;\">\n      <th></th>\n      <th>0</th>\n      <th>0.1</th>\n      <th>0.2</th>\n      <th>0.3</th>\n      <th>0.4</th>\n      <th>0.5</th>\n      <th>0.6</th>\n      <th>0.7</th>\n      <th>0.8</th>\n      <th>0.9</th>\n      <th>...</th>\n      <th>0.639</th>\n      <th>0.640</th>\n      <th>0.641</th>\n      <th>0.642</th>\n      <th>0.643</th>\n      <th>0.644</th>\n      <th>0.645</th>\n      <th>0.646</th>\n      <th>0.647</th>\n      <th>0.648</th>\n    </tr>\n  </thead>\n  <tbody>\n    <tr>\n      <th>0</th>\n      <td>0.0</td>\n      <td>0.0</td>\n      <td>0.0</td>\n      <td>0.0</td>\n      <td>0.0</td>\n      <td>0.0</td>\n      <td>0.0</td>\n      <td>0.0</td>\n      <td>0.0</td>\n      <td>0.0</td>\n      <td>...</td>\n      <td>0.0</td>\n      <td>0.0</td>\n      <td>0.0</td>\n      <td>0.0</td>\n      <td>0.0</td>\n      <td>0.0</td>\n      <td>0.0</td>\n      <td>0.0</td>\n      <td>0.0</td>\n      <td>0.0</td>\n    </tr>\n    <tr>\n      <th>1</th>\n      <td>0.0</td>\n      <td>0.0</td>\n      <td>0.0</td>\n      <td>0.0</td>\n      <td>0.0</td>\n      <td>0.0</td>\n      <td>0.0</td>\n      <td>0.0</td>\n      <td>0.0</td>\n      <td>0.0</td>\n      <td>...</td>\n      <td>0.0</td>\n      <td>0.0</td>\n      <td>0.0</td>\n      <td>0.0</td>\n      <td>0.0</td>\n      <td>0.0</td>\n      <td>0.0</td>\n      <td>0.0</td>\n      <td>0.0</td>\n      <td>0.0</td>\n    </tr>\n    <tr>\n      <th>2</th>\n      <td>0.0</td>\n      <td>0.0</td>\n      <td>0.0</td>\n      <td>0.0</td>\n      <td>0.0</td>\n      <td>0.0</td>\n      <td>0.0</td>\n      <td>0.0</td>\n      <td>0.0</td>\n      <td>0.0</td>\n      <td>...</td>\n      <td>0.0</td>\n      <td>0.0</td>\n      <td>0.0</td>\n      <td>0.0</td>\n      <td>0.0</td>\n      <td>0.0</td>\n      <td>0.0</td>\n      <td>0.0</td>\n      <td>0.0</td>\n      <td>0.0</td>\n    </tr>\n    <tr>\n      <th>3</th>\n      <td>0.0</td>\n      <td>0.0</td>\n      <td>0.0</td>\n      <td>0.0</td>\n      <td>0.0</td>\n      <td>0.0</td>\n      <td>0.0</td>\n      <td>0.0</td>\n      <td>0.0</td>\n      <td>0.0</td>\n      <td>...</td>\n      <td>0.0</td>\n      <td>0.0</td>\n      <td>0.0</td>\n      <td>0.0</td>\n      <td>0.0</td>\n      <td>0.0</td>\n      <td>0.0</td>\n      <td>0.0</td>\n      <td>0.0</td>\n      <td>0.0</td>\n    </tr>\n    <tr>\n      <th>4</th>\n      <td>0.0</td>\n      <td>0.0</td>\n      <td>0.0</td>\n      <td>0.0</td>\n      <td>0.0</td>\n      <td>0.0</td>\n      <td>0.0</td>\n      <td>0.0</td>\n      <td>0.0</td>\n      <td>0.0</td>\n      <td>...</td>\n      <td>0.0</td>\n      <td>0.0</td>\n      <td>0.0</td>\n      <td>0.0</td>\n      <td>0.0</td>\n      <td>0.0</td>\n      <td>0.0</td>\n      <td>0.0</td>\n      <td>0.0</td>\n      <td>0.0</td>\n    </tr>\n    <tr>\n      <th>...</th>\n      <td>...</td>\n      <td>...</td>\n      <td>...</td>\n      <td>...</td>\n      <td>...</td>\n      <td>...</td>\n      <td>...</td>\n      <td>...</td>\n      <td>...</td>\n      <td>...</td>\n      <td>...</td>\n      <td>...</td>\n      <td>...</td>\n      <td>...</td>\n      <td>...</td>\n      <td>...</td>\n      <td>...</td>\n      <td>...</td>\n      <td>...</td>\n      <td>...</td>\n      <td>...</td>\n    </tr>\n    <tr>\n      <th>372445</th>\n      <td>25.0</td>\n      <td>0.0</td>\n      <td>0.0</td>\n      <td>0.0</td>\n      <td>0.0</td>\n      <td>0.0</td>\n      <td>0.0</td>\n      <td>0.0</td>\n      <td>0.0</td>\n      <td>0.0</td>\n      <td>...</td>\n      <td>0.0</td>\n      <td>0.0</td>\n      <td>0.0</td>\n      <td>0.0</td>\n      <td>0.0</td>\n      <td>0.0</td>\n      <td>0.0</td>\n      <td>0.0</td>\n      <td>0.0</td>\n      <td>0.0</td>\n    </tr>\n    <tr>\n      <th>372446</th>\n      <td>25.0</td>\n      <td>0.0</td>\n      <td>0.0</td>\n      <td>0.0</td>\n      <td>0.0</td>\n      <td>0.0</td>\n      <td>0.0</td>\n      <td>0.0</td>\n      <td>0.0</td>\n      <td>0.0</td>\n      <td>...</td>\n      <td>0.0</td>\n      <td>0.0</td>\n      <td>0.0</td>\n      <td>0.0</td>\n      <td>0.0</td>\n      <td>0.0</td>\n      <td>0.0</td>\n      <td>0.0</td>\n      <td>0.0</td>\n      <td>0.0</td>\n    </tr>\n    <tr>\n      <th>372447</th>\n      <td>25.0</td>\n      <td>0.0</td>\n      <td>0.0</td>\n      <td>0.0</td>\n      <td>0.0</td>\n      <td>0.0</td>\n      <td>0.0</td>\n      <td>0.0</td>\n      <td>0.0</td>\n      <td>0.0</td>\n      <td>...</td>\n      <td>0.0</td>\n      <td>0.0</td>\n      <td>0.0</td>\n      <td>0.0</td>\n      <td>0.0</td>\n      <td>0.0</td>\n      <td>0.0</td>\n      <td>0.0</td>\n      <td>0.0</td>\n      <td>0.0</td>\n    </tr>\n    <tr>\n      <th>372448</th>\n      <td>25.0</td>\n      <td>0.0</td>\n      <td>0.0</td>\n      <td>0.0</td>\n      <td>0.0</td>\n      <td>0.0</td>\n      <td>0.0</td>\n      <td>0.0</td>\n      <td>0.0</td>\n      <td>0.0</td>\n      <td>...</td>\n      <td>0.0</td>\n      <td>0.0</td>\n      <td>0.0</td>\n      <td>0.0</td>\n      <td>0.0</td>\n      <td>0.0</td>\n      <td>0.0</td>\n      <td>0.0</td>\n      <td>0.0</td>\n      <td>0.0</td>\n    </tr>\n    <tr>\n      <th>372449</th>\n      <td>25.0</td>\n      <td>0.0</td>\n      <td>0.0</td>\n      <td>0.0</td>\n      <td>0.0</td>\n      <td>0.0</td>\n      <td>0.0</td>\n      <td>0.0</td>\n      <td>0.0</td>\n      <td>0.0</td>\n      <td>...</td>\n      <td>0.0</td>\n      <td>0.0</td>\n      <td>0.0</td>\n      <td>0.0</td>\n      <td>0.0</td>\n      <td>0.0</td>\n      <td>0.0</td>\n      <td>0.0</td>\n      <td>0.0</td>\n      <td>0.0</td>\n    </tr>\n  </tbody>\n</table>\n<p>372450 rows × 785 columns</p>\n</div>"
     },
     "execution_count": 15,
     "metadata": {},
     "output_type": "execute_result"
    }
   ]
  },
  {
   "cell_type": "code",
   "source": [
    "# Get pixel data only\n",
    "alphabet_data = dataset_az.drop('0', axis=1)\n",
    "# Get labels only\n",
    "alphabet_labels = dataset_az['0']"
   ],
   "metadata": {
    "id": "dK6pP0b-o81T",
    "ExecuteTime": {
     "end_time": "2023-11-30T02:20:53.409998Z",
     "start_time": "2023-11-30T02:20:52.926083300Z"
    }
   },
   "execution_count": 16,
   "outputs": []
  },
  {
   "cell_type": "code",
   "source": [
    "# Check shape data\n",
    "alphabet_data.shape, alphabet_labels.shape"
   ],
   "metadata": {
    "id": "NllEoaiLpZhI",
    "ExecuteTime": {
     "end_time": "2023-11-30T02:20:53.414994300Z",
     "start_time": "2023-11-30T02:20:53.380018200Z"
    }
   },
   "execution_count": 17,
   "outputs": [
    {
     "data": {
      "text/plain": "((372450, 784), (372450,))"
     },
     "execution_count": 17,
     "metadata": {},
     "output_type": "execute_result"
    }
   ]
  },
  {
   "cell_type": "code",
   "source": [
    "# Check shape labels\n",
    "alphabet_labels.shape"
   ],
   "metadata": {
    "id": "UvE88zSkpe5e",
    "ExecuteTime": {
     "end_time": "2023-11-30T02:20:53.418528500Z",
     "start_time": "2023-11-30T02:20:53.399118600Z"
    }
   },
   "execution_count": 18,
   "outputs": [
    {
     "data": {
      "text/plain": "(372450,)"
     },
     "execution_count": 18,
     "metadata": {},
     "output_type": "execute_result"
    }
   ]
  },
  {
   "cell_type": "code",
   "source": [
    "# Reshape pixel data to 28*28\n",
    "alphabet_data = np.reshape(alphabet_data.values, (alphabet_data.shape[0], 28, 28))\n",
    "# Check the result by its shape\n",
    "alphabet_data.shape"
   ],
   "metadata": {
    "id": "9xps-5kjpio_",
    "ExecuteTime": {
     "end_time": "2023-11-30T02:20:53.463559700Z",
     "start_time": "2023-11-30T02:20:53.413989300Z"
    }
   },
   "execution_count": 19,
   "outputs": [
    {
     "data": {
      "text/plain": "(372450, 28, 28)"
     },
     "execution_count": 19,
     "metadata": {},
     "output_type": "execute_result"
    }
   ]
  },
  {
   "cell_type": "code",
   "source": [
    "# Randomly checking A-Z dataset\n",
    "index = np.random.randint(0, alphabet_data.shape[0])\n",
    "plt.imshow(alphabet_data[index], cmap = 'gray')\n",
    "plt.title('Class: ' + str(alphabet_labels[index]));"
   ],
   "metadata": {
    "id": "tDTBbWSoqloX",
    "ExecuteTime": {
     "end_time": "2023-11-30T02:20:54.202533200Z",
     "start_time": "2023-11-30T02:20:53.434561100Z"
    }
   },
   "execution_count": 20,
   "outputs": [
    {
     "data": {
      "text/plain": "<Figure size 640x480 with 1 Axes>",
      "image/png": "[encoded data removed]"
     },
     "metadata": {},
     "output_type": "display_data"
    }
   ]
  },
  {
   "cell_type": "code",
   "source": [
    "# Check data distribution\n",
    "df_az_labels = pd.DataFrame({\n",
    "    'Labels': alphabet_labels.values\n",
    "})\n",
    "sns.countplot(df_az_labels, x='Labels')"
   ],
   "metadata": {
    "id": "72frSp_uqrjm",
    "ExecuteTime": {
     "end_time": "2023-11-30T02:20:55.517798900Z",
     "start_time": "2023-11-30T02:20:54.205532100Z"
    }
   },
   "execution_count": 21,
   "outputs": [
    {
     "data": {
      "text/plain": "<Axes: xlabel='Labels', ylabel='count'>"
     },
     "execution_count": 21,
     "metadata": {},
     "output_type": "execute_result"
    },
    {
     "data": {
      "text/plain": "<Figure size 640x480 with 1 Axes>",
      "image/png": "[encoded data removed]"
     },
     "metadata": {},
     "output_type": "display_data"
    }
   ]
  },
  {
   "cell_type": "markdown",
   "source": [
    "## Combine Dataset (MNIST + Kaggel A-Z)"
   ],
   "metadata": {
    "id": "YZf14K79sdEC"
   }
  },
  {
   "cell_type": "code",
   "source": [
    "# Check unique value from digits_labels\n",
    "np.unique(digits_labels)"
   ],
   "metadata": {
    "id": "9voZzZ8Krqk4",
    "ExecuteTime": {
     "end_time": "2023-11-30T02:20:55.664435100Z",
     "start_time": "2023-11-30T02:20:55.521804900Z"
    }
   },
   "execution_count": 22,
   "outputs": [
    {
     "data": {
      "text/plain": "array([0, 1, 2, 3, 4, 5, 6, 7, 8, 9], dtype=uint8)"
     },
     "execution_count": 22,
     "metadata": {},
     "output_type": "execute_result"
    }
   ]
  },
  {
   "cell_type": "code",
   "source": [
    "# Check unique value from alphabet_labels\n",
    "np.unique(alphabet_labels)"
   ],
   "metadata": {
    "id": "9ZzBJFKxs1AF",
    "ExecuteTime": {
     "end_time": "2023-11-30T02:20:55.704654600Z",
     "start_time": "2023-11-30T02:20:55.538830800Z"
    }
   },
   "execution_count": 23,
   "outputs": [
    {
     "data": {
      "text/plain": "array([ 0.,  1.,  2.,  3.,  4.,  5.,  6.,  7.,  8.,  9., 10., 11., 12.,\n       13., 14., 15., 16., 17., 18., 19., 20., 21., 22., 23., 24., 25.],\n      dtype=float32)"
     },
     "execution_count": 23,
     "metadata": {},
     "output_type": "execute_result"
    }
   ]
  },
  {
   "cell_type": "code",
   "source": [
    "# We already know that digits labels containt labels from 0-9 (10 labels)\n",
    "# We also know that alphabet labels start from 0-25 which represent A-Z\n",
    "# If we want to combine them, the A-Z labels should continuing the digits label\n",
    "\n",
    "alphabet_labels += 10"
   ],
   "metadata": {
    "id": "dM0GV8lIsnzf",
    "ExecuteTime": {
     "end_time": "2023-11-30T02:20:55.705649700Z",
     "start_time": "2023-11-30T02:20:55.572682300Z"
    }
   },
   "execution_count": 24,
   "outputs": []
  },
  {
   "cell_type": "code",
   "source": [
    "# check alphabet labels again\n",
    "np.unique(alphabet_labels)"
   ],
   "metadata": {
    "id": "42YKtJB-tQC6",
    "ExecuteTime": {
     "end_time": "2023-11-30T02:20:55.722639500Z",
     "start_time": "2023-11-30T02:20:55.583195700Z"
    }
   },
   "execution_count": 25,
   "outputs": [
    {
     "data": {
      "text/plain": "array([10., 11., 12., 13., 14., 15., 16., 17., 18., 19., 20., 21., 22.,\n       23., 24., 25., 26., 27., 28., 29., 30., 31., 32., 33., 34., 35.],\n      dtype=float32)"
     },
     "execution_count": 25,
     "metadata": {},
     "output_type": "execute_result"
    }
   ]
  },
  {
   "cell_type": "code",
   "source": [
    "# Combine both of them\n",
    "data = np.vstack([alphabet_data, digits_data])\n",
    "labels = np.hstack([alphabet_labels, digits_labels])"
   ],
   "metadata": {
    "id": "1ydXPXiItVVS",
    "ExecuteTime": {
     "end_time": "2023-11-30T02:20:56.973949100Z",
     "start_time": "2023-11-30T02:20:55.644437800Z"
    }
   },
   "execution_count": 26,
   "outputs": []
  },
  {
   "cell_type": "code",
   "source": [
    "# Check the shape\n",
    "data.shape, labels.shape"
   ],
   "metadata": {
    "id": "-vYLoXFjuLz7",
    "ExecuteTime": {
     "end_time": "2023-11-30T02:20:57.002980300Z",
     "start_time": "2023-11-30T02:20:56.976968Z"
    }
   },
   "execution_count": 27,
   "outputs": [
    {
     "data": {
      "text/plain": "((442450, 28, 28), (442450,))"
     },
     "execution_count": 27,
     "metadata": {},
     "output_type": "execute_result"
    }
   ]
  },
  {
   "cell_type": "code",
   "source": [
    "# Check labels\n",
    "np.unique(labels)"
   ],
   "metadata": {
    "id": "biyM6WueuRG6",
    "ExecuteTime": {
     "end_time": "2023-11-30T02:20:57.100955Z",
     "start_time": "2023-11-30T02:20:56.988965300Z"
    }
   },
   "execution_count": 28,
   "outputs": [
    {
     "data": {
      "text/plain": "array([ 0.,  1.,  2.,  3.,  4.,  5.,  6.,  7.,  8.,  9., 10., 11., 12.,\n       13., 14., 15., 16., 17., 18., 19., 20., 21., 22., 23., 24., 25.,\n       26., 27., 28., 29., 30., 31., 32., 33., 34., 35.], dtype=float32)"
     },
     "execution_count": 28,
     "metadata": {},
     "output_type": "execute_result"
    }
   ]
  },
  {
   "cell_type": "code",
   "source": [
    "# Convert data to float32\n",
    "data = np.array(data, dtype = 'float32')"
   ],
   "metadata": {
    "id": "vuEt24lhuVfy",
    "ExecuteTime": {
     "end_time": "2023-11-30T02:20:57.713140Z",
     "start_time": "2023-11-30T02:20:57.050406300Z"
    }
   },
   "execution_count": 29,
   "outputs": []
  },
  {
   "cell_type": "code",
   "source": [
    "# Since Convolutional need 3d data (including depth)\n",
    "# and our images only in 2d data (because in grayscale format)\n",
    "# we need to add \"the depth\" to the data\n",
    "data = np.expand_dims(data, axis=-1)\n",
    "\n",
    "# check shape\n",
    "data.shape"
   ],
   "metadata": {
    "id": "UC6Vhz59ucdR",
    "ExecuteTime": {
     "end_time": "2023-11-30T02:20:57.719157Z",
     "start_time": "2023-11-30T02:20:57.701826600Z"
    }
   },
   "execution_count": 30,
   "outputs": [
    {
     "data": {
      "text/plain": "(442450, 28, 28, 1)"
     },
     "execution_count": 30,
     "metadata": {},
     "output_type": "execute_result"
    }
   ]
  },
  {
   "cell_type": "markdown",
   "source": [
    "# Preprocessing"
   ],
   "metadata": {
    "id": "xF71lXtSu3YE"
   }
  },
  {
   "cell_type": "code",
   "source": [
    "# Normalize data\n",
    "data /= 255.0"
   ],
   "metadata": {
    "id": "kFjjP_JLuzbm",
    "ExecuteTime": {
     "end_time": "2023-11-30T02:20:57.977989Z",
     "start_time": "2023-11-30T02:20:57.714157800Z"
    }
   },
   "execution_count": 31,
   "outputs": []
  },
  {
   "cell_type": "code",
   "source": [
    "# Check range value of data\n",
    "data[0].min(), data[0].max()"
   ],
   "metadata": {
    "id": "zztStKZOu-Dy",
    "ExecuteTime": {
     "end_time": "2023-11-30T02:20:58.004394500Z",
     "start_time": "2023-11-30T02:20:57.983985400Z"
    }
   },
   "execution_count": 32,
   "outputs": [
    {
     "data": {
      "text/plain": "(0.0, 1.0)"
     },
     "execution_count": 32,
     "metadata": {},
     "output_type": "execute_result"
    }
   ]
  },
  {
   "cell_type": "code",
   "source": [
    "# Enconde the labels\n",
    "# LabelBinarizer similar with OneHotEncoder\n",
    "le = LabelBinarizer()\n",
    "labels = le.fit_transform(labels)"
   ],
   "metadata": {
    "id": "s2C5yKEGu7vt",
    "ExecuteTime": {
     "end_time": "2023-11-30T02:20:58.230521700Z",
     "start_time": "2023-11-30T02:20:57.996399500Z"
    }
   },
   "execution_count": 33,
   "outputs": []
  },
  {
   "cell_type": "code",
   "source": [
    "# Check labels shape\n",
    "labels.shape"
   ],
   "metadata": {
    "id": "Bo1M5YEmvg5x",
    "ExecuteTime": {
     "end_time": "2023-11-30T02:20:58.255147Z",
     "start_time": "2023-11-30T02:20:58.233524900Z"
    }
   },
   "execution_count": 34,
   "outputs": [
    {
     "data": {
      "text/plain": "(442450, 36)"
     },
     "execution_count": 34,
     "metadata": {},
     "output_type": "execute_result"
    }
   ]
  },
  {
   "cell_type": "code",
   "source": [
    "# Check data with label binarizer's label\n",
    "plt.imshow(data[30000].reshape(28,28), cmap='gray')\n",
    "plt.title(str(labels[0]))"
   ],
   "metadata": {
    "id": "jCL5ipbsvjpw",
    "ExecuteTime": {
     "end_time": "2023-11-30T02:20:58.966954300Z",
     "start_time": "2023-11-30T02:20:58.244150400Z"
    }
   },
   "execution_count": 35,
   "outputs": [
    {
     "data": {
      "text/plain": "Text(0.5, 1.0, '[0 0 0 0 0 0 0 0 0 0 1 0 0 0 0 0 0 0 0 0 0 0 0 0 0 0 0 0 0 0 0 0 0 0 0 0]')"
     },
     "execution_count": 35,
     "metadata": {},
     "output_type": "execute_result"
    },
    {
     "data": {
      "text/plain": "<Figure size 640x480 with 1 Axes>",
      "image/png": "[encoded data removed]"
     },
     "metadata": {},
     "output_type": "display_data"
    }
   ]
  },
  {
   "cell_type": "code",
   "source": [
    "# Since our data is not balance, we will handle it by giving weight for 'small' data\n",
    "\n",
    "# Check number of data for each labels first\n",
    "classes_total = labels.sum(axis = 0)\n",
    "classes_total"
   ],
   "metadata": {
    "id": "njDbZXKzvsx2",
    "ExecuteTime": {
     "end_time": "2023-11-30T02:20:59.026997700Z",
     "start_time": "2023-11-30T02:20:58.966954300Z"
    }
   },
   "execution_count": 36,
   "outputs": [
    {
     "data": {
      "text/plain": "array([ 6903,  7877,  6990,  7141,  6824,  6313,  6876,  7293,  6825,\n        6958, 13869,  8668, 23409, 10134, 11440,  1163,  5762,  7218,\n        1120,  8493,  5603, 11586, 12336, 19010, 57825, 19341,  5812,\n       11566, 48419, 22495, 29008,  4182, 10784,  6272, 10859,  6076])"
     },
     "execution_count": 36,
     "metadata": {},
     "output_type": "execute_result"
    }
   ]
  },
  {
   "cell_type": "code",
   "source": [
    "# Check the biggest value of data\n",
    "classes_total.max()"
   ],
   "metadata": {
    "id": "R1hHYtGLv_ZO",
    "ExecuteTime": {
     "end_time": "2023-11-30T02:20:59.088862800Z",
     "start_time": "2023-11-30T02:20:59.023699600Z"
    }
   },
   "execution_count": 37,
   "outputs": [
    {
     "data": {
      "text/plain": "57825"
     },
     "execution_count": 37,
     "metadata": {},
     "output_type": "execute_result"
    }
   ]
  },
  {
   "cell_type": "code",
   "source": [
    "# Create a weight for each data\n",
    "classes_weights = {}\n",
    "for i in range(0, len(classes_total)):\n",
    "  #print(i)\n",
    "  classes_weights[i] = classes_total.max() / classes_total[i]\n",
    "\n",
    "# Check the weight for each data\n",
    "classes_weights"
   ],
   "metadata": {
    "id": "7TJFrxS2wFTO",
    "ExecuteTime": {
     "end_time": "2023-11-30T02:20:59.194966Z",
     "start_time": "2023-11-30T02:20:59.044557100Z"
    }
   },
   "execution_count": 38,
   "outputs": [
    {
     "data": {
      "text/plain": "{0: 8.376792698826597,\n 1: 7.340992763742541,\n 2: 8.272532188841202,\n 3: 8.097605377398123,\n 4: 8.473769050410317,\n 5: 9.15967052114684,\n 6: 8.409685863874346,\n 7: 7.928835870012341,\n 8: 8.472527472527473,\n 9: 8.310577752227651,\n 10: 4.169370538611291,\n 11: 6.671089063221043,\n 12: 2.4702037677816224,\n 13: 5.7060390763765545,\n 14: 5.0546328671328675,\n 15: 49.72055030094583,\n 16: 10.035577924331829,\n 17: 8.011221945137157,\n 18: 51.629464285714285,\n 19: 6.808548216178029,\n 20: 10.320364090665715,\n 21: 4.990937338166753,\n 22: 4.6875,\n 23: 3.0418200946870066,\n 24: 1.0,\n 25: 2.989762680316426,\n 26: 9.94924294562973,\n 27: 4.999567698426422,\n 28: 1.1942625828703608,\n 29: 2.5705712380529007,\n 30: 1.993415609487038,\n 31: 13.827116212338593,\n 32: 5.362110534124629,\n 33: 9.21954719387755,\n 34: 5.3250759738465785,\n 35: 9.51695194206715}"
     },
     "execution_count": 38,
     "metadata": {},
     "output_type": "execute_result"
    }
   ]
  },
  {
   "cell_type": "markdown",
   "source": [
    "# Split Data to Train and Test"
   ],
   "metadata": {
    "id": "VtDS1O6JwSQ5"
   }
  },
  {
   "cell_type": "code",
   "source": [
    "X_train, X_test, y_train, y_test = train_test_split(data, labels, test_size = 0.2, random_state = 1, stratify = labels)"
   ],
   "metadata": {
    "id": "rV62GJySwM2z",
    "ExecuteTime": {
     "end_time": "2023-11-30T02:21:31.703275200Z",
     "start_time": "2023-11-30T02:20:59.078863Z"
    }
   },
   "execution_count": 39,
   "outputs": []
  },
  {
   "cell_type": "markdown",
   "source": [
    "## Create Data Augmentation"
   ],
   "metadata": {
    "id": "q7Hs5GwGxw4E"
   }
  },
  {
   "cell_type": "code",
   "source": [
    "# Import library\n",
    "from tensorflow.keras.preprocessing.image import ImageDataGenerator"
   ],
   "metadata": {
    "id": "Xn1jiVn9x2Gx",
    "ExecuteTime": {
     "end_time": "2023-11-30T02:21:31.725624900Z",
     "start_time": "2023-11-30T02:21:31.704276900Z"
    }
   },
   "execution_count": 40,
   "outputs": []
  },
  {
   "cell_type": "code",
   "source": [
    "augmentation = ImageDataGenerator(rotation_range = 10, zoom_range=0.05, width_shift_range=0.1,\n",
    "                                  height_shift_range=0.1, horizontal_flip = False)"
   ],
   "metadata": {
    "id": "su41P3box6Zm",
    "ExecuteTime": {
     "end_time": "2023-11-30T02:21:31.801109400Z",
     "start_time": "2023-11-30T02:21:31.727634900Z"
    }
   },
   "execution_count": 41,
   "outputs": []
  },
  {
   "cell_type": "markdown",
   "source": [
    "# Build CNN Model"
   ],
   "metadata": {
    "id": "GYwIT1TZw8SM"
   }
  },
  {
   "cell_type": "code",
   "source": [
    "# Import library\n",
    "from tensorflow.keras.models import Sequential\n",
    "from tensorflow.keras.layers import Conv2D, MaxPool2D, Flatten, Dense\n",
    "from tensorflow.keras.callbacks import ModelCheckpoint"
   ],
   "metadata": {
    "id": "nvQ2Ly4zwX8z",
    "ExecuteTime": {
     "end_time": "2023-11-30T02:21:31.802107400Z",
     "start_time": "2023-11-30T02:21:31.739004600Z"
    }
   },
   "execution_count": 42,
   "outputs": []
  },
  {
   "cell_type": "code",
   "source": [
    "# Build the network\n",
    "network = Sequential()\n",
    "\n",
    "network.add(Conv2D(filters = 32, kernel_size=(3,3), activation='relu', input_shape=(28,28,1)))\n",
    "network.add(MaxPool2D(pool_size=(2,2)))\n",
    "\n",
    "network.add(Conv2D(filters = 64, kernel_size=(3,3), activation='relu', padding='same'))\n",
    "network.add(MaxPool2D(pool_size=(2,2)))\n",
    "\n",
    "network.add(Conv2D(filters = 128, kernel_size=(3,3), activation='relu', padding='valid'))\n",
    "network.add(MaxPool2D(pool_size=(2,2)))\n",
    "\n",
    "network.add(Flatten())\n",
    "\n",
    "network.add(Dense(64, activation = 'relu'))\n",
    "network.add(Dense(128, activation = 'relu'))\n",
    "\n",
    "network.add(Dense(36, activation='softmax'))\n",
    "\n",
    "network.compile(loss = 'categorical_crossentropy', optimizer = 'adam', metrics = ['accuracy'])"
   ],
   "metadata": {
    "id": "icRreUChxAwF",
    "ExecuteTime": {
     "end_time": "2023-11-30T02:21:32.230236100Z",
     "start_time": "2023-11-30T02:21:31.773124800Z"
    }
   },
   "execution_count": 43,
   "outputs": []
  },
  {
   "cell_type": "code",
   "source": [
    "# Check network summary\n",
    "network.summary()"
   ],
   "metadata": {
    "id": "nAuCYbRWxIKl",
    "ExecuteTime": {
     "end_time": "2023-11-30T02:21:32.487310200Z",
     "start_time": "2023-11-30T02:21:32.231221500Z"
    }
   },
   "execution_count": 44,
   "outputs": [
    {
     "name": "stdout",
     "output_type": "stream",
     "text": [
      "Model: \"sequential\"\n",
      "_________________________________________________________________\n",
      " Layer (type)                Output Shape              Param #   \n",
      "=================================================================\n",
      " conv2d (Conv2D)             (None, 26, 26, 32)        320       \n",
      "                                                                 \n",
      " max_pooling2d (MaxPooling2  (None, 13, 13, 32)        0         \n",
      " D)                                                              \n",
      "                                                                 \n",
      " conv2d_1 (Conv2D)           (None, 13, 13, 64)        18496     \n",
      "                                                                 \n",
      " max_pooling2d_1 (MaxPoolin  (None, 6, 6, 64)          0         \n",
      " g2D)                                                            \n",
      "                                                                 \n",
      " conv2d_2 (Conv2D)           (None, 4, 4, 128)         73856     \n",
      "                                                                 \n",
      " max_pooling2d_2 (MaxPoolin  (None, 2, 2, 128)         0         \n",
      " g2D)                                                            \n",
      "                                                                 \n",
      " flatten (Flatten)           (None, 512)               0         \n",
      "                                                                 \n",
      " dense (Dense)               (None, 64)                32832     \n",
      "                                                                 \n",
      " dense_1 (Dense)             (None, 128)               8320      \n",
      "                                                                 \n",
      " dense_2 (Dense)             (None, 36)                4644      \n",
      "                                                                 \n",
      "=================================================================\n",
      "Total params: 138468 (540.89 KB)\n",
      "Trainable params: 138468 (540.89 KB)\n",
      "Non-trainable params: 0 (0.00 Byte)\n",
      "_________________________________________________________________\n"
     ]
    }
   ]
  },
  {
   "cell_type": "code",
   "source": [
    "# Create actual labels\n",
    "name_labels = '0123456789'\n",
    "name_labels += 'ABCDEFGHIJKLMNOPQRSTUVWXYZ'\n",
    "name_labels = [l for l in name_labels]\n",
    "\n",
    "# Check actual label\n",
    "print(name_labels)"
   ],
   "metadata": {
    "id": "o7Vc4ly2xMhk",
    "ExecuteTime": {
     "end_time": "2023-11-30T02:21:32.503333700Z",
     "start_time": "2023-11-30T02:21:32.301039200Z"
    }
   },
   "execution_count": 45,
   "outputs": [
    {
     "name": "stdout",
     "output_type": "stream",
     "text": [
      "['0', '1', '2', '3', '4', '5', '6', '7', '8', '9', 'A', 'B', 'C', 'D', 'E', 'F', 'G', 'H', 'I', 'J', 'K', 'L', 'M', 'N', 'O', 'P', 'Q', 'R', 'S', 'T', 'U', 'V', 'W', 'X', 'Y', 'Z']\n"
     ]
    }
   ]
  },
  {
   "cell_type": "markdown",
   "source": [
    "## Train model"
   ],
   "metadata": {
    "id": "DH7hSW38xX6e"
   }
  },
  {
   "cell_type": "code",
   "source": [
    "# Set model name, epoch, and batch size\n",
    "file_model = 'custom_ocr.model'\n",
    "epochs = 20\n",
    "batch_size = 128"
   ],
   "metadata": {
    "id": "rNQ_-PY7xVRD",
    "ExecuteTime": {
     "end_time": "2023-11-30T02:21:32.505330100Z",
     "start_time": "2023-11-30T02:21:32.323195700Z"
    }
   },
   "execution_count": 46,
   "outputs": []
  },
  {
   "cell_type": "code",
   "source": [
    "# Setup checkpoint\n",
    "checkpointer = ModelCheckpoint(file_model, monitor = 'val_loss', verbose = 1, save_best_only=True)"
   ],
   "metadata": {
    "id": "F8Orj5UQxdtr",
    "ExecuteTime": {
     "end_time": "2023-11-30T02:21:32.507335100Z",
     "start_time": "2023-11-30T02:21:32.334752800Z"
    }
   },
   "execution_count": 47,
   "outputs": []
  },
  {
   "cell_type": "code",
   "source": [
    "# Fit the model\n",
    "history = network.fit(augmentation.flow(X_train, y_train, batch_size=batch_size),\n",
    "                      validation_data = (X_test, y_test),\n",
    "                      steps_per_epoch = len(X_train) // batch_size, epochs=epochs,\n",
    "                      class_weight = classes_weights, verbose=1, callbacks=[checkpointer])"
   ],
   "metadata": {
    "id": "enFAwiaxxkgx",
    "ExecuteTime": {
     "end_time": "2023-11-30T04:05:45.223067200Z",
     "start_time": "2023-11-30T02:21:32.345753800Z"
    }
   },
   "execution_count": 48,
   "outputs": [
    {
     "name": "stdout",
     "output_type": "stream",
     "text": [
      "Epoch 1/20\n",
      "2765/2765 [==============================] - ETA: 0s - loss: 2.2009 - accuracy: 0.8241\n",
      "Epoch 1: val_loss improved from inf to 0.34022, saving model to custom_ocr.model\n",
      "INFO:tensorflow:Assets written to: custom_ocr.model\\assets\n"
     ]
    },
    {
     "name": "stderr",
     "output_type": "stream",
     "text": [
      "INFO:tensorflow:Assets written to: custom_ocr.model\\assets\n"
     ]
    },
    {
     "name": "stdout",
     "output_type": "stream",
     "text": [
      "2765/2765 [==============================] - 341s 122ms/step - loss: 2.2009 - accuracy: 0.8241 - val_loss: 0.3402 - val_accuracy: 0.8726\n",
      "Epoch 2/20\n",
      "2765/2765 [==============================] - ETA: 0s - loss: 0.9737 - accuracy: 0.9017\n",
      "Epoch 2: val_loss improved from 0.34022 to 0.22346, saving model to custom_ocr.model\n",
      "INFO:tensorflow:Assets written to: custom_ocr.model\\assets\n"
     ]
    },
    {
     "name": "stderr",
     "output_type": "stream",
     "text": [
      "INFO:tensorflow:Assets written to: custom_ocr.model\\assets\n"
     ]
    },
    {
     "name": "stdout",
     "output_type": "stream",
     "text": [
      "2765/2765 [==============================] - 331s 120ms/step - loss: 0.9737 - accuracy: 0.9017 - val_loss: 0.2235 - val_accuracy: 0.9162\n",
      "Epoch 3/20\n",
      "2765/2765 [==============================] - ETA: 0s - loss: 0.8123 - accuracy: 0.9136\n",
      "Epoch 3: val_loss did not improve from 0.22346\n",
      "2765/2765 [==============================] - 329s 119ms/step - loss: 0.8123 - accuracy: 0.9136 - val_loss: 0.3142 - val_accuracy: 0.8655\n",
      "Epoch 4/20\n",
      "2765/2765 [==============================] - ETA: 0s - loss: 0.7202 - accuracy: 0.9208\n",
      "Epoch 4: val_loss improved from 0.22346 to 0.18573, saving model to custom_ocr.model\n",
      "INFO:tensorflow:Assets written to: custom_ocr.model\\assets\n"
     ]
    },
    {
     "name": "stderr",
     "output_type": "stream",
     "text": [
      "INFO:tensorflow:Assets written to: custom_ocr.model\\assets\n"
     ]
    },
    {
     "name": "stdout",
     "output_type": "stream",
     "text": [
      "2765/2765 [==============================] - 317s 115ms/step - loss: 0.7202 - accuracy: 0.9208 - val_loss: 0.1857 - val_accuracy: 0.9261\n",
      "Epoch 5/20\n",
      "2765/2765 [==============================] - ETA: 0s - loss: 0.6553 - accuracy: 0.9272\n",
      "Epoch 5: val_loss did not improve from 0.18573\n",
      "2765/2765 [==============================] - 319s 115ms/step - loss: 0.6553 - accuracy: 0.9272 - val_loss: 0.3620 - val_accuracy: 0.8455\n",
      "Epoch 6/20\n",
      "2765/2765 [==============================] - ETA: 0s - loss: 0.6059 - accuracy: 0.9310\n",
      "Epoch 6: val_loss did not improve from 0.18573\n",
      "2765/2765 [==============================] - 313s 113ms/step - loss: 0.6059 - accuracy: 0.9310 - val_loss: 0.3268 - val_accuracy: 0.8638\n",
      "Epoch 7/20\n",
      "2765/2765 [==============================] - ETA: 0s - loss: 0.5799 - accuracy: 0.9343\n",
      "Epoch 7: val_loss did not improve from 0.18573\n",
      "2765/2765 [==============================] - 315s 114ms/step - loss: 0.5799 - accuracy: 0.9343 - val_loss: 0.3170 - val_accuracy: 0.8677\n",
      "Epoch 8/20\n",
      "2765/2765 [==============================] - ETA: 0s - loss: 0.5444 - accuracy: 0.9359\n",
      "Epoch 8: val_loss did not improve from 0.18573\n",
      "2765/2765 [==============================] - 301s 109ms/step - loss: 0.5444 - accuracy: 0.9359 - val_loss: 0.2158 - val_accuracy: 0.9070\n",
      "Epoch 9/20\n",
      "2765/2765 [==============================] - ETA: 0s - loss: 0.5294 - accuracy: 0.9366\n",
      "Epoch 9: val_loss did not improve from 0.18573\n",
      "2765/2765 [==============================] - 301s 109ms/step - loss: 0.5294 - accuracy: 0.9366 - val_loss: 0.2323 - val_accuracy: 0.9017\n",
      "Epoch 10/20\n",
      "2765/2765 [==============================] - ETA: 0s - loss: 0.5048 - accuracy: 0.9385\n",
      "Epoch 10: val_loss did not improve from 0.18573\n",
      "2765/2765 [==============================] - 331s 120ms/step - loss: 0.5048 - accuracy: 0.9385 - val_loss: 0.2872 - val_accuracy: 0.8751\n",
      "Epoch 11/20\n",
      "2765/2765 [==============================] - ETA: 0s - loss: 0.4935 - accuracy: 0.9401\n",
      "Epoch 11: val_loss did not improve from 0.18573\n",
      "2765/2765 [==============================] - 303s 110ms/step - loss: 0.4935 - accuracy: 0.9401 - val_loss: 0.2748 - val_accuracy: 0.8813\n",
      "Epoch 12/20\n",
      "2765/2765 [==============================] - ETA: 0s - loss: 0.4779 - accuracy: 0.9421\n",
      "Epoch 12: val_loss did not improve from 0.18573\n",
      "2765/2765 [==============================] - 302s 109ms/step - loss: 0.4779 - accuracy: 0.9421 - val_loss: 0.2308 - val_accuracy: 0.9044\n",
      "Epoch 13/20\n",
      "2765/2765 [==============================] - ETA: 0s - loss: 0.4660 - accuracy: 0.9430\n",
      "Epoch 13: val_loss did not improve from 0.18573\n",
      "2765/2765 [==============================] - 338s 122ms/step - loss: 0.4660 - accuracy: 0.9430 - val_loss: 0.1896 - val_accuracy: 0.9268\n",
      "Epoch 14/20\n",
      "2765/2765 [==============================] - ETA: 0s - loss: 0.4476 - accuracy: 0.9446\n",
      "Epoch 14: val_loss improved from 0.18573 to 0.16509, saving model to custom_ocr.model\n",
      "INFO:tensorflow:Assets written to: custom_ocr.model\\assets\n"
     ]
    },
    {
     "name": "stderr",
     "output_type": "stream",
     "text": [
      "INFO:tensorflow:Assets written to: custom_ocr.model\\assets\n"
     ]
    },
    {
     "name": "stdout",
     "output_type": "stream",
     "text": [
      "2765/2765 [==============================] - 334s 121ms/step - loss: 0.4476 - accuracy: 0.9446 - val_loss: 0.1651 - val_accuracy: 0.9453\n",
      "Epoch 15/20\n",
      "2765/2765 [==============================] - ETA: 0s - loss: 0.4437 - accuracy: 0.9456\n",
      "Epoch 15: val_loss improved from 0.16509 to 0.16120, saving model to custom_ocr.model\n",
      "INFO:tensorflow:Assets written to: custom_ocr.model\\assets\n"
     ]
    },
    {
     "name": "stderr",
     "output_type": "stream",
     "text": [
      "INFO:tensorflow:Assets written to: custom_ocr.model\\assets\n"
     ]
    },
    {
     "name": "stdout",
     "output_type": "stream",
     "text": [
      "2765/2765 [==============================] - 308s 111ms/step - loss: 0.4437 - accuracy: 0.9456 - val_loss: 0.1612 - val_accuracy: 0.9374\n",
      "Epoch 16/20\n",
      "2765/2765 [==============================] - ETA: 0s - loss: 0.4299 - accuracy: 0.9466\n",
      "Epoch 16: val_loss improved from 0.16120 to 0.14488, saving model to custom_ocr.model\n",
      "INFO:tensorflow:Assets written to: custom_ocr.model\\assets\n"
     ]
    },
    {
     "name": "stderr",
     "output_type": "stream",
     "text": [
      "INFO:tensorflow:Assets written to: custom_ocr.model\\assets\n"
     ]
    },
    {
     "name": "stdout",
     "output_type": "stream",
     "text": [
      "2765/2765 [==============================] - 323s 117ms/step - loss: 0.4299 - accuracy: 0.9466 - val_loss: 0.1449 - val_accuracy: 0.9523\n",
      "Epoch 17/20\n",
      "2765/2765 [==============================] - ETA: 0s - loss: 0.4216 - accuracy: 0.9481\n",
      "Epoch 17: val_loss did not improve from 0.14488\n",
      "2765/2765 [==============================] - 284s 103ms/step - loss: 0.4216 - accuracy: 0.9481 - val_loss: 0.1595 - val_accuracy: 0.9459\n",
      "Epoch 18/20\n",
      "2765/2765 [==============================] - ETA: 0s - loss: 0.4221 - accuracy: 0.9483\n",
      "Epoch 18: val_loss did not improve from 0.14488\n",
      "2765/2765 [==============================] - 292s 106ms/step - loss: 0.4221 - accuracy: 0.9483 - val_loss: 0.1457 - val_accuracy: 0.9520\n",
      "Epoch 19/20\n",
      "2765/2765 [==============================] - ETA: 0s - loss: 0.4063 - accuracy: 0.9502\n",
      "Epoch 19: val_loss did not improve from 0.14488\n",
      "2765/2765 [==============================] - 285s 103ms/step - loss: 0.4063 - accuracy: 0.9502 - val_loss: 0.1765 - val_accuracy: 0.9378\n",
      "Epoch 20/20\n",
      "2765/2765 [==============================] - ETA: 0s - loss: 0.4058 - accuracy: 0.9501\n",
      "Epoch 20: val_loss did not improve from 0.14488\n",
      "2765/2765 [==============================] - 286s 104ms/step - loss: 0.4058 - accuracy: 0.9501 - val_loss: 0.1509 - val_accuracy: 0.9521\n"
     ]
    }
   ]
  },
  {
   "cell_type": "markdown",
   "source": [
    "# Evaluate Model"
   ],
   "metadata": {
    "id": "bM4mGoWL6jxk"
   }
  },
  {
   "cell_type": "markdown",
   "source": [
    "## Make a Single Prediction"
   ],
   "metadata": {
    "id": "ig0TiV6N7V29"
   }
  },
  {
   "cell_type": "markdown",
   "source": [],
   "metadata": {
    "id": "5pbMkmvg7V0i"
   }
  },
  {
   "cell_type": "code",
   "source": [
    "# make a prediction\n",
    "predictions = network.predict(X_test, batch_size=batch_size)"
   ],
   "metadata": {
    "id": "WDJUSW-l6lEl",
    "ExecuteTime": {
     "end_time": "2023-11-30T04:06:00.301021200Z",
     "start_time": "2023-11-30T04:05:45.192073400Z"
    }
   },
   "execution_count": 49,
   "outputs": [
    {
     "name": "stdout",
     "output_type": "stream",
     "text": [
      "692/692 [==============================] - 14s 20ms/step\n"
     ]
    }
   ]
  },
  {
   "cell_type": "code",
   "source": [
    "# Check prediction for data-0\n",
    "# You will get the probability for each label\n",
    "# The highest one is the prediction\n",
    "predictions[1]"
   ],
   "metadata": {
    "id": "tQ5Ta4b96pEt",
    "ExecuteTime": {
     "end_time": "2023-11-30T04:06:00.321976700Z",
     "start_time": "2023-11-30T04:06:00.302021300Z"
    }
   },
   "execution_count": 50,
   "outputs": [
    {
     "data": {
      "text/plain": "array([5.5484634e-16, 1.2366074e-07, 7.3334155e-10, 1.0440847e-10,\n       5.0622839e-12, 4.3250736e-08, 7.2202166e-14, 2.2110717e-08,\n       5.1647905e-11, 2.7151708e-12, 4.8456174e-12, 1.1101458e-12,\n       2.2611993e-10, 1.0541323e-09, 2.4348676e-11, 3.7974285e-10,\n       3.6527718e-11, 3.0918781e-10, 9.9970019e-01, 2.9702534e-04,\n       3.0353779e-11, 2.3349296e-08, 2.1730014e-15, 6.6699133e-16,\n       5.7989323e-13, 1.5444226e-11, 3.2175837e-14, 3.5749618e-14,\n       2.9639924e-09, 2.6258783e-06, 6.1838301e-10, 1.0830251e-17,\n       1.2213055e-11, 3.3210669e-12, 9.5362242e-12, 1.4130468e-08],\n      dtype=float32)"
     },
     "execution_count": 50,
     "metadata": {},
     "output_type": "execute_result"
    }
   ]
  },
  {
   "cell_type": "code",
   "source": [
    "# Get the actual prediction -> highest probability\n",
    "np.argmax(predictions[1])"
   ],
   "metadata": {
    "id": "9THTrYAH64g8",
    "ExecuteTime": {
     "end_time": "2023-11-30T04:06:00.346627200Z",
     "start_time": "2023-11-30T04:06:00.316794300Z"
    }
   },
   "execution_count": 51,
   "outputs": [
    {
     "data": {
      "text/plain": "18"
     },
     "execution_count": 51,
     "metadata": {},
     "output_type": "execute_result"
    }
   ]
  },
  {
   "cell_type": "code",
   "source": [
    "# Check label for 24\n",
    "name_labels[18]"
   ],
   "metadata": {
    "id": "pG6n2eTI6-Ly",
    "ExecuteTime": {
     "end_time": "2023-11-30T04:06:00.428527700Z",
     "start_time": "2023-11-30T04:06:00.327988700Z"
    }
   },
   "execution_count": 52,
   "outputs": [
    {
     "data": {
      "text/plain": "'I'"
     },
     "execution_count": 52,
     "metadata": {},
     "output_type": "execute_result"
    }
   ]
  },
  {
   "cell_type": "code",
   "source": [
    "# Check y_test label for 0\n",
    "y_test[1]"
   ],
   "metadata": {
    "id": "chDSvyYq7Bxq",
    "ExecuteTime": {
     "end_time": "2023-11-30T04:06:00.455519300Z",
     "start_time": "2023-11-30T04:06:00.338088100Z"
    }
   },
   "execution_count": 53,
   "outputs": [
    {
     "data": {
      "text/plain": "array([0, 0, 0, 0, 0, 0, 0, 0, 0, 0, 0, 0, 0, 0, 0, 0, 0, 0, 1, 0, 0, 0,\n       0, 0, 0, 0, 0, 0, 0, 0, 0, 0, 0, 0, 0, 0])"
     },
     "execution_count": 53,
     "metadata": {},
     "output_type": "execute_result"
    }
   ]
  },
  {
   "cell_type": "code",
   "source": [
    "# check the highest value\n",
    "np.argmax(y_test[1])"
   ],
   "metadata": {
    "id": "BpoE99Us7KpZ",
    "ExecuteTime": {
     "end_time": "2023-11-30T04:06:00.457523600Z",
     "start_time": "2023-11-30T04:06:00.351627100Z"
    }
   },
   "execution_count": 54,
   "outputs": [
    {
     "data": {
      "text/plain": "18"
     },
     "execution_count": 54,
     "metadata": {},
     "output_type": "execute_result"
    }
   ]
  },
  {
   "cell_type": "code",
   "source": [
    "# Check the label of y_test 0\n",
    "name_labels[np.argmax(y_test[18])]"
   ],
   "metadata": {
    "id": "KjJRX1lC7Ppw",
    "ExecuteTime": {
     "end_time": "2023-11-30T04:06:00.459514700Z",
     "start_time": "2023-11-30T04:06:00.363810100Z"
    }
   },
   "execution_count": 55,
   "outputs": [
    {
     "data": {
      "text/plain": "'S'"
     },
     "execution_count": 55,
     "metadata": {},
     "output_type": "execute_result"
    }
   ]
  },
  {
   "cell_type": "markdown",
   "source": [
    "## Make an Evaluation on Test Data"
   ],
   "metadata": {
    "id": "_xFS3-cs7a0x"
   }
  },
  {
   "cell_type": "code",
   "source": [
    "# Evaluate on test data\n",
    "network.evaluate(X_test, y_test)"
   ],
   "metadata": {
    "id": "t-rko8WP7TYA",
    "ExecuteTime": {
     "end_time": "2023-11-30T04:06:27.104985400Z",
     "start_time": "2023-11-30T04:06:00.378963400Z"
    }
   },
   "execution_count": 56,
   "outputs": [
    {
     "name": "stdout",
     "output_type": "stream",
     "text": [
      "2766/2766 [==============================] - 27s 10ms/step - loss: 0.1509 - accuracy: 0.9521\n"
     ]
    },
    {
     "data": {
      "text/plain": "[0.1509055197238922, 0.9521301984786987]"
     },
     "execution_count": 56,
     "metadata": {},
     "output_type": "execute_result"
    }
   ]
  },
  {
   "cell_type": "code",
   "source": [
    "# Print Classification Report\n",
    "print(classification_report(y_test.argmax(axis=1), predictions.argmax(axis=1), target_names = name_labels))"
   ],
   "metadata": {
    "id": "VkQtgoCq7gx2",
    "ExecuteTime": {
     "end_time": "2023-11-30T04:06:27.361898400Z",
     "start_time": "2023-11-30T04:06:27.088953300Z"
    }
   },
   "execution_count": 57,
   "outputs": [
    {
     "name": "stdout",
     "output_type": "stream",
     "text": [
      "              precision    recall  f1-score   support\n",
      "\n",
      "           0       0.82      0.11      0.19      1381\n",
      "           1       0.98      0.97      0.97      1575\n",
      "           2       0.91      0.96      0.94      1398\n",
      "           3       0.98      0.97      0.97      1428\n",
      "           4       0.89      0.98      0.93      1365\n",
      "           5       0.67      0.93      0.78      1263\n",
      "           6       0.96      0.97      0.96      1375\n",
      "           7       0.94      0.98      0.96      1459\n",
      "           8       0.98      0.97      0.98      1365\n",
      "           9       0.99      0.97      0.98      1392\n",
      "           A       1.00      0.97      0.98      2774\n",
      "           B       0.94      0.99      0.96      1734\n",
      "           C       0.99      0.98      0.98      4682\n",
      "           D       0.88      0.96      0.92      2027\n",
      "           E       0.99      0.99      0.99      2288\n",
      "           F       0.97      0.98      0.97       233\n",
      "           G       0.94      0.96      0.95      1152\n",
      "           H       0.95      0.98      0.96      1444\n",
      "           I       0.97      0.98      0.98       224\n",
      "           J       0.80      0.98      0.88      1698\n",
      "           K       0.95      0.99      0.97      1121\n",
      "           L       0.96      0.98      0.97      2317\n",
      "           M       0.97      1.00      0.98      2467\n",
      "           N       0.99      0.98      0.98      3802\n",
      "           O       0.90      0.98      0.94     11565\n",
      "           P       1.00      0.96      0.98      3868\n",
      "           Q       0.96      0.98      0.97      1162\n",
      "           R       0.98      0.97      0.98      2313\n",
      "           S       0.99      0.93      0.96      9684\n",
      "           T       1.00      0.90      0.95      4499\n",
      "           U       0.98      0.98      0.98      5801\n",
      "           V       0.97      1.00      0.98       836\n",
      "           W       0.97      0.99      0.98      2157\n",
      "           X       0.97      0.99      0.98      1254\n",
      "           Y       0.99      0.91      0.95      2172\n",
      "           Z       0.97      0.91      0.94      1215\n",
      "\n",
      "    accuracy                           0.95     88490\n",
      "   macro avg       0.95      0.95      0.94     88490\n",
      "weighted avg       0.95      0.95      0.95     88490\n"
     ]
    }
   ]
  },
  {
   "cell_type": "code",
   "source": [
    "# Visualize loss value for each epoch\n",
    "plt.plot(history.history['val_loss'])"
   ],
   "metadata": {
    "id": "mIETfqMu7nv1",
    "ExecuteTime": {
     "end_time": "2023-11-30T04:06:27.788334300Z",
     "start_time": "2023-11-30T04:06:27.360899600Z"
    }
   },
   "execution_count": 58,
   "outputs": [
    {
     "data": {
      "text/plain": "[<matplotlib.lines.Line2D at 0x2b9dc73d150>]"
     },
     "execution_count": 58,
     "metadata": {},
     "output_type": "execute_result"
    },
    {
     "data": {
      "text/plain": "<Figure size 640x480 with 1 Axes>",
      "image/png": "[encoded data removed]"
     },
     "metadata": {},
     "output_type": "display_data"
    }
   ]
  },
  {
   "cell_type": "code",
   "source": [
    "# You can also check the another metrics\n",
    "history.history.keys()"
   ],
   "metadata": {
    "id": "mNUP1QP17vas",
    "ExecuteTime": {
     "end_time": "2023-11-30T04:06:27.810162700Z",
     "start_time": "2023-11-30T04:06:27.787335400Z"
    }
   },
   "execution_count": 59,
   "outputs": [
    {
     "data": {
      "text/plain": "dict_keys(['loss', 'accuracy', 'val_loss', 'val_accuracy'])"
     },
     "execution_count": 59,
     "metadata": {},
     "output_type": "execute_result"
    }
   ]
  },
  {
   "cell_type": "code",
   "source": [
    "# Check the model performance by validation accuracy\n",
    "plt.plot(history.history['val_accuracy'])"
   ],
   "metadata": {
    "id": "VwEZzjEa716s",
    "ExecuteTime": {
     "end_time": "2023-11-30T04:06:28.210445600Z",
     "start_time": "2023-11-30T04:06:27.802149100Z"
    }
   },
   "execution_count": 60,
   "outputs": [
    {
     "data": {
      "text/plain": "[<matplotlib.lines.Line2D at 0x2ba0066b350>]"
     },
     "execution_count": 60,
     "metadata": {},
     "output_type": "execute_result"
    },
    {
     "data": {
      "text/plain": "<Figure size 640x480 with 1 Axes>",
      "image/png": "[encoded data removed]"
     },
     "metadata": {},
     "output_type": "display_data"
    }
   ]
  },
  {
   "cell_type": "markdown",
   "source": [
    "# Save The Model"
   ],
   "metadata": {
    "id": "D0rviDyl79Bk"
   }
  },
  {
   "cell_type": "code",
   "source": [
    "# The result will show in colab directory\n",
    "network.save('network', save_format= 'h5')"
   ],
   "metadata": {
    "id": "QZ4ftlmq76nC",
    "ExecuteTime": {
     "end_time": "2023-11-30T04:06:28.408774900Z",
     "start_time": "2023-11-30T04:06:28.209448900Z"
    }
   },
   "execution_count": 61,
   "outputs": [
    {
     "name": "stderr",
     "output_type": "stream",
     "text": [
      "C:\\Users\\user\\AppData\\Roaming\\Python\\Python311\\site-packages\\keras\\src\\engine\\training.py:3079: UserWarning: You are saving your model as an HDF5 file via `model.save()`. This file format is considered legacy. We recommend using instead the native Keras format, e.g. `model.save('my_model.keras')`.\n",
      "  saving_api.save_model(\n"
     ]
    }
   ]
  },
  {
   "cell_type": "markdown",
   "source": [
    "# Testing on Real Image"
   ],
   "metadata": {
    "id": "A3EWZVrz0YDV"
   }
  },
  {
   "cell_type": "code",
   "source": [
    "# Import library\n",
    "from tensorflow.keras.models import load_model"
   ],
   "metadata": {
    "id": "1wUedJB-0Z_q",
    "ExecuteTime": {
     "end_time": "2023-11-30T04:06:28.409771800Z",
     "start_time": "2023-11-30T04:06:28.392308700Z"
    }
   },
   "execution_count": 62,
   "outputs": []
  },
  {
   "cell_type": "code",
   "source": [
    "# Load saved network\n",
    "load_network = load_model('network')"
   ],
   "metadata": {
    "id": "D6E24QOm0hiB",
    "ExecuteTime": {
     "end_time": "2023-11-30T04:06:28.782165800Z",
     "start_time": "2023-11-30T04:06:28.414767100Z"
    }
   },
   "execution_count": 63,
   "outputs": []
  },
  {
   "cell_type": "code",
   "source": [
    "# Check summary\n",
    "load_network.summary()"
   ],
   "metadata": {
    "id": "0cB7lmOc0nlR",
    "ExecuteTime": {
     "end_time": "2023-11-30T04:06:28.957055300Z",
     "start_time": "2023-11-30T04:06:28.786173500Z"
    }
   },
   "execution_count": 64,
   "outputs": [
    {
     "name": "stdout",
     "output_type": "stream",
     "text": [
      "Model: \"sequential\"\n",
      "_________________________________________________________________\n",
      " Layer (type)                Output Shape              Param #   \n",
      "=================================================================\n",
      " conv2d (Conv2D)             (None, 26, 26, 32)        320       \n",
      "                                                                 \n",
      " max_pooling2d (MaxPooling2  (None, 13, 13, 32)        0         \n",
      " D)                                                              \n",
      "                                                                 \n",
      " conv2d_1 (Conv2D)           (None, 13, 13, 64)        18496     \n",
      "                                                                 \n",
      " max_pooling2d_1 (MaxPoolin  (None, 6, 6, 64)          0         \n",
      " g2D)                                                            \n",
      "                                                                 \n",
      " conv2d_2 (Conv2D)           (None, 4, 4, 128)         73856     \n",
      "                                                                 \n",
      " max_pooling2d_2 (MaxPoolin  (None, 2, 2, 128)         0         \n",
      " g2D)                                                            \n",
      "                                                                 \n",
      " flatten (Flatten)           (None, 512)               0         \n",
      "                                                                 \n",
      " dense (Dense)               (None, 64)                32832     \n",
      "                                                                 \n",
      " dense_1 (Dense)             (None, 128)               8320      \n",
      "                                                                 \n",
      " dense_2 (Dense)             (None, 36)                4644      \n",
      "                                                                 \n",
      "=================================================================\n",
      "Total params: 138468 (540.89 KB)\n",
      "Trainable params: 138468 (540.89 KB)\n",
      "Non-trainable params: 0 (0.00 Byte)\n",
      "_________________________________________________________________\n"
     ]
    }
   ]
  },
  {
   "cell_type": "code",
   "source": [
    "# Load Image\n",
    "import cv2\n",
    "from google.colab.patches import cv2_imshow\n",
    "\n",
    "img = cv2.imread('b_small.png')\n",
    "cv2_imshow(img)"
   ],
   "metadata": {
    "id": "hbnaTxZK07JW",
    "ExecuteTime": {
     "end_time": "2023-11-30T04:06:32.310913400Z",
     "start_time": "2023-11-30T04:06:28.856516200Z"
    }
   },
   "execution_count": 65,
   "outputs": [
    {
     "ename": "ModuleNotFoundError",
     "evalue": "No module named 'termios'",
     "output_type": "error",
     "traceback": [
      "\u001B[1;31m---------------------------------------------------------------------------\u001B[0m",
      "\u001B[1;31mModuleNotFoundError\u001B[0m                       Traceback (most recent call last)",
      "Cell \u001B[1;32mIn[65], line 3\u001B[0m\n\u001B[0;32m      1\u001B[0m \u001B[38;5;66;03m# Load Image\u001B[39;00m\n\u001B[0;32m      2\u001B[0m \u001B[38;5;28;01mimport\u001B[39;00m \u001B[38;5;21;01mcv2\u001B[39;00m\n\u001B[1;32m----> 3\u001B[0m \u001B[38;5;28;01mfrom\u001B[39;00m \u001B[38;5;21;01mgoogle\u001B[39;00m\u001B[38;5;21;01m.\u001B[39;00m\u001B[38;5;21;01mcolab\u001B[39;00m\u001B[38;5;21;01m.\u001B[39;00m\u001B[38;5;21;01mpatches\u001B[39;00m \u001B[38;5;28;01mimport\u001B[39;00m cv2_imshow\n\u001B[0;32m      5\u001B[0m img \u001B[38;5;241m=\u001B[39m cv2\u001B[38;5;241m.\u001B[39mimread(\u001B[38;5;124m'\u001B[39m\u001B[38;5;124mb_small.png\u001B[39m\u001B[38;5;124m'\u001B[39m)\n\u001B[0;32m      6\u001B[0m cv2_imshow(img)\n",
      "File \u001B[1;32mD:\\SDK\\anaconda3\\Lib\\site-packages\\google\\colab\\__init__.py:23\u001B[0m\n\u001B[0;32m     21\u001B[0m \u001B[38;5;28;01mfrom\u001B[39;00m \u001B[38;5;21;01mgoogle\u001B[39;00m\u001B[38;5;21;01m.\u001B[39;00m\u001B[38;5;21;01mcolab\u001B[39;00m \u001B[38;5;28;01mimport\u001B[39;00m _installation_commands\n\u001B[0;32m     22\u001B[0m \u001B[38;5;28;01mfrom\u001B[39;00m \u001B[38;5;21;01mgoogle\u001B[39;00m\u001B[38;5;21;01m.\u001B[39;00m\u001B[38;5;21;01mcolab\u001B[39;00m \u001B[38;5;28;01mimport\u001B[39;00m _shell_customizations\n\u001B[1;32m---> 23\u001B[0m \u001B[38;5;28;01mfrom\u001B[39;00m \u001B[38;5;21;01mgoogle\u001B[39;00m\u001B[38;5;21;01m.\u001B[39;00m\u001B[38;5;21;01mcolab\u001B[39;00m \u001B[38;5;28;01mimport\u001B[39;00m _system_commands\n\u001B[0;32m     24\u001B[0m \u001B[38;5;28;01mfrom\u001B[39;00m \u001B[38;5;21;01mgoogle\u001B[39;00m\u001B[38;5;21;01m.\u001B[39;00m\u001B[38;5;21;01mcolab\u001B[39;00m \u001B[38;5;28;01mimport\u001B[39;00m _tensorflow_magics\n\u001B[0;32m     25\u001B[0m \u001B[38;5;28;01mfrom\u001B[39;00m \u001B[38;5;21;01mgoogle\u001B[39;00m\u001B[38;5;21;01m.\u001B[39;00m\u001B[38;5;21;01mcolab\u001B[39;00m \u001B[38;5;28;01mimport\u001B[39;00m auth\n",
      "File \u001B[1;32mD:\\SDK\\anaconda3\\Lib\\site-packages\\google\\colab\\_system_commands.py:24\u001B[0m\n\u001B[0;32m     22\u001B[0m \u001B[38;5;28;01mimport\u001B[39;00m \u001B[38;5;21;01mlocale\u001B[39;00m\n\u001B[0;32m     23\u001B[0m \u001B[38;5;28;01mimport\u001B[39;00m \u001B[38;5;21;01mos\u001B[39;00m\n\u001B[1;32m---> 24\u001B[0m \u001B[38;5;28;01mimport\u001B[39;00m \u001B[38;5;21;01mpty\u001B[39;00m\n\u001B[0;32m     25\u001B[0m \u001B[38;5;28;01mimport\u001B[39;00m \u001B[38;5;21;01mselect\u001B[39;00m\n\u001B[0;32m     26\u001B[0m \u001B[38;5;28;01mimport\u001B[39;00m \u001B[38;5;21;01msignal\u001B[39;00m\n",
      "File \u001B[1;32mD:\\SDK\\anaconda3\\Lib\\pty.py:12\u001B[0m\n\u001B[0;32m     10\u001B[0m \u001B[38;5;28;01mimport\u001B[39;00m \u001B[38;5;21;01mos\u001B[39;00m\n\u001B[0;32m     11\u001B[0m \u001B[38;5;28;01mimport\u001B[39;00m \u001B[38;5;21;01msys\u001B[39;00m\n\u001B[1;32m---> 12\u001B[0m \u001B[38;5;28;01mimport\u001B[39;00m \u001B[38;5;21;01mtty\u001B[39;00m\n\u001B[0;32m     14\u001B[0m \u001B[38;5;66;03m# names imported directly for test mocking purposes\u001B[39;00m\n\u001B[0;32m     15\u001B[0m \u001B[38;5;28;01mfrom\u001B[39;00m \u001B[38;5;21;01mos\u001B[39;00m \u001B[38;5;28;01mimport\u001B[39;00m close, waitpid\n",
      "File \u001B[1;32mD:\\SDK\\anaconda3\\Lib\\tty.py:5\u001B[0m\n\u001B[0;32m      1\u001B[0m \u001B[38;5;124;03m\"\"\"Terminal utilities.\"\"\"\u001B[39;00m\n\u001B[0;32m      3\u001B[0m \u001B[38;5;66;03m# Author: Steen Lumholt.\u001B[39;00m\n\u001B[1;32m----> 5\u001B[0m \u001B[38;5;28;01mfrom\u001B[39;00m \u001B[38;5;21;01mtermios\u001B[39;00m \u001B[38;5;28;01mimport\u001B[39;00m \u001B[38;5;241m*\u001B[39m\n\u001B[0;32m      7\u001B[0m __all__ \u001B[38;5;241m=\u001B[39m [\u001B[38;5;124m\"\u001B[39m\u001B[38;5;124msetraw\u001B[39m\u001B[38;5;124m\"\u001B[39m, \u001B[38;5;124m\"\u001B[39m\u001B[38;5;124msetcbreak\u001B[39m\u001B[38;5;124m\"\u001B[39m]\n\u001B[0;32m      9\u001B[0m \u001B[38;5;66;03m# Indexes for termios list.\u001B[39;00m\n",
      "\u001B[1;31mModuleNotFoundError\u001B[0m: No module named 'termios'"
     ]
    }
   ]
  },
  {
   "cell_type": "code",
   "source": [
    "# Check shape\n",
    "img.shape"
   ],
   "metadata": {
    "id": "EfDOYN6D1OZ9",
    "ExecuteTime": {
     "start_time": "2023-11-30T04:06:32.310913400Z"
    }
   },
   "execution_count": null,
   "outputs": []
  },
  {
   "cell_type": "code",
   "source": [
    "# Convert to gray\n",
    "gray_img = cv2.cvtColor(img, cv2.COLOR_BGR2GRAY)\n",
    "\n",
    "# check shape\n",
    "gray_img.shape"
   ],
   "metadata": {
    "id": "7e6w1zaL1RW7",
    "ExecuteTime": {
     "end_time": "2023-11-30T04:06:32.329454900Z",
     "start_time": "2023-11-30T04:06:32.312913400Z"
    }
   },
   "execution_count": null,
   "outputs": []
  },
  {
   "cell_type": "code",
   "source": [
    "# Pre-process\n",
    "# Binary Threshold and Otsu\n",
    "value, thresh = cv2.threshold(gray_img, 0, 255, cv2.THRESH_BINARY + cv2.THRESH_OTSU)\n",
    "\n",
    "cv2_imshow(thresh)\n",
    "\n",
    "# print threshold value\n",
    "print(value)"
   ],
   "metadata": {
    "id": "9_al0IF01c3q",
    "ExecuteTime": {
     "start_time": "2023-11-30T04:06:32.316918100Z"
    }
   },
   "execution_count": null,
   "outputs": []
  },
  {
   "cell_type": "code",
   "source": [
    "# Resize image in order to match network input shape -> 28*28\n",
    "img_resize = cv2.resize(gray_img, (28,28))\n",
    "cv2_imshow(img_resize)"
   ],
   "metadata": {
    "id": "dmjHswqd1wB5",
    "ExecuteTime": {
     "start_time": "2023-11-30T04:06:32.319914300Z"
    }
   },
   "execution_count": null,
   "outputs": []
  },
  {
   "cell_type": "code",
   "source": [
    "# Convert to float 32\n",
    "# and extend the dimension since network input shape is 28*28*1\n",
    "img_input = img_resize.astype('float32') / 255 # also perform normalization\n",
    "img_input = np.expand_dims(img_input, axis=-1) # insert depth\n",
    "\n",
    "# check shape\n",
    "img_input.shape"
   ],
   "metadata": {
    "id": "bZStKgUl2Kk_",
    "ExecuteTime": {
     "start_time": "2023-11-30T04:06:32.322917300Z"
    }
   },
   "execution_count": null,
   "outputs": []
  },
  {
   "cell_type": "code",
   "source": [
    "# Add \"amount of data\" as dimension\n",
    "img_input = np.reshape(img_input, (1,28,28,1))\n",
    "img_input.shape"
   ],
   "metadata": {
    "id": "7Xs7JwKj2lxr",
    "ExecuteTime": {
     "start_time": "2023-11-30T04:06:32.327454200Z"
    }
   },
   "execution_count": null,
   "outputs": []
  },
  {
   "cell_type": "code",
   "source": [
    "# Make a predition\n",
    "prediction = load_network.predict(img_input)\n",
    "pred_label = np.argmax(prediction) # predict actual label\n",
    "pred_label"
   ],
   "metadata": {
    "id": "fZLWIWLs2yuX",
    "ExecuteTime": {
     "start_time": "2023-11-30T04:06:32.331459100Z"
    }
   },
   "execution_count": null,
   "outputs": []
  },
  {
   "cell_type": "code",
   "source": [
    "# check label for 6\n",
    "name_labels[6]"
   ],
   "metadata": {
    "id": "72Pl04hq3WNz",
    "ExecuteTime": {
     "start_time": "2023-11-30T04:06:32.333452100Z"
    }
   },
   "execution_count": null,
   "outputs": []
  }
 ]
}
