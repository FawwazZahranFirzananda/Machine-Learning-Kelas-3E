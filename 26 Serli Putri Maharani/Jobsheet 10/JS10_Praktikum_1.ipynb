{
  "cells": [
    {
      "cell_type": "code",
      "execution_count": 1,
      "metadata": {
        "id": "yN6Pa5L1Blzr"
      },
      "outputs": [
        {
          "name": "stderr",
          "output_type": "stream",
          "text": [
            "c:\\Users\\ASUS\\anaconda3\\lib\\site-packages\\scipy\\__init__.py:138: UserWarning: A NumPy version >=1.16.5 and <1.23.0 is required for this version of SciPy (detected version 1.24.3)\n",
            "  warnings.warn(f\"A NumPy version >={np_minversion} and <{np_maxversion} is required for this version of \"\n"
          ]
        }
      ],
      "source": [
        "import numpy as np # import numpy untuk manipulasi data numerik\n",
        "import tensorflow_datasets as tfds # import tensorflow untuk mengunduh, memuat, dan memanipulasi dataset dalam format yg sesuai\n",
        "import tensorflow as tf # untuk membangun, melatih, dan menerapkan model machine learning\n",
        "\n",
        "tfds.disable_progress_bar() # untuk menonaktifkan tampilan bar progres yang biasanya ditampilkan saat mengunduk dataset"
      ]
    },
    {
      "cell_type": "code",
      "execution_count": 2,
      "metadata": {
        "id": "GtYDS2jLByQg"
      },
      "outputs": [],
      "source": [
        "import matplotlib.pyplot as plt # untuk membuat visualisasi grafik dalam python\n",
        "\n",
        "def plot_graphs(history, metric): # deklarasi fungsi plot_graph\n",
        "    plt.plot(history.history[metric]) # menggunakan fungsi plt.plot() dari pustaka matplotlib untuk membuat garis grafik dari nilai metrik pelatihan\n",
        "    plt.plot(history.history['val_'+metric], '') # untuk membuat garis grafik dari nilai metrik validasi\n",
        "    plt.xlabel(\"Epochs\") # untuk menetapkan label sumbu x pada grafik dengan nama \"epochs\"\n",
        "    plt.ylabel(metric) # untuk menetapkan label sumbu y pada grafik sesuai dengan metrik yang diberikan sebagai argumen\n",
        "    plt.legend([metric, 'val_'+metric]) # untuk menampilkan legenda pada grafik\n"
      ]
    },
    {
      "cell_type": "code",
      "execution_count": 3,
      "metadata": {
        "colab": {
          "base_uri": "https://localhost:8080/"
        },
        "id": "isKziGrlCZpn",
        "outputId": "da0c6d82-dd80-4ec7-ce23-0b81c81c32bf"
      },
      "outputs": [
        {
          "name": "stdout",
          "output_type": "stream",
          "text": [
            "Downloading and preparing dataset Unknown size (download: Unknown size, generated: Unknown size, total: Unknown size) to C:\\Users\\ASUS\\tensorflow_datasets\\imdb_reviews\\plain_text\\1.0.0...\n",
            "Dataset imdb_reviews downloaded and prepared to C:\\Users\\ASUS\\tensorflow_datasets\\imdb_reviews\\plain_text\\1.0.0. Subsequent calls will reuse this data.\n"
          ]
        },
        {
          "data": {
            "text/plain": [
              "(TensorSpec(shape=(), dtype=tf.string, name=None),\n",
              " TensorSpec(shape=(), dtype=tf.int64, name=None))"
            ]
          },
          "execution_count": 3,
          "metadata": {},
          "output_type": "execute_result"
        }
      ],
      "source": [
        "dataset, info = tfds.load('imdb_reviews', with_info=True,\n",
        "                          as_supervised=True) # memuat dataset dalam bentuk pasangan data latih dan label\n",
        "train_dataset, test_dataset = dataset['train'], dataset['test'] # membagi dataset yang dimuat menjadi 2 bagian\n",
        "\n",
        "train_dataset.element_spec # untuk mengetahui spesifikasi elemen dalam dataset pelatihan  "
      ]
    },
    {
      "cell_type": "code",
      "execution_count": 4,
      "metadata": {
        "colab": {
          "base_uri": "https://localhost:8080/"
        },
        "id": "ovas7xMPDdMc",
        "outputId": "eebebe57-3ecf-4c8f-f1c4-3e49325c9489"
      },
      "outputs": [
        {
          "name": "stdout",
          "output_type": "stream",
          "text": [
            "text:  b\"This was an absolutely terrible movie. Don't be lured in by Christopher Walken or Michael Ironside. Both are great actors, but this must simply be their worst role in history. Even their great acting could not redeem this movie's ridiculous storyline. This movie is an early nineties US propaganda piece. The most pathetic scenes were those when the Columbian rebels were making their cases for revolutions. Maria Conchita Alonso appeared phony, and her pseudo-love affair with Walken was nothing but a pathetic emotional plug in a movie that was devoid of any real meaning. I am disappointed that there are movies like this, ruining actor's like Christopher Walken's good name. I could barely sit through it.\"\n",
            "label:  0\n"
          ]
        }
      ],
      "source": [
        "for example, label in train_dataset.take(1): # untuk mengambil satu elemen dari dataset pelatihan\n",
        "  print('text: ', example.numpy()) # mencetak teks ulasan dari contoh\n",
        "  print('label: ', label.numpy()) # mengonversi tensor label menjadi representasi numpy array agar dapat dicetak"
      ]
    },
    {
      "cell_type": "code",
      "execution_count": 5,
      "metadata": {
        "colab": {
          "base_uri": "https://localhost:8080/"
        },
        "id": "JHsaTKMYDe3r",
        "outputId": "c6c3ad6d-0c49-4d58-d2c9-7f2fa18e585f"
      },
      "outputs": [
        {
          "name": "stdout",
          "output_type": "stream",
          "text": [
            "texts:  [b'I guess I have still enough brain left to NOT find this movie funny. -Great comedians - but a very poor movie! The \"best\" performance still did NINA HAGEN <br /><br />TRIVIA: Did you realize that it the \"real world\" scenes (in Hamburg) the cars are almost ONLY new BMWs ?? <br /><br />I guess I have still enough brain left to NOT find this movie funny. -Great comedians - but a very poor movie! The \"best\" performance still did NINA HAGEN <br /><br />TRIVIA: Did you realize that it the \"real world\" scenes (in Hamburg) the cars are almost ONLY new BMWs ??'\n",
            " b\"First of all, I have to start this comment by saying I'm a huge Nightmare on Elm Street fan. I think it's the greatest horror series ever. For me, Freddy is the boogeyman! Of course, Freddy's Dead, which tried to be the last chapter back then, is a weird movie. It doesn't have the same atmosphere than the previous films. Freddy has a lot of screen time. Some think it makes him less scary, which I do agree. And that's, in my opinion, exactly the point. This movie exists so we can know Freddy a little better, who he is, who he were, how he became the man haunting our dreams. For some people, it's a bad thing, it's better if we never know because it's scarier not to know why evil is evil. Obviously those people won't like Rob Zombie's remake of Halloween. To truly enjoy this one, you have to see things differently. It's not about a strange guy hiding in the bush of your dreamland waiting to scare the hell out of you. This was the first one, and it was awesome. As the years passed by, Freddy killed more and more people, and nobody could ever get rid of him for good. Now it's time to learn about the nature of this evil, the psychological aspects of Freddy's realm of terror. Beside the story of Freddy's past, I also really liked the atmosphere of the movie. No more kids in Springwood, only crazy grown-ups. The nightmare scenes are all great. The soundtrack is awesome, especially the opening song called ''I'm Awake Now'' performed by Goo Goo Dolls. In my opinion, The Final Nightmare is a horror masterpiece and I can't believe it's so underrated. Maybe it is misunderstood, or I have different tastes! Anyway, all Freddy fans should watch it. It has a lot of scary moments as well as funny moments too, and a lot of cameos! Get yourself ready for something different and you might not be disappointed.\"\n",
            " b'I saw this film a couple of weeks ago, and it\\'s been stuck in my head ever since. It stars two spellbinding characters in what is unfortunately a mediocre documentary. To get the true story of the Beales, I had to wade through all of the DVD\\'s bonus material and commentaries and search the web.<br /><br />Although the Maysles and their fans (not to mention Edith and Edie themselves) bristle at the suggestion that this film is exploitative, this is exploitation in the truest sense of the word. Very little effort is every made to explain the Beales or how they came to the condition they were in - the Maysles approach seems to be to just turn the camera on and wait for Edith and Edie to say something outrageous. The sound, even on the Criterion re-release is poor and difficult to follow. Although I appreciate this film was made somewhat early in the history of documentary film, it\\'s ironic to compare it to Geraldo Rivera\\'s (!) far superior series on the sexual abuse of mentally retarded patients at Willowbrook State School in Staten Island from 1972, four years before Grey Gardens was shot.<br /><br />To paraphrase a review in the New Yorker, there were many things Edith and Edie needed in their lives, and a documentary wasn\\'t one of them.<br /><br />As for Edith and Edie, the thing I kept thinking while watching the film was \"where the hell is their family\"? They were living in dangerous, unhealthy, unsafe conditions. How is it that Jackie O, married to one of the richest men on Earth (or the wealthy Bouvier family themselves) couldn\\'t afford to get Edith and Edie a decent home? Or at the very least hire a part-time housekeeper or caregiver to come in and keep an eye on them both? It\\'s shameful and a lasting disgrace to the entire Bouvier family.<br /><br />Although this review may sound negative I would strongly recommend Grey Gardens to anyone who enjoys documentaries. Perhaps someday someone will come along and do a documentary about this documentary - bringing in the rich backstory (and afterstory) of the Beales and the whole subsection of Hamptons society in the 1970\\'s.']\n",
            "\n",
            "labels:  [0 1 1]\n"
          ]
        }
      ],
      "source": [
        "BUFFER_SIZE = 10000 # untuk menetukan ukuran buffer pengacakan dataset pelatihan\n",
        "BATCH_SIZE = 64 # untuk menentukan ukuran batch dalam pelatihan dan pengujian\n",
        "\n",
        "train_dataset = train_dataset.shuffle(BUFFER_SIZE).batch(BATCH_SIZE).prefetch(tf.data.AUTOTUNE) # menerapkan beberapa transformasi pada dataset pelatihan\n",
        "test_dataset = test_dataset.batch(BATCH_SIZE).prefetch(tf.data.AUTOTUNE) # menerapkan transformasi pada dataset pengujian\n",
        "\n",
        "# mengambil satu batch dari dataset pelatihan\n",
        "for example, label in train_dataset.take(1):\n",
        "  print('texts: ', example.numpy()[:3])\n",
        "  print()\n",
        "  print('labels: ', label.numpy()[:3])\n"
      ]
    },
    {
      "cell_type": "code",
      "execution_count": 6,
      "metadata": {
        "id": "ag64jbhbDgzO"
      },
      "outputs": [],
      "source": [
        "VOCAB_SIZE = 1000 # menunjukkan jumlah maksimum token unik yang akan dipertahankan dalam representasi vektor\n",
        "encoder = tf.keras.layers.TextVectorization(\n",
        "    max_tokens=VOCAB_SIZE) # membuat objek untuk mengubah teks menjadi representasi vektor\n",
        "encoder.adapt(train_dataset.map(lambda text, label: text)) # untuk menyesuaikan layer dengan data pelatihan"
      ]
    },
    {
      "cell_type": "code",
      "execution_count": 7,
      "metadata": {
        "colab": {
          "base_uri": "https://localhost:8080/"
        },
        "id": "wRU02mJ9DlK2",
        "outputId": "d4dbad66-f572-4100-ae44-d4fac277a8ab"
      },
      "outputs": [
        {
          "data": {
            "text/plain": [
              "array(['', '[UNK]', 'the', 'and', 'a', 'of', 'to', 'is', 'in', 'it', 'i',\n",
              "       'this', 'that', 'br', 'was', 'as', 'for', 'with', 'movie', 'but'],\n",
              "      dtype='<U14')"
            ]
          },
          "execution_count": 7,
          "metadata": {},
          "output_type": "execute_result"
        }
      ],
      "source": [
        "vocab = np.array(encoder.get_vocabulary()) # untuk mengambil kamus token yang telah dibangun dan mengembalikan daftar token dalam urutan frekuensi\n",
        "vocab[:20] # mencetak 20 elemen pertama dari array vocab\n"
      ]
    },
    {
      "cell_type": "code",
      "execution_count": 8,
      "metadata": {
        "colab": {
          "base_uri": "https://localhost:8080/"
        },
        "id": "VRp5bJVeDwUR",
        "outputId": "0ab9b805-85df-4e81-ce69-b8d18834162e"
      },
      "outputs": [
        {
          "data": {
            "text/plain": [
              "array([[ 10, 479,  10, ...,   0,   0,   0],\n",
              "       [ 86,   5,  32, ...,   0,   0,   0],\n",
              "       [ 10, 208,  11, ...,   0,   0,   0]], dtype=int64)"
            ]
          },
          "execution_count": 8,
          "metadata": {},
          "output_type": "execute_result"
        }
      ],
      "source": [
        "encoded_example = encoder(example)[:3].numpy() # mengonversi teks example menjadi representasi vektor menggunakan kamus token yang telah dibangun oleh layer encoder\n",
        "encoded_example # sebagai input untuk model"
      ]
    },
    {
      "cell_type": "code",
      "execution_count": 9,
      "metadata": {
        "colab": {
          "base_uri": "https://localhost:8080/"
        },
        "id": "Wx7NZXTSEEwB",
        "outputId": "1bc538fe-4829-4142-838e-36c824a74554"
      },
      "outputs": [
        {
          "name": "stdout",
          "output_type": "stream",
          "text": [
            "Original:  b'I guess I have still enough brain left to NOT find this movie funny. -Great comedians - but a very poor movie! The \"best\" performance still did NINA HAGEN <br /><br />TRIVIA: Did you realize that it the \"real world\" scenes (in Hamburg) the cars are almost ONLY new BMWs ?? <br /><br />I guess I have still enough brain left to NOT find this movie funny. -Great comedians - but a very poor movie! The \"best\" performance still did NINA HAGEN <br /><br />TRIVIA: Did you realize that it the \"real world\" scenes (in Hamburg) the cars are almost ONLY new BMWs ??'\n",
            "Round-trip:  i guess i have still enough [UNK] left to not find this movie funny great [UNK] but a very poor movie the best performance still did [UNK] [UNK] br br [UNK] did you realize that it the real world scenes in [UNK] the [UNK] are almost only new [UNK] br br i guess i have still enough [UNK] left to not find this movie funny great [UNK] but a very poor movie the best performance still did [UNK] [UNK] br br [UNK] did you realize that it the real world scenes in [UNK] the [UNK] are almost only new [UNK]                                                                                                                                                                                                                                                                                                                                                                                                                                                                                                                       \n",
            "\n",
            "Original:  b\"First of all, I have to start this comment by saying I'm a huge Nightmare on Elm Street fan. I think it's the greatest horror series ever. For me, Freddy is the boogeyman! Of course, Freddy's Dead, which tried to be the last chapter back then, is a weird movie. It doesn't have the same atmosphere than the previous films. Freddy has a lot of screen time. Some think it makes him less scary, which I do agree. And that's, in my opinion, exactly the point. This movie exists so we can know Freddy a little better, who he is, who he were, how he became the man haunting our dreams. For some people, it's a bad thing, it's better if we never know because it's scarier not to know why evil is evil. Obviously those people won't like Rob Zombie's remake of Halloween. To truly enjoy this one, you have to see things differently. It's not about a strange guy hiding in the bush of your dreamland waiting to scare the hell out of you. This was the first one, and it was awesome. As the years passed by, Freddy killed more and more people, and nobody could ever get rid of him for good. Now it's time to learn about the nature of this evil, the psychological aspects of Freddy's realm of terror. Beside the story of Freddy's past, I also really liked the atmosphere of the movie. No more kids in Springwood, only crazy grown-ups. The nightmare scenes are all great. The soundtrack is awesome, especially the opening song called ''I'm Awake Now'' performed by Goo Goo Dolls. In my opinion, The Final Nightmare is a horror masterpiece and I can't believe it's so underrated. Maybe it is misunderstood, or I have different tastes! Anyway, all Freddy fans should watch it. It has a lot of scary moments as well as funny moments too, and a lot of cameos! Get yourself ready for something different and you might not be disappointed.\"\n",
            "Round-trip:  first of all i have to start this comment by saying im a huge [UNK] on [UNK] street fan i think its the greatest horror series ever for me [UNK] is the [UNK] of course [UNK] dead which tried to be the last [UNK] back then is a weird movie it doesnt have the same atmosphere than the previous films [UNK] has a lot of screen time some think it makes him less scary which i do [UNK] and thats in my opinion exactly the point this movie [UNK] so we can know [UNK] a little better who he is who he were how he became the man [UNK] our [UNK] for some people its a bad thing its better if we never know because its [UNK] not to know why evil is evil obviously those people wont like [UNK] [UNK] remake of [UNK] to truly enjoy this one you have to see things [UNK] its not about a strange guy [UNK] in the [UNK] of your [UNK] [UNK] to [UNK] the hell out of you this was the first one and it was [UNK] as the years [UNK] by [UNK] killed more and more people and [UNK] could ever get [UNK] of him for good now its time to learn about the nature of this evil the [UNK] [UNK] of [UNK] [UNK] of [UNK] [UNK] the story of [UNK] past i also really liked the atmosphere of the movie no more kids in [UNK] only crazy [UNK] the [UNK] scenes are all great the soundtrack is [UNK] especially the opening song called im [UNK] now [UNK] by [UNK] [UNK] [UNK] in my opinion the final [UNK] is a horror [UNK] and i cant believe its so [UNK] maybe it is [UNK] or i have different [UNK] anyway all [UNK] fans should watch it it has a lot of scary moments as well as funny moments too and a lot of [UNK] get yourself [UNK] for something different and you might not be disappointed                                                                                                                                                                                                                                                                             \n",
            "\n",
            "Original:  b'I saw this film a couple of weeks ago, and it\\'s been stuck in my head ever since. It stars two spellbinding characters in what is unfortunately a mediocre documentary. To get the true story of the Beales, I had to wade through all of the DVD\\'s bonus material and commentaries and search the web.<br /><br />Although the Maysles and their fans (not to mention Edith and Edie themselves) bristle at the suggestion that this film is exploitative, this is exploitation in the truest sense of the word. Very little effort is every made to explain the Beales or how they came to the condition they were in - the Maysles approach seems to be to just turn the camera on and wait for Edith and Edie to say something outrageous. The sound, even on the Criterion re-release is poor and difficult to follow. Although I appreciate this film was made somewhat early in the history of documentary film, it\\'s ironic to compare it to Geraldo Rivera\\'s (!) far superior series on the sexual abuse of mentally retarded patients at Willowbrook State School in Staten Island from 1972, four years before Grey Gardens was shot.<br /><br />To paraphrase a review in the New Yorker, there were many things Edith and Edie needed in their lives, and a documentary wasn\\'t one of them.<br /><br />As for Edith and Edie, the thing I kept thinking while watching the film was \"where the hell is their family\"? They were living in dangerous, unhealthy, unsafe conditions. How is it that Jackie O, married to one of the richest men on Earth (or the wealthy Bouvier family themselves) couldn\\'t afford to get Edith and Edie a decent home? Or at the very least hire a part-time housekeeper or caregiver to come in and keep an eye on them both? It\\'s shameful and a lasting disgrace to the entire Bouvier family.<br /><br />Although this review may sound negative I would strongly recommend Grey Gardens to anyone who enjoys documentaries. Perhaps someday someone will come along and do a documentary about this documentary - bringing in the rich backstory (and afterstory) of the Beales and the whole subsection of Hamptons society in the 1970\\'s.'\n",
            "Round-trip:  i saw this film a couple of [UNK] ago and its been [UNK] in my head ever since it stars two [UNK] characters in what is unfortunately a [UNK] documentary to get the true story of the [UNK] i had to [UNK] through all of the [UNK] [UNK] material and [UNK] and [UNK] the [UNK] br although the [UNK] and their fans not to mention [UNK] and [UNK] themselves [UNK] at the [UNK] that this film is [UNK] this is [UNK] in the [UNK] sense of the word very little effort is every made to [UNK] the [UNK] or how they came to the [UNK] they were in the [UNK] [UNK] seems to be to just turn the camera on and wait for [UNK] and [UNK] to say something [UNK] the sound even on the [UNK] [UNK] is poor and difficult to follow although i [UNK] this film was made somewhat early in the history of documentary film its [UNK] to [UNK] it to [UNK] [UNK] far [UNK] series on the sexual [UNK] of [UNK] [UNK] [UNK] at [UNK] [UNK] school in [UNK] [UNK] from [UNK] four years before [UNK] [UNK] was [UNK] br to [UNK] a review in the new [UNK] there were many things [UNK] and [UNK] needed in their lives and a documentary wasnt one of [UNK] br as for [UNK] and [UNK] the thing i kept thinking while watching the film was where the hell is their family they were living in [UNK] [UNK] [UNK] [UNK] how is it that [UNK] [UNK] [UNK] to one of the [UNK] men on earth or the [UNK] [UNK] family themselves couldnt [UNK] to get [UNK] and [UNK] a decent home or at the very least [UNK] a [UNK] [UNK] or [UNK] to come in and keep an eye on them both its [UNK] and a [UNK] [UNK] to the entire [UNK] [UNK] br although this review may sound [UNK] i would [UNK] recommend [UNK] [UNK] to anyone who [UNK] [UNK] perhaps [UNK] someone will come along and do a documentary about this documentary [UNK] in the [UNK] [UNK] and [UNK] of the [UNK] and the whole [UNK] of [UNK] society in the [UNK]                                                                                                                                                                                                                                               \n",
            "\n"
          ]
        }
      ],
      "source": [
        "for n in range(3): # looping berjalan sebanyak 3 kali\n",
        "  print(\"Original: \", example[n].numpy()) # mencetak teks asli yg digunakan untuk mengonversi tensor menjadi array numpy \n",
        "  print(\"Round-trip: \", \" \".join(vocab[encoded_example[n]])) # mencetak hasil kembalian dari representasi vektor encoded_example\n",
        "  print() # mencetak baris kosong antara setiap contoh teks"
      ]
    },
    {
      "cell_type": "code",
      "execution_count": 10,
      "metadata": {
        "id": "x-nPZrtMEPVn"
      },
      "outputs": [],
      "source": [
        "model = tf.keras.Sequential([\n",
        "    encoder, # untuk mengubah teks menjadi representasi vektor \n",
        "    tf.keras.layers.Embedding( # lapisan embedding yang mengambil representasi vektor hasil dari encoder sebagai input\n",
        "        input_dim=len(encoder.get_vocabulary()),\n",
        "        output_dim=64,\n",
        "        # Use masking to handle the variable sequence lengths\n",
        "        mask_zero=True),\n",
        "    tf.keras.layers.Bidirectional(tf.keras.layers.LSTM(64)), # untuk memproses urutan masukan dari lapisan sebelumnya\n",
        "    tf.keras.layers.Dense(64, activation='relu'), # memperkenalkan non-lineritas ke dalam model\n",
        "    tf.keras.layers.Dense(1) # sebagai lapisan output untuk tugas klasifikasi sentimen biner\n",
        "])"
      ]
    },
    {
      "cell_type": "code",
      "execution_count": 11,
      "metadata": {
        "colab": {
          "base_uri": "https://localhost:8080/"
        },
        "id": "DripxwqzESJn",
        "outputId": "4982d0d2-aa02-498d-b33d-e17ed146c000"
      },
      "outputs": [
        {
          "name": "stdout",
          "output_type": "stream",
          "text": [
            "[False, True, True, True, True]\n"
          ]
        }
      ],
      "source": [
        "print([layer.supports_masking for layer in model.layers]) # mencetak daftar boolean "
      ]
    },
    {
      "cell_type": "code",
      "execution_count": 12,
      "metadata": {
        "colab": {
          "base_uri": "https://localhost:8080/"
        },
        "id": "Bz-drfM8EWHD",
        "outputId": "6909c544-8575-460c-aa25-b400617e0907"
      },
      "outputs": [
        {
          "name": "stdout",
          "output_type": "stream",
          "text": [
            "1/1 [==============================] - 4s 4s/step\n",
            "[-0.00475443]\n"
          ]
        }
      ],
      "source": [
        "# predict on a sample text without padding.\n",
        "\n",
        "sample_text = ('The movie was cool. The animation and the graphics '\n",
        "               'were out of this world. I would recommend this movie.') # teks yang akan diprediksi sentimennya\n",
        "predictions = model.predict(np.array([sample_text])) # melakukan prediksi sentimen pada contoh teks\n",
        "print(predictions[0]) # mencetak hasil prediksi dari contoh teks"
      ]
    },
    {
      "cell_type": "code",
      "execution_count": 13,
      "metadata": {
        "colab": {
          "base_uri": "https://localhost:8080/"
        },
        "id": "C4zPzRuCEXoL",
        "outputId": "1a7f3c61-dbbe-4705-ccf8-52e2561a5428"
      },
      "outputs": [
        {
          "name": "stdout",
          "output_type": "stream",
          "text": [
            "1/1 [==============================] - 0s 322ms/step\n",
            "[-0.00475443]\n"
          ]
        }
      ],
      "source": [
        "# predict on a sample text with padding\n",
        "\n",
        "padding = \"the \" * 2000 # untuk menjaga panjang contoh teks agar sama dengan panjang maksimum\n",
        "predictions = model.predict(np.array([sample_text, padding])) # melakukan prediksi sentimen pada dua contoh teks\n",
        "print(predictions[0]) # mencetak hasil prediksi sentimen dari contoh teks pertama"
      ]
    },
    {
      "cell_type": "code",
      "execution_count": 14,
      "metadata": {
        "id": "dbP0vOn6EagP"
      },
      "outputs": [],
      "source": [
        "model.compile(loss=tf.keras.losses.BinaryCrossentropy(from_logits=True), # mengatur fungsi kerugian yang digunakan saat melatih model\n",
        "              optimizer=tf.keras.optimizers.Adam(1e-4), # mengatur optimizer yang digunakan saat melatih model\n",
        "              metrics=['accuracy']) # mengatur metrik evaluasi"
      ]
    },
    {
      "cell_type": "code",
      "execution_count": 15,
      "metadata": {
        "colab": {
          "base_uri": "https://localhost:8080/"
        },
        "id": "uIObq_dHEehB",
        "outputId": "d44bd82c-c89e-45a2-fb34-346de4f512a1"
      },
      "outputs": [
        {
          "name": "stdout",
          "output_type": "stream",
          "text": [
            "Epoch 1/10\n"
          ]
        },
        {
          "name": "stdout",
          "output_type": "stream",
          "text": [
            "391/391 [==============================] - 3445s 9s/step - loss: 0.6608 - accuracy: 0.5441 - val_loss: 0.4886 - val_accuracy: 0.7521\n",
            "Epoch 2/10\n",
            "391/391 [==============================] - 1873s 5s/step - loss: 0.4501 - accuracy: 0.7798 - val_loss: 0.3880 - val_accuracy: 0.8234\n",
            "Epoch 3/10\n",
            "391/391 [==============================] - 10481s 27s/step - loss: 0.3651 - accuracy: 0.8376 - val_loss: 0.3503 - val_accuracy: 0.8417\n",
            "Epoch 4/10\n",
            "391/391 [==============================] - 1775s 5s/step - loss: 0.3325 - accuracy: 0.8549 - val_loss: 0.3346 - val_accuracy: 0.8521\n",
            "Epoch 5/10\n",
            "391/391 [==============================] - 1321s 3s/step - loss: 0.3184 - accuracy: 0.8619 - val_loss: 0.3264 - val_accuracy: 0.8625\n",
            "Epoch 6/10\n",
            "391/391 [==============================] - 1426s 4s/step - loss: 0.3084 - accuracy: 0.8671 - val_loss: 0.3216 - val_accuracy: 0.8651\n",
            "Epoch 7/10\n",
            "391/391 [==============================] - 1411s 4s/step - loss: 0.3046 - accuracy: 0.8705 - val_loss: 0.3206 - val_accuracy: 0.8578\n",
            "Epoch 8/10\n",
            "391/391 [==============================] - 1326s 3s/step - loss: 0.3006 - accuracy: 0.8711 - val_loss: 0.3246 - val_accuracy: 0.8609\n",
            "Epoch 9/10\n",
            "391/391 [==============================] - 1378s 4s/step - loss: 0.3002 - accuracy: 0.8720 - val_loss: 0.3211 - val_accuracy: 0.8609\n",
            "Epoch 10/10\n",
            "391/391 [==============================] - 1757s 4s/step - loss: 0.2948 - accuracy: 0.8737 - val_loss: 0.3260 - val_accuracy: 0.8479\n"
          ]
        }
      ],
      "source": [
        "history = model.fit(train_dataset, epochs=10, # menentukan jumlah epoch yang akan digunakan saat melatih model\n",
        "                    validation_data=test_dataset, # menentukan dataset validasi yang kaan digunakan untuk evaluasi model setiap epoch\n",
        "                    validation_steps=30) # menentukan jumlah langkah validasi yang harus di eksekusi setiap epoch"
      ]
    },
    {
      "cell_type": "code",
      "execution_count": 25,
      "metadata": {
        "colab": {
          "base_uri": "https://localhost:8080/"
        },
        "id": "04Qfrhjv6Gr8",
        "outputId": "8dd31bc3-3b0a-4ae8-b683-56cdd464a437"
      },
      "outputs": [
        {
          "name": "stdout",
          "output_type": "stream",
          "text": [
            "391/391 [==============================] - 639s 2s/step - loss: 0.3342 - accuracy: 0.8637\n",
            "Test Loss: 0.3341790735721588\n",
            "Test Accuracy: 0.8637199997901917\n"
          ]
        }
      ],
      "source": [
        "test_loss, test_acc = model.evaluate(test_dataset) # menyimpan nilai loss yang dihasilkan evaluasi pada dataset uji\n",
        "\n",
        "print('Test Loss:', test_loss) # mencetak nilai loss \n",
        "print('Test Accuracy:', test_acc) # mencetak nilai akurasi"
      ]
    },
    {
      "cell_type": "code",
      "execution_count": 17,
      "metadata": {
        "id": "m3eADsZL6wct"
      },
      "outputs": [
        {
          "data": {
            "text/plain": [
              "(0.0, 0.6790584191679955)"
            ]
          },
          "execution_count": 17,
          "metadata": {},
          "output_type": "execute_result"
        },
        {
          "data": {
            "image/png": "[encoded data removed]",
            "text/plain": [
              "<Figure size 1152x576 with 2 Axes>"
            ]
          },
          "metadata": {
            "needs_background": "light"
          },
          "output_type": "display_data"
        }
      ],
      "source": [
        "plt.figure(figsize=(16, 8)) # untuk membuat gambar dengan\n",
        "plt.subplot(1, 2, 1) # untuk membuat subplot pertama\n",
        "plot_graphs(history, 'accuracy') # untuk memanggil fungsi plot_graphs\n",
        "plt.ylim(None, 1) # untuk mengatur batas sumbu\n",
        "plt.subplot(1, 2, 2) # untuk membuat subplot kedua dengan rasio lebar-tinggi 1:2\n",
        "plot_graphs(history, 'loss') # akan menghasilkan plot grafik untuk melihat perubahan loss selama pelatihan model\n",
        "plt.ylim(0, None) # untuk mengatur batas sumbu y pada subplot kedua"
      ]
    },
    {
      "cell_type": "code",
      "execution_count": 18,
      "metadata": {
        "colab": {
          "base_uri": "https://localhost:8080/"
        },
        "id": "Orq0Vy0d61XT",
        "outputId": "43562679-0f42-454d-fbc2-2c59d5d021bc"
      },
      "outputs": [
        {
          "name": "stdout",
          "output_type": "stream",
          "text": [
            "1/1 [==============================] - 4s 4s/step\n"
          ]
        }
      ],
      "source": [
        "sample_text = ('The movie was cool. The animation and the graphics '\n",
        "              'were out of this world. I would recommend this movie.') # teks yang ingin di prediksi\n",
        "predictions = model.predict(np.array([sample_text])) # melakukan prediksi sentimen pada contoh teks yang diberikan"
      ]
    },
    {
      "cell_type": "code",
      "execution_count": 19,
      "metadata": {
        "id": "n-aZB_7U65_L"
      },
      "outputs": [],
      "source": [
        "model = tf.keras.Sequential([ # membuat objek model yang digunakan untuk tugas pengolahan bahasa alami\n",
        "    encoder, # layer pertama dalam model dan digunakan untuk mengonversi teks menjadi representasi numerik\n",
        "    tf.keras.layers.Embedding(len(encoder.get_vocabulary()), 64, mask_zero=True), # mengubah representasi nukerik dari kata menjadi vektor\n",
        "    tf.keras.layers.Bidirectional(tf.keras.layers.LSTM(64, return_sequences=True)), # model untuk mempelajari pola dari kedua arah \n",
        "    tf.keras.layers.Bidirectional(tf.keras.layers.LSTM(32)), \n",
        "    tf.keras.layers.Dense(64, activation='relu'), # layer yang menghubungkan output dari layer sebelumnya ke output yang terakhir\n",
        "    tf.keras.layers.Dropout(0.5), # digunakan untuk mengurangi overfitting dengan secara acak\n",
        "    tf.keras.layers.Dense(1) # sebagai output layer yang menghasilkan prediksi sentimen\n",
        "])"
      ]
    },
    {
      "cell_type": "code",
      "execution_count": 20,
      "metadata": {
        "id": "Xjg1CQR87K13"
      },
      "outputs": [],
      "source": [
        "model.compile(loss=tf.keras.losses.BinaryCrossentropy(from_logits=True), # mengatur fungsi loss yang akan digunakan selama pelatihan model\n",
        "              optimizer=tf.keras.optimizers.Adam(1e-4), # mengoptimalkan parameter model untu mengurangi loss\n",
        "              metrics=['accuracy']) # menentukan metrik evaluasi yg digunakan untuk mengukur sejauh mana model "
      ]
    },
    {
      "cell_type": "code",
      "execution_count": 21,
      "metadata": {
        "colab": {
          "base_uri": "https://localhost:8080/"
        },
        "id": "2GxL-Ly97Qqq",
        "outputId": "199c1d1b-4208-4b46-8ebc-06efc818860f"
      },
      "outputs": [
        {
          "name": "stdout",
          "output_type": "stream",
          "text": [
            "Epoch 1/10\n"
          ]
        },
        {
          "name": "stdout",
          "output_type": "stream",
          "text": [
            "391/391 [==============================] - 2720s 7s/step - loss: 0.6244 - accuracy: 0.5994 - val_loss: 0.4505 - val_accuracy: 0.8026\n",
            "Epoch 2/10\n",
            "391/391 [==============================] - 2154s 6s/step - loss: 0.3907 - accuracy: 0.8317 - val_loss: 0.3510 - val_accuracy: 0.8505\n",
            "Epoch 3/10\n",
            "391/391 [==============================] - 2491s 6s/step - loss: 0.3345 - accuracy: 0.8603 - val_loss: 0.3321 - val_accuracy: 0.8495\n",
            "Epoch 4/10\n",
            "391/391 [==============================] - 2232s 6s/step - loss: 0.3232 - accuracy: 0.8624 - val_loss: 0.3291 - val_accuracy: 0.8568\n",
            "Epoch 5/10\n",
            "391/391 [==============================] - 2032s 5s/step - loss: 0.3137 - accuracy: 0.8668 - val_loss: 0.3312 - val_accuracy: 0.8568\n",
            "Epoch 6/10\n",
            "391/391 [==============================] - 2231s 6s/step - loss: 0.3049 - accuracy: 0.8722 - val_loss: 0.3247 - val_accuracy: 0.8557\n",
            "Epoch 7/10\n",
            "391/391 [==============================] - 4313s 11s/step - loss: 0.3014 - accuracy: 0.8698 - val_loss: 0.3252 - val_accuracy: 0.8448\n",
            "Epoch 8/10\n",
            "391/391 [==============================] - 3363s 9s/step - loss: 0.2993 - accuracy: 0.8726 - val_loss: 0.3178 - val_accuracy: 0.8589\n",
            "Epoch 9/10\n",
            "391/391 [==============================] - 2500s 6s/step - loss: 0.2958 - accuracy: 0.8754 - val_loss: 0.3204 - val_accuracy: 0.8531\n",
            "Epoch 10/10\n",
            "391/391 [==============================] - 3665s 9s/step - loss: 0.2932 - accuracy: 0.8745 - val_loss: 0.3349 - val_accuracy: 0.8646\n"
          ]
        }
      ],
      "source": [
        "history = model.fit(train_dataset, epochs=10, # melatih model\n",
        "                    validation_data=test_dataset, # menentukan dataset validasi yang akan digunakan selama pelatihan\n",
        "                    validation_steps=30) # menentukan jumlah langkah evaluasi yang akan dilakukan pada dataset validasi"
      ]
    },
    {
      "cell_type": "code",
      "execution_count": 22,
      "metadata": {
        "id": "vg5KSmKG8Rqx"
      },
      "outputs": [
        {
          "name": "stdout",
          "output_type": "stream",
          "text": [
            "391/391 [==============================] - 595s 2s/step - loss: 0.3342 - accuracy: 0.8637\n",
            "Test Loss: 0.3341790735721588\n",
            "Test Accuracy: 0.8637199997901917\n"
          ]
        }
      ],
      "source": [
        "test_loss, test_acc = model.evaluate(test_dataset) # evaluasi model pada dataset uji dan akan menghitung loss dan metrik yang telah ditentukan\n",
        "\n",
        "print('Test Loss:', test_loss) # variabel yang akan menampung nilai loss dan akurasi \n",
        "print('Test Accuracy:', test_acc) # mencetak nilai akurasi pada dataset"
      ]
    },
    {
      "cell_type": "code",
      "execution_count": 23,
      "metadata": {
        "id": "5RvfyKDe8Sbg"
      },
      "outputs": [
        {
          "name": "stdout",
          "output_type": "stream",
          "text": [
            "1/1 [==============================] - 16s 16s/step\n",
            "[[-1.7134913]]\n"
          ]
        }
      ],
      "source": [
        "# predict on a sample text without padding.\n",
        "\n",
        "sample_text = ('The movie was not good. The animation and the graphics '\n",
        "              'were terrible. I would not recommend this movie.') # contoh teks\n",
        "predictions = model.predict(np.array([sample_text])) # melakukan prediksi sentimen pada contoh teks yang diberikan\n",
        "print(predictions) # mencetak hasil prediksi"
      ]
    },
    {
      "cell_type": "code",
      "execution_count": 24,
      "metadata": {
        "id": "pbv6GP358Xgp"
      },
      "outputs": [
        {
          "data": {
            "image/png": "[encoded data removed]",
            "text/plain": [
              "<Figure size 1152x432 with 2 Axes>"
            ]
          },
          "metadata": {
            "needs_background": "light"
          },
          "output_type": "display_data"
        }
      ],
      "source": [
        "plt.figure(figsize=(16, 6)) # membuat sebuah figur dengan ukuran 16x6\n",
        "plt.subplot(1, 2, 1) # membuat subplot pertama dengan konfigurasi 1 baris dan 2 kolom\n",
        "plot_graphs(history, 'accuracy') # memanggil fungsi untuk menggambar grafik akurasi\n",
        "plt.subplot(1, 2, 2) # membuat subplot kedua dengan konfigurasi 1 baris dan 2 kolom\n",
        "plot_graphs(history, 'loss') # memanggil fungsi plot_graphs untuk menggambar grafik loss"
      ]
    }
  ],
  "metadata": {
    "colab": {
      "provenance": []
    },
    "kernelspec": {
      "display_name": "Python 3",
      "name": "python3"
    },
    "language_info": {
      "codemirror_mode": {
        "name": "ipython",
        "version": 3
      },
      "file_extension": ".py",
      "mimetype": "text/x-python",
      "name": "python",
      "nbconvert_exporter": "python",
      "pygments_lexer": "ipython3",
      "version": "3.8.8"
    }
  },
  "nbformat": 4,
  "nbformat_minor": 0
}
