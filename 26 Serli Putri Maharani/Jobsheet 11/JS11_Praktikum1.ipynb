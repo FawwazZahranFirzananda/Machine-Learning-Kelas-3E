{
  "nbformat": 4,
  "nbformat_minor": 0,
  "metadata": {
    "colab": {
      "provenance": [],
      "gpuType": "T4"
    },
    "kernelspec": {
      "name": "python3",
      "display_name": "Python 3"
    },
    "language_info": {
      "name": "python"
    },
    "accelerator": "GPU"
  },
  "cells": [
    {
      "cell_type": "code",
      "execution_count": 14,
      "metadata": {
        "colab": {
          "base_uri": "https://localhost:8080/"
        },
        "id": "5nYn-7tH0RAI",
        "outputId": "557ccde2-838c-4c1b-fd88-9949b0632665"
      },
      "outputs": [
        {
          "output_type": "stream",
          "name": "stdout",
          "text": [
            "Drive already mounted at /content/drive; to attempt to forcibly remount, call drive.mount(\"/content/drive\", force_remount=True).\n"
          ]
        }
      ],
      "source": [
        "from google.colab import drive\n",
        "drive.mount('/content/drive')"
      ]
    },
    {
      "cell_type": "code",
      "source": [
        "import tensorflow as tf # import tensorflow untuk berbagai fungsi dan objek yang disediakan oleh TensorFlow\n",
        "from keras.preprocessing.image import ImageDataGenerator # membuat variasi dari data pelatihan dengan mengubah secara acak citra asli, seperti rotasi, pergeseran, pemotongan, dan lainnya."
      ],
      "metadata": {
        "id": "9PQUpwEH0xmR"
      },
      "execution_count": 15,
      "outputs": []
    },
    {
      "cell_type": "code",
      "source": [
        "# inisialisasi objek untuk melakukan augmentasi data gambar pada data pelatihan.\n",
        "train_datagen = ImageDataGenerator(rescale = 1./255, # Mengubah rentang nilai piksel gambar menjadi 0-1 dengan membagi setiap piksel dengan 255.\n",
        "                                   shear_range = 0.2, # mengubah sudut citra dengan sudut acak dalam kisaran 0,2.\n",
        "                                   zoom_range = 0.2, # untuk memperbesar atau memperkecil citra dengan faktor acak dalam kisaran 0,2.\n",
        "                                   horizontal_flip = True) # untuk secara acak membalik citra secara horizontal.\n",
        "# inisialisasi objek untuk menghasilkan batch data pelatihan secara acak dari direktori yang diberikan.\n",
        "training_set = train_datagen.flow_from_directory('/content/drive/MyDrive/Dataset ML/JS10/dataset/training_set', # Lokasi direktori yang berisi data pelatihan.\n",
        "                                                 target_size = (64, 64), # Ukuran target untuk mengubah semua gambar menjadi ukuran 64x64 piksel.\n",
        "                                                 batch_size = 32, # Jumlah sampel gambar yang dihasilkan dalam setiap batch data pelatihan.\n",
        "                                                 class_mode = 'binary') # untuk masalah klasifikasi biner"
      ],
      "metadata": {
        "colab": {
          "base_uri": "https://localhost:8080/"
        },
        "id": "aMXuRvZZ1b7I",
        "outputId": "c848b867-2777-4c97-ff3a-9bf2109f1a25"
      },
      "execution_count": 16,
      "outputs": [
        {
          "output_type": "stream",
          "name": "stdout",
          "text": [
            "Found 8021 images belonging to 2 classes.\n"
          ]
        }
      ]
    },
    {
      "cell_type": "code",
      "source": [
        "# inisialisasi objek untuk  untuk melakukan normalisasi data gambar pada data pengujian.\n",
        "test_datagen = ImageDataGenerator(rescale = 1./255) # Mengubah rentang nilai piksel gambar menjadi 0-1 dengan membagi setiap piksel dengan 255. Ini normalisasi data gambar.\n",
        "# inisialisasi objek untuk menghasilkan batch data pengujian secara acak dari direktori yang diberikan.\n",
        "test_set = test_datagen.flow_from_directory('/content/drive/MyDrive/Dataset ML/JS10/dataset/test_set', # Lokasi direktori yang berisi data pengujian.\n",
        "                                            target_size = (64, 64), # Ukuran target untuk mengubah semua gambar menjadi ukuran 64x64 piksel.\n",
        "                                            batch_size = 32, # Jumlah sampel gambar yang dihasilkan dalam setiap batch data pengujian.\n",
        "                                            class_mode = 'binary') # 'binary' digunakan untuk masalah klasifikasi biner"
      ],
      "metadata": {
        "colab": {
          "base_uri": "https://localhost:8080/"
        },
        "id": "Tv-ATP9314UU",
        "outputId": "ebf48a31-27f6-489b-e3a5-a281bb18bb11"
      },
      "execution_count": 17,
      "outputs": [
        {
          "output_type": "stream",
          "name": "stdout",
          "text": [
            "Found 2000 images belonging to 2 classes.\n"
          ]
        }
      ]
    },
    {
      "cell_type": "code",
      "source": [
        "# inisialisasi objek model Sequential yang disimpan dalam variabel cnn.\n",
        "cnn = tf.keras.models.Sequential()"
      ],
      "metadata": {
        "id": "-x9mCy6i2C5I"
      },
      "execution_count": 18,
      "outputs": []
    },
    {
      "cell_type": "code",
      "source": [
        "# menambahkan lapisan konvolusi (Conv2D) ke model Sequential (cnn).\n",
        "cnn.add(tf.keras.layers.Conv2D(filters=32, kernel_size=3, activation='relu', input_shape=[64, 64, 3]))"
      ],
      "metadata": {
        "id": "yHvKbuw_2GXz"
      },
      "execution_count": 19,
      "outputs": []
    },
    {
      "cell_type": "code",
      "source": [
        "# menambahkan lapisan pooling maksimum (MaxPool2D) ke model Sequential (cnn)\n",
        "cnn.add(tf.keras.layers.MaxPool2D(pool_size=2, strides=2))"
      ],
      "metadata": {
        "id": "qbnWMjzJ2Kjd"
      },
      "execution_count": 20,
      "outputs": []
    },
    {
      "cell_type": "code",
      "source": [
        "cnn.add(tf.keras.layers.Conv2D(filters=32, kernel_size=3, activation='relu')) # filters=32: Argumen ini menentukan jumlah filter yang akan digunakan dalam lapisan konvolusi. kernel_size=3: Argumen ini menentukan ukuran kernel (matriks filter) yang akan digunakan dalam lapisan konvolusi.activation='relu': Argumen ini menentukan fungsi aktivasi yang akan digunakan setelah operasi konvolusi.\n",
        "cnn.add(tf.keras.layers.MaxPool2D(pool_size=2, strides=2)) # pool_size=2: Argumen ini menentukan ukuran jendela pooling. strides=2: Argumen ini menentukan langkah (stride) pooling."
      ],
      "metadata": {
        "id": "p-bVMRQ52No7"
      },
      "execution_count": 21,
      "outputs": []
    },
    {
      "cell_type": "code",
      "source": [
        "# menambahkan lapisan flatten (Flatten) ke model Sequential (cnn)\n",
        "cnn.add(tf.keras.layers.Flatten())"
      ],
      "metadata": {
        "id": "sDoVgC222QEN"
      },
      "execution_count": 22,
      "outputs": []
    },
    {
      "cell_type": "code",
      "source": [
        "# menambahkan lapisan terhubung penuh (Dense) ke model Sequential (cnn).\n",
        "cnn.add(tf.keras.layers.Dense(units=128, activation='relu'))"
      ],
      "metadata": {
        "id": "2nV2BXf62SMx"
      },
      "execution_count": 23,
      "outputs": []
    },
    {
      "cell_type": "code",
      "source": [
        "# menambahkan lapisan terhubung penuh terakhir (Dense) ke model Sequential (cnn)\n",
        "cnn.add(tf.keras.layers.Dense(units=1, activation='sigmoid'))"
      ],
      "metadata": {
        "id": "JN4nBFjM2URN"
      },
      "execution_count": 24,
      "outputs": []
    },
    {
      "cell_type": "code",
      "source": [
        "# mengompilasi model Sequential (cnn) dengan pengaturan optimizer, loss function, dan metrik evaluasi.\n",
        "cnn.compile(optimizer = 'adam', loss = 'binary_crossentropy', metrics = ['accuracy'])"
      ],
      "metadata": {
        "id": "baa7Xc6R2V-Z"
      },
      "execution_count": 25,
      "outputs": []
    },
    {
      "cell_type": "code",
      "source": [
        "# melatih model Sequential (cnn) dengan menggunakan data pelatihan (training_set) dan data validasi (test_set).\n",
        "cnn.fit(x = training_set, validation_data = test_set, epochs = 25)"
      ],
      "metadata": {
        "colab": {
          "base_uri": "https://localhost:8080/"
        },
        "id": "CSr_1S8A2XnM",
        "outputId": "7c16b55a-5e28-4c40-d8b8-0eee17d7fd7f"
      },
      "execution_count": 26,
      "outputs": [
        {
          "output_type": "stream",
          "name": "stdout",
          "text": [
            "Epoch 1/25\n",
            "251/251 [==============================] - 227s 898ms/step - loss: 0.6868 - accuracy: 0.5458 - val_loss: 0.6169 - val_accuracy: 0.6735\n",
            "Epoch 2/25\n",
            "251/251 [==============================] - 35s 141ms/step - loss: 0.6148 - accuracy: 0.6628 - val_loss: 0.5908 - val_accuracy: 0.6825\n",
            "Epoch 3/25\n",
            "251/251 [==============================] - 41s 162ms/step - loss: 0.5595 - accuracy: 0.7136 - val_loss: 0.5398 - val_accuracy: 0.7255\n",
            "Epoch 4/25\n",
            "251/251 [==============================] - 35s 138ms/step - loss: 0.5311 - accuracy: 0.7372 - val_loss: 0.5109 - val_accuracy: 0.7520\n",
            "Epoch 5/25\n",
            "251/251 [==============================] - 36s 144ms/step - loss: 0.5026 - accuracy: 0.7515 - val_loss: 0.5014 - val_accuracy: 0.7645\n",
            "Epoch 6/25\n",
            "251/251 [==============================] - 35s 138ms/step - loss: 0.4794 - accuracy: 0.7691 - val_loss: 0.4843 - val_accuracy: 0.7735\n",
            "Epoch 7/25\n",
            "251/251 [==============================] - 38s 153ms/step - loss: 0.4666 - accuracy: 0.7765 - val_loss: 0.4684 - val_accuracy: 0.7795\n",
            "Epoch 8/25\n",
            "251/251 [==============================] - 41s 164ms/step - loss: 0.4512 - accuracy: 0.7884 - val_loss: 0.4786 - val_accuracy: 0.7825\n",
            "Epoch 9/25\n",
            "251/251 [==============================] - 37s 149ms/step - loss: 0.4460 - accuracy: 0.7882 - val_loss: 0.5409 - val_accuracy: 0.7520\n",
            "Epoch 10/25\n",
            "251/251 [==============================] - 39s 157ms/step - loss: 0.4274 - accuracy: 0.7990 - val_loss: 0.4573 - val_accuracy: 0.7925\n",
            "Epoch 11/25\n",
            "251/251 [==============================] - 36s 144ms/step - loss: 0.4201 - accuracy: 0.8063 - val_loss: 0.4825 - val_accuracy: 0.7765\n",
            "Epoch 12/25\n",
            "251/251 [==============================] - 39s 156ms/step - loss: 0.4084 - accuracy: 0.8119 - val_loss: 0.4819 - val_accuracy: 0.7790\n",
            "Epoch 13/25\n",
            "251/251 [==============================] - 39s 154ms/step - loss: 0.3972 - accuracy: 0.8182 - val_loss: 0.4647 - val_accuracy: 0.7815\n",
            "Epoch 14/25\n",
            "251/251 [==============================] - 38s 152ms/step - loss: 0.3895 - accuracy: 0.8221 - val_loss: 0.4926 - val_accuracy: 0.7850\n",
            "Epoch 15/25\n",
            "251/251 [==============================] - 37s 146ms/step - loss: 0.3690 - accuracy: 0.8308 - val_loss: 0.4558 - val_accuracy: 0.7965\n",
            "Epoch 16/25\n",
            "251/251 [==============================] - 37s 148ms/step - loss: 0.3648 - accuracy: 0.8326 - val_loss: 0.5189 - val_accuracy: 0.7810\n",
            "Epoch 17/25\n",
            "251/251 [==============================] - 35s 140ms/step - loss: 0.3592 - accuracy: 0.8410 - val_loss: 0.4774 - val_accuracy: 0.7895\n",
            "Epoch 18/25\n",
            "251/251 [==============================] - 35s 141ms/step - loss: 0.3411 - accuracy: 0.8486 - val_loss: 0.4907 - val_accuracy: 0.7920\n",
            "Epoch 19/25\n",
            "251/251 [==============================] - 34s 137ms/step - loss: 0.3437 - accuracy: 0.8468 - val_loss: 0.4845 - val_accuracy: 0.7965\n",
            "Epoch 20/25\n",
            "251/251 [==============================] - 37s 147ms/step - loss: 0.3344 - accuracy: 0.8498 - val_loss: 0.4736 - val_accuracy: 0.7955\n",
            "Epoch 21/25\n",
            "251/251 [==============================] - 37s 147ms/step - loss: 0.3118 - accuracy: 0.8626 - val_loss: 0.4816 - val_accuracy: 0.8045\n",
            "Epoch 22/25\n",
            "251/251 [==============================] - 35s 141ms/step - loss: 0.3122 - accuracy: 0.8631 - val_loss: 0.5676 - val_accuracy: 0.7625\n",
            "Epoch 23/25\n",
            "251/251 [==============================] - 35s 140ms/step - loss: 0.3020 - accuracy: 0.8667 - val_loss: 0.5103 - val_accuracy: 0.8040\n",
            "Epoch 24/25\n",
            "251/251 [==============================] - 34s 137ms/step - loss: 0.2969 - accuracy: 0.8756 - val_loss: 0.5339 - val_accuracy: 0.7920\n",
            "Epoch 25/25\n",
            "251/251 [==============================] - 35s 139ms/step - loss: 0.2861 - accuracy: 0.8746 - val_loss: 0.5469 - val_accuracy: 0.7905\n"
          ]
        },
        {
          "output_type": "execute_result",
          "data": {
            "text/plain": [
              "<keras.src.callbacks.History at 0x7f4d92031cc0>"
            ]
          },
          "metadata": {},
          "execution_count": 26
        }
      ]
    },
    {
      "cell_type": "code",
      "source": [
        "import numpy as np\n",
        "from keras.preprocessing import image # memuat gambar uji\n",
        "test_image = image.load_img('/content/drive/MyDrive/Dataset ML/JS10/dataset/single_prediction/cat_or_dog_1.jpg', target_size = (64, 64))\n",
        "test_image = image.img_to_array(test_image) # mengubah gambar menjadi bentuk array\n",
        "test_image = np.expand_dims(test_image, axis = 0) # memperluas dimensi array gambar\n",
        "result = cnn.predict(test_image) # untuk memprediksi label kelas dari gambar uji dengan memanggil cnn.predict pada gambar yang telah diubah.\n",
        "training_set.class_indices # untuk mendapatkan indeks kelas yang sesuai dengan gambar\n",
        "# memeriksa nilai prediksi yang diperoleh dari model untuk menentukan apakah gambar dianggap sebagai anjing atau kucing.\n",
        "if result[0][0] == 1:\n",
        "  prediction = 'dog'\n",
        "else:\n",
        "  prediction = 'cat'"
      ],
      "metadata": {
        "colab": {
          "base_uri": "https://localhost:8080/"
        },
        "id": "8NG9Zu9C2jQp",
        "outputId": "2c0b8915-feb3-4a6d-8583-55fcd708fabe"
      },
      "execution_count": 27,
      "outputs": [
        {
          "output_type": "stream",
          "name": "stdout",
          "text": [
            "1/1 [==============================] - 0s 148ms/step\n"
          ]
        }
      ]
    }
  ]
}