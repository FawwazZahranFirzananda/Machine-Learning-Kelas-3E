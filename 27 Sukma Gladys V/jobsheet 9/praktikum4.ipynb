{
 "cells": [
  {
   "cell_type": "markdown",
   "metadata": {},
   "source": [
    "LANGKAH 1 - Import Library"
   ]
  },
  {
   "cell_type": "code",
   "execution_count": 1,
   "metadata": {},
   "outputs": [
    {
     "name": "stdout",
     "output_type": "stream",
     "text": [
      "Requirement already satisfied: tensorflow in c:\\users\\sukma\\anaconda3\\lib\\site-packages (2.13.0)\n",
      "Requirement already satisfied: tensorflow-intel==2.13.0 in c:\\users\\sukma\\anaconda3\\lib\\site-packages (from tensorflow) (2.13.0)\n",
      "Requirement already satisfied: absl-py>=1.0.0 in c:\\users\\sukma\\anaconda3\\lib\\site-packages (from tensorflow-intel==2.13.0->tensorflow) (2.0.0)\n",
      "Requirement already satisfied: astunparse>=1.6.0 in c:\\users\\sukma\\anaconda3\\lib\\site-packages (from tensorflow-intel==2.13.0->tensorflow) (1.6.3)\n",
      "Requirement already satisfied: flatbuffers>=23.1.21 in c:\\users\\sukma\\anaconda3\\lib\\site-packages (from tensorflow-intel==2.13.0->tensorflow) (23.5.26)\n",
      "Requirement already satisfied: gast<=0.4.0,>=0.2.1 in c:\\users\\sukma\\anaconda3\\lib\\site-packages (from tensorflow-intel==2.13.0->tensorflow) (0.4.0)\n",
      "Requirement already satisfied: google-pasta>=0.1.1 in c:\\users\\sukma\\anaconda3\\lib\\site-packages (from tensorflow-intel==2.13.0->tensorflow) (0.2.0)\n",
      "Requirement already satisfied: h5py>=2.9.0 in c:\\users\\sukma\\anaconda3\\lib\\site-packages (from tensorflow-intel==2.13.0->tensorflow) (3.9.0)\n",
      "Requirement already satisfied: libclang>=13.0.0 in c:\\users\\sukma\\anaconda3\\lib\\site-packages (from tensorflow-intel==2.13.0->tensorflow) (16.0.6)\n",
      "Requirement already satisfied: numpy<=1.24.3,>=1.22 in c:\\users\\sukma\\anaconda3\\lib\\site-packages (from tensorflow-intel==2.13.0->tensorflow) (1.24.3)\n",
      "Requirement already satisfied: opt-einsum>=2.3.2 in c:\\users\\sukma\\anaconda3\\lib\\site-packages (from tensorflow-intel==2.13.0->tensorflow) (3.3.0)\n",
      "Requirement already satisfied: packaging in c:\\users\\sukma\\anaconda3\\lib\\site-packages (from tensorflow-intel==2.13.0->tensorflow) (23.1)\n",
      "Requirement already satisfied: protobuf!=4.21.0,!=4.21.1,!=4.21.2,!=4.21.3,!=4.21.4,!=4.21.5,<5.0.0dev,>=3.20.3 in c:\\users\\sukma\\anaconda3\\lib\\site-packages (from tensorflow-intel==2.13.0->tensorflow) (4.24.4)\n",
      "Requirement already satisfied: setuptools in c:\\users\\sukma\\anaconda3\\lib\\site-packages (from tensorflow-intel==2.13.0->tensorflow) (68.0.0)\n",
      "Requirement already satisfied: six>=1.12.0 in c:\\users\\sukma\\anaconda3\\lib\\site-packages (from tensorflow-intel==2.13.0->tensorflow) (1.16.0)\n",
      "Requirement already satisfied: termcolor>=1.1.0 in c:\\users\\sukma\\anaconda3\\lib\\site-packages (from tensorflow-intel==2.13.0->tensorflow) (2.3.0)\n",
      "Collecting typing-extensions<4.6.0,>=3.6.6 (from tensorflow-intel==2.13.0->tensorflow)\n",
      "  Downloading typing_extensions-4.5.0-py3-none-any.whl (27 kB)\n",
      "Requirement already satisfied: wrapt>=1.11.0 in c:\\users\\sukma\\anaconda3\\lib\\site-packages (from tensorflow-intel==2.13.0->tensorflow) (1.14.1)\n",
      "Requirement already satisfied: grpcio<2.0,>=1.24.3 in c:\\users\\sukma\\anaconda3\\lib\\site-packages (from tensorflow-intel==2.13.0->tensorflow) (1.59.0)\n",
      "Requirement already satisfied: tensorboard<2.14,>=2.13 in c:\\users\\sukma\\anaconda3\\lib\\site-packages (from tensorflow-intel==2.13.0->tensorflow) (2.13.0)\n",
      "Requirement already satisfied: tensorflow-estimator<2.14,>=2.13.0 in c:\\users\\sukma\\anaconda3\\lib\\site-packages (from tensorflow-intel==2.13.0->tensorflow) (2.13.0)\n",
      "Requirement already satisfied: keras<2.14,>=2.13.1 in c:\\users\\sukma\\anaconda3\\lib\\site-packages (from tensorflow-intel==2.13.0->tensorflow) (2.13.1)\n",
      "Requirement already satisfied: tensorflow-io-gcs-filesystem>=0.23.1 in c:\\users\\sukma\\anaconda3\\lib\\site-packages (from tensorflow-intel==2.13.0->tensorflow) (0.31.0)\n",
      "Requirement already satisfied: wheel<1.0,>=0.23.0 in c:\\users\\sukma\\anaconda3\\lib\\site-packages (from astunparse>=1.6.0->tensorflow-intel==2.13.0->tensorflow) (0.38.4)\n",
      "Requirement already satisfied: google-auth<3,>=1.6.3 in c:\\users\\sukma\\anaconda3\\lib\\site-packages (from tensorboard<2.14,>=2.13->tensorflow-intel==2.13.0->tensorflow) (2.23.2)\n",
      "Requirement already satisfied: google-auth-oauthlib<1.1,>=0.5 in c:\\users\\sukma\\anaconda3\\lib\\site-packages (from tensorboard<2.14,>=2.13->tensorflow-intel==2.13.0->tensorflow) (1.0.0)\n",
      "Requirement already satisfied: markdown>=2.6.8 in c:\\users\\sukma\\anaconda3\\lib\\site-packages (from tensorboard<2.14,>=2.13->tensorflow-intel==2.13.0->tensorflow) (3.4.1)\n",
      "Requirement already satisfied: requests<3,>=2.21.0 in c:\\users\\sukma\\anaconda3\\lib\\site-packages (from tensorboard<2.14,>=2.13->tensorflow-intel==2.13.0->tensorflow) (2.31.0)\n",
      "Requirement already satisfied: tensorboard-data-server<0.8.0,>=0.7.0 in c:\\users\\sukma\\anaconda3\\lib\\site-packages (from tensorboard<2.14,>=2.13->tensorflow-intel==2.13.0->tensorflow) (0.7.1)\n",
      "Requirement already satisfied: werkzeug>=1.0.1 in c:\\users\\sukma\\anaconda3\\lib\\site-packages (from tensorboard<2.14,>=2.13->tensorflow-intel==2.13.0->tensorflow) (2.2.3)\n",
      "Requirement already satisfied: cachetools<6.0,>=2.0.0 in c:\\users\\sukma\\anaconda3\\lib\\site-packages (from google-auth<3,>=1.6.3->tensorboard<2.14,>=2.13->tensorflow-intel==2.13.0->tensorflow) (5.3.1)\n",
      "Requirement already satisfied: pyasn1-modules>=0.2.1 in c:\\users\\sukma\\anaconda3\\lib\\site-packages (from google-auth<3,>=1.6.3->tensorboard<2.14,>=2.13->tensorflow-intel==2.13.0->tensorflow) (0.2.8)\n",
      "Requirement already satisfied: rsa<5,>=3.1.4 in c:\\users\\sukma\\anaconda3\\lib\\site-packages (from google-auth<3,>=1.6.3->tensorboard<2.14,>=2.13->tensorflow-intel==2.13.0->tensorflow) (4.9)\n",
      "Requirement already satisfied: requests-oauthlib>=0.7.0 in c:\\users\\sukma\\anaconda3\\lib\\site-packages (from google-auth-oauthlib<1.1,>=0.5->tensorboard<2.14,>=2.13->tensorflow-intel==2.13.0->tensorflow) (1.3.1)\n",
      "Requirement already satisfied: importlib-metadata>=4.4 in c:\\users\\sukma\\anaconda3\\lib\\site-packages (from markdown>=2.6.8->tensorboard<2.14,>=2.13->tensorflow-intel==2.13.0->tensorflow) (6.0.0)\n",
      "Requirement already satisfied: charset-normalizer<4,>=2 in c:\\users\\sukma\\anaconda3\\lib\\site-packages (from requests<3,>=2.21.0->tensorboard<2.14,>=2.13->tensorflow-intel==2.13.0->tensorflow) (2.0.4)\n",
      "Requirement already satisfied: idna<4,>=2.5 in c:\\users\\sukma\\anaconda3\\lib\\site-packages (from requests<3,>=2.21.0->tensorboard<2.14,>=2.13->tensorflow-intel==2.13.0->tensorflow) (3.4)\n",
      "Requirement already satisfied: urllib3<3,>=1.21.1 in c:\\users\\sukma\\anaconda3\\lib\\site-packages (from requests<3,>=2.21.0->tensorboard<2.14,>=2.13->tensorflow-intel==2.13.0->tensorflow) (1.26.16)\n",
      "Requirement already satisfied: certifi>=2017.4.17 in c:\\users\\sukma\\anaconda3\\lib\\site-packages (from requests<3,>=2.21.0->tensorboard<2.14,>=2.13->tensorflow-intel==2.13.0->tensorflow) (2023.7.22)\n",
      "Requirement already satisfied: MarkupSafe>=2.1.1 in c:\\users\\sukma\\anaconda3\\lib\\site-packages (from werkzeug>=1.0.1->tensorboard<2.14,>=2.13->tensorflow-intel==2.13.0->tensorflow) (2.1.1)\n",
      "Requirement already satisfied: zipp>=0.5 in c:\\users\\sukma\\anaconda3\\lib\\site-packages (from importlib-metadata>=4.4->markdown>=2.6.8->tensorboard<2.14,>=2.13->tensorflow-intel==2.13.0->tensorflow) (3.11.0)\n",
      "Requirement already satisfied: pyasn1<0.5.0,>=0.4.6 in c:\\users\\sukma\\anaconda3\\lib\\site-packages (from pyasn1-modules>=0.2.1->google-auth<3,>=1.6.3->tensorboard<2.14,>=2.13->tensorflow-intel==2.13.0->tensorflow) (0.4.8)\n",
      "Requirement already satisfied: oauthlib>=3.0.0 in c:\\users\\sukma\\anaconda3\\lib\\site-packages (from requests-oauthlib>=0.7.0->google-auth-oauthlib<1.1,>=0.5->tensorboard<2.14,>=2.13->tensorflow-intel==2.13.0->tensorflow) (3.2.2)\n",
      "Installing collected packages: typing-extensions\n",
      "  Attempting uninstall: typing-extensions\n",
      "    Found existing installation: typing_extensions 4.7.1\n",
      "    Uninstalling typing_extensions-4.7.1:\n",
      "      Successfully uninstalled typing_extensions-4.7.1\n",
      "Successfully installed typing-extensions-4.5.0\n",
      "Note: you may need to restart the kernel to use updated packages.\n"
     ]
    },
    {
     "name": "stderr",
     "output_type": "stream",
     "text": [
      "ERROR: pip's dependency resolver does not currently take into account all the packages that are installed. This behaviour is the source of the following dependency conflicts.\n",
      "python-lsp-black 1.2.1 requires black>=22.3.0, but you have black 0.0 which is incompatible.\n"
     ]
    }
   ],
   "source": [
    "pip install tensorflow"
   ]
  },
  {
   "cell_type": "code",
   "execution_count": 2,
   "metadata": {},
   "outputs": [],
   "source": [
    "import numpy as np\n",
    "import pandas as pd\n",
    "import tensorflow as tf"
   ]
  },
  {
   "cell_type": "markdown",
   "metadata": {},
   "source": [
    "LANGKAH 2 - Load Data"
   ]
  },
  {
   "cell_type": "code",
   "execution_count": 3,
   "metadata": {},
   "outputs": [],
   "source": [
    "dataset = pd.read_csv('Churn_Modelling.csv')\n",
    "# Fitur X: semua kolom kecuali kolom pertama dan kolom terakhir.\n",
    "X = dataset.iloc[:, 3:-1].values\n",
    "# Target y: kolom terakhir dalam dataframe\n",
    "y = dataset.iloc[:, -1].values"
   ]
  },
  {
   "cell_type": "code",
   "execution_count": 4,
   "metadata": {},
   "outputs": [
    {
     "name": "stdout",
     "output_type": "stream",
     "text": [
      "[[619 'France' 'Female' ... 1 1 101348.88]\n",
      " [608 'Spain' 'Female' ... 0 1 112542.58]\n",
      " [502 'France' 'Female' ... 1 0 113931.57]\n",
      " ...\n",
      " [709 'France' 'Female' ... 0 1 42085.58]\n",
      " [772 'Germany' 'Male' ... 1 0 92888.52]\n",
      " [792 'France' 'Female' ... 1 0 38190.78]]\n"
     ]
    }
   ],
   "source": [
    "# cek data\n",
    "print(X)"
   ]
  },
  {
   "cell_type": "markdown",
   "metadata": {},
   "source": [
    "LANGKAH 3 - Encoding Data Kategorikal"
   ]
  },
  {
   "cell_type": "code",
   "execution_count": 5,
   "metadata": {},
   "outputs": [],
   "source": [
    "from sklearn.preprocessing import LabelEncoder\n",
    "le = LabelEncoder()\n",
    "# konversi data kategorikal menjadi numerik\n",
    "X[:, 2] = le.fit_transform(X[:, 2])"
   ]
  },
  {
   "cell_type": "markdown",
   "metadata": {},
   "source": [
    "LANGKAH 4 - Encoding Kolom \"Geography\" dengan One Hot Encoder\n",
    "\n",
    "One-hot encoding adalah teknik pengkodean data kategorikal yang mengubah setiap kategori menjadi vektor biner"
   ]
  },
  {
   "cell_type": "code",
   "execution_count": 6,
   "metadata": {},
   "outputs": [],
   "source": [
    "from sklearn.compose import ColumnTransformer\n",
    "from sklearn.preprocessing import OneHotEncoder\n",
    "# melakukan one hot encoding pada 1 kolom\n",
    "ct = ColumnTransformer(transformers=[('encoder', OneHotEncoder(), [1])], remainder='passthrough')\n",
    "# melakukan one-hot encoding pada kolom 1 dari dataframe X menggunakan objek ct\n",
    "# Hasilnya akan disimpan dalam variabel X sebagai array NumPy.\n",
    "X = np.array(ct.fit_transform(X))"
   ]
  },
  {
   "cell_type": "markdown",
   "metadata": {},
   "source": [
    "LANGKAH 5 - Split Data"
   ]
  },
  {
   "cell_type": "code",
   "execution_count": 7,
   "metadata": {},
   "outputs": [],
   "source": [
    "from sklearn.model_selection import train_test_split\n",
    "X_train, X_test, y_train, y_test = train_test_split(X, y, test_size = 0.2, random_state = 0)"
   ]
  },
  {
   "cell_type": "markdown",
   "metadata": {},
   "source": [
    "LANGKAH 6 - Scaling Fitur"
   ]
  },
  {
   "cell_type": "code",
   "execution_count": 8,
   "metadata": {},
   "outputs": [],
   "source": [
    "from sklearn.preprocessing import StandardScaler\n",
    "sc = StandardScaler()\n",
    "# melakukan standarisasi pada data latih X_train menggunakan objek sc\n",
    "X_train = sc.fit_transform(X_train)\n",
    "# melakukan standarisasi pada data uji X_test menggunakan objek sc\n",
    "X_test = sc.transform(X_test)"
   ]
  },
  {
   "cell_type": "markdown",
   "metadata": {},
   "source": [
    "MEMBUAT MODEL ANN\n",
    "\n",
    "LANGKAH 1 - Inisiasi Model ANN"
   ]
  },
  {
   "cell_type": "code",
   "execution_count": 9,
   "metadata": {},
   "outputs": [],
   "source": [
    "# membuat model ANN baru menggunakan kelas Sequential\n",
    "ann = tf.keras.models.Sequential()"
   ]
  },
  {
   "cell_type": "markdown",
   "metadata": {},
   "source": [
    "LANGKAH 2 - Membuat Input Layer dan Hidden Layer Pertama"
   ]
  },
  {
   "cell_type": "code",
   "execution_count": 10,
   "metadata": {},
   "outputs": [],
   "source": [
    "# Lapisan ini memiliki 6 neuron dan menggunakan fungsi aktivasi ReLU\n",
    "ann.add(tf.keras.layers.Dense(units=6, activation='relu'))"
   ]
  },
  {
   "cell_type": "markdown",
   "metadata": {},
   "source": [
    "LANGKAH 3 - Membuat Hidden Layer Kedua"
   ]
  },
  {
   "cell_type": "code",
   "execution_count": 11,
   "metadata": {},
   "outputs": [],
   "source": [
    "# Lapisan ini memiliki 6 neuron dan menggunakan fungsi aktivasi ReLU\n",
    "ann.add(tf.keras.layers.Dense(units=6, activation='relu'))"
   ]
  },
  {
   "cell_type": "markdown",
   "metadata": {},
   "source": [
    "LANGKAH 4 - Membuat Output Layer"
   ]
  },
  {
   "cell_type": "code",
   "execution_count": 12,
   "metadata": {},
   "outputs": [],
   "source": [
    "# Lapisan ini memiliki 1 neuron dan menggunakan fungsi aktivasi sigmoid\n",
    "ann.add(tf.keras.layers.Dense(units=1, activation='sigmoid'))"
   ]
  },
  {
   "cell_type": "markdown",
   "metadata": {},
   "source": [
    "TRAINING MODEL\n",
    "\n",
    "LANGKAH 1 - Compile Model (Menyatukan Arsitektur) ANN"
   ]
  },
  {
   "cell_type": "code",
   "execution_count": 13,
   "metadata": {},
   "outputs": [],
   "source": [
    "#  mengkompilasi model ANN dengan menggunakan optimizer Adam, fungsi loss binary crossentropy, dan metrik akurasi\n",
    "ann.compile(optimizer = 'adam', loss = 'binary_crossentropy', metrics = ['accuracy'])"
   ]
  },
  {
   "cell_type": "markdown",
   "metadata": {},
   "source": [
    "LANGKAH 2 - Fitting Model"
   ]
  },
  {
   "cell_type": "code",
   "execution_count": 14,
   "metadata": {},
   "outputs": [
    {
     "name": "stdout",
     "output_type": "stream",
     "text": [
      "Epoch 1/100\n",
      "250/250 [==============================] - 13s 14ms/step - loss: 0.5568 - accuracy: 0.7448\n",
      "Epoch 2/100\n",
      "250/250 [==============================] - 2s 8ms/step - loss: 0.4678 - accuracy: 0.8011\n",
      "Epoch 3/100\n",
      "250/250 [==============================] - 1s 6ms/step - loss: 0.4396 - accuracy: 0.8111\n",
      "Epoch 4/100\n",
      "250/250 [==============================] - 1s 5ms/step - loss: 0.4245 - accuracy: 0.8165\n",
      "Epoch 5/100\n",
      "250/250 [==============================] - 1s 5ms/step - loss: 0.4147 - accuracy: 0.8211\n",
      "Epoch 6/100\n",
      "250/250 [==============================] - 1s 6ms/step - loss: 0.4068 - accuracy: 0.8221\n",
      "Epoch 7/100\n",
      "250/250 [==============================] - 1s 5ms/step - loss: 0.3983 - accuracy: 0.8246\n",
      "Epoch 8/100\n",
      "250/250 [==============================] - 1s 5ms/step - loss: 0.3873 - accuracy: 0.8288\n",
      "Epoch 9/100\n",
      "250/250 [==============================] - 1s 5ms/step - loss: 0.3771 - accuracy: 0.8390\n",
      "Epoch 10/100\n",
      "250/250 [==============================] - 1s 5ms/step - loss: 0.3680 - accuracy: 0.8471\n",
      "Epoch 11/100\n",
      "250/250 [==============================] - 1s 6ms/step - loss: 0.3603 - accuracy: 0.8511\n",
      "Epoch 12/100\n",
      "250/250 [==============================] - 2s 7ms/step - loss: 0.3553 - accuracy: 0.8544\n",
      "Epoch 13/100\n",
      "250/250 [==============================] - 1s 5ms/step - loss: 0.3520 - accuracy: 0.8553\n",
      "Epoch 14/100\n",
      "250/250 [==============================] - 1s 5ms/step - loss: 0.3494 - accuracy: 0.8541\n",
      "Epoch 15/100\n",
      "250/250 [==============================] - 2s 6ms/step - loss: 0.3473 - accuracy: 0.8571\n",
      "Epoch 16/100\n",
      "250/250 [==============================] - 2s 8ms/step - loss: 0.3463 - accuracy: 0.8560\n",
      "Epoch 17/100\n",
      "250/250 [==============================] - 2s 7ms/step - loss: 0.3452 - accuracy: 0.8556\n",
      "Epoch 18/100\n",
      "250/250 [==============================] - 2s 7ms/step - loss: 0.3442 - accuracy: 0.8579\n",
      "Epoch 19/100\n",
      "250/250 [==============================] - 2s 6ms/step - loss: 0.3434 - accuracy: 0.8575\n",
      "Epoch 20/100\n",
      "250/250 [==============================] - 2s 6ms/step - loss: 0.3427 - accuracy: 0.8579\n",
      "Epoch 21/100\n",
      "250/250 [==============================] - 1s 5ms/step - loss: 0.3424 - accuracy: 0.8572\n",
      "Epoch 22/100\n",
      "250/250 [==============================] - 2s 6ms/step - loss: 0.3416 - accuracy: 0.8586\n",
      "Epoch 23/100\n",
      "250/250 [==============================] - 1s 5ms/step - loss: 0.3414 - accuracy: 0.8589\n",
      "Epoch 24/100\n",
      "250/250 [==============================] - 2s 7ms/step - loss: 0.3412 - accuracy: 0.8595\n",
      "Epoch 25/100\n",
      "250/250 [==============================] - 1s 5ms/step - loss: 0.3404 - accuracy: 0.8602\n",
      "Epoch 26/100\n",
      "250/250 [==============================] - 2s 6ms/step - loss: 0.3404 - accuracy: 0.8593\n",
      "Epoch 27/100\n",
      "250/250 [==============================] - 1s 6ms/step - loss: 0.3399 - accuracy: 0.8601\n",
      "Epoch 28/100\n",
      "250/250 [==============================] - 1s 5ms/step - loss: 0.3396 - accuracy: 0.8605\n",
      "Epoch 29/100\n",
      "250/250 [==============================] - 2s 7ms/step - loss: 0.3391 - accuracy: 0.8614\n",
      "Epoch 30/100\n",
      "250/250 [==============================] - 1s 6ms/step - loss: 0.3390 - accuracy: 0.8616\n",
      "Epoch 31/100\n",
      "250/250 [==============================] - 1s 6ms/step - loss: 0.3386 - accuracy: 0.8610\n",
      "Epoch 32/100\n",
      "250/250 [==============================] - 1s 5ms/step - loss: 0.3385 - accuracy: 0.8614\n",
      "Epoch 33/100\n",
      "250/250 [==============================] - 2s 6ms/step - loss: 0.3380 - accuracy: 0.8604\n",
      "Epoch 34/100\n",
      "250/250 [==============================] - 1s 5ms/step - loss: 0.3380 - accuracy: 0.8629\n",
      "Epoch 35/100\n",
      "250/250 [==============================] - 1s 5ms/step - loss: 0.3374 - accuracy: 0.8606\n",
      "Epoch 36/100\n",
      "250/250 [==============================] - 1s 5ms/step - loss: 0.3376 - accuracy: 0.8629\n",
      "Epoch 37/100\n",
      "250/250 [==============================] - 2s 6ms/step - loss: 0.3371 - accuracy: 0.8634\n",
      "Epoch 38/100\n",
      "250/250 [==============================] - 1s 6ms/step - loss: 0.3370 - accuracy: 0.8639\n",
      "Epoch 39/100\n",
      "250/250 [==============================] - 2s 8ms/step - loss: 0.3368 - accuracy: 0.8626\n",
      "Epoch 40/100\n",
      "250/250 [==============================] - 2s 7ms/step - loss: 0.3364 - accuracy: 0.8625\n",
      "Epoch 41/100\n",
      "250/250 [==============================] - 2s 7ms/step - loss: 0.3362 - accuracy: 0.8635\n",
      "Epoch 42/100\n",
      "250/250 [==============================] - 2s 7ms/step - loss: 0.3358 - accuracy: 0.8625\n",
      "Epoch 43/100\n",
      "250/250 [==============================] - 2s 7ms/step - loss: 0.3362 - accuracy: 0.8625\n",
      "Epoch 44/100\n",
      "250/250 [==============================] - 2s 6ms/step - loss: 0.3360 - accuracy: 0.8631\n",
      "Epoch 45/100\n",
      "250/250 [==============================] - 2s 7ms/step - loss: 0.3357 - accuracy: 0.8620\n",
      "Epoch 46/100\n",
      "250/250 [==============================] - 1s 6ms/step - loss: 0.3359 - accuracy: 0.8636\n",
      "Epoch 47/100\n",
      "250/250 [==============================] - 1s 5ms/step - loss: 0.3356 - accuracy: 0.8633\n",
      "Epoch 48/100\n",
      "250/250 [==============================] - 1s 6ms/step - loss: 0.3350 - accuracy: 0.8652\n",
      "Epoch 49/100\n",
      "250/250 [==============================] - 1s 5ms/step - loss: 0.3354 - accuracy: 0.8621\n",
      "Epoch 50/100\n",
      "250/250 [==============================] - 1s 6ms/step - loss: 0.3350 - accuracy: 0.8633\n",
      "Epoch 51/100\n",
      "250/250 [==============================] - 2s 6ms/step - loss: 0.3350 - accuracy: 0.8637\n",
      "Epoch 52/100\n",
      "250/250 [==============================] - 1s 6ms/step - loss: 0.3346 - accuracy: 0.8639\n",
      "Epoch 53/100\n",
      "250/250 [==============================] - 2s 6ms/step - loss: 0.3350 - accuracy: 0.8624\n",
      "Epoch 54/100\n",
      "250/250 [==============================] - 1s 6ms/step - loss: 0.3347 - accuracy: 0.8643\n",
      "Epoch 55/100\n",
      "250/250 [==============================] - 1s 6ms/step - loss: 0.3343 - accuracy: 0.8641\n",
      "Epoch 56/100\n",
      "250/250 [==============================] - 2s 7ms/step - loss: 0.3344 - accuracy: 0.8621\n",
      "Epoch 57/100\n",
      "250/250 [==============================] - 2s 7ms/step - loss: 0.3346 - accuracy: 0.8639\n",
      "Epoch 58/100\n",
      "250/250 [==============================] - 2s 6ms/step - loss: 0.3345 - accuracy: 0.8644\n",
      "Epoch 59/100\n",
      "250/250 [==============================] - 2s 7ms/step - loss: 0.3339 - accuracy: 0.8641\n",
      "Epoch 60/100\n",
      "250/250 [==============================] - 2s 6ms/step - loss: 0.3344 - accuracy: 0.8635\n",
      "Epoch 61/100\n",
      "250/250 [==============================] - 2s 7ms/step - loss: 0.3338 - accuracy: 0.8634\n",
      "Epoch 62/100\n",
      "250/250 [==============================] - 2s 6ms/step - loss: 0.3337 - accuracy: 0.8639\n",
      "Epoch 63/100\n",
      "250/250 [==============================] - 2s 7ms/step - loss: 0.3340 - accuracy: 0.8644\n",
      "Epoch 64/100\n",
      "250/250 [==============================] - 2s 6ms/step - loss: 0.3337 - accuracy: 0.8629\n",
      "Epoch 65/100\n",
      "250/250 [==============================] - 2s 6ms/step - loss: 0.3334 - accuracy: 0.8640\n",
      "Epoch 66/100\n",
      "250/250 [==============================] - 2s 7ms/step - loss: 0.3342 - accuracy: 0.8646\n",
      "Epoch 67/100\n",
      "250/250 [==============================] - 1s 5ms/step - loss: 0.3338 - accuracy: 0.8631\n",
      "Epoch 68/100\n",
      "250/250 [==============================] - 2s 6ms/step - loss: 0.3335 - accuracy: 0.8640\n",
      "Epoch 69/100\n",
      "250/250 [==============================] - 2s 6ms/step - loss: 0.3332 - accuracy: 0.8644\n",
      "Epoch 70/100\n",
      "250/250 [==============================] - 2s 7ms/step - loss: 0.3333 - accuracy: 0.8639\n",
      "Epoch 71/100\n",
      "250/250 [==============================] - 2s 7ms/step - loss: 0.3333 - accuracy: 0.8644\n",
      "Epoch 72/100\n",
      "250/250 [==============================] - 2s 7ms/step - loss: 0.3331 - accuracy: 0.8621\n",
      "Epoch 73/100\n",
      "250/250 [==============================] - 2s 6ms/step - loss: 0.3329 - accuracy: 0.8648\n",
      "Epoch 74/100\n",
      "250/250 [==============================] - 1s 6ms/step - loss: 0.3328 - accuracy: 0.8648\n",
      "Epoch 75/100\n",
      "250/250 [==============================] - 2s 7ms/step - loss: 0.3331 - accuracy: 0.8649\n",
      "Epoch 76/100\n",
      "250/250 [==============================] - 2s 6ms/step - loss: 0.3326 - accuracy: 0.8646\n",
      "Epoch 77/100\n",
      "250/250 [==============================] - 2s 7ms/step - loss: 0.3325 - accuracy: 0.8646\n",
      "Epoch 78/100\n",
      "250/250 [==============================] - 2s 6ms/step - loss: 0.3326 - accuracy: 0.8636\n",
      "Epoch 79/100\n",
      "250/250 [==============================] - 2s 7ms/step - loss: 0.3327 - accuracy: 0.8650\n",
      "Epoch 80/100\n",
      "250/250 [==============================] - 2s 6ms/step - loss: 0.3324 - accuracy: 0.8645\n",
      "Epoch 81/100\n",
      "250/250 [==============================] - 2s 7ms/step - loss: 0.3326 - accuracy: 0.8636\n",
      "Epoch 82/100\n",
      "250/250 [==============================] - 2s 7ms/step - loss: 0.3320 - accuracy: 0.8658\n",
      "Epoch 83/100\n",
      "250/250 [==============================] - 2s 6ms/step - loss: 0.3325 - accuracy: 0.8639\n",
      "Epoch 84/100\n",
      "250/250 [==============================] - 2s 7ms/step - loss: 0.3318 - accuracy: 0.8651\n",
      "Epoch 85/100\n",
      "250/250 [==============================] - 2s 6ms/step - loss: 0.3317 - accuracy: 0.8656\n",
      "Epoch 86/100\n",
      "250/250 [==============================] - 2s 7ms/step - loss: 0.3325 - accuracy: 0.8652\n",
      "Epoch 87/100\n",
      "250/250 [==============================] - 2s 7ms/step - loss: 0.3321 - accuracy: 0.8644\n",
      "Epoch 88/100\n",
      "250/250 [==============================] - 2s 6ms/step - loss: 0.3321 - accuracy: 0.8634\n",
      "Epoch 89/100\n",
      "250/250 [==============================] - 2s 6ms/step - loss: 0.3317 - accuracy: 0.8646\n",
      "Epoch 90/100\n",
      "250/250 [==============================] - 1s 5ms/step - loss: 0.3315 - accuracy: 0.8658\n",
      "Epoch 91/100\n",
      "250/250 [==============================] - 2s 7ms/step - loss: 0.3318 - accuracy: 0.8654\n",
      "Epoch 92/100\n",
      "250/250 [==============================] - 2s 6ms/step - loss: 0.3316 - accuracy: 0.8654\n",
      "Epoch 93/100\n",
      "250/250 [==============================] - 2s 6ms/step - loss: 0.3314 - accuracy: 0.8659\n",
      "Epoch 94/100\n",
      "250/250 [==============================] - 2s 6ms/step - loss: 0.3313 - accuracy: 0.8666\n",
      "Epoch 95/100\n",
      "250/250 [==============================] - 2s 6ms/step - loss: 0.3315 - accuracy: 0.8650\n",
      "Epoch 96/100\n",
      "250/250 [==============================] - 2s 7ms/step - loss: 0.3308 - accuracy: 0.8650\n",
      "Epoch 97/100\n",
      "250/250 [==============================] - 1s 6ms/step - loss: 0.3312 - accuracy: 0.8650\n",
      "Epoch 98/100\n",
      "250/250 [==============================] - 1s 6ms/step - loss: 0.3311 - accuracy: 0.8676\n",
      "Epoch 99/100\n",
      "250/250 [==============================] - 2s 6ms/step - loss: 0.3314 - accuracy: 0.8651\n",
      "Epoch 100/100\n",
      "250/250 [==============================] - 1s 6ms/step - loss: 0.3310 - accuracy: 0.8646\n"
     ]
    },
    {
     "data": {
      "text/plain": [
       "<keras.src.callbacks.History at 0x19cb35631c0>"
      ]
     },
     "execution_count": 14,
     "metadata": {},
     "output_type": "execute_result"
    }
   ],
   "source": [
    "# melatih model ANN menggunakan data latih X_train dan target latih y_train dengan ukuran batch 32 dan selama 100 epoch\n",
    "ann.fit(X_train, y_train, batch_size = 32, epochs = 100)"
   ]
  },
  {
   "cell_type": "markdown",
   "metadata": {},
   "source": [
    "Modelkan Data Baru dan Buat Prediksi"
   ]
  },
  {
   "cell_type": "code",
   "execution_count": 15,
   "metadata": {},
   "outputs": [
    {
     "name": "stdout",
     "output_type": "stream",
     "text": [
      "1/1 [==============================] - 1s 873ms/step\n",
      "[[False]]\n"
     ]
    }
   ],
   "source": [
    "# \n",
    "print(ann.predict(sc.transform([[1, 0, 0, 600, 1, 40, 3, 60000, 2, 1, 1, 50000]])) > 0.5)"
   ]
  },
  {
   "cell_type": "markdown",
   "metadata": {},
   "source": [
    "Prediksi Dengan Data Testing"
   ]
  },
  {
   "cell_type": "code",
   "execution_count": 16,
   "metadata": {},
   "outputs": [
    {
     "name": "stdout",
     "output_type": "stream",
     "text": [
      "63/63 [==============================] - 1s 10ms/step\n",
      "[[0 0]\n",
      " [0 1]\n",
      " [0 0]\n",
      " ...\n",
      " [0 0]\n",
      " [0 0]\n",
      " [0 0]]\n"
     ]
    }
   ],
   "source": [
    "# Hasil prediksi akan disimpan dalam variabel y_pred \n",
    "y_pred = ann.predict(X_test)\n",
    "# hasil prediksi akan dikonversi menjadi nilai biner (0 atau 1) dengan menggunakan fungsi > 0.5\n",
    "y_pred = (y_pred > 0.5)\n",
    "# mencetak hasil gabungan dari hasil prediksi y_pred dan target uji y_test menjadi satu matriks\n",
    "print(np.concatenate((y_pred.reshape(len(y_pred),1), y_test.reshape(len(y_test),1)),1))"
   ]
  },
  {
   "cell_type": "markdown",
   "metadata": {},
   "source": [
    "Cek Akurasi dan Confusion Matrix"
   ]
  },
  {
   "cell_type": "code",
   "execution_count": 17,
   "metadata": {},
   "outputs": [
    {
     "name": "stdout",
     "output_type": "stream",
     "text": [
      "[[1519   76]\n",
      " [ 195  210]]\n"
     ]
    },
    {
     "data": {
      "text/plain": [
       "0.8645"
      ]
     },
     "execution_count": 17,
     "metadata": {},
     "output_type": "execute_result"
    }
   ],
   "source": [
    "from sklearn.metrics import confusion_matrix, accuracy_score\n",
    "# menghitung confusion amtrix untuk data test dan hasil prediksi\n",
    "cm = confusion_matrix(y_test, y_pred)\n",
    "print(cm)\n",
    "# menghitung akurasi model klasifikasi pada data test dan hasil prediksi\n",
    "accuracy_score(y_test, y_pred)"
   ]
  }
 ],
 "metadata": {
  "kernelspec": {
   "display_name": "base",
   "language": "python",
   "name": "python3"
  },
  "language_info": {
   "codemirror_mode": {
    "name": "ipython",
    "version": 3
   },
   "file_extension": ".py",
   "mimetype": "text/x-python",
   "name": "python",
   "nbconvert_exporter": "python",
   "pygments_lexer": "ipython3",
   "version": "3.8.18"
  }
 },
 "nbformat": 4,
 "nbformat_minor": 2
}
