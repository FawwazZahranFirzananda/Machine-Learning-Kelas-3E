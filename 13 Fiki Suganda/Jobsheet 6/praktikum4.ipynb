{
 "cells": [
  {
   "cell_type": "code",
   "execution_count": 1,
   "id": "initial_id",
   "metadata": {
    "collapsed": true,
    "ExecuteTime": {
     "end_time": "2023-10-03T07:01:21.824724100Z",
     "start_time": "2023-10-03T07:01:18.885357100Z"
    }
   },
   "outputs": [],
   "source": [
    "import numpy as np\n",
    "import pandas as pd\n",
    "from sklearn.naive_bayes import GaussianNB # import Naive Bayes model Gaussian (asumsi data terdistribusi normal)\n",
    "from sklearn.svm import SVC # import SVM classifier\n",
    "from sklearn.ensemble import VotingClassifier # import model Voting\n",
    "from sklearn.model_selection import train_test_split\n",
    "from sklearn.metrics import accuracy_score, classification_report"
   ]
  },
  {
   "cell_type": "code",
   "execution_count": 2,
   "outputs": [
    {
     "data": {
      "text/plain": "   Pregnancies  Glucose  BloodPressure  SkinThickness  Insulin   BMI  \\\n0            6      148             72             35        0  33.6   \n1            1       85             66             29        0  26.6   \n2            8      183             64              0        0  23.3   \n3            1       89             66             23       94  28.1   \n4            0      137             40             35      168  43.1   \n\n   DiabetesPedigreeFunction  Age  Outcome  \n0                     0.627   50        1  \n1                     0.351   31        0  \n2                     0.672   32        1  \n3                     0.167   21        0  \n4                     2.288   33        1  ",
      "text/html": "<div>\n<style scoped>\n    .dataframe tbody tr th:only-of-type {\n        vertical-align: middle;\n    }\n\n    .dataframe tbody tr th {\n        vertical-align: top;\n    }\n\n    .dataframe thead th {\n        text-align: right;\n    }\n</style>\n<table border=\"1\" class=\"dataframe\">\n  <thead>\n    <tr style=\"text-align: right;\">\n      <th></th>\n      <th>Pregnancies</th>\n      <th>Glucose</th>\n      <th>BloodPressure</th>\n      <th>SkinThickness</th>\n      <th>Insulin</th>\n      <th>BMI</th>\n      <th>DiabetesPedigreeFunction</th>\n      <th>Age</th>\n      <th>Outcome</th>\n    </tr>\n  </thead>\n  <tbody>\n    <tr>\n      <th>0</th>\n      <td>6</td>\n      <td>148</td>\n      <td>72</td>\n      <td>35</td>\n      <td>0</td>\n      <td>33.6</td>\n      <td>0.627</td>\n      <td>50</td>\n      <td>1</td>\n    </tr>\n    <tr>\n      <th>1</th>\n      <td>1</td>\n      <td>85</td>\n      <td>66</td>\n      <td>29</td>\n      <td>0</td>\n      <td>26.6</td>\n      <td>0.351</td>\n      <td>31</td>\n      <td>0</td>\n    </tr>\n    <tr>\n      <th>2</th>\n      <td>8</td>\n      <td>183</td>\n      <td>64</td>\n      <td>0</td>\n      <td>0</td>\n      <td>23.3</td>\n      <td>0.672</td>\n      <td>32</td>\n      <td>1</td>\n    </tr>\n    <tr>\n      <th>3</th>\n      <td>1</td>\n      <td>89</td>\n      <td>66</td>\n      <td>23</td>\n      <td>94</td>\n      <td>28.1</td>\n      <td>0.167</td>\n      <td>21</td>\n      <td>0</td>\n    </tr>\n    <tr>\n      <th>4</th>\n      <td>0</td>\n      <td>137</td>\n      <td>40</td>\n      <td>35</td>\n      <td>168</td>\n      <td>43.1</td>\n      <td>2.288</td>\n      <td>33</td>\n      <td>1</td>\n    </tr>\n  </tbody>\n</table>\n</div>"
     },
     "execution_count": 2,
     "metadata": {},
     "output_type": "execute_result"
    }
   ],
   "source": [
    "# Load Data\n",
    "\n",
    "dbt = pd.read_csv('data/diabetes.csv')\n",
    "\n",
    "dbt.head()"
   ],
   "metadata": {
    "collapsed": false,
    "ExecuteTime": {
     "end_time": "2023-10-03T07:01:21.880443700Z",
     "start_time": "2023-10-03T07:01:21.830691400Z"
    }
   },
   "id": "84ea3485faf4dfe6"
  },
  {
   "cell_type": "code",
   "execution_count": 3,
   "outputs": [
    {
     "data": {
      "text/plain": "Index(['Pregnancies', 'Glucose', 'BloodPressure', 'SkinThickness', 'Insulin',\n       'BMI', 'DiabetesPedigreeFunction', 'Age', 'Outcome'],\n      dtype='object')"
     },
     "execution_count": 3,
     "metadata": {},
     "output_type": "execute_result"
    }
   ],
   "source": [
    "# Cek nama kolom\n",
    "dbt.columns"
   ],
   "metadata": {
    "collapsed": false,
    "ExecuteTime": {
     "end_time": "2023-10-03T07:01:32.337804500Z",
     "start_time": "2023-10-03T07:01:32.303758800Z"
    }
   },
   "id": "ef41eb9467822eb8"
  },
  {
   "cell_type": "code",
   "execution_count": 4,
   "outputs": [
    {
     "data": {
      "text/plain": "Pregnancies                 0\nGlucose                     0\nBloodPressure               0\nSkinThickness               0\nInsulin                     0\nBMI                         0\nDiabetesPedigreeFunction    0\nAge                         0\nOutcome                     0\ndtype: int64"
     },
     "execution_count": 4,
     "metadata": {},
     "output_type": "execute_result"
    }
   ],
   "source": [
    "# Cek kolom null\n",
    "dbt.isnull().sum()"
   ],
   "metadata": {
    "collapsed": false,
    "ExecuteTime": {
     "end_time": "2023-10-03T07:01:38.308722900Z",
     "start_time": "2023-10-03T07:01:38.289893400Z"
    }
   },
   "id": "36f3f61734d6bc33"
  },
  {
   "cell_type": "code",
   "execution_count": 5,
   "outputs": [
    {
     "name": "stdout",
     "output_type": "stream",
     "text": [
      "============================================\n",
      "Pregnancies ==> Missing zeros : 111\n",
      "============================================\n",
      "Glucose ==> Missing zeros : 5\n",
      "============================================\n",
      "BloodPressure ==> Missing zeros : 35\n",
      "============================================\n",
      "SkinThickness ==> Missing zeros : 227\n",
      "============================================\n",
      "Insulin ==> Missing zeros : 374\n",
      "============================================\n",
      "BMI ==> Missing zeros : 11\n",
      "============================================\n",
      "DiabetesPedigreeFunction ==> Missing zeros : 0\n",
      "============================================\n",
      "Age ==> Missing zeros : 0\n"
     ]
    }
   ],
   "source": [
    "# Pada kasus ini, agak tidak masuk akal jika beberapa parameter bernilai 0\n",
    "# sebagai contoh adalah nilai 'Glucose', 'BloodPlessure' ataupun 'Insulin'.\n",
    "# Sekecil apapun nilainya, setiap manusia yang hidup pasti miliki nilai-nilai tersebut\n",
    "\n",
    "# Kita akan manipulasi nilai yang 0 dengan melakukan 'imputasi' atau mengganti nilainya dengan nilai sintetis\n",
    "# Pada kasus ini, kita akan menggunakan nilai mean\n",
    "\n",
    "# Cek kolom neng nilai 0\n",
    "feature_columns = ['Pregnancies', 'Glucose', 'BloodPressure', 'SkinThickness', 'Insulin', 'BMI', 'DiabetesPedigreeFunction', 'Age']\n",
    "for column in feature_columns:\n",
    "    print(\"============================================\")\n",
    "    print(f\"{column} ==> Missing zeros : {len(dbt.loc[dbt[column] == 0])}\")"
   ],
   "metadata": {
    "collapsed": false,
    "ExecuteTime": {
     "end_time": "2023-10-03T07:01:49.941019100Z",
     "start_time": "2023-10-03T07:01:49.896332900Z"
    }
   },
   "id": "622ab12b8844853c"
  },
  {
   "cell_type": "code",
   "execution_count": 6,
   "outputs": [],
   "source": [
    "# Impute nilai 0 dengan mean\n",
    "from sklearn.impute import SimpleImputer\n",
    "\n",
    "fill_values = SimpleImputer(missing_values=0, strategy=\"mean\", copy=False)\n",
    "\n",
    "dbt[feature_columns] = fill_values.fit_transform(dbt[feature_columns])"
   ],
   "metadata": {
    "collapsed": false,
    "ExecuteTime": {
     "end_time": "2023-10-03T07:02:10.920173300Z",
     "start_time": "2023-10-03T07:02:10.872391Z"
    }
   },
   "id": "193e5c0124c4b335"
  },
  {
   "cell_type": "code",
   "execution_count": 7,
   "outputs": [],
   "source": [
    "X = dbt[feature_columns]\n",
    "y = dbt.Outcome\n",
    "\n",
    "X_train, X_test, y_train, y_test = train_test_split(X, y, test_size=0.3, random_state=42)"
   ],
   "metadata": {
    "collapsed": false,
    "ExecuteTime": {
     "end_time": "2023-10-03T07:02:15.679800100Z",
     "start_time": "2023-10-03T07:02:15.640943700Z"
    }
   },
   "id": "5363e07c6fafa202"
  },
  {
   "cell_type": "code",
   "execution_count": 8,
   "outputs": [],
   "source": [
    "# Karena asumsi Gaussian NB adalah data terdistribusi secara normal,\n",
    "# maka kita perlu melakukan standarisasi\n",
    "\n",
    "from sklearn.preprocessing import StandardScaler\n",
    "\n",
    "sc = StandardScaler()\n",
    "\n",
    "# Standarisasi pada fitur di X_train dan X_test\n",
    "X_train_std = sc.fit_transform(X_train)\n",
    "X_test_std = sc.transform(X_test)"
   ],
   "metadata": {
    "collapsed": false,
    "ExecuteTime": {
     "end_time": "2023-10-03T07:02:19.853639800Z",
     "start_time": "2023-10-03T07:02:19.824298700Z"
    }
   },
   "id": "43493f2118cf083c"
  },
  {
   "cell_type": "code",
   "execution_count": 9,
   "outputs": [
    {
     "name": "stdout",
     "output_type": "stream",
     "text": [
      "Test set accuracy: 0.74\n",
      "Test set accuracy: 0.7359307359307359\n"
     ]
    }
   ],
   "source": [
    "# Buat obyek GaussianNB\n",
    "gnb_std = GaussianNB()\n",
    "\n",
    "# Fit dengan data yang telah di standarisasi\n",
    "gnb_std.fit(X_train_std, y_train)\n",
    "\n",
    "# Prediksi dengan data test\n",
    "y_pred_gnb = gnb_std.predict(X_test_std)\n",
    "\n",
    "# Evaluasi akurasi testing data\n",
    "acc_gnb = accuracy_score(y_test, y_pred_gnb)\n",
    "\n",
    "# Print hasil evaluasi\n",
    "print(\"Test set accuracy: {:.2f}\".format(acc_gnb))\n",
    "print(f\"Test set accuracy: {acc_gnb}\")"
   ],
   "metadata": {
    "collapsed": false,
    "ExecuteTime": {
     "end_time": "2023-10-03T07:02:30.332244700Z",
     "start_time": "2023-10-03T07:02:30.267952800Z"
    }
   },
   "id": "4e604d84bc6965b8"
  },
  {
   "cell_type": "code",
   "execution_count": 10,
   "outputs": [
    {
     "name": "stdout",
     "output_type": "stream",
     "text": [
      "Test set accuracy: 0.74\n",
      "Test set accuracy: 0.7402597402597403\n"
     ]
    }
   ],
   "source": [
    "# Model SVM linier tanpa tunnning hyperparameter\n",
    "svm_lin = SVC(kernel='linear')\n",
    "\n",
    "# Fit ke model\n",
    "svm_lin.fit(X_train_std, y_train)\n",
    "\n",
    "# Prediksi\n",
    "y_pred_svm_lin = svm_lin.predict(X_test_std)\n",
    "\n",
    "# Evaluasi akurasi testing data\n",
    "acc_svm_lin = accuracy_score(y_test, y_pred_svm_lin)\n",
    "\n",
    "# Print hasil evaluasi\n",
    "print(\"Test set accuracy: {:.2f}\".format(acc_svm_lin))\n",
    "print(f\"Test set accuracy: {acc_svm_lin}\")"
   ],
   "metadata": {
    "collapsed": false,
    "ExecuteTime": {
     "end_time": "2023-10-03T07:02:36.751373600Z",
     "start_time": "2023-10-03T07:02:36.694348200Z"
    }
   },
   "id": "6d9e19accc51d5f9"
  },
  {
   "cell_type": "code",
   "execution_count": 11,
   "outputs": [
    {
     "name": "stdout",
     "output_type": "stream",
     "text": [
      "Test set accuracy: 0.72\n",
      "Test set accuracy: 0.7229437229437229\n"
     ]
    }
   ],
   "source": [
    "# Model SVM RBF tanpa tunnning hyperparameter\n",
    "svm_rbf = SVC(kernel='rbf')\n",
    "\n",
    "# Fit ke model\n",
    "svm_rbf.fit(X_train_std, y_train)\n",
    "\n",
    "# Prediksi\n",
    "y_pred_svm_rbf = svm_rbf.predict(X_test_std)\n",
    "\n",
    "# Evaluasi akurasi testing data\n",
    "acc_svm_rbf = accuracy_score(y_test, y_pred_svm_rbf)\n",
    "\n",
    "# Print hasil evaluasi\n",
    "print(\"Test set accuracy: {:.2f}\".format(acc_svm_rbf))\n",
    "print(f\"Test set accuracy: {acc_svm_rbf}\")"
   ],
   "metadata": {
    "collapsed": false,
    "ExecuteTime": {
     "end_time": "2023-10-03T07:02:43.657153200Z",
     "start_time": "2023-10-03T07:02:43.594110300Z"
    }
   },
   "id": "410e8f2c08b99095"
  },
  {
   "cell_type": "code",
   "execution_count": 12,
   "outputs": [
    {
     "name": "stdout",
     "output_type": "stream",
     "text": [
      "Voting Hard\n",
      "Test set accuracy: 0.74\n",
      "Test set accuracy: 0.7402597402597403\n"
     ]
    }
   ],
   "source": [
    "# Definisikan algoritma yang akan digunakan untuk voting\n",
    "\n",
    "clf1 = GaussianNB()\n",
    "clf2 = SVC(kernel='linear')\n",
    "clf3 = SVC(kernel='rbf', probability=True)\n",
    "\n",
    "# model hard voting\n",
    "voting = VotingClassifier(estimators=[('GaussianNB', clf1), ('SVM-LIN', clf2), ('SVM-RBF', clf3)], voting='hard')\n",
    "\n",
    "# Fit model\n",
    "voting.fit(X_train_std, y_train)\n",
    "\n",
    "# Prediksi\n",
    "y_pred_vt1 = voting.predict(X_test_std)\n",
    "\n",
    "# Evaluasi akurasi testing data\n",
    "acc_vt1 = accuracy_score(y_test, y_pred_vt1)\n",
    "\n",
    "# Print hasil evaluasi\n",
    "print('Voting Hard')\n",
    "print(\"Test set accuracy: {:.2f}\".format(acc_vt1))\n",
    "print(f\"Test set accuracy: {acc_vt1}\")"
   ],
   "metadata": {
    "collapsed": false,
    "ExecuteTime": {
     "end_time": "2023-10-03T07:02:48.449494200Z",
     "start_time": "2023-10-03T07:02:48.314369800Z"
    }
   },
   "id": "e2c0b347a8aa5069"
  },
  {
   "cell_type": "code",
   "execution_count": null,
   "outputs": [],
   "source": [],
   "metadata": {
    "collapsed": false
   },
   "id": "e7e80323fa0681e8"
  }
 ],
 "metadata": {
  "kernelspec": {
   "display_name": "Python 3",
   "language": "python",
   "name": "python3"
  },
  "language_info": {
   "codemirror_mode": {
    "name": "ipython",
    "version": 2
   },
   "file_extension": ".py",
   "mimetype": "text/x-python",
   "name": "python",
   "nbconvert_exporter": "python",
   "pygments_lexer": "ipython2",
   "version": "2.7.6"
  }
 },
 "nbformat": 4,
 "nbformat_minor": 5
}
