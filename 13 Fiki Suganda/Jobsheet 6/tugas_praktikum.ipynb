{
 "cells": [
  {
   "cell_type": "markdown",
   "source": [
    "# Tugas 1\n",
    "Terdapat dataset mushroom. Berdasarkan dataset yang tersebut, bandingkan peforma antara algoritma Decision Tree dan RandomForest. Gunakan tunning hyperparameter untuk mendapatkan parameter dan akurasi yang terbaik."
   ],
   "metadata": {
    "collapsed": false
   },
   "id": "cf1e2c8bbc2d09f0"
  },
  {
   "cell_type": "code",
   "execution_count": 1,
   "outputs": [],
   "source": [
    "import pandas as pd\n",
    "import numpy as np\n",
    "import matplotlib.pyplot as plt\n",
    "import seaborn as sns\n",
    "from sklearn.preprocessing import LabelEncoder\n",
    "from sklearn.tree import DecisionTreeClassifier\n",
    "from sklearn.ensemble import RandomForestClassifier\n",
    "from sklearn.model_selection import train_test_split, GridSearchCV\n",
    "from sklearn.metrics import accuracy_score, confusion_matrix, classification_report\n"
   ],
   "metadata": {
    "collapsed": false,
    "ExecuteTime": {
     "end_time": "2023-10-13T02:19:31.282770900Z",
     "start_time": "2023-10-13T02:19:28.953513500Z"
    }
   },
   "id": "b2eb5821a147f010"
  },
  {
   "cell_type": "code",
   "execution_count": 7,
   "outputs": [
    {
     "name": "stdout",
     "output_type": "stream",
     "text": [
      "<class 'pandas.core.frame.DataFrame'>\n",
      "RangeIndex: 8124 entries, 0 to 8123\n",
      "Data columns (total 23 columns):\n",
      " #   Column                    Non-Null Count  Dtype \n",
      "---  ------                    --------------  ----- \n",
      " 0   class                     8124 non-null   object\n",
      " 1   cap-shape                 8124 non-null   object\n",
      " 2   cap-surface               8124 non-null   object\n",
      " 3   cap-color                 8124 non-null   object\n",
      " 4   bruises                   8124 non-null   object\n",
      " 5   odor                      8124 non-null   object\n",
      " 6   gill-attachment           8124 non-null   object\n",
      " 7   gill-spacing              8124 non-null   object\n",
      " 8   gill-size                 8124 non-null   object\n",
      " 9   gill-color                8124 non-null   object\n",
      " 10  stalk-shape               8124 non-null   object\n",
      " 11  stalk-root                8124 non-null   object\n",
      " 12  stalk-surface-above-ring  8124 non-null   object\n",
      " 13  stalk-surface-below-ring  8124 non-null   object\n",
      " 14  stalk-color-above-ring    8124 non-null   object\n",
      " 15  stalk-color-below-ring    8124 non-null   object\n",
      " 16  veil-type                 8124 non-null   object\n",
      " 17  veil-color                8124 non-null   object\n",
      " 18  ring-number               8124 non-null   object\n",
      " 19  ring-type                 8124 non-null   object\n",
      " 20  spore-print-color         8124 non-null   object\n",
      " 21  population                8124 non-null   object\n",
      " 22  habitat                   8124 non-null   object\n",
      "dtypes: object(23)\n",
      "memory usage: 1.4+ MB\n"
     ]
    },
    {
     "data": {
      "text/plain": "  class cap-shape cap-surface cap-color bruises odor gill-attachment  \\\n0     p         x           s         n       t    p               f   \n1     e         x           s         y       t    a               f   \n2     e         b           s         w       t    l               f   \n3     p         x           y         w       t    p               f   \n4     e         x           s         g       f    n               f   \n\n  gill-spacing gill-size gill-color  ... stalk-surface-below-ring  \\\n0            c         n          k  ...                        s   \n1            c         b          k  ...                        s   \n2            c         b          n  ...                        s   \n3            c         n          n  ...                        s   \n4            w         b          k  ...                        s   \n\n  stalk-color-above-ring stalk-color-below-ring veil-type veil-color  \\\n0                      w                      w         p          w   \n1                      w                      w         p          w   \n2                      w                      w         p          w   \n3                      w                      w         p          w   \n4                      w                      w         p          w   \n\n  ring-number ring-type spore-print-color population habitat  \n0           o         p                 k          s       u  \n1           o         p                 n          n       g  \n2           o         p                 n          n       m  \n3           o         p                 k          s       u  \n4           o         e                 n          a       g  \n\n[5 rows x 23 columns]",
      "text/html": "<div>\n<style scoped>\n    .dataframe tbody tr th:only-of-type {\n        vertical-align: middle;\n    }\n\n    .dataframe tbody tr th {\n        vertical-align: top;\n    }\n\n    .dataframe thead th {\n        text-align: right;\n    }\n</style>\n<table border=\"1\" class=\"dataframe\">\n  <thead>\n    <tr style=\"text-align: right;\">\n      <th></th>\n      <th>class</th>\n      <th>cap-shape</th>\n      <th>cap-surface</th>\n      <th>cap-color</th>\n      <th>bruises</th>\n      <th>odor</th>\n      <th>gill-attachment</th>\n      <th>gill-spacing</th>\n      <th>gill-size</th>\n      <th>gill-color</th>\n      <th>...</th>\n      <th>stalk-surface-below-ring</th>\n      <th>stalk-color-above-ring</th>\n      <th>stalk-color-below-ring</th>\n      <th>veil-type</th>\n      <th>veil-color</th>\n      <th>ring-number</th>\n      <th>ring-type</th>\n      <th>spore-print-color</th>\n      <th>population</th>\n      <th>habitat</th>\n    </tr>\n  </thead>\n  <tbody>\n    <tr>\n      <th>0</th>\n      <td>p</td>\n      <td>x</td>\n      <td>s</td>\n      <td>n</td>\n      <td>t</td>\n      <td>p</td>\n      <td>f</td>\n      <td>c</td>\n      <td>n</td>\n      <td>k</td>\n      <td>...</td>\n      <td>s</td>\n      <td>w</td>\n      <td>w</td>\n      <td>p</td>\n      <td>w</td>\n      <td>o</td>\n      <td>p</td>\n      <td>k</td>\n      <td>s</td>\n      <td>u</td>\n    </tr>\n    <tr>\n      <th>1</th>\n      <td>e</td>\n      <td>x</td>\n      <td>s</td>\n      <td>y</td>\n      <td>t</td>\n      <td>a</td>\n      <td>f</td>\n      <td>c</td>\n      <td>b</td>\n      <td>k</td>\n      <td>...</td>\n      <td>s</td>\n      <td>w</td>\n      <td>w</td>\n      <td>p</td>\n      <td>w</td>\n      <td>o</td>\n      <td>p</td>\n      <td>n</td>\n      <td>n</td>\n      <td>g</td>\n    </tr>\n    <tr>\n      <th>2</th>\n      <td>e</td>\n      <td>b</td>\n      <td>s</td>\n      <td>w</td>\n      <td>t</td>\n      <td>l</td>\n      <td>f</td>\n      <td>c</td>\n      <td>b</td>\n      <td>n</td>\n      <td>...</td>\n      <td>s</td>\n      <td>w</td>\n      <td>w</td>\n      <td>p</td>\n      <td>w</td>\n      <td>o</td>\n      <td>p</td>\n      <td>n</td>\n      <td>n</td>\n      <td>m</td>\n    </tr>\n    <tr>\n      <th>3</th>\n      <td>p</td>\n      <td>x</td>\n      <td>y</td>\n      <td>w</td>\n      <td>t</td>\n      <td>p</td>\n      <td>f</td>\n      <td>c</td>\n      <td>n</td>\n      <td>n</td>\n      <td>...</td>\n      <td>s</td>\n      <td>w</td>\n      <td>w</td>\n      <td>p</td>\n      <td>w</td>\n      <td>o</td>\n      <td>p</td>\n      <td>k</td>\n      <td>s</td>\n      <td>u</td>\n    </tr>\n    <tr>\n      <th>4</th>\n      <td>e</td>\n      <td>x</td>\n      <td>s</td>\n      <td>g</td>\n      <td>f</td>\n      <td>n</td>\n      <td>f</td>\n      <td>w</td>\n      <td>b</td>\n      <td>k</td>\n      <td>...</td>\n      <td>s</td>\n      <td>w</td>\n      <td>w</td>\n      <td>p</td>\n      <td>w</td>\n      <td>o</td>\n      <td>e</td>\n      <td>n</td>\n      <td>a</td>\n      <td>g</td>\n    </tr>\n  </tbody>\n</table>\n<p>5 rows × 23 columns</p>\n</div>"
     },
     "execution_count": 7,
     "metadata": {},
     "output_type": "execute_result"
    }
   ],
   "source": [
    "# load data\n",
    "df = pd.read_csv('data/mushrooms.csv')\n",
    "df.info()\n",
    "df.head()"
   ],
   "metadata": {
    "collapsed": false,
    "ExecuteTime": {
     "end_time": "2023-10-13T02:22:15.886804400Z",
     "start_time": "2023-10-13T02:22:15.787365300Z"
    }
   },
   "id": "22d4085d300e83ca"
  },
  {
   "cell_type": "code",
   "execution_count": 12,
   "outputs": [
    {
     "name": "stdout",
     "output_type": "stream",
     "text": [
      "<class 'pandas.core.frame.DataFrame'>\n",
      "RangeIndex: 8124 entries, 0 to 8123\n",
      "Data columns (total 23 columns):\n",
      " #   Column                    Non-Null Count  Dtype\n",
      "---  ------                    --------------  -----\n",
      " 0   class                     8124 non-null   int32\n",
      " 1   cap-shape                 8124 non-null   int32\n",
      " 2   cap-surface               8124 non-null   int32\n",
      " 3   cap-color                 8124 non-null   int32\n",
      " 4   bruises                   8124 non-null   int32\n",
      " 5   odor                      8124 non-null   int32\n",
      " 6   gill-attachment           8124 non-null   int32\n",
      " 7   gill-spacing              8124 non-null   int32\n",
      " 8   gill-size                 8124 non-null   int32\n",
      " 9   gill-color                8124 non-null   int32\n",
      " 10  stalk-shape               8124 non-null   int32\n",
      " 11  stalk-root                8124 non-null   int32\n",
      " 12  stalk-surface-above-ring  8124 non-null   int32\n",
      " 13  stalk-surface-below-ring  8124 non-null   int32\n",
      " 14  stalk-color-above-ring    8124 non-null   int32\n",
      " 15  stalk-color-below-ring    8124 non-null   int32\n",
      " 16  veil-type                 8124 non-null   int32\n",
      " 17  veil-color                8124 non-null   int32\n",
      " 18  ring-number               8124 non-null   int32\n",
      " 19  ring-type                 8124 non-null   int32\n",
      " 20  spore-print-color         8124 non-null   int32\n",
      " 21  population                8124 non-null   int32\n",
      " 22  habitat                   8124 non-null   int32\n",
      "dtypes: int32(23)\n",
      "memory usage: 730.0 KB\n"
     ]
    },
    {
     "data": {
      "text/plain": "   class  cap-shape  cap-surface  cap-color  bruises  odor  gill-attachment  \\\n0      1          5            2          4        1     6                1   \n1      0          5            2          9        1     0                1   \n2      0          0            2          8        1     3                1   \n3      1          5            3          8        1     6                1   \n4      0          5            2          3        0     5                1   \n\n   gill-spacing  gill-size  gill-color  ...  stalk-surface-below-ring  \\\n0             0          1           4  ...                         2   \n1             0          0           4  ...                         2   \n2             0          0           5  ...                         2   \n3             0          1           5  ...                         2   \n4             1          0           4  ...                         2   \n\n   stalk-color-above-ring  stalk-color-below-ring  veil-type  veil-color  \\\n0                       7                       7          0           2   \n1                       7                       7          0           2   \n2                       7                       7          0           2   \n3                       7                       7          0           2   \n4                       7                       7          0           2   \n\n   ring-number  ring-type  spore-print-color  population  habitat  \n0            1          4                  2           3        5  \n1            1          4                  3           2        1  \n2            1          4                  3           2        3  \n3            1          4                  2           3        5  \n4            1          0                  3           0        1  \n\n[5 rows x 23 columns]",
      "text/html": "<div>\n<style scoped>\n    .dataframe tbody tr th:only-of-type {\n        vertical-align: middle;\n    }\n\n    .dataframe tbody tr th {\n        vertical-align: top;\n    }\n\n    .dataframe thead th {\n        text-align: right;\n    }\n</style>\n<table border=\"1\" class=\"dataframe\">\n  <thead>\n    <tr style=\"text-align: right;\">\n      <th></th>\n      <th>class</th>\n      <th>cap-shape</th>\n      <th>cap-surface</th>\n      <th>cap-color</th>\n      <th>bruises</th>\n      <th>odor</th>\n      <th>gill-attachment</th>\n      <th>gill-spacing</th>\n      <th>gill-size</th>\n      <th>gill-color</th>\n      <th>...</th>\n      <th>stalk-surface-below-ring</th>\n      <th>stalk-color-above-ring</th>\n      <th>stalk-color-below-ring</th>\n      <th>veil-type</th>\n      <th>veil-color</th>\n      <th>ring-number</th>\n      <th>ring-type</th>\n      <th>spore-print-color</th>\n      <th>population</th>\n      <th>habitat</th>\n    </tr>\n  </thead>\n  <tbody>\n    <tr>\n      <th>0</th>\n      <td>1</td>\n      <td>5</td>\n      <td>2</td>\n      <td>4</td>\n      <td>1</td>\n      <td>6</td>\n      <td>1</td>\n      <td>0</td>\n      <td>1</td>\n      <td>4</td>\n      <td>...</td>\n      <td>2</td>\n      <td>7</td>\n      <td>7</td>\n      <td>0</td>\n      <td>2</td>\n      <td>1</td>\n      <td>4</td>\n      <td>2</td>\n      <td>3</td>\n      <td>5</td>\n    </tr>\n    <tr>\n      <th>1</th>\n      <td>0</td>\n      <td>5</td>\n      <td>2</td>\n      <td>9</td>\n      <td>1</td>\n      <td>0</td>\n      <td>1</td>\n      <td>0</td>\n      <td>0</td>\n      <td>4</td>\n      <td>...</td>\n      <td>2</td>\n      <td>7</td>\n      <td>7</td>\n      <td>0</td>\n      <td>2</td>\n      <td>1</td>\n      <td>4</td>\n      <td>3</td>\n      <td>2</td>\n      <td>1</td>\n    </tr>\n    <tr>\n      <th>2</th>\n      <td>0</td>\n      <td>0</td>\n      <td>2</td>\n      <td>8</td>\n      <td>1</td>\n      <td>3</td>\n      <td>1</td>\n      <td>0</td>\n      <td>0</td>\n      <td>5</td>\n      <td>...</td>\n      <td>2</td>\n      <td>7</td>\n      <td>7</td>\n      <td>0</td>\n      <td>2</td>\n      <td>1</td>\n      <td>4</td>\n      <td>3</td>\n      <td>2</td>\n      <td>3</td>\n    </tr>\n    <tr>\n      <th>3</th>\n      <td>1</td>\n      <td>5</td>\n      <td>3</td>\n      <td>8</td>\n      <td>1</td>\n      <td>6</td>\n      <td>1</td>\n      <td>0</td>\n      <td>1</td>\n      <td>5</td>\n      <td>...</td>\n      <td>2</td>\n      <td>7</td>\n      <td>7</td>\n      <td>0</td>\n      <td>2</td>\n      <td>1</td>\n      <td>4</td>\n      <td>2</td>\n      <td>3</td>\n      <td>5</td>\n    </tr>\n    <tr>\n      <th>4</th>\n      <td>0</td>\n      <td>5</td>\n      <td>2</td>\n      <td>3</td>\n      <td>0</td>\n      <td>5</td>\n      <td>1</td>\n      <td>1</td>\n      <td>0</td>\n      <td>4</td>\n      <td>...</td>\n      <td>2</td>\n      <td>7</td>\n      <td>7</td>\n      <td>0</td>\n      <td>2</td>\n      <td>1</td>\n      <td>0</td>\n      <td>3</td>\n      <td>0</td>\n      <td>1</td>\n    </tr>\n  </tbody>\n</table>\n<p>5 rows × 23 columns</p>\n</div>"
     },
     "execution_count": 12,
     "metadata": {},
     "output_type": "execute_result"
    }
   ],
   "source": [
    "# encode data object to int\n",
    "le = LabelEncoder()\n",
    "for col in df.columns:\n",
    "    df[col] = le.fit_transform(df[col])\n",
    "df.info()\n",
    "df.head()"
   ],
   "metadata": {
    "collapsed": false,
    "ExecuteTime": {
     "end_time": "2023-10-13T02:30:01.560484800Z",
     "start_time": "2023-10-13T02:30:01.420615700Z"
    }
   },
   "id": "70d361a72b398934"
  },
  {
   "cell_type": "code",
   "execution_count": 13,
   "outputs": [],
   "source": [
    "# melakukan seleksi fitur\n",
    "X = df.drop('class', axis=1)\n",
    "y = df['class']"
   ],
   "metadata": {
    "collapsed": false,
    "ExecuteTime": {
     "end_time": "2023-10-13T02:30:04.060361200Z",
     "start_time": "2023-10-13T02:30:04.052276300Z"
    }
   },
   "id": "6b4e9ddcef34e1bf"
  },
  {
   "cell_type": "code",
   "execution_count": 14,
   "outputs": [],
   "source": [
    "# split data\n",
    "X_train, X_test, y_train, y_test = train_test_split(X, y, test_size=0.2, random_state=42)"
   ],
   "metadata": {
    "collapsed": false,
    "ExecuteTime": {
     "end_time": "2023-10-13T02:30:05.928784400Z",
     "start_time": "2023-10-13T02:30:05.906408900Z"
    }
   },
   "id": "d5deeb06d0bc241a"
  },
  {
   "cell_type": "code",
   "execution_count": 18,
   "outputs": [
    {
     "name": "stdout",
     "output_type": "stream",
     "text": [
      "Accuracy Decision Tree: 100.0%\n"
     ]
    }
   ],
   "source": [
    "# training model dengan decision tree\n",
    "dt = DecisionTreeClassifier()\n",
    "gs = GridSearchCV(dt, param_grid={'max_depth': np.arange(1, 10)}, cv=5)\n",
    "gs.fit(X_train, y_train)\n",
    "acc_dt = accuracy_score(y_test, gs.predict(X_test))\n",
    "print(f'Accuracy Decision Tree: {round(acc_dt*100, 2)}%')"
   ],
   "metadata": {
    "collapsed": false,
    "ExecuteTime": {
     "end_time": "2023-10-13T02:31:25.840337200Z",
     "start_time": "2023-10-13T02:31:24.987809100Z"
    }
   },
   "id": "a3ed318fcdc1324b"
  },
  {
   "cell_type": "code",
   "execution_count": 19,
   "outputs": [
    {
     "name": "stdout",
     "output_type": "stream",
     "text": [
      "Accuracy Random Forest: 100.0%\n"
     ]
    }
   ],
   "source": [
    "# training model dengan random forest\n",
    "rf = RandomForestClassifier()\n",
    "gs = GridSearchCV(rf, param_grid={'max_depth': np.arange(1, 10)}, cv=5)\n",
    "gs.fit(X_train, y_train)\n",
    "acc_rf = accuracy_score(y_test, gs.predict(X_test))\n",
    "print(f'Accuracy Random Forest: {round(acc_rf*100, 2)}%')"
   ],
   "metadata": {
    "collapsed": false,
    "ExecuteTime": {
     "end_time": "2023-10-13T02:32:43.507210500Z",
     "start_time": "2023-10-13T02:32:25.926188100Z"
    }
   },
   "id": "6701239805bda23d"
  },
  {
   "cell_type": "markdown",
   "source": [
    "# Tugas 2\n",
    "Terdapat dataset mushroom. Berdasarkan dataset tersebut, bandingkan peforma antara algoritma Decision Tree dan AdaBoost. Gunakan tunning hyperparameter untuk mendapatkan parameter dan akurasi yang terbaik."
   ],
   "metadata": {
    "collapsed": false
   },
   "id": "48d69fe00b880064"
  },
  {
   "cell_type": "code",
   "execution_count": 21,
   "outputs": [
    {
     "name": "stdout",
     "output_type": "stream",
     "text": [
      "<class 'pandas.core.frame.DataFrame'>\n",
      "RangeIndex: 8124 entries, 0 to 8123\n",
      "Data columns (total 23 columns):\n",
      " #   Column                    Non-Null Count  Dtype \n",
      "---  ------                    --------------  ----- \n",
      " 0   class                     8124 non-null   object\n",
      " 1   cap-shape                 8124 non-null   object\n",
      " 2   cap-surface               8124 non-null   object\n",
      " 3   cap-color                 8124 non-null   object\n",
      " 4   bruises                   8124 non-null   object\n",
      " 5   odor                      8124 non-null   object\n",
      " 6   gill-attachment           8124 non-null   object\n",
      " 7   gill-spacing              8124 non-null   object\n",
      " 8   gill-size                 8124 non-null   object\n",
      " 9   gill-color                8124 non-null   object\n",
      " 10  stalk-shape               8124 non-null   object\n",
      " 11  stalk-root                8124 non-null   object\n",
      " 12  stalk-surface-above-ring  8124 non-null   object\n",
      " 13  stalk-surface-below-ring  8124 non-null   object\n",
      " 14  stalk-color-above-ring    8124 non-null   object\n",
      " 15  stalk-color-below-ring    8124 non-null   object\n",
      " 16  veil-type                 8124 non-null   object\n",
      " 17  veil-color                8124 non-null   object\n",
      " 18  ring-number               8124 non-null   object\n",
      " 19  ring-type                 8124 non-null   object\n",
      " 20  spore-print-color         8124 non-null   object\n",
      " 21  population                8124 non-null   object\n",
      " 22  habitat                   8124 non-null   object\n",
      "dtypes: object(23)\n",
      "memory usage: 1.4+ MB\n"
     ]
    },
    {
     "data": {
      "text/plain": "  class cap-shape cap-surface cap-color bruises odor gill-attachment  \\\n0     p         x           s         n       t    p               f   \n1     e         x           s         y       t    a               f   \n2     e         b           s         w       t    l               f   \n3     p         x           y         w       t    p               f   \n4     e         x           s         g       f    n               f   \n\n  gill-spacing gill-size gill-color  ... stalk-surface-below-ring  \\\n0            c         n          k  ...                        s   \n1            c         b          k  ...                        s   \n2            c         b          n  ...                        s   \n3            c         n          n  ...                        s   \n4            w         b          k  ...                        s   \n\n  stalk-color-above-ring stalk-color-below-ring veil-type veil-color  \\\n0                      w                      w         p          w   \n1                      w                      w         p          w   \n2                      w                      w         p          w   \n3                      w                      w         p          w   \n4                      w                      w         p          w   \n\n  ring-number ring-type spore-print-color population habitat  \n0           o         p                 k          s       u  \n1           o         p                 n          n       g  \n2           o         p                 n          n       m  \n3           o         p                 k          s       u  \n4           o         e                 n          a       g  \n\n[5 rows x 23 columns]",
      "text/html": "<div>\n<style scoped>\n    .dataframe tbody tr th:only-of-type {\n        vertical-align: middle;\n    }\n\n    .dataframe tbody tr th {\n        vertical-align: top;\n    }\n\n    .dataframe thead th {\n        text-align: right;\n    }\n</style>\n<table border=\"1\" class=\"dataframe\">\n  <thead>\n    <tr style=\"text-align: right;\">\n      <th></th>\n      <th>class</th>\n      <th>cap-shape</th>\n      <th>cap-surface</th>\n      <th>cap-color</th>\n      <th>bruises</th>\n      <th>odor</th>\n      <th>gill-attachment</th>\n      <th>gill-spacing</th>\n      <th>gill-size</th>\n      <th>gill-color</th>\n      <th>...</th>\n      <th>stalk-surface-below-ring</th>\n      <th>stalk-color-above-ring</th>\n      <th>stalk-color-below-ring</th>\n      <th>veil-type</th>\n      <th>veil-color</th>\n      <th>ring-number</th>\n      <th>ring-type</th>\n      <th>spore-print-color</th>\n      <th>population</th>\n      <th>habitat</th>\n    </tr>\n  </thead>\n  <tbody>\n    <tr>\n      <th>0</th>\n      <td>p</td>\n      <td>x</td>\n      <td>s</td>\n      <td>n</td>\n      <td>t</td>\n      <td>p</td>\n      <td>f</td>\n      <td>c</td>\n      <td>n</td>\n      <td>k</td>\n      <td>...</td>\n      <td>s</td>\n      <td>w</td>\n      <td>w</td>\n      <td>p</td>\n      <td>w</td>\n      <td>o</td>\n      <td>p</td>\n      <td>k</td>\n      <td>s</td>\n      <td>u</td>\n    </tr>\n    <tr>\n      <th>1</th>\n      <td>e</td>\n      <td>x</td>\n      <td>s</td>\n      <td>y</td>\n      <td>t</td>\n      <td>a</td>\n      <td>f</td>\n      <td>c</td>\n      <td>b</td>\n      <td>k</td>\n      <td>...</td>\n      <td>s</td>\n      <td>w</td>\n      <td>w</td>\n      <td>p</td>\n      <td>w</td>\n      <td>o</td>\n      <td>p</td>\n      <td>n</td>\n      <td>n</td>\n      <td>g</td>\n    </tr>\n    <tr>\n      <th>2</th>\n      <td>e</td>\n      <td>b</td>\n      <td>s</td>\n      <td>w</td>\n      <td>t</td>\n      <td>l</td>\n      <td>f</td>\n      <td>c</td>\n      <td>b</td>\n      <td>n</td>\n      <td>...</td>\n      <td>s</td>\n      <td>w</td>\n      <td>w</td>\n      <td>p</td>\n      <td>w</td>\n      <td>o</td>\n      <td>p</td>\n      <td>n</td>\n      <td>n</td>\n      <td>m</td>\n    </tr>\n    <tr>\n      <th>3</th>\n      <td>p</td>\n      <td>x</td>\n      <td>y</td>\n      <td>w</td>\n      <td>t</td>\n      <td>p</td>\n      <td>f</td>\n      <td>c</td>\n      <td>n</td>\n      <td>n</td>\n      <td>...</td>\n      <td>s</td>\n      <td>w</td>\n      <td>w</td>\n      <td>p</td>\n      <td>w</td>\n      <td>o</td>\n      <td>p</td>\n      <td>k</td>\n      <td>s</td>\n      <td>u</td>\n    </tr>\n    <tr>\n      <th>4</th>\n      <td>e</td>\n      <td>x</td>\n      <td>s</td>\n      <td>g</td>\n      <td>f</td>\n      <td>n</td>\n      <td>f</td>\n      <td>w</td>\n      <td>b</td>\n      <td>k</td>\n      <td>...</td>\n      <td>s</td>\n      <td>w</td>\n      <td>w</td>\n      <td>p</td>\n      <td>w</td>\n      <td>o</td>\n      <td>e</td>\n      <td>n</td>\n      <td>a</td>\n      <td>g</td>\n    </tr>\n  </tbody>\n</table>\n<p>5 rows × 23 columns</p>\n</div>"
     },
     "execution_count": 21,
     "metadata": {},
     "output_type": "execute_result"
    }
   ],
   "source": [
    "# load data\n",
    "df = pd.read_csv('data/mushrooms.csv')\n",
    "df.info()\n",
    "df.head()"
   ],
   "metadata": {
    "collapsed": false,
    "ExecuteTime": {
     "end_time": "2023-10-13T02:33:45.445085800Z",
     "start_time": "2023-10-13T02:33:45.350816500Z"
    }
   },
   "id": "d5986e848b7ae40c"
  },
  {
   "cell_type": "code",
   "execution_count": 22,
   "outputs": [
    {
     "name": "stdout",
     "output_type": "stream",
     "text": [
      "<class 'pandas.core.frame.DataFrame'>\n",
      "RangeIndex: 8124 entries, 0 to 8123\n",
      "Data columns (total 23 columns):\n",
      " #   Column                    Non-Null Count  Dtype\n",
      "---  ------                    --------------  -----\n",
      " 0   class                     8124 non-null   int32\n",
      " 1   cap-shape                 8124 non-null   int32\n",
      " 2   cap-surface               8124 non-null   int32\n",
      " 3   cap-color                 8124 non-null   int32\n",
      " 4   bruises                   8124 non-null   int32\n",
      " 5   odor                      8124 non-null   int32\n",
      " 6   gill-attachment           8124 non-null   int32\n",
      " 7   gill-spacing              8124 non-null   int32\n",
      " 8   gill-size                 8124 non-null   int32\n",
      " 9   gill-color                8124 non-null   int32\n",
      " 10  stalk-shape               8124 non-null   int32\n",
      " 11  stalk-root                8124 non-null   int32\n",
      " 12  stalk-surface-above-ring  8124 non-null   int32\n",
      " 13  stalk-surface-below-ring  8124 non-null   int32\n",
      " 14  stalk-color-above-ring    8124 non-null   int32\n",
      " 15  stalk-color-below-ring    8124 non-null   int32\n",
      " 16  veil-type                 8124 non-null   int32\n",
      " 17  veil-color                8124 non-null   int32\n",
      " 18  ring-number               8124 non-null   int32\n",
      " 19  ring-type                 8124 non-null   int32\n",
      " 20  spore-print-color         8124 non-null   int32\n",
      " 21  population                8124 non-null   int32\n",
      " 22  habitat                   8124 non-null   int32\n",
      "dtypes: int32(23)\n",
      "memory usage: 730.0 KB\n"
     ]
    },
    {
     "data": {
      "text/plain": "   class  cap-shape  cap-surface  cap-color  bruises  odor  gill-attachment  \\\n0      1          5            2          4        1     6                1   \n1      0          5            2          9        1     0                1   \n2      0          0            2          8        1     3                1   \n3      1          5            3          8        1     6                1   \n4      0          5            2          3        0     5                1   \n\n   gill-spacing  gill-size  gill-color  ...  stalk-surface-below-ring  \\\n0             0          1           4  ...                         2   \n1             0          0           4  ...                         2   \n2             0          0           5  ...                         2   \n3             0          1           5  ...                         2   \n4             1          0           4  ...                         2   \n\n   stalk-color-above-ring  stalk-color-below-ring  veil-type  veil-color  \\\n0                       7                       7          0           2   \n1                       7                       7          0           2   \n2                       7                       7          0           2   \n3                       7                       7          0           2   \n4                       7                       7          0           2   \n\n   ring-number  ring-type  spore-print-color  population  habitat  \n0            1          4                  2           3        5  \n1            1          4                  3           2        1  \n2            1          4                  3           2        3  \n3            1          4                  2           3        5  \n4            1          0                  3           0        1  \n\n[5 rows x 23 columns]",
      "text/html": "<div>\n<style scoped>\n    .dataframe tbody tr th:only-of-type {\n        vertical-align: middle;\n    }\n\n    .dataframe tbody tr th {\n        vertical-align: top;\n    }\n\n    .dataframe thead th {\n        text-align: right;\n    }\n</style>\n<table border=\"1\" class=\"dataframe\">\n  <thead>\n    <tr style=\"text-align: right;\">\n      <th></th>\n      <th>class</th>\n      <th>cap-shape</th>\n      <th>cap-surface</th>\n      <th>cap-color</th>\n      <th>bruises</th>\n      <th>odor</th>\n      <th>gill-attachment</th>\n      <th>gill-spacing</th>\n      <th>gill-size</th>\n      <th>gill-color</th>\n      <th>...</th>\n      <th>stalk-surface-below-ring</th>\n      <th>stalk-color-above-ring</th>\n      <th>stalk-color-below-ring</th>\n      <th>veil-type</th>\n      <th>veil-color</th>\n      <th>ring-number</th>\n      <th>ring-type</th>\n      <th>spore-print-color</th>\n      <th>population</th>\n      <th>habitat</th>\n    </tr>\n  </thead>\n  <tbody>\n    <tr>\n      <th>0</th>\n      <td>1</td>\n      <td>5</td>\n      <td>2</td>\n      <td>4</td>\n      <td>1</td>\n      <td>6</td>\n      <td>1</td>\n      <td>0</td>\n      <td>1</td>\n      <td>4</td>\n      <td>...</td>\n      <td>2</td>\n      <td>7</td>\n      <td>7</td>\n      <td>0</td>\n      <td>2</td>\n      <td>1</td>\n      <td>4</td>\n      <td>2</td>\n      <td>3</td>\n      <td>5</td>\n    </tr>\n    <tr>\n      <th>1</th>\n      <td>0</td>\n      <td>5</td>\n      <td>2</td>\n      <td>9</td>\n      <td>1</td>\n      <td>0</td>\n      <td>1</td>\n      <td>0</td>\n      <td>0</td>\n      <td>4</td>\n      <td>...</td>\n      <td>2</td>\n      <td>7</td>\n      <td>7</td>\n      <td>0</td>\n      <td>2</td>\n      <td>1</td>\n      <td>4</td>\n      <td>3</td>\n      <td>2</td>\n      <td>1</td>\n    </tr>\n    <tr>\n      <th>2</th>\n      <td>0</td>\n      <td>0</td>\n      <td>2</td>\n      <td>8</td>\n      <td>1</td>\n      <td>3</td>\n      <td>1</td>\n      <td>0</td>\n      <td>0</td>\n      <td>5</td>\n      <td>...</td>\n      <td>2</td>\n      <td>7</td>\n      <td>7</td>\n      <td>0</td>\n      <td>2</td>\n      <td>1</td>\n      <td>4</td>\n      <td>3</td>\n      <td>2</td>\n      <td>3</td>\n    </tr>\n    <tr>\n      <th>3</th>\n      <td>1</td>\n      <td>5</td>\n      <td>3</td>\n      <td>8</td>\n      <td>1</td>\n      <td>6</td>\n      <td>1</td>\n      <td>0</td>\n      <td>1</td>\n      <td>5</td>\n      <td>...</td>\n      <td>2</td>\n      <td>7</td>\n      <td>7</td>\n      <td>0</td>\n      <td>2</td>\n      <td>1</td>\n      <td>4</td>\n      <td>2</td>\n      <td>3</td>\n      <td>5</td>\n    </tr>\n    <tr>\n      <th>4</th>\n      <td>0</td>\n      <td>5</td>\n      <td>2</td>\n      <td>3</td>\n      <td>0</td>\n      <td>5</td>\n      <td>1</td>\n      <td>1</td>\n      <td>0</td>\n      <td>4</td>\n      <td>...</td>\n      <td>2</td>\n      <td>7</td>\n      <td>7</td>\n      <td>0</td>\n      <td>2</td>\n      <td>1</td>\n      <td>0</td>\n      <td>3</td>\n      <td>0</td>\n      <td>1</td>\n    </tr>\n  </tbody>\n</table>\n<p>5 rows × 23 columns</p>\n</div>"
     },
     "execution_count": 22,
     "metadata": {},
     "output_type": "execute_result"
    }
   ],
   "source": [
    "# encode data object to int\n",
    "le = LabelEncoder()\n",
    "for col in df.columns:\n",
    "    df[col] = le.fit_transform(df[col])\n",
    "df.info()\n",
    "df.head()"
   ],
   "metadata": {
    "collapsed": false,
    "ExecuteTime": {
     "end_time": "2023-10-13T02:33:57.299756100Z",
     "start_time": "2023-10-13T02:33:57.179663900Z"
    }
   },
   "id": "3896ed05ba1dedb4"
  },
  {
   "cell_type": "code",
   "execution_count": 23,
   "outputs": [],
   "source": [
    "# melakukan seleksi fitur\n",
    "X = df.drop('class', axis=1)\n",
    "y = df['class']"
   ],
   "metadata": {
    "collapsed": false,
    "ExecuteTime": {
     "end_time": "2023-10-13T02:34:09.835353100Z",
     "start_time": "2023-10-13T02:34:09.811247900Z"
    }
   },
   "id": "2931eb29d35c454b"
  },
  {
   "cell_type": "code",
   "execution_count": 24,
   "outputs": [],
   "source": [
    "# split data\n",
    "X_train, X_test, y_train, y_test = train_test_split(X, y, test_size=0.2, random_state=42)"
   ],
   "metadata": {
    "collapsed": false,
    "ExecuteTime": {
     "end_time": "2023-10-13T02:35:04.088996600Z",
     "start_time": "2023-10-13T02:35:04.075014700Z"
    }
   },
   "id": "798d94759d6ab4bc"
  },
  {
   "cell_type": "code",
   "execution_count": 25,
   "outputs": [
    {
     "name": "stdout",
     "output_type": "stream",
     "text": [
      "Accuracy AdaBoost: 98.09%\n"
     ]
    }
   ],
   "source": [
    "# training model dengan ada boost\n",
    "from sklearn.ensemble import AdaBoostClassifier\n",
    "ada = AdaBoostClassifier()\n",
    "gs = GridSearchCV(ada, param_grid={'n_estimators': np.arange(1, 10)}, cv=5)\n",
    "gs.fit(X_train, y_train)\n",
    "acc_ada = accuracy_score(y_test, gs.predict(X_test))\n",
    "print(f'Accuracy AdaBoost: {round(acc_ada*100, 2)}%')"
   ],
   "metadata": {
    "collapsed": false,
    "ExecuteTime": {
     "end_time": "2023-10-13T02:35:34.914584800Z",
     "start_time": "2023-10-13T02:35:32.961359900Z"
    }
   },
   "id": "80292d4a7206eeb5"
  },
  {
   "cell_type": "markdown",
   "source": [
    "# Tugas 3\n",
    "Dengan menggunakan dataset diabetes, buatlah ensemble voting dengan algoritma\n",
    "- Logistic Regression\n",
    "- SVM kernel polynomial\n",
    "- Decission Tree\n",
    "Anda boleh melakukan eksplorasi dengan melakukan tunning hyperparameter"
   ],
   "metadata": {
    "collapsed": false
   },
   "id": "a3edeeef3aadc7cf"
  },
  {
   "cell_type": "code",
   "execution_count": 26,
   "outputs": [
    {
     "name": "stdout",
     "output_type": "stream",
     "text": [
      "<class 'pandas.core.frame.DataFrame'>\n",
      "RangeIndex: 768 entries, 0 to 767\n",
      "Data columns (total 9 columns):\n",
      " #   Column                    Non-Null Count  Dtype  \n",
      "---  ------                    --------------  -----  \n",
      " 0   Pregnancies               768 non-null    int64  \n",
      " 1   Glucose                   768 non-null    int64  \n",
      " 2   BloodPressure             768 non-null    int64  \n",
      " 3   SkinThickness             768 non-null    int64  \n",
      " 4   Insulin                   768 non-null    int64  \n",
      " 5   BMI                       768 non-null    float64\n",
      " 6   DiabetesPedigreeFunction  768 non-null    float64\n",
      " 7   Age                       768 non-null    int64  \n",
      " 8   Outcome                   768 non-null    int64  \n",
      "dtypes: float64(2), int64(7)\n",
      "memory usage: 54.1 KB\n"
     ]
    },
    {
     "data": {
      "text/plain": "   Pregnancies  Glucose  BloodPressure  SkinThickness  Insulin   BMI  \\\n0            6      148             72             35        0  33.6   \n1            1       85             66             29        0  26.6   \n2            8      183             64              0        0  23.3   \n3            1       89             66             23       94  28.1   \n4            0      137             40             35      168  43.1   \n\n   DiabetesPedigreeFunction  Age  Outcome  \n0                     0.627   50        1  \n1                     0.351   31        0  \n2                     0.672   32        1  \n3                     0.167   21        0  \n4                     2.288   33        1  ",
      "text/html": "<div>\n<style scoped>\n    .dataframe tbody tr th:only-of-type {\n        vertical-align: middle;\n    }\n\n    .dataframe tbody tr th {\n        vertical-align: top;\n    }\n\n    .dataframe thead th {\n        text-align: right;\n    }\n</style>\n<table border=\"1\" class=\"dataframe\">\n  <thead>\n    <tr style=\"text-align: right;\">\n      <th></th>\n      <th>Pregnancies</th>\n      <th>Glucose</th>\n      <th>BloodPressure</th>\n      <th>SkinThickness</th>\n      <th>Insulin</th>\n      <th>BMI</th>\n      <th>DiabetesPedigreeFunction</th>\n      <th>Age</th>\n      <th>Outcome</th>\n    </tr>\n  </thead>\n  <tbody>\n    <tr>\n      <th>0</th>\n      <td>6</td>\n      <td>148</td>\n      <td>72</td>\n      <td>35</td>\n      <td>0</td>\n      <td>33.6</td>\n      <td>0.627</td>\n      <td>50</td>\n      <td>1</td>\n    </tr>\n    <tr>\n      <th>1</th>\n      <td>1</td>\n      <td>85</td>\n      <td>66</td>\n      <td>29</td>\n      <td>0</td>\n      <td>26.6</td>\n      <td>0.351</td>\n      <td>31</td>\n      <td>0</td>\n    </tr>\n    <tr>\n      <th>2</th>\n      <td>8</td>\n      <td>183</td>\n      <td>64</td>\n      <td>0</td>\n      <td>0</td>\n      <td>23.3</td>\n      <td>0.672</td>\n      <td>32</td>\n      <td>1</td>\n    </tr>\n    <tr>\n      <th>3</th>\n      <td>1</td>\n      <td>89</td>\n      <td>66</td>\n      <td>23</td>\n      <td>94</td>\n      <td>28.1</td>\n      <td>0.167</td>\n      <td>21</td>\n      <td>0</td>\n    </tr>\n    <tr>\n      <th>4</th>\n      <td>0</td>\n      <td>137</td>\n      <td>40</td>\n      <td>35</td>\n      <td>168</td>\n      <td>43.1</td>\n      <td>2.288</td>\n      <td>33</td>\n      <td>1</td>\n    </tr>\n  </tbody>\n</table>\n</div>"
     },
     "execution_count": 26,
     "metadata": {},
     "output_type": "execute_result"
    }
   ],
   "source": [
    "# load data\n",
    "df = pd.read_csv('data/diabetes.csv')\n",
    "df.info()\n",
    "df.head()"
   ],
   "metadata": {
    "collapsed": false,
    "ExecuteTime": {
     "end_time": "2023-10-13T02:37:47.364886200Z",
     "start_time": "2023-10-13T02:37:47.307738300Z"
    }
   },
   "id": "322bb8b73b7ecd56"
  },
  {
   "cell_type": "code",
   "execution_count": 33,
   "outputs": [
    {
     "data": {
      "text/plain": "   Pregnancies   Glucose  BloodPressure  SkinThickness   Insulin       BMI  \\\n0     0.352941  0.743719       0.590164       0.353535  0.000000  0.500745   \n1     0.058824  0.427136       0.540984       0.292929  0.000000  0.396423   \n2     0.470588  0.919598       0.524590       0.000000  0.000000  0.347243   \n3     0.058824  0.447236       0.540984       0.232323  0.111111  0.418778   \n4     0.000000  0.688442       0.327869       0.353535  0.198582  0.642325   \n\n   DiabetesPedigreeFunction       Age  Outcome  \n0                  0.234415  0.483333      1.0  \n1                  0.116567  0.166667      0.0  \n2                  0.253629  0.183333      1.0  \n3                  0.038002  0.000000      0.0  \n4                  0.943638  0.200000      1.0  ",
      "text/html": "<div>\n<style scoped>\n    .dataframe tbody tr th:only-of-type {\n        vertical-align: middle;\n    }\n\n    .dataframe tbody tr th {\n        vertical-align: top;\n    }\n\n    .dataframe thead th {\n        text-align: right;\n    }\n</style>\n<table border=\"1\" class=\"dataframe\">\n  <thead>\n    <tr style=\"text-align: right;\">\n      <th></th>\n      <th>Pregnancies</th>\n      <th>Glucose</th>\n      <th>BloodPressure</th>\n      <th>SkinThickness</th>\n      <th>Insulin</th>\n      <th>BMI</th>\n      <th>DiabetesPedigreeFunction</th>\n      <th>Age</th>\n      <th>Outcome</th>\n    </tr>\n  </thead>\n  <tbody>\n    <tr>\n      <th>0</th>\n      <td>0.352941</td>\n      <td>0.743719</td>\n      <td>0.590164</td>\n      <td>0.353535</td>\n      <td>0.000000</td>\n      <td>0.500745</td>\n      <td>0.234415</td>\n      <td>0.483333</td>\n      <td>1.0</td>\n    </tr>\n    <tr>\n      <th>1</th>\n      <td>0.058824</td>\n      <td>0.427136</td>\n      <td>0.540984</td>\n      <td>0.292929</td>\n      <td>0.000000</td>\n      <td>0.396423</td>\n      <td>0.116567</td>\n      <td>0.166667</td>\n      <td>0.0</td>\n    </tr>\n    <tr>\n      <th>2</th>\n      <td>0.470588</td>\n      <td>0.919598</td>\n      <td>0.524590</td>\n      <td>0.000000</td>\n      <td>0.000000</td>\n      <td>0.347243</td>\n      <td>0.253629</td>\n      <td>0.183333</td>\n      <td>1.0</td>\n    </tr>\n    <tr>\n      <th>3</th>\n      <td>0.058824</td>\n      <td>0.447236</td>\n      <td>0.540984</td>\n      <td>0.232323</td>\n      <td>0.111111</td>\n      <td>0.418778</td>\n      <td>0.038002</td>\n      <td>0.000000</td>\n      <td>0.0</td>\n    </tr>\n    <tr>\n      <th>4</th>\n      <td>0.000000</td>\n      <td>0.688442</td>\n      <td>0.327869</td>\n      <td>0.353535</td>\n      <td>0.198582</td>\n      <td>0.642325</td>\n      <td>0.943638</td>\n      <td>0.200000</td>\n      <td>1.0</td>\n    </tr>\n  </tbody>\n</table>\n</div>"
     },
     "execution_count": 33,
     "metadata": {},
     "output_type": "execute_result"
    }
   ],
   "source": [
    "# normalisasi data\n",
    "from sklearn.preprocessing import MinMaxScaler\n",
    "scaler = MinMaxScaler()\n",
    "df = pd.DataFrame(scaler.fit_transform(df), columns=df.columns)\n",
    "df.head()"
   ],
   "metadata": {
    "collapsed": false,
    "ExecuteTime": {
     "end_time": "2023-10-13T02:44:26.256832800Z",
     "start_time": "2023-10-13T02:44:26.191021500Z"
    }
   },
   "id": "92ead0437bc664f5"
  },
  {
   "cell_type": "code",
   "execution_count": 34,
   "outputs": [],
   "source": [
    "# melakukan seleksi fitur\n",
    "X = df.drop('Outcome', axis=1)\n",
    "y = df['Outcome']"
   ],
   "metadata": {
    "collapsed": false,
    "ExecuteTime": {
     "end_time": "2023-10-13T02:44:29.504125300Z",
     "start_time": "2023-10-13T02:44:29.483205800Z"
    }
   },
   "id": "f64b6aa8b3aca819"
  },
  {
   "cell_type": "code",
   "execution_count": 35,
   "outputs": [],
   "source": [
    "# split data\n",
    "X_train, X_test, y_train, y_test = train_test_split(X, y, test_size=0.2, random_state=42)"
   ],
   "metadata": {
    "collapsed": false,
    "ExecuteTime": {
     "end_time": "2023-10-13T02:44:30.830722800Z",
     "start_time": "2023-10-13T02:44:30.811579800Z"
    }
   },
   "id": "116ec23d1946bb6c"
  },
  {
   "cell_type": "markdown",
   "source": [
    "# Logistic Regression"
   ],
   "metadata": {
    "collapsed": false
   },
   "id": "f9720ba69cfd9473"
  },
  {
   "cell_type": "code",
   "execution_count": 36,
   "outputs": [
    {
     "name": "stdout",
     "output_type": "stream",
     "text": [
      "Accuracy Logistic Regression: 75.97%\n"
     ]
    }
   ],
   "source": [
    "from sklearn.linear_model import LogisticRegression\n",
    "lr = LogisticRegression()\n",
    "gs = GridSearchCV(lr, param_grid={'C': np.arange(1, 10)}, cv=5)\n",
    "gs.fit(X_train, y_train)\n",
    "acc_lr = accuracy_score(y_test, gs.predict(X_test))\n",
    "print(f'Accuracy Logistic Regression: {round(acc_lr*100, 2)}%')"
   ],
   "metadata": {
    "collapsed": false,
    "ExecuteTime": {
     "end_time": "2023-10-13T02:44:32.357264300Z",
     "start_time": "2023-10-13T02:44:31.726665700Z"
    }
   },
   "id": "b4a1c3ae727e862d"
  },
  {
   "cell_type": "markdown",
   "source": [
    "# SVM kernel polynomial"
   ],
   "metadata": {
    "collapsed": false
   },
   "id": "780d06f705e82885"
  },
  {
   "cell_type": "code",
   "execution_count": 37,
   "outputs": [
    {
     "name": "stdout",
     "output_type": "stream",
     "text": [
      "Accuracy SVM kernel polynomial: 77.27%\n"
     ]
    }
   ],
   "source": [
    "from sklearn.svm import SVC\n",
    "svc = SVC(kernel='poly')\n",
    "gs = GridSearchCV(svc, param_grid={'C': np.arange(1, 10)}, cv=5)\n",
    "gs.fit(X_train, y_train)\n",
    "acc_svc = accuracy_score(y_test, gs.predict(X_test))\n",
    "print(f'Accuracy SVM kernel polynomial: {round(acc_svc*100, 2)}%')"
   ],
   "metadata": {
    "collapsed": false,
    "ExecuteTime": {
     "end_time": "2023-10-13T02:44:34.910861700Z",
     "start_time": "2023-10-13T02:44:32.582348Z"
    }
   },
   "id": "798388c0d3e0f2cc"
  },
  {
   "cell_type": "markdown",
   "source": [
    "# Decission Tree"
   ],
   "metadata": {
    "collapsed": false
   },
   "id": "7cbe7b30ded4cedc"
  },
  {
   "cell_type": "code",
   "execution_count": 38,
   "outputs": [
    {
     "name": "stdout",
     "output_type": "stream",
     "text": [
      "Accuracy Decision Tree: 75.97%\n"
     ]
    }
   ],
   "source": [
    "dt = DecisionTreeClassifier()\n",
    "gs = GridSearchCV(dt, param_grid={'max_depth': np.arange(1, 10)}, cv=5)\n",
    "gs.fit(X_train, y_train)\n",
    "acc_dt = accuracy_score(y_test, gs.predict(X_test))\n",
    "print(f'Accuracy Decision Tree: {round(acc_dt*100, 2)}%')"
   ],
   "metadata": {
    "collapsed": false,
    "ExecuteTime": {
     "end_time": "2023-10-13T02:44:35.343970600Z",
     "start_time": "2023-10-13T02:44:34.910861700Z"
    }
   },
   "id": "13001ecf33f00dfb"
  },
  {
   "cell_type": "markdown",
   "source": [
    "# Ensemble Voting"
   ],
   "metadata": {
    "collapsed": false
   },
   "id": "189e4d54a4aa3721"
  },
  {
   "cell_type": "code",
   "execution_count": 39,
   "outputs": [
    {
     "name": "stdout",
     "output_type": "stream",
     "text": [
      "Accuracy Ensemble Voting: 79.22%\n"
     ]
    }
   ],
   "source": [
    "from sklearn.ensemble import VotingClassifier\n",
    "vc = VotingClassifier(estimators=[('lr', lr), ('svc', svc), ('dt', dt)], voting='hard')\n",
    "vc.fit(X_train, y_train)\n",
    "acc_vc = accuracy_score(y_test, vc.predict(X_test))\n",
    "print(f'Accuracy Ensemble Voting: {round(acc_vc*100, 2)}%')"
   ],
   "metadata": {
    "collapsed": false,
    "ExecuteTime": {
     "end_time": "2023-10-13T02:44:35.443270300Z",
     "start_time": "2023-10-13T02:44:35.341976200Z"
    }
   },
   "id": "2d2eb5270c7c0a2a"
  },
  {
   "cell_type": "markdown",
   "source": [],
   "metadata": {
    "collapsed": false
   },
   "id": "855abf4f07c276a"
  }
 ],
 "metadata": {
  "kernelspec": {
   "display_name": "Python 3",
   "language": "python",
   "name": "python3"
  },
  "language_info": {
   "codemirror_mode": {
    "name": "ipython",
    "version": 2
   },
   "file_extension": ".py",
   "mimetype": "text/x-python",
   "name": "python",
   "nbconvert_exporter": "python",
   "pygments_lexer": "ipython2",
   "version": "2.7.6"
  }
 },
 "nbformat": 4,
 "nbformat_minor": 5
}
