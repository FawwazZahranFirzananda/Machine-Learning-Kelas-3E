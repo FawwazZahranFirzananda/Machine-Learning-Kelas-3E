{
  "cells": [
    {
      "cell_type": "code",
      "execution_count": 1,
      "metadata": {
        "id": "H13zzbYuSC4_"
      },
      "outputs": [
        {
          "name": "stderr",
          "output_type": "stream",
          "text": [
            "c:\\Users\\SUG\\anaconda3\\lib\\site-packages\\sklearn\\utils\\validation.py:63: DataConversionWarning: A column-vector y was passed when a 1d array was expected. Please change the shape of y to (n_samples, ), for example using ravel().\n",
            "  return f(*args, **kwargs)\n"
          ]
        },
        {
          "data": {
            "image/png": "[encoded data removed]",
            "text/plain": [
              "<Figure size 432x288 with 1 Axes>"
            ]
          },
          "metadata": {
            "needs_background": "light"
          },
          "output_type": "display_data"
        },
        {
          "name": "stdout",
          "output_type": "stream",
          "text": [
            "Prediksi Gaji untuk Tingkat Posisi 6.5: [170370.0204065]\n",
            "MAE: 249500.11150357974\n",
            "MSE: 142912240625.2814\n",
            "RMSE: 378037.3534788347\n",
            "R-squared: -0.7717363528203269\n"
          ]
        }
      ],
      "source": [
        "# Mengimpor library\n",
        "import numpy as np\n",
        "import matplotlib.pyplot as plt\n",
        "import pandas as pd\n",
        " \n",
        "# Mengimpor dataset (Pastikan Anda memiliki file CSV 'Posisi_gaji.csv' dalam direktori yang sama)\n",
        "dataset = pd.read_csv('Posisi_gaji.csv')\n",
        "X = dataset.iloc[:, 1:2].values\n",
        "y = dataset.iloc[:, 2].values  # Ubah menjadi satu kolom saja\n",
        " \n",
        "# Feature Scaling\n",
        "from sklearn.preprocessing import StandardScaler\n",
        "sc_X = StandardScaler()\n",
        "sc_y = StandardScaler()\n",
        "X = sc_X.fit_transform(X.reshape(-1, 1))\n",
        "y = sc_y.fit_transform(y.reshape(-1, 1))\n",
        " \n",
        "# Fitting SVR ke dataset\n",
        "from sklearn.svm import SVR\n",
        "regressor = SVR(kernel='rbf')\n",
        "regressor.fit(X, y)\n",
        " \n",
        "# Visualisasi hasil SVR (resolusi tinggi dan kurva yang lebih halus)\n",
        "X_grid = np.arange(min(X), max(X), 0.01).reshape(-1, 1)\n",
        "plt.scatter(X, y, color='red')\n",
        "plt.plot(X_grid, regressor.predict(X_grid), color='blue')\n",
        "plt.title('(SVR)')\n",
        "plt.xlabel('Tingkat posisi')\n",
        "plt.ylabel('Gaji')\n",
        "plt.show()\n",
        " \n",
        "# Prediksi hasil\n",
        "# Buat array 2D yang berisi tingkat posisi yang akan diprediksi\n",
        "tingkat_posisi_prediksi = np.array([[6.5]])\n",
        "# Penskalaan fitur untuk data yang akan diprediksi\n",
        "tingkat_posisi_prediksi = sc_X.transform(tingkat_posisi_prediksi)\n",
        "# Melakukan prediksi menggunakan model SVR\n",
        "gaji_prediksi = regressor.predict(tingkat_posisi_prediksi)\n",
        "# Kembalikan hasil prediksi ke skala aslinya\n",
        "gaji_prediksi = sc_y.inverse_transform(gaji_prediksi.reshape(-1, 1))\n",
        "\n",
        "print(\"Prediksi Gaji untuk Tingkat Posisi 6.5:\", gaji_prediksi[0])\n",
        "\n",
        "# Evaluasi model\n",
        "from sklearn.metrics import mean_absolute_error, mean_squared_error, r2_score\n",
        "\n",
        "# Membalikkan penskalaan pada data target yang sudah diprediksi\n",
        "y_actual = sc_y.inverse_transform(y)\n",
        "y_pred = regressor.predict(X)\n",
        "\n",
        "# Menghitung MAE\n",
        "mae = mean_absolute_error(y_actual, y_pred)\n",
        "\n",
        "# Menghitung MSE\n",
        "mse = mean_squared_error(y_actual, y_pred)\n",
        "\n",
        "# Menghitung RMSE\n",
        "rmse = np.sqrt(mse)\n",
        "\n",
        "# Menghitung R-squared\n",
        "r2 = r2_score(y_actual, y_pred)\n",
        "\n",
        "print(\"MAE:\", mae)\n",
        "print(\"MSE:\", mse)\n",
        "print(\"RMSE:\", rmse)\n",
        "print(\"R-squared:\", r2)\n"
      ]
    }
  ],
  "metadata": {
    "colab": {
      "provenance": []
    },
    "kernelspec": {
      "display_name": "Python 3",
      "name": "python3"
    },
    "language_info": {
      "codemirror_mode": {
        "name": "ipython",
        "version": 3
      },
      "file_extension": ".py",
      "mimetype": "text/x-python",
      "name": "python",
      "nbconvert_exporter": "python",
      "pygments_lexer": "ipython3",
      "version": "3.8.8"
    }
  },
  "nbformat": 4,
  "nbformat_minor": 0
}
