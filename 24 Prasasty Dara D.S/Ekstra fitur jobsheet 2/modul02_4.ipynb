{
 "cells": [
  {
   "cell_type": "markdown",
   "metadata": {},
   "source": [
    "# Langkah 0 - Instal Pillow"
   ]
  },
  {
   "cell_type": "code",
   "execution_count": 1,
   "metadata": {},
   "outputs": [
    {
     "name": "stdout",
     "output_type": "stream",
     "text": [
      "Requirement already satisfied: Pillow in /Users/afif/anaconda3/lib/python3.11/site-packages (9.4.0)\n"
     ]
    }
   ],
   "source": [
    "!pip install Pillow\n",
    "mencoba menginstal Python Imaging Library (Pillow), yang merupakan perpustakaan populer untuk bekerja dengan gambar dengan Python.\n",
    "Pastikan menjalankan perintah ini di terminal atau command prompt tempat menginstal Python. Setelah Pillow diinstal, dapat menggunakannya untuk bekerja dengan gambar dalam kode Python."
   ]
  },
  {
   "cell_type": "code",
   "execution_count": 3,
   "metadata": {},
   "outputs": [],
   "source": [
    "from PIL import Image\n",
    " \n",
    "img = Image.open('img/Lenna_(test_image).png')\n",
    "img.show() # tampilkan gambar\n",
    "menggunakan Python Imaging Library (Bantal) untuk membuka dan menampilkan gambar bernama 'Lenna_(test_image).png' menggunakan fungsi Image.open()dan img.show(). Kode ini digunakan untuk membuka dan menampilkan gambar menggunakan Pillow.\n",
    "from PIL import Image: Anda mengimpor Imagemodul dari Pillow, memungkinkan Anda bekerja dengan gambar dalam kode Python Anda.\n",
    "\n",
    "img = Image.open('img/Lenna_(test_image).png'): menggunakan Image.open()fungsi untuk membuka file gambar yang terletak di lokasi yang ditentukanimg.\n",
    "\n",
    "img.show(): menggunakan show()metode tersebutimgobyek"
   ]
  },
  {
   "cell_type": "code",
   "execution_count": 6,
   "metadata": {},
   "outputs": [
    {
     "name": "stdout",
     "output_type": "stream",
     "text": [
      "256\n",
      "[0, 0, 0, 0, 0, 0, 0, 0, 0, 0, 0, 0, 0, 0, 0, 0, 0, 0, 0, 0, 0, 0, 0, 0, 0, 0, 0, 0, 0, 0, 0, 0, 0, 0, 0, 0, 0, 0, 0, 0, 0, 0, 0, 0, 0, 0, 0, 0, 0, 0, 0, 0, 0, 0, 1, 0, 1, 1, 1, 8, 6, 10, 9, 20, 37, 32, 41, 53, 74, 103, 132, 179, 193, 242, 238, 336, 386, 404, 483, 607, 628, 771, 785, 1001, 1016, 1177, 1269, 1332, 1446, 1487, 1457, 1574, 1585, 1591, 1557, 1569, 1660, 1648, 1420, 1559, 1418, 1384, 1319, 1342, 1156, 1120, 955, 969, 828, 782, 752, 737, 719, 700, 628, 673, 587, 617, 610, 592, 557, 593, 552, 566, 582, 559, 571, 520, 664, 650, 618, 730, 594, 667, 675, 685, 771, 715, 667, 740, 744, 766, 765, 772, 817, 817, 744, 806, 760, 777, 812, 797, 799, 861, 814, 910, 907, 918, 888, 1011, 879, 996, 912, 952, 884, 1074, 977, 1073, 1040, 1216, 1250, 1403, 1534, 1639, 1682, 1776, 1874, 1769, 1582, 1743, 1441, 1477, 1483, 1409, 1437, 1449, 1389, 1479, 1592, 1655, 1657, 1666, 1857, 1896, 1813, 1979, 1814, 1956, 1928, 2055, 2012, 2303, 2333, 2670, 2787, 3232, 3154, 3476, 3424, 3516, 3102, 3176, 2787, 2885, 2630, 2731, 2664, 2955, 2955, 3360, 3554, 4138, 3987, 4057, 4327, 3713, 3185, 2929, 2551, 2432, 2195, 2256, 1960, 2126, 2186, 2265, 2417, 2445, 2282, 1826, 1972, 1456, 1137, 986, 748, 749, 667, 582, 428, 357, 313, 302, 242, 178, 67, 112]\n"
     ]
    }
   ],
   "source": [
    "# Ekstrak setiap channel red, green, blue\n",
    "r, g, b = img.split()\n",
    "\n",
    "# Cek panjang ukuran channel red\n",
    "print(len(r.histogram()))\n",
    "\n",
    "# fitur histogram pada channel red\n",
    "print(r.histogram())\n",
    "r, g, b = img.split(): Baris ini membagi gambar yang dimuat img ke dalam saluran warna tersendiri: saluran merah ( r), hijau ( g), dan biru ( b). Setiap saluran disimpan dalam variabel terpisah.\n",
    "\n",
    "print(len(r.histogram())): mencetak panjang histogram saluran merah ( r). Panjang histogram mewakili jumlah bin atau nilai dalam histogram.\n",
    "\n",
    "print(r.histogram()): mencetak histogram saluran merah ( r). Histogram adalah daftar nilai yang setiap nilai mewakili frekuensi intensitas piksel di dalamnya\n",
    "\n",
    "Dengan memeriksa histogram, Anda dapat memperoleh wawasan tentang distribusi intensitas piksel merah pada gambar, yang dapat berguna untuk berbagai tugas pemrosesan dan analisis gambar. "
   ]
  },
  {
   "cell_type": "code",
   "execution_count": null,
   "metadata": {},
   "outputs": [],
   "source": [
    "Deskripsi Tugas\n",
    "Pada tugas pratikum ini Anda akan menggunakan data \"Wisconsin Breast Cancer\". Data tersebut terdiri dari 569 data yang digunakan untuk mendiagnonis jenis kanker Malignant (M) dan Benign (B). Tugas Anda adalah,\n",
    "1. Pisahkan antara variabel yang dapat digunakan dan variabel yang tidak dapat digunakan.\n",
    "2. Lakukan proses encoding pada kolom \"diagnosis\".\n",
    "3. Lakukan proses standarisasi pada semua kolom yang memiliki nilai numerik.\n",
    "4. Lakukan proses stratified split data untuk membuat data latih dan data uji dengan rasio 80:20."
   ]
  },
  {
   "cell_type": "code",
   "execution_count": null,
   "metadata": {},
   "outputs": [
    {
     "ename": "",
     "evalue": "",
     "output_type": "error",
     "traceback": [
      "\u001b[1;31mFailed to start the Kernel. \n",
      "\u001b[1;31mUnable to start Kernel 'anaconda3 (Python 3.11.4)' due to a timeout waiting for the ports to get used. \n",
      "\u001b[1;31mView Jupyter <a href='command:jupyter.viewOutput'>log</a> for further details."
     ]
    }
   ],
   "source": [
    "from sklearn.preprocessing import MinMaxScaler\n",
    "\n",
    "scaler = MinMaxScaler()\n",
    "X_scaled = scaler.fit_transform(X)\n",
    "\n",
    "from sklearn.model_selection import train_test_split\n",
    "\n",
    "X_train, X_test, y_train, y_test = train_test_split(X, y, test_size=0.2, stratify=y, random_state=42)"
   ]
  }
 ],
 "metadata": {
  "kernelspec": {
   "display_name": "base",
   "language": "python",
   "name": "python3"
  },
  "language_info": {
   "codemirror_mode": {
    "name": "ipython",
    "version": 3
   },
   "file_extension": ".py",
   "mimetype": "text/x-python",
   "name": "python",
   "nbconvert_exporter": "python",
   "pygments_lexer": "ipython3",
   "version": "3.11.4"
  },
  "orig_nbformat": 4
 },
 "nbformat": 4,
 "nbformat_minor": 2
}
