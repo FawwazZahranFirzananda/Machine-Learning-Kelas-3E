{
  "cells": [
    {
      "cell_type": "code",
      "source": [
        "# import package\n",
        "import numpy as np\n",
        "import pandas as pd\n",
        "import matplotlib.pyplot as plt\n",
        "import seaborn as sns\n",
        "# baca data\n",
        "data = pd.read_csv('data/insurance.csv')\n",
        "data.head()"
      ],
      "metadata": {
        "id": "_kaUs5g0PNuc"
      },
      "execution_count": null,
      "outputs": []
    },
    {
      "cell_type": "code",
      "source": [
        "output :\n",
        "\tage\tsex\tbmi\tchildren\tsmoker\tregion\tcharges\n",
        "0\t19\tfemale\t27.900\t0\tyes\tsouthwest\t16884.92400\n",
        "1\t18\tmale\t33.770\t1\tno\tsoutheast\t1725.55230\n",
        "2\t28\tmale\t33.000\t3\tno\tsoutheast\t4449.46200\n",
        "3\t33\tmale\t22.705\t0\tno\tnorthwest\t21984.47061\n",
        "4\t32\tmale\t28.880\t0\tno\tnorthwest\t3866.85520"
      ],
      "metadata": {
        "id": "1yzlMlQLPPOK"
      },
      "execution_count": null,
      "outputs": []
    },
    {
      "cell_type": "code",
      "source": [
        "1. Identifikasi variabel-variabel yang akan digunakan sebagai variabel bebas (fitur) dan variabel target (biaya medis personal)\n",
        "\n",
        "2. Bagi dataset menjadi data latih (train) dan data uji (test) dengan proporsi yang sesuai."
      ],
      "metadata": {
        "id": "RwdZ5t3ePWnv"
      },
      "execution_count": null,
      "outputs": []
    },
    {
      "cell_type": "code",
      "source": [
        "x = data[['age', 'bmi', 'children']]\n",
        "y = data['charges']\n",
        "\n",
        "#membagi data latih dan data uji\n",
        "from sklearn.model_selection import train_test_split\n",
        "x_train, x_test, y_train, y_test = train_test_split(x, y, test_size=0.2, random_state=0)\n",
        "\n",
        "print(len(x_train), len(x_test))"
      ],
      "metadata": {
        "id": "vnslbcyYPj6V"
      },
      "execution_count": null,
      "outputs": []
    },
    {
      "cell_type": "code",
      "source": [
        "output :\n",
        "1070 268"
      ],
      "metadata": {
        "id": "GiZ15RzXPj9T"
      },
      "execution_count": null,
      "outputs": []
    },
    {
      "cell_type": "code",
      "source": [
        "sns.pairplot(data, x_vars=['age', 'bmi', 'children'],\n",
        "             y_vars='charges', size=4, aspect=1, kind='scatter', hue='smoker')\n",
        "#digunakan untuk menampilkan hubungan antara beberapa variabel dalam satu plot\n",
        "\n",
        "plt.show()"
      ],
      "metadata": {
        "id": "JhnX5Pl7PvSa"
      },
      "execution_count": null,
      "outputs": []
    },
    {
      "cell_type": "code",
      "source": [
        "c:\\Users\\WINDOWS 10\\anaconda3\\Lib\\site-packages\\seaborn\\axisgrid.py:2095: UserWarning: The `size` parameter has been renamed to `height`; please update your code."
      ],
      "metadata": {
        "id": "Zze8gS_7P3_T"
      },
      "execution_count": null,
      "outputs": []
    },
    {
      "cell_type": "code",
      "source": [
        "ns.heatmap(data.corr(), cmap=\"YlGnBu\", annot = True) #digunakan untuk membuat heatmap yang menunjukkan korelasi antara variable dalam DataFrame menggunakan pustaka 'seaborn'\n",
        "plt.show() #digunakan untuk menampilkan plot"
      ],
      "metadata": {
        "id": "-2f8AVDpQCib"
      },
      "execution_count": null,
      "outputs": []
    },
    {
      "cell_type": "code",
      "source": [
        "1. Lakukan feature scaling jika diperlukan.\n",
        "\n",
        "2. Buat model multiple linear regression menggunakan Scikit-Learn."
      ],
      "metadata": {
        "id": "We-6NX-wQDk4"
      },
      "execution_count": null,
      "outputs": []
    },
    {
      "cell_type": "code",
      "source": [
        "# membuat sebuah objek dari kelas LinearRegression()\n",
        "linear_model = LinearRegression()\n",
        "\n",
        "#menggunakan objek linear_model yang telah dibuat sebelumnya untuk melatih model regresi linear\n",
        "linear_model.fit(x_train, y_train)"
      ],
      "metadata": {
        "id": "1TZ0my2DQSrz"
      },
      "execution_count": null,
      "outputs": []
    },
    {
      "cell_type": "code",
      "source": [
        "output :\n",
        "LinearRegression()"
      ],
      "metadata": {
        "id": "EzR2x_DnQU1i"
      },
      "execution_count": null,
      "outputs": []
    },
    {
      "cell_type": "code",
      "source": [
        "Latih model pada data latih dan lakukan prediksi pada data uji."
      ],
      "metadata": {
        "id": "Z45I6RJrQdYK"
      },
      "execution_count": null,
      "outputs": []
    },
    {
      "cell_type": "code",
      "source": [
        "# melakukan prediksi pada data uji\n",
        "import statsmodels.api as sm # library  untuk analisis statistik dan model statistik\n",
        "\n",
        "# Menambahkan konstanta\n",
        "x_train_sm = sm.add_constant(x_train)\n",
        "\n",
        "# membuat model regresi linear dengan menggunakan metode OLS\n",
        "lr = sm.OLS(y_train, x_train_sm).fit()\n",
        "\n",
        "# membuat prediksi\n",
        "x_test_sm = sm.add_constant(x_test)\n",
        "y_pred = lr.predict(x_test_sm)\n",
        "\n",
        "plt.scatter(y_test, y_pred)\n",
        "plt.xlabel(\"Nilai Aktual\")\n",
        "plt.ylabel(\"Nilai Prediksi\")\n",
        "plt.title(\"Nilai Aktual vs Nilai Prediksi\")\n",
        "plt.show()"
      ],
      "metadata": {
        "id": "FHpbf2d4QlzN"
      },
      "execution_count": null,
      "outputs": []
    },
    {
      "cell_type": "code",
      "source": [
        "6. Evaluasi model dengan menghitung metrik seperti R-squared, MSE, dan MAE. Tampilkan hasil evaluasi."
      ],
      "metadata": {
        "id": "5E-1YAlaQqCB"
      },
      "execution_count": null,
      "outputs": []
    },
    {
      "cell_type": "code",
      "source": [
        "from sklearn.metrics import mean_absolute_error, mean_squared_error, r2_score\n",
        "\n",
        "# Mean Absolute Error (MAE)\n",
        "mae = mean_absolute_error(y_test, y_pred)\n",
        "\n",
        "# Mean Squared Error (MSE)\n",
        "mse = mean_squared_error(y_test, y_pred)\n",
        "\n",
        "# Root Mean Squared Error (RMSE)\n",
        "rmse = np.sqrt(mse)\n",
        "\n",
        "# R-squared (R2) Score\n",
        "r2 = r2_score(y_test, y_pred)\n",
        "\n",
        "print(\"MAE:\", mae)\n",
        "print(\"MSE:\", mse)\n",
        "print(\"RMSE:\", rmse)\n",
        "print(\"R-squared:\", r2)"
      ],
      "metadata": {
        "id": "nMQVHzuKQx94"
      },
      "execution_count": null,
      "outputs": []
    },
    {
      "cell_type": "code",
      "source": [
        "MAE: 9016.00255819533\n",
        "MSE: 133189853.20376825\n",
        "RMSE: 11540.790839616158\n",
        "R-squared: 0.16301209866339939"
      ],
      "metadata": {
        "id": "hmwagbnLQy3J"
      },
      "execution_count": null,
      "outputs": []
    }
  ],
  "metadata": {
    "colab": {
      "name": "Selamat Datang di Colaboratory",
      "toc_visible": true,
      "provenance": []
    },
    "kernelspec": {
      "display_name": "Python 3",
      "name": "python3"
    }
  },
  "nbformat": 4,
  "nbformat_minor": 0
}