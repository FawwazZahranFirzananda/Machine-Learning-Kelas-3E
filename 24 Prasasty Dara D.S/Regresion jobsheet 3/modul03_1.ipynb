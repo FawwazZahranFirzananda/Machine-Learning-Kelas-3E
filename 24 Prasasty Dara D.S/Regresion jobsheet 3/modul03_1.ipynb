{
 "cells": [
  {
   "cell_type": "markdown",
   "metadata": {},
   "source": [
    "### Persiapan Data"
   ]
  },
  {
   "cell_type": "code",
   "execution_count": null,
   "metadata": {},
   "outputs": [],
   "source": [
    "# import package\n",
    "import numpy as np\n",
    "NumPy digunakan untuk melakukan operasi numerik yang efisien pada array dan matriks.\n",
    "import pandas as pd\n",
    "digunakan untuk analisis data dan manipulasi data tabular."
   ]
  },
  {
   "cell_type": "code",
   "execution_count": null,
   "metadata": {},
   "outputs": [],
   "source": [
    "# baca data\n",
    "data = pd.read_csv('dataset.csv')\n",
    "enggunakan Pandas untuk membaca data dari file CSV dengan nama 'dataset.csv'.\n",
    "data.head()\n",
    "digunakan untuk menampilkan lima baris pertama dari data tersebut.\n"
   ]
  },
  {
   "cell_type": "code",
   "execution_count": null,
   "metadata": {},
   "outputs": [],
   "source": [
    "# pemahaman terhadap data\n",
    "# ukuran data\n",
    "data.shape\n",
    "untuk mendapatkan bentuk (shape) dari DataFrame data.\n",
    "# info data\n",
    "data.info()\n",
    "untuk mendapatkan informasi tentang DataFrame data.\n",
    "# deskripsi data\n",
    "data.describe()\n",
    "menghasilkan statistik deskriptif tentang data dalam DataFrame data. "
   ]
  },
  {
   "cell_type": "markdown",
   "metadata": {},
   "source": [
    "### Visualisasi Data"
   ]
  },
  {
   "cell_type": "code",
   "execution_count": null,
   "metadata": {},
   "outputs": [],
   "source": [
    "# import library untuk visualisasi\n",
    "import matplotlib.pyplot as plt \n",
    "mengimpor library Matplotlib dengan alias plt. \n",
    "import seaborn as sns\n",
    "mengimpor library Seaborn dengan alias sns. "
   ]
  },
  {
   "cell_type": "code",
   "execution_count": null,
   "metadata": {},
   "outputs": [],
   "source": [
    "# operasi visualisasi\n",
    "sns.pairplot(data, x_vars=['Time on App', 'Time on Website','Length of Membership'],\n",
    "             y_vars='Yearly Amount Spent', size=4, aspect=1, kind='scatter')\n",
    "untuk membuat pair plot.\n",
    "plt.show()\n",
    "untuk menampilkan pair plot yang telah Anda buat menggunakan Seaborn."
   ]
  },
  {
   "cell_type": "code",
   "execution_count": null,
   "metadata": {},
   "outputs": [],
   "source": [
    "sns.heatmap(data.corr(), cmap=\"YlGnBu\", annot = True)\n",
    "perintah untuk membuat heatmap.\n",
    "plt.show()\n",
    "perintah untuk menampilkan heatmap yang telah Anda buat menggunakan Seaborn."
   ]
  },
  {
   "cell_type": "markdown",
   "metadata": {},
   "source": [
    "dari bentuk visualisasi di atas terlihat bahwa Length of Membership memiliki korelasi yang paling kuat terhadap Yearly Amount Spent"
   ]
  },
  {
   "cell_type": "markdown",
   "metadata": {},
   "source": [
    "### Regresi Linier"
   ]
  },
  {
   "cell_type": "code",
   "execution_count": null,
   "metadata": {},
   "outputs": [],
   "source": [
    "# Buat variabel bebas X dan Y, sebagai contoh ambil dari hasil analisis korelasi dari kegaitan sebelumnya\n",
    "X = data['Length of Membership']\n",
    "yang mengambil kolom 'Length of Membership' dari DataFrame data dan menyimpannya dalam variabel X. \n",
    "y = data['Yearly Amount Spent']\n",
    "yang mengambil kolom 'Yearly Amount Spent' dari DataFrame data dan menyimpannya dalam variabel y.\n",
    "X.head()\n",
    "yang digunakan untuk menampilkan lima baris pertama dari variabel X untuk melihat contoh data pertama dari kolom 'Length of Membership'."
   ]
  },
  {
   "cell_type": "code",
   "execution_count": null,
   "metadata": {},
   "outputs": [],
   "source": [
    "# Buat pemisahan data uji dan data latih dengan proporsi 7:3\n",
    "from sklearn.model_selection import train_test_split\n",
    "mengimpor fungsi train_test_split dari modul model_selection di scikit-learn. \n",
    "X_train, X_test, y_train, y_test = train_test_split(X, y, train_size = 0.7, \n",
    "penggunaan fungsi train_test_split untuk membagi data.                                                    \n",
    "                                                    test_size = 0.3, random_state = 100)\n",
    "Parameter ini menentukan ukuran data pengujian sebagai proporsi dari dataset keseluruhan, nilai sembarang yang digunakan sebagai seed untuk pengacakan.\n"
   ]
  },
  {
   "cell_type": "code",
   "execution_count": null,
   "metadata": {},
   "outputs": [],
   "source": [
    "# hasil training dtaset\n",
    "X_train\n",
    "Ini adalah variabel yang berisi data fitur atau variabel independen dari dataset pelatihan.\n",
    "y_train\n",
    "variabel yang berisi data target atau variabel dependen yang sesuai dengan data pelatihan.\n"
   ]
  },
  {
   "cell_type": "code",
   "execution_count": null,
   "metadata": {},
   "outputs": [],
   "source": [
    "# training model\n",
    "import statsmodels.api as sm\n",
    "Ini mengimpor modul api dari library StatsModels dan memberikan alias sm.\n",
    "X_train_sm = sm.add_constant(X_train)\n",
    "perintah yang menambahkan kolom konstanta ke variabel X_train."
   ]
  },
  {
   "cell_type": "code",
   "execution_count": null,
   "metadata": {},
   "outputs": [],
   "source": [
    "# fitting garis regresi\n",
    "lr = sm.OLS(y_train, X_train_sm).fit()\n",
    "perintah yang digunakan untuk menghitung model regresi linear. sm.\n",
    "lr.params\n",
    "yang digunakan untuk mendapatkan parameter-parameter model regresi setelah modelnya telah diestimasi."
   ]
  },
  {
   "cell_type": "code",
   "execution_count": null,
   "metadata": {},
   "outputs": [],
   "source": [
    "# analisis statistika dari garis regresi\n",
    "lr.summary()\n",
    "digunakan untuk menampilkan ringkasan statistik dari hasil regresi linear yang telah dihitung menggunakan library StatsModels."
   ]
  },
  {
   "cell_type": "code",
   "execution_count": null,
   "metadata": {},
   "outputs": [],
   "source": [
    "# visualisasi garis regresi\n",
    "plt.scatter(X_train, y_train)\n",
    "untuk membuat scatter plot dari data pelatihan.\n",
    "plt.plot(X_train, 265.2483 + 66.3015*X_train, 'r')\n",
    "untuk menambahkan garis regresi linear ke plot.\n",
    "plt.show()\n",
    "untuk menampilkan plot yang telah Anda buat."
   ]
  },
  {
   "cell_type": "markdown",
   "metadata": {},
   "source": [
    "### Residual Analysis\n",
    "dipakai untuk mengetahui tingkat error dari variabel yang dipengaruhi (y)\n",
    "\n",
    "Error = Actual y value - y predicted value"
   ]
  },
  {
   "cell_type": "code",
   "execution_count": null,
   "metadata": {},
   "outputs": [],
   "source": [
    "# prediksi y_value dari data x yang telah dilatih\n",
    "y_train_pred = lr.predict(X_train_sm)\n",
    "yang digunakan untuk melakukan prediksi nilai target (y_train) berdasarkan data fitur (X_train_sm) menggunakan model regresi linear yang telah dihitung sebelumnya (lr).\n",
    "res = (y_train - y_train_pred)\n",
    "yang digunakan untuk menghitung residu, yaitu selisih antara nilai target yang sebenarnya (y_train) dan nilai target yang telah diprediksi (y_train_pred)."
   ]
  },
  {
   "cell_type": "code",
   "execution_count": null,
   "metadata": {},
   "outputs": [],
   "source": [
    "# cek histogram apakah berdistribusi normal atau tidak\n",
    "fig = plt.figure()\n",
    "ntuk membuat objek gambar (figure) yang akan digunakan untuk menggambar plot.\n",
    "sns.distplot(res, bins = 15)\n",
    "yang digunakan untuk membuat histogram dari residu (res) menggunakan library Seaborn.\n",
    "plt.title('Error Terms', fontsize = 15)\n",
    "untuk menambahkan judul ke plot. Judulnya adalah \"Error Terms\" dengan ukuran font 15.\n",
    "plt.xlabel('y_train - y_train_pred', fontsize = 15)\n",
    "perintah untuk menambahkan label sumbu x ke plot. Labelnya adalah \"y_train - y_train_pred\" dengan ukuran font 15.\n",
    "plt.show()\n",
    "untuk menampilkan plot yang telah dibuat."
   ]
  },
  {
   "cell_type": "code",
   "execution_count": null,
   "metadata": {},
   "outputs": [],
   "source": [
    "plt.scatter(X_train,res)\n",
    "untuk membuat scatter plot.\n",
    "plt.show()\n",
    "untuk menampilkan plot yang telah Anda buat."
   ]
  },
  {
   "cell_type": "code",
   "execution_count": null,
   "metadata": {},
   "outputs": [],
   "source": [
    "# prediksi pada data uji dan evaluasi model\n",
    "X_test_sm = sm.add_constant(X_test)\n",
    "yang digunakan untuk menambahkan kolom konstanta ke data pengujian (X_test).\n",
    "# prediksi y value yang berkorelasi dengan X_test_sm\n",
    "y_test_pred = lr.predict(X_test_sm)\n",
    "digunakan untuk melakukan prediksi pada data pengujian (X_test) menggunakan model regresi linear yang telah dihitung sebelumnya (lr).\n",
    "# cetak 5 data terprediksi teratas\n",
    "y_test_pred.head()\n",
    "untuk menampilkan lima baris pertama dari nilai prediksi (y_test_pred) dari data pengujian."
   ]
  },
  {
   "cell_type": "code",
   "execution_count": null,
   "metadata": {},
   "outputs": [],
   "source": [
    "# hitung nilai r^2\n",
    "from sklearn.metrics import r2_score\n",
    "yang mengimpor fungsi r2_score dari library scikit-learn.\n",
    "r_squared = r2_score(y_test, y_test_pred)\n",
    "menghitung R-squared, Anda memberikan y_test sebagai nilai aktual (data target yang sebenarnya) dan y_test_pred sebagai nilai prediksi (hasil prediksi model) sebagai argumen.\n",
    "r_squared\n",
    "variabel yang berisi nilai R-squared antara nilai aktual dan nilai prediksi pada data pengujian."
   ]
  },
  {
   "cell_type": "markdown",
   "metadata": {},
   "source": [
    "perlu diperhatikan bahwa r^2 dari data trainign adalah 0.669 sedangkan dari data testing adalah 0,612. Hal ini berarti model yang dibentuk cukup stabil (tidak berselisih jauh antara training dengan testing)"
   ]
  },
  {
   "cell_type": "code",
   "execution_count": null,
   "metadata": {},
   "outputs": [],
   "source": [
    "# visualisasi data\n",
    "plt.scatter(X_test, y_test)\n",
    "untuk membuat scatter plot dari data pengujian.\n",
    "plt.plot(X_test, y_test_pred, 'r')\n",
    "untuk menambahkan garis plot hasil prediksi (y_test_pred) ke plot.\n",
    "plt.show()\n",
    "perintah untuk menampilkan plot yang telah Anda buat."
   ]
  },
  {
   "cell_type": "code",
   "execution_count": null,
   "metadata": {},
   "outputs": [],
   "source": [
    "PRAKTIKUM DASAR TEORI"
   ]
  },
  {
   "cell_type": "code",
   "execution_count": null,
   "metadata": {},
   "outputs": [
    {
     "ename": "",
     "evalue": "",
     "output_type": "error",
     "traceback": [
      "\u001b[1;31mFailed to start the Kernel. \n",
      "\u001b[1;31mUnable to start Kernel 'anaconda3 (Python 3.11.4)' due to a timeout waiting for the ports to get used. \n",
      "\u001b[1;31mView Jupyter <a href='command:jupyter.viewOutput'>log</a> for further details."
     ]
    }
   ],
   "source": [
    "import numpy as np\n",
    "import matplotlib.pyplot as plt\n",
    "\n",
    "# Data\n",
    "diameter_pizza = np.array([6, 8, 10, 14, 18])\n",
    "harga_pizza = np.array([7, 9, 13, 17.5, 18])\n",
    "\n",
    "# Estimasi parameter\n",
    "beta_0 = 1.82\n",
    "beta_1 = 0.974\n",
    "\n",
    "# Model regresi\n",
    "harga_prediksi = beta_0 + beta_1 * diameter_pizza\n",
    "\n",
    "# Membuat plot\n",
    "plt.scatter(diameter_pizza, harga_pizza, label='Data Asli')\n",
    "plt.plot(diameter_pizza, harga_prediksi, color='red', label='Model Regresi')\n",
    "plt.xlabel('Diameter Pizza (inci)')\n",
    "plt.ylabel('Harga Pizza (dolar)')\n",
    "plt.title('Simple Linear Regression: Hubungan Diameter Pizza dengan Harga Pizza')\n",
    "plt.legend()\n",
    "plt.grid(True)\n",
    "plt.show()"
   ]
  },
  {
   "cell_type": "code",
   "execution_count": null,
   "metadata": {},
   "outputs": [],
   "source": [
    "import numpy as np\n",
    "\n",
    "# Data\n",
    "harga_pizza_asli = np.array([7, 9, 13, 17.5, 18])\n",
    "harga_pizza_prediksi = np.array([1.82 + 0.974 * 6, 1.82 + 0.974 * 8, 1.82 + 0.974 * 10, 1.82 + 0.974 * 14, 1.82 + 0.974 * 18])\n",
    "\n",
    "# Menghitung RSS\n",
    "RSS = np.sum((harga_pizza_asli - harga_pizza_prediksi) ** 2)\n",
    "print(\"RSS:\", RSS)"
   ]
  },
  {
   "cell_type": "code",
   "execution_count": null,
   "metadata": {},
   "outputs": [],
   "source": [
    "import numpy as np\n",
    "from sklearn.metrics import mean_absolute_error, mean_squared_error\n",
    "\n",
    "# Data\n",
    "harga_pizza_asli = np.array([7, 9, 13, 17.5, 18])\n",
    "diameter_pizza = np.array([6, 8, 10, 14, 18])\n",
    "\n",
    "# Estimasi parameter\n",
    "beta_0 = 1.82\n",
    "beta_1 = 0.974\n",
    "\n",
    "# Prediksi harga pizza\n",
    "harga_pizza_prediksi = beta_0 + beta_1 * diameter_pizza\n",
    "\n",
    "# Menghitung RSS (Residual Sum of Squares)\n",
    "RSS = np.sum((harga_pizza_asli - harga_pizza_prediksi) ** 2)\n",
    "\n",
    "# Menghitung TSS (Total Sum of Squares)\n",
    "TSS = np.sum((harga_pizza_asli - np.mean(harga_pizza_asli)) ** 2)\n",
    "\n",
    "# Menghitung R-squared (R2)\n",
    "R2 = 1 - (RSS / TSS)\n",
    "\n",
    "# Menampilkan predicted price in dollar\n",
    "print(\"Predicted Price in Dollar:\", harga_pizza_prediksi)\n",
    "\n",
    "# Menghitung MAE (Mean Absolute Error)\n",
    "mae = mean_absolute_error(harga_pizza_asli, harga_pizza_prediksi)\n",
    "\n",
    "# Menghitung MSE (Mean Squared Error)\n",
    "mse = mean_squared_error(harga_pizza_asli, harga_pizza_prediksi)\n",
    "\n",
    "print(\"Residual Sum of Squares (RSS)\", RSS)\n",
    "print(\"Total Sum of Squares (TSS)\", TSS)\n",
    "print(\"R-squared (R2):\", R2)\n",
    "print(\"MAE (Mean Absolute Error):\", mae)\n",
    "print(\"MSE (Mean Squared Error):\", mse)"
   ]
  },
  {
   "cell_type": "code",
   "execution_count": null,
   "metadata": {},
   "outputs": [],
   "source": [
    "import numpy as np\n",
    "from sklearn.linear_model import LinearRegression\n",
    "from sklearn.metrics import r2_score\n",
    "\n",
    "# Data training\n",
    "X_train = np.array([\n",
    "    [6, 2],\n",
    "    [8, 1],\n",
    "    [10, 0],\n",
    "    [14, 2],\n",
    "    [18, 3]\n",
    "])\n",
    "y_train = np.array([7, 9, 13, 17.5, 18])\n",
    "\n",
    "# Data testing\n",
    "X_test = np.array([\n",
    "    [8, 2],\n",
    "    [9, 0],\n",
    "    [11, 2],\n",
    "    [16, 2],\n",
    "    [12, 0]\n",
    "])\n",
    "y_test = np.array([11, 8.5, 15, 18, 11])\n",
    "\n",
    "# Inisialisasi model Linear Regression\n",
    "model = LinearRegression()\n",
    "\n",
    "# Melatih model dengan data training\n",
    "model.fit(X_train, y_train)\n",
    "\n",
    "# Melakukan prediksi dengan data testing\n",
    "y_pred = model.predict(X_test)\n",
    "\n",
    "# Menghitung R-squared (R2) dari model terlatih\n",
    "r2 = r2_score(y_test, y_pred)\n",
    "\n",
    "# Menampilkan hasil prediksi dan nilai target\n",
    "print(\"Hasil Prediksi Harga Pizza:\")\n",
    "for i in range(len(y_pred)):\n",
    "    print(f\"Data Test {i + 1}: Prediksi ${y_pred[i]:.2f}, Target ${y_test[i]:.2f}\")\n",
    "\n",
    "# Menampilkan nilai R-squared\n",
    "print(f\"\\nR-squared (R2): {r2:.2f}\")"
   ]
  },
  {
   "cell_type": "code",
   "execution_count": null,
   "metadata": {},
   "outputs": [],
   "source": [
    "import numpy as np\n",
    "import matplotlib.pyplot as plt\n",
    "from sklearn.preprocessing import PolynomialFeatures\n",
    "from sklearn.linear_model import LinearRegression\n",
    "from sklearn.metrics import r2_score\n",
    "\n",
    "# Data training\n",
    "X_train = np.array([\n",
    "    [6, 2],\n",
    "    [8, 1],\n",
    "    [10, 0],\n",
    "    [14, 2],\n",
    "    [18, 3]\n",
    "])\n",
    "y_train = np.array([7, 9, 13, 17.5, 18])\n",
    "\n",
    "# Data testing\n",
    "X_test = np.array([\n",
    "    [8, 2],\n",
    "    [9, 0],\n",
    "    [11, 2],\n",
    "    [16, 2],\n",
    "    [12, 0]\n",
    "])\n",
    "y_test = np.array([11, 8.5, 15, 18, 11])\n",
    "\n",
    "# Inisialisasi model Linear Regression\n",
    "model = LinearRegression()\n",
    "\n",
    "# Membentuk polinomial fitur\n",
    "poly = PolynomialFeatures(degree=2)  # Ganti degree sesuai dengan derajat polinomial yang diinginkan\n",
    "X_train_poly = poly.fit_transform(X_train)\n",
    "X_test_poly = poly.transform(X_test)\n",
    "\n",
    "# Melatih model dengan data training\n",
    "model.fit(X_train_poly, y_train)\n",
    "\n",
    "# Melakukan prediksi dengan data testing\n",
    "y_pred = model.predict(X_test_poly)\n",
    "\n",
    "# Menghitung R-squared (R2) dari model terlatih\n",
    "r2 = r2_score(y_test, y_pred)\n",
    "\n",
    "# Plot hasil regresi\n",
    "plt.scatter(X_test[:, 0], y_test, color='blue', label='Data Testing')\n",
    "plt.scatter(X_test[:, 0], y_pred, color='red', label='Prediksi')\n",
    "plt.title('Grafik Polynomial Regression')\n",
    "plt.xlabel('Diameter Pizza (inci)')\n",
    "plt.ylabel('Harga Pizza (dolar)')\n",
    "plt.legend()\n",
    "plt.show()\n",
    "\n",
    "# Menampilkan nilai R-squared\n",
    "print(f\"R-squared (R2): {r2:.2f}\")\n"
   ]
  }
 ],
 "metadata": {
  "kernelspec": {
   "display_name": "Python 3.7.6 ('base')",
   "language": "python",
   "name": "python3"
  },
  "language_info": {
   "codemirror_mode": {
    "name": "ipython",
    "version": 3
   },
   "file_extension": ".py",
   "mimetype": "text/x-python",
   "name": "python",
   "nbconvert_exporter": "python",
   "pygments_lexer": "ipython3",
   "version": "0.0.0"
  },
  "orig_nbformat": 4,
  "vscode": {
   "interpreter": {
    "hash": "7e96b86f03d7d42bb76aac26192874394f42efe9d96b48d22368bab7dabddb55"
   }
  }
 },
 "nbformat": 4,
 "nbformat_minor": 2
}
