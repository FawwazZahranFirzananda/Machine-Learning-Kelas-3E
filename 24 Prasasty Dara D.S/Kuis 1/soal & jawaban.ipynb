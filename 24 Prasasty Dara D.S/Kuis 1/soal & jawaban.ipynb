{
  "cells": [
    {
      "cell_type": "code",
      "source": [
        "Kasus - Klasifikasi Tulisan Tangan dengan Dataset MNIST\n",
        "\n",
        "Deskripsi Umum\n",
        "Anda diminta untuk melakukan klasifikasi dengan menggunakan algoritma Naive Bayes dan SVM untuk merekognisi tulisan tangan dari dataset MNIST\n",
        "\n",
        "Tentang Dataset MNIST\n",
        "Dataset MNIST (Modified National Institute of Standards and Technology) merupakan dataset berupa citra grayscale dengan ukuran 28x28 yang berisi tulisan tangan dari digit angka 0-9. Jumlah data dalam dataset ini adalah 70.000 data.\n",
        "\n",
        "Detail Kuis\n",
        "\n",
        "1. Pastikan jumlah data setiap label angka (0-9). Apakah terdapat data imbalance pada dataset MNIST yang digunakan? Jelaskan jawaban kelompok Anda dan buktikan!\n",
        "\n",
        "2. Tampilkan 15 buah citra pertama dari dataset MNIST berserta labelnya. Anda dapat menggunakan referensi dari Job Sheet 03.\n",
        "\n",
        "3. Lakukan proses ekstraksi fitur pada data MNIST. Pada proses ini, Anda diperbolehkan untuk\n",
        "-Langsung menggunakan nilai asli dari citra (nilai asli setiap pixel dari dataset) sebagai fitur.\n",
        "-Melakukan ekstraksi fitur lain seperti histogram, PCA, atau yang lainnya. Anda diperbolehkan melakukan ekspolarasi pada proses ini.\n",
        "\n",
        "4. Buatlah data training dan data testing menggunakan rasio 70:30, 80:20, 90:10.\n",
        "\n",
        "5. Lakukan proses klasifikasi dengan menggunakan algoritma Naive Bayes dan SVM.\n",
        "-Anda diperbolehkan untuk melakukan tunning parameter.\n",
        "-Anda diperbolehkan mengeksplorasi jenis kernel yang digunakan pada SVM.\n",
        "\n",
        "6. Evaluasi model yang Anda buat terhadap data training dan data testing.\n",
        "-Gunakan metric accuracy untuk mengetahui tingkat akurasi data training dan data testing.\n",
        "-Gunakan fungsi classification_report untuk mengetahui performa model secara holistik.\n",
        "-Gunakan confusion matrix untuk mengetahui tingkat ketepatan pelabelan.\n",
        "\n",
        "7. Tampilkan citra data testing berserta hasil pelabelannya. Anda dapat menggunakan Job Sheet 03 sebagai acuan.\n",
        "\n",
        "8. Apa model terbaik yang Anda dapatkan? Bagaimana konfigurasinya? Berapa tingkat akurasi yang didapatkan? Jelaskan!"
      ],
      "metadata": {
        "id": "WKJ5jYEGZmca"
      },
      "execution_count": null,
      "outputs": []
    },
    {
      "cell_type": "code",
      "source": [
        "# Import libraries\n",
        "import numpy as np\n",
        "import matplotlib.pyplot as plt\n",
        "\n",
        "from sklearn.datasets import fetch_openml\n",
        "from sklearn.svm import SVC\n",
        "from sklearn.preprocessing import MinMaxScaler\n",
        "from sklearn.model_selection import train_test_split\n",
        "from sklearn.metrics import accuracy_score, classification_report, confusion_matrix\n",
        "from sklearn.datasets import fetch_openml\n",
        "from sklearn.decomposition import PCA\n",
        "from sklearn.model_selection import GridSearchCV\n",
        "from sklearn.pipeline import make_pipeline"
      ],
      "metadata": {
        "id": "OoHJad2HcAM6"
      },
      "execution_count": 1,
      "outputs": []
    },
    {
      "cell_type": "code",
      "source": [
        "# Unduh Dataset MNIST\n",
        "mnist = fetch_openml('mnist_784', version=1, as_frame=False)\n",
        "print(mnist.DESCR)"
      ],
      "metadata": {
        "id": "kgufL-QvcO5f",
        "outputId": "3370f5c8-14e0-4813-afe9-31c6910ce2ee",
        "colab": {
          "base_uri": "https://localhost:8080/"
        }
      },
      "execution_count": 2,
      "outputs": [
        {
          "output_type": "stream",
          "name": "stderr",
          "text": [
            "/usr/local/lib/python3.10/dist-packages/sklearn/datasets/_openml.py:968: FutureWarning: The default value of `parser` will change from `'liac-arff'` to `'auto'` in 1.4. You can set `parser='auto'` to silence this warning. Therefore, an `ImportError` will be raised from 1.4 if the dataset is dense and pandas is not installed. Note that the pandas parser may return different data types. See the Notes Section in fetch_openml's API doc for details.\n",
            "  warn(\n"
          ]
        },
        {
          "output_type": "stream",
          "name": "stdout",
          "text": [
            "**Author**: Yann LeCun, Corinna Cortes, Christopher J.C. Burges  \n",
            "**Source**: [MNIST Website](http://yann.lecun.com/exdb/mnist/) - Date unknown  \n",
            "**Please cite**:  \n",
            "\n",
            "The MNIST database of handwritten digits with 784 features, raw data available at: http://yann.lecun.com/exdb/mnist/. It can be split in a training set of the first 60,000 examples, and a test set of 10,000 examples  \n",
            "\n",
            "It is a subset of a larger set available from NIST. The digits have been size-normalized and centered in a fixed-size image. It is a good database for people who want to try learning techniques and pattern recognition methods on real-world data while spending minimal efforts on preprocessing and formatting. The original black and white (bilevel) images from NIST were size normalized to fit in a 20x20 pixel box while preserving their aspect ratio. The resulting images contain grey levels as a result of the anti-aliasing technique used by the normalization algorithm. the images were centered in a 28x28 image by computing the center of mass of the pixels, and translating the image so as to position this point at the center of the 28x28 field.  \n",
            "\n",
            "With some classification methods (particularly template-based methods, such as SVM and K-nearest neighbors), the error rate improves when the digits are centered by bounding box rather than center of mass. If you do this kind of pre-processing, you should report it in your publications. The MNIST database was constructed from NIST's NIST originally designated SD-3 as their training set and SD-1 as their test set. However, SD-3 is much cleaner and easier to recognize than SD-1. The reason for this can be found on the fact that SD-3 was collected among Census Bureau employees, while SD-1 was collected among high-school students. Drawing sensible conclusions from learning experiments requires that the result be independent of the choice of training set and test among the complete set of samples. Therefore it was necessary to build a new database by mixing NIST's datasets.  \n",
            "\n",
            "The MNIST training set is composed of 30,000 patterns from SD-3 and 30,000 patterns from SD-1. Our test set was composed of 5,000 patterns from SD-3 and 5,000 patterns from SD-1. The 60,000 pattern training set contained examples from approximately 250 writers. We made sure that the sets of writers of the training set and test set were disjoint. SD-1 contains 58,527 digit images written by 500 different writers. In contrast to SD-3, where blocks of data from each writer appeared in sequence, the data in SD-1 is scrambled. Writer identities for SD-1 is available and we used this information to unscramble the writers. We then split SD-1 in two: characters written by the first 250 writers went into our new training set. The remaining 250 writers were placed in our test set. Thus we had two sets with nearly 30,000 examples each. The new training set was completed with enough examples from SD-3, starting at pattern # 0, to make a full set of 60,000 training patterns. Similarly, the new test set was completed with SD-3 examples starting at pattern # 35,000 to make a full set with 60,000 test patterns. Only a subset of 10,000 test images (5,000 from SD-1 and 5,000 from SD-3) is available on this site. The full 60,000 sample training set is available.\n",
            "\n",
            "Downloaded from openml.org.\n"
          ]
        }
      ]
    },
    {
      "cell_type": "code",
      "source": [
        "# Menampilkan keys pada data\n",
        "mnist.keys()"
      ],
      "metadata": {
        "id": "PM3idkBicPTS",
        "outputId": "a13ad424-ef82-4cb7-e775-9493f8f00a6b",
        "colab": {
          "base_uri": "https://localhost:8080/"
        }
      },
      "execution_count": 3,
      "outputs": [
        {
          "output_type": "execute_result",
          "data": {
            "text/plain": [
              "dict_keys(['data', 'target', 'frame', 'categories', 'feature_names', 'target_names', 'DESCR', 'details', 'url'])"
            ]
          },
          "metadata": {},
          "execution_count": 3
        }
      ]
    },
    {
      "cell_type": "code",
      "source": [
        "1. Pastikan jumlah data setiap label angka (0-9). Apakah terdapat data imbalance pada dataset MNIST yang digunakan? Jelaskan jawaban kelompok Anda dan buktikan!\n",
        "Jawaban :"
      ],
      "metadata": {
        "id": "CXuugrTTc5m3"
      },
      "execution_count": null,
      "outputs": []
    },
    {
      "cell_type": "code",
      "source": [
        "# Menghitung jumlah data untuk setiap label (0-9)\n",
        "label_counts = np.bincount(mnist.target.astype(int))\n",
        "\n",
        "# Menampilkan jumlah data untuk setiap label (0-9)\n",
        "for i in range(10):\n",
        "    print(f\"Data Count for Label {i}: {label_counts[i]}\")\n",
        "\n",
        "# Visualisasi distribusi jumlah data per label\n",
        "plt.bar(range(10), label_counts, tick_label=range(10), color='black')  # Menambahkan argumen color='black')\n",
        "plt.xlabel('Digits')\n",
        "plt.ylabel('Sum of Data')\n",
        "plt.title('Distribution the number of Data per Label')\n",
        "plt.show()"
      ],
      "metadata": {
        "id": "Mq4FCeqedAq7",
        "outputId": "51657611-b28f-490f-8fb9-d28991b13a3a",
        "colab": {
          "base_uri": "https://localhost:8080/",
          "height": 646
        }
      },
      "execution_count": 4,
      "outputs": [
        {
          "output_type": "stream",
          "name": "stdout",
          "text": [
            "Data Count for Label 0: 6903\n",
            "Data Count for Label 1: 7877\n",
            "Data Count for Label 2: 6990\n",
            "Data Count for Label 3: 7141\n",
            "Data Count for Label 4: 6824\n",
            "Data Count for Label 5: 6313\n",
            "Data Count for Label 6: 6876\n",
            "Data Count for Label 7: 7293\n",
            "Data Count for Label 8: 6825\n",
            "Data Count for Label 9: 6958\n"
          ]
        },
        {
          "output_type": "display_data",
          "data": {
            "text/plain": [
              "<Figure size 640x480 with 1 Axes>"
            ],
            "image/png": "[encoded data removed]"
          },
          "metadata": {}
        }
      ]
    },
    {
      "cell_type": "code",
      "source": [
        "Berdasarakan hasil perhitungan dan visualisasi, dapat dilihat bahwa data label dari dataset MNIST terbilang seimbang. Hal ini dapat dilihat dari jumlah dari masing-masing data yang tidak ada perbedaan yang terlalu signifikan."
      ],
      "metadata": {
        "id": "sThfDwk6dU6r"
      },
      "execution_count": null,
      "outputs": []
    },
    {
      "cell_type": "code",
      "source": [
        "2. Tampilkan 15 buah citra pertama dari dataset MNIST berserta labelnya. Anda dapat\n",
        "menggunakan referensi dari Job Sheet 03.\n",
        "Jawaban :"
      ],
      "metadata": {
        "id": "ZXBv3wtsdc7Q"
      },
      "execution_count": null,
      "outputs": []
    },
    {
      "cell_type": "code",
      "source": [
        "# Mengambil data dan label\n",
        "X, y = mnist.data, mnist.target"
      ],
      "metadata": {
        "id": "SUwgi3Rkdm2D"
      },
      "execution_count": 5,
      "outputs": []
    },
    {
      "cell_type": "code",
      "source": [
        "# Menampilkan 15 citra pertama berserta labelnya\n",
        "plt.figure(figsize=(12, 6))\n",
        "for i in range(15):\n",
        "    plt.subplot(3, 5, i + 1)\n",
        "    plt.imshow(X[i].reshape(28, 28), cmap=\"gray\")\n",
        "    plt.title(f\"Label: {y[i]}\")\n",
        "    plt.axis(\"off\")\n",
        "plt.show()"
      ],
      "metadata": {
        "id": "EG1VQTUId44R",
        "outputId": "af1dafa9-29c8-460d-d424-c25c2810efc8",
        "colab": {
          "base_uri": "https://localhost:8080/",
          "height": 521
        }
      },
      "execution_count": 6,
      "outputs": [
        {
          "output_type": "display_data",
          "data": {
            "text/plain": [
              "<Figure size 1200x600 with 15 Axes>"
            ],
            "image/png": "[encoded data removed]"
          },
          "metadata": {}
        }
      ]
    },
    {
      "cell_type": "code",
      "source": [
        "3. Lakukan proses ekstraksi fitur pada data MNIST. Pada proses ini, Anda diperbolehkan untuk\n",
        "-Langsung menggunakan nilai asli dari citra (nilai asli setiap pixel dari dataset) sebagai fitur.\n",
        "-Melakukan ekstraksi fitur lain seperti histogram, PCA, atau yang lainnya. Anda diperbolehkan melakukan ekspolarasi pada proses ini.\n",
        "Jawaban :"
      ],
      "metadata": {
        "id": "dASqJ0kleK2R"
      },
      "execution_count": null,
      "outputs": []
    },
    {
      "cell_type": "code",
      "source": [
        "# Mendefinisikan PCA untuk ekstraksi fitur\n",
        "pca = PCA(n_components=50)\n",
        "X_pca = pca.fit_transform(X)"
      ],
      "metadata": {
        "id": "nTWtjK8ReZYO"
      },
      "execution_count": 7,
      "outputs": []
    },
    {
      "cell_type": "code",
      "source": [
        "# Skala Data\n",
        "scaler = MinMaxScaler()\n",
        "X_scaled = scaler.fit_transform(X)\n",
        "print(X_scaled)"
      ],
      "metadata": {
        "id": "xLNvZZ_Cehq1",
        "outputId": "1957e0fa-9f0d-47a0-a5cc-bc02c2c1866c",
        "colab": {
          "base_uri": "https://localhost:8080/"
        }
      },
      "execution_count": 8,
      "outputs": [
        {
          "output_type": "stream",
          "name": "stdout",
          "text": [
            "[[0. 0. 0. ... 0. 0. 0.]\n",
            " [0. 0. 0. ... 0. 0. 0.]\n",
            " [0. 0. 0. ... 0. 0. 0.]\n",
            " ...\n",
            " [0. 0. 0. ... 0. 0. 0.]\n",
            " [0. 0. 0. ... 0. 0. 0.]\n",
            " [0. 0. 0. ... 0. 0. 0.]]\n"
          ]
        }
      ]
    },
    {
      "cell_type": "code",
      "source": [
        "4. Buatlah data training dan data testing menggunakan rasio 70:30, 80:20, 90:10.\n",
        "Jawaban :"
      ],
      "metadata": {
        "id": "9eOQKcZpesKU"
      },
      "execution_count": null,
      "outputs": []
    },
    {
      "cell_type": "code",
      "source": [
        "X_train, X_test, y_train, y_test = train_test_split(X_scaled, y, test_size=0.3, random_state=42)\n",
        "X_train, X_test, y_train, y_test = train_test_split(X_scaled, y, test_size=0.2, random_state=42)\n",
        "X_train, X_test, y_train, y_test = train_test_split(X_scaled, y, test_size=0.1, random_state=42)"
      ],
      "metadata": {
        "id": "QItmgOrxesWJ"
      },
      "execution_count": 9,
      "outputs": []
    },
    {
      "cell_type": "code",
      "source": [
        "5. Lakukan proses klasifikasi dengan menggunakan algoritma Naive Bayes dan SVM.\n",
        "-Anda diperbolehkan untuk melakukan tunning parameter.\n",
        "-Anda diperbolehkan mengeksplorasi jenis kernel yang digunakan pada SVM.\n",
        "Jawaban :"
      ],
      "metadata": {
        "id": "G_YlBORqe95o"
      },
      "execution_count": null,
      "outputs": []
    },
    {
      "cell_type": "code",
      "source": [
        "# Tunning Paramater\n",
        "def train_model(model,param_grid,X,y):\n",
        "  grid = GridSearchCV(model, param_grid,n_jobs=-1)\n",
        "  %time grid.fit(X,y)\n",
        "  print(grid.best_params_)\n",
        "  print(grid.best_score_)\n",
        "\n",
        "  model = grid.best_estimator_\n",
        "  return model"
      ],
      "metadata": {
        "id": "JqhOdQWffIpa"
      },
      "execution_count": 10,
      "outputs": []
    },
    {
      "cell_type": "code",
      "source": [
        "# Membuat model SVM\n",
        "svc = SVC(kernel='rbf', class_weight='balanced')\n",
        "model = make_pipeline(pca, svc)"
      ],
      "metadata": {
        "id": "s1cTPPxHfmD8"
      },
      "execution_count": 11,
      "outputs": []
    },
    {
      "cell_type": "code",
      "source": [
        "6. Evaluasi model yang Anda buat terhadap data training dan data testing.\n",
        "-Gunakan metric accuracy untuk mengetahui tingkat akurasi data training dan data testing.\n",
        "-Gunakan fungsi classification_report untuk mengetahui performa model secara holistik.\n",
        "-Gunakan confusion matrix untuk mengetahui tingkat ketepatan pelabelan.\n",
        "Jawaban :"
      ],
      "metadata": {
        "id": "3uC7iJvJfs5i"
      },
      "execution_count": null,
      "outputs": []
    },
    {
      "cell_type": "code",
      "source": [
        "# Evaluasi performa model\n",
        "def evaluate_model(y_true, y_pred, label):\n",
        "    acc = accuracy_score(y_true, y_pred)\n",
        "    print(f\"{label} Accuracy: {acc} = {acc * 100:.2f}%\")\n",
        "    print(f\"{label} Classification Report:\\n{classification_report(y_true, y_pred)}\")\n",
        "    print(f\"{label} Confusion Matrix:\\n{confusion_matrix(y_true, y_pred)}\")"
      ],
      "metadata": {
        "id": "ZCBb3lA6f6Aq"
      },
      "execution_count": 12,
      "outputs": []
    },
    {
      "cell_type": "code",
      "source": [
        "# Visualisasi hasil prediksi model\n",
        "def show_prediction(X,y,pred):\n",
        "\n",
        "  # Inisialisasi label yang benar (ground truth) dan label prediksi\n",
        "  true_labels = y\n",
        "  predicted_labels = pred\n",
        "\n",
        "  # Menampilkan citra dari data testing dengan label benar dan label prediksi\n",
        "  plt.figure(figsize=(12, 6))\n",
        "  for i in range(30):\n",
        "      plt.subplot(6, 5, i + 1)\n",
        "      plt.imshow(X[i].reshape(28, 28), cmap=\"gray\")\n",
        "\n",
        "      # Tentukan warna teks berdasarkan benar atau salah\n",
        "      if true_labels[i] == predicted_labels[i]:\n",
        "          text_color = 'black'  # Jika prediksi benar, teks berwarna hitam\n",
        "      else:\n",
        "          text_color = 'red'  # Jika prediksi salah, teks berwarna merah\n",
        "\n",
        "      plt.title(f\"True: {true_labels[i]}\\nPred: {predicted_labels[i]}\", color=text_color)\n",
        "      plt.axis(\"off\")\n",
        "  plt.tight_layout()\n",
        "  plt.show()"
      ],
      "metadata": {
        "id": "FKRBb1L5gCHb"
      },
      "execution_count": 13,
      "outputs": []
    },
    {
      "cell_type": "code",
      "source": [
        "7. Tampilkan citra data testing berserta hasil pelabelannya. Anda dapat menggunakan Job Sheet\n",
        "03 sebagai acuan.\n",
        "Jawaban :"
      ],
      "metadata": {
        "id": "mN0ViiAFgaSR"
      },
      "execution_count": null,
      "outputs": []
    },
    {
      "cell_type": "code",
      "source": [
        "param_grid = {'svc__C': [5],\n",
        "              'svc__gamma': [0.05],\n",
        "              'pca__n_components': [50]}\n",
        "trained_model = train_model(model,param_grid,X_train,y_train)\n",
        "y_pred=trained_model.predict(X_test)\n",
        "evaluate_model(y_test,y_pred,\"SVM | scaled | PCA | 7:3\")"
      ],
      "metadata": {
        "id": "ot3uIaHHiyT8"
      },
      "execution_count": null,
      "outputs": []
    },
    {
      "cell_type": "code",
      "source": [
        "X_train, X_test, y_train, y_test = train_test_split(X_scaled, y, test_size=0.3, random_state=42)"
      ],
      "metadata": {
        "id": "IYVi9IOYhGcp"
      },
      "execution_count": 14,
      "outputs": []
    },
    {
      "cell_type": "code",
      "source": [
        "X_train, X_test, y_train, y_test = train_test_split(X_scaled, y, test_size=0.2, random_state=42)"
      ],
      "metadata": {
        "id": "U5gls4gZi6De"
      },
      "execution_count": 18,
      "outputs": []
    },
    {
      "cell_type": "code",
      "source": [
        "param_grid = {'svc__C': [5],\n",
        "              'svc__gamma': [0.05],\n",
        "              'pca__n_components': [50]}\n",
        "trained_model = train_model(model,param_grid,X_train,y_train)\n",
        "y_pred=trained_model.predict(X_test)\n",
        "evaluate_model(y_test,y_pred,\"SVM | scaled | PCA | 8:2\")"
      ],
      "metadata": {
        "id": "OJ_jfSDBjTy6"
      },
      "execution_count": null,
      "outputs": []
    },
    {
      "cell_type": "code",
      "source": [
        "show_prediction(X_test,y_test,y_pred)"
      ],
      "metadata": {
        "id": "4Dxomas_jc-U"
      },
      "execution_count": null,
      "outputs": []
    },
    {
      "cell_type": "code",
      "source": [
        "X_train, X_test, y_train, y_test = train_test_split(X_scaled, y, test_size=0.1, random_state=42)"
      ],
      "metadata": {
        "id": "edeJAEQMje_n"
      },
      "execution_count": 21,
      "outputs": []
    },
    {
      "cell_type": "code",
      "source": [
        "param_grid = {'svc__C': [5],\n",
        "              'svc__gamma': [0.05],\n",
        "              'pca__n_components': [50]}\n",
        "trained_model = train_model(model,param_grid,X_train,y_train)\n",
        "y_pred=trained_model.predict(X_test)\n",
        "evaluate_model(y_test,y_pred,\"SVM | scaled | PCA | 9:1\")"
      ],
      "metadata": {
        "id": "VoIfZCFljzjK"
      },
      "execution_count": null,
      "outputs": []
    },
    {
      "cell_type": "code",
      "source": [
        "show_prediction(X_test,y_test,y_pred)"
      ],
      "metadata": {
        "id": "Iu88RAgGj0zH"
      },
      "execution_count": null,
      "outputs": []
    },
    {
      "cell_type": "code",
      "source": [
        "8. Apa model terbaik yang Anda dapatkan? Bagaimana konfigurasinya? Berapa tingkat akurasi\n",
        "yang didapatkan? Jelaskan!\n",
        "Jawaban :\n",
        "Konfigurasi Model:\n",
        "\n",
        "Model yang di gunakan adalah SVM, data fitur di scalling dengan Min-Max Scalling, ekstraksi fitur menggunakan 50 komponen utama.\n",
        "Parameter:\n",
        "\n",
        "Parameter c untuk SVM diatur ke 5, parameter gamma diatur ke 0.05\n",
        "Tingkat Akurasi:\n",
        "\n",
        "Rasio 70:30\n",
        "\n",
        "Akurasi 98.54%\n",
        "Rasio 80:20\n",
        "\n",
        "Akurasi 98.58%\n",
        "Rasio 90:10\n",
        "\n",
        "Akurasi 98.64%"
      ],
      "metadata": {
        "id": "M96SelKpj03G"
      },
      "execution_count": null,
      "outputs": []
    },
    {
      "cell_type": "code",
      "source": [
        "SVM Linear Kernel Non Hyper\n",
        "Parameter Tunning"
      ],
      "metadata": {
        "id": "FrM8eybgkBbM"
      },
      "execution_count": null,
      "outputs": []
    },
    {
      "cell_type": "code",
      "source": [
        "import numpy as np\n",
        "import matplotlib.pyplot as plt\n",
        "from sklearn.datasets import fetch_openml\n",
        "import pandas as pd"
      ],
      "metadata": {
        "id": "20BZtQivlQ2y"
      },
      "execution_count": 23,
      "outputs": []
    },
    {
      "cell_type": "code",
      "source": [
        "# Mengunduh dataset MNIST\n",
        "mnist = fetch_openml('mnist_784', version=1)\n",
        ""
      ],
      "metadata": {
        "id": "U9Q7ph22mQgA",
        "outputId": "67edda25-fbbc-4513-d3b0-970426ff4fa2",
        "colab": {
          "base_uri": "https://localhost:8080/"
        }
      },
      "execution_count": 24,
      "outputs": [
        {
          "output_type": "stream",
          "name": "stderr",
          "text": [
            "/usr/local/lib/python3.10/dist-packages/sklearn/datasets/_openml.py:968: FutureWarning: The default value of `parser` will change from `'liac-arff'` to `'auto'` in 1.4. You can set `parser='auto'` to silence this warning. Therefore, an `ImportError` will be raised from 1.4 if the dataset is dense and pandas is not installed. Note that the pandas parser may return different data types. See the Notes Section in fetch_openml's API doc for details.\n",
            "  warn(\n"
          ]
        }
      ]
    },
    {
      "cell_type": "code",
      "source": [
        "# Mengambil data dan target dari dataset MNIST\n",
        "X = mnist['data'].to_numpy()\n",
        "y = mnist['target'].astype(int)"
      ],
      "metadata": {
        "id": "pbLpNCMImpiP"
      },
      "execution_count": 25,
      "outputs": []
    },
    {
      "cell_type": "code",
      "source": [
        "from sklearn.preprocessing import StandardScaler"
      ],
      "metadata": {
        "id": "ZCnHoctEmpn8"
      },
      "execution_count": 26,
      "outputs": []
    },
    {
      "cell_type": "code",
      "source": [
        "# Membuat objek standarisasi\n",
        "scaler = StandardScaler()\n",
        "\n",
        "X = scaler.fit_transform(X)"
      ],
      "metadata": {
        "id": "XjJKdJLrmw1j"
      },
      "execution_count": 27,
      "outputs": []
    },
    {
      "cell_type": "code",
      "source": [
        "from sklearn.model_selection import train_test_split"
      ],
      "metadata": {
        "id": "fb-uZe98m2Tp"
      },
      "execution_count": 28,
      "outputs": []
    },
    {
      "cell_type": "code",
      "source": [
        "# Bagi data menjadi 70% data pelatihan dan 30% data pengujian\n",
        "\n",
        "X_train, X_test, y_train, y_test = train_test_split(X, y, test_"
      ],
      "metadata": {
        "id": "TahHvBqanOKK"
      },
      "execution_count": null,
      "outputs": []
    },
    {
      "cell_type": "code",
      "source": [
        "from sklearn.decomposition import PCA\n",
        "\n",
        "# Membuat objek PCA\n",
        "pca = PCA(n_components=10)\n",
        "\n",
        "# Fit the PCA object to the training data\n",
        "pca.fit(X_train)\n",
        "\n",
        "# Melakukan transformasi PCA pada data pelatihan dan pengujian\n",
        "X_train_transformed = pca.transform(X_train)\n",
        "X_test_transformed = pca.transform(X_test)"
      ],
      "metadata": {
        "id": "b9WXDnSYnRjR"
      },
      "execution_count": 31,
      "outputs": []
    },
    {
      "cell_type": "code",
      "source": [
        "# Membuat model SVM\n",
        "from sklearn.svm import SVC"
      ],
      "metadata": {
        "id": "jJkn7S59nXRF"
      },
      "execution_count": 32,
      "outputs": []
    },
    {
      "cell_type": "code",
      "source": [
        "# Membuat model SVM dengan kernel linear\n",
        "linear = SVC(kernel='linear', C=5)"
      ],
      "metadata": {
        "id": "QGmQrAztndkX"
      },
      "execution_count": 33,
      "outputs": []
    },
    {
      "cell_type": "code",
      "source": [
        "# Membuat model SVM dengan kernel linear\n",
        "linear = SVC(kernel='linear', C=5)"
      ],
      "metadata": {
        "id": "UlauHmq7nh4g"
      },
      "execution_count": 34,
      "outputs": []
    },
    {
      "cell_type": "code",
      "source": [
        "# Membuat model SVM dengan kernel linear\n",
        "linear = SVC(kernel='linear', C=5)"
      ],
      "metadata": {
        "id": "D_1d1ZMRnpiP"
      },
      "execution_count": 35,
      "outputs": []
    },
    {
      "cell_type": "code",
      "source": [
        "from sklearn.metrics import accuracy_score, classification_report, confusion_matrix"
      ],
      "metadata": {
        "id": "bwGvvi77nv7F"
      },
      "execution_count": 36,
      "outputs": []
    },
    {
      "cell_type": "code",
      "source": [
        "# Evaluasi performa model\n",
        "def evaluate_model(y_true, y_pred, label):\n",
        "    acc = accuracy_score(y_true, y_pred)\n",
        "    print(f\"{label} Accuracy: {acc} = {acc * 100:.2f}%\")\n",
        "    print(f\"{label} Classification Report:\\n{classification_report(y_true, y_pred)}\")\n",
        "    print(f\"{label} Confusion Matrix:\\n{confusion_matrix(y_tru"
      ],
      "metadata": {
        "id": "X9jQOPpyn6qt"
      },
      "execution_count": null,
      "outputs": []
    },
    {
      "cell_type": "code",
      "source": [
        "output :\n",
        "SVM | scaled | linear | 7:3 Accuracy: 0.8381904761904762 = 83.82%\n",
        "SVM | scaled | linear | 7:3 Classification Report:\n",
        "              precision    recall  f1-score   support\n",
        "\n",
        "           0       0.88      0.91      0.89      2012\n",
        "           1       0.93      0.97      0.95      2431\n",
        "           2       0.84      0.84      0.84      2084\n",
        "           3       0.82      0.81      0.81      2107\n",
        "           4       0.79      0.79      0.79      2060\n",
        "           5       0.78      0.75      0.77      1945\n",
        "           6       0.89      0.92      0.91      2017\n",
        "           7       0.87      0.88      0.87      2131\n",
        "           8       0.84      0.76      0.80      2116\n",
        "           9       0.73      0.73      0.73      2097\n",
        "\n",
        "    accuracy                           0.84     21000\n",
        "   macro avg       0.84      0.84      0.84     21000\n",
        "weighted avg       0.84      0.84      0.84     21000\n",
        "\n",
        "SVM | scaled | linear | 7:3 Confusion Matrix:\n",
        "[[1824    4   18   16    8   83   34    2   20    3]\n",
        " [   0 2352   13   15    3   15   15    3   13    2]\n",
        " [  35   13 1748   68   47    3   97   19   51    3]\n",
        " [  24   23   67 1701   13  131    3   29   77   39]\n",
        " [   6   22   29    3 1635   12   33   29   17  274]\n",
        " [  94   11   37  151   58 1466   32    4   62   30]\n",
        " [  33   20   45    0   13   32 1863    1   10    0]\n",
        " [   7    6   27    5   31   10    0 1876   27  142]\n",
        " [  36   66   75   85   27  114   10   15 1606   82]\n",
        " [  16   16   14   38  241   16    1  188   36 1531]]"
      ],
      "metadata": {
        "id": "adW7F849ojLl"
      },
      "execution_count": null,
      "outputs": []
    },
    {
      "cell_type": "code",
      "source": [
        "evaluate_model(y_test,y_pred,\"SVM | scaled | linear | 7:3\")"
      ],
      "metadata": {
        "id": "0bouR_CXoVFE"
      },
      "execution_count": null,
      "outputs": []
    },
    {
      "cell_type": "code",
      "source": [
        "# Memilih beberapa sampel dari data pengujian untuk ditampilkan\n",
        "n_samples_to_display = 12\n",
        "\n",
        "# Mengambil sampel data pengujian dan hasil prediksinya\n",
        "X_samples = X_test_transformed[:n_samples_to_display]\n",
        "x_restored = pca.inverse_transform(X_test_transformed)\n",
        "y_true_samples = y_test[:n_samples_to_display]\n",
        "y_pred_samples = y_pred[:n_samples_to_display]"
      ],
      "metadata": {
        "id": "-eGqkbpxozBT"
      },
      "execution_count": null,
      "outputs": []
    },
    {
      "cell_type": "code",
      "source": [
        "# Menampilkan citra berserta hasil prediksi\n",
        "plt.figure(figsize=(12, 6))\n",
        "for i in range(n_samples_to_display):\n",
        "    plt.subplot(2, 6, i + 1)\n",
        "    plt.imshow(x_restored[i].reshape(28, 28), cmap='gray')\n",
        "    plt.title(f'True: {y_true_samples.values[i]}\\nPred: {y_pred_samples[i]}', fontsize=10)\n",
        "    plt.axis('off')\n",
        "\n",
        "plt.tight_layout()\n",
        "plt.show()"
      ],
      "metadata": {
        "id": "PNc3_lACo-2t",
        "outputId": "1ce25105-e0a4-44af-a9e2-7151a0c1a942",
        "colab": {
          "base_uri": "https://localhost:8080/",
          "height": 424
        }
      },
      "execution_count": 42,
      "outputs": [
        {
          "output_type": "error",
          "ename": "AttributeError",
          "evalue": "ignored",
          "traceback": [
            "\u001b[0;31m---------------------------------------------------------------------------\u001b[0m",
            "\u001b[0;31mAttributeError\u001b[0m                            Traceback (most recent call last)",
            "\u001b[0;32m<ipython-input-42-7c3fcea5c07d>\u001b[0m in \u001b[0;36m<cell line: 3>\u001b[0;34m()\u001b[0m\n\u001b[1;32m      4\u001b[0m     \u001b[0mplt\u001b[0m\u001b[0;34m.\u001b[0m\u001b[0msubplot\u001b[0m\u001b[0;34m(\u001b[0m\u001b[0;36m2\u001b[0m\u001b[0;34m,\u001b[0m \u001b[0;36m6\u001b[0m\u001b[0;34m,\u001b[0m \u001b[0mi\u001b[0m \u001b[0;34m+\u001b[0m \u001b[0;36m1\u001b[0m\u001b[0;34m)\u001b[0m\u001b[0;34m\u001b[0m\u001b[0;34m\u001b[0m\u001b[0m\n\u001b[1;32m      5\u001b[0m     \u001b[0mplt\u001b[0m\u001b[0;34m.\u001b[0m\u001b[0mimshow\u001b[0m\u001b[0;34m(\u001b[0m\u001b[0mx_restored\u001b[0m\u001b[0;34m[\u001b[0m\u001b[0mi\u001b[0m\u001b[0;34m]\u001b[0m\u001b[0;34m.\u001b[0m\u001b[0mreshape\u001b[0m\u001b[0;34m(\u001b[0m\u001b[0;36m28\u001b[0m\u001b[0;34m,\u001b[0m \u001b[0;36m28\u001b[0m\u001b[0;34m)\u001b[0m\u001b[0;34m,\u001b[0m \u001b[0mcmap\u001b[0m\u001b[0;34m=\u001b[0m\u001b[0;34m'gray'\u001b[0m\u001b[0;34m)\u001b[0m\u001b[0;34m\u001b[0m\u001b[0;34m\u001b[0m\u001b[0m\n\u001b[0;32m----> 6\u001b[0;31m     \u001b[0mplt\u001b[0m\u001b[0;34m.\u001b[0m\u001b[0mtitle\u001b[0m\u001b[0;34m(\u001b[0m\u001b[0;34mf'True: {y_true_samples.values[i]}\\nPred: {y_pred_samples[i]}'\u001b[0m\u001b[0;34m,\u001b[0m \u001b[0mfontsize\u001b[0m\u001b[0;34m=\u001b[0m\u001b[0;36m10\u001b[0m\u001b[0;34m)\u001b[0m\u001b[0;34m\u001b[0m\u001b[0;34m\u001b[0m\u001b[0m\n\u001b[0m\u001b[1;32m      7\u001b[0m     \u001b[0mplt\u001b[0m\u001b[0;34m.\u001b[0m\u001b[0maxis\u001b[0m\u001b[0;34m(\u001b[0m\u001b[0;34m'off'\u001b[0m\u001b[0;34m)\u001b[0m\u001b[0;34m\u001b[0m\u001b[0;34m\u001b[0m\u001b[0m\n\u001b[1;32m      8\u001b[0m \u001b[0;34m\u001b[0m\u001b[0m\n",
            "\u001b[0;31mAttributeError\u001b[0m: 'numpy.ndarray' object has no attribute 'values'"
          ]
        },
        {
          "output_type": "display_data",
          "data": {
            "text/plain": [
              "<Figure size 1200x600 with 1 Axes>"
            ],
            "image/png": "[encoded data removed]"
          },
          "metadata": {}
        }
      ]
    },
    {
      "cell_type": "code",
      "source": [
        "# Bagi data menjadi 80% data pelatihan dan 20% data pengujian\n",
        "\n",
        "X_train, X_test, y_train, y_test = train_test_split(X, y, test_s"
      ],
      "metadata": {
        "id": "PpaHJ1MypLKF"
      },
      "execution_count": null,
      "outputs": []
    },
    {
      "cell_type": "code",
      "source": [
        "# Membuat objek PCA\n",
        "pca = PCA(n_components=10)\n",
        "\n",
        "# Fit the PCA object to the training data\n",
        "pca.fit(X_train)\n",
        "\n",
        "# Melakukan transformasi PCA pada data pelatihan dan pengujian\n",
        "X_train_transformed = pca.transform(X_train)\n",
        "X_test_transformed = pca.transform(X_test)"
      ],
      "metadata": {
        "id": "ZLD6oQsppTG1"
      },
      "execution_count": 44,
      "outputs": []
    },
    {
      "cell_type": "code",
      "source": [
        "# Membuat model SVM dengan kernel linear\n",
        "linear = SVC(kernel='linear', C=5)"
      ],
      "metadata": {
        "id": "pd2KfYu0pYJd"
      },
      "execution_count": 45,
      "outputs": []
    },
    {
      "cell_type": "code",
      "source": [
        "# Melatih model SVM pada data pelatihan yang telah ditransformasi\n",
        "linear.fit(X_train_transformed, y_train)"
      ],
      "metadata": {
        "id": "C5bf84yUpkih",
        "outputId": "f2a22208-39fa-485b-8566-e141da1fe098",
        "colab": {
          "base_uri": "https://localhost:8080/",
          "height": 75
        }
      },
      "execution_count": 46,
      "outputs": [
        {
          "output_type": "execute_result",
          "data": {
            "text/plain": [
              "SVC(C=5, kernel='linear')"
            ],
            "text/html": [
              "<style>#sk-container-id-1 {color: black;background-color: white;}#sk-container-id-1 pre{padding: 0;}#sk-container-id-1 div.sk-toggleable {background-color: white;}#sk-container-id-1 label.sk-toggleable__label {cursor: pointer;display: block;width: 100%;margin-bottom: 0;padding: 0.3em;box-sizing: border-box;text-align: center;}#sk-container-id-1 label.sk-toggleable__label-arrow:before {content: \"▸\";float: left;margin-right: 0.25em;color: #696969;}#sk-container-id-1 label.sk-toggleable__label-arrow:hover:before {color: black;}#sk-container-id-1 div.sk-estimator:hover label.sk-toggleable__label-arrow:before {color: black;}#sk-container-id-1 div.sk-toggleable__content {max-height: 0;max-width: 0;overflow: hidden;text-align: left;background-color: #f0f8ff;}#sk-container-id-1 div.sk-toggleable__content pre {margin: 0.2em;color: black;border-radius: 0.25em;background-color: #f0f8ff;}#sk-container-id-1 input.sk-toggleable__control:checked~div.sk-toggleable__content {max-height: 200px;max-width: 100%;overflow: auto;}#sk-container-id-1 input.sk-toggleable__control:checked~label.sk-toggleable__label-arrow:before {content: \"▾\";}#sk-container-id-1 div.sk-estimator input.sk-toggleable__control:checked~label.sk-toggleable__label {background-color: #d4ebff;}#sk-container-id-1 div.sk-label input.sk-toggleable__control:checked~label.sk-toggleable__label {background-color: #d4ebff;}#sk-container-id-1 input.sk-hidden--visually {border: 0;clip: rect(1px 1px 1px 1px);clip: rect(1px, 1px, 1px, 1px);height: 1px;margin: -1px;overflow: hidden;padding: 0;position: absolute;width: 1px;}#sk-container-id-1 div.sk-estimator {font-family: monospace;background-color: #f0f8ff;border: 1px dotted black;border-radius: 0.25em;box-sizing: border-box;margin-bottom: 0.5em;}#sk-container-id-1 div.sk-estimator:hover {background-color: #d4ebff;}#sk-container-id-1 div.sk-parallel-item::after {content: \"\";width: 100%;border-bottom: 1px solid gray;flex-grow: 1;}#sk-container-id-1 div.sk-label:hover label.sk-toggleable__label {background-color: #d4ebff;}#sk-container-id-1 div.sk-serial::before {content: \"\";position: absolute;border-left: 1px solid gray;box-sizing: border-box;top: 0;bottom: 0;left: 50%;z-index: 0;}#sk-container-id-1 div.sk-serial {display: flex;flex-direction: column;align-items: center;background-color: white;padding-right: 0.2em;padding-left: 0.2em;position: relative;}#sk-container-id-1 div.sk-item {position: relative;z-index: 1;}#sk-container-id-1 div.sk-parallel {display: flex;align-items: stretch;justify-content: center;background-color: white;position: relative;}#sk-container-id-1 div.sk-item::before, #sk-container-id-1 div.sk-parallel-item::before {content: \"\";position: absolute;border-left: 1px solid gray;box-sizing: border-box;top: 0;bottom: 0;left: 50%;z-index: -1;}#sk-container-id-1 div.sk-parallel-item {display: flex;flex-direction: column;z-index: 1;position: relative;background-color: white;}#sk-container-id-1 div.sk-parallel-item:first-child::after {align-self: flex-end;width: 50%;}#sk-container-id-1 div.sk-parallel-item:last-child::after {align-self: flex-start;width: 50%;}#sk-container-id-1 div.sk-parallel-item:only-child::after {width: 0;}#sk-container-id-1 div.sk-dashed-wrapped {border: 1px dashed gray;margin: 0 0.4em 0.5em 0.4em;box-sizing: border-box;padding-bottom: 0.4em;background-color: white;}#sk-container-id-1 div.sk-label label {font-family: monospace;font-weight: bold;display: inline-block;line-height: 1.2em;}#sk-container-id-1 div.sk-label-container {text-align: center;}#sk-container-id-1 div.sk-container {/* jupyter's `normalize.less` sets `[hidden] { display: none; }` but bootstrap.min.css set `[hidden] { display: none !important; }` so we also need the `!important` here to be able to override the default hidden behavior on the sphinx rendered scikit-learn.org. See: https://github.com/scikit-learn/scikit-learn/issues/21755 */display: inline-block !important;position: relative;}#sk-container-id-1 div.sk-text-repr-fallback {display: none;}</style><div id=\"sk-container-id-1\" class=\"sk-top-container\"><div class=\"sk-text-repr-fallback\"><pre>SVC(C=5, kernel=&#x27;linear&#x27;)</pre><b>In a Jupyter environment, please rerun this cell to show the HTML representation or trust the notebook. <br />On GitHub, the HTML representation is unable to render, please try loading this page with nbviewer.org.</b></div><div class=\"sk-container\" hidden><div class=\"sk-item\"><div class=\"sk-estimator sk-toggleable\"><input class=\"sk-toggleable__control sk-hidden--visually\" id=\"sk-estimator-id-1\" type=\"checkbox\" checked><label for=\"sk-estimator-id-1\" class=\"sk-toggleable__label sk-toggleable__label-arrow\">SVC</label><div class=\"sk-toggleable__content\"><pre>SVC(C=5, kernel=&#x27;linear&#x27;)</pre></div></div></div></div></div>"
            ]
          },
          "metadata": {},
          "execution_count": 46
        }
      ]
    },
    {
      "cell_type": "code",
      "source": [
        "# Melakukan prediksi pada data pengujian yang telah ditransformasi\n",
        "y_pred = linear.predict(X_test_transformed)"
      ],
      "metadata": {
        "id": "2fUzZlxBqElv"
      },
      "execution_count": 47,
      "outputs": []
    },
    {
      "cell_type": "code",
      "source": [
        "evaluate_model(y_test,y_pred,\"SVM | scaled | linear | 8:2\")"
      ],
      "metadata": {
        "id": "azFbtoyKqEsK",
        "outputId": "5abebeac-83cc-48be-8b85-8d374845e782",
        "colab": {
          "base_uri": "https://localhost:8080/"
        }
      },
      "execution_count": 48,
      "outputs": [
        {
          "output_type": "stream",
          "name": "stdout",
          "text": [
            "SVM | scaled | linear | 8:2 Accuracy: 0.8368571428571429 = 83.69%\n",
            "SVM | scaled | linear | 8:2 Classification Report:\n",
            "              precision    recall  f1-score   support\n",
            "\n",
            "           0       0.89      0.92      0.90       683\n",
            "           1       0.91      0.97      0.94       800\n",
            "           2       0.83      0.83      0.83       674\n",
            "           3       0.80      0.79      0.80       760\n",
            "           4       0.76      0.82      0.79       611\n",
            "           5       0.78      0.79      0.79       658\n",
            "           6       0.89      0.88      0.88       677\n",
            "           7       0.91      0.87      0.89       724\n",
            "           8       0.84      0.77      0.80       693\n",
            "           9       0.75      0.70      0.72       720\n",
            "\n",
            "    accuracy                           0.84      7000\n",
            "   macro avg       0.83      0.84      0.83      7000\n",
            "weighted avg       0.84      0.84      0.84      7000\n",
            "\n",
            "SVM | scaled | linear | 8:2 Confusion Matrix:\n",
            "[[630   0   7  12   2  20   9   1   1   1]\n",
            " [  0 777   7   5   0   5   2   1   2   1]\n",
            " [ 12   7 560  18  12   3  37   5  19   1]\n",
            " [ 12  13  21 603   2  51   5   5  34  14]\n",
            " [  4   1   5   1 499   2   8   2   1  88]\n",
            " [ 17   4   8  47   8 521   9   5  26  13]\n",
            " [ 16  10  33   1   5  16 594   0   2   0]\n",
            " [  2  11  15   1  10   7   0 633   7  38]\n",
            " [  9  20  13  54   9  30   3   4 535  16]\n",
            " [  8   9   5  14 112  11   2  40  13 506]]\n"
          ]
        }
      ]
    },
    {
      "cell_type": "code",
      "source": [
        "# Memilih beberapa sampel dari data pengujian untuk ditampilkan\n",
        "n_samples_to_display = 12\n",
        "\n",
        "# Mengambil sampel data pengujian dan hasil prediksinya\n",
        "X_samples = X_test_transformed[:n_samples_to_display]\n",
        "x_restored = pca.inverse_transform(X_test_transformed)\n",
        "y_true_samples = y_test[:n_samples_to_display]\n",
        "y_pred_samples = y_pred[:n_samples_to_display]"
      ],
      "metadata": {
        "id": "-dTbTmZaqkn2"
      },
      "execution_count": 49,
      "outputs": []
    },
    {
      "cell_type": "code",
      "source": [
        "# Menampilkan citra berserta hasil prediksi\n",
        "plt.figure(figsize=(12, 6))\n",
        "for i in range(n_samples_to_display):\n",
        "    plt.subplot(2, 6, i + 1)\n",
        "    plt.imshow(x_restored[i].reshape(28, 28), cmap='gray')\n",
        "    plt.title(f'True: {y_true_samples.values[i]}\\nPred: {y_pred_samples[i]}', fontsize=10)\n",
        "    plt.axis('off')\n",
        "\n",
        "plt.tight_layout()\n",
        "plt.show()"
      ],
      "metadata": {
        "id": "tsxmq7B3qywU"
      },
      "execution_count": null,
      "outputs": []
    },
    {
      "cell_type": "code",
      "source": [
        "# Bagi data menjadi 80% data pelatihan dan 20% data pengujian\n",
        "\n",
        "X_train, X_test, y_train, y_test = train_test_split(X, y, tes"
      ],
      "metadata": {
        "id": "vOrSMFhGrXaP"
      },
      "execution_count": null,
      "outputs": []
    },
    {
      "cell_type": "code",
      "source": [
        "# Membuat objek PCA\n",
        "pca = PCA(n_components=10)\n",
        "\n",
        "# Fit the PCA object to the training data\n",
        "pca.fit(X_train)\n",
        "\n",
        "# Melakukan transformasi PCA pada data pelatihan dan pengujian\n",
        "X_train_transformed = pca.transform(X_train)\n",
        "X_test_transformed = pca.transform(X_test)"
      ],
      "metadata": {
        "id": "wDUA0ditraUt"
      },
      "execution_count": 52,
      "outputs": []
    },
    {
      "cell_type": "code",
      "source": [
        "# Membuat model SVM dengan kernel linear\n",
        "linear = SVC(kernel='linear', C=5)"
      ],
      "metadata": {
        "id": "cKNZ6uNGrasW"
      },
      "execution_count": 53,
      "outputs": []
    },
    {
      "cell_type": "code",
      "source": [
        "# Melatih model SVM pada data pelatihan yang telah ditransformasi\n",
        "linear.fit(X_train_transformed, y_train)"
      ],
      "metadata": {
        "id": "M0L4M9Pdrijh",
        "outputId": "ffff0606-74a1-472c-b6a9-764952b206f4",
        "colab": {
          "base_uri": "https://localhost:8080/",
          "height": 75
        }
      },
      "execution_count": 54,
      "outputs": [
        {
          "output_type": "execute_result",
          "data": {
            "text/plain": [
              "SVC(C=5, kernel='linear')"
            ],
            "text/html": [
              "<style>#sk-container-id-2 {color: black;background-color: white;}#sk-container-id-2 pre{padding: 0;}#sk-container-id-2 div.sk-toggleable {background-color: white;}#sk-container-id-2 label.sk-toggleable__label {cursor: pointer;display: block;width: 100%;margin-bottom: 0;padding: 0.3em;box-sizing: border-box;text-align: center;}#sk-container-id-2 label.sk-toggleable__label-arrow:before {content: \"▸\";float: left;margin-right: 0.25em;color: #696969;}#sk-container-id-2 label.sk-toggleable__label-arrow:hover:before {color: black;}#sk-container-id-2 div.sk-estimator:hover label.sk-toggleable__label-arrow:before {color: black;}#sk-container-id-2 div.sk-toggleable__content {max-height: 0;max-width: 0;overflow: hidden;text-align: left;background-color: #f0f8ff;}#sk-container-id-2 div.sk-toggleable__content pre {margin: 0.2em;color: black;border-radius: 0.25em;background-color: #f0f8ff;}#sk-container-id-2 input.sk-toggleable__control:checked~div.sk-toggleable__content {max-height: 200px;max-width: 100%;overflow: auto;}#sk-container-id-2 input.sk-toggleable__control:checked~label.sk-toggleable__label-arrow:before {content: \"▾\";}#sk-container-id-2 div.sk-estimator input.sk-toggleable__control:checked~label.sk-toggleable__label {background-color: #d4ebff;}#sk-container-id-2 div.sk-label input.sk-toggleable__control:checked~label.sk-toggleable__label {background-color: #d4ebff;}#sk-container-id-2 input.sk-hidden--visually {border: 0;clip: rect(1px 1px 1px 1px);clip: rect(1px, 1px, 1px, 1px);height: 1px;margin: -1px;overflow: hidden;padding: 0;position: absolute;width: 1px;}#sk-container-id-2 div.sk-estimator {font-family: monospace;background-color: #f0f8ff;border: 1px dotted black;border-radius: 0.25em;box-sizing: border-box;margin-bottom: 0.5em;}#sk-container-id-2 div.sk-estimator:hover {background-color: #d4ebff;}#sk-container-id-2 div.sk-parallel-item::after {content: \"\";width: 100%;border-bottom: 1px solid gray;flex-grow: 1;}#sk-container-id-2 div.sk-label:hover label.sk-toggleable__label {background-color: #d4ebff;}#sk-container-id-2 div.sk-serial::before {content: \"\";position: absolute;border-left: 1px solid gray;box-sizing: border-box;top: 0;bottom: 0;left: 50%;z-index: 0;}#sk-container-id-2 div.sk-serial {display: flex;flex-direction: column;align-items: center;background-color: white;padding-right: 0.2em;padding-left: 0.2em;position: relative;}#sk-container-id-2 div.sk-item {position: relative;z-index: 1;}#sk-container-id-2 div.sk-parallel {display: flex;align-items: stretch;justify-content: center;background-color: white;position: relative;}#sk-container-id-2 div.sk-item::before, #sk-container-id-2 div.sk-parallel-item::before {content: \"\";position: absolute;border-left: 1px solid gray;box-sizing: border-box;top: 0;bottom: 0;left: 50%;z-index: -1;}#sk-container-id-2 div.sk-parallel-item {display: flex;flex-direction: column;z-index: 1;position: relative;background-color: white;}#sk-container-id-2 div.sk-parallel-item:first-child::after {align-self: flex-end;width: 50%;}#sk-container-id-2 div.sk-parallel-item:last-child::after {align-self: flex-start;width: 50%;}#sk-container-id-2 div.sk-parallel-item:only-child::after {width: 0;}#sk-container-id-2 div.sk-dashed-wrapped {border: 1px dashed gray;margin: 0 0.4em 0.5em 0.4em;box-sizing: border-box;padding-bottom: 0.4em;background-color: white;}#sk-container-id-2 div.sk-label label {font-family: monospace;font-weight: bold;display: inline-block;line-height: 1.2em;}#sk-container-id-2 div.sk-label-container {text-align: center;}#sk-container-id-2 div.sk-container {/* jupyter's `normalize.less` sets `[hidden] { display: none; }` but bootstrap.min.css set `[hidden] { display: none !important; }` so we also need the `!important` here to be able to override the default hidden behavior on the sphinx rendered scikit-learn.org. See: https://github.com/scikit-learn/scikit-learn/issues/21755 */display: inline-block !important;position: relative;}#sk-container-id-2 div.sk-text-repr-fallback {display: none;}</style><div id=\"sk-container-id-2\" class=\"sk-top-container\"><div class=\"sk-text-repr-fallback\"><pre>SVC(C=5, kernel=&#x27;linear&#x27;)</pre><b>In a Jupyter environment, please rerun this cell to show the HTML representation or trust the notebook. <br />On GitHub, the HTML representation is unable to render, please try loading this page with nbviewer.org.</b></div><div class=\"sk-container\" hidden><div class=\"sk-item\"><div class=\"sk-estimator sk-toggleable\"><input class=\"sk-toggleable__control sk-hidden--visually\" id=\"sk-estimator-id-2\" type=\"checkbox\" checked><label for=\"sk-estimator-id-2\" class=\"sk-toggleable__label sk-toggleable__label-arrow\">SVC</label><div class=\"sk-toggleable__content\"><pre>SVC(C=5, kernel=&#x27;linear&#x27;)</pre></div></div></div></div></div>"
            ]
          },
          "metadata": {},
          "execution_count": 54
        }
      ]
    },
    {
      "cell_type": "code",
      "source": [
        "# Melakukan prediksi pada data pengujian yang telah ditransformasi\n",
        "y_pred = linear.predict(X_test_transformed)"
      ],
      "metadata": {
        "id": "RZzC9yTDrioP"
      },
      "execution_count": 55,
      "outputs": []
    },
    {
      "cell_type": "code",
      "source": [
        "evaluate_model(y_test,y_pred,\"SVM | scaled | linear | 9:1\")"
      ],
      "metadata": {
        "id": "lltSAbK9sFw0",
        "outputId": "74b09ab7-d883-46ca-f32c-8de69459b43e",
        "colab": {
          "base_uri": "https://localhost:8080/"
        }
      },
      "execution_count": 56,
      "outputs": [
        {
          "output_type": "stream",
          "name": "stdout",
          "text": [
            "SVM | scaled | linear | 9:1 Accuracy: 0.8368571428571429 = 83.69%\n",
            "SVM | scaled | linear | 9:1 Classification Report:\n",
            "              precision    recall  f1-score   support\n",
            "\n",
            "           0       0.89      0.92      0.90       683\n",
            "           1       0.91      0.97      0.94       800\n",
            "           2       0.83      0.83      0.83       674\n",
            "           3       0.80      0.79      0.80       760\n",
            "           4       0.76      0.82      0.79       611\n",
            "           5       0.78      0.79      0.79       658\n",
            "           6       0.89      0.88      0.88       677\n",
            "           7       0.91      0.87      0.89       724\n",
            "           8       0.84      0.77      0.80       693\n",
            "           9       0.75      0.70      0.72       720\n",
            "\n",
            "    accuracy                           0.84      7000\n",
            "   macro avg       0.83      0.84      0.83      7000\n",
            "weighted avg       0.84      0.84      0.84      7000\n",
            "\n",
            "SVM | scaled | linear | 9:1 Confusion Matrix:\n",
            "[[630   0   7  12   2  20   9   1   1   1]\n",
            " [  0 777   7   5   0   5   2   1   2   1]\n",
            " [ 12   7 560  18  12   3  37   5  19   1]\n",
            " [ 12  13  21 603   2  51   5   5  34  14]\n",
            " [  4   1   5   1 499   2   8   2   1  88]\n",
            " [ 17   4   8  47   8 521   9   5  26  13]\n",
            " [ 16  10  33   1   5  16 594   0   2   0]\n",
            " [  2  12  14   1  10   7   0 633   7  38]\n",
            " [  9  20  13  54   9  30   3   4 535  16]\n",
            " [  8   9   5  14 112  11   2  40  13 506]]\n"
          ]
        }
      ]
    },
    {
      "cell_type": "code",
      "source": [
        "# Memilih beberapa sampel dari data pengujian untuk ditampilkan\n",
        "n_samples_to_display = 12\n",
        "\n",
        "# Mengambil sampel data pengujian dan hasil prediksinya\n",
        "X_samples = X_test_transformed[:n_samples_to_display]\n",
        "x_restored = pca.inverse_transform(X_test_transformed)\n",
        "y_true_samples = y_test[:n_samples_to_display]\n",
        "y_pred_samples = y_pred[:n_samples_to_display]"
      ],
      "metadata": {
        "id": "If2rcOVGsJeT"
      },
      "execution_count": 57,
      "outputs": []
    },
    {
      "cell_type": "code",
      "source": [
        "# Menampilkan citra berserta hasil prediksi\n",
        "plt.figure(figsize=(12, 6))\n",
        "for i in range(n_samples_to_display):\n",
        "    plt.subplot(2, 6, i + 1)\n",
        "    plt.imshow(x_restored[i].reshape(28, 28), cmap='gray')\n",
        "    plt.title(f'True: {y_true_samples.values[i]}\\nPred: {y_pred_samples[i]}', fontsize=10)\n",
        "    plt.axis('off')\n",
        "\n",
        "plt.tight_layout()\n",
        "plt.show()"
      ],
      "metadata": {
        "id": "M5tYohMysYVo",
        "outputId": "97dbc3e4-4191-40a2-d67e-071ff575202e",
        "colab": {
          "base_uri": "https://localhost:8080/",
          "height": 424
        }
      },
      "execution_count": 58,
      "outputs": [
        {
          "output_type": "error",
          "ename": "AttributeError",
          "evalue": "ignored",
          "traceback": [
            "\u001b[0;31m---------------------------------------------------------------------------\u001b[0m",
            "\u001b[0;31mAttributeError\u001b[0m                            Traceback (most recent call last)",
            "\u001b[0;32m<ipython-input-58-7c3fcea5c07d>\u001b[0m in \u001b[0;36m<cell line: 3>\u001b[0;34m()\u001b[0m\n\u001b[1;32m      4\u001b[0m     \u001b[0mplt\u001b[0m\u001b[0;34m.\u001b[0m\u001b[0msubplot\u001b[0m\u001b[0;34m(\u001b[0m\u001b[0;36m2\u001b[0m\u001b[0;34m,\u001b[0m \u001b[0;36m6\u001b[0m\u001b[0;34m,\u001b[0m \u001b[0mi\u001b[0m \u001b[0;34m+\u001b[0m \u001b[0;36m1\u001b[0m\u001b[0;34m)\u001b[0m\u001b[0;34m\u001b[0m\u001b[0;34m\u001b[0m\u001b[0m\n\u001b[1;32m      5\u001b[0m     \u001b[0mplt\u001b[0m\u001b[0;34m.\u001b[0m\u001b[0mimshow\u001b[0m\u001b[0;34m(\u001b[0m\u001b[0mx_restored\u001b[0m\u001b[0;34m[\u001b[0m\u001b[0mi\u001b[0m\u001b[0;34m]\u001b[0m\u001b[0;34m.\u001b[0m\u001b[0mreshape\u001b[0m\u001b[0;34m(\u001b[0m\u001b[0;36m28\u001b[0m\u001b[0;34m,\u001b[0m \u001b[0;36m28\u001b[0m\u001b[0;34m)\u001b[0m\u001b[0;34m,\u001b[0m \u001b[0mcmap\u001b[0m\u001b[0;34m=\u001b[0m\u001b[0;34m'gray'\u001b[0m\u001b[0;34m)\u001b[0m\u001b[0;34m\u001b[0m\u001b[0;34m\u001b[0m\u001b[0m\n\u001b[0;32m----> 6\u001b[0;31m     \u001b[0mplt\u001b[0m\u001b[0;34m.\u001b[0m\u001b[0mtitle\u001b[0m\u001b[0;34m(\u001b[0m\u001b[0;34mf'True: {y_true_samples.values[i]}\\nPred: {y_pred_samples[i]}'\u001b[0m\u001b[0;34m,\u001b[0m \u001b[0mfontsize\u001b[0m\u001b[0;34m=\u001b[0m\u001b[0;36m10\u001b[0m\u001b[0;34m)\u001b[0m\u001b[0;34m\u001b[0m\u001b[0;34m\u001b[0m\u001b[0m\n\u001b[0m\u001b[1;32m      7\u001b[0m     \u001b[0mplt\u001b[0m\u001b[0;34m.\u001b[0m\u001b[0maxis\u001b[0m\u001b[0;34m(\u001b[0m\u001b[0;34m'off'\u001b[0m\u001b[0;34m)\u001b[0m\u001b[0;34m\u001b[0m\u001b[0;34m\u001b[0m\u001b[0m\n\u001b[1;32m      8\u001b[0m \u001b[0;34m\u001b[0m\u001b[0m\n",
            "\u001b[0;31mAttributeError\u001b[0m: 'numpy.ndarray' object has no attribute 'values'"
          ]
        },
        {
          "output_type": "display_data",
          "data": {
            "text/plain": [
              "<Figure size 1200x600 with 1 Axes>"
            ],
            "image/png": "[encoded data removed]"
          },
          "metadata": {}
        }
      ]
    },
    {
      "cell_type": "code",
      "source": [
        ".1 Gaussian Naive Bayes dengan PCA\n",
        "\n",
        "Nomor 1: Pastikan jumlah data setiap label angka (0-9). Apakah terdapat data imbalance pada dataset MNIST yang digunakan? Jelaskan jawaban anda dan buktikan!"
      ],
      "metadata": {
        "id": "iP9LrJQisfgy"
      },
      "execution_count": null,
      "outputs": []
    },
    {
      "cell_type": "code",
      "source": [
        "import numpy as np\n",
        "import matplotlib.pyplot as plt\n",
        "from sklearn.datasets import fetch_openml\n",
        "\n",
        "# Mengunduh dataset MNIST\n",
        "mnist = fetch_openml('mnist_784', version=1, as_frame=False)\n",
        "\n",
        "unique_labels, label_counts = np.unique(mnist.target, return_counts=True)\n",
        "plt.bar(unique_labels, label_counts)\n",
        "plt.xlabel('Class or Label')\n",
        "plt.ylabel('Sampel Count')\n",
        "plt.title('Distribution Class or Label')\n",
        "plt.xticks(unique_labels)\n",
        "plt.show()"
      ],
      "metadata": {
        "id": "BFN7bNTlsz0c",
        "outputId": "02962c44-7f41-41f6-a5ff-f1c143bc7ad7",
        "colab": {
          "base_uri": "https://localhost:8080/",
          "height": 527
        }
      },
      "execution_count": 59,
      "outputs": [
        {
          "output_type": "stream",
          "name": "stderr",
          "text": [
            "/usr/local/lib/python3.10/dist-packages/sklearn/datasets/_openml.py:968: FutureWarning: The default value of `parser` will change from `'liac-arff'` to `'auto'` in 1.4. You can set `parser='auto'` to silence this warning. Therefore, an `ImportError` will be raised from 1.4 if the dataset is dense and pandas is not installed. Note that the pandas parser may return different data types. See the Notes Section in fetch_openml's API doc for details.\n",
            "  warn(\n"
          ]
        },
        {
          "output_type": "display_data",
          "data": {
            "text/plain": [
              "<Figure size 640x480 with 1 Axes>"
            ],
            "image/png": "[encoded data removed]"
          },
          "metadata": {}
        }
      ]
    },
    {
      "cell_type": "code",
      "source": [
        "# Menghitung jumlah data untuk setiap label (0-9)\n",
        "label_counts = np.bincount(mnist.target.astype(int))\n",
        "\n",
        "# Menampilkan jumlah data untuk setiap label\n",
        "for i in range(10):\n",
        "    print(f\"Data Count for Label {i}: {label_counts[i]}\")"
      ],
      "metadata": {
        "id": "TF4xZz37tJid",
        "outputId": "f52419ba-e031-4381-b221-a12c57b943b3",
        "colab": {
          "base_uri": "https://localhost:8080/"
        }
      },
      "execution_count": 60,
      "outputs": [
        {
          "output_type": "stream",
          "name": "stdout",
          "text": [
            "Data Count for Label 0: 6903\n",
            "Data Count for Label 1: 7877\n",
            "Data Count for Label 2: 6990\n",
            "Data Count for Label 3: 7141\n",
            "Data Count for Label 4: 6824\n",
            "Data Count for Label 5: 6313\n",
            "Data Count for Label 6: 6876\n",
            "Data Count for Label 7: 7293\n",
            "Data Count for Label 8: 6825\n",
            "Data Count for Label 9: 6958\n"
          ]
        }
      ]
    },
    {
      "cell_type": "code",
      "source": [
        "Nomor 2: Tampilkan 15 buah citra pertama dari dataset MNIST berserta labelnya. Anda dapat menggunakan referensi dari Job Sheet 03."
      ],
      "metadata": {
        "id": "UsC9fKL0tQnl"
      },
      "execution_count": null,
      "outputs": []
    },
    {
      "cell_type": "code",
      "source": [
        "# Mengambil data dan label\n",
        "X = mnist.data\n",
        "y = mnist.target\n",
        "\n",
        "# Menampilkan 15 citra pertama berserta labelnya\n",
        "plt.figure(figsize=(12, 5))\n",
        "for i in range(15):\n",
        "    plt.subplot(3, 5, i + 1)\n",
        "    plt.imshow(X[i].reshape(28, 28), cmap='gray')\n",
        "    plt.title(f'Label: {y[i]}')\n",
        "    plt.axis('off')\n",
        "\n",
        "plt.tight_layout()\n",
        "plt.show()"
      ],
      "metadata": {
        "id": "W24vjQt9tX0Y",
        "outputId": "5582725f-430a-4065-a4e2-e3edf9c114fa",
        "colab": {
          "base_uri": "https://localhost:8080/",
          "height": 496
        }
      },
      "execution_count": 61,
      "outputs": [
        {
          "output_type": "display_data",
          "data": {
            "text/plain": [
              "<Figure size 1200x500 with 15 Axes>"
            ],
            "image/png": "[encoded data removed]"
          },
          "metadata": {}
        }
      ]
    },
    {
      "cell_type": "code",
      "source": [
        "Nomor 3: Lakukan proses ekstraksi fitur pada data MNIST. Pada proses ini, Anda diperbolehkan untuk\n",
        "Melakukan ekstraksi fitur lain seperti histogram, PCA, atau yang lainnya. Anda diperbolehkan melakukan ekspolarasi pada proses ini."
      ],
      "metadata": {
        "id": "fuWe-XQPtfgB"
      },
      "execution_count": null,
      "outputs": []
    },
    {
      "cell_type": "code",
      "source": [
        "from sklearn.decomposition import PCA\n",
        "\n",
        "# Menentukan jumlah komponen utama yang diinginkan\n",
        "n_components = 50  # Misalnya, kita akan menggunakan 50 komponen utama\n",
        "\n",
        "# Melakukan PCA\n",
        "pca = PCA(n_components=n_components)\n",
        "X_pca = pca.fit_transform(X)\n",
        "\n",
        "# Sekarang, X_pca berisi data yang telah dikurangi dimensinya menggunakan PCA\n",
        "print(\"Shape of X_pca:\", X_pca.shape)"
      ],
      "metadata": {
        "id": "4hsOXtJ-toqA",
        "outputId": "9f14dfb3-35d7-4cb2-987b-33595664a5cd",
        "colab": {
          "base_uri": "https://localhost:8080/"
        }
      },
      "execution_count": 62,
      "outputs": [
        {
          "output_type": "stream",
          "name": "stdout",
          "text": [
            "Shape of X_pca: (70000, 50)\n"
          ]
        }
      ]
    },
    {
      "cell_type": "code",
      "source": [
        "Nomor 4: Buatlah data training dan data testing menggunakan rasio 70:30, 80:20, 90:10.\n",
        "Rasio 70:30"
      ],
      "metadata": {
        "id": "hslxmWortwfC"
      },
      "execution_count": null,
      "outputs": []
    },
    {
      "cell_type": "code",
      "source": [
        "from sklearn.model_selection import train_test_split\n",
        "\n",
        "# Bagi data menjadi 70% data pelatihan dan 30% data pengujian\n",
        "X_train1, X_test1, y_train1, y_test1 = train_test_split(X_pca, y, test_size=0.3, random_state=42)\n",
        "\n",
        "# Hasil dari pembagian data\n",
        "print(\"Data Train Count:\", len(X_train1))\n",
        "print(\"Data Test Count:\", len(X_test1))"
      ],
      "metadata": {
        "id": "d_RVjsKVtwkr",
        "outputId": "9e9e47a2-708e-4be1-9f08-e03355d3e10d",
        "colab": {
          "base_uri": "https://localhost:8080/"
        }
      },
      "execution_count": 63,
      "outputs": [
        {
          "output_type": "stream",
          "name": "stdout",
          "text": [
            "Data Train Count: 49000\n",
            "Data Test Count: 21000\n"
          ]
        }
      ]
    },
    {
      "cell_type": "code",
      "source": [
        "Rasio 80:20"
      ],
      "metadata": {
        "id": "W7zIgwktt73T"
      },
      "execution_count": null,
      "outputs": []
    },
    {
      "cell_type": "code",
      "source": [
        "from sklearn.model_selection import train_test_split\n",
        "\n",
        "# Bagi data menjadi 80% data pelatihan dan 20% data pengujian\n",
        "X_train2, X_test2, y_train2, y_test2 = train_test_split(X_pca, y, test_size=0.2, random_state=42)\n",
        "\n",
        "# Hasil dari pembagian data\n",
        "print(\"Data Train Count:\", len(X_train2))\n",
        "print(\"Data Test Count:\", len(X_test2))"
      ],
      "metadata": {
        "id": "fxQG4fEOuAP-",
        "outputId": "3690b9c7-9fd7-48d7-b4b5-c1346bc90dc5",
        "colab": {
          "base_uri": "https://localhost:8080/"
        }
      },
      "execution_count": 64,
      "outputs": [
        {
          "output_type": "stream",
          "name": "stdout",
          "text": [
            "Data Train Count: 56000\n",
            "Data Test Count: 14000\n"
          ]
        }
      ]
    },
    {
      "cell_type": "code",
      "source": [
        "Rasio 90:10"
      ],
      "metadata": {
        "id": "D1S2fVQduEID"
      },
      "execution_count": null,
      "outputs": []
    },
    {
      "cell_type": "code",
      "source": [
        "from sklearn.model_selection import train_test_split\n",
        "\n",
        "# Bagi data menjadi 90% data pelatihan dan 10% data pengujian\n",
        "X_train3, X_test3, y_train3, y_test3 = train_test_split(X_pca, y, test_size=0.1, random_state=42)\n",
        "\n",
        "# Hasil dari pembagian data\n",
        "print(\"Data Train Count:\", len(X_train3))\n",
        "print(\"Data Test Count:\", len(X_test3))"
      ],
      "metadata": {
        "id": "uW-C_j7buHZH",
        "outputId": "596dd63f-736b-4bbd-c4c6-1d18a7f951d4",
        "colab": {
          "base_uri": "https://localhost:8080/"
        }
      },
      "execution_count": 65,
      "outputs": [
        {
          "output_type": "stream",
          "name": "stdout",
          "text": [
            "Data Train Count: 63000\n",
            "Data Test Count: 7000\n"
          ]
        }
      ]
    },
    {
      "cell_type": "code",
      "source": [
        "Nomor 5: Lakukan proses klasifikasi dengan menggunakan algoritma Naive Bayes dan SVM\n",
        "Gaussian Naive Bayes\n",
        "Rasio 70:30"
      ],
      "metadata": {
        "id": "Nq1KixtWuPrm"
      },
      "execution_count": null,
      "outputs": []
    },
    {
      "cell_type": "code",
      "source": [
        "from sklearn.naive_bayes import GaussianNB\n",
        "from sklearn.metrics import accuracy_score\n",
        "\n",
        "# Membuat model Naive Bayes Gaussian\n",
        "nb_model = GaussianNB()\n",
        "\n",
        "# Melatih model Naive Bayes menggunakan data pelatihan\n",
        "nb_model.fit(X_train1, y_train1)\n",
        "\n",
        "# Menguji model pada data pengujian\n",
        "y_pred_nb1 = nb_model.predict(X_test1)\n",
        "\n",
        "# Mengukur akurasi model Naive Bayes\n",
        "accuracy_nb1 = accuracy_score(y_test1, y_pred_nb1)\n",
        "print(\"Accuracy Naive Bayes:\", accuracy_nb1)"
      ],
      "metadata": {
        "id": "HPin1htbuPxg",
        "outputId": "dea16911-1102-4df4-a290-119651374636",
        "colab": {
          "base_uri": "https://localhost:8080/"
        }
      },
      "execution_count": 66,
      "outputs": [
        {
          "output_type": "stream",
          "name": "stdout",
          "text": [
            "Accuracy Naive Bayes: 0.8708571428571429\n"
          ]
        }
      ]
    },
    {
      "cell_type": "code",
      "source": [
        "Rasio 80:20"
      ],
      "metadata": {
        "id": "TZV5UuEWuYuR"
      },
      "execution_count": null,
      "outputs": []
    },
    {
      "cell_type": "code",
      "source": [
        "# Melatih model Naive Bayes menggunakan data pelatihan\n",
        "nb_model.fit(X_train2, y_train2)\n",
        "\n",
        "# Menguji model pada data pengujian\n",
        "y_pred_nb2 = nb_model.predict(X_test2)\n",
        "\n",
        "# Mengukur akurasi model Naive Bayes\n",
        "accuracy_nb2 = accuracy_score(y_test2, y_pred_nb2)\n",
        "print(\"Accuracy Naive Bayes:\", accuracy_nb2)"
      ],
      "metadata": {
        "id": "VJn7KXcpubxl",
        "outputId": "9d987d63-5fde-4c37-e337-c731325659b7",
        "colab": {
          "base_uri": "https://localhost:8080/"
        }
      },
      "execution_count": 67,
      "outputs": [
        {
          "output_type": "stream",
          "name": "stdout",
          "text": [
            "Accuracy Naive Bayes: 0.8726428571428572\n"
          ]
        }
      ]
    },
    {
      "cell_type": "code",
      "source": [
        "Rasio 90:10"
      ],
      "metadata": {
        "id": "MbTTCE5LumlW"
      },
      "execution_count": null,
      "outputs": []
    },
    {
      "cell_type": "code",
      "source": [
        "# Melatih model Naive Bayes menggunakan data pelatihan\n",
        "nb_model.fit(X_train3, y_train3)\n",
        "\n",
        "# Menguji model pada data pengujian\n",
        "y_pred_nb3 = nb_model.predict(X_test3)\n",
        "\n",
        "# Mengukur akurasi model Naive Bayes\n",
        "accuracy_nb3 = accuracy_score(y_test3, y_pred_nb3)\n",
        "print(\"Accuracy Naive Bayes:\", accuracy_nb3)"
      ],
      "metadata": {
        "id": "6ykXX0uauoeD",
        "outputId": "32fc4dc5-983a-4d92-ea4b-7064abe54968",
        "colab": {
          "base_uri": "https://localhost:8080/"
        }
      },
      "execution_count": 68,
      "outputs": [
        {
          "output_type": "stream",
          "name": "stdout",
          "text": [
            "Accuracy Naive Bayes: 0.8695714285714286\n"
          ]
        }
      ]
    },
    {
      "cell_type": "code",
      "source": [
        "from sklearn.metrics import accuracy_score, classification_report, confusion_matrix\n",
        "\n",
        "# Evaluasi model Naive Bayes terhadap data pelatihan dengan akurasi terbesar\n",
        "y_train_pred_nb = nb_model.predict(X_train2)\n",
        "accuracy_train_nb = accuracy_score(y_train2, y_train_pred_nb)\n",
        "print(\"Accuracy Naive Bayes (Training):\", accuracy_train_nb)\n",
        "\n",
        "# Classification report Naive Bayes untuk data pelatihan\n",
        "print(\"Classification Report Naive Bayes (Training):\\n\", classification_report(y_train2, y_train_pred_nb))\n",
        "\n",
        "# Confusion matrix Naive Bayes untuk data pelatihan\n",
        "confusion_matrix_nb_train = confusion_matrix(y_train2, y_train_pred_nb)\n",
        "print(\"Confusion Matrix Naive Bayes (Training):\\n\", confusion"
      ],
      "metadata": {
        "id": "c4QCvvRYu_O1"
      },
      "execution_count": null,
      "outputs": []
    },
    {
      "cell_type": "code",
      "source": [
        "output :\n",
        "Accuracy Naive Bayes (Training): 0.8716607142857142\n",
        "Classification Report Naive Bayes (Training):\n",
        "               precision    recall  f1-score   support\n",
        "\n",
        "           0       0.96      0.93      0.94      5560\n",
        "           1       0.96      0.94      0.95      6277\n",
        "           2       0.83      0.86      0.84      5610\n",
        "           3       0.84      0.83      0.84      5708\n",
        "           4       0.86      0.86      0.86      5529\n",
        "           5       0.77      0.84      0.80      5040\n",
        "           6       0.92      0.92      0.92      5480\n",
        "           7       0.92      0.86      0.89      5790\n",
        "           8       0.83      0.84      0.84      5468\n",
        "           9       0.82      0.83      0.83      5538\n",
        "\n",
        "    accuracy                           0.87     56000\n",
        "   macro avg       0.87      0.87      0.87     56000\n",
        "weighted avg       0.87      0.87      0.87     56000\n",
        "\n",
        "Confusion Matrix Naive Bayes (Training):\n",
        " [[5189    0   50   56    5  155   83    6    9    7]\n",
        " [   0 5874  120   28    9   96   28   30   78   14]\n",
        " [  56   22 4799  137   85   62   90   87  238   34]\n",
        " [  15   13  189 4740   10  312   23   84  225   97]\n",
        " [   2   30   86    8 4742   52   65   23   54  467]\n",
        " [  29    7   93  310   72 4240   83   33  131   42]\n",
        " [  46    9   77   13   31  237 5029    2   32    4]\n",
        " [  22   97  109   40  178   46   16 4998   61  223]\n",
        " [  31   44  136  227   37  240   36   23 4591  103]\n",
        " [  38   26  117   70  332   97   11  146   90 4611]]"
      ],
      "metadata": {
        "id": "erUWAMEavC5i"
      },
      "execution_count": null,
      "outputs": []
    },
    {
      "cell_type": "code",
      "source": [
        " Evaluasi model Naive Bayes terhadap data pengujian\n",
        "y_test_pred_nb = nb_model.predict(X_test2)\n",
        "accuracy_test_nb = accuracy_score(y_test2, y_test_pred_nb)\n",
        "print(\"\\nAccuracy Naive Bayes (Testing):\", accuracy_test_nb)\n",
        "\n",
        "# Classification report Naive Bayes untuk data pengujian\n",
        "print(\"Classification Report Naive Bayes (Testing):\\n\", classification_report(y_test2, y_test_pred_nb))\n",
        "\n",
        "# Confusion matrix Naive Bayes untuk data pengujian\n",
        "confusion_matrix_nb_test = confusion_matrix(y_test2, y_test_pred_nb)\n",
        "print(\"Confusion Matrix Naive Bayes (Testing):\\n\", confusion_matrix_nb_test)"
      ],
      "metadata": {
        "id": "1YvFj0ygviGi"
      },
      "execution_count": null,
      "outputs": []
    },
    {
      "cell_type": "code",
      "source": [
        "output :\n",
        "Accuracy Naive Bayes (Testing): 0.8717857142857143\n",
        "Classification Report Naive Bayes (Testing):\n",
        "               precision    recall  f1-score   support\n",
        "\n",
        "           0       0.96      0.93      0.95      1343\n",
        "           1       0.95      0.94      0.95      1600\n",
        "           2       0.83      0.85      0.84      1380\n",
        "           3       0.84      0.83      0.83      1433\n",
        "           4       0.84      0.85      0.84      1295\n",
        "           5       0.77      0.84      0.80      1273\n",
        "           6       0.92      0.92      0.92      1396\n",
        "           7       0.92      0.87      0.89      1503\n",
        "           8       0.84      0.84      0.84      1357\n",
        "           9       0.84      0.83      0.84      1420\n",
        "\n",
        "    accuracy                           0.87     14000\n",
        "   macro avg       0.87      0.87      0.87     14000\n",
        "weighted avg       0.87      0.87      0.87     14000\n",
        "\n",
        "Confusion Matrix Naive Bayes (Testing):\n",
        " [[1255    0    7    5    4   39   23    4    5    1]\n",
        " [   0 1511   23   11    1   20    4    9   19    2]\n",
        " [   8   13 1170   43   21   18   22   20   55   10]\n",
        " [   2    4   42 1187    3   84   10   27   50   24]\n",
        " [   2    7   30    1 1095   15   10    7    9  119]\n",
        " [  10    2   12   81   19 1074   20    5   36   14]\n",
        " [   8    1   24    3   14   59 1282    0    5    0]\n",
        " [   8   27   31    6   50   10    2 1311   14   44]\n",
        " [   9   12   25   64   13   61   10   10 1135   18]\n",
        " [   9    6   39   16   77   22    4   39   23 1185]]"
      ],
      "metadata": {
        "id": "e-zce_1qvpXQ"
      },
      "execution_count": null,
      "outputs": []
    },
    {
      "cell_type": "code",
      "source": [
        "Nomor 6: Tampilkan citra data testing berserta hasil pelabelannya. Anda dapat menggunakan Job Sheet 03 sebagai acuan."
      ],
      "metadata": {
        "id": "SsfGQd9IvxBo"
      },
      "execution_count": null,
      "outputs": []
    },
    {
      "cell_type": "code",
      "source": [
        "import matplotlib.pyplot as plt\n",
        "\n",
        "# Memilih beberapa sampel dari data pengujian untuk ditampilkan\n",
        "n_samples_to_display = 12\n",
        "\n",
        "# Mengambil sampel data pengujian dan hasil prediksinya\n",
        "X_samples = X_test1[:n_samples_to_display]\n",
        "x_restored = pca.inverse_transform(X_test2)\n",
        "y_true_samples = y_test1[:n_samples_to_display]\n",
        "y_pred_samples = y_test_pred_nb[:n_samples_to_display]\n",
        "\n",
        "# Menampilkan citra berserta hasil prediksi\n",
        "plt.figure(figsize=(12, 6))\n",
        "for i in range(n_samples_to_display):\n",
        "    plt.subplot(2, 6, i + 1)\n",
        "    plt.imshow(x_restored[i].reshape(28, 28), cmap='gray')\n",
        "    plt.title(f'True: {y_true_samples[i]}\\nPred: {y_pred_samples[i]}', fontsize=10)\n",
        "    plt.axis('off')\n",
        "\n",
        "plt.tight_layout()\n",
        "plt.show()"
      ],
      "metadata": {
        "id": "V6lAbYh1v_h-"
      },
      "execution_count": null,
      "outputs": []
    },
    {
      "cell_type": "code",
      "source": [
        "2.2 Multinomial Naive Bayes dengan PCA\n",
        "Answers\n",
        "Nomor 1: Pastikan jumlah data setiap label angka (0-9). Apakah terdapat data imbalance pada dataset MNIST yang digunakan? Jelaskan jawaban Anda dan buktikan!"
      ],
      "metadata": {
        "id": "LMxxMoq5wC4y"
      },
      "execution_count": null,
      "outputs": []
    },
    {
      "cell_type": "code",
      "source": [
        "import numpy as np\n",
        "import matplotlib.pyplot as plt\n",
        "from sklearn.datasets import fetch_openml\n",
        "\n",
        "# Mengunduh dataset MNIST\n",
        "mnist = fetch_openml('mnist_784', version=1, as_frame=False)\n",
        "\n",
        "unique_labels, label_counts = np.unique(mnist.target, return_counts=True)\n",
        "plt.bar(unique_labels, label_counts)\n",
        "plt.xlabel('Class or Label')\n",
        "plt.ylabel('Sampel Count')\n",
        "plt.title('Distribution Class or Label')\n",
        "plt.xticks(unique_labels)\n",
        "plt.show()"
      ],
      "metadata": {
        "id": "dvOq2xpIwKaC",
        "outputId": "0b8cb79c-b692-4e7f-d966-10cf68c8d858",
        "colab": {
          "base_uri": "https://localhost:8080/",
          "height": 527
        }
      },
      "execution_count": 72,
      "outputs": [
        {
          "output_type": "stream",
          "name": "stderr",
          "text": [
            "/usr/local/lib/python3.10/dist-packages/sklearn/datasets/_openml.py:968: FutureWarning: The default value of `parser` will change from `'liac-arff'` to `'auto'` in 1.4. You can set `parser='auto'` to silence this warning. Therefore, an `ImportError` will be raised from 1.4 if the dataset is dense and pandas is not installed. Note that the pandas parser may return different data types. See the Notes Section in fetch_openml's API doc for details.\n",
            "  warn(\n"
          ]
        },
        {
          "output_type": "display_data",
          "data": {
            "text/plain": [
              "<Figure size 640x480 with 1 Axes>"
            ],
            "image/png": "[encoded data removed]"
          },
          "metadata": {}
        }
      ]
    },
    {
      "cell_type": "code",
      "source": [
        "# Menghitung jumlah data untuk setiap label (0-9)\n",
        "label_counts = np.bincount(mnist.target.astype(int))\n",
        "\n",
        "# Menampilkan jumlah data untuk setiap label\n",
        "for i in range(10):\n",
        "    print(f\"Data Count for Label {i}: {label_counts[i]}\")"
      ],
      "metadata": {
        "id": "lvak4d7kwKfn",
        "outputId": "b295c7e1-6ee7-4c15-9765-7f58b6202cb5",
        "colab": {
          "base_uri": "https://localhost:8080/"
        }
      },
      "execution_count": 73,
      "outputs": [
        {
          "output_type": "stream",
          "name": "stdout",
          "text": [
            "Data Count for Label 0: 6903\n",
            "Data Count for Label 1: 7877\n",
            "Data Count for Label 2: 6990\n",
            "Data Count for Label 3: 7141\n",
            "Data Count for Label 4: 6824\n",
            "Data Count for Label 5: 6313\n",
            "Data Count for Label 6: 6876\n",
            "Data Count for Label 7: 7293\n",
            "Data Count for Label 8: 6825\n",
            "Data Count for Label 9: 6958\n"
          ]
        }
      ]
    },
    {
      "cell_type": "code",
      "source": [
        "Nomor 2: Tampilkan 15 buah citra pertama dari dataset MNIST berserta labelnya. Anda dapat menggunakan referensi dari Job Sheet 03."
      ],
      "metadata": {
        "id": "Ra9Tc1UhwfU-"
      },
      "execution_count": null,
      "outputs": []
    },
    {
      "cell_type": "code",
      "source": [
        "# Mengambil data dan label\n",
        "X = mnist.data\n",
        "y = mnist.target\n",
        "\n",
        "# Menampilkan 15 citra pertama berserta labelnya\n",
        "plt.figure(figsize=(12, 5))\n",
        "for i in range(15):\n",
        "    plt.subplot(3, 5, i + 1)\n",
        "    plt.imshow(X[i].reshape(28, 28), cmap='gray')\n",
        "    plt.title(f'Label: {y[i]}')\n",
        "    plt.axis('off')\n",
        "\n",
        "plt.tight_layout()\n",
        "plt.show()"
      ],
      "metadata": {
        "id": "7OQLz5v9woDA",
        "outputId": "4acffb0e-e561-4bc5-cf05-41d3ce35bb6b",
        "colab": {
          "base_uri": "https://localhost:8080/",
          "height": 496
        }
      },
      "execution_count": 74,
      "outputs": [
        {
          "output_type": "display_data",
          "data": {
            "text/plain": [
              "<Figure size 1200x500 with 15 Axes>"
            ],
            "image/png": "[encoded data removed]"
          },
          "metadata": {}
        }
      ]
    },
    {
      "cell_type": "code",
      "source": [
        "Nomor 3: Lakukan proses ekstraksi fitur pada data MNIST. Pada proses ini, Anda diperbolehkan untuk"
      ],
      "metadata": {
        "id": "oPhlt2IxwvEe"
      },
      "execution_count": null,
      "outputs": []
    },
    {
      "cell_type": "code",
      "source": [
        "from sklearn.decomposition import PCA\n",
        "\n",
        "# Menentukan jumlah komponen utama yang diinginkan\n",
        "n_components = 50  # Misalnya, kita akan menggunakan 50 komponen utama\n",
        "\n",
        "# Melakukan PCA\n",
        "pca = PCA(n_components=n_components)\n",
        "X_pca = pca.fit_transform(X)\n",
        "\n",
        "# Sekarang, X_pca berisi data yang telah dikurangi dimensinya menggunakan PCA\n",
        "print(\"Shape of X_pca:\", X_pca.shape)"
      ],
      "metadata": {
        "id": "Ku6BlSQ9wy_N",
        "outputId": "5024b682-c6d5-41cf-c3f6-997256143270",
        "colab": {
          "base_uri": "https://localhost:8080/"
        }
      },
      "execution_count": 75,
      "outputs": [
        {
          "output_type": "stream",
          "name": "stdout",
          "text": [
            "Shape of X_pca: (70000, 50)\n"
          ]
        }
      ]
    },
    {
      "cell_type": "code",
      "source": [
        "Nomor 4: Buatlah data training dan data testing menggunakan rasio 70:30, 80:20, 90:10.\n",
        "Rasio 70:30"
      ],
      "metadata": {
        "id": "boHn4aRqw5fR"
      },
      "execution_count": null,
      "outputs": []
    },
    {
      "cell_type": "code",
      "source": [
        "from sklearn.model_selection import train_test_split\n",
        "\n",
        "# Bagi data menjadi 70% data pelatihan dan 30% data pengujian\n",
        "X_train1, X_test1, y_train1, y_test1 = train_test_split(X_pca, y, test_size=0.3, random_state=42)\n",
        "\n",
        "# Hasil dari pembagian data\n",
        "print(\"Data Train Count:\", len(X_train1))\n",
        "print(\"Data Test Count:\", len(X_test1))"
      ],
      "metadata": {
        "id": "0RqT8aU1w5kb",
        "outputId": "fcbd9162-2400-4a11-b8cd-9f8b6b74345b",
        "colab": {
          "base_uri": "https://localhost:8080/"
        }
      },
      "execution_count": 76,
      "outputs": [
        {
          "output_type": "stream",
          "name": "stdout",
          "text": [
            "Data Train Count: 49000\n",
            "Data Test Count: 21000\n"
          ]
        }
      ]
    },
    {
      "cell_type": "code",
      "source": [
        "Rasio 80:20"
      ],
      "metadata": {
        "id": "aNo9ZeURxFjr"
      },
      "execution_count": null,
      "outputs": []
    },
    {
      "cell_type": "code",
      "source": [
        "from sklearn.model_selection import train_test_split\n",
        "\n",
        "# Bagi data menjadi 80% data pelatihan dan 20% data pengujian\n",
        "X_train2, X_test2, y_train2, y_test2 = train_test_split(X_pca, y, test_size=0.2, random_state=42)\n",
        "\n",
        "# Hasil dari pembagian data\n",
        "print(\"Data Train Count:\", len(X_train2))\n",
        "print(\"Data Test Count:\", len(X_test2))"
      ],
      "metadata": {
        "id": "Q-ugNXRuxKXz",
        "outputId": "2a94e479-f9ca-40b1-c1af-bf7d1935073f",
        "colab": {
          "base_uri": "https://localhost:8080/"
        }
      },
      "execution_count": 77,
      "outputs": [
        {
          "output_type": "stream",
          "name": "stdout",
          "text": [
            "Data Train Count: 56000\n",
            "Data Test Count: 14000\n"
          ]
        }
      ]
    },
    {
      "cell_type": "code",
      "source": [
        "Rasio 90:10"
      ],
      "metadata": {
        "id": "BSGEM7IyxOcy"
      },
      "execution_count": null,
      "outputs": []
    },
    {
      "cell_type": "code",
      "source": [
        "from sklearn.model_selection import train_test_split\n",
        "\n",
        "# Bagi data menjadi 90% data pelatihan dan 10% data pengujian\n",
        "X_train3, X_test3, y_train3, y_test3 = train_test_split(X_pca, y, test_size=0.1, random_state=42)\n",
        "\n",
        "# Hasil dari pembagian data\n",
        "print(\"Data Train Count:\", len(X_train3))\n",
        "print(\"Data Test Count:\", len(X_test3))"
      ],
      "metadata": {
        "id": "WtmssAaQxP3d",
        "outputId": "9d1eac5d-2a9e-4da5-a63a-fa72aa136e85",
        "colab": {
          "base_uri": "https://localhost:8080/"
        }
      },
      "execution_count": 78,
      "outputs": [
        {
          "output_type": "stream",
          "name": "stdout",
          "text": [
            "Data Train Count: 63000\n",
            "Data Test Count: 7000\n"
          ]
        }
      ]
    },
    {
      "cell_type": "code",
      "source": [
        "Nomor 5: Lakukan proses klasifikasi dengan menggunakan algoritma Naive Bayes dan SVM"
      ],
      "metadata": {
        "id": "8V1FI3MAxXGJ"
      },
      "execution_count": null,
      "outputs": []
    },
    {
      "cell_type": "code",
      "source": [
        "Naive Bayes\n",
        "Rasio 70:30"
      ],
      "metadata": {
        "id": "m8KUlZwNxY15"
      },
      "execution_count": null,
      "outputs": []
    },
    {
      "cell_type": "code",
      "source": [
        "from sklearn.naive_bayes import GaussianNB\n",
        "from sklearn.metrics import accuracy_score\n",
        "\n",
        "# Membuat model Naive Bayes Gaussian\n",
        "nb_model = GaussianNB()\n",
        "\n",
        "# Melatih model Naive Bayes menggunakan data pelatihan\n",
        "nb_model.fit(X_train1, y_train1)\n",
        "\n",
        "# Menguji model pada data pengujian\n",
        "y_pred_nb1 = nb_model.predict(X_test1)\n",
        "\n",
        "# Mengukur akurasi model Naive Bayes\n",
        "accuracy_nb1 = accuracy_score(y_test1, y_pred_nb1)\n",
        "print(\"Accuracy Naive Bayes:\", accuracy_nb1)"
      ],
      "metadata": {
        "id": "Wy868qaDxdiC",
        "outputId": "ff495262-4367-4512-990b-bbb1e8b0e8df",
        "colab": {
          "base_uri": "https://localhost:8080/"
        }
      },
      "execution_count": 79,
      "outputs": [
        {
          "output_type": "stream",
          "name": "stdout",
          "text": [
            "Accuracy Naive Bayes: 0.8704285714285714\n"
          ]
        }
      ]
    },
    {
      "cell_type": "code",
      "source": [
        "Rasio 80:20"
      ],
      "metadata": {
        "id": "Bo73NRPyxhHM"
      },
      "execution_count": null,
      "outputs": []
    },
    {
      "cell_type": "code",
      "source": [
        "# Melatih model Naive Bayes menggunakan data pelatihan\n",
        "nb_model.fit(X_train2, y_train2)\n",
        "\n",
        "# Menguji model pada data pengujian\n",
        "y_pred_nb2 = nb_model.predict(X_test2)\n",
        "\n",
        "# Mengukur akurasi model Naive Bayes\n",
        "accuracy_nb2 = accuracy_score(y_test2, y_pred_nb2)\n",
        "print(\"Accuracy Naive Bayes:\", accuracy_nb2)"
      ],
      "metadata": {
        "id": "wMCAfjAgxlOW",
        "outputId": "83128409-5808-4e7c-e5b0-34db2c71ef7f",
        "colab": {
          "base_uri": "https://localhost:8080/"
        }
      },
      "execution_count": 80,
      "outputs": [
        {
          "output_type": "stream",
          "name": "stdout",
          "text": [
            "Accuracy Naive Bayes: 0.8722857142857143\n"
          ]
        }
      ]
    },
    {
      "cell_type": "code",
      "source": [
        "Rasio 90:10"
      ],
      "metadata": {
        "id": "o-0AWbOuxowK"
      },
      "execution_count": null,
      "outputs": []
    },
    {
      "cell_type": "code",
      "source": [
        "# Melatih model Naive Bayes menggunakan data pelatihan\n",
        "nb_model.fit(X_train3, y_train3)\n",
        "\n",
        "# Menguji model pada data pengujian\n",
        "y_pred_nb3 = nb_model.predict(X_test3)\n",
        "\n",
        "# Mengukur akurasi model Naive Bayes\n",
        "accuracy_nb3 = accuracy_score(y_test3, y_pred_nb3)\n",
        "print(\"Accuracy Naive Bayes:\", accuracy_nb3)"
      ],
      "metadata": {
        "id": "MoxVxN-8xsWY",
        "outputId": "3e2e78f3-9f97-4b76-cdff-a5913ec19488",
        "colab": {
          "base_uri": "https://localhost:8080/"
        }
      },
      "execution_count": 81,
      "outputs": [
        {
          "output_type": "stream",
          "name": "stdout",
          "text": [
            "Accuracy Naive Bayes: 0.8688571428571429\n"
          ]
        }
      ]
    },
    {
      "cell_type": "code",
      "source": [
        "from sklearn.metrics import accuracy_score, classification_report, confusion_matrix\n",
        "\n",
        "# Evaluasi model Naive Bayes terhadap data pelatihan\n",
        "y_train_pred_nb1 = nb_model.predict(X_train1)\n",
        "accuracy_train_nb1 = accuracy_score(y_train1, y_train_pred_nb1)\n",
        "print(\"Accuracy Naive Bayes (Training):\", accuracy_train_nb1)\n",
        "\n",
        "# Classification report Naive Bayes untuk data pelatihan\n",
        "print(\"Classification Report Naive Bayes (Training):\\n\", classification_report(y_train1, y_train_pred_nb1))\n",
        "\n",
        "# Confusion matrix Naive Bayes untuk data pelatihan\n",
        "confusion_matrix_nb_train1 = confusion_matrix(y_train1, y_train_pred_nb1)\n",
        "print(\"Confusion Matrix Naive Bayes (Training):\\n\", confusion_matrix_nb_train1)\n"
      ],
      "metadata": {
        "id": "R_pHQAIwyAhg",
        "outputId": "a562202b-45aa-4200-b9e0-748f7c8faf29",
        "colab": {
          "base_uri": "https://localhost:8080/"
        }
      },
      "execution_count": 83,
      "outputs": [
        {
          "output_type": "stream",
          "name": "stdout",
          "text": [
            "Accuracy Naive Bayes (Training): 0.8724285714285714\n",
            "Classification Report Naive Bayes (Training):\n",
            "               precision    recall  f1-score   support\n",
            "\n",
            "           0       0.96      0.93      0.95      4845\n",
            "           1       0.96      0.93      0.95      5513\n",
            "           2       0.83      0.85      0.84      4857\n",
            "           3       0.84      0.83      0.84      4965\n",
            "           4       0.86      0.86      0.86      4888\n",
            "           5       0.77      0.84      0.80      4398\n",
            "           6       0.92      0.92      0.92      4788\n",
            "           7       0.92      0.86      0.89      5045\n",
            "           8       0.84      0.84      0.84      4833\n",
            "           9       0.82      0.83      0.83      4868\n",
            "\n",
            "    accuracy                           0.87     49000\n",
            "   macro avg       0.87      0.87      0.87     49000\n",
            "weighted avg       0.87      0.87      0.87     49000\n",
            "\n",
            "Confusion Matrix Naive Bayes (Training):\n",
            " [[4529    0   42   49    3  129   70    7   10    6]\n",
            " [   0 5151  106   26    9   79   30   28   70   14]\n",
            " [  44   13 4149  127   81   52   69   80  209   33]\n",
            " [  10   11  168 4139    9  266   18   74  186   84]\n",
            " [   2   25   80    4 4202   51   56   19   45  404]\n",
            " [  25    6   74  268   59 3713   71   31  114   37]\n",
            " [  43    8   61   11   27  215 4386    1   31    5]\n",
            " [  19   86   93   34  151   37   14 4359   56  196]\n",
            " [  31   35  123  202   34  207   28   22 4070   81]\n",
            " [  28   20  107   62  292   91   11  127   79 4051]]\n"
          ]
        }
      ]
    },
    {
      "cell_type": "code",
      "source": [
        "# Evaluasi model Naive Bayes terhadap data pengujian\n",
        "y_test_pred_nb1 = nb_model.predict(X_test1)\n",
        "accuracy_test_nb1 = accuracy_score(y_test1, y_test_pred_nb1)\n",
        "print(\"\\nAccuracy Naive Bayes (Testing):\", accuracy_test_nb1)\n",
        "\n",
        "# Classification report Naive Bayes untuk data pengujian\n",
        "print(\"Classification Report Naive Bayes (Testing):\\n\", classification_report(y_test1, y_test_pred_nb1))\n",
        "\n",
        "# Confusion matrix Naive Bayes untuk data pengujian\n",
        "confusion_matrix_nb_test1 = confusion_matrix(y_test1, y_test_pred_nb1)\n",
        "print(\"Confusion Matrix Naive Bayes (Testing):\\n\", confusion_matrix_nb_test1)"
      ],
      "metadata": {
        "id": "Gk2syAAHyJNO",
        "outputId": "d464a71c-2909-475d-ad01-cbbcfc9a59a6",
        "colab": {
          "base_uri": "https://localhost:8080/"
        }
      },
      "execution_count": 84,
      "outputs": [
        {
          "output_type": "stream",
          "name": "stdout",
          "text": [
            "\n",
            "Accuracy Naive Bayes (Testing): 0.8705714285714286\n",
            "Classification Report Naive Bayes (Testing):\n",
            "               precision    recall  f1-score   support\n",
            "\n",
            "           0       0.95      0.93      0.94      2058\n",
            "           1       0.95      0.95      0.95      2364\n",
            "           2       0.83      0.85      0.84      2133\n",
            "           3       0.84      0.83      0.83      2176\n",
            "           4       0.85      0.85      0.85      1936\n",
            "           5       0.76      0.83      0.79      1915\n",
            "           6       0.92      0.92      0.92      2088\n",
            "           7       0.92      0.87      0.89      2248\n",
            "           8       0.84      0.83      0.83      1992\n",
            "           9       0.83      0.84      0.83      2090\n",
            "\n",
            "    accuracy                           0.87     21000\n",
            "   macro avg       0.87      0.87      0.87     21000\n",
            "weighted avg       0.87      0.87      0.87     21000\n",
            "\n",
            "Confusion Matrix Naive Bayes (Testing):\n",
            " [[1913    0   14   12    4   68   35    5    5    2]\n",
            " [   1 2234   39   13    2   30    4   11   27    3]\n",
            " [  21   21 1821   58   26   28   39   29   80   10]\n",
            " [   7    6   63 1798    4  129   15   37   82   35]\n",
            " [   2   12   34    4 1647   19   15    9   15  179]\n",
            " [  15    3   32  127   33 1595   31    9   53   17]\n",
            " [  11    2   40    3   18   84 1922    1    6    1]\n",
            " [  11   39   47   12   77   16    3 1953   20   70]\n",
            " [   9   21   40   92   17   99   16   11 1650   37]\n",
            " [  19   11   53   22  113   31    2   54   36 1749]]\n"
          ]
        }
      ]
    },
    {
      "cell_type": "code",
      "source": [
        "import matplotlib.pyplot as plt\n",
        "\n",
        "# Memilih beberapa sampel dari data pengujian untuk ditampilkan\n",
        "n_samples_to_display = 12\n",
        "\n",
        "# Mengambil sampel data pengujian dan hasil prediksinya\n",
        "X_samples = X_test1[:n_samples_to_display]\n",
        "x_restored = pca.inverse_transform(X_test1)\n",
        "y_true_samples = y_test1[:n_samples_to_display]\n",
        "y_pred_samples = y_test_pred_nb1[:n_samples_to_display]\n",
        "\n",
        "# Menampilkan citra berserta hasil prediksi\n",
        "plt.figure(figsize=(12, 6))\n",
        "for i in range(n_samples_to_display):\n",
        "    plt.subplot(2, 6, i + 1)\n",
        "    plt.imshow(x_restored[i].reshape(28, 28), cmap='gray')\n",
        "    plt.title(f'True: {y_true_samples[i]}\\nPred: {y_pred_samples[i]}', fontsize=10)\n",
        "    plt.axis('off')\n",
        "\n",
        "plt.tight_layout()\n",
        "plt.show()"
      ],
      "metadata": {
        "id": "ayTQnOrbyX4T",
        "outputId": "5c5e0b99-c6df-4aa8-ce33-b0063d675330",
        "colab": {
          "base_uri": "https://localhost:8080/",
          "height": 458
        }
      },
      "execution_count": 85,
      "outputs": [
        {
          "output_type": "display_data",
          "data": {
            "text/plain": [
              "<Figure size 1200x600 with 12 Axes>"
            ],
            "image/png": "[encoded data removed]"
          },
          "metadata": {}
        }
      ]
    },
    {
      "cell_type": "code",
      "source": [
        "Lakukan proses klasifikasi dengan menggunakan algoritma Naive Bayes Multinomial"
      ],
      "metadata": {
        "id": "El6al1MIyjwo"
      },
      "execution_count": null,
      "outputs": []
    },
    {
      "cell_type": "code",
      "source": [
        "import numpy as np\n",
        "import matplotlib.pyplot as plt\n",
        "from sklearn.datasets import fetch_openml\n",
        "from sklearn.linear_model import LogisticRegression\n",
        "from sklearn.metrics import accuracy_score, classification_report\n",
        "from sklearn.model_selection import train_test_split\n",
        "from sklearn.preprocessing import StandardScaler\n",
        "from sklearn.decomposition import PCA"
      ],
      "metadata": {
        "id": "kPivxXDvyqYw"
      },
      "execution_count": 86,
      "outputs": []
    },
    {
      "cell_type": "code",
      "source": [
        "# Memisahkan fitur (X) dan label (y)\n",
        "X = mnist.data\n",
        "y = mnist.target"
      ],
      "metadata": {
        "id": "U3hhb45gyxNb"
      },
      "execution_count": 87,
      "outputs": []
    },
    {
      "cell_type": "code",
      "source": [
        "Klasifikasi Naive Bayes Multinomial\n",
        "\n",
        "Rasio 70:30"
      ],
      "metadata": {
        "id": "h_rdzsN2y5if"
      },
      "execution_count": null,
      "outputs": []
    },
    {
      "cell_type": "code",
      "source": [
        "\n",
        "from sklearn.linear_model import LogisticRegression\n",
        "from sklearn.metrics import accuracy_score, classification_report\n",
        "from sklearn.preprocessing import MinMaxScaler\n",
        "from sklearn.pipeline import Pipeline\n",
        "\n",
        "# Menyusun pipeline dengan skala dan model Logistic Regression\n",
        "scaler = MinMaxScaler()\n",
        "model = LogisticRegression(multi_class='multinomial', solver='lbfgs', max_iter=1000, random_state=42)\n",
        "\n",
        "# Menyusun pipeline dengan skala dan model Logistic Regression\n",
        "pipeline = Pipeline([('scaler', scaler), ('model', model)])\n",
        "\n",
        "# Melatih model Logistic Regression dengan data yang telah di-scala\n",
        "pipeline.fit(X_train1, y_train1)\n",
        "\n",
        "# Menguji model pada data pengujian\n",
        "y_pred1 = pipeline.predict(X_test1)\n",
        "\n",
        "# Menghitung akurasi\n",
        "accuracy1 = accuracy_score(y_test1, y_pred1)\n",
        "print(\"Akurasi Model:\", accuracy1)"
      ],
      "metadata": {
        "id": "FBqSHUZIy760",
        "outputId": "a9981eea-5b12-4516-f0bf-f3ab6fc88711",
        "colab": {
          "base_uri": "https://localhost:8080/"
        }
      },
      "execution_count": 88,
      "outputs": [
        {
          "output_type": "stream",
          "name": "stdout",
          "text": [
            "Akurasi Model: 0.9031428571428571\n"
          ]
        }
      ]
    },
    {
      "cell_type": "code",
      "source": [
        "Rasio 80:20"
      ],
      "metadata": {
        "id": "uI6_rQSUzK38"
      },
      "execution_count": null,
      "outputs": []
    },
    {
      "cell_type": "code",
      "source": [
        "# Melatih model Logistic Regression dengan data yang telah di-scala\n",
        "pipeline.fit(X_train2, y_train2)\n",
        "\n",
        "# Menguji model pada data pengujian\n",
        "y_pred2 = pipeline.predict(X_test2)\n",
        "\n",
        "# Menghitung akurasi\n",
        "accuracy2 = accuracy_score(y_test2, y_pred2)\n",
        "print(\"Akurasi Model:\", accuracy2)"
      ],
      "metadata": {
        "id": "lKdZZc4xzOES",
        "outputId": "3b53fcec-612a-4b51-8bc2-a4176efc918b",
        "colab": {
          "base_uri": "https://localhost:8080/"
        }
      },
      "execution_count": 89,
      "outputs": [
        {
          "output_type": "stream",
          "name": "stdout",
          "text": [
            "Akurasi Model: 0.9039285714285714\n"
          ]
        }
      ]
    },
    {
      "cell_type": "code",
      "source": [
        "Rasio 90:10"
      ],
      "metadata": {
        "id": "DLJgw1CpzXQi"
      },
      "execution_count": null,
      "outputs": []
    },
    {
      "cell_type": "code",
      "source": [
        "# Melatih model Logistic Regression dengan data yang telah di-scala\n",
        "pipeline.fit(X_train3, y_train3)\n",
        "\n",
        "# Menguji model pada data pengujian\n",
        "y_pred3 = pipeline.predict(X_test3)\n",
        "\n",
        "# Menghitung akurasi\n",
        "accuracy3 = accuracy_score(y_test3, y_pred3)\n",
        "print(\"Akurasi Model:\", accuracy3)"
      ],
      "metadata": {
        "id": "5kyQ3gBHzaqu",
        "outputId": "f9480895-a3e2-4ba5-ee1f-07db4a336fc6",
        "colab": {
          "base_uri": "https://localhost:8080/"
        }
      },
      "execution_count": 90,
      "outputs": [
        {
          "output_type": "stream",
          "name": "stdout",
          "text": [
            "Akurasi Model: 0.9041428571428571\n"
          ]
        }
      ]
    },
    {
      "cell_type": "code",
      "source": [
        "from sklearn.metrics import confusion_matrix\n",
        "\n",
        "# Menguji model pada data training\n",
        "y_train_pred2 = model.predict(X_train2)\n",
        "\n",
        "# Menghitung akurasi pada data training\n",
        "accuracy_train2 = accuracy_score(y_train2, y_train_pred2)\n",
        "print(\"Akurasi Data Training:\", accuracy_train2)\n",
        "\n",
        "# Menampilkan laporan klasifikasi untuk data training\n",
        "print(\"Laporan Klasifikasi Data Training:\")\n",
        "print(classification_report(y_train2, y_train_pred2))\n",
        "\n",
        "# Menghitung dan menampilkan confusion matrix untuk data pengujian\n",
        "conf_matrix2 = confusion_matrix(y_test2, y_pred2)\n",
        "print(\"Confusion Matrix:\")\n",
        "print(conf_matrix2)\n",
        "# Pada bagian ini, kita melakukan prediksi pada data training dan menghitung akurasi pada data training. Selanjutnya,"
      ],
      "metadata": {
        "id": "cJl2lsQkzu2A",
        "outputId": "121f38ce-f52a-45d8-8132-7e429dab40c1",
        "colab": {
          "base_uri": "https://localhost:8080/"
        }
      },
      "execution_count": 91,
      "outputs": [
        {
          "output_type": "stream",
          "name": "stdout",
          "text": [
            "Akurasi Data Training: 0.8155714285714286\n",
            "Laporan Klasifikasi Data Training:\n",
            "              precision    recall  f1-score   support\n",
            "\n",
            "           0       0.79      0.98      0.88      5560\n",
            "           1       0.64      0.99      0.78      6277\n",
            "           2       0.94      0.73      0.82      5610\n",
            "           3       0.87      0.81      0.84      5708\n",
            "           4       0.78      0.93      0.85      5529\n",
            "           5       0.92      0.60      0.73      5040\n",
            "           6       0.86      0.94      0.90      5480\n",
            "           7       0.79      0.92      0.85      5790\n",
            "           8       0.95      0.57      0.71      5468\n",
            "           9       0.90      0.64      0.74      5538\n",
            "\n",
            "    accuracy                           0.82     56000\n",
            "   macro avg       0.85      0.81      0.81     56000\n",
            "weighted avg       0.84      0.82      0.81     56000\n",
            "\n",
            "Confusion Matrix:\n",
            "[[1297    1    5    3    1   10   14    3    8    1]\n",
            " [   0 1541    4   11    1   11    1    6   21    4]\n",
            " [   5   23 1206   18   23    8   26   24   37   10]\n",
            " [   5    9   35 1242    3   61   11   22   27   18]\n",
            " [   2    4   12    4 1183    1   13    5   10   61]\n",
            " [  10   14   11   57   22 1091   14    6   35   13]\n",
            " [   5    4   16    2   16   24 1323    2    2    2]\n",
            " [   8   15   23    4   11    4    0 1393    5   40]\n",
            " [   7   37   21   55    8   47   18   12 1132   20]\n",
            " [   8   13   11   17   47   11    0   53   13 1247]]\n"
          ]
        }
      ]
    },
    {
      "cell_type": "code",
      "source": [
        "# Menguji model pada data pengujian\n",
        "y_test_pred2 = model.predict(X_test2)\n",
        "\n",
        "# Menghitung akurasi pada data pengujian\n",
        "accuracy_test2 = accuracy_score(y_test2, y_test_pred2)\n",
        "print(\"Akurasi Data Testing:\", accuracy_test2)\n",
        "\n",
        "# Menampilkan laporan klasifikasi untuk data pengujian\n",
        "print(\"Laporan Klasifikasi Data Testing:\")\n",
        "print(classification_report(y_test2, y_test_pred2))\n",
        "\n",
        "# Menghitung dan menampilkan confusion matrix untuk data pengujian\n",
        "conf_matrix_test2 = confusion_matrix(y_test2, y_test_pred2)\n",
        "print(\"Confusion Matrix Data Testing:\")\n",
        "print(conf_matrix_test2)"
      ],
      "metadata": {
        "id": "jYqUtxgwzvGc",
        "outputId": "5b98a0d6-2f58-442f-e317-61a4f38ad510",
        "colab": {
          "base_uri": "https://localhost:8080/"
        }
      },
      "execution_count": 92,
      "outputs": [
        {
          "output_type": "stream",
          "name": "stdout",
          "text": [
            "Akurasi Data Testing: 0.8209285714285715\n",
            "Laporan Klasifikasi Data Testing:\n",
            "              precision    recall  f1-score   support\n",
            "\n",
            "           0       0.78      0.98      0.87      1343\n",
            "           1       0.65      0.99      0.79      1600\n",
            "           2       0.95      0.74      0.83      1380\n",
            "           3       0.87      0.81      0.84      1433\n",
            "           4       0.78      0.93      0.85      1295\n",
            "           5       0.93      0.61      0.74      1273\n",
            "           6       0.86      0.93      0.89      1396\n",
            "           7       0.81      0.94      0.87      1503\n",
            "           8       0.96      0.58      0.72      1357\n",
            "           9       0.92      0.65      0.76      1420\n",
            "\n",
            "    accuracy                           0.82     14000\n",
            "   macro avg       0.85      0.82      0.82     14000\n",
            "weighted avg       0.85      0.82      0.82     14000\n",
            "\n",
            "Confusion Matrix Data Testing:\n",
            "[[1318    1    0    2    2    1   16    2    1    0]\n",
            " [   0 1582    3    5    2    1    0    5    1    1]\n",
            " [  63  138 1020   16   32    0   62   32   15    2]\n",
            " [  50   91   15 1158    4   27   18   43   10   17]\n",
            " [   9   34    2    0 1209    0   18   11    1   11]\n",
            " [ 116  140    4   68   61  774   62   31    4   13]\n",
            " [  25   48    4    0   13    4 1300    2    0    0]\n",
            " [  11   54    7    0   10    0    1 1413    0    7]\n",
            " [  66  267   17   70   30   22   35   26  790   34]\n",
            " [  30   65    4   14  197    1    5  173    2  929]]\n"
          ]
        }
      ]
    },
    {
      "cell_type": "code",
      "source": [
        "import matplotlib.pyplot as plt\n",
        "\n",
        "# Memilih beberapa sampel dari data pengujian untuk ditampilkan\n",
        "n_samples_to_display = 10\n",
        "\n",
        "# Mengambil sampel data pengujian dan hasil prediksinya\n",
        "X_samples = X_test2[:n_samples_to_display]\n",
        "x_restored = pca.inverse_transform(X_test2)\n",
        "y_true_samples = y_test2[:n_samples_to_display]\n",
        "y_pred_samples = y_test_pred2[:n_samples_to_display]\n",
        "\n",
        "# Menampilkan citra berserta hasil prediksi\n",
        "plt.figure(figsize=(12, 6))\n",
        "for i in range(n_samples_to_display):\n",
        "    plt.subplot(2, 5, i + 1)\n",
        "    plt.imshow(x_restored[i].reshape(28, 28), cmap='gray')\n",
        "    plt.title(f'True: {y_true_samples[i]}\\nPred: {y_pred_samples[i]}', fontsize=10)\n",
        "    plt.axis('off')\n",
        "\n",
        "plt.tight_layout()\n",
        "plt.show()"
      ],
      "metadata": {
        "id": "XBiTbZTw0AOs",
        "outputId": "4bad698f-67a1-4535-e565-f20557f57795",
        "colab": {
          "base_uri": "https://localhost:8080/",
          "height": 500
        }
      },
      "execution_count": 93,
      "outputs": [
        {
          "output_type": "display_data",
          "data": {
            "text/plain": [
              "<Figure size 1200x600 with 10 Axes>"
            ],
            "image/png": "[encoded data removed]"
          },
          "metadata": {}
        }
      ]
    },
    {
      "cell_type": "code",
      "source": [
        "2.3 Gaussian Naive Bayes dengan Histogram"
      ],
      "metadata": {
        "id": "O__LRyjT0MMn"
      },
      "execution_count": null,
      "outputs": []
    },
    {
      "cell_type": "code",
      "source": [
        "# Unduh Dataset MNIST\n",
        "from sklearn.datasets import fetch_openml\n",
        "\n",
        "mnist = fetch_openml('mnist_784', version = 1, as_frame = False)"
      ],
      "metadata": {
        "id": "pHN42qgk0tve",
        "outputId": "fb540615-df98-480b-b105-5ac9853335c2",
        "colab": {
          "base_uri": "https://localhost:8080/"
        }
      },
      "execution_count": 94,
      "outputs": [
        {
          "output_type": "stream",
          "name": "stderr",
          "text": [
            "/usr/local/lib/python3.10/dist-packages/sklearn/datasets/_openml.py:968: FutureWarning: The default value of `parser` will change from `'liac-arff'` to `'auto'` in 1.4. You can set `parser='auto'` to silence this warning. Therefore, an `ImportError` will be raised from 1.4 if the dataset is dense and pandas is not installed. Note that the pandas parser may return different data types. See the Notes Section in fetch_openml's API doc for details.\n",
            "  warn(\n"
          ]
        }
      ]
    },
    {
      "cell_type": "code",
      "source": [
        "# Baca deskripsi dataset\n",
        "# Tahap ini mungkin diperlukan untuk lebih memahami dataset\n",
        "print(mnist.DESCR)"
      ],
      "metadata": {
        "id": "EYcrGYrK0uAN",
        "outputId": "3361ca86-8e4b-4ec5-c4e1-d4caaf1a671c",
        "colab": {
          "base_uri": "https://localhost:8080/"
        }
      },
      "execution_count": 95,
      "outputs": [
        {
          "output_type": "stream",
          "name": "stdout",
          "text": [
            "**Author**: Yann LeCun, Corinna Cortes, Christopher J.C. Burges  \n",
            "**Source**: [MNIST Website](http://yann.lecun.com/exdb/mnist/) - Date unknown  \n",
            "**Please cite**:  \n",
            "\n",
            "The MNIST database of handwritten digits with 784 features, raw data available at: http://yann.lecun.com/exdb/mnist/. It can be split in a training set of the first 60,000 examples, and a test set of 10,000 examples  \n",
            "\n",
            "It is a subset of a larger set available from NIST. The digits have been size-normalized and centered in a fixed-size image. It is a good database for people who want to try learning techniques and pattern recognition methods on real-world data while spending minimal efforts on preprocessing and formatting. The original black and white (bilevel) images from NIST were size normalized to fit in a 20x20 pixel box while preserving their aspect ratio. The resulting images contain grey levels as a result of the anti-aliasing technique used by the normalization algorithm. the images were centered in a 28x28 image by computing the center of mass of the pixels, and translating the image so as to position this point at the center of the 28x28 field.  \n",
            "\n",
            "With some classification methods (particularly template-based methods, such as SVM and K-nearest neighbors), the error rate improves when the digits are centered by bounding box rather than center of mass. If you do this kind of pre-processing, you should report it in your publications. The MNIST database was constructed from NIST's NIST originally designated SD-3 as their training set and SD-1 as their test set. However, SD-3 is much cleaner and easier to recognize than SD-1. The reason for this can be found on the fact that SD-3 was collected among Census Bureau employees, while SD-1 was collected among high-school students. Drawing sensible conclusions from learning experiments requires that the result be independent of the choice of training set and test among the complete set of samples. Therefore it was necessary to build a new database by mixing NIST's datasets.  \n",
            "\n",
            "The MNIST training set is composed of 30,000 patterns from SD-3 and 30,000 patterns from SD-1. Our test set was composed of 5,000 patterns from SD-3 and 5,000 patterns from SD-1. The 60,000 pattern training set contained examples from approximately 250 writers. We made sure that the sets of writers of the training set and test set were disjoint. SD-1 contains 58,527 digit images written by 500 different writers. In contrast to SD-3, where blocks of data from each writer appeared in sequence, the data in SD-1 is scrambled. Writer identities for SD-1 is available and we used this information to unscramble the writers. We then split SD-1 in two: characters written by the first 250 writers went into our new training set. The remaining 250 writers were placed in our test set. Thus we had two sets with nearly 30,000 examples each. The new training set was completed with enough examples from SD-3, starting at pattern # 0, to make a full set of 60,000 training patterns. Similarly, the new test set was completed with SD-3 examples starting at pattern # 35,000 to make a full set with 60,000 test patterns. Only a subset of 10,000 test images (5,000 from SD-1 and 5,000 from SD-3) is available on this site. The full 60,000 sample training set is available.\n",
            "\n",
            "Downloaded from openml.org.\n"
          ]
        }
      ]
    },
    {
      "cell_type": "code",
      "source": [
        "# Inspeksi semua key dalam dataset\n",
        "# Cara ini digunakan untuk memahami struktur dari dataset MNIST\n",
        "mnist.keys()"
      ],
      "metadata": {
        "id": "p-0cMStq08qP",
        "outputId": "5684a568-3c78-432c-f092-eb7b0f107061",
        "colab": {
          "base_uri": "https://localhost:8080/"
        }
      },
      "execution_count": 96,
      "outputs": [
        {
          "output_type": "execute_result",
          "data": {
            "text/plain": [
              "dict_keys(['data', 'target', 'frame', 'categories', 'feature_names', 'target_names', 'DESCR', 'details', 'url'])"
            ]
          },
          "metadata": {},
          "execution_count": 96
        }
      ]
    },
    {
      "cell_type": "code",
      "source": [
        "import numpy as np\n",
        "import matplotlib.pyplot as plt\n",
        "from sklearn.datasets import fetch_openml\n",
        "\n",
        "# Mengunduh dataset MNIST\n",
        "mnist = fetch_openml('mnist_784', version=1, as_frame=False)\n",
        "\n",
        "label_counts = np.unique(mnist.target, return_counts=True)\n",
        "\n",
        "# Menampilkan jumlah data dari setiap label\n",
        "print(label_counts)\n",
        "\n",
        "unique_labels, label_counts = np.unique(mnist.target, return_counts=True)\n",
        "plt.bar(unique_labels, label_counts)\n",
        "plt.xlabel('Kelas atau Label')\n",
        "plt.ylabel('Jumlah Sampel')\n",
        "plt.title('Distribusi Kelas atau Label')\n",
        "plt.xticks(unique_labels)\n",
        "plt.show()"
      ],
      "metadata": {
        "id": "vkzpY56g0_0t",
        "outputId": "4f0aec55-58c4-4e27-c7f2-3d517deeb000",
        "colab": {
          "base_uri": "https://localhost:8080/",
          "height": 509
        }
      },
      "execution_count": 97,
      "outputs": [
        {
          "output_type": "stream",
          "name": "stdout",
          "text": [
            "(array(['0', '1', '2', '3', '4', '5', '6', '7', '8', '9'], dtype=object), array([6903, 7877, 6990, 7141, 6824, 6313, 6876, 7293, 6825, 6958]))\n"
          ]
        },
        {
          "output_type": "display_data",
          "data": {
            "text/plain": [
              "<Figure size 640x480 with 1 Axes>"
            ],
            "image/png": "[encoded data removed]"
          },
          "metadata": {}
        }
      ]
    },
    {
      "cell_type": "code",
      "source": [
        "# Menghitung jumlah data untuk setiap label (0-9)\n",
        "label_counts = np.bincount(mnist.target.astype(int))\n",
        "\n",
        "# Menampilkan jumlah data untuk setiap label\n",
        "for i in range(10):\n",
        "    print(f\"Data Count for Label {i}: {label_counts[i]}\")"
      ],
      "metadata": {
        "id": "LchMYV031Lqn",
        "outputId": "4d5ec273-880d-4807-da9d-54381cb9da53",
        "colab": {
          "base_uri": "https://localhost:8080/"
        }
      },
      "execution_count": 98,
      "outputs": [
        {
          "output_type": "stream",
          "name": "stdout",
          "text": [
            "Data Count for Label 0: 6903\n",
            "Data Count for Label 1: 7877\n",
            "Data Count for Label 2: 6990\n",
            "Data Count for Label 3: 7141\n",
            "Data Count for Label 4: 6824\n",
            "Data Count for Label 5: 6313\n",
            "Data Count for Label 6: 6876\n",
            "Data Count for Label 7: 7293\n",
            "Data Count for Label 8: 6825\n",
            "Data Count for Label 9: 6958\n"
          ]
        }
      ]
    },
    {
      "cell_type": "code",
      "source": [
        "# Mengambil data dan label\n",
        "X = mnist.data\n",
        "y = mnist.target\n",
        "\n",
        "# Menampilkan 15 citra pertama berserta labelnya\n",
        "plt.figure(figsize=(12, 5))\n",
        "for i in range(15):\n",
        "    plt.subplot(3, 5, i + 1)\n",
        "    plt.imshow(X[i].reshape(28, 28), cmap='gray')\n",
        "    plt.title(f'Label: {y[i]}')\n",
        "    plt.axis('off')\n",
        "\n",
        "plt.show()"
      ],
      "metadata": {
        "id": "0uCA2ERE1kwk",
        "outputId": "e700e704-dd68-46d1-a10d-d482d25ac36c",
        "colab": {
          "base_uri": "https://localhost:8080/",
          "height": 444
        }
      },
      "execution_count": 99,
      "outputs": [
        {
          "output_type": "display_data",
          "data": {
            "text/plain": [
              "<Figure size 1200x500 with 15 Axes>"
            ],
            "image/png": "[encoded data removed]"
          },
          "metadata": {}
        }
      ]
    },
    {
      "cell_type": "code",
      "source": [
        "Nomor 3: Lakukan proses ekstraksi fitur pada data MNIST. Pada proses ini, Anda diperbolehkan untuk"
      ],
      "metadata": {
        "id": "RRBYOVmE1ph7"
      },
      "execution_count": null,
      "outputs": []
    },
    {
      "cell_type": "code",
      "source": [
        "import matplotlib.pyplot as plt\n",
        "from keras.datasets import mnist\n",
        "# Memuat data MNIST\n",
        "(X_train, y_train), (X_test, y_test) = mnist.load_data()\n",
        "\n",
        "# Menampilkan citra dan histogram dari data pengujian\n",
        "num_images_to_display = 5\n",
        "\n",
        "# 1. Ekstraksi Fitur (Histogram)\n",
        "def extract_histogram_features(image):\n",
        "    histogram, _ = np.histogram(image.flatten(), bins=256, range=[0,256])\n",
        "    return histogram\n",
        "\n",
        "# Fungsi untuk menampilkan citra dan histogram\n",
        "def display_images_with_histograms(images, histograms, labels, num_images):\n",
        "    plt.figure(figsize=(15, 7))\n",
        "    for i in range(num_images):\n",
        "        plt.subplot(num_images, 2, 2*i + 1)\n",
        "        plt.imshow(images[i].reshape((28, 28)), cmap='gray')\n",
        "        plt.title(f\"Citra - Label: {labels[i]}\")\n",
        "        plt.axis('off')\n",
        "\n",
        "        plt.subplot(num_images, 2, 2*i + 2)\n",
        "        plt.bar(range(256), histograms[i], color='blue', alpha=0.7)\n",
        "        plt.title(\"Histogram\")\n",
        "        plt.xlabel(\"Intensitas Piksel\")\n",
        "        plt.ylabel(\"Frekuensi\")\n",
        "\n",
        "    plt.tight_layout()\n",
        "    plt.show()\n",
        "\n",
        "# Ekstraksi fitur dan histogram untuk setiap data gambar\n",
        "X_train_histograms = np.array([extract_histogram_features(image) for image in X_train])\n",
        "X_test_histograms = np.array([extract_histogram_features(image) for image in X_test])\n",
        "\n",
        "# Menampilkan citra dan histogram dari data pengujian\n",
        "display_images_with_histograms(X_test[:num_images_to_display], X_test_histograms[:num_images_to_display], y_test"
      ],
      "metadata": {
        "id": "hQMIY2CU2OPg"
      },
      "execution_count": null,
      "outputs": []
    },
    {
      "cell_type": "code",
      "source": [
        "Nomor 4: Buatlah data training dan data testing menggunakan rasio 70:30, 80:20, 90:10.\n",
        "\n",
        "Rasio 70:30"
      ],
      "metadata": {
        "id": "opMdIW9w2VDm"
      },
      "execution_count": null,
      "outputs": []
    },
    {
      "cell_type": "code",
      "source": [
        "from sklearn.model_selection import train_test_split\n",
        "\n",
        "# Bagi data menjadi 70% data pelatihan dan 30% data pengujian\n",
        "X_train_70, X_test_70, y_train_70, y_test_70 = train_test_split(X_train, y_train, test_size=0.3, random_state=42)\n",
        "\n",
        "# Hasil dari pembagian data\n",
        "print(\"Data Train Count:\", len(X_train_70))\n",
        "print(\"Data Test Count:\", len(X_test_70))"
      ],
      "metadata": {
        "id": "UvpoSgVv2dEQ",
        "outputId": "edbb6ea0-e9f2-437d-f115-67950964107e",
        "colab": {
          "base_uri": "https://localhost:8080/"
        }
      },
      "execution_count": 102,
      "outputs": [
        {
          "output_type": "stream",
          "name": "stdout",
          "text": [
            "Data Train Count: 44100\n",
            "Data Test Count: 18900\n"
          ]
        }
      ]
    },
    {
      "cell_type": "code",
      "source": [
        "from sklearn.model_selection import train_test_split\n",
        "\n",
        "# Bagi data menjadi 80% data pelatihan dan 20% data pengujian\n",
        "X_train_80, X_test_80, y_train_80, y_test_80 = train_test_split(X_train, y_train, test_size=0.2, random_state=42)\n",
        "\n",
        "# Hasil dari pembagian data\n",
        "print(\"Data Train Count:\", len(X_train_80))\n",
        "print(\"Data Test Count:\", len(X_test_80))"
      ],
      "metadata": {
        "id": "7eOgGsuZ2m1Z",
        "outputId": "1f811696-ca68-4d97-add3-51fee99cab3a",
        "colab": {
          "base_uri": "https://localhost:8080/"
        }
      },
      "execution_count": 103,
      "outputs": [
        {
          "output_type": "stream",
          "name": "stdout",
          "text": [
            "Data Train Count: 50400\n",
            "Data Test Count: 12600\n"
          ]
        }
      ]
    },
    {
      "cell_type": "code",
      "source": [
        "from sklearn.model_selection import train_test_split\n",
        "\n",
        "# Bagi data menjadi 90% data pelatihan dan 10% data pengujian\n",
        "X_train_90, X_test_90, y_train_90, y_test_90 = train_test_split(X_train, y_train, test_size=0.3, random_state=42)\n",
        "\n",
        "# Hasil dari pembagian data\n",
        "print(\"Data Train Count:\", len(X_train_90))\n",
        "print(\"Data Test Count:\", len(X_test_90))"
      ],
      "metadata": {
        "id": "Fpzpq6Xq2qoU",
        "outputId": "3fadab43-ecf4-460f-8e67-88870eaac4e9",
        "colab": {
          "base_uri": "https://localhost:8080/"
        }
      },
      "execution_count": 104,
      "outputs": [
        {
          "output_type": "stream",
          "name": "stdout",
          "text": [
            "Data Train Count: 44100\n",
            "Data Test Count: 18900\n"
          ]
        }
      ]
    },
    {
      "cell_type": "code",
      "source": [
        "Nomor 5: Lakukan proses klasifikasi dengan menggunakan algoritma Naive Bayes dan SVM"
      ],
      "metadata": {
        "id": "RTrh301L2wyD"
      },
      "execution_count": null,
      "outputs": []
    },
    {
      "cell_type": "code",
      "source": [
        "from sklearn.naive_bayes import GaussianNB\n",
        "from sklearn.metrics import accuracy_score\n",
        "\n",
        "# Inisialisasi model Gaussian Naive Bayes\n",
        "model = GaussianNB()\n",
        "\n",
        "# Melakukan flattening pada data gambar (2D)\n",
        "X_train_70_flat = X_train_70.reshape((X_train_70.shape[0], -1))\n",
        "X_test_70_flat = X_test_70.reshape((X_test_70.shape[0], -1))\n",
        "\n",
        "# Latih model dengan rasio 70:30\n",
        "model.fit(X_train_70_flat, y_train_70)\n",
        "\n",
        "# Klasifikasi untuk rasio 70:30\n",
        "y_pred_70 = model.predict(X_test_70_flat)\n",
        "accuracy_70 = accuracy_score(y_test_70, y_pred_70)\n",
        "print(\"Akurasi Model (70:30): {:.2f}%\".format(accuracy_70 * 100))\n",
        "\n",
        "# rasio 80:20\n",
        "\n",
        "# Melakukan flattening pada data gambar (2D)\n",
        "X_train_80_flat = X_train_80.reshape((X_train_80.shape[0], -1))\n",
        "X_test_80_flat = X_test_80.reshape((X_test_80.shape[0], -1))\n",
        "\n",
        "# Latih model dengan rasio 80:20\n",
        "model.fit(X_train_80_flat, y_train_80)\n",
        "\n",
        "# Klasifikasi untuk rasio 80:20\n",
        "y_pred_80 = model.predict(X_test_80_flat)\n",
        "accuracy_80 = accuracy_score(y_test_80, y_pred_80)\n",
        "print(\"Akurasi Model (80:20): {:.2f}%\".format(accuracy_80 * 100))\n",
        "\n",
        "# rasio 90:10\n",
        "\n",
        "# Melakukan flattening pada data gambar (2D)\n",
        "X_train_90_flat = X_train_90.reshape((X_train_90.shape[0], -1))\n",
        "X_test_90_flat = X_test_90.reshape((X_test_90.shape[0], -1))\n",
        "\n",
        "# Latih model dengan rasio 90:10\n",
        "model.fit(X_train_90_flat, y_train_90)\n",
        "\n",
        "# Klasifikasi untuk rasio 90:10\n",
        "y_pred_90 = model.predict(X_test_90_flat)\n",
        "accuracy_90 = accuracy_score(y_test_90, y_pred_90)\n",
        "print(\"Akurasi Model (90:10): {:.2f}%\".format(accuracy_90 * 100))"
      ],
      "metadata": {
        "id": "5EAh1UtV2z4g",
        "outputId": "54db257e-279c-40f7-95be-53e7f0355027",
        "colab": {
          "base_uri": "https://localhost:8080/"
        }
      },
      "execution_count": 105,
      "outputs": [
        {
          "output_type": "stream",
          "name": "stdout",
          "text": [
            "Akurasi Model (70:30): 56.92%\n",
            "Akurasi Model (80:20): 55.77%\n",
            "Akurasi Model (90:10): 56.92%\n"
          ]
        }
      ]
    },
    {
      "cell_type": "code",
      "source": [
        "from sklearn.metrics import accuracy_score, classification_report, confusion_matrix\n",
        "\n",
        "# ========== Rasio 70:30 ==========\n",
        "# Melakukan prediksi pada data pelatihan\n",
        "y_train_pred_70 = model.predict(X_train_70_flat)\n",
        "\n",
        "# Menghitung akurasi pada data pelatihan\n",
        "accuracy_train_70 = accuracy_score(y_train_70, y_train_pred_70)\n",
        "print(\"Akurasi pada Data Pelatihan (Rasio 70:30):\", accuracy_train_70)\n",
        "\n",
        "# Laporan Klasifikasi pada data pelatihan\n",
        "classification_report_train_70 = classification_report(y_train_70, y_train_pred_70)\n",
        "print(\"Laporan Klasifikasi pada Data Pelatihan (Rasio 70:30):\\n\", classification_report_train_70)\n",
        "\n",
        "# Matriks Kebingungan pada data pelatihan\n",
        "confusion_matrix_train_70 = confusion_matrix(y_train_70, y_train_pred_70)\n",
        "print(\"Matriks Kebingungan pada Data Pelatihan (Rasio 70:30):\\n\\n\", confusion_matrix_train_70)\n",
        "\n",
        "# ========== Rasio 80:20 ==========\n",
        "# Melakukan prediksi pada data pelatihan\n",
        "y_train_pred_80 = model.predict(X_train_80_flat)\n",
        "\n",
        "# Menghitung akurasi pada data pelatihan\n",
        "accuracy_train_80 = accuracy_score(y_train_80, y_train_pred_80)\n",
        "print(\"Akurasi pada Data Pelatihan (Rasio 80:20):\", accuracy_train_80)\n",
        "\n",
        "# Laporan Klasifikasi pada data pelatihan\n",
        "classification_report_train_80 = classification_report(y_train_80, y_train_pred_80)\n",
        "print(\"Laporan Klasifikasi pada Data Pelatihan (Rasio 80:20):\\n\", classification_report_train_80)\n",
        "\n",
        "# Matriks Kebingungan pada data pelatihan\n",
        "confusion_matrix_train_80 = confusion_matrix(y_train_80, y_train_pred_80)\n",
        "print(\"Matriks Kebingungan pada Data Pelatihan (Rasio 80:20):\\n\\n\", confusion_matrix_train_80)\n",
        "\n",
        "# ========== Rasio 90:10 ==========\n",
        "# Melakukan prediksi pada data pelatihan\n",
        "y_train_pred_90 = model.predict(X_train_90_flat)\n",
        "\n",
        "# Menghitung akurasi pada data pelatihan\n",
        "accuracy_train_90 = accuracy_score(y_train_90, y_train_pred_90)\n",
        "print(\"Akurasi pada Data Pelatihan (Rasio 90:10):\", accuracy_train_90)\n",
        "\n",
        "# Laporan Klasifikasi pada data pelatihan\n",
        "classification_report_train_90 = classification_report(y_train_90, y_train_pred_90)\n",
        "print(\"Laporan Klasifikasi pada Data Pelatihan (Rasio 90:10):\\n\", classification_report_train_90)\n",
        "\n",
        "# Matriks Kebingungan pada data pelatihan\n",
        "confusion_matrix_train_90 = confusion_matrix(y_train_90, y_train_pred_90)\n",
        "print(\"Matriks Kebingungan pada Data Pelatihan (Rasio 90:10):\\n\", confusion_matrix_train_90)\n"
      ],
      "metadata": {
        "id": "dcyzOZlR3Elq",
        "outputId": "c638c38a-405e-4ad4-d375-afa625ac6ee2",
        "colab": {
          "base_uri": "https://localhost:8080/"
        }
      },
      "execution_count": 106,
      "outputs": [
        {
          "output_type": "stream",
          "name": "stdout",
          "text": [
            "Akurasi pada Data Pelatihan (Rasio 70:30): 0.5656462585034013\n",
            "Laporan Klasifikasi pada Data Pelatihan (Rasio 70:30):\n",
            "               precision    recall  f1-score   support\n",
            "\n",
            "           0       0.69      0.92      0.79      4358\n",
            "           1       0.78      0.95      0.86      4907\n",
            "           2       0.88      0.29      0.44      4445\n",
            "           3       0.75      0.36      0.49      4477\n",
            "           4       0.83      0.19      0.30      4350\n",
            "           5       0.60      0.05      0.09      3942\n",
            "           6       0.65      0.94      0.77      4400\n",
            "           7       0.90      0.32      0.47      4578\n",
            "           8       0.31      0.63      0.41      4284\n",
            "           9       0.38      0.94      0.54      4359\n",
            "\n",
            "    accuracy                           0.57     44100\n",
            "   macro avg       0.68      0.56      0.52     44100\n",
            "weighted avg       0.68      0.57      0.52     44100\n",
            "\n",
            "Matriks Kebingungan pada Data Pelatihan (Rasio 70:30):\n",
            "\n",
            " [[4017    6   22   11    5   11  107    3  112   64]\n",
            " [   3 4641   10   21    3    9   48    3  115   54]\n",
            " [ 473  126 1299  300   25   24 1167   17  948   66]\n",
            " [ 372  236   35 1605   11    8  232   36 1476  466]\n",
            " [ 153   33   35   24  811   32  385   22  762 2093]\n",
            " [ 573  116   20   85   26  199  201    9 2321  392]\n",
            " [  55   91   21    1    3   17 4129    0   79    4]\n",
            " [  21   31    9   38   40    6   16 1454  121 2842]\n",
            " [  88  600   21   35   18   22   70    7 2695  728]\n",
            " [  30   41   11    8   32    2    2   60   78 4095]]\n",
            "Akurasi pada Data Pelatihan (Rasio 80:20): 0.5671428571428572\n",
            "Laporan Klasifikasi pada Data Pelatihan (Rasio 80:20):\n",
            "               precision    recall  f1-score   support\n",
            "\n",
            "           0       0.69      0.92      0.79      4967\n",
            "           1       0.79      0.95      0.86      5636\n",
            "           2       0.88      0.29      0.44      5089\n",
            "           3       0.75      0.36      0.49      5124\n",
            "           4       0.84      0.19      0.31      4962\n",
            "           5       0.60      0.05      0.10      4479\n",
            "           6       0.65      0.94      0.77      5042\n",
            "           7       0.90      0.32      0.47      5234\n",
            "           8       0.31      0.63      0.41      4838\n",
            "           9       0.38      0.94      0.54      5029\n",
            "\n",
            "    accuracy                           0.57     50400\n",
            "   macro avg       0.68      0.56      0.52     50400\n",
            "weighted avg       0.68      0.57      0.53     50400\n",
            "\n",
            "Matriks Kebingungan pada Data Pelatihan (Rasio 80:20):\n",
            "\n",
            " [[4581    8   26   15    5   14  120    3  126   69]\n",
            " [   3 5329   11   23    3   10   57    3  132   65]\n",
            " [ 553  142 1501  345   28   29 1327   18 1069   77]\n",
            " [ 425  273   40 1837   13   12  275   42 1675  532]\n",
            " [ 172   38   40   24  927   36  451   28  871 2375]\n",
            " [ 649  132   25   96   28  234  234   12 2620  449]\n",
            " [  59  103   23    1    3   20 4732    0   96    5]\n",
            " [  25   39    9   49   44    7   18 1676  140 3227]\n",
            " [ 100  672   23   41   19   24   75    8 3048  828]\n",
            " [  35   47   14    8   37    2    4   73   90 4719]]\n",
            "Akurasi pada Data Pelatihan (Rasio 90:10): 0.5656462585034013\n",
            "Laporan Klasifikasi pada Data Pelatihan (Rasio 90:10):\n",
            "               precision    recall  f1-score   support\n",
            "\n",
            "           0       0.69      0.92      0.79      4358\n",
            "           1       0.78      0.95      0.86      4907\n",
            "           2       0.88      0.29      0.44      4445\n",
            "           3       0.75      0.36      0.49      4477\n",
            "           4       0.83      0.19      0.30      4350\n",
            "           5       0.60      0.05      0.09      3942\n",
            "           6       0.65      0.94      0.77      4400\n",
            "           7       0.90      0.32      0.47      4578\n",
            "           8       0.31      0.63      0.41      4284\n",
            "           9       0.38      0.94      0.54      4359\n",
            "\n",
            "    accuracy                           0.57     44100\n",
            "   macro avg       0.68      0.56      0.52     44100\n",
            "weighted avg       0.68      0.57      0.52     44100\n",
            "\n",
            "Matriks Kebingungan pada Data Pelatihan (Rasio 90:10):\n",
            " [[4017    6   22   11    5   11  107    3  112   64]\n",
            " [   3 4641   10   21    3    9   48    3  115   54]\n",
            " [ 473  126 1299  300   25   24 1167   17  948   66]\n",
            " [ 372  236   35 1605   11    8  232   36 1476  466]\n",
            " [ 153   33   35   24  811   32  385   22  762 2093]\n",
            " [ 573  116   20   85   26  199  201    9 2321  392]\n",
            " [  55   91   21    1    3   17 4129    0   79    4]\n",
            " [  21   31    9   38   40    6   16 1454  121 2842]\n",
            " [  88  600   21   35   18   22   70    7 2695  728]\n",
            " [  30   41   11    8   32    2    2   60   78 4095]]\n"
          ]
        }
      ]
    },
    {
      "cell_type": "code",
      "source": [
        "from sklearn.metrics import accuracy_score, classification_report, confusion_matrix\n",
        "\n",
        "# ========== Rasio 70:30 ==========\n",
        "# Melakukan prediksi pada data pengujian\n",
        "y_test_pred_30 = model.predict(X_test_70_flat)\n",
        "\n",
        "# Menghitung akurasi pada data pengujian\n",
        "accuracy_test_30 = accuracy_score(y_test_70, y_test_pred_30)\n",
        "print(\"Akurasi pada Data Pengujian (Rasio 70:30):\", accuracy_test_30)\n",
        "\n",
        "# Laporan Klasifikasi pada data pengujian\n",
        "classification_report_test_30 = classification_report(y_test_70, y_test_pred_30)\n",
        "print(\"Laporan Klasifikasi pada Data Pengujian (Rasio 70:30):\\n\", classification_report_test_30)\n",
        "\n",
        "# Matriks Kebingungan pada data pengujian\n",
        "confusion_matrix_test_30 = confusion_matrix(y_test_70, y_test_pred_30)\n",
        "print(\"Matriks Kebingungan pada Data Pengujian (Rasio 70:30):\\n\", confusion_matrix_test_30)\n",
        "\n",
        "# ========== Rasio 80:20 ==========\n",
        "# Melakukan prediksi pada data pengujian\n",
        "y_test_pred_20 = model.predict(X_test_80_flat)\n",
        "\n",
        "# Menghitung akurasi pada data pengujian\n",
        "accuracy_test_20 = accuracy_score(y_test_80, y_test_pred_20)\n",
        "print(\"Akurasi pada Data Pengujian (Rasio 80:20):\", accuracy_test_20)\n",
        "\n",
        "# Laporan Klasifikasi pada data pengujian\n",
        "classification_report_test_20 = classification_report(y_test_80, y_test_pred_20)\n",
        "print(\"Laporan Klasifikasi pada Data Pengujian (Rasio 80:20):\\n\", classification_report_test_20)\n",
        "\n",
        "# Matriks Kebingungan pada data pengujian\n",
        "confusion_matrix_test_20 = confusion_matrix(y_test_80, y_test_pred_20)\n",
        "print(\"Matriks Kebingungan pada Data Pengujian (Rasio 80:20):\\n\", confusion_matrix_test_20)\n",
        "\n",
        "# ========== Rasio 90:10 ==========\n",
        "# Melakukan prediksi pada data pengujian\n",
        "y_test_pred_10 = model.predict(X_test_90_flat)\n",
        "\n",
        "# Menghitung akurasi pada data pengujian\n",
        "accuracy_test_10 = accuracy_score(y_test_90, y_test_pred_10)\n",
        "print(\"Akurasi pada Data Pengujian (Rasio 90:10):\", accuracy_test_10)\n",
        "\n",
        "# Laporan Klasifikasi pada data pengujian\n",
        "classification_report_test_10 = classification_report(y_test_90, y_test_pred_10)\n",
        "print(\"Laporan Klasifikasi pada Data Pengujian (Rasio 90:10):\\n\", classification_report_test_10)\n",
        "\n",
        "# Matriks Kebingungan pada data pengujian\n",
        "confusion_matrix_test_10 = confusion_matrix(y_test_90, y_test_pred_10)\n",
        "print(\"Matriks Kebingungan pada Data Pengujian (Rasio 90:10):\\n\", confusion_matrix_test_10)"
      ],
      "metadata": {
        "id": "6ufPHwXE3Iq4",
        "outputId": "c00539ab-2309-40f8-d677-8c5a9d6f89ce",
        "colab": {
          "base_uri": "https://localhost:8080/"
        }
      },
      "execution_count": 107,
      "outputs": [
        {
          "output_type": "stream",
          "name": "stdout",
          "text": [
            "Akurasi pada Data Pengujian (Rasio 70:30): 0.5692063492063492\n",
            "Laporan Klasifikasi pada Data Pengujian (Rasio 70:30):\n",
            "               precision    recall  f1-score   support\n",
            "\n",
            "           0       0.70      0.92      0.80      1862\n",
            "           1       0.79      0.95      0.86      2170\n",
            "           2       0.90      0.31      0.46      1871\n",
            "           3       0.75      0.37      0.50      1904\n",
            "           4       0.86      0.18      0.30      1863\n",
            "           5       0.60      0.06      0.11      1713\n",
            "           6       0.63      0.94      0.76      1799\n",
            "           7       0.90      0.33      0.48      1991\n",
            "           8       0.31      0.62      0.41      1848\n",
            "           9       0.38      0.94      0.55      1879\n",
            "\n",
            "    accuracy                           0.57     18900\n",
            "   macro avg       0.68      0.56      0.52     18900\n",
            "weighted avg       0.69      0.57      0.53     18900\n",
            "\n",
            "Matriks Kebingungan pada Data Pengujian (Rasio 70:30):\n",
            " [[1717    6   10   11    4    9   47    1   33   24]\n",
            " [   0 2052    2   10    0    4   35    0   45   22]\n",
            " [ 218   44  583  137   12   12  451    6  375   33]\n",
            " [ 146   98   15  705    2    7  115   15  615  186]\n",
            " [  52   20   12    4  333    9  191   13  375  854]\n",
            " [ 244   44    8   39    8  105  105    6  977  177]\n",
            " [  16   29    5    2    1    8 1695    0   40    3]\n",
            " [  12   21    0   16   16    3    6  650   57 1210]\n",
            " [  35  251    9   16    4   16   30    3 1146  338]\n",
            " [  11   17    6    3    9    3    2   31   25 1772]]\n",
            "Akurasi pada Data Pengujian (Rasio 80:20): 0.565\n",
            "Laporan Klasifikasi pada Data Pengujian (Rasio 80:20):\n",
            "               precision    recall  f1-score   support\n",
            "\n",
            "           0       0.71      0.92      0.80      1253\n",
            "           1       0.79      0.95      0.86      1441\n",
            "           2       0.90      0.31      0.46      1227\n",
            "           3       0.75      0.38      0.50      1257\n",
            "           4       0.85      0.17      0.29      1251\n",
            "           5       0.59      0.06      0.11      1176\n",
            "           6       0.63      0.94      0.75      1157\n",
            "           7       0.90      0.32      0.47      1335\n",
            "           8       0.31      0.61      0.41      1294\n",
            "           9       0.37      0.95      0.54      1209\n",
            "\n",
            "    accuracy                           0.56     12600\n",
            "   macro avg       0.68      0.56      0.52     12600\n",
            "weighted avg       0.68      0.56      0.53     12600\n",
            "\n",
            "Matriks Kebingungan pada Data Pengujian (Rasio 80:20):\n",
            " [[1153    4    6    7    4    6   34    1   19   19]\n",
            " [   0 1364    1    8    0    3   26    0   28   11]\n",
            " [ 138   28  381   92    9    7  291    5  254   22]\n",
            " [  93   61   10  473    0    3   72    9  416  120]\n",
            " [  33   15    7    4  217    5  125    7  266  572]\n",
            " [ 168   28    3   28    6   70   72    3  678  120]\n",
            " [  12   17    3    2    1    5 1092    0   23    2]\n",
            " [   8   13    0    5   12    2    4  428   38  825]\n",
            " [  23  179    7   10    3   14   25    2  793  238]\n",
            " [   6   11    3    3    4    3    0   18   13 1148]]\n",
            "Akurasi pada Data Pengujian (Rasio 90:10): 0.5692063492063492\n",
            "Laporan Klasifikasi pada Data Pengujian (Rasio 90:10):\n",
            "               precision    recall  f1-score   support\n",
            "\n",
            "           0       0.70      0.92      0.80      1862\n",
            "           1       0.79      0.95      0.86      2170\n",
            "           2       0.90      0.31      0.46      1871\n",
            "           3       0.75      0.37      0.50      1904\n",
            "           4       0.86      0.18      0.30      1863\n",
            "           5       0.60      0.06      0.11      1713\n",
            "           6       0.63      0.94      0.76      1799\n",
            "           7       0.90      0.33      0.48      1991\n",
            "           8       0.31      0.62      0.41      1848\n",
            "           9       0.38      0.94      0.55      1879\n",
            "\n",
            "    accuracy                           0.57     18900\n",
            "   macro avg       0.68      0.56      0.52     18900\n",
            "weighted avg       0.69      0.57      0.53     18900\n",
            "\n",
            "Matriks Kebingungan pada Data Pengujian (Rasio 90:10):\n",
            " [[1717    6   10   11    4    9   47    1   33   24]\n",
            " [   0 2052    2   10    0    4   35    0   45   22]\n",
            " [ 218   44  583  137   12   12  451    6  375   33]\n",
            " [ 146   98   15  705    2    7  115   15  615  186]\n",
            " [  52   20   12    4  333    9  191   13  375  854]\n",
            " [ 244   44    8   39    8  105  105    6  977  177]\n",
            " [  16   29    5    2    1    8 1695    0   40    3]\n",
            " [  12   21    0   16   16    3    6  650   57 1210]\n",
            " [  35  251    9   16    4   16   30    3 1146  338]\n",
            " [  11   17    6    3    9    3    2   31   25 1772]]\n"
          ]
        }
      ]
    },
    {
      "cell_type": "code",
      "source": [
        "def display_images_with_predictions(images, true_labels, predicted_labels, num_images):\n",
        "    plt.figure(figsize=(12, 3))\n",
        "    for i in range(num_images):\n",
        "        plt.subplot(1, num_images, i + 1)\n",
        "        plt.imshow(images[i].reshape((28, 28)), cmap='gray')\n",
        "        title = f\"True: {true_labels[i]}\\nPredicted: {predicted_labels[i]}\"\n",
        "        plt.title(title)\n",
        "        plt.axis('off')\n",
        "    plt.show()\n",
        "\n",
        "# Menampilkan citra dari data pengujian dengan prediksi (rasio 80:20)\n",
        "num_images_to_display = 5\n",
        "y_pred_test_80 = model.predict(X_test_70_flat)\n",
        "display_images_with_predictions(X_test[:num_images_to_display], y_test[:num_images_to_display], y_pred_test_80[:num_images_to_display], num_images_to_display)\n"
      ],
      "metadata": {
        "id": "sF8QGFq83Sog",
        "outputId": "62219513-ca72-498c-9bd9-cdcb70e97712",
        "colab": {
          "base_uri": "https://localhost:8080/",
          "height": 240
        }
      },
      "execution_count": 108,
      "outputs": [
        {
          "output_type": "display_data",
          "data": {
            "text/plain": [
              "<Figure size 1200x300 with 5 Axes>"
            ],
            "image/png": "[encoded data removed]"
          },
          "metadata": {}
        }
      ]
    },
    {
      "cell_type": "code",
      "source": [
        "Kesimpulan :\n",
        "Lima metode di atas tersebut digunakan untuk dilakukan prediksi terhadap dataset mnist yang merupakan gambar tulis tangan, dan dapat disimpulkan bahwa setelah melakukan proses tuning hyperparameter untuk model SVM dengan kernel RBF, metode dengan pengujian menggunakan ukuran data uji sebesar 10% (test_size 0.1) terbukti menjadi yang terbaik, menghasilkan akurasi sebesar 98.64% saat diuji. Metode lain yang menghasilakn akurasi tinggi adalah Multinomial Naive Bayes dengan PCA dengan data uji atau test_size sebesar 0,2 dengan akurasi 90,42%.\n",
        "\n"
      ],
      "metadata": {
        "id": "NAwnauKT3ZiG"
      },
      "execution_count": null,
      "outputs": []
    }
  ],
  "metadata": {
    "colab": {
      "name": "Selamat Datang di Colaboratory",
      "toc_visible": true,
      "provenance": []
    },
    "kernelspec": {
      "display_name": "Python 3",
      "name": "python3"
    }
  },
  "nbformat": 4,
  "nbformat_minor": 0
}