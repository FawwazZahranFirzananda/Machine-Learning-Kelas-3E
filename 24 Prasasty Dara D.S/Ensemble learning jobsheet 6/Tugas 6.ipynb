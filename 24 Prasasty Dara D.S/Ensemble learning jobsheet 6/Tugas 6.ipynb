{
  "cells": [
    {
      "cell_type": "code",
      "source": [
        "Tugas 1\n",
        "Terdapat dataset mushroom. Berdasarkan dataset yang tersebut, bandingkan peforma antara algoritma Decision Tree dan RandomForest. Gunakan tunning hyperparameter untuk mendapatkan parameter dan akurasi yang terbaik.\n",
        "\n",
        "Tugas 2\n",
        "Terdapat dataset mushroom. Berdasarkan dataset tersebut, bandingkan peforma antara algoritma Decision Tree dan AdaBoost. Gunakan tunning hyperparameter untuk mendapatkan parameter dan akurasi yang terbaik.\n",
        "\n",
        "Tugas 3\n",
        "Dengan menggunakan dataset diabetes, buatlah ensemble voting dengan algoritma\n",
        "-Logistic Regression\n",
        "-SVM kernel polynomial\n",
        "\n",
        "-Decission Tree\n",
        "Anda boleh melakukan eksplorasi dengan melakukan tunning hyperparameter"
      ],
      "metadata": {
        "id": "KGx4qTsqaweF"
      },
      "execution_count": null,
      "outputs": []
    },
    {
      "cell_type": "code",
      "source": [
        "import numpy as np\n",
        "import pandas as pd\n",
        "from sklearn.model_selection import train_test_split\n",
        "from sklearn.tree import DecisionTreeClassifier\n",
        "from sklearn.ensemble import RandomForestClassifier\n",
        "from sklearn.metrics import accuracy_score, classification_report"
      ],
      "metadata": {
        "id": "XkCx_sEIa381"
      },
      "execution_count": 22,
      "outputs": []
    },
    {
      "cell_type": "code",
      "source": [
        "df = pd.read_csv('data/mushrooms.csv')\n",
        "\n",
        "df.head()"
      ],
      "metadata": {
        "id": "dQL_KwXSbCWA"
      },
      "execution_count": null,
      "outputs": []
    },
    {
      "cell_type": "code",
      "source": [
        "class\tcap-shape\tcap-surface\tcap-color\tbruises\todor\tgill-attachment\tgill-spacing\tgill-size\tgill-color\t...\tstalk-surface-below-ring\tstalk-color-above-ring\tstalk-color-below-ring\tveil-type\tveil-color\tring-number\tring-type\tspore-print-color\tpopulation\thabitat\n",
        "0\tp\tx\ts\tn\tt\tp\tf\tc\tn\tk\t...\ts\tw\tw\tp\tw\to\tp\tk\ts\tu\n",
        "1\te\tx\ts\ty\tt\ta\tf\tc\tb\tk\t...\ts\tw\tw\tp\tw\to\tp\tn\tn\tg\n",
        "2\te\tb\ts\tw\tt\tl\tf\tc\tb\tn\t...\ts\tw\tw\tp\tw\to\tp\tn\tn\tm\n",
        "3\tp\tx\ty\tw\tt\tp\tf\tc\tn\tn\t...\ts\tw\tw\tp\tw\to\tp\tk\ts\tu\n",
        "4\te\tx\ts\tg\tf\tn\tf\tw\tb\tk\t...\ts\tw\tw\tp\tw\to\te\tn\ta\tg"
      ],
      "metadata": {
        "id": "Bu5HzUM-bN7Z"
      },
      "execution_count": null,
      "outputs": []
    },
    {
      "cell_type": "code",
      "source": [
        "# selanjutnya yaitu memisahkan label dan fiturnya\n",
        "X = df.iloc[:, 1:]\n",
        "y = df.iloc[:, 0]\n",
        "X"
      ],
      "metadata": {
        "id": "u8RY_vqkbOCl"
      },
      "execution_count": null,
      "outputs": []
    },
    {
      "cell_type": "code",
      "source": [
        "cap-shape\tcap-surface\tcap-color\tbruises\todor\tgill-attachment\tgill-spacing\tgill-size\tgill-color\tstalk-shape\t...\tstalk-surface-below-ring\tstalk-color-above-ring\tstalk-color-below-ring\tveil-type\tveil-color\tring-number\tring-type\tspore-print-color\tpopulation\thabitat\n",
        "0\tx\ts\tn\tt\tp\tf\tc\tn\tk\te\t...\ts\tw\tw\tp\tw\to\tp\tk\ts\tu\n",
        "1\tx\ts\ty\tt\ta\tf\tc\tb\tk\te\t...\ts\tw\tw\tp\tw\to\tp\tn\tn\tg\n",
        "2\tb\ts\tw\tt\tl\tf\tc\tb\tn\te\t...\ts\tw\tw\tp\tw\to\tp\tn\tn\tm\n",
        "3\tx\ty\tw\tt\tp\tf\tc\tn\tn\te\t...\ts\tw\tw\tp\tw\to\tp\tk\ts\tu\n",
        "4\tx\ts\tg\tf\tn\tf\tw\tb\tk\tt\t...\ts\tw\tw\tp\tw\to\te\tn\ta\tg\n",
        "...\t...\t...\t...\t...\t...\t...\t...\t...\t...\t...\t...\t...\t...\t...\t...\t...\t...\t...\t...\t...\t...\n",
        "8119\tk\ts\tn\tf\tn\ta\tc\tb\ty\te\t...\ts\to\to\tp\to\to\tp\tb\tc\tl\n",
        "8120\tx\ts\tn\tf\tn\ta\tc\tb\ty\te\t...\ts\to\to\tp\tn\to\tp\tb\tv\tl\n",
        "8121\tf\ts\tn\tf\tn\ta\tc\tb\tn\te\t...\ts\to\to\tp\to\to\tp\tb\tc\tl\n",
        "8122\tk\ty\tn\tf\ty\tf\tc\tn\tb\tt\t...\tk\tw\tw\tp\tw\to\te\tw\tv\tl\n",
        "8123\tx\ts\tn\tf\tn\ta\tc\tb\ty\te\t...\ts\to\to\tp\to\to\tp\to\tc\tl\n",
        "8124 rows × 22 columns"
      ],
      "metadata": {
        "id": "YrSQ-DQpbXIA"
      },
      "execution_count": null,
      "outputs": []
    },
    {
      "cell_type": "code",
      "source": [
        "from sklearn.preprocessing import LabelEncoder\n",
        "\n",
        "def feature_encode(df):\n",
        "    encode = LabelEncoder()\n",
        "    encoded_df = df.copy()  # Buat salinan DataFrame untuk menghindari peringatan\n",
        "\n",
        "    for col in encoded_df.columns:\n",
        "        encoded_df[col] = encode.fit_transform(encoded_df[col])\n",
        "\n",
        "    return encoded_df\n",
        "\n",
        "X = feature_encode(X)\n",
        "display(X)"
      ],
      "metadata": {
        "id": "ngTAoJMYbb-B"
      },
      "execution_count": null,
      "outputs": []
    },
    {
      "cell_type": "code",
      "source": [
        "cap-shape\tcap-surface\tcap-color\tbruises\todor\tgill-attachment\tgill-spacing\tgill-size\tgill-color\tstalk-shape\t...\tstalk-surface-below-ring\tstalk-color-above-ring\tstalk-color-below-ring\tveil-type\tveil-color\tring-number\tring-type\tspore-print-color\tpopulation\thabitat\n",
        "0\t5\t2\t4\t1\t6\t1\t0\t1\t4\t0\t...\t2\t7\t7\t0\t2\t1\t4\t2\t3\t5\n",
        "1\t5\t2\t9\t1\t0\t1\t0\t0\t4\t0\t...\t2\t7\t7\t0\t2\t1\t4\t3\t2\t1\n",
        "2\t0\t2\t8\t1\t3\t1\t0\t0\t5\t0\t...\t2\t7\t7\t0\t2\t1\t4\t3\t2\t3\n",
        "3\t5\t3\t8\t1\t6\t1\t0\t1\t5\t0\t...\t2\t7\t7\t0\t2\t1\t4\t2\t3\t5\n",
        "4\t5\t2\t3\t0\t5\t1\t1\t0\t4\t1\t...\t2\t7\t7\t0\t2\t1\t0\t3\t0\t1\n",
        "...\t...\t...\t...\t...\t...\t...\t...\t...\t...\t...\t...\t...\t...\t...\t...\t...\t...\t...\t...\t...\t...\n",
        "8119\t3\t2\t4\t0\t5\t0\t0\t0\t11\t0\t...\t2\t5\t5\t0\t1\t1\t4\t0\t1\t2\n",
        "8120\t5\t2\t4\t0\t5\t0\t0\t0\t11\t0\t...\t2\t5\t5\t0\t0\t1\t4\t0\t4\t2\n",
        "8121\t2\t2\t4\t0\t5\t0\t0\t0\t5\t0\t...\t2\t5\t5\t0\t1\t1\t4\t0\t1\t2\n",
        "8122\t3\t3\t4\t0\t8\t1\t0\t1\t0\t1\t...\t1\t7\t7\t0\t2\t1\t0\t7\t4\t2\n",
        "8123\t5\t2\t4\t0\t5\t0\t0\t0\t11\t0\t...\t2\t5\t5\t0\t1\t1\t4\t4\t1\t2\n",
        "8124 rows × 22 columns"
      ],
      "metadata": {
        "id": "XDICeWvqbhIO"
      },
      "execution_count": null,
      "outputs": []
    },
    {
      "cell_type": "code",
      "source": [
        "# lalu selanjutnya mengencode label\n",
        "encode = LabelEncoder()\n",
        "y = encode.fit_transform(y)\n",
        "print(y)"
      ],
      "metadata": {
        "id": "tzF1Al9FblHf"
      },
      "execution_count": null,
      "outputs": []
    },
    {
      "cell_type": "code",
      "source": [
        "[1 0 0 ... 0 1 0]"
      ],
      "metadata": {
        "id": "t6D8UdfFbphW"
      },
      "execution_count": null,
      "outputs": []
    },
    {
      "cell_type": "code",
      "source": [
        "# Selanjutnya split pada train test\n",
        "X_train, X_test, y_train, y_test = train_test_split(\n",
        "    X, y, test_size=0.3, random_state=50)\n",
        "\n",
        "# Lalu initiate Model\n",
        "dt_entropy = DecisionTreeClassifier(criterion='entropy')\n",
        "dt_gini = DecisionTreeClassifier(criterion='gini')\n",
        "\n",
        "# Entropy\n",
        "dt_entropy.fit(X_train, y_train)\n",
        "y_pred_entropy_train = dt_entropy.predict(X_train)\n",
        "y_pred_entropy = dt_entropy.predict(X_test)\n",
        "\n",
        "# Gini\n",
        "dt_gini.fit(X_train, y_train)\n",
        "y_pred_gini_train = dt_gini.predict(X_train)\n",
        "y_pred_gini = dt_gini.predict(X_test)\n",
        "\n",
        "# Evaluasi pada entropy dan gini\n",
        "# Entropy\n",
        "acc_entropy_train = accuracy_score(y_train, y_pred_entropy_train)\n",
        "acc_entropy = accuracy_score(y_test, y_pred_entropy)\n",
        "\n",
        "# Gini\n",
        "acc_gini_train = accuracy_score(y_train, y_pred_gini_train)\n",
        "acc_gini = accuracy_score(y_test, y_pred_gini)\n",
        "\n",
        "print(f'Akurasi Entropy Train: {acc_entropy_train}')\n",
        "print(f'Akurasi Entropy: {acc_entropy}')\n",
        "print('\\n')\n",
        "print(f'Akurasi Gini Train: {acc_gini_train}')\n",
        "print(f'Akurasi Gini: {acc_gini}')"
      ],
      "metadata": {
        "id": "veEzBxGwbsoH"
      },
      "execution_count": null,
      "outputs": []
    },
    {
      "cell_type": "code",
      "source": [
        "Akurasi Entropy Train: 1.0\n",
        "Akurasi Entropy: 1.0\n",
        "\n",
        "\n",
        "Akurasi Gini Train: 1.0\n",
        "Akurasi Gini: 1.0"
      ],
      "metadata": {
        "id": "GPxsG-Jubwdh"
      },
      "execution_count": null,
      "outputs": []
    },
    {
      "cell_type": "code",
      "source": [
        "# Selanjutnya kita menggunakan random forest, untuk mengetahui parameternya maka cek pada dokumentasi\n",
        "\n",
        "rf = RandomForestClassifier(n_estimators=10, random_state=50)\n",
        "\n",
        "# Menyesuaikan dt ke set training\n",
        "rf.fit(X_train, y_train)\n",
        "\n",
        "# Selanjutnya memprediksi label set test\n",
        "y_pred_rf = rf.predict(X_test)\n",
        "\n",
        "# Setelah itu menghitung set accuracy\n",
        "acc_rf = accuracy_score(y_test, y_pred_rf)\n",
        "print(\"Test set accuracy: {:.2f}\".format(acc_rf))\n",
        "print(f\"Test set accuracy: {acc_rf}\")"
      ],
      "metadata": {
        "id": "tjzwSKhtbzjZ"
      },
      "execution_count": null,
      "outputs": []
    },
    {
      "cell_type": "code",
      "source": [
        "Test set accuracy: 1.00\n",
        "Test set accuracy: 1.0"
      ],
      "metadata": {
        "id": "EycDloDZb3m3"
      },
      "execution_count": null,
      "outputs": []
    },
    {
      "cell_type": "code",
      "source": [
        "TUGAS 2 :"
      ],
      "metadata": {
        "id": "5DkEZIhcb87J"
      },
      "execution_count": null,
      "outputs": []
    },
    {
      "cell_type": "code",
      "source": [
        "import numpy as np\n",
        "import pandas as pd\n",
        "# mengimport DessionTree\n",
        "from sklearn.tree import DecisionTreeClassifier\n",
        "# mengimport AdaBoost\n",
        "from sklearn.ensemble import AdaBoostClassifier\n",
        "from sklearn.metrics import accuracy_score, classification_report\n",
        "from sklearn.preprocessing import LabelEncoder\n",
        "from sklearn.model_selection import train_test_split"
      ],
      "metadata": {
        "id": "_wBTlhg1cARY"
      },
      "execution_count": 23,
      "outputs": []
    },
    {
      "cell_type": "code",
      "source": [
        "# Selanjutnya kita menggunakan random AdaBoost, untuk mengetahui parameternya maka cek pada dokumentasi\n",
        "\n",
        "ada = AdaBoostClassifier(n_estimators=20)\n",
        "\n",
        "# Menyesuaikan dt ke set training\n",
        "ada.fit(X_train, y_train)\n",
        "\n",
        "# Selanjutnya memprediksi label set test\n",
        "y_pred_ada = ada.predict(X_test)\n",
        "\n",
        "# Setelah itu menghitung set accuracy\n",
        "acc_ada = accuracy_score(y_test, y_pred_ada)\n",
        "print(\"Test set accuracy: {:.2f}\".format(acc_ada))\n",
        "print(f\"Test set accuracy: {acc_ada}\")"
      ],
      "metadata": {
        "id": "aoLAIxSEcKCL"
      },
      "execution_count": null,
      "outputs": []
    },
    {
      "cell_type": "code",
      "source": [
        "TUGAS 3 :"
      ],
      "metadata": {
        "id": "YyAi9HcacLMc"
      },
      "execution_count": null,
      "outputs": []
    },
    {
      "cell_type": "code",
      "source": [
        "import numpy as np\n",
        "import pandas as pd\n",
        "# mengimport NaiveBayes\n",
        "from sklearn.naive_bayes import GaussianNB\n",
        "# mengimport svm\n",
        "from sklearn.svm import SVC\n",
        "# mengimport modelnya yaitu menggunakan voting\n",
        "from sklearn.ensemble import VotingClassifier\n",
        "from sklearn.model_selection import train_test_split\n",
        "from sklearn.metrics import accuracy_score, classification_report"
      ],
      "metadata": {
        "id": "Wm6Dbb1ccOkc"
      },
      "execution_count": 25,
      "outputs": []
    },
    {
      "cell_type": "code",
      "source": [
        "dbt = pd.read_csv('data/diabetes.csv')\n",
        "\n",
        "dbt.head()"
      ],
      "metadata": {
        "id": "pX4x1ueicTKa"
      },
      "execution_count": null,
      "outputs": []
    },
    {
      "cell_type": "code",
      "source": [
        "Pregnancies\tGlucose\tBloodPressure\tSkinThickness\tInsulin\tBMI\tDiabetesPedigreeFunction\tAge\tOutcome\n",
        "0\t6\t148\t72\t35\t0\t33.6\t0.627\t50\t1\n",
        "1\t1\t85\t66\t29\t0\t26.6\t0.351\t31\t0\n",
        "2\t8\t183\t64\t0\t0\t23.3\t0.672\t32\t1\n",
        "3\t1\t89\t66\t23\t94\t28.1\t0.167\t21\t0\n",
        "4\t0\t137\t40\t35\t168\t43.1\t2.288\t33\t1"
      ],
      "metadata": {
        "id": "JxxX-RclcaO6"
      },
      "execution_count": null,
      "outputs": []
    },
    {
      "cell_type": "code",
      "source": [
        "# Cek nama kolom\n",
        "dbt.columns"
      ],
      "metadata": {
        "id": "kDI1U1SDceb4"
      },
      "execution_count": null,
      "outputs": []
    },
    {
      "cell_type": "code",
      "source": [
        "Index(['Pregnancies', 'Glucose', 'BloodPressure', 'SkinThickness', 'Insulin',\n",
        "       'BMI', 'DiabetesPedigreeFunction', 'Age', 'Outcome'],\n",
        "      dtype='object')"
      ],
      "metadata": {
        "id": "O6viHjrlchXu"
      },
      "execution_count": null,
      "outputs": []
    },
    {
      "cell_type": "code",
      "source": [
        "# Cek kolom null\n",
        "dbt.isnull().sum()"
      ],
      "metadata": {
        "id": "Svpg2TMKclfq"
      },
      "execution_count": null,
      "outputs": []
    },
    {
      "cell_type": "code",
      "source": [
        "Pregnancies                 0\n",
        "Glucose                     0\n",
        "BloodPressure               0\n",
        "SkinThickness               0\n",
        "Insulin                     0\n",
        "BMI                         0\n",
        "DiabetesPedigreeFunction    0\n",
        "Age                         0\n",
        "Outcome                     0\n",
        "dtype: int64"
      ],
      "metadata": {
        "id": "anqh-fr3cq3n"
      },
      "execution_count": null,
      "outputs": []
    },
    {
      "cell_type": "code",
      "source": [
        "# Pada kasus ini, agak tidak masuk akal jika beberapa parameter bernilai 0\n",
        "# sebagai contoh adalah nilai 'Glucose', 'BloodPlessure' ataupun 'Insulin'.\n",
        "# Sekecil apapun nilainya, setiap manusia yang hidup pasti miliki nilai-nilai tersebut\n",
        "\n",
        "# Kita akan manipulasi nilai yang 0 dengan melakukan 'imputasi' atau mengganti nilainya dengan nilai sintetis\n",
        "# Pada kasus ini, kita akan menggunakan nilai mean\n",
        "\n",
        "# Cek kolom neng nilai 0\n",
        "feature_columns = ['Pregnancies', 'Glucose', 'BloodPressure',\n",
        "                   'SkinThickness', 'Insulin', 'BMI', 'DiabetesPedigreeFunction', 'Age']\n",
        "for column in feature_columns:\n",
        "    print(\"============================================\")\n",
        "    print(f\"{column} ==> Missing zeros : {len(dbt.loc[dbt[column] == 0])}\")"
      ],
      "metadata": {
        "id": "OqHUtvAucuRC"
      },
      "execution_count": null,
      "outputs": []
    },
    {
      "cell_type": "code",
      "source": [
        "============================================\n",
        "Pregnancies ==> Missing zeros : 111\n",
        "============================================\n",
        "Glucose ==> Missing zeros : 5\n",
        "============================================\n",
        "BloodPressure ==> Missing zeros : 35\n",
        "============================================\n",
        "SkinThickness ==> Missing zeros : 227\n",
        "============================================\n",
        "Insulin ==> Missing zeros : 374\n",
        "============================================\n",
        "BMI ==> Missing zeros : 11\n",
        "============================================\n",
        "DiabetesPedigreeFunction ==> Missing zeros : 0\n",
        "============================================\n",
        "Age ==> Missing zeros : 0"
      ],
      "metadata": {
        "id": "iNNG5xTJcxZk"
      },
      "execution_count": null,
      "outputs": []
    },
    {
      "cell_type": "code",
      "source": [
        "# Impute nilai 0 dengan mean\n",
        "from sklearn.impute import SimpleImputer\n",
        "\n",
        "fill_values = SimpleImputer(missing_values=0, strategy=\"mean\", copy=False)\n",
        "\n",
        "dbt[feature_columns] = fill_values.fit_transform(dbt[feature_columns])"
      ],
      "metadata": {
        "id": "PSFB2B0Jc74i"
      },
      "execution_count": null,
      "outputs": []
    },
    {
      "cell_type": "code",
      "source": [
        "X = dbt[feature_columns]\n",
        "y = dbt.Outcome\n",
        "\n",
        "X_train, X_test, y_train, y_test = train_test_split(X, y, test_size=0.3, random_state=42)"
      ],
      "metadata": {
        "id": "tAmIGOM4c8Xd"
      },
      "execution_count": null,
      "outputs": []
    },
    {
      "cell_type": "code",
      "source": [
        "dt_entropy = DecisionTreeClassifier(criterion='entropy')\n",
        "dt_gini = DecisionTreeClassifier(criterion='gini')\n",
        "\n",
        "# Fit model\n",
        "# Entropy\n",
        "dt_entropy.fit(X_train, y_train)\n",
        "y_pred_entropy_train = dt_entropy.predict(X_train)\n",
        "y_pred_entropy = dt_entropy.predict(X_test)\n",
        "\n",
        "# Gini\n",
        "dt_gini.fit(X_train, y_train)\n",
        "y_pred_gini_train = dt_gini.predict(X_train)\n",
        "y_pred_gini = dt_gini.predict(X_test)\n",
        "\n",
        "# Selanjutnya mengevaluasi entropy dan gini\n",
        "# Entropy\n",
        "acc_entropy_train = accuracy_score(y_train, y_pred_entropy_train)\n",
        "acc_entropy = accuracy_score(y_test, y_pred_entropy)\n",
        "\n",
        "# Gini\n",
        "acc_gini_train = accuracy_score(y_train, y_pred_gini_train)\n",
        "acc_gini = accuracy_score(y_test, y_pred_gini)\n",
        "\n",
        "print(f'Akurasi Entropy Train: {acc_entropy_train}')\n",
        "print(f'Akurasi Entropy: {acc_entropy}')\n",
        "print('\\n')\n",
        "print(f'Akurasi Gini Train: {acc_gini_train}')\n",
        "print(f'Akurasi Gini: {acc_gini}')"
      ],
      "metadata": {
        "id": "U0gMQWLUdBMn"
      },
      "execution_count": null,
      "outputs": []
    },
    {
      "cell_type": "code",
      "source": [
        "Akurasi Entropy Train: 1.0\n",
        "Akurasi Entropy: 0.6926406926406926\n",
        "\n",
        "\n",
        "Akurasi Gini Train: 1.0\n",
        "Akurasi Gini: 0.7186147186147186"
      ],
      "metadata": {
        "id": "tfGAF6Z6dE9x"
      },
      "execution_count": null,
      "outputs": []
    },
    {
      "cell_type": "code",
      "source": [
        "import numpy\n",
        "from sklearn import linear_model\n",
        "from sklearn.linear_model import LogisticRegression\n",
        "from sklearn import metrics\n",
        "\n",
        "X_train, X_test, y_train, y_test = train_test_split(\n",
        "    X, y, test_size=0.2, random_state=1)\n",
        "\n",
        "logreg = LogisticRegression(max_iter=5000)\n",
        "logreg.fit(X_train, y_train)\n",
        "y_pred = logreg.predict(X_test)\n",
        "print('Accuracy of logistic regression classifier on test set: {:.2f}'.format(logreg.score(X_test, y_test)))"
      ],
      "metadata": {
        "id": "TBbfCSvddMAv"
      },
      "execution_count": null,
      "outputs": []
    },
    {
      "cell_type": "code",
      "source": [
        "Accuracy of logistic regression classifier on test set: 0.78"
      ],
      "metadata": {
        "id": "BeFim_WhdMMc"
      },
      "execution_count": null,
      "outputs": []
    },
    {
      "cell_type": "code",
      "source": [
        "clf = SVC(kernel=\"poly\")\n",
        "clf.fit(X_train, y_train)\n",
        "\n",
        "ypred = clf.predict(X_test)"
      ],
      "metadata": {
        "id": "gCc6WvePdYwq"
      },
      "execution_count": null,
      "outputs": []
    },
    {
      "cell_type": "code",
      "source": [
        "from sklearn.metrics import accuracy_score\n",
        "score = accuracy_score(y_test, ypred)\n",
        "\n",
        "print(score)"
      ],
      "metadata": {
        "id": "SmXjliXAddOy"
      },
      "execution_count": null,
      "outputs": []
    },
    {
      "cell_type": "code",
      "source": [
        "0.7792207792207793"
      ],
      "metadata": {
        "id": "iVPMohv-djlL"
      },
      "execution_count": null,
      "outputs": []
    }
  ],
  "metadata": {
    "colab": {
      "name": "Selamat Datang di Colaboratory",
      "toc_visible": true,
      "provenance": []
    },
    "kernelspec": {
      "display_name": "Python 3",
      "name": "python3"
    }
  },
  "nbformat": 4,
  "nbformat_minor": 0
}