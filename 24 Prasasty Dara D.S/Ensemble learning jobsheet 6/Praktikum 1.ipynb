{
  "cells": [
    {
      "cell_type": "code",
      "source": [
        "import numpy as np\n",
        "import pandas as pd\n",
        "from sklearn.tree import DecisionTreeClassifier # import DT\n",
        "from sklearn.ensemble import RandomForestClassifier # import RandomForest\n",
        "from sklearn.model_selection import train_test_split\n",
        "from sklearn.metrics import accuracy_score, classification_report"
      ],
      "metadata": {
        "id": "o2G-TTHY7D52"
      },
      "execution_count": 1,
      "outputs": []
    },
    {
      "cell_type": "code",
      "source": [
        "# Load data\n",
        "df = pd.read_csv('data/wbc.csv')\n",
        "\n",
        "df.head()"
      ],
      "metadata": {
        "id": "drJgcRHS7dt9"
      },
      "execution_count": null,
      "outputs": []
    },
    {
      "cell_type": "code",
      "source": [
        "         id diagnosis  radius_mean  texture_mean  perimeter_mean  area_mean  \\\n",
        "0    842302         M        17.99         10.38          122.80     1001.0\n",
        "1    842517         M        20.57         17.77          132.90     1326.0\n",
        "2  84300903         M        19.69         21.25          130.00     1203.0\n",
        "3  84348301         M        11.42         20.38           77.58      386.1\n",
        "4  84358402         M        20.29         14.34          135.10     1297.0\n",
        "\n",
        "   smoothness_mean  compactness_mean  concavity_mean  concave points_mean  \\\n",
        "0          0.11840           0.27760          0.3001              0.14710\n",
        "1          0.08474           0.07864          0.0869              0.07017\n",
        "2          0.10960           0.15990          0.1974              0.12790\n",
        "3          0.14250           0.28390          0.2414              0.10520\n",
        "4          0.10030           0.13280          0.1980              0.10430\n",
        "\n",
        "   ...  texture_worst  perimeter_worst  area_worst  smoothness_worst  \\\n",
        "0  ...          17.33           184.60      2019.0            0.1622\n",
        "1  ...          23.41           158.80      1956.0            0.1238\n",
        "2  ...          25.53           152.50      1709.0            0.1444\n",
        "3  ...          26.50            98.87       567.7            0.2098\n",
        "4  ...          16.67           152.20      1575.0            0.1374\n",
        "\n",
        "   compactness_worst  concavity_worst  concave points_worst  symmetry_worst  \\\n",
        "0             0.6656           0.7119                0.2654          0.4601\n",
        "1             0.1866           0.2416                0.1860          0.2750\n",
        "2             0.4245           0.4504                0.2430          0.3613\n",
        "3             0.8663           0.6869                0.2575          0.6638\n",
        "4             0.2050           0.4000                0.1625          0.2364\n",
        "\n",
        "   fractal_dimension_worst  Unnamed: 32\n",
        "0                  0.11890          NaN\n",
        "1                  0.08902          NaN\n",
        "2                  0.08758          NaN\n",
        "3                  0.17300          NaN\n",
        "4                  0.07678          NaN\n",
        "\n",
        "[5 rows x 33 columns]"
      ],
      "metadata": {
        "id": "M13pQyxJ7hYU"
      },
      "execution_count": null,
      "outputs": []
    },
    {
      "cell_type": "code",
      "source": [
        "# Cek kolom null\n",
        "df.isnull().sum()"
      ],
      "metadata": {
        "id": "SahRMzqg7x-D"
      },
      "execution_count": null,
      "outputs": []
    },
    {
      "cell_type": "code",
      "source": [
        "id                           0\n",
        "diagnosis                    0\n",
        "radius_mean                  0\n",
        "texture_mean                 0\n",
        "perimeter_mean               0\n",
        "area_mean                    0\n",
        "smoothness_mean              0\n",
        "compactness_mean             0\n",
        "concavity_mean               0\n",
        "concave points_mean          0\n",
        "symmetry_mean                0\n",
        "fractal_dimension_mean       0\n",
        "radius_se                    0\n",
        "texture_se                   0\n",
        "perimeter_se                 0\n",
        "area_se                      0\n",
        "smoothness_se                0\n",
        "compactness_se               0\n",
        "concavity_se                 0\n",
        "concave points_se            0\n",
        "symmetry_se                  0\n",
        "fractal_dimension_se         0\n",
        "radius_worst                 0\n",
        "texture_worst                0\n",
        "perimeter_worst              0\n",
        "area_worst                   0\n",
        "smoothness_worst             0\n",
        "compactness_worst            0\n",
        "concavity_worst              0\n",
        "concave points_worst         0\n",
        "symmetry_worst               0\n",
        "fractal_dimension_worst      0\n",
        "Unnamed: 32                569\n",
        "dtype: int64"
      ],
      "metadata": {
        "id": "oBpPx7L-7zLI"
      },
      "execution_count": null,
      "outputs": []
    },
    {
      "cell_type": "code",
      "source": [
        "# Seleksi fitur\n",
        "\n",
        "# Slice dataframe mulai dari kolom 'radius_mean' sampai 'fractal_dimension_worst'\n",
        "X = df.iloc[:,3:-1]\n",
        "y = df['diagnosis']\n",
        "y = y.map({'M':1, 'B':0}) # Encode label\n",
        "\n",
        "# Cek jumlah fitur dan instance\n",
        "X.shape"
      ],
      "metadata": {
        "id": "9bIAlcRw7_pP"
      },
      "execution_count": null,
      "outputs": []
    },
    {
      "cell_type": "code",
      "source": [
        "(569, 30)"
      ],
      "metadata": {
        "id": "aYcZvTH38EUP"
      },
      "execution_count": null,
      "outputs": []
    },
    {
      "cell_type": "code",
      "source": [
        "# Secara default, DecisionTreeClassifier dari scikit-learn akan menggunakan nilai \"Gini\" untuk kriteria\n",
        "# Terdapat beberapa \"hyperparamater\" yang dapat digunakan. Silahka baca dokumentasi\n",
        "# Pada kasus ini kita akan menggunakan parameter default\n",
        "dt = DecisionTreeClassifier()\n",
        "\n",
        "# Sesuaikan dt ke set training\n",
        "dt.fit(X_train, y_train)\n",
        "\n",
        "# Memprediksi label set test\n",
        "y_pred_dt = dt.predict(X_test)\n",
        "\n",
        "#  menghitung set accuracy\n",
        "acc_dt = accuracy_score(y_test, y_pred_dt)\n",
        "print(\"Test set accuracy: {:.2f}\".format(acc_dt))\n",
        "print(f\"Test set accuracy: {acc_dt}\")"
      ],
      "metadata": {
        "id": "K899Rxze8Wwu"
      },
      "execution_count": null,
      "outputs": []
    },
    {
      "cell_type": "code",
      "source": [
        "Test set accuracy: 0.95\n",
        "Test set accuracy: 0.9473684210526315"
      ],
      "metadata": {
        "id": "h2FeALWa8bA8"
      },
      "execution_count": null,
      "outputs": []
    },
    {
      "cell_type": "code",
      "source": [
        "# Pada kasus kali ini kita akan menggunakan estimator pada RandomForest\n",
        "# Untuk detail parameter (hyperparameter) silahkan cek dokumentasi\n",
        "\n",
        "rf = RandomForestClassifier(n_estimators=10, random_state=1)\n",
        "\n",
        "# Sesuaikan dt ke set training\n",
        "rf.fit(X_train, y_train)\n",
        "\n",
        "# Memprediksi label set test\n",
        "y_pred_rf = rf.predict(X_test)\n",
        "\n",
        "#  menghitung set accuracy\n",
        "acc_rf = accuracy_score(y_test, y_pred_rf)\n",
        "print(\"Test set accuracy: {:.2f}\".format(acc_rf))\n",
        "print(f\"Test set accuracy: {acc_rf}\")"
      ],
      "metadata": {
        "id": "sr6hcbIy8hkL"
      },
      "execution_count": null,
      "outputs": []
    },
    {
      "cell_type": "code",
      "source": [
        "Test set accuracy: 0.96\n",
        "Test set accuracy: 0.956140350877193"
      ],
      "metadata": {
        "id": "v2qVK4e-8kDA"
      },
      "execution_count": null,
      "outputs": []
    }
  ],
  "metadata": {
    "colab": {
      "name": "Selamat Datang di Colaboratory",
      "toc_visible": true,
      "provenance": []
    },
    "kernelspec": {
      "display_name": "Python 3",
      "name": "python3"
    }
  },
  "nbformat": 4,
  "nbformat_minor": 0
}