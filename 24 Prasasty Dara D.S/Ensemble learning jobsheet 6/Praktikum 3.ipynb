{
  "cells": [
    {
      "cell_type": "code",
      "source": [
        "from sklearn.ensemble import RandomForestClassifier, AdaBoostClassifier, StackingClassifier\n",
        "from sklearn.linear_model import LogisticRegression\n",
        "from sklearn.model_selection import train_test_split\n",
        "from sklearn.neighbors import KNeighborsClassifier\n",
        "from sklearn.tree import DecisionTreeClassifier\n",
        "from sklearn.datasets import load_iris  # Contoh menggunakan dataset Iris\n",
        "\n",
        "# Load dataset (gunakan dataset yang sesuai dengan tugas Anda)\n",
        "data = load_iris()\n",
        "X = data.data\n",
        "y = data.target\n",
        "\n",
        "# Definisikan estimator untuk lapisan pertama\n",
        "layer_one_estimators = [\n",
        "    ('rf_1', RandomForestClassifier(n_estimators=10, random_state=42)),\n",
        "    ('knn_1', KNeighborsClassifier(n_neighbors=5))\n",
        "]\n",
        "\n",
        "# Definisikan estimator untuk lapisan kedua\n",
        "layer_two_estimators = [\n",
        "    ('dt_2', DecisionTreeClassifier()),\n",
        "    ('rf_2', RandomForestClassifier(n_estimators=50, random_state=42))\n",
        "]\n",
        "\n",
        "# Buat StackingClassifier dengan estimator lapisan kedua dan final estimator\n",
        "layer_two = StackingClassifier(estimators=layer_two_estimators, final_estimator=LogisticRegression())\n",
        "\n",
        "# Buat StackingClassifier dengan estimator lapisan pertama dan final estimator lapisan kedua\n",
        "clf = StackingClassifier(estimators=layer_one_estimators, final_estimator=layer_two)\n",
        "\n",
        "# Bagi dataset menjadi data latih dan data uji\n",
        "X_train, X_test, y_train, y_test = train_test_split(X, y, stratify=y, random_state=42)\n",
        "\n",
        "# Latih model\n",
        "clf.fit(X_train, y_train)\n",
        "\n",
        "# Hitung akurasi model Stacking\n",
        "stacking_accuracy = clf.score(X_test, y_test)\n",
        "\n",
        "# Latih model Random Forest\n",
        "rf = RandomForestClassifier(n_estimators=100, random_state=42)\n",
        "rf.fit(X_train, y_train)\n",
        "\n",
        "# Hitung akurasi model Random Forest\n",
        "rf_accuracy = rf.score(X_test, y_test)\n",
        "\n",
        "# Latih model AdaBoost\n",
        "adaboost = AdaBoostClassifier(n_estimators=50, random_state=42)\n",
        "adaboost.fit(X_train, y_train)\n",
        "\n",
        "# Hitung akurasi model AdaBoost\n",
        "adaboost_accuracy = adaboost.score(X_test, y_test)\n",
        "\n",
        "# Bandingkan akurasi\n",
        "print(\"Akurasi Stacking Classifier:\", stacking_accuracy)\n",
        "print(\"Akurasi Random Forest:\", rf_accuracy)\n",
        "print(\"Akurasi AdaBoost:\", adaboost_accuracy)\n",
        "\n",
        "# Perbedaan nilai akurasi antara model Stacking dan Random Forest\n",
        "perbedaan_stacking_rf = stacking_accuracy - rf_accuracy\n",
        "\n",
        "# Perbedaan nilai akurasi antara model Stacking dan AdaBoost\n",
        "perbedaan_stacking_adaboost = stacking_accuracy - adaboost_accuracy\n",
        "\n",
        "print(\"Perbedaan akurasi antara Stacking dan Random Forest:\", perbedaan_stacking_rf)\n",
        "print(\"Perbedaan akurasi antara Stacking dan AdaBoost:\", perbedaan_stacking_adaboost)\n"
      ],
      "metadata": {
        "id": "g1u15VfS_1Jy",
        "outputId": "4995ff0c-53e5-4ef7-c904-94cd974cb8cc",
        "colab": {
          "base_uri": "https://localhost:8080/"
        }
      },
      "execution_count": 15,
      "outputs": [
        {
          "output_type": "stream",
          "name": "stdout",
          "text": [
            "Akurasi Stacking Classifier: 0.9736842105263158\n",
            "Akurasi Random Forest: 0.9210526315789473\n",
            "Akurasi AdaBoost: 0.8947368421052632\n",
            "Perbedaan akurasi antara Stacking dan Random Forest: 0.052631578947368474\n",
            "Perbedaan akurasi antara Stacking dan AdaBoost: 0.07894736842105265\n"
          ]
        }
      ]
    }
  ],
  "metadata": {
    "colab": {
      "name": "Selamat Datang di Colaboratory",
      "toc_visible": true,
      "provenance": []
    },
    "kernelspec": {
      "display_name": "Python 3",
      "name": "python3"
    }
  },
  "nbformat": 4,
  "nbformat_minor": 0
}