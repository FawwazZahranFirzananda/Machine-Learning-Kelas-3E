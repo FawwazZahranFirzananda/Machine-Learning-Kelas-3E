{
  "cells": [
    {
      "cell_type": "code",
      "source": [
        "import pandas as pd\n",
        "import matplotlib.pyplot as plt\n",
        "import numpy as np\n",
        "from sklearn.svm import SVC\n",
        "from sklearn.decomposition import PCA as RandomizedPCA\n",
        "from sklearn.pipeline import make_pipeline\n",
        "import seaborn as sns\n",
        "from sklearn.preprocessing import LabelEncoder, StandardScaler\n",
        "from sklearn.model_selection import train_test_split"
      ],
      "metadata": {
        "id": "m_u2jC1iWsAF"
      },
      "execution_count": 14,
      "outputs": []
    },
    {
      "cell_type": "code",
      "source": [
        "df = pd.read_csv('data/voice.csv') #membaca data dari file CSV\n",
        "df.head()"
      ],
      "metadata": {
        "id": "9n9VEKFvWsg7"
      },
      "execution_count": null,
      "outputs": []
    },
    {
      "cell_type": "code",
      "source": [
        "meanfreq\tsd\tmedian\tQ25\tQ75\tIQR\tskew\tkurt\tsp.ent\tsfm\t...\tcentroid\tmeanfun\tminfun\tmaxfun\tmeandom\tmindom\tmaxdom\tdfrange\tmodindx\tlabel\n",
        "0\t0.059781\t0.064241\t0.032027\t0.015071\t0.090193\t0.075122\t12.863462\t274.402906\t0.893369\t0.491918\t...\t0.059781\t0.084279\t0.015702\t0.275862\t0.007812\t0.007812\t0.007812\t0.000000\t0.000000\tmale\n",
        "1\t0.066009\t0.067310\t0.040229\t0.019414\t0.092666\t0.073252\t22.423285\t634.613855\t0.892193\t0.513724\t...\t0.066009\t0.107937\t0.015826\t0.250000\t0.009014\t0.007812\t0.054688\t0.046875\t0.052632\tmale\n",
        "2\t0.077316\t0.083829\t0.036718\t0.008701\t0.131908\t0.123207\t30.757155\t1024.927705\t0.846389\t0.478905\t...\t0.077316\t0.098706\t0.015656\t0.271186\t0.007990\t0.007812\t0.015625\t0.007812\t0.046512\tmale\n",
        "3\t0.151228\t0.072111\t0.158011\t0.096582\t0.207955\t0.111374\t1.232831\t4.177296\t0.963322\t0.727232\t...\t0.151228\t0.088965\t0.017798\t0.250000\t0.201497\t0.007812\t0.562500\t0.554688\t0.247119\tmale\n",
        "4\t0.135120\t0.079146\t0.124656\t0.078720\t0.206045\t0.127325\t1.101174\t4.333713\t0.971955\t0.783568\t...\t0.135120\t0.106398\t0.016931\t0.266667\t0.712812\t0.007812\t5.484375\t5.476562\t0.208274\tmale"
      ],
      "metadata": {
        "id": "yjPL4HGdWzIt"
      },
      "execution_count": null,
      "outputs": []
    },
    {
      "cell_type": "code",
      "source": [
        "Mengubah male dan female menjadi angka 0 dan 1"
      ],
      "metadata": {
        "id": "uB4RpOHhW35G"
      },
      "execution_count": null,
      "outputs": []
    },
    {
      "cell_type": "code",
      "source": [
        "encoder = LabelEncoder()\n",
        "df['label'] = encoder.fit_transform(df['label']) #Menggunakan encoder untuk mengubah label menjadi bentuk yang dapat diproses oleh model\n",
        "df['label'].head() #Menampilkan lima baris pertama"
      ],
      "metadata": {
        "id": "WRGq7ii8XEDJ"
      },
      "execution_count": null,
      "outputs": []
    },
    {
      "cell_type": "code",
      "source": [
        "0    1\n",
        "1    1\n",
        "2    1\n",
        "3    1\n",
        "4    1\n",
        "Name: label, dtype: int32"
      ],
      "metadata": {
        "id": "HVPXGGTsXFHW"
      },
      "execution_count": null,
      "outputs": []
    },
    {
      "cell_type": "code",
      "source": [
        "plt.figure(figsize=(10, 8)) #Membuat gambar dengan ukuran 10x8 inch untuk mempersiapkan visualisasi.\n",
        "corr_matrix = df.corr()     #Menghitung matriks korelasi antar fitur dalam DataFrame.\n",
        "sns.set(font_scale=1.2)     #Mengatur skala font\n",
        "sns.heatmap(corr_matrix,\n",
        "            cmap='coolwarm',\n",
        "            linewidths=0.5,\n",
        "            fmt=\".2f\",\n",
        "            cbar=True,\n",
        "            square=True)\n",
        "#Membuat heatmap dari matriks korelasi. Warna diatur dengan peta warna 'coolwarm', lebar garis sekitar kotak diatur menjadi 0.5, dan angka-angka dalam sel ditampilkan dengan dua desimal.\n",
        "\n",
        "plt.title('Heatmap Korelasi') #Menambahkan judul pada heatmap.\n",
        "plt.show() #Menampilkan heatmap hasil korelasi antar fitur."
      ],
      "metadata": {
        "id": "m0HDd-ZvXLOn"
      },
      "execution_count": null,
      "outputs": []
    },
    {
      "cell_type": "code",
      "source": [
        "df.drop(['dfrange', 'centroid'], axis=1, inplace=True)\n",
        "#Menghapus kolom 'dfrange' dan 'centroid' dari DataFrame df. Axis=1 menunjukkan bahwa yang dihapus adalah kolom, dan in"
      ],
      "metadata": {
        "id": "SaEg21RaXd0Y"
      },
      "execution_count": null,
      "outputs": []
    },
    {
      "cell_type": "code",
      "source": [
        "X = df[df.columns.difference(['label'])] #Mengambil semua kolom kecuali kolom 'label' dan menyimpannya dalam variabel X\n",
        "y = df['label'] #Menyimpan kolom 'label' dalam variabel y"
      ],
      "metadata": {
        "id": "Xg4n3BkGXd-d"
      },
      "execution_count": null,
      "outputs": []
    },
    {
      "cell_type": "code",
      "source": [
        "scaler = StandardScaler() #Membuat objek penskalaan standar.\n",
        "X = scaler.fit_transform(X) #Melakukan penskalaan standar pada fitur-fitur dalam X.\n",
        "X"
      ],
      "metadata": {
        "id": "ft3PJOTSXeI6"
      },
      "execution_count": null,
      "outputs": []
    },
    {
      "cell_type": "code",
      "source": [
        "array([[-0.21477826, -2.57610164, -5.69360723, ...,  0.4715753 ,\n",
        "         2.29330585, -0.03908279],\n",
        "       [-0.25848536, -2.48688452, -5.58898726, ...,  0.59443122,\n",
        "         4.54805598, -0.06523603],\n",
        "       [ 0.90932569, -2.7069865 , -3.92869875, ...,  0.39826097,\n",
        "         6.51365636, -1.08373029],\n",
        "       ...,\n",
        "       [ 2.49266553, -2.1990394 , -0.01712269, ...,  1.38585653,\n",
        "        -0.29804429,  1.15019826],\n",
        "       [ 2.15365344, -1.99185206, -0.20402146, ...,  1.50571108,\n",
        "        -0.36536651,  1.22984967],\n",
        "       [ 2.25467137, -1.44608897,  1.10267866, ...,  1.08912637,\n",
        "        -0.33848726,  0.97175912]])"
      ],
      "metadata": {
        "id": "Om93hv7ZXr7H"
      },
      "execution_count": null,
      "outputs": []
    },
    {
      "cell_type": "code",
      "source": [
        "df['label'].value_counts().plot(kind='bar',figsize = (15,5),fontsize = 14,colormap='Dark2') #Menghitung jumlah masing-masing nilai dalam kolom 'label' dan membuat diagram batang untuk memvisualisasikan distribusinya.\n",
        "plt.xlabel('Gender')\n",
        "plt.ylabel('No. of persons')\n",
        "#Menambahkan label pada sumbu x dan y pada diagram batang."
      ],
      "metadata": {
        "id": "e4VZjDFUXv1N"
      },
      "execution_count": null,
      "outputs": []
    },
    {
      "cell_type": "code",
      "source": [
        "Text(0, 0.5, 'No. of persons')"
      ],
      "metadata": {
        "id": "vuykEEakXwCe"
      },
      "execution_count": null,
      "outputs": []
    },
    {
      "cell_type": "code",
      "source": [
        "X_train, X_test, y_train, y_test = train_test_split(X, y, test_size=0.3) #Memisahkan data menjadi set pelatihan dan pengujian"
      ],
      "metadata": {
        "id": "dqg12RaJX8le"
      },
      "execution_count": null,
      "outputs": []
    },
    {
      "cell_type": "code",
      "source": [
        "from sklearn.svm import SVC\n",
        "from sklearn import metrics #mengukur kinerja model\n",
        "svc=SVC() #Membuat objek SVC untuk SVM"
      ],
      "metadata": {
        "id": "vH9ld-NAX8o-"
      },
      "execution_count": 19,
      "outputs": []
    },
    {
      "cell_type": "code",
      "source": [
        "df = pd.read_csv('data/spam.csv', encoding='ISO-8859–1') #Membaca file CSV 'spam.csv' dan memuatnya sebagai DataFrame df dengan mengatur encoding ke 'ISO-8859–1'.\n",
        "df.head()"
      ],
      "metadata": {
        "id": "-3kiSOzPYMGf"
      },
      "execution_count": null,
      "outputs": []
    },
    {
      "cell_type": "code",
      "source": [
        "df = pd.read_csv('data/spam.csv', encoding='ISO-8859–1') #Membaca file CSV 'spam.csv' dan memuatnya sebagai DataFrame df dengan mengatur encoding ke 'ISO-8859–1'.\n",
        "df.head()"
      ],
      "metadata": {
        "id": "4VT6otytYDck"
      },
      "execution_count": null,
      "outputs": []
    },
    {
      "cell_type": "code",
      "source": [
        "v1\tv2\tUnnamed: 2\tUnnamed: 3\tUnnamed: 4\n",
        "0\tham\tGo until jurong point, crazy.. Available only ...\tNaN\tNaN\tNaN\n",
        "1\tham\tOk lar... Joking wif u oni...\tNaN\tNaN\tNaN\n",
        "2\tspam\tFree entry in 2 a wkly comp to win FA Cup fina...\tNaN\tNaN\tNaN\n",
        "3\tham\tU dun say so early hor... U c already then say...\tNaN\tNaN\tNaN\n",
        "4\tham\tNah I don't think he goes to usf, he lives aro...\tNaN\tNaN\tNaN"
      ],
      "metadata": {
        "id": "etMnLSjxYN0d"
      },
      "execution_count": null,
      "outputs": []
    },
    {
      "cell_type": "code",
      "source": [
        "df = df.drop(df.iloc[:, 2:], axis=1) #Menghapus kolom-kolom setelah kolom kedua\n",
        "df.head()"
      ],
      "metadata": {
        "id": "9ERN7jCRYa7B"
      },
      "execution_count": null,
      "outputs": []
    },
    {
      "cell_type": "code",
      "source": [
        "v1\tv2\n",
        "0\tham\tGo until jurong point, crazy.. Available only ...\n",
        "1\tham\tOk lar... Joking wif u oni...\n",
        "2\tspam\tFree entry in 2 a wkly comp to win FA Cup fina...\n",
        "3\tham\tU dun say so early hor... U c already then say...\n",
        "4\tham\tNah I don't think he goes to usf, he lives aro..."
      ],
      "metadata": {
        "id": "BxI_0uZYYbGP"
      },
      "execution_count": null,
      "outputs": []
    },
    {
      "cell_type": "code",
      "source": [
        "cols = {\n",
        "    'v1' : 'Labels',\n",
        "    'v2' : 'SMS'\n",
        "} #Membuat kamus cols untuk mengubah nama kolom 'v1' menjadi 'Labels' dan 'v2' menjadi 'SMS'.\n",
        "\n",
        "df = df.rename(columns=cols) #Mengubah nama kolom menggunakan kamus yang telah dibuat.\n",
        "df.head()"
      ],
      "metadata": {
        "id": "hrCF0C5CYff1"
      },
      "execution_count": null,
      "outputs": []
    },
    {
      "cell_type": "code",
      "source": [
        "Labels\tSMS\n",
        "0\tham\tGo until jurong point, crazy.. Available only ...\n",
        "1\tham\tOk lar... Joking wif u oni...\n",
        "2\tspam\tFree entry in 2 a wkly comp to win FA Cup fina...\n",
        "3\tham\tU dun say so early hor... U c already then say...\n",
        "4\tham\tNah I don't think he goes to usf, he lives aro..."
      ],
      "metadata": {
        "id": "qBX192X8YjaL"
      },
      "execution_count": null,
      "outputs": []
    },
    {
      "cell_type": "code",
      "source": [
        "labels = {\n",
        "    'spam' : 1,\n",
        "    'ham' : 0\n",
        "} #Membuat kamus labels untuk mengubah nilai 'spam' menjadi 1 dan 'ham' menjadi 0 dalam kolom 'Labels'.\n",
        "\n",
        "df['Labels'] = df['Labels'].map(labels) #Mengaplikasikan mapping yang telah didefinisikan ke dalam kolom 'Labels'.\n",
        "df.head()"
      ],
      "metadata": {
        "id": "rmxENUuoYqQs"
      },
      "execution_count": null,
      "outputs": []
    },
    {
      "cell_type": "code",
      "source": [
        "Labels\tSMS\n",
        "0\t0\tGo until jurong point, crazy.. Available only ...\n",
        "1\t0\tOk lar... Joking wif u oni...\n",
        "2\t1\tFree entry in 2 a wkly comp to win FA Cup fina...\n",
        "3\t0\tU dun say so early hor... U c already then say...\n",
        "4\t0\tNah I don't think he goes to usf, he lives aro..."
      ],
      "metadata": {
        "id": "PgeTSvTgYvKy"
      },
      "execution_count": null,
      "outputs": []
    },
    {
      "cell_type": "code",
      "source": [
        "X = df['SMS'].values\n",
        "y = df['Labels'].values\n",
        "#Menetapkan nilai dari kolom 'SMS' ke X sebagai fitur dan dari kolom 'Labels' ke y sebagai target."
      ],
      "metadata": {
        "id": "MUkOWm5nY6Te"
      },
      "execution_count": null,
      "outputs": []
    },
    {
      "cell_type": "code",
      "source": [
        "from sklearn.feature_extraction.text import CountVectorizer #Mengimpor CountVectorizer untuk mengubah teks menjadi vektor fitur yang dapat digunakan oleh algoritma pembelajaran mesin.\n",
        "\n",
        "cv = CountVectorizer(decode_error='ignore', stop_words='english') #Membuat objek CountVectorizer dengan mengabaikan kesalahan dekode dan menghilangkan kata-kata umum bahasa Inggris (stop words).\n",
        "X = cv.fit_transform(X) #Mengubah data teks (X) menjadi vektor fitur."
      ],
      "metadata": {
        "id": "5D4JnQBYY6go"
      },
      "execution_count": null,
      "outputs": []
    },
    {
      "cell_type": "code",
      "source": [
        "Bagi data menjadi 2 bagian dengan train 70% dan test 30%"
      ],
      "metadata": {
        "id": "5cCbmZTVZIAF"
      },
      "execution_count": null,
      "outputs": []
    },
    {
      "cell_type": "code",
      "source": [
        "X_train, X_test, y_train, y_test = train_test_split(X, y, test_size=0.3, random_state=50)"
      ],
      "metadata": {
        "id": "fX5cnWQ3ZNGu"
      },
      "execution_count": null,
      "outputs": []
    },
    {
      "cell_type": "code",
      "source": [
        "import dan fit data menggunakan model MultinomialNB"
      ],
      "metadata": {
        "id": "pNDQTXrGZQcA"
      },
      "execution_count": null,
      "outputs": []
    },
    {
      "cell_type": "code",
      "source": [
        "from sklearn.naive_bayes import MultinomialNB\n",
        "\n",
        "model = MultinomialNB() #Membuat objek model Naive Bayes.\n",
        "model.fit(X_train, y_train) #Melatih model Naive Bayes dengan menggunakan data pelatihan\n",
        "\n",
        "print('training accuracy is --> ',model.score(X_train,y_train) * 100) #Mencetak akurasi pelatihan dari model Naive Bayes.\n",
        "print('test accuracy is --> ',model.score(X_test,y_test) * 100) #Mencetak akurasi pengujian dari model Naive Bayes"
      ],
      "metadata": {
        "id": "9bxQQQzhZTgE"
      },
      "execution_count": null,
      "outputs": []
    },
    {
      "cell_type": "code",
      "source": [
        "training accuracy is -->  99.51282051282051\n",
        "test accuracy is -->  97.54784688995215"
      ],
      "metadata": {
        "id": "wbV8H7GLZZ0Z"
      },
      "execution_count": null,
      "outputs": []
    },
    {
      "cell_type": "code",
      "source": [
        "from sklearn.feature_extraction.text import TfidfVectorizer\n",
        "cv = TfidfVectorizer(stop_words='english')"
      ],
      "metadata": {
        "id": "XWp-jJpmZiAE"
      },
      "execution_count": null,
      "outputs": []
    },
    {
      "cell_type": "code",
      "source": [
        "X = df['SMS'].values\n",
        "y = df['Labels'].values"
      ],
      "metadata": {
        "id": "OUmgiITfZp81"
      },
      "execution_count": null,
      "outputs": []
    },
    {
      "cell_type": "code",
      "source": [
        "X = cv.fit_transform(X)"
      ],
      "metadata": {
        "id": "VZC2NdmHZuhw"
      },
      "execution_count": null,
      "outputs": []
    },
    {
      "cell_type": "code",
      "source": [
        "X_train, X_test, y_train, y_test = train_test_split(X, y, test_size=0.3, random_state=50)"
      ],
      "metadata": {
        "id": "Eqk4hPhXZzO0"
      },
      "execution_count": null,
      "outputs": []
    },
    {
      "cell_type": "code",
      "source": [
        "model = MultinomialNB()\n",
        "model.fit(X_train, y_train)\n",
        "\n",
        "print('training accuracy is --> ',model.score(X_train,y_train) * 100)\n",
        "print('test accuracy is --> ',model.score(X_test,y_test) * 100)"
      ],
      "metadata": {
        "id": "LQMdRXPoZqHe"
      },
      "execution_count": null,
      "outputs": []
    },
    {
      "cell_type": "code",
      "source": [
        "training accuracy is -->  98.17948717948718\n",
        "test accuracy is -->  96.11244019138756"
      ],
      "metadata": {
        "id": "_4jumL-7Z4ku"
      },
      "execution_count": null,
      "outputs": []
    }
  ],
  "metadata": {
    "colab": {
      "name": "Selamat Datang di Colaboratory",
      "toc_visible": true,
      "provenance": []
    },
    "kernelspec": {
      "display_name": "Python 3",
      "name": "python3"
    }
  },
  "nbformat": 4,
  "nbformat_minor": 0
}